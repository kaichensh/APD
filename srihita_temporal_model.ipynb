{
 "cells": [
  {
   "cell_type": "code",
   "execution_count": 1,
   "metadata": {},
   "outputs": [],
   "source": [
    "import os\n",
    "\n",
    "gpus = [1]\n",
    "os.environ['CUDA_VISIBLE_DEVICES']=','.join([str(i) for i in gpus])"
   ]
  },
  {
   "cell_type": "code",
   "execution_count": 2,
   "metadata": {},
   "outputs": [],
   "source": [
    "import tensorflow as tf \n",
    "import tensorflow.keras as keras\n",
    "import numpy as np \n",
    "from oe_acute import MNE\n",
    "import pickle\n",
    "import sys\n",
    "import random\n",
    "#from AE import MDSAE as ae\n",
    "from network_visualisation import plot_these_aud_weights\n",
    "import network_visualisation\n",
    "import quantify_aud_strfs\n",
    "import matplotlib.pyplot as plt"
   ]
  },
  {
   "cell_type": "markdown",
   "metadata": {},
   "source": [
    "### Allocate GPUs"
   ]
  },
  {
   "cell_type": "code",
   "execution_count": 3,
   "metadata": {},
   "outputs": [],
   "source": [
    "gpus = [1] # Here I set CUDA to only see one GPU\n",
    "os.environ[\"CUDA_DEVICE_ORDER\"]=\"PCI_BUS_ID\"   # see issue #152\n",
    "os.environ[\"CUDA_VISIBLE_DEVICES\"]=','.join([str(i) for i in gpus])\n",
    "num_gpus = len(gpus) # number of GPUs to use\n",
    "if len(gpus) < 1:\n",
    "    num_gpus = 1 "
   ]
  },
  {
   "cell_type": "code",
   "execution_count": 4,
   "metadata": {},
   "outputs": [
    {
     "name": "stdout",
     "output_type": "stream",
     "text": [
      "['/device:GPU:0']\n"
     ]
    }
   ],
   "source": [
    "from tensorflow.python.client import device_lib\n",
    "local_device_protos = device_lib.list_local_devices()\n",
    "print( [x.name for x in local_device_protos if x.device_type == 'GPU'] )"
   ]
  },
  {
   "cell_type": "markdown",
   "metadata": {},
   "source": [
    "### Model function"
   ]
  },
  {
   "cell_type": "code",
   "execution_count": 5,
   "metadata": {},
   "outputs": [],
   "source": [
    "class Temporal_Specgram_Model(keras.Model):\n",
    "    def __init__(self, **kwargs):\n",
    "        super(Temporal_Specgram_Model, self).__init__()\n",
    "        self.__dict__.update(kwargs)\n",
    "        self.input_layer = keras.Input(shape=(32, 32))\n",
    "        self.flatten = keras.layers.Flatten()\n",
    "        self.dense1 = keras.layers.Dense(\n",
    "            units=128, \n",
    "            activation='sigmoid', \n",
    "            kernel_regularizer=keras.regularizers.L1(10**-3.5), \n",
    "            name='dense')\n",
    "        self.output_layer = keras.layers.Dense(\n",
    "            units=32, \n",
    "            name='out',\n",
    "            kernel_regularizer = keras.regularizers.L1(10**-3.5))\n",
    "        self.enc = keras.Sequential([\n",
    "            self.input_layer,\n",
    "            self.flatten,\n",
    "            self.dense1\n",
    "        ])\n",
    "        self.full_model = keras.Sequential([\n",
    "            self.input_layer,\n",
    "            self.flatten,\n",
    "            self.dense1,\n",
    "            self.output_layer\n",
    "        ])\n",
    "\n",
    "    @tf.function\n",
    "    def get_loss(self, x_t, y_t):\n",
    "        y_hat = self.full_model(x_t)\n",
    "        return tf.reduce_mean(tf.square(y_t - y_hat))\n",
    "\n",
    "    @tf.function\n",
    "    def get_gradients(self, x_t, y_t):\n",
    "        with tf.GradientTape() as tape:\n",
    "            loss = self.get_loss(x_t, y_t)\n",
    "        return loss, tape.gradient(loss, self.full_model.trainable_variables)\n",
    "    \n",
    "    @tf.function\n",
    "    def train_model(self, X_train, y_train):\n",
    "        loss, gradients = self.get_gradients(X_train, y_train)\n",
    "        self.optimizer.apply_gradients(zip(gradients, self.full_model.trainable_variables))\n",
    "        return loss\n",
    "\n",
    "    @tf.function\n",
    "    def compute_test_loss(self, X_test, y_test):\n",
    "        return self.get_loss(X_test, y_test)\n",
    "\n",
    "\n",
    "    def call(self, input):\n",
    "        return self.full_model(input)\n",
    "\n"
   ]
  },
  {
   "cell_type": "markdown",
   "metadata": {},
   "source": [
    "### Load data"
   ]
  },
  {
   "cell_type": "code",
   "execution_count": 6,
   "metadata": {},
   "outputs": [],
   "source": [
    "#def extract_spec_data(x_path, y_path, random_seed=None, global_normalize=False):\n",
    "def extract_spec_data(x_path, y_path, random_seed=None):\n",
    "    #all_curr=np.load(x_path,allow_pickle=True)\n",
    "    #all_next=np.load(y_path,allow_pickle=True)\n",
    "    all_curr = pickle.load(open(x_path, 'rb'))\n",
    "    all_next = pickle.load(open(y_path, 'rb'))\n",
    "    \n",
    "    x_array = all_curr\n",
    "    y_array = all_next\n",
    "\n",
    "    #x_array = np.vstack(all_curr)\n",
    "    #y_array = np.vstack(all_next)\n",
    "\n",
    "    if random_seed is None:\n",
    "        rand_idx=np.arange(0, np.shape(x_array)[0])\n",
    "    else:\n",
    "        np.random.seed(random_seed)\n",
    "        rand_idx=np.random.choice(range(np.shape(x_array)[0]), size=np.shape(x_array)[0],replace=False)\n",
    "    \n",
    "    split_train_idx, split_val_idx = rand_idx[np.shape(x_array)[0]//10:],rand_idx[:np.shape(x_array)[0]//10] \n",
    "    x_train, x_val=np.asarray(x_array)[split_train_idx], np.asarray(x_array)[split_val_idx]\n",
    "    y_train, y_val=np.asarray(y_array)[split_train_idx],np.asarray(y_array)[split_val_idx]\n",
    "    \n",
    "    #if global_normalize:\n",
    "    #    x_train=x_train/x_train.max()\n",
    "    #    y_train=y_train/y_train.max()\n",
    "    #    x_val=x_val/x_val.max()\n",
    "    #    y_val=y_val/y_val.max()\n",
    "    return x_train,y_train,x_val,y_val"
   ]
  },
  {
   "cell_type": "code",
   "execution_count": 7,
   "metadata": {},
   "outputs": [],
   "source": [
    "segs_path = '/mnt/cube/srrudrar/stim_preprocess/temporal_model/B1240/segs_list_32_lag_neg16.pkl'              ###change\n",
    "next_path = '/mnt/cube/srrudrar/stim_preprocess/temporal_model/B1240/next_list_32_lag_neg16.pkl'              ###change\n",
    "\n",
    "#x_train,y_train,x_val,y_val = extract_spec_data(segs_path, next_path, random_seed=0,global_normalize=True)\n",
    "x_train1,y_train1,x_val1,y_val1 = extract_spec_data(segs_path, next_path, random_seed=0)"
   ]
  },
  {
   "cell_type": "code",
   "execution_count": 8,
   "metadata": {},
   "outputs": [],
   "source": [
    "x_train = x_train1[:, :32, :]\n",
    "x_val = x_val1[:, :32, :]\n",
    "y_train = y_train1[:, :32]\n",
    "y_val = y_val1[:, :32]"
   ]
  },
  {
   "cell_type": "markdown",
   "metadata": {},
   "source": [
    "### Training network"
   ]
  },
  {
   "cell_type": "code",
   "execution_count": 9,
   "metadata": {},
   "outputs": [
    {
     "name": "stdout",
     "output_type": "stream",
     "text": [
      "Epoch 0, Train-Loss 0.04185905307531357\n",
      "Epoch 1, Train-Loss 0.04593021795153618\n",
      "Epoch 2, Train-Loss 0.05091013014316559\n",
      "Epoch 3, Train-Loss 0.04550321027636528\n",
      "Epoch 4, Train-Loss 0.028357630595564842\n",
      "Epoch 5, Train-Loss 0.0351397730410099\n",
      "Epoch 6, Train-Loss 0.03408351168036461\n",
      "Epoch 7, Train-Loss 0.04935430362820625\n",
      "Epoch 8, Train-Loss 0.032105907797813416\n",
      "Epoch 9, Train-Loss 0.04341232031583786\n",
      "Epoch 10, Train-Loss 0.028341470286250114\n",
      "Epoch 11, Train-Loss 0.03145107254385948\n",
      "Epoch 12, Train-Loss 0.039257097989320755\n",
      "Epoch 13, Train-Loss 0.025596486404538155\n",
      "Epoch 14, Train-Loss 0.04658561944961548\n",
      "Epoch 15, Train-Loss 0.018391603603959084\n",
      "Epoch 16, Train-Loss 0.06154897063970566\n",
      "Epoch 17, Train-Loss 0.026028882712125778\n",
      "Epoch 18, Train-Loss 0.0313018374145031\n",
      "Epoch 19, Train-Loss 0.022869836539030075\n",
      "Epoch 20, Train-Loss 0.022856038063764572\n",
      "Epoch 21, Train-Loss 0.022738266736268997\n",
      "Epoch 22, Train-Loss 0.039340876042842865\n",
      "Epoch 23, Train-Loss 0.027590127661824226\n",
      "Epoch 24, Train-Loss 0.023549668490886688\n",
      "Epoch 25, Train-Loss 0.019315475597977638\n",
      "Epoch 26, Train-Loss 0.01899775117635727\n",
      "Epoch 27, Train-Loss 0.037979256361722946\n",
      "Epoch 28, Train-Loss 0.024849889799952507\n",
      "Epoch 29, Train-Loss 0.02717388980090618\n",
      "Epoch 30, Train-Loss 0.022072846069931984\n",
      "Epoch 31, Train-Loss 0.0196826308965683\n",
      "Epoch 32, Train-Loss 0.021341973915696144\n",
      "Epoch 33, Train-Loss 0.0384349562227726\n",
      "Epoch 34, Train-Loss 0.01972024329006672\n",
      "Epoch 35, Train-Loss 0.01914079487323761\n",
      "Epoch 36, Train-Loss 0.01812385953962803\n",
      "Epoch 37, Train-Loss 0.02468814328312874\n",
      "Epoch 38, Train-Loss 0.0243478175252676\n",
      "Epoch 39, Train-Loss 0.024762732908129692\n",
      "Epoch 40, Train-Loss 0.03139147534966469\n",
      "Epoch 41, Train-Loss 0.04257025942206383\n",
      "Epoch 42, Train-Loss 0.01537790521979332\n",
      "Epoch 43, Train-Loss 0.020317716524004936\n",
      "Epoch 44, Train-Loss 0.019219478592276573\n",
      "Epoch 45, Train-Loss 0.02178618125617504\n",
      "Epoch 46, Train-Loss 0.02207074873149395\n",
      "Epoch 47, Train-Loss 0.023345835506916046\n",
      "Epoch 48, Train-Loss 0.020235596224665642\n",
      "Epoch 49, Train-Loss 0.032623451203107834\n",
      "Epoch 50, Train-Loss 0.02178492769598961\n",
      "Epoch 51, Train-Loss 0.02151855081319809\n",
      "Epoch 52, Train-Loss 0.016488106921315193\n",
      "Epoch 53, Train-Loss 0.02152313105762005\n",
      "Epoch 54, Train-Loss 0.018421875312924385\n",
      "Epoch 55, Train-Loss 0.016074180603027344\n",
      "Epoch 56, Train-Loss 0.020906394347548485\n",
      "Epoch 57, Train-Loss 0.01993872970342636\n",
      "Epoch 58, Train-Loss 0.02330797351896763\n",
      "Epoch 59, Train-Loss 0.022413594648241997\n",
      "Epoch 60, Train-Loss 0.024903573095798492\n",
      "Epoch 61, Train-Loss 0.016441743820905685\n",
      "Epoch 62, Train-Loss 0.018355676904320717\n",
      "Epoch 63, Train-Loss 0.017423998564481735\n",
      "Epoch 64, Train-Loss 0.021598637104034424\n",
      "Epoch 65, Train-Loss 0.01863468997180462\n",
      "Epoch 66, Train-Loss 0.016093594953417778\n",
      "Epoch 67, Train-Loss 0.014199644327163696\n",
      "Epoch 68, Train-Loss 0.018562929704785347\n",
      "Epoch 69, Train-Loss 0.024747150018811226\n",
      "Epoch 70, Train-Loss 0.025792164728045464\n",
      "Epoch 71, Train-Loss 0.01858566887676716\n",
      "Epoch 72, Train-Loss 0.02547129988670349\n",
      "Epoch 73, Train-Loss 0.01554159540683031\n",
      "Epoch 74, Train-Loss 0.018292222172021866\n",
      "Epoch 75, Train-Loss 0.020930062979459763\n",
      "Epoch 76, Train-Loss 0.01381345372647047\n",
      "Epoch 77, Train-Loss 0.018223339691758156\n",
      "Epoch 78, Train-Loss 0.026614926755428314\n",
      "Epoch 79, Train-Loss 0.025766300037503242\n",
      "Epoch 80, Train-Loss 0.022451376542448997\n",
      "Epoch 81, Train-Loss 0.020529666915535927\n",
      "Epoch 82, Train-Loss 0.018079986795783043\n",
      "Epoch 83, Train-Loss 0.023505080491304398\n",
      "Epoch 84, Train-Loss 0.018389981240034103\n",
      "Epoch 85, Train-Loss 0.014714300632476807\n",
      "Epoch 86, Train-Loss 0.016578303650021553\n",
      "Epoch 87, Train-Loss 0.01681254245340824\n",
      "Epoch 88, Train-Loss 0.020492957904934883\n",
      "Epoch 89, Train-Loss 0.020048601552844048\n",
      "Epoch 90, Train-Loss 0.014990132302045822\n",
      "Epoch 91, Train-Loss 0.017510855570435524\n",
      "Epoch 92, Train-Loss 0.014306408353149891\n",
      "Epoch 93, Train-Loss 0.022178925573825836\n",
      "Epoch 94, Train-Loss 0.015038878656923771\n",
      "Epoch 95, Train-Loss 0.015525984577834606\n",
      "Epoch 96, Train-Loss 0.01978360116481781\n",
      "Epoch 97, Train-Loss 0.010938364081084728\n",
      "Epoch 98, Train-Loss 0.021122507750988007\n",
      "Epoch 99, Train-Loss 0.016688084229826927\n",
      "Epoch 100, Train-Loss 0.01796264946460724\n",
      "Epoch 101, Train-Loss 0.01579257845878601\n",
      "Epoch 102, Train-Loss 0.018525509163737297\n",
      "Epoch 103, Train-Loss 0.01716923527419567\n",
      "Epoch 104, Train-Loss 0.017826490104198456\n",
      "Epoch 105, Train-Loss 0.01302774902433157\n",
      "Epoch 106, Train-Loss 0.012237846851348877\n",
      "Epoch 107, Train-Loss 0.019060742110013962\n",
      "Epoch 108, Train-Loss 0.01580391824245453\n",
      "Epoch 109, Train-Loss 0.01886857859790325\n",
      "Epoch 110, Train-Loss 0.021433589980006218\n",
      "Epoch 111, Train-Loss 0.014141995459794998\n",
      "Epoch 112, Train-Loss 0.014228757470846176\n",
      "Epoch 113, Train-Loss 0.014613008126616478\n",
      "Epoch 114, Train-Loss 0.01452543493360281\n",
      "Epoch 115, Train-Loss 0.01633584313094616\n",
      "Epoch 116, Train-Loss 0.012438077479600906\n",
      "Epoch 117, Train-Loss 0.017561474815011024\n",
      "Epoch 118, Train-Loss 0.015338107012212276\n",
      "Epoch 119, Train-Loss 0.018134810030460358\n",
      "Epoch 120, Train-Loss 0.016588175669312477\n",
      "Epoch 121, Train-Loss 0.01706228032708168\n",
      "Epoch 122, Train-Loss 0.013447487726807594\n",
      "Epoch 123, Train-Loss 0.013611831702291965\n",
      "Epoch 124, Train-Loss 0.012169936671853065\n",
      "Epoch 125, Train-Loss 0.019177839159965515\n",
      "Epoch 126, Train-Loss 0.020502446219325066\n",
      "Epoch 127, Train-Loss 0.021238241344690323\n",
      "Epoch 128, Train-Loss 0.015127110294997692\n",
      "Epoch 129, Train-Loss 0.013188457116484642\n",
      "Epoch 130, Train-Loss 0.01403750479221344\n",
      "Epoch 131, Train-Loss 0.02209203876554966\n",
      "Epoch 132, Train-Loss 0.022266630083322525\n",
      "Epoch 133, Train-Loss 0.02138316072523594\n",
      "Epoch 134, Train-Loss 0.02173583023250103\n",
      "\n",
      "Early stopping. No validation loss improvement in 80 epochs.\n"
     ]
    },
    {
     "data": {
      "image/png": "[encoded data removed]",
      "text/plain": [
       "<Figure size 432x288 with 1 Axes>"
      ]
     },
     "metadata": {
      "needs_background": "light"
     },
     "output_type": "display_data"
    }
   ],
   "source": [
    "from collections import deque\n",
    "\n",
    "train_dset = tf.data.Dataset.from_tensor_slices((x_train.astype(np.float32), y_train.astype(np.float32)))\n",
    "train_dset = train_dset.shuffle(buffer_size=x_train.shape[0]+256).batch(64)\n",
    "test_losses = []\n",
    "\n",
    "optimizer = tf.optimizers.Adam(1e-3)\n",
    "model = Temporal_Specgram_Model(optimizer=optimizer)\n",
    "x_val, y_val = x_val.astype(np.float32), y_val.astype(np.float32)\n",
    "\n",
    "early_stopping = 80\n",
    "\n",
    "with tf.device('/device:gpu:0'):\n",
    "#     tf.print('Training Fold {}'.format(index))\n",
    "    #model.load_weights('./temporal_specgram_weights/initial')\n",
    "    \n",
    "    loss_history = deque(maxlen=early_stopping + 1)\n",
    "    for epoch in range(500):\n",
    "        for step, train_batch in enumerate(train_dset):\n",
    "            train_loss = model.train_model(train_batch[0], train_batch[1])\n",
    "\n",
    "        tf.print('Epoch {}, Train-Loss {}'.format(epoch, train_loss), output_stream=sys.stdout)\n",
    "        test_losses.append(model.compute_test_loss(x_val, y_val))\n",
    "        \n",
    "        loss_history.append((model.compute_test_loss(x_val, y_val)).numpy())\n",
    "\n",
    "        if len(loss_history) > early_stopping:\n",
    "            if loss_history.popleft() < min(loss_history):\n",
    "                print(f'\\nEarly stopping. No validation loss '\n",
    "                      f'improvement in {early_stopping} epochs.')\n",
    "                break\n",
    "\n",
    "    plt.plot(test_losses)\n",
    "    plt.xlabel('Epochs')\n",
    "    plt.ylabel('Test Loss')\n",
    "    plt.title('Test Loss by Epoch: {} units'.format(256))\n",
    "    #plt.savefig('mnt/cube/srrudrar/temporal_model/loss_plots/{}units_loss.png'.format(256))"
   ]
  },
  {
   "cell_type": "code",
   "execution_count": 10,
   "metadata": {},
   "outputs": [
    {
     "name": "stdout",
     "output_type": "stream",
     "text": [
      "TensorShape([5449, 32])\n",
      "TensorShape([49046, 128])\n",
      "TensorShape([5449, 128])\n"
     ]
    }
   ],
   "source": [
    "with tf.device('/device:gpu:0'):\n",
    "    #model.save_weights('mnt/cube/srrudrar/temporal_model/temporal_model_weights/temp_128_l1_3_0_500epoch_64batch.h5')\n",
    "    predicted = model.full_model(x_val)\n",
    "    #enc_train1 = model.enc(x_train[:15000,:,:])\n",
    "    #enc_train2 = model.enc(x_train[15000:30000,:,:])\n",
    "    #enc_train3 = model.enc(x_train[30000:,:,:])\n",
    "    enc_train = model.enc(x_train)\n",
    "    enc_val = model.enc(x_val)\n",
    "    tf.print(predicted.shape)\n",
    "    #tf.print(enc_train1.shape)\n",
    "    #tf.print(enc_train2.shape)\n",
    "    #tf.print(enc_train3.shape)\n",
    "    tf.print(enc_train.shape)\n",
    "    tf.print(enc_val.shape)"
   ]
  },
  {
   "cell_type": "code",
   "execution_count": 11,
   "metadata": {},
   "outputs": [],
   "source": [
    "enc_train = np.vstack([enc_train])\n",
    "enc_val = np.vstack([enc_val])\n",
    "\n",
    "enc_train_reshape = np.reshape(enc_train, (len(enc_train),8,16))\n",
    "enc_val_reshape = np.reshape(enc_val, (len(enc_val),8,16))"
   ]
  },
  {
   "cell_type": "code",
   "execution_count": 12,
   "metadata": {},
   "outputs": [
    {
     "data": {
      "text/plain": [
       "((49046, 128), (5449, 128))"
      ]
     },
     "execution_count": 12,
     "metadata": {},
     "output_type": "execute_result"
    }
   ],
   "source": [
    "np.shape(enc_train), np.shape(enc_val)"
   ]
  },
  {
   "cell_type": "code",
   "execution_count": 13,
   "metadata": {},
   "outputs": [
    {
     "data": {
      "text/plain": [
       "((49046, 128), (49046, 32, 32), (5449, 128), (5449, 32, 32))"
      ]
     },
     "execution_count": 13,
     "metadata": {},
     "output_type": "execute_result"
    }
   ],
   "source": [
    "np.shape(enc_train), np.shape(x_train), np.shape(enc_val), np.shape(x_val)"
   ]
  },
  {
   "cell_type": "markdown",
   "metadata": {},
   "source": [
    "### Save spec and resp"
   ]
  },
  {
   "cell_type": "code",
   "execution_count": 14,
   "metadata": {},
   "outputs": [],
   "source": [
    "resp_train = x_train1[:, 32:, :]\n",
    "spec_train = [x.flatten() for x in x_train]\n",
    "\n",
    "resp_test = x_val1[:, 32:, :]\n",
    "spec_test = [x.flatten() for x in x_val]"
   ]
  },
  {
   "cell_type": "code",
   "execution_count": 15,
   "metadata": {},
   "outputs": [
    {
     "data": {
      "text/plain": [
       "((49046, 1024),\n",
       " (49046, 128),\n",
       " (49046, 214, 32),\n",
       " (5449, 1024),\n",
       " (5449, 128),\n",
       " (5449, 214, 32))"
      ]
     },
     "execution_count": 15,
     "metadata": {},
     "output_type": "execute_result"
    }
   ],
   "source": [
    "np.shape(spec_train), np.shape(enc_train), np.shape(resp_train), np.shape(spec_test), np.shape(enc_val), np.shape(resp_test)"
   ]
  },
  {
   "cell_type": "code",
   "execution_count": 17,
   "metadata": {},
   "outputs": [],
   "source": [
    "np.save('/mnt/cube/srrudrar/temporal_model/stim_resp_32x32_128/lag_neg16/spec_train_128_lag_neg16.npy', spec_train)           ###change\n",
    "np.save('/mnt/cube/srrudrar/temporal_model/stim_resp_32x32_128/lag_neg16/enc_train_128_lag_neg16.npy', enc_train)\n",
    "np.save('/mnt/cube/srrudrar/temporal_model/stim_resp_32x32_128/lag_neg16/resp_train_128_lag_neg16.npy', resp_train)\n",
    "\n",
    "np.save('/mnt/cube/srrudrar/temporal_model/stim_resp_32x32_128/lag_neg16/spec_test_128_lag_neg16.npy', spec_test)\n",
    "np.save('/mnt/cube/srrudrar/temporal_model/stim_resp_32x32_128/lag_neg16/enc_test_128_lag_neg16.npy', enc_val)\n",
    "np.save('/mnt/cube/srrudrar/temporal_model/stim_resp_32x32_128/lag_neg16/resp_test_128_lag_neg16.npy', resp_test)\n",
    "\n",
    "np.save('/mnt/cube/srrudrar/temporal_model/stim_resp_32x32_128/lag_neg16/y_train_128_lag_neg16.npy', y_train)\n",
    "np.save('/mnt/cube/srrudrar/temporal_model/stim_resp_32x32_128/lag_neg16/y_test_128_lag_neg16.npy', y_val)"
   ]
  },
  {
   "cell_type": "markdown",
   "metadata": {},
   "source": [
    "### Plots"
   ]
  },
  {
   "cell_type": "code",
   "execution_count": 18,
   "metadata": {},
   "outputs": [
    {
     "data": {
      "text/plain": [
       "Text(0.5, 1.05, 'Mel Spectrogram')"
      ]
     },
     "execution_count": 18,
     "metadata": {},
     "output_type": "execute_result"
    },
    {
     "data": {
      "image/png": "[encoded data removed]",
      "text/plain": [
       "<Figure size 288x360 with 2 Axes>"
      ]
     },
     "metadata": {
      "needs_background": "light"
     },
     "output_type": "display_data"
    }
   ],
   "source": [
    "fig, ax = plt.subplots(nrows=1,ncols=1, figsize=(4,5))\n",
    "cax = ax.matshow(x_train[100], interpolation='nearest', aspect='auto', cmap=plt.cm.afmhot, origin='lower')\n",
    "fig.colorbar(cax)\n",
    "plt.title('Mel Spectrogram')"
   ]
  },
  {
   "cell_type": "code",
   "execution_count": 19,
   "metadata": {},
   "outputs": [
    {
     "data": {
      "text/plain": [
       "Text(0.5, 1.05, 'Mel Spectrogram')"
      ]
     },
     "execution_count": 19,
     "metadata": {},
     "output_type": "execute_result"
    },
    {
     "data": {
      "image/png": "[encoded data removed]",
      "text/plain": [
       "<Figure size 288x360 with 2 Axes>"
      ]
     },
     "metadata": {
      "needs_background": "light"
     },
     "output_type": "display_data"
    }
   ],
   "source": [
    "fig, ax = plt.subplots(nrows=1,ncols=1, figsize=(4,5))\n",
    "cax = ax.matshow(enc_train_reshape[100], interpolation='nearest', aspect='auto', cmap=plt.cm.afmhot, origin='lower')\n",
    "fig.colorbar(cax)\n",
    "plt.title('Mel Spectrogram')"
   ]
  },
  {
   "cell_type": "code",
   "execution_count": 20,
   "metadata": {},
   "outputs": [
    {
     "data": {
      "text/plain": [
       "Text(0.5, 1.05, 'Mel Spectrogram')"
      ]
     },
     "execution_count": 20,
     "metadata": {},
     "output_type": "execute_result"
    },
    {
     "data": {
      "image/png": "[encoded data removed]",
      "text/plain": [
       "<Figure size 288x360 with 2 Axes>"
      ]
     },
     "metadata": {
      "needs_background": "light"
     },
     "output_type": "display_data"
    }
   ],
   "source": [
    "fig, ax = plt.subplots(nrows=1,ncols=1, figsize=(4,5))\n",
    "cax = ax.matshow(x_val[100], interpolation='nearest', aspect='auto', cmap=plt.cm.afmhot, origin='lower')\n",
    "fig.colorbar(cax)\n",
    "plt.title('Mel Spectrogram')"
   ]
  },
  {
   "cell_type": "code",
   "execution_count": 21,
   "metadata": {},
   "outputs": [
    {
     "data": {
      "text/plain": [
       "Text(0.5, 1.05, 'Mel Spectrogram')"
      ]
     },
     "execution_count": 21,
     "metadata": {},
     "output_type": "execute_result"
    },
    {
     "data": {
      "image/png": "[encoded data removed]",
      "text/plain": [
       "<Figure size 288x360 with 2 Axes>"
      ]
     },
     "metadata": {
      "needs_background": "light"
     },
     "output_type": "display_data"
    }
   ],
   "source": [
    "fig, ax = plt.subplots(nrows=1,ncols=1, figsize=(4,5))\n",
    "cax = ax.matshow(enc_val_reshape[100], interpolation='nearest', aspect='auto', cmap=plt.cm.afmhot, origin='lower')\n",
    "fig.colorbar(cax)\n",
    "plt.title('Mel Spectrogram')"
   ]
  },
  {
   "cell_type": "code",
   "execution_count": 22,
   "metadata": {},
   "outputs": [
    {
     "data": {
      "text/plain": [
       "<matplotlib.image.AxesImage at 0x7fe0680a42d0>"
      ]
     },
     "execution_count": 22,
     "metadata": {},
     "output_type": "execute_result"
    },
    {
     "data": {
      "image/png": "[encoded data removed]",
      "text/plain": [
       "<Figure size 1440x576 with 1 Axes>"
      ]
     },
     "metadata": {
      "needs_background": "light"
     },
     "output_type": "display_data"
    }
   ],
   "source": [
    "ax = plt.subplots(figsize=(20,8))\n",
    "plt.imshow(resp_test[100, :, :], origin='lower', cmap='gray')"
   ]
  },
  {
   "cell_type": "code",
   "execution_count": null,
   "metadata": {},
   "outputs": [],
   "source": []
  }
 ],
 "metadata": {
  "kernelspec": {
   "display_name": "Python 3",
   "language": "python",
   "name": "python3"
  },
  "language_info": {
   "codemirror_mode": {
    "name": "ipython",
    "version": 3
   },
   "file_extension": ".py",
   "mimetype": "text/x-python",
   "name": "python",
   "nbconvert_exporter": "python",
   "pygments_lexer": "ipython3",
   "version": "3.7.10"
  }
 },
 "nbformat": 4,
 "nbformat_minor": 2
}
