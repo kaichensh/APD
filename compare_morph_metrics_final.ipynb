{
 "cells": [
  {
   "cell_type": "code",
   "execution_count": 1,
   "id": "e24fde53",
   "metadata": {},
   "outputs": [],
   "source": [
    "import tensorflow as tf\n",
    "# tf.enable_eager_execution()\n",
    "import pandas as pd\n",
    "import numpy as np\n",
    "import matplotlib.pyplot as plt\n",
    "import random\n",
    "from glob import glob\n",
    "import pickle\n",
    "from tensorflow.keras import layers, Sequential, datasets, models, losses, Model, Input\n",
    "from tensorflow.keras.callbacks import EarlyStopping, ModelCheckpoint\n",
    "from tensorflow.keras.optimizers import Adam\n",
    "from sklearn.model_selection import train_test_split\n",
    "import datetime\n",
    "import sys\n",
    "from tensorflow.keras.backend import clear_session\n",
    "from trainingfuncs import *\n",
    "from math_utils import *\n",
    "from utils import *\n",
    "from scipy.spatial import distance\n",
    "import seaborn as sns\n",
    "import umap"
   ]
  },
  {
   "cell_type": "code",
   "execution_count": 2,
   "id": "03630af6",
   "metadata": {},
   "outputs": [],
   "source": [
    "sys.path.append(\"..\") # Adds higher directory to python modules path.\n",
    "from helpers.dataset_vars import *\n",
    "from helpers.myclasses import *"
   ]
  },
  {
   "cell_type": "code",
   "execution_count": 3,
   "id": "657b13e2",
   "metadata": {},
   "outputs": [],
   "source": [
    "morph_folder = os.path.abspath('/mnt/cube/kai/repositories/morphs/data/stimuli')\n",
    "\n",
    "results_folder = os.path.abspath('/mnt/cube/kai/results/perceptual_loss/morph')\n",
    "spec_file = os.path.join(morph_folder, 'specs_star.p')"
   ]
  },
  {
   "cell_type": "markdown",
   "id": "310c7475",
   "metadata": {},
   "source": [
    "# load all dfs"
   ]
  },
  {
   "cell_type": "code",
   "execution_count": 4,
   "id": "d7836ce8",
   "metadata": {},
   "outputs": [],
   "source": [
    "group_pred_all = pickle.load(open(os.path.join(results_folder, 'norm_robust', 'all_predicted.p'), 'rb'))\n",
    "group1_behav = pickle.load(open(os.path.join(results_folder, 'group1_behav_agg.p'), 'rb'))\n",
    "group2_behav = pickle.load(open(os.path.join(results_folder, 'group2_behav_agg.p'), 'rb'))\n",
    "group3_behav = pickle.load(open(os.path.join(results_folder, 'group3_behav_agg.p'), 'rb'))"
   ]
  },
  {
   "cell_type": "code",
   "execution_count": 5,
   "id": "97762385",
   "metadata": {},
   "outputs": [
    {
     "data": {
      "text/html": [
       "<div>\n",
       "<style scoped>\n",
       "    .dataframe tbody tr th:only-of-type {\n",
       "        vertical-align: middle;\n",
       "    }\n",
       "\n",
       "    .dataframe tbody tr th {\n",
       "        vertical-align: top;\n",
       "    }\n",
       "\n",
       "    .dataframe thead th {\n",
       "        text-align: right;\n",
       "    }\n",
       "</style>\n",
       "<table border=\"1\" class=\"dataframe\">\n",
       "  <thead>\n",
       "    <tr style=\"text-align: right;\">\n",
       "      <th></th>\n",
       "      <th>index</th>\n",
       "      <th>min_val</th>\n",
       "      <th>max_val</th>\n",
       "      <th>slope</th>\n",
       "      <th>inflection</th>\n",
       "      <th>group</th>\n",
       "      <th>metric</th>\n",
       "    </tr>\n",
       "  </thead>\n",
       "  <tbody>\n",
       "    <tr>\n",
       "      <th>136</th>\n",
       "      <td>eg</td>\n",
       "      <td>1.142385e-01</td>\n",
       "      <td>1.000000</td>\n",
       "      <td>0.022230</td>\n",
       "      <td>61.829764</td>\n",
       "      <td>Group 3</td>\n",
       "      <td>fcosine</td>\n",
       "    </tr>\n",
       "    <tr>\n",
       "      <th>137</th>\n",
       "      <td>eh</td>\n",
       "      <td>1.000000e-16</td>\n",
       "      <td>0.960306</td>\n",
       "      <td>0.065932</td>\n",
       "      <td>22.048034</td>\n",
       "      <td>Group 3</td>\n",
       "      <td>fcosine</td>\n",
       "    </tr>\n",
       "    <tr>\n",
       "      <th>138</th>\n",
       "      <td>df</td>\n",
       "      <td>1.000000e-16</td>\n",
       "      <td>0.997257</td>\n",
       "      <td>0.151147</td>\n",
       "      <td>54.576789</td>\n",
       "      <td>Group 3</td>\n",
       "      <td>fcosine</td>\n",
       "    </tr>\n",
       "    <tr>\n",
       "      <th>139</th>\n",
       "      <td>fg</td>\n",
       "      <td>3.537308e-02</td>\n",
       "      <td>1.000000</td>\n",
       "      <td>0.013060</td>\n",
       "      <td>94.777730</td>\n",
       "      <td>Group 3</td>\n",
       "      <td>fcosine</td>\n",
       "    </tr>\n",
       "    <tr>\n",
       "      <th>140</th>\n",
       "      <td>fh</td>\n",
       "      <td>1.000000e-16</td>\n",
       "      <td>0.878523</td>\n",
       "      <td>0.311856</td>\n",
       "      <td>35.409830</td>\n",
       "      <td>Group 3</td>\n",
       "      <td>fcosine</td>\n",
       "    </tr>\n",
       "  </tbody>\n",
       "</table>\n",
       "</div>"
      ],
      "text/plain": [
       "    index       min_val   max_val     slope  inflection    group   metric\n",
       "136    eg  1.142385e-01  1.000000  0.022230   61.829764  Group 3  fcosine\n",
       "137    eh  1.000000e-16  0.960306  0.065932   22.048034  Group 3  fcosine\n",
       "138    df  1.000000e-16  0.997257  0.151147   54.576789  Group 3  fcosine\n",
       "139    fg  3.537308e-02  1.000000  0.013060   94.777730  Group 3  fcosine\n",
       "140    fh  1.000000e-16  0.878523  0.311856   35.409830  Group 3  fcosine"
      ]
     },
     "execution_count": 5,
     "metadata": {},
     "output_type": "execute_result"
    }
   ],
   "source": [
    "group_pred_all.tail()"
   ]
  },
  {
   "cell_type": "code",
   "execution_count": 6,
   "id": "2f3dbc13",
   "metadata": {},
   "outputs": [],
   "source": [
    "all_groups = pd.concat([group_pred_all,\n",
    "                       group1_behav, group2_behav, group3_behav]).reset_index(drop=True)"
   ]
  },
  {
   "cell_type": "code",
   "execution_count": 8,
   "id": "16b73830",
   "metadata": {},
   "outputs": [
    {
     "data": {
      "text/plain": [
       "(0.0, 1.0)"
      ]
     },
     "execution_count": 8,
     "metadata": {},
     "output_type": "execute_result"
    },
    {
     "data": {
      "image/png": "[encoded data removed]",
      "text/plain": [
       "<Figure size 432x288 with 1 Axes>"
      ]
     },
     "metadata": {
      "needs_background": "light"
     },
     "output_type": "display_data"
    }
   ],
   "source": [
    "ax = sns.boxplot(y='slope', x='metric',data=all_groups)\n",
    "ax.set_ylim([0,1])"
   ]
  },
  {
   "cell_type": "code",
   "execution_count": 9,
   "id": "07aad097",
   "metadata": {},
   "outputs": [
    {
     "data": {
      "image/png": "[encoded data removed]",
      "text/plain": [
       "<Figure size 432x288 with 1 Axes>"
      ]
     },
     "metadata": {
      "needs_background": "light"
     },
     "output_type": "display_data"
    }
   ],
   "source": [
    "ax = sns.boxplot(y='inflection', x='metric',data=all_groups)"
   ]
  },
  {
   "cell_type": "markdown",
   "id": "ef8cac29",
   "metadata": {},
   "source": [
    "# separate by group"
   ]
  },
  {
   "cell_type": "code",
   "execution_count": 10,
   "id": "debe356b",
   "metadata": {},
   "outputs": [],
   "source": [
    "groups = ['Group 1', 'Group 2', 'Group 3']"
   ]
  },
  {
   "cell_type": "code",
   "execution_count": 11,
   "id": "2c55fb5e",
   "metadata": {},
   "outputs": [
    {
     "data": {
      "image/png": "[encoded data removed]",
      "text/plain": [
       "<Figure size 576x864 with 3 Axes>"
      ]
     },
     "metadata": {
      "needs_background": "light"
     },
     "output_type": "display_data"
    }
   ],
   "source": [
    "fig, ax = plt.subplots(3, 1, figsize=(8, 12))\n",
    "for i, group in enumerate(groups):\n",
    "    sns.boxplot(y='slope', x='metric',data=all_groups[all_groups.group==group], ax=ax[i])\n",
    "    ax[i].set_ylim([0,1])"
   ]
  },
  {
   "cell_type": "code",
   "execution_count": 12,
   "id": "657604cc",
   "metadata": {},
   "outputs": [
    {
     "data": {
      "image/png": "[encoded data removed]",
      "text/plain": [
       "<Figure size 576x864 with 3 Axes>"
      ]
     },
     "metadata": {
      "needs_background": "light"
     },
     "output_type": "display_data"
    }
   ],
   "source": [
    "fig, ax = plt.subplots(3, 1, figsize=(8, 12))\n",
    "for i, group in enumerate(groups):\n",
    "    sns.boxplot(y='inflection', x='metric',data=all_groups[all_groups.group==group], ax=ax[i])"
   ]
  },
  {
   "cell_type": "code",
   "execution_count": 13,
   "id": "843dc074",
   "metadata": {},
   "outputs": [],
   "source": [
    "import statsmodels.formula.api as smf"
   ]
  },
  {
   "cell_type": "code",
   "execution_count": 14,
   "id": "475bb652",
   "metadata": {},
   "outputs": [],
   "source": [
    "all_groups['stim'] = all_groups['index']"
   ]
  },
  {
   "cell_type": "code",
   "execution_count": 15,
   "id": "7885e938",
   "metadata": {},
   "outputs": [
    {
     "data": {
      "text/html": [
       "<div>\n",
       "<style scoped>\n",
       "    .dataframe tbody tr th:only-of-type {\n",
       "        vertical-align: middle;\n",
       "    }\n",
       "\n",
       "    .dataframe tbody tr th {\n",
       "        vertical-align: top;\n",
       "    }\n",
       "\n",
       "    .dataframe thead th {\n",
       "        text-align: right;\n",
       "    }\n",
       "</style>\n",
       "<table border=\"1\" class=\"dataframe\">\n",
       "  <thead>\n",
       "    <tr style=\"text-align: right;\">\n",
       "      <th></th>\n",
       "      <th>index</th>\n",
       "      <th>min_val</th>\n",
       "      <th>max_val</th>\n",
       "      <th>slope</th>\n",
       "      <th>inflection</th>\n",
       "      <th>group</th>\n",
       "      <th>metric</th>\n",
       "      <th>stim</th>\n",
       "    </tr>\n",
       "  </thead>\n",
       "  <tbody>\n",
       "    <tr>\n",
       "      <th>0</th>\n",
       "      <td>ae</td>\n",
       "      <td>1.000000e-16</td>\n",
       "      <td>1.000000</td>\n",
       "      <td>0.033214</td>\n",
       "      <td>75.202742</td>\n",
       "      <td>Group 1</td>\n",
       "      <td>rmse</td>\n",
       "      <td>ae</td>\n",
       "    </tr>\n",
       "    <tr>\n",
       "      <th>1</th>\n",
       "      <td>af</td>\n",
       "      <td>1.000000e-16</td>\n",
       "      <td>0.945304</td>\n",
       "      <td>0.032496</td>\n",
       "      <td>84.500302</td>\n",
       "      <td>Group 1</td>\n",
       "      <td>rmse</td>\n",
       "      <td>af</td>\n",
       "    </tr>\n",
       "    <tr>\n",
       "      <th>2</th>\n",
       "      <td>ag</td>\n",
       "      <td>1.000000e-16</td>\n",
       "      <td>0.860692</td>\n",
       "      <td>0.037051</td>\n",
       "      <td>76.503340</td>\n",
       "      <td>Group 1</td>\n",
       "      <td>rmse</td>\n",
       "      <td>ag</td>\n",
       "    </tr>\n",
       "    <tr>\n",
       "      <th>3</th>\n",
       "      <td>ah</td>\n",
       "      <td>1.000000e-16</td>\n",
       "      <td>0.616709</td>\n",
       "      <td>0.065078</td>\n",
       "      <td>56.980419</td>\n",
       "      <td>Group 1</td>\n",
       "      <td>rmse</td>\n",
       "      <td>ah</td>\n",
       "    </tr>\n",
       "    <tr>\n",
       "      <th>4</th>\n",
       "      <td>be</td>\n",
       "      <td>7.801580e-03</td>\n",
       "      <td>0.904488</td>\n",
       "      <td>0.054682</td>\n",
       "      <td>84.002627</td>\n",
       "      <td>Group 1</td>\n",
       "      <td>rmse</td>\n",
       "      <td>be</td>\n",
       "    </tr>\n",
       "  </tbody>\n",
       "</table>\n",
       "</div>"
      ],
      "text/plain": [
       "  index       min_val   max_val     slope  inflection    group metric stim\n",
       "0    ae  1.000000e-16  1.000000  0.033214   75.202742  Group 1   rmse   ae\n",
       "1    af  1.000000e-16  0.945304  0.032496   84.500302  Group 1   rmse   af\n",
       "2    ag  1.000000e-16  0.860692  0.037051   76.503340  Group 1   rmse   ag\n",
       "3    ah  1.000000e-16  0.616709  0.065078   56.980419  Group 1   rmse   ah\n",
       "4    be  7.801580e-03  0.904488  0.054682   84.002627  Group 1   rmse   be"
      ]
     },
     "execution_count": 15,
     "metadata": {},
     "output_type": "execute_result"
    }
   ],
   "source": [
    "all_groups.head()"
   ]
  },
  {
   "cell_type": "code",
   "execution_count": 16,
   "id": "1a9b947b",
   "metadata": {},
   "outputs": [],
   "source": [
    "all_groups = all_groups.drop(columns=['index'])"
   ]
  },
  {
   "cell_type": "code",
   "execution_count": 18,
   "id": "105505cf",
   "metadata": {},
   "outputs": [
    {
     "name": "stderr",
     "output_type": "stream",
     "text": [
      "/home/shc079/miniconda3/envs/tf2.3gpu/lib/python3.7/site-packages/statsmodels/regression/mixed_linear_model.py:2237: ConvergenceWarning: The MLE may be on the boundary of the parameter space.\n",
      "  warnings.warn(msg, ConvergenceWarning)\n"
     ]
    },
    {
     "data": {
      "text/html": [
       "<table class=\"simpletable\">\n",
       "<tr>\n",
       "       <td>Model:</td>       <td>MixedLM</td> <td>Dependent Variable:</td>   <td>slope</td>  \n",
       "</tr>\n",
       "<tr>\n",
       "  <td>No. Observations:</td>   <td>189</td>         <td>Method:</td>         <td>REML</td>   \n",
       "</tr>\n",
       "<tr>\n",
       "     <td>No. Groups:</td>       <td>3</td>          <td>Scale:</td>         <td>1.3422</td>  \n",
       "</tr>\n",
       "<tr>\n",
       "  <td>Min. group size:</td>    <td>61</td>      <td>Log-Likelihood:</td>   <td>-297.4534</td>\n",
       "</tr>\n",
       "<tr>\n",
       "  <td>Max. group size:</td>    <td>64</td>        <td>Converged:</td>         <td>Yes</td>   \n",
       "</tr>\n",
       "<tr>\n",
       "  <td>Mean group size:</td>   <td>63.0</td>            <td></td>               <td></td>     \n",
       "</tr>\n",
       "</table>\n",
       "<table class=\"simpletable\">\n",
       "<tr>\n",
       "                      <td></td>                      <th>Coef.</th> <th>Std.Err.</th>    <th>z</th>   <th>P>|z|</th> <th>[0.025</th> <th>0.975]</th>\n",
       "</tr>\n",
       "<tr>\n",
       "  <th>Intercept</th>                                 <td>0.209</td>   <td>0.168</td>   <td>1.245</td> <td>0.213</td> <td>-0.120</td>  <td>0.537</td>\n",
       "</tr>\n",
       "<tr>\n",
       "  <th>C(metric, Treatment('behav'))[T.fcosine]</th>  <td>0.074</td>   <td>0.238</td>   <td>0.313</td> <td>0.755</td> <td>-0.392</td>  <td>0.540</td>\n",
       "</tr>\n",
       "<tr>\n",
       "  <th>C(metric, Treatment('behav'))[T.frmse]</th>    <td>0.293</td>   <td>0.238</td>   <td>1.231</td> <td>0.218</td> <td>-0.173</td>  <td>0.759</td>\n",
       "</tr>\n",
       "<tr>\n",
       "  <th>C(metric, Treatment('behav'))[T.rmse]</th>    <td>-0.158</td>   <td>0.238</td>  <td>-0.664</td> <td>0.507</td> <td>-0.624</td>  <td>0.308</td>\n",
       "</tr>\n",
       "<tr>\n",
       "  <th>group Var</th>                                 <td>0.000</td>   <td>0.019</td>     <td></td>      <td></td>       <td></td>       <td></td>   \n",
       "</tr>\n",
       "</table>"
      ],
      "text/plain": [
       "<class 'statsmodels.iolib.summary2.Summary'>\n",
       "\"\"\"\n",
       "                       Mixed Linear Model Regression Results\n",
       "===================================================================================\n",
       "Model:                      MixedLM          Dependent Variable:          slope    \n",
       "No. Observations:           189              Method:                      REML     \n",
       "No. Groups:                 3                Scale:                       1.3422   \n",
       "Min. group size:            61               Log-Likelihood:              -297.4534\n",
       "Max. group size:            64               Converged:                   Yes      \n",
       "Mean group size:            63.0                                                   \n",
       "-----------------------------------------------------------------------------------\n",
       "                                         Coef.  Std.Err.   z    P>|z| [0.025 0.975]\n",
       "-----------------------------------------------------------------------------------\n",
       "Intercept                                 0.209    0.168  1.245 0.213 -0.120  0.537\n",
       "C(metric, Treatment('behav'))[T.fcosine]  0.074    0.238  0.313 0.755 -0.392  0.540\n",
       "C(metric, Treatment('behav'))[T.frmse]    0.293    0.238  1.231 0.218 -0.173  0.759\n",
       "C(metric, Treatment('behav'))[T.rmse]    -0.158    0.238 -0.664 0.507 -0.624  0.308\n",
       "group Var                                 0.000    0.019                           \n",
       "===================================================================================\n",
       "\n",
       "\"\"\""
      ]
     },
     "execution_count": 18,
     "metadata": {},
     "output_type": "execute_result"
    }
   ],
   "source": [
    "model = smf.mixedlm(\"slope ~ C(metric, Treatment('behav'))  \",\n",
    "                    all_groups,\n",
    "                    groups= \"group\").fit()\n",
    "\n",
    "model.summary()"
   ]
  },
  {
   "cell_type": "code",
   "execution_count": 19,
   "id": "08ccfbcd",
   "metadata": {},
   "outputs": [
    {
     "name": "stderr",
     "output_type": "stream",
     "text": [
      "/home/shc079/miniconda3/envs/tf2.3gpu/lib/python3.7/site-packages/statsmodels/regression/mixed_linear_model.py:1634: UserWarning: Random effects covariance is singular\n",
      "  warnings.warn(msg)\n",
      "/home/shc079/miniconda3/envs/tf2.3gpu/lib/python3.7/site-packages/statsmodels/regression/mixed_linear_model.py:2237: ConvergenceWarning: The MLE may be on the boundary of the parameter space.\n",
      "  warnings.warn(msg, ConvergenceWarning)\n"
     ]
    },
    {
     "data": {
      "text/html": [
       "<table class=\"simpletable\">\n",
       "<tr>\n",
       "       <td>Model:</td>       <td>MixedLM</td> <td>Dependent Variable:</td> <td>inflection</td>\n",
       "</tr>\n",
       "<tr>\n",
       "  <td>No. Observations:</td>   <td>189</td>         <td>Method:</td>          <td>REML</td>   \n",
       "</tr>\n",
       "<tr>\n",
       "     <td>No. Groups:</td>       <td>3</td>          <td>Scale:</td>         <td>510.9316</td> \n",
       "</tr>\n",
       "<tr>\n",
       "  <td>Min. group size:</td>    <td>61</td>      <td>Log-Likelihood:</td>    <td>-847.0663</td>\n",
       "</tr>\n",
       "<tr>\n",
       "  <td>Max. group size:</td>    <td>64</td>        <td>Converged:</td>          <td>Yes</td>   \n",
       "</tr>\n",
       "<tr>\n",
       "  <td>Mean group size:</td>   <td>63.0</td>            <td></td>                <td></td>     \n",
       "</tr>\n",
       "</table>\n",
       "<table class=\"simpletable\">\n",
       "<tr>\n",
       "                      <td></td>                      <th>Coef.</th> <th>Std.Err.</th>    <th>z</th>   <th>P>|z|</th> <th>[0.025</th>  <th>0.975]</th>\n",
       "</tr>\n",
       "<tr>\n",
       "  <th>Intercept</th>                                <td>64.139</td>   <td>3.263</td>  <td>19.659</td> <td>0.000</td> <td>57.744</td>  <td>70.533</td>\n",
       "</tr>\n",
       "<tr>\n",
       "  <th>C(metric, Treatment('behav'))[T.fcosine]</th> <td>-4.673</td>   <td>4.638</td>  <td>-1.007</td> <td>0.314</td> <td>-13.764</td>  <td>4.418</td>\n",
       "</tr>\n",
       "<tr>\n",
       "  <th>C(metric, Treatment('behav'))[T.frmse]</th>   <td>-8.472</td>   <td>4.638</td>  <td>-1.827</td> <td>0.068</td> <td>-17.564</td>  <td>0.619</td>\n",
       "</tr>\n",
       "<tr>\n",
       "  <th>C(metric, Treatment('behav'))[T.rmse]</th>     <td>3.526</td>   <td>4.638</td>   <td>0.760</td> <td>0.447</td> <td>-5.565</td>  <td>12.617</td>\n",
       "</tr>\n",
       "<tr>\n",
       "  <th>group Var</th>                                 <td>0.000</td>   <td>1.169</td>     <td></td>      <td></td>       <td></td>        <td></td>   \n",
       "</tr>\n",
       "</table>"
      ],
      "text/plain": [
       "<class 'statsmodels.iolib.summary2.Summary'>\n",
       "\"\"\"\n",
       "                       Mixed Linear Model Regression Results\n",
       "====================================================================================\n",
       "Model:                      MixedLM          Dependent Variable:          inflection\n",
       "No. Observations:           189              Method:                      REML      \n",
       "No. Groups:                 3                Scale:                       510.9316  \n",
       "Min. group size:            61               Log-Likelihood:              -847.0663 \n",
       "Max. group size:            64               Converged:                   Yes       \n",
       "Mean group size:            63.0                                                    \n",
       "------------------------------------------------------------------------------------\n",
       "                                         Coef.  Std.Err.   z    P>|z|  [0.025 0.975]\n",
       "------------------------------------------------------------------------------------\n",
       "Intercept                                64.139    3.263 19.659 0.000  57.744 70.533\n",
       "C(metric, Treatment('behav'))[T.fcosine] -4.673    4.638 -1.007 0.314 -13.764  4.418\n",
       "C(metric, Treatment('behav'))[T.frmse]   -8.472    4.638 -1.827 0.068 -17.564  0.619\n",
       "C(metric, Treatment('behav'))[T.rmse]     3.526    4.638  0.760 0.447  -5.565 12.617\n",
       "group Var                                 0.000    1.169                            \n",
       "====================================================================================\n",
       "\n",
       "\"\"\""
      ]
     },
     "execution_count": 19,
     "metadata": {},
     "output_type": "execute_result"
    }
   ],
   "source": [
    "model = smf.mixedlm(\"inflection ~ C(metric, Treatment('behav'))\",\n",
    "                    all_groups,\n",
    "                    groups= \"group\").fit()\n",
    "\n",
    "model.summary()"
   ]
  },
  {
   "cell_type": "markdown",
   "id": "a1915397",
   "metadata": {},
   "source": [
    "# absolute difference"
   ]
  },
  {
   "cell_type": "code",
   "execution_count": 22,
   "id": "0e5a6581",
   "metadata": {},
   "outputs": [
    {
     "data": {
      "text/html": [
       "<div>\n",
       "<style scoped>\n",
       "    .dataframe tbody tr th:only-of-type {\n",
       "        vertical-align: middle;\n",
       "    }\n",
       "\n",
       "    .dataframe tbody tr th {\n",
       "        vertical-align: top;\n",
       "    }\n",
       "\n",
       "    .dataframe thead th {\n",
       "        text-align: right;\n",
       "    }\n",
       "</style>\n",
       "<table border=\"1\" class=\"dataframe\">\n",
       "  <thead>\n",
       "    <tr style=\"text-align: right;\">\n",
       "      <th></th>\n",
       "      <th>min_val</th>\n",
       "      <th>max_val</th>\n",
       "      <th>slope</th>\n",
       "      <th>inflection</th>\n",
       "      <th>group</th>\n",
       "      <th>metric</th>\n",
       "      <th>stim</th>\n",
       "    </tr>\n",
       "  </thead>\n",
       "  <tbody>\n",
       "    <tr>\n",
       "      <th>184</th>\n",
       "      <td>0.028613</td>\n",
       "      <td>0.944226</td>\n",
       "      <td>0.179967</td>\n",
       "      <td>78.281169</td>\n",
       "      <td>Group 3</td>\n",
       "      <td>behav</td>\n",
       "      <td>eh</td>\n",
       "    </tr>\n",
       "    <tr>\n",
       "      <th>185</th>\n",
       "      <td>0.047045</td>\n",
       "      <td>0.882328</td>\n",
       "      <td>0.261025</td>\n",
       "      <td>51.118444</td>\n",
       "      <td>Group 3</td>\n",
       "      <td>behav</td>\n",
       "      <td>cf</td>\n",
       "    </tr>\n",
       "    <tr>\n",
       "      <th>186</th>\n",
       "      <td>0.054637</td>\n",
       "      <td>0.939378</td>\n",
       "      <td>0.143298</td>\n",
       "      <td>56.879763</td>\n",
       "      <td>Group 3</td>\n",
       "      <td>behav</td>\n",
       "      <td>df</td>\n",
       "    </tr>\n",
       "    <tr>\n",
       "      <th>187</th>\n",
       "      <td>0.079391</td>\n",
       "      <td>0.928413</td>\n",
       "      <td>0.580742</td>\n",
       "      <td>78.445336</td>\n",
       "      <td>Group 3</td>\n",
       "      <td>behav</td>\n",
       "      <td>fg</td>\n",
       "    </tr>\n",
       "    <tr>\n",
       "      <th>188</th>\n",
       "      <td>0.063133</td>\n",
       "      <td>0.932895</td>\n",
       "      <td>0.194440</td>\n",
       "      <td>68.749459</td>\n",
       "      <td>Group 3</td>\n",
       "      <td>behav</td>\n",
       "      <td>fh</td>\n",
       "    </tr>\n",
       "  </tbody>\n",
       "</table>\n",
       "</div>"
      ],
      "text/plain": [
       "      min_val   max_val     slope  inflection    group metric stim\n",
       "184  0.028613  0.944226  0.179967   78.281169  Group 3  behav   eh\n",
       "185  0.047045  0.882328  0.261025   51.118444  Group 3  behav   cf\n",
       "186  0.054637  0.939378  0.143298   56.879763  Group 3  behav   df\n",
       "187  0.079391  0.928413  0.580742   78.445336  Group 3  behav   fg\n",
       "188  0.063133  0.932895  0.194440   68.749459  Group 3  behav   fh"
      ]
     },
     "execution_count": 22,
     "metadata": {},
     "output_type": "execute_result"
    }
   ],
   "source": [
    "all_groups.tail()"
   ]
  },
  {
   "cell_type": "code",
   "execution_count": 23,
   "id": "05431103",
   "metadata": {},
   "outputs": [],
   "source": [
    "from statsmodels.stats.multicomp import pairwise_tukeyhsd"
   ]
  },
  {
   "cell_type": "code",
   "execution_count": 24,
   "id": "fae8878e",
   "metadata": {},
   "outputs": [],
   "source": [
    "tukey = pairwise_tukeyhsd(endog=all_groups['slope'],\n",
    "                          groups=all_groups['metric'],\n",
    "                          alpha=0.05)"
   ]
  },
  {
   "cell_type": "code",
   "execution_count": 25,
   "id": "75ac0c03",
   "metadata": {},
   "outputs": [
    {
     "name": "stdout",
     "output_type": "stream",
     "text": [
      " Multiple Comparison of Means - Tukey HSD, FWER=0.05 \n",
      "=====================================================\n",
      " group1  group2 meandiff p-adj   lower  upper  reject\n",
      "-----------------------------------------------------\n",
      "  behav fcosine   0.0743    0.9 -0.5421 0.6908  False\n",
      "  behav   frmse   0.2928  0.595 -0.3236 0.9092  False\n",
      "  behav    rmse  -0.1578    0.9 -0.7742 0.4587  False\n",
      "fcosine   frmse   0.2185 0.7727 -0.4012 0.8381  False\n",
      "fcosine    rmse  -0.2321 0.7407 -0.8518 0.3876  False\n",
      "  frmse    rmse  -0.4506  0.238 -1.0702 0.1691  False\n",
      "-----------------------------------------------------\n"
     ]
    }
   ],
   "source": [
    "print(tukey)"
   ]
  },
  {
   "cell_type": "code",
   "execution_count": 26,
   "id": "28cec249",
   "metadata": {},
   "outputs": [],
   "source": [
    "from statsmodels.stats.multicomp import pairwise_tukeyhsd\n",
    "tukey = pairwise_tukeyhsd(endog=all_groups['inflection'],\n",
    "                          groups=all_groups['metric'],\n",
    "                          alpha=0.05)"
   ]
  },
  {
   "cell_type": "code",
   "execution_count": 27,
   "id": "76e451ea",
   "metadata": {},
   "outputs": [
    {
     "name": "stdout",
     "output_type": "stream",
     "text": [
      "  Multiple Comparison of Means - Tukey HSD, FWER=0.05  \n",
      "=======================================================\n",
      " group1  group2 meandiff p-adj   lower    upper  reject\n",
      "-------------------------------------------------------\n",
      "  behav fcosine   -4.673 0.7204  -16.699  7.3531  False\n",
      "  behav   frmse  -8.4725 0.2643 -20.4985  3.5535  False\n",
      "  behav    rmse   3.5258 0.8588  -8.5003 15.5518  False\n",
      "fcosine   frmse  -3.7995 0.8281 -15.8887  8.2896  False\n",
      "fcosine    rmse   8.1987 0.2971  -3.8904 20.2879  False\n",
      "  frmse    rmse  11.9983 0.0526  -0.0909 24.0874  False\n",
      "-------------------------------------------------------\n"
     ]
    }
   ],
   "source": [
    "print(tukey)"
   ]
  },
  {
   "cell_type": "markdown",
   "id": "430181e1",
   "metadata": {},
   "source": [
    "# compare mean"
   ]
  },
  {
   "cell_type": "code",
   "execution_count": 69,
   "id": "39fcb8ef",
   "metadata": {},
   "outputs": [],
   "source": [
    "def subtract_behav(group_behav, item):\n",
    "    def _subtract_behav(x):\n",
    "        try:\n",
    "            return x[item]-group_behav[x['stim']][item]\n",
    "        except:\n",
    "            return np.NaN\n",
    "    return _subtract_behav"
   ]
  },
  {
   "cell_type": "code",
   "execution_count": 70,
   "id": "6f96394e",
   "metadata": {},
   "outputs": [
    {
     "data": {
      "text/plain": [
       "0.188147708843683"
      ]
     },
     "execution_count": 70,
     "metadata": {},
     "output_type": "execute_result"
    }
   ],
   "source": [
    "group_behav['ac']['slope']"
   ]
  },
  {
   "cell_type": "code",
   "execution_count": 38,
   "id": "59bd24a1",
   "metadata": {},
   "outputs": [
    {
     "data": {
      "text/html": [
       "<div>\n",
       "<style scoped>\n",
       "    .dataframe tbody tr th:only-of-type {\n",
       "        vertical-align: middle;\n",
       "    }\n",
       "\n",
       "    .dataframe tbody tr th {\n",
       "        vertical-align: top;\n",
       "    }\n",
       "\n",
       "    .dataframe thead th {\n",
       "        text-align: right;\n",
       "    }\n",
       "</style>\n",
       "<table border=\"1\" class=\"dataframe\">\n",
       "  <thead>\n",
       "    <tr style=\"text-align: right;\">\n",
       "      <th>stim</th>\n",
       "      <th>ac</th>\n",
       "      <th>ad</th>\n",
       "      <th>ag</th>\n",
       "      <th>ah</th>\n",
       "      <th>bc</th>\n",
       "      <th>bd</th>\n",
       "      <th>bg</th>\n",
       "      <th>bh</th>\n",
       "      <th>ce</th>\n",
       "      <th>de</th>\n",
       "      <th>eg</th>\n",
       "      <th>eh</th>\n",
       "      <th>cf</th>\n",
       "      <th>df</th>\n",
       "      <th>fg</th>\n",
       "      <th>fh</th>\n",
       "    </tr>\n",
       "  </thead>\n",
       "  <tbody>\n",
       "    <tr>\n",
       "      <th>slope</th>\n",
       "      <td>0.188148</td>\n",
       "      <td>0.166949</td>\n",
       "      <td>0.274256</td>\n",
       "      <td>0.201704</td>\n",
       "      <td>0.189083</td>\n",
       "      <td>0.118929</td>\n",
       "      <td>0.231595</td>\n",
       "      <td>0.112464</td>\n",
       "      <td>0.189457</td>\n",
       "      <td>0.131609</td>\n",
       "      <td>0.125694</td>\n",
       "      <td>0.179967</td>\n",
       "      <td>0.261025</td>\n",
       "      <td>0.143298</td>\n",
       "      <td>0.580742</td>\n",
       "      <td>0.194440</td>\n",
       "    </tr>\n",
       "    <tr>\n",
       "      <th>inflection</th>\n",
       "      <td>70.222668</td>\n",
       "      <td>76.000209</td>\n",
       "      <td>61.882029</td>\n",
       "      <td>77.347338</td>\n",
       "      <td>69.493321</td>\n",
       "      <td>81.025303</td>\n",
       "      <td>60.827771</td>\n",
       "      <td>72.136789</td>\n",
       "      <td>61.606547</td>\n",
       "      <td>49.383199</td>\n",
       "      <td>94.710017</td>\n",
       "      <td>78.281169</td>\n",
       "      <td>51.118444</td>\n",
       "      <td>56.879763</td>\n",
       "      <td>78.445336</td>\n",
       "      <td>68.749459</td>\n",
       "    </tr>\n",
       "  </tbody>\n",
       "</table>\n",
       "</div>"
      ],
      "text/plain": [
       "stim               ac         ad         ag         ah         bc         bd  \\\n",
       "slope        0.188148   0.166949   0.274256   0.201704   0.189083   0.118929   \n",
       "inflection  70.222668  76.000209  61.882029  77.347338  69.493321  81.025303   \n",
       "\n",
       "stim               bg         bh         ce         de         eg         eh  \\\n",
       "slope        0.231595   0.112464   0.189457   0.131609   0.125694   0.179967   \n",
       "inflection  60.827771  72.136789  61.606547  49.383199  94.710017  78.281169   \n",
       "\n",
       "stim               cf         df         fg         fh  \n",
       "slope        0.261025   0.143298   0.580742   0.194440  \n",
       "inflection  51.118444  56.879763  78.445336  68.749459  "
      ]
     },
     "execution_count": 38,
     "metadata": {},
     "output_type": "execute_result"
    }
   ],
   "source": [
    "group_df[group_df.metric=='behav'][['stim', 'slope', 'inflection']].set_index('stim').T"
   ]
  },
  {
   "cell_type": "code",
   "execution_count": 71,
   "id": "7c1ced61",
   "metadata": {},
   "outputs": [
    {
     "name": "stderr",
     "output_type": "stream",
     "text": [
      "/home/shc079/miniconda3/envs/tf2.3gpu/lib/python3.7/site-packages/pandas/core/frame.py:1554: FutureWarning: Using short name for 'orient' is deprecated. Only the options: ('dict', list, 'series', 'split', 'records', 'index') will be used in a future version. Use one of the above to silence this warning.\n",
      "  FutureWarning,\n"
     ]
    }
   ],
   "source": [
    "normalized_df = pd.DataFrame()\n",
    "for group in ['Group 1', 'Group 2', 'Group 3']:\n",
    "    group_df = all_groups[all_groups.group==group].reset_index(drop=True)\n",
    "    group_behav = group_df[group_df.metric=='behav'][['stim', 'slope', 'inflection']].set_index('stim').T.to_dict('stim')\n",
    "    group_df['d_slope'] = group_df.apply(lambda x: subtract_behav(group_behav, 'slope')(x), axis=1)\n",
    "    group_df['d_inflection'] = group_df.apply(lambda x: subtract_behav(group_behav, 'inflection')(x), axis=1)\n",
    "    normalized_df = pd.concat([normalized_df, group_df]).reset_index(drop=True)"
   ]
  },
  {
   "cell_type": "code",
   "execution_count": 72,
   "id": "c87c2ec1",
   "metadata": {},
   "outputs": [
    {
     "data": {
      "text/html": [
       "<div>\n",
       "<style scoped>\n",
       "    .dataframe tbody tr th:only-of-type {\n",
       "        vertical-align: middle;\n",
       "    }\n",
       "\n",
       "    .dataframe tbody tr th {\n",
       "        vertical-align: top;\n",
       "    }\n",
       "\n",
       "    .dataframe thead th {\n",
       "        text-align: right;\n",
       "    }\n",
       "</style>\n",
       "<table border=\"1\" class=\"dataframe\">\n",
       "  <thead>\n",
       "    <tr style=\"text-align: right;\">\n",
       "      <th></th>\n",
       "      <th>min_val</th>\n",
       "      <th>max_val</th>\n",
       "      <th>slope</th>\n",
       "      <th>inflection</th>\n",
       "      <th>group</th>\n",
       "      <th>metric</th>\n",
       "      <th>stim</th>\n",
       "      <th>d_slope</th>\n",
       "      <th>d_inflection</th>\n",
       "    </tr>\n",
       "  </thead>\n",
       "  <tbody>\n",
       "    <tr>\n",
       "      <th>0</th>\n",
       "      <td>1.000000e-16</td>\n",
       "      <td>1.000000</td>\n",
       "      <td>0.033214</td>\n",
       "      <td>75.202742</td>\n",
       "      <td>Group 1</td>\n",
       "      <td>rmse</td>\n",
       "      <td>ae</td>\n",
       "      <td>-0.088473</td>\n",
       "      <td>23.820172</td>\n",
       "    </tr>\n",
       "    <tr>\n",
       "      <th>1</th>\n",
       "      <td>1.000000e-16</td>\n",
       "      <td>0.945304</td>\n",
       "      <td>0.032496</td>\n",
       "      <td>84.500302</td>\n",
       "      <td>Group 1</td>\n",
       "      <td>rmse</td>\n",
       "      <td>af</td>\n",
       "      <td>-0.082862</td>\n",
       "      <td>28.164192</td>\n",
       "    </tr>\n",
       "    <tr>\n",
       "      <th>2</th>\n",
       "      <td>1.000000e-16</td>\n",
       "      <td>0.860692</td>\n",
       "      <td>0.037051</td>\n",
       "      <td>76.503340</td>\n",
       "      <td>Group 1</td>\n",
       "      <td>rmse</td>\n",
       "      <td>ag</td>\n",
       "      <td>-0.081716</td>\n",
       "      <td>28.600583</td>\n",
       "    </tr>\n",
       "    <tr>\n",
       "      <th>3</th>\n",
       "      <td>1.000000e-16</td>\n",
       "      <td>0.616709</td>\n",
       "      <td>0.065078</td>\n",
       "      <td>56.980419</td>\n",
       "      <td>Group 1</td>\n",
       "      <td>rmse</td>\n",
       "      <td>ah</td>\n",
       "      <td>-0.071602</td>\n",
       "      <td>-11.165764</td>\n",
       "    </tr>\n",
       "    <tr>\n",
       "      <th>4</th>\n",
       "      <td>7.801580e-03</td>\n",
       "      <td>0.904488</td>\n",
       "      <td>0.054682</td>\n",
       "      <td>84.002627</td>\n",
       "      <td>Group 1</td>\n",
       "      <td>rmse</td>\n",
       "      <td>be</td>\n",
       "      <td>-0.113781</td>\n",
       "      <td>18.117609</td>\n",
       "    </tr>\n",
       "    <tr>\n",
       "      <th>...</th>\n",
       "      <td>...</td>\n",
       "      <td>...</td>\n",
       "      <td>...</td>\n",
       "      <td>...</td>\n",
       "      <td>...</td>\n",
       "      <td>...</td>\n",
       "      <td>...</td>\n",
       "      <td>...</td>\n",
       "      <td>...</td>\n",
       "    </tr>\n",
       "    <tr>\n",
       "      <th>184</th>\n",
       "      <td>2.861325e-02</td>\n",
       "      <td>0.944226</td>\n",
       "      <td>0.179967</td>\n",
       "      <td>78.281169</td>\n",
       "      <td>Group 3</td>\n",
       "      <td>behav</td>\n",
       "      <td>eh</td>\n",
       "      <td>0.000000</td>\n",
       "      <td>0.000000</td>\n",
       "    </tr>\n",
       "    <tr>\n",
       "      <th>185</th>\n",
       "      <td>4.704466e-02</td>\n",
       "      <td>0.882328</td>\n",
       "      <td>0.261025</td>\n",
       "      <td>51.118444</td>\n",
       "      <td>Group 3</td>\n",
       "      <td>behav</td>\n",
       "      <td>cf</td>\n",
       "      <td>0.000000</td>\n",
       "      <td>0.000000</td>\n",
       "    </tr>\n",
       "    <tr>\n",
       "      <th>186</th>\n",
       "      <td>5.463681e-02</td>\n",
       "      <td>0.939378</td>\n",
       "      <td>0.143298</td>\n",
       "      <td>56.879763</td>\n",
       "      <td>Group 3</td>\n",
       "      <td>behav</td>\n",
       "      <td>df</td>\n",
       "      <td>0.000000</td>\n",
       "      <td>0.000000</td>\n",
       "    </tr>\n",
       "    <tr>\n",
       "      <th>187</th>\n",
       "      <td>7.939078e-02</td>\n",
       "      <td>0.928413</td>\n",
       "      <td>0.580742</td>\n",
       "      <td>78.445336</td>\n",
       "      <td>Group 3</td>\n",
       "      <td>behav</td>\n",
       "      <td>fg</td>\n",
       "      <td>0.000000</td>\n",
       "      <td>0.000000</td>\n",
       "    </tr>\n",
       "    <tr>\n",
       "      <th>188</th>\n",
       "      <td>6.313337e-02</td>\n",
       "      <td>0.932895</td>\n",
       "      <td>0.194440</td>\n",
       "      <td>68.749459</td>\n",
       "      <td>Group 3</td>\n",
       "      <td>behav</td>\n",
       "      <td>fh</td>\n",
       "      <td>0.000000</td>\n",
       "      <td>0.000000</td>\n",
       "    </tr>\n",
       "  </tbody>\n",
       "</table>\n",
       "<p>189 rows × 9 columns</p>\n",
       "</div>"
      ],
      "text/plain": [
       "          min_val   max_val     slope  inflection    group metric stim  \\\n",
       "0    1.000000e-16  1.000000  0.033214   75.202742  Group 1   rmse   ae   \n",
       "1    1.000000e-16  0.945304  0.032496   84.500302  Group 1   rmse   af   \n",
       "2    1.000000e-16  0.860692  0.037051   76.503340  Group 1   rmse   ag   \n",
       "3    1.000000e-16  0.616709  0.065078   56.980419  Group 1   rmse   ah   \n",
       "4    7.801580e-03  0.904488  0.054682   84.002627  Group 1   rmse   be   \n",
       "..            ...       ...       ...         ...      ...    ...  ...   \n",
       "184  2.861325e-02  0.944226  0.179967   78.281169  Group 3  behav   eh   \n",
       "185  4.704466e-02  0.882328  0.261025   51.118444  Group 3  behav   cf   \n",
       "186  5.463681e-02  0.939378  0.143298   56.879763  Group 3  behav   df   \n",
       "187  7.939078e-02  0.928413  0.580742   78.445336  Group 3  behav   fg   \n",
       "188  6.313337e-02  0.932895  0.194440   68.749459  Group 3  behav   fh   \n",
       "\n",
       "      d_slope  d_inflection  \n",
       "0   -0.088473     23.820172  \n",
       "1   -0.082862     28.164192  \n",
       "2   -0.081716     28.600583  \n",
       "3   -0.071602    -11.165764  \n",
       "4   -0.113781     18.117609  \n",
       "..        ...           ...  \n",
       "184  0.000000      0.000000  \n",
       "185  0.000000      0.000000  \n",
       "186  0.000000      0.000000  \n",
       "187  0.000000      0.000000  \n",
       "188  0.000000      0.000000  \n",
       "\n",
       "[189 rows x 9 columns]"
      ]
     },
     "execution_count": 72,
     "metadata": {},
     "output_type": "execute_result"
    }
   ],
   "source": [
    "normalized_df"
   ]
  },
  {
   "cell_type": "code",
   "execution_count": 73,
   "id": "57287348",
   "metadata": {},
   "outputs": [],
   "source": [
    "normalized_df.drop(normalized_df[normalized_df['d_slope'] < -0.5].index, inplace = True)\n",
    "normalized_df.drop(normalized_df[normalized_df['d_slope'] > 0.5].index, inplace = True)\n",
    "normalized_df.drop(normalized_df[normalized_df['d_inflection'] < -50].index, inplace = True)\n",
    "normalized_df.drop(normalized_df[normalized_df['d_inflection'] > 50].index, inplace = True)"
   ]
  },
  {
   "cell_type": "code",
   "execution_count": 74,
   "id": "20e78c2b",
   "metadata": {},
   "outputs": [
    {
     "data": {
      "text/html": [
       "<div>\n",
       "<style scoped>\n",
       "    .dataframe tbody tr th:only-of-type {\n",
       "        vertical-align: middle;\n",
       "    }\n",
       "\n",
       "    .dataframe tbody tr th {\n",
       "        vertical-align: top;\n",
       "    }\n",
       "\n",
       "    .dataframe thead tr th {\n",
       "        text-align: left;\n",
       "    }\n",
       "\n",
       "    .dataframe thead tr:last-of-type th {\n",
       "        text-align: right;\n",
       "    }\n",
       "</style>\n",
       "<table border=\"1\" class=\"dataframe\">\n",
       "  <thead>\n",
       "    <tr>\n",
       "      <th></th>\n",
       "      <th colspan=\"8\" halign=\"left\">d_slope</th>\n",
       "      <th colspan=\"8\" halign=\"left\">d_inflection</th>\n",
       "    </tr>\n",
       "    <tr>\n",
       "      <th></th>\n",
       "      <th>count</th>\n",
       "      <th>mean</th>\n",
       "      <th>std</th>\n",
       "      <th>min</th>\n",
       "      <th>25%</th>\n",
       "      <th>50%</th>\n",
       "      <th>75%</th>\n",
       "      <th>max</th>\n",
       "      <th>count</th>\n",
       "      <th>mean</th>\n",
       "      <th>std</th>\n",
       "      <th>min</th>\n",
       "      <th>25%</th>\n",
       "      <th>50%</th>\n",
       "      <th>75%</th>\n",
       "      <th>max</th>\n",
       "    </tr>\n",
       "    <tr>\n",
       "      <th>metric</th>\n",
       "      <th></th>\n",
       "      <th></th>\n",
       "      <th></th>\n",
       "      <th></th>\n",
       "      <th></th>\n",
       "      <th></th>\n",
       "      <th></th>\n",
       "      <th></th>\n",
       "      <th></th>\n",
       "      <th></th>\n",
       "      <th></th>\n",
       "      <th></th>\n",
       "      <th></th>\n",
       "      <th></th>\n",
       "      <th></th>\n",
       "      <th></th>\n",
       "    </tr>\n",
       "  </thead>\n",
       "  <tbody>\n",
       "    <tr>\n",
       "      <th>behav</th>\n",
       "      <td>48.0</td>\n",
       "      <td>0.000000</td>\n",
       "      <td>0.000000</td>\n",
       "      <td>0.000000</td>\n",
       "      <td>0.000000</td>\n",
       "      <td>0.000000</td>\n",
       "      <td>0.000000</td>\n",
       "      <td>0.000000</td>\n",
       "      <td>48.0</td>\n",
       "      <td>0.000000</td>\n",
       "      <td>0.000000</td>\n",
       "      <td>0.000000</td>\n",
       "      <td>0.000000</td>\n",
       "      <td>0.000000</td>\n",
       "      <td>0.000000</td>\n",
       "      <td>0.000000</td>\n",
       "    </tr>\n",
       "    <tr>\n",
       "      <th>fcosine</th>\n",
       "      <td>40.0</td>\n",
       "      <td>0.020673</td>\n",
       "      <td>0.176420</td>\n",
       "      <td>-0.461695</td>\n",
       "      <td>-0.083326</td>\n",
       "      <td>0.010288</td>\n",
       "      <td>0.115901</td>\n",
       "      <td>0.431776</td>\n",
       "      <td>40.0</td>\n",
       "      <td>-5.448180</td>\n",
       "      <td>25.073610</td>\n",
       "      <td>-46.653799</td>\n",
       "      <td>-26.642675</td>\n",
       "      <td>-2.866867</td>\n",
       "      <td>9.666156</td>\n",
       "      <td>42.675798</td>\n",
       "    </tr>\n",
       "    <tr>\n",
       "      <th>frmse</th>\n",
       "      <td>39.0</td>\n",
       "      <td>-0.059797</td>\n",
       "      <td>0.128414</td>\n",
       "      <td>-0.362824</td>\n",
       "      <td>-0.117866</td>\n",
       "      <td>-0.081897</td>\n",
       "      <td>-0.019070</td>\n",
       "      <td>0.375197</td>\n",
       "      <td>39.0</td>\n",
       "      <td>-11.092622</td>\n",
       "      <td>20.783759</td>\n",
       "      <td>-48.194453</td>\n",
       "      <td>-24.643711</td>\n",
       "      <td>-9.503288</td>\n",
       "      <td>-0.839642</td>\n",
       "      <td>43.140812</td>\n",
       "    </tr>\n",
       "    <tr>\n",
       "      <th>rmse</th>\n",
       "      <td>43.0</td>\n",
       "      <td>-0.141953</td>\n",
       "      <td>0.059070</td>\n",
       "      <td>-0.346372</td>\n",
       "      <td>-0.164504</td>\n",
       "      <td>-0.136627</td>\n",
       "      <td>-0.096561</td>\n",
       "      <td>-0.054954</td>\n",
       "      <td>43.0</td>\n",
       "      <td>3.267490</td>\n",
       "      <td>21.343024</td>\n",
       "      <td>-34.586003</td>\n",
       "      <td>-15.406590</td>\n",
       "      <td>5.313899</td>\n",
       "      <td>20.202301</td>\n",
       "      <td>37.785882</td>\n",
       "    </tr>\n",
       "  </tbody>\n",
       "</table>\n",
       "</div>"
      ],
      "text/plain": [
       "        d_slope                                                              \\\n",
       "          count      mean       std       min       25%       50%       75%   \n",
       "metric                                                                        \n",
       "behav      48.0  0.000000  0.000000  0.000000  0.000000  0.000000  0.000000   \n",
       "fcosine    40.0  0.020673  0.176420 -0.461695 -0.083326  0.010288  0.115901   \n",
       "frmse      39.0 -0.059797  0.128414 -0.362824 -0.117866 -0.081897 -0.019070   \n",
       "rmse       43.0 -0.141953  0.059070 -0.346372 -0.164504 -0.136627 -0.096561   \n",
       "\n",
       "                  d_inflection                                              \\\n",
       "              max        count       mean        std        min        25%   \n",
       "metric                                                                       \n",
       "behav    0.000000         48.0   0.000000   0.000000   0.000000   0.000000   \n",
       "fcosine  0.431776         40.0  -5.448180  25.073610 -46.653799 -26.642675   \n",
       "frmse    0.375197         39.0 -11.092622  20.783759 -48.194453 -24.643711   \n",
       "rmse    -0.054954         43.0   3.267490  21.343024 -34.586003 -15.406590   \n",
       "\n",
       "                                         \n",
       "              50%        75%        max  \n",
       "metric                                   \n",
       "behav    0.000000   0.000000   0.000000  \n",
       "fcosine -2.866867   9.666156  42.675798  \n",
       "frmse   -9.503288  -0.839642  43.140812  \n",
       "rmse     5.313899  20.202301  37.785882  "
      ]
     },
     "execution_count": 74,
     "metadata": {},
     "output_type": "execute_result"
    }
   ],
   "source": [
    "normalized_df.groupby('metric')[['d_slope', 'd_inflection']].describe()"
   ]
  },
  {
   "cell_type": "code",
   "execution_count": 75,
   "id": "e5e6d2ac",
   "metadata": {},
   "outputs": [
    {
     "data": {
      "text/html": [
       "<div>\n",
       "<style scoped>\n",
       "    .dataframe tbody tr th:only-of-type {\n",
       "        vertical-align: middle;\n",
       "    }\n",
       "\n",
       "    .dataframe tbody tr th {\n",
       "        vertical-align: top;\n",
       "    }\n",
       "\n",
       "    .dataframe thead th {\n",
       "        text-align: right;\n",
       "    }\n",
       "</style>\n",
       "<table border=\"1\" class=\"dataframe\">\n",
       "  <thead>\n",
       "    <tr style=\"text-align: right;\">\n",
       "      <th></th>\n",
       "      <th>d_slope</th>\n",
       "      <th>d_inflection</th>\n",
       "    </tr>\n",
       "    <tr>\n",
       "      <th>metric</th>\n",
       "      <th></th>\n",
       "      <th></th>\n",
       "    </tr>\n",
       "  </thead>\n",
       "  <tbody>\n",
       "    <tr>\n",
       "      <th>behav</th>\n",
       "      <td>0.000000</td>\n",
       "      <td>0.000000</td>\n",
       "    </tr>\n",
       "    <tr>\n",
       "      <th>fcosine</th>\n",
       "      <td>0.010288</td>\n",
       "      <td>-2.866867</td>\n",
       "    </tr>\n",
       "    <tr>\n",
       "      <th>frmse</th>\n",
       "      <td>-0.081897</td>\n",
       "      <td>-9.503288</td>\n",
       "    </tr>\n",
       "    <tr>\n",
       "      <th>rmse</th>\n",
       "      <td>-0.136627</td>\n",
       "      <td>5.313899</td>\n",
       "    </tr>\n",
       "  </tbody>\n",
       "</table>\n",
       "</div>"
      ],
      "text/plain": [
       "          d_slope  d_inflection\n",
       "metric                         \n",
       "behav    0.000000      0.000000\n",
       "fcosine  0.010288     -2.866867\n",
       "frmse   -0.081897     -9.503288\n",
       "rmse    -0.136627      5.313899"
      ]
     },
     "execution_count": 75,
     "metadata": {},
     "output_type": "execute_result"
    }
   ],
   "source": [
    "normalized_df.groupby('metric')[['d_slope', 'd_inflection']].median()"
   ]
  },
  {
   "cell_type": "code",
   "execution_count": 76,
   "id": "580ac528",
   "metadata": {},
   "outputs": [
    {
     "data": {
      "text/plain": [
       "(-0.5, 1.5)"
      ]
     },
     "execution_count": 76,
     "metadata": {},
     "output_type": "execute_result"
    },
    {
     "data": {
      "image/png": "[encoded data removed]",
      "text/plain": [
       "<Figure size 432x288 with 1 Axes>"
      ]
     },
     "metadata": {
      "needs_background": "light"
     },
     "output_type": "display_data"
    }
   ],
   "source": [
    "sns.boxplot(x='metric', y='d_slope', data=normalized_df)\n",
    "plt.ylim([-.5, 1.5])"
   ]
  },
  {
   "cell_type": "code",
   "execution_count": 58,
   "id": "5a50f006",
   "metadata": {},
   "outputs": [
    {
     "data": {
      "text/plain": [
       "<AxesSubplot:xlabel='metric', ylabel='d_inflection'>"
      ]
     },
     "execution_count": 58,
     "metadata": {},
     "output_type": "execute_result"
    },
    {
     "data": {
      "image/png": "[encoded data removed]",
      "text/plain": [
       "<Figure size 432x288 with 1 Axes>"
      ]
     },
     "metadata": {
      "needs_background": "light"
     },
     "output_type": "display_data"
    }
   ],
   "source": [
    "sns.boxplot(x='metric', y='d_inflection', data=normalized_df)\n",
    "# plt.ylim([-.5, 1.5])"
   ]
  },
  {
   "cell_type": "code",
   "execution_count": 68,
   "id": "263e8967",
   "metadata": {},
   "outputs": [
    {
     "name": "stderr",
     "output_type": "stream",
     "text": [
      "/home/shc079/miniconda3/envs/tf2.3gpu/lib/python3.7/site-packages/statsmodels/regression/mixed_linear_model.py:2237: ConvergenceWarning: The MLE may be on the boundary of the parameter space.\n",
      "  warnings.warn(msg, ConvergenceWarning)\n"
     ]
    },
    {
     "data": {
      "text/html": [
       "<table class=\"simpletable\">\n",
       "<tr>\n",
       "       <td>Model:</td>       <td>MixedLM</td> <td>Dependent Variable:</td>  <td>d_slope</td>\n",
       "</tr>\n",
       "<tr>\n",
       "  <td>No. Observations:</td>   <td>170</td>         <td>Method:</td>         <td>REML</td>  \n",
       "</tr>\n",
       "<tr>\n",
       "     <td>No. Groups:</td>       <td>3</td>          <td>Scale:</td>         <td>0.0052</td> \n",
       "</tr>\n",
       "<tr>\n",
       "  <td>Min. group size:</td>    <td>54</td>      <td>Log-Likelihood:</td>   <td>191.6001</td>\n",
       "</tr>\n",
       "<tr>\n",
       "  <td>Max. group size:</td>    <td>60</td>        <td>Converged:</td>         <td>Yes</td>  \n",
       "</tr>\n",
       "<tr>\n",
       "  <td>Mean group size:</td>   <td>56.7</td>            <td></td>               <td></td>    \n",
       "</tr>\n",
       "</table>\n",
       "<table class=\"simpletable\">\n",
       "<tr>\n",
       "                      <td></td>                     <th>Coef.</th> <th>Std.Err.</th>   <th>z</th>   <th>P>|z|</th> <th>[0.025</th> <th>0.975]</th>\n",
       "</tr>\n",
       "<tr>\n",
       "  <th>Intercept</th>                                <td>0.000</td>   <td>0.020</td>  <td>0.000</td> <td>1.000</td> <td>-0.040</td>  <td>0.040</td>\n",
       "</tr>\n",
       "<tr>\n",
       "  <th>C(metric, Treatment('behav'))[T.fcosine]</th> <td>0.134</td>   <td>0.015</td>  <td>8.727</td> <td>0.000</td>  <td>0.104</td>  <td>0.164</td>\n",
       "</tr>\n",
       "<tr>\n",
       "  <th>C(metric, Treatment('behav'))[T.frmse]</th>   <td>0.109</td>   <td>0.016</td>  <td>7.009</td> <td>0.000</td>  <td>0.078</td>  <td>0.139</td>\n",
       "</tr>\n",
       "<tr>\n",
       "  <th>C(metric, Treatment('behav'))[T.rmse]</th>    <td>0.142</td>   <td>0.015</td>  <td>9.405</td> <td>0.000</td>  <td>0.112</td>  <td>0.172</td>\n",
       "</tr>\n",
       "<tr>\n",
       "  <th>group Var</th>                                <td>0.001</td>   <td>0.014</td>    <td></td>      <td></td>       <td></td>       <td></td>   \n",
       "</tr>\n",
       "</table>"
      ],
      "text/plain": [
       "<class 'statsmodels.iolib.summary2.Summary'>\n",
       "\"\"\"\n",
       "                      Mixed Linear Model Regression Results\n",
       "=================================================================================\n",
       "Model:                     MixedLM          Dependent Variable:          d_slope \n",
       "No. Observations:          170              Method:                      REML    \n",
       "No. Groups:                3                Scale:                       0.0052  \n",
       "Min. group size:           54               Log-Likelihood:              191.6001\n",
       "Max. group size:           60               Converged:                   Yes     \n",
       "Mean group size:           56.7                                                  \n",
       "---------------------------------------------------------------------------------\n",
       "                                         Coef. Std.Err.   z   P>|z| [0.025 0.975]\n",
       "---------------------------------------------------------------------------------\n",
       "Intercept                                0.000    0.020 0.000 1.000 -0.040  0.040\n",
       "C(metric, Treatment('behav'))[T.fcosine] 0.134    0.015 8.727 0.000  0.104  0.164\n",
       "C(metric, Treatment('behav'))[T.frmse]   0.109    0.016 7.009 0.000  0.078  0.139\n",
       "C(metric, Treatment('behav'))[T.rmse]    0.142    0.015 9.405 0.000  0.112  0.172\n",
       "group Var                                0.001    0.014                          \n",
       "=================================================================================\n",
       "\n",
       "\"\"\""
      ]
     },
     "execution_count": 68,
     "metadata": {},
     "output_type": "execute_result"
    }
   ],
   "source": [
    "model = smf.mixedlm(\"d_slope ~ C(metric, Treatment('behav'))\",\n",
    "                    normalized_df,\n",
    "                    groups= \"group\").fit()\n",
    "\n",
    "model.summary()"
   ]
  },
  {
   "cell_type": "code",
   "execution_count": 60,
   "id": "6cc1ce15",
   "metadata": {},
   "outputs": [
    {
     "data": {
      "text/html": [
       "<table class=\"simpletable\">\n",
       "<tr>\n",
       "       <td>Model:</td>       <td>MixedLM</td> <td>Dependent Variable:</td> <td>d_inflection</td>\n",
       "</tr>\n",
       "<tr>\n",
       "  <td>No. Observations:</td>   <td>170</td>         <td>Method:</td>           <td>REML</td>    \n",
       "</tr>\n",
       "<tr>\n",
       "     <td>No. Groups:</td>       <td>3</td>          <td>Scale:</td>          <td>347.8918</td>  \n",
       "</tr>\n",
       "<tr>\n",
       "  <td>Min. group size:</td>    <td>54</td>      <td>Log-Likelihood:</td>     <td>-730.1953</td> \n",
       "</tr>\n",
       "<tr>\n",
       "  <td>Max. group size:</td>    <td>60</td>        <td>Converged:</td>           <td>Yes</td>    \n",
       "</tr>\n",
       "<tr>\n",
       "  <td>Mean group size:</td>   <td>56.7</td>            <td></td>                 <td></td>      \n",
       "</tr>\n",
       "</table>\n",
       "<table class=\"simpletable\">\n",
       "<tr>\n",
       "                      <td></td>                      <th>Coef.</th>  <th>Std.Err.</th>    <th>z</th>   <th>P>|z|</th> <th>[0.025</th>  <th>0.975]</th>\n",
       "</tr>\n",
       "<tr>\n",
       "  <th>Intercept</th>                                <td>-0.000</td>    <td>3.737</td>  <td>-0.000</td> <td>1.000</td> <td>-7.324</td>   <td>7.324</td>\n",
       "</tr>\n",
       "<tr>\n",
       "  <th>C(metric, Treatment('behav'))[T.fcosine]</th> <td>-5.410</td>    <td>3.993</td>  <td>-1.355</td> <td>0.176</td> <td>-13.237</td>  <td>2.417</td>\n",
       "</tr>\n",
       "<tr>\n",
       "  <th>C(metric, Treatment('behav'))[T.frmse]</th>   <td>-11.436</td>   <td>4.025</td>  <td>-2.842</td> <td>0.004</td> <td>-19.324</td> <td>-3.548</td>\n",
       "</tr>\n",
       "<tr>\n",
       "  <th>C(metric, Treatment('behav'))[T.rmse]</th>     <td>2.992</td>    <td>3.919</td>   <td>0.763</td> <td>0.445</td> <td>-4.689</td>  <td>10.672</td>\n",
       "</tr>\n",
       "<tr>\n",
       "  <th>group Var</th>                                <td>20.145</td>    <td>1.412</td>     <td></td>      <td></td>       <td></td>        <td></td>   \n",
       "</tr>\n",
       "</table>"
      ],
      "text/plain": [
       "<class 'statsmodels.iolib.summary2.Summary'>\n",
       "\"\"\"\n",
       "                        Mixed Linear Model Regression Results\n",
       "=====================================================================================\n",
       "Model:                     MixedLM          Dependent Variable:          d_inflection\n",
       "No. Observations:          170              Method:                      REML        \n",
       "No. Groups:                3                Scale:                       347.8918    \n",
       "Min. group size:           54               Log-Likelihood:              -730.1953   \n",
       "Max. group size:           60               Converged:                   Yes         \n",
       "Mean group size:           56.7                                                      \n",
       "-------------------------------------------------------------------------------------\n",
       "                                          Coef.  Std.Err.   z    P>|z|  [0.025 0.975]\n",
       "-------------------------------------------------------------------------------------\n",
       "Intercept                                 -0.000    3.737 -0.000 1.000  -7.324  7.324\n",
       "C(metric, Treatment('behav'))[T.fcosine]  -5.410    3.993 -1.355 0.176 -13.237  2.417\n",
       "C(metric, Treatment('behav'))[T.frmse]   -11.436    4.025 -2.842 0.004 -19.324 -3.548\n",
       "C(metric, Treatment('behav'))[T.rmse]      2.992    3.919  0.763 0.445  -4.689 10.672\n",
       "group Var                                 20.145    1.412                            \n",
       "=====================================================================================\n",
       "\n",
       "\"\"\""
      ]
     },
     "execution_count": 60,
     "metadata": {},
     "output_type": "execute_result"
    }
   ],
   "source": [
    "model = smf.mixedlm(\"d_inflection ~ C(metric, Treatment('behav'))\",\n",
    "                    normalized_df,\n",
    "                    groups= \"group\").fit()\n",
    "\n",
    "model.summary()"
   ]
  },
  {
   "cell_type": "code",
   "execution_count": null,
   "id": "82e35f3f",
   "metadata": {},
   "outputs": [],
   "source": []
  }
 ],
 "metadata": {
  "kernelspec": {
   "display_name": "Python 3",
   "language": "python",
   "name": "python3"
  },
  "language_info": {
   "codemirror_mode": {
    "name": "ipython",
    "version": 3
   },
   "file_extension": ".py",
   "mimetype": "text/x-python",
   "name": "python",
   "nbconvert_exporter": "python",
   "pygments_lexer": "ipython3",
   "version": "3.7.10"
  }
 },
 "nbformat": 4,
 "nbformat_minor": 5
}
