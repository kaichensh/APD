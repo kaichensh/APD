{
 "cells": [
  {
   "cell_type": "code",
   "execution_count": 1,
   "id": "e24fde53",
   "metadata": {},
   "outputs": [],
   "source": [
    "import tensorflow as tf\n",
    "# tf.enable_eager_execution()\n",
    "import pandas as pd\n",
    "import numpy as np\n",
    "import matplotlib.pyplot as plt\n",
    "import random\n",
    "from glob import glob\n",
    "import pickle\n",
    "from tensorflow.keras import layers, Sequential, datasets, models, losses, Model, Input\n",
    "from tensorflow.keras.callbacks import EarlyStopping, ModelCheckpoint\n",
    "from tensorflow.keras.optimizers import Adam\n",
    "from sklearn.model_selection import train_test_split\n",
    "import datetime\n",
    "import sys\n",
    "from tensorflow.keras.backend import clear_session\n",
    "from trainingfuncs import *\n",
    "from math_utils import *\n",
    "from utils import *\n",
    "from scipy.spatial import distance\n",
    "import seaborn as sns\n",
    "import umap"
   ]
  },
  {
   "cell_type": "code",
   "execution_count": 2,
   "id": "03630af6",
   "metadata": {},
   "outputs": [],
   "source": [
    "sys.path.append(\"..\") # Adds higher directory to python modules path.\n",
    "from helpers.dataset_vars import *\n",
    "from helpers.myclasses import *"
   ]
  },
  {
   "cell_type": "code",
   "execution_count": 3,
   "id": "657b13e2",
   "metadata": {},
   "outputs": [],
   "source": [
    "morph_folder = os.path.abspath('/mnt/cube/kai/repositories/morphs/data/stimuli')\n",
    "\n",
    "results_folder = os.path.abspath('/mnt/cube/kai/results/perceptual_loss/morph')"
   ]
  },
  {
   "cell_type": "markdown",
   "id": "310c7475",
   "metadata": {},
   "source": [
    "# load all dfs"
   ]
  },
  {
   "cell_type": "code",
   "execution_count": 4,
   "id": "d7836ce8",
   "metadata": {},
   "outputs": [],
   "source": [
    "finetune_pred = pickle.load(open(os.path.join(results_folder, 'norm_robust', 'all_predicted.p'), 'rb'))\n",
    "pretrain_pred = pickle.load(open(os.path.join(results_folder, 'pretrained', 'pretrained_predicted.p'), 'rb'))\n",
    "group1_behav = pickle.load(open(os.path.join(results_folder, 'group1_behav_agg.p'), 'rb'))\n",
    "group2_behav = pickle.load(open(os.path.join(results_folder, 'group2_behav_agg.p'), 'rb'))\n",
    "group3_behav = pickle.load(open(os.path.join(results_folder, 'group3_behav_agg.p'), 'rb'))"
   ]
  },
  {
   "cell_type": "code",
   "execution_count": 5,
   "id": "2f3dbc13",
   "metadata": {},
   "outputs": [],
   "source": [
    "all_groups = pd.concat([finetune_pred, pretrain_pred,\n",
    "                       group1_behav, group2_behav, group3_behav]).reset_index(drop=True)"
   ]
  },
  {
   "cell_type": "code",
   "execution_count": 6,
   "id": "068c9c70",
   "metadata": {},
   "outputs": [
    {
     "data": {
      "text/html": [
       "<div>\n",
       "<style scoped>\n",
       "    .dataframe tbody tr th:only-of-type {\n",
       "        vertical-align: middle;\n",
       "    }\n",
       "\n",
       "    .dataframe tbody tr th {\n",
       "        vertical-align: top;\n",
       "    }\n",
       "\n",
       "    .dataframe thead th {\n",
       "        text-align: right;\n",
       "    }\n",
       "</style>\n",
       "<table border=\"1\" class=\"dataframe\">\n",
       "  <thead>\n",
       "    <tr style=\"text-align: right;\">\n",
       "      <th></th>\n",
       "      <th>index</th>\n",
       "      <th>min_val</th>\n",
       "      <th>max_val</th>\n",
       "      <th>slope</th>\n",
       "      <th>inflection</th>\n",
       "      <th>group</th>\n",
       "      <th>metric</th>\n",
       "    </tr>\n",
       "  </thead>\n",
       "  <tbody>\n",
       "    <tr>\n",
       "      <th>0</th>\n",
       "      <td>ae</td>\n",
       "      <td>1.000000e-16</td>\n",
       "      <td>1.000000</td>\n",
       "      <td>0.033214</td>\n",
       "      <td>75.202742</td>\n",
       "      <td>Group 1</td>\n",
       "      <td>rmse</td>\n",
       "    </tr>\n",
       "    <tr>\n",
       "      <th>1</th>\n",
       "      <td>af</td>\n",
       "      <td>1.000000e-16</td>\n",
       "      <td>0.945304</td>\n",
       "      <td>0.032496</td>\n",
       "      <td>84.500302</td>\n",
       "      <td>Group 1</td>\n",
       "      <td>rmse</td>\n",
       "    </tr>\n",
       "    <tr>\n",
       "      <th>2</th>\n",
       "      <td>ag</td>\n",
       "      <td>1.000000e-16</td>\n",
       "      <td>0.860692</td>\n",
       "      <td>0.037051</td>\n",
       "      <td>76.503340</td>\n",
       "      <td>Group 1</td>\n",
       "      <td>rmse</td>\n",
       "    </tr>\n",
       "    <tr>\n",
       "      <th>3</th>\n",
       "      <td>ah</td>\n",
       "      <td>1.000000e-16</td>\n",
       "      <td>0.616709</td>\n",
       "      <td>0.065078</td>\n",
       "      <td>56.980419</td>\n",
       "      <td>Group 1</td>\n",
       "      <td>rmse</td>\n",
       "    </tr>\n",
       "    <tr>\n",
       "      <th>4</th>\n",
       "      <td>be</td>\n",
       "      <td>7.801580e-03</td>\n",
       "      <td>0.904488</td>\n",
       "      <td>0.054682</td>\n",
       "      <td>84.002627</td>\n",
       "      <td>Group 1</td>\n",
       "      <td>rmse</td>\n",
       "    </tr>\n",
       "    <tr>\n",
       "      <th>...</th>\n",
       "      <td>...</td>\n",
       "      <td>...</td>\n",
       "      <td>...</td>\n",
       "      <td>...</td>\n",
       "      <td>...</td>\n",
       "      <td>...</td>\n",
       "      <td>...</td>\n",
       "    </tr>\n",
       "    <tr>\n",
       "      <th>253</th>\n",
       "      <td>eh</td>\n",
       "      <td>2.861325e-02</td>\n",
       "      <td>0.944226</td>\n",
       "      <td>0.179967</td>\n",
       "      <td>78.281169</td>\n",
       "      <td>Group 3</td>\n",
       "      <td>behav</td>\n",
       "    </tr>\n",
       "    <tr>\n",
       "      <th>254</th>\n",
       "      <td>cf</td>\n",
       "      <td>4.704466e-02</td>\n",
       "      <td>0.882328</td>\n",
       "      <td>0.261025</td>\n",
       "      <td>51.118444</td>\n",
       "      <td>Group 3</td>\n",
       "      <td>behav</td>\n",
       "    </tr>\n",
       "    <tr>\n",
       "      <th>255</th>\n",
       "      <td>df</td>\n",
       "      <td>5.463681e-02</td>\n",
       "      <td>0.939378</td>\n",
       "      <td>0.143298</td>\n",
       "      <td>56.879763</td>\n",
       "      <td>Group 3</td>\n",
       "      <td>behav</td>\n",
       "    </tr>\n",
       "    <tr>\n",
       "      <th>256</th>\n",
       "      <td>fg</td>\n",
       "      <td>7.939078e-02</td>\n",
       "      <td>0.928413</td>\n",
       "      <td>0.580742</td>\n",
       "      <td>78.445336</td>\n",
       "      <td>Group 3</td>\n",
       "      <td>behav</td>\n",
       "    </tr>\n",
       "    <tr>\n",
       "      <th>257</th>\n",
       "      <td>fh</td>\n",
       "      <td>6.313337e-02</td>\n",
       "      <td>0.932895</td>\n",
       "      <td>0.194440</td>\n",
       "      <td>68.749459</td>\n",
       "      <td>Group 3</td>\n",
       "      <td>behav</td>\n",
       "    </tr>\n",
       "  </tbody>\n",
       "</table>\n",
       "<p>258 rows × 7 columns</p>\n",
       "</div>"
      ],
      "text/plain": [
       "    index       min_val   max_val     slope  inflection    group metric\n",
       "0      ae  1.000000e-16  1.000000  0.033214   75.202742  Group 1   rmse\n",
       "1      af  1.000000e-16  0.945304  0.032496   84.500302  Group 1   rmse\n",
       "2      ag  1.000000e-16  0.860692  0.037051   76.503340  Group 1   rmse\n",
       "3      ah  1.000000e-16  0.616709  0.065078   56.980419  Group 1   rmse\n",
       "4      be  7.801580e-03  0.904488  0.054682   84.002627  Group 1   rmse\n",
       "..    ...           ...       ...       ...         ...      ...    ...\n",
       "253    eh  2.861325e-02  0.944226  0.179967   78.281169  Group 3  behav\n",
       "254    cf  4.704466e-02  0.882328  0.261025   51.118444  Group 3  behav\n",
       "255    df  5.463681e-02  0.939378  0.143298   56.879763  Group 3  behav\n",
       "256    fg  7.939078e-02  0.928413  0.580742   78.445336  Group 3  behav\n",
       "257    fh  6.313337e-02  0.932895  0.194440   68.749459  Group 3  behav\n",
       "\n",
       "[258 rows x 7 columns]"
      ]
     },
     "execution_count": 6,
     "metadata": {},
     "output_type": "execute_result"
    }
   ],
   "source": [
    "all_groups"
   ]
  },
  {
   "cell_type": "code",
   "execution_count": 7,
   "id": "752029bc",
   "metadata": {},
   "outputs": [],
   "source": [
    "all_groups= all_groups.drop(all_groups[all_groups.metric=='frmse'].index).reset_index(drop=True)"
   ]
  },
  {
   "cell_type": "code",
   "execution_count": 8,
   "id": "8f603663",
   "metadata": {},
   "outputs": [
    {
     "data": {
      "text/plain": [
       "array(['Group 1', 'Group 2', 'Group 3', nan], dtype=object)"
      ]
     },
     "execution_count": 8,
     "metadata": {},
     "output_type": "execute_result"
    }
   ],
   "source": [
    "all_groups.group.unique()"
   ]
  },
  {
   "cell_type": "code",
   "execution_count": 9,
   "id": "a5b4afeb",
   "metadata": {},
   "outputs": [],
   "source": [
    "all_groups = all_groups.fillna('Pre-train')"
   ]
  },
  {
   "cell_type": "code",
   "execution_count": 10,
   "id": "f65a89d3",
   "metadata": {},
   "outputs": [
    {
     "data": {
      "text/plain": [
       "array(['rmse', 'fcosine', 'behav'], dtype=object)"
      ]
     },
     "execution_count": 10,
     "metadata": {},
     "output_type": "execute_result"
    }
   ],
   "source": [
    "all_groups.metric.unique()"
   ]
  },
  {
   "cell_type": "code",
   "execution_count": 11,
   "id": "c70e298e",
   "metadata": {},
   "outputs": [],
   "source": [
    "def get_formal_metric(x):\n",
    "    if x['metric'] == 'rmse':\n",
    "        return 'MSE'\n",
    "    elif x['metric'] == 'behav':\n",
    "        return 'Ground Truth'\n",
    "    else:\n",
    "        if x['group'] == 'Pre-train':\n",
    "            return 'Pre-train'\n",
    "        else:\n",
    "            return 'APD'"
   ]
  },
  {
   "cell_type": "code",
   "execution_count": 12,
   "id": "b6d2b307",
   "metadata": {},
   "outputs": [],
   "source": [
    "def get_training_condition(x):\n",
    "    if x['metric'] == 'rmse':\n",
    "        return 'MSE'\n",
    "    elif x['metric'] == 'behav':\n",
    "        return 'Ground Truth'\n",
    "    else:\n",
    "        if x['group'] == 'Pre-train':\n",
    "            return 'Pre-train'\n",
    "        else:\n",
    "            return 'Fine-tune'"
   ]
  },
  {
   "cell_type": "code",
   "execution_count": 13,
   "id": "3cd0f103",
   "metadata": {},
   "outputs": [],
   "source": [
    "all_groups['condition'] = all_groups.apply(get_training_condition, axis=1)"
   ]
  },
  {
   "cell_type": "code",
   "execution_count": 14,
   "id": "d8ea921b",
   "metadata": {},
   "outputs": [],
   "source": [
    "all_groups['metric_formal'] = all_groups.apply(get_formal_metric, axis=1)"
   ]
  },
  {
   "cell_type": "code",
   "execution_count": 15,
   "id": "89e14bb5",
   "metadata": {},
   "outputs": [
    {
     "data": {
      "text/html": [
       "<div>\n",
       "<style scoped>\n",
       "    .dataframe tbody tr th:only-of-type {\n",
       "        vertical-align: middle;\n",
       "    }\n",
       "\n",
       "    .dataframe tbody tr th {\n",
       "        vertical-align: top;\n",
       "    }\n",
       "\n",
       "    .dataframe thead th {\n",
       "        text-align: right;\n",
       "    }\n",
       "</style>\n",
       "<table border=\"1\" class=\"dataframe\">\n",
       "  <thead>\n",
       "    <tr style=\"text-align: right;\">\n",
       "      <th></th>\n",
       "      <th>index</th>\n",
       "      <th>min_val</th>\n",
       "      <th>max_val</th>\n",
       "      <th>slope</th>\n",
       "      <th>inflection</th>\n",
       "      <th>group</th>\n",
       "      <th>metric</th>\n",
       "      <th>condition</th>\n",
       "      <th>metric_formal</th>\n",
       "    </tr>\n",
       "  </thead>\n",
       "  <tbody>\n",
       "    <tr>\n",
       "      <th>0</th>\n",
       "      <td>ae</td>\n",
       "      <td>1.000000e-16</td>\n",
       "      <td>1.000000</td>\n",
       "      <td>0.033214</td>\n",
       "      <td>75.202742</td>\n",
       "      <td>Group 1</td>\n",
       "      <td>rmse</td>\n",
       "      <td>MSE</td>\n",
       "      <td>MSE</td>\n",
       "    </tr>\n",
       "    <tr>\n",
       "      <th>1</th>\n",
       "      <td>af</td>\n",
       "      <td>1.000000e-16</td>\n",
       "      <td>0.945304</td>\n",
       "      <td>0.032496</td>\n",
       "      <td>84.500302</td>\n",
       "      <td>Group 1</td>\n",
       "      <td>rmse</td>\n",
       "      <td>MSE</td>\n",
       "      <td>MSE</td>\n",
       "    </tr>\n",
       "    <tr>\n",
       "      <th>2</th>\n",
       "      <td>ag</td>\n",
       "      <td>1.000000e-16</td>\n",
       "      <td>0.860692</td>\n",
       "      <td>0.037051</td>\n",
       "      <td>76.503340</td>\n",
       "      <td>Group 1</td>\n",
       "      <td>rmse</td>\n",
       "      <td>MSE</td>\n",
       "      <td>MSE</td>\n",
       "    </tr>\n",
       "    <tr>\n",
       "      <th>3</th>\n",
       "      <td>ah</td>\n",
       "      <td>1.000000e-16</td>\n",
       "      <td>0.616709</td>\n",
       "      <td>0.065078</td>\n",
       "      <td>56.980419</td>\n",
       "      <td>Group 1</td>\n",
       "      <td>rmse</td>\n",
       "      <td>MSE</td>\n",
       "      <td>MSE</td>\n",
       "    </tr>\n",
       "    <tr>\n",
       "      <th>4</th>\n",
       "      <td>be</td>\n",
       "      <td>7.801580e-03</td>\n",
       "      <td>0.904488</td>\n",
       "      <td>0.054682</td>\n",
       "      <td>84.002627</td>\n",
       "      <td>Group 1</td>\n",
       "      <td>rmse</td>\n",
       "      <td>MSE</td>\n",
       "      <td>MSE</td>\n",
       "    </tr>\n",
       "    <tr>\n",
       "      <th>...</th>\n",
       "      <td>...</td>\n",
       "      <td>...</td>\n",
       "      <td>...</td>\n",
       "      <td>...</td>\n",
       "      <td>...</td>\n",
       "      <td>...</td>\n",
       "      <td>...</td>\n",
       "      <td>...</td>\n",
       "      <td>...</td>\n",
       "    </tr>\n",
       "    <tr>\n",
       "      <th>183</th>\n",
       "      <td>eh</td>\n",
       "      <td>2.861325e-02</td>\n",
       "      <td>0.944226</td>\n",
       "      <td>0.179967</td>\n",
       "      <td>78.281169</td>\n",
       "      <td>Group 3</td>\n",
       "      <td>behav</td>\n",
       "      <td>Ground Truth</td>\n",
       "      <td>Ground Truth</td>\n",
       "    </tr>\n",
       "    <tr>\n",
       "      <th>184</th>\n",
       "      <td>cf</td>\n",
       "      <td>4.704466e-02</td>\n",
       "      <td>0.882328</td>\n",
       "      <td>0.261025</td>\n",
       "      <td>51.118444</td>\n",
       "      <td>Group 3</td>\n",
       "      <td>behav</td>\n",
       "      <td>Ground Truth</td>\n",
       "      <td>Ground Truth</td>\n",
       "    </tr>\n",
       "    <tr>\n",
       "      <th>185</th>\n",
       "      <td>df</td>\n",
       "      <td>5.463681e-02</td>\n",
       "      <td>0.939378</td>\n",
       "      <td>0.143298</td>\n",
       "      <td>56.879763</td>\n",
       "      <td>Group 3</td>\n",
       "      <td>behav</td>\n",
       "      <td>Ground Truth</td>\n",
       "      <td>Ground Truth</td>\n",
       "    </tr>\n",
       "    <tr>\n",
       "      <th>186</th>\n",
       "      <td>fg</td>\n",
       "      <td>7.939078e-02</td>\n",
       "      <td>0.928413</td>\n",
       "      <td>0.580742</td>\n",
       "      <td>78.445336</td>\n",
       "      <td>Group 3</td>\n",
       "      <td>behav</td>\n",
       "      <td>Ground Truth</td>\n",
       "      <td>Ground Truth</td>\n",
       "    </tr>\n",
       "    <tr>\n",
       "      <th>187</th>\n",
       "      <td>fh</td>\n",
       "      <td>6.313337e-02</td>\n",
       "      <td>0.932895</td>\n",
       "      <td>0.194440</td>\n",
       "      <td>68.749459</td>\n",
       "      <td>Group 3</td>\n",
       "      <td>behav</td>\n",
       "      <td>Ground Truth</td>\n",
       "      <td>Ground Truth</td>\n",
       "    </tr>\n",
       "  </tbody>\n",
       "</table>\n",
       "<p>188 rows × 9 columns</p>\n",
       "</div>"
      ],
      "text/plain": [
       "    index       min_val   max_val     slope  inflection    group metric  \\\n",
       "0      ae  1.000000e-16  1.000000  0.033214   75.202742  Group 1   rmse   \n",
       "1      af  1.000000e-16  0.945304  0.032496   84.500302  Group 1   rmse   \n",
       "2      ag  1.000000e-16  0.860692  0.037051   76.503340  Group 1   rmse   \n",
       "3      ah  1.000000e-16  0.616709  0.065078   56.980419  Group 1   rmse   \n",
       "4      be  7.801580e-03  0.904488  0.054682   84.002627  Group 1   rmse   \n",
       "..    ...           ...       ...       ...         ...      ...    ...   \n",
       "183    eh  2.861325e-02  0.944226  0.179967   78.281169  Group 3  behav   \n",
       "184    cf  4.704466e-02  0.882328  0.261025   51.118444  Group 3  behav   \n",
       "185    df  5.463681e-02  0.939378  0.143298   56.879763  Group 3  behav   \n",
       "186    fg  7.939078e-02  0.928413  0.580742   78.445336  Group 3  behav   \n",
       "187    fh  6.313337e-02  0.932895  0.194440   68.749459  Group 3  behav   \n",
       "\n",
       "        condition metric_formal  \n",
       "0             MSE           MSE  \n",
       "1             MSE           MSE  \n",
       "2             MSE           MSE  \n",
       "3             MSE           MSE  \n",
       "4             MSE           MSE  \n",
       "..            ...           ...  \n",
       "183  Ground Truth  Ground Truth  \n",
       "184  Ground Truth  Ground Truth  \n",
       "185  Ground Truth  Ground Truth  \n",
       "186  Ground Truth  Ground Truth  \n",
       "187  Ground Truth  Ground Truth  \n",
       "\n",
       "[188 rows x 9 columns]"
      ]
     },
     "execution_count": 15,
     "metadata": {},
     "output_type": "execute_result"
    }
   ],
   "source": [
    "all_groups"
   ]
  },
  {
   "cell_type": "code",
   "execution_count": 16,
   "id": "14d8f3f2",
   "metadata": {},
   "outputs": [
    {
     "data": {
      "text/plain": [
       "(0.0, 1.0)"
      ]
     },
     "execution_count": 16,
     "metadata": {},
     "output_type": "execute_result"
    },
    {
     "data": {
      "image/png": "[encoded data removed]",
      "text/plain": [
       "<Figure size 432x288 with 1 Axes>"
      ]
     },
     "metadata": {
      "needs_background": "light"
     },
     "output_type": "display_data"
    }
   ],
   "source": [
    "ax = sns.boxplot(y='slope', x='metric_formal',data=all_groups[all_groups.metric_formal.isin(['MSE', 'APD', 'Ground Truth'])],\n",
    "                order = ['MSE', 'APD', 'Ground Truth'])\n",
    "ax.set_ylim([0,1])"
   ]
  },
  {
   "cell_type": "code",
   "execution_count": 17,
   "id": "572e93db",
   "metadata": {},
   "outputs": [],
   "source": [
    "all_groups['stim'] = all_groups['index']\n",
    "all_groups = all_groups.drop(columns=['index'])"
   ]
  },
  {
   "cell_type": "code",
   "execution_count": 19,
   "id": "e93c7183",
   "metadata": {},
   "outputs": [],
   "source": [
    "import statsmodels.formula.api as smf"
   ]
  },
  {
   "cell_type": "code",
   "execution_count": 20,
   "id": "f9d77405",
   "metadata": {},
   "outputs": [
    {
     "name": "stderr",
     "output_type": "stream",
     "text": [
      "/home/shc079/miniconda3/envs/tf2.3gpu/lib/python3.7/site-packages/statsmodels/regression/mixed_linear_model.py:2237: ConvergenceWarning: The MLE may be on the boundary of the parameter space.\n",
      "  warnings.warn(msg, ConvergenceWarning)\n"
     ]
    },
    {
     "data": {
      "text/html": [
       "<table class=\"simpletable\">\n",
       "<tr>\n",
       "       <td>Model:</td>       <td>MixedLM</td> <td>Dependent Variable:</td>  <td>slope</td> \n",
       "</tr>\n",
       "<tr>\n",
       "  <td>No. Observations:</td>   <td>165</td>         <td>Method:</td>        <td>REML</td>  \n",
       "</tr>\n",
       "<tr>\n",
       "     <td>No. Groups:</td>      <td>24</td>          <td>Scale:</td>        <td>0.0298</td> \n",
       "</tr>\n",
       "<tr>\n",
       "  <td>Min. group size:</td>     <td>5</td>      <td>Log-Likelihood:</td>   <td>48.8053</td>\n",
       "</tr>\n",
       "<tr>\n",
       "  <td>Max. group size:</td>     <td>7</td>        <td>Converged:</td>        <td>Yes</td>  \n",
       "</tr>\n",
       "<tr>\n",
       "  <td>Mean group size:</td>    <td>6.9</td>            <td></td>              <td></td>    \n",
       "</tr>\n",
       "</table>\n",
       "<table class=\"simpletable\">\n",
       "<tr>\n",
       "                            <td></td>                            <th>Coef.</th> <th>Std.Err.</th>    <th>z</th>   <th>P>|z|</th> <th>[0.025</th> <th>0.975]</th>\n",
       "</tr>\n",
       "<tr>\n",
       "  <th>Intercept</th>                                             <td>0.209</td>   <td>0.025</td>   <td>8.376</td> <td>0.000</td>  <td>0.160</td>  <td>0.257</td>\n",
       "</tr>\n",
       "<tr>\n",
       "  <th>C(condition, Treatment('Ground Truth'))[T.Fine-tune]</th>  <td>0.074</td>   <td>0.035</td>   <td>2.099</td> <td>0.036</td>  <td>0.005</td>  <td>0.144</td>\n",
       "</tr>\n",
       "<tr>\n",
       "  <th>C(condition, Treatment('Ground Truth'))[T.MSE]</th>       <td>-0.162</td>   <td>0.032</td>  <td>-5.018</td> <td>0.000</td> <td>-0.226</td> <td>-0.099</td>\n",
       "</tr>\n",
       "<tr>\n",
       "  <th>stim Var</th>                                              <td>0.000</td>   <td>0.010</td>     <td></td>      <td></td>       <td></td>       <td></td>   \n",
       "</tr>\n",
       "</table>"
      ],
      "text/plain": [
       "<class 'statsmodels.iolib.summary2.Summary'>\n",
       "\"\"\"\n",
       "                             Mixed Linear Model Regression Results\n",
       "===============================================================================================\n",
       "Model:                          MixedLM               Dependent Variable:               slope  \n",
       "No. Observations:               165                   Method:                           REML   \n",
       "No. Groups:                     24                    Scale:                            0.0298 \n",
       "Min. group size:                5                     Log-Likelihood:                   48.8053\n",
       "Max. group size:                7                     Converged:                        Yes    \n",
       "Mean group size:                6.9                                                            \n",
       "-----------------------------------------------------------------------------------------------\n",
       "                                                     Coef.  Std.Err.   z    P>|z| [0.025 0.975]\n",
       "-----------------------------------------------------------------------------------------------\n",
       "Intercept                                             0.209    0.025  8.376 0.000  0.160  0.257\n",
       "C(condition, Treatment('Ground Truth'))[T.Fine-tune]  0.074    0.035  2.099 0.036  0.005  0.144\n",
       "C(condition, Treatment('Ground Truth'))[T.MSE]       -0.162    0.032 -5.018 0.000 -0.226 -0.099\n",
       "stim Var                                              0.000    0.010                           \n",
       "===============================================================================================\n",
       "\n",
       "\"\"\""
      ]
     },
     "execution_count": 20,
     "metadata": {},
     "output_type": "execute_result"
    }
   ],
   "source": [
    "model = smf.mixedlm(\"slope ~ C(condition, Treatment('Ground Truth')) \",\n",
    "                    all_groups[all_groups.metric_formal.isin(['MSE', 'APD', 'Ground Truth'])],\n",
    "                    groups= \"stim\").fit()\n",
    "\n",
    "model.summary()"
   ]
  },
  {
   "cell_type": "code",
   "execution_count": null,
   "id": "f6ef6189",
   "metadata": {},
   "outputs": [],
   "source": []
  },
  {
   "cell_type": "code",
   "execution_count": 99,
   "id": "07aad097",
   "metadata": {},
   "outputs": [
    {
     "data": {
      "image/png": "[encoded data removed]",
      "text/plain": [
       "<Figure size 432x288 with 1 Axes>"
      ]
     },
     "metadata": {
      "needs_background": "light"
     },
     "output_type": "display_data"
    }
   ],
   "source": [
    "ax = sns.boxplot(y='inflection', x='metric_formal',data=all_groups[all_groups.metric_formal.isin(['MSE', 'APD', 'Ground Truth'])],\n",
    "                order = ['MSE', 'APD', 'Ground Truth'])"
   ]
  },
  {
   "cell_type": "code",
   "execution_count": 100,
   "id": "74bd7aae",
   "metadata": {},
   "outputs": [
    {
     "data": {
      "text/plain": [
       "(0.0, 1.0)"
      ]
     },
     "execution_count": 100,
     "metadata": {},
     "output_type": "execute_result"
    },
    {
     "data": {
      "image/png": "[encoded data removed]",
      "text/plain": [
       "<Figure size 432x288 with 1 Axes>"
      ]
     },
     "metadata": {
      "needs_background": "light"
     },
     "output_type": "display_data"
    }
   ],
   "source": [
    "ax = sns.boxplot(y='slope', x='condition',data=all_groups[all_groups.condition.isin(['Pre-train', 'Fine-tune', 'Ground Truth'])],\n",
    "                order = ['Pre-train', 'Fine-tune', 'Ground Truth'])\n",
    "ax.set_ylim([0,1])"
   ]
  },
  {
   "cell_type": "code",
   "execution_count": 101,
   "id": "e1fa5235",
   "metadata": {},
   "outputs": [
    {
     "data": {
      "image/png": "[encoded data removed]",
      "text/plain": [
       "<Figure size 432x288 with 1 Axes>"
      ]
     },
     "metadata": {
      "needs_background": "light"
     },
     "output_type": "display_data"
    }
   ],
   "source": [
    "ax = sns.boxplot(y='inflection', x='condition',data=all_groups[all_groups.condition.isin(['Pre-train', 'Fine-tune', 'Ground Truth'])],\n",
    "                order = ['Pre-train', 'Fine-tune', 'Ground Truth'])"
   ]
  },
  {
   "cell_type": "markdown",
   "id": "ef8cac29",
   "metadata": {},
   "source": [
    "# separate by group"
   ]
  },
  {
   "cell_type": "code",
   "execution_count": 102,
   "id": "debe356b",
   "metadata": {},
   "outputs": [],
   "source": [
    "groups = ['Group 1', 'Group 2', 'Group 3']"
   ]
  },
  {
   "cell_type": "code",
   "execution_count": 103,
   "id": "2c55fb5e",
   "metadata": {},
   "outputs": [
    {
     "data": {
      "image/png": "[encoded data removed]",
      "text/plain": [
       "<Figure size 576x864 with 3 Axes>"
      ]
     },
     "metadata": {
      "needs_background": "light"
     },
     "output_type": "display_data"
    }
   ],
   "source": [
    "fig, ax = plt.subplots(3, 1, figsize=(8, 12))\n",
    "for i, group in enumerate(groups):\n",
    "    sns.boxplot(y='slope', x='condition',data=all_groups[all_groups.group.isin([group, 'Pre-train'])], ax=ax[i])\n",
    "    ax[i].set_ylim([0,1])"
   ]
  },
  {
   "cell_type": "code",
   "execution_count": 104,
   "id": "657604cc",
   "metadata": {},
   "outputs": [
    {
     "data": {
      "image/png": "[encoded data removed]",
      "text/plain": [
       "<Figure size 576x864 with 3 Axes>"
      ]
     },
     "metadata": {
      "needs_background": "light"
     },
     "output_type": "display_data"
    }
   ],
   "source": [
    "fig, ax = plt.subplots(3, 1, figsize=(8, 12))\n",
    "for i, group in enumerate(groups):\n",
    "    sns.boxplot(y='inflection', x='condition',data=all_groups[all_groups.group.isin([group, 'Pre-train'])], ax=ax[i])"
   ]
  },
  {
   "cell_type": "code",
   "execution_count": 105,
   "id": "843dc074",
   "metadata": {},
   "outputs": [],
   "source": [
    "import statsmodels.formula.api as smf"
   ]
  },
  {
   "cell_type": "code",
   "execution_count": 106,
   "id": "475bb652",
   "metadata": {},
   "outputs": [],
   "source": [
    "all_groups['stim'] = all_groups['index']"
   ]
  },
  {
   "cell_type": "code",
   "execution_count": 107,
   "id": "7885e938",
   "metadata": {},
   "outputs": [
    {
     "data": {
      "text/html": [
       "<div>\n",
       "<style scoped>\n",
       "    .dataframe tbody tr th:only-of-type {\n",
       "        vertical-align: middle;\n",
       "    }\n",
       "\n",
       "    .dataframe tbody tr th {\n",
       "        vertical-align: top;\n",
       "    }\n",
       "\n",
       "    .dataframe thead th {\n",
       "        text-align: right;\n",
       "    }\n",
       "</style>\n",
       "<table border=\"1\" class=\"dataframe\">\n",
       "  <thead>\n",
       "    <tr style=\"text-align: right;\">\n",
       "      <th></th>\n",
       "      <th>index</th>\n",
       "      <th>min_val</th>\n",
       "      <th>max_val</th>\n",
       "      <th>slope</th>\n",
       "      <th>inflection</th>\n",
       "      <th>group</th>\n",
       "      <th>metric</th>\n",
       "      <th>condition</th>\n",
       "      <th>metric_formal</th>\n",
       "      <th>stim</th>\n",
       "    </tr>\n",
       "  </thead>\n",
       "  <tbody>\n",
       "    <tr>\n",
       "      <th>0</th>\n",
       "      <td>ae</td>\n",
       "      <td>1.000000e-16</td>\n",
       "      <td>1.000000</td>\n",
       "      <td>0.033214</td>\n",
       "      <td>75.202742</td>\n",
       "      <td>Group 1</td>\n",
       "      <td>rmse</td>\n",
       "      <td>MSE</td>\n",
       "      <td>MSE</td>\n",
       "      <td>ae</td>\n",
       "    </tr>\n",
       "    <tr>\n",
       "      <th>1</th>\n",
       "      <td>af</td>\n",
       "      <td>1.000000e-16</td>\n",
       "      <td>0.945304</td>\n",
       "      <td>0.032496</td>\n",
       "      <td>84.500302</td>\n",
       "      <td>Group 1</td>\n",
       "      <td>rmse</td>\n",
       "      <td>MSE</td>\n",
       "      <td>MSE</td>\n",
       "      <td>af</td>\n",
       "    </tr>\n",
       "    <tr>\n",
       "      <th>2</th>\n",
       "      <td>ag</td>\n",
       "      <td>1.000000e-16</td>\n",
       "      <td>0.860692</td>\n",
       "      <td>0.037051</td>\n",
       "      <td>76.503340</td>\n",
       "      <td>Group 1</td>\n",
       "      <td>rmse</td>\n",
       "      <td>MSE</td>\n",
       "      <td>MSE</td>\n",
       "      <td>ag</td>\n",
       "    </tr>\n",
       "    <tr>\n",
       "      <th>3</th>\n",
       "      <td>ah</td>\n",
       "      <td>1.000000e-16</td>\n",
       "      <td>0.616709</td>\n",
       "      <td>0.065078</td>\n",
       "      <td>56.980419</td>\n",
       "      <td>Group 1</td>\n",
       "      <td>rmse</td>\n",
       "      <td>MSE</td>\n",
       "      <td>MSE</td>\n",
       "      <td>ah</td>\n",
       "    </tr>\n",
       "    <tr>\n",
       "      <th>4</th>\n",
       "      <td>be</td>\n",
       "      <td>7.801580e-03</td>\n",
       "      <td>0.904488</td>\n",
       "      <td>0.054682</td>\n",
       "      <td>84.002627</td>\n",
       "      <td>Group 1</td>\n",
       "      <td>rmse</td>\n",
       "      <td>MSE</td>\n",
       "      <td>MSE</td>\n",
       "      <td>be</td>\n",
       "    </tr>\n",
       "  </tbody>\n",
       "</table>\n",
       "</div>"
      ],
      "text/plain": [
       "  index       min_val   max_val     slope  inflection    group metric  \\\n",
       "0    ae  1.000000e-16  1.000000  0.033214   75.202742  Group 1   rmse   \n",
       "1    af  1.000000e-16  0.945304  0.032496   84.500302  Group 1   rmse   \n",
       "2    ag  1.000000e-16  0.860692  0.037051   76.503340  Group 1   rmse   \n",
       "3    ah  1.000000e-16  0.616709  0.065078   56.980419  Group 1   rmse   \n",
       "4    be  7.801580e-03  0.904488  0.054682   84.002627  Group 1   rmse   \n",
       "\n",
       "  condition metric_formal stim  \n",
       "0       MSE           MSE   ae  \n",
       "1       MSE           MSE   af  \n",
       "2       MSE           MSE   ag  \n",
       "3       MSE           MSE   ah  \n",
       "4       MSE           MSE   be  "
      ]
     },
     "execution_count": 107,
     "metadata": {},
     "output_type": "execute_result"
    }
   ],
   "source": [
    "all_groups.head()"
   ]
  },
  {
   "cell_type": "code",
   "execution_count": 108,
   "id": "1a9b947b",
   "metadata": {},
   "outputs": [],
   "source": [
    "all_groups = all_groups.drop(columns=['index'])"
   ]
  },
  {
   "cell_type": "code",
   "execution_count": 109,
   "id": "105505cf",
   "metadata": {},
   "outputs": [
    {
     "name": "stderr",
     "output_type": "stream",
     "text": [
      "/home/shc079/miniconda3/envs/tf2.3gpu/lib/python3.7/site-packages/statsmodels/regression/mixed_linear_model.py:2237: ConvergenceWarning: The MLE may be on the boundary of the parameter space.\n",
      "  warnings.warn(msg, ConvergenceWarning)\n"
     ]
    },
    {
     "data": {
      "text/html": [
       "<table class=\"simpletable\">\n",
       "<tr>\n",
       "       <td>Model:</td>       <td>MixedLM</td> <td>Dependent Variable:</td>  <td>slope</td> \n",
       "</tr>\n",
       "<tr>\n",
       "  <td>No. Observations:</td>   <td>188</td>         <td>Method:</td>        <td>REML</td>  \n",
       "</tr>\n",
       "<tr>\n",
       "     <td>No. Groups:</td>       <td>4</td>          <td>Scale:</td>        <td>0.0263</td> \n",
       "</tr>\n",
       "<tr>\n",
       "  <td>Min. group size:</td>    <td>46</td>      <td>Log-Likelihood:</td>   <td>65.6418</td>\n",
       "</tr>\n",
       "<tr>\n",
       "  <td>Max. group size:</td>    <td>48</td>        <td>Converged:</td>        <td>Yes</td>  \n",
       "</tr>\n",
       "<tr>\n",
       "  <td>Mean group size:</td>   <td>47.0</td>            <td></td>              <td></td>    \n",
       "</tr>\n",
       "</table>\n",
       "<table class=\"simpletable\">\n",
       "<tr>\n",
       "                            <td></td>                            <th>Coef.</th> <th>Std.Err.</th>    <th>z</th>   <th>P>|z|</th> <th>[0.025</th> <th>0.975]</th>\n",
       "</tr>\n",
       "<tr>\n",
       "  <th>Intercept</th>                                             <td>0.208</td>   <td>0.025</td>   <td>8.231</td> <td>0.000</td>  <td>0.158</td>  <td>0.257</td>\n",
       "</tr>\n",
       "<tr>\n",
       "  <th>C(condition, Treatment('Ground Truth'))[T.Fine-tune]</th>  <td>0.074</td>   <td>0.033</td>   <td>2.226</td> <td>0.026</td>  <td>0.009</td>  <td>0.139</td>\n",
       "</tr>\n",
       "<tr>\n",
       "  <th>C(condition, Treatment('Ground Truth'))[T.MSE]</th>       <td>-0.162</td>   <td>0.031</td>  <td>-5.225</td> <td>0.000</td> <td>-0.222</td> <td>-0.101</td>\n",
       "</tr>\n",
       "<tr>\n",
       "  <th>C(condition, Treatment('Ground Truth'))[T.Pre-train]</th> <td>-0.144</td>   <td>0.045</td>  <td>-3.210</td> <td>0.001</td> <td>-0.233</td> <td>-0.056</td>\n",
       "</tr>\n",
       "<tr>\n",
       "  <th>group Var</th>                                             <td>0.000</td>   <td>0.004</td>     <td></td>      <td></td>       <td></td>       <td></td>   \n",
       "</tr>\n",
       "</table>"
      ],
      "text/plain": [
       "<class 'statsmodels.iolib.summary2.Summary'>\n",
       "\"\"\"\n",
       "                             Mixed Linear Model Regression Results\n",
       "===============================================================================================\n",
       "Model:                          MixedLM               Dependent Variable:               slope  \n",
       "No. Observations:               188                   Method:                           REML   \n",
       "No. Groups:                     4                     Scale:                            0.0263 \n",
       "Min. group size:                46                    Log-Likelihood:                   65.6418\n",
       "Max. group size:                48                    Converged:                        Yes    \n",
       "Mean group size:                47.0                                                           \n",
       "-----------------------------------------------------------------------------------------------\n",
       "                                                     Coef.  Std.Err.   z    P>|z| [0.025 0.975]\n",
       "-----------------------------------------------------------------------------------------------\n",
       "Intercept                                             0.208    0.025  8.231 0.000  0.158  0.257\n",
       "C(condition, Treatment('Ground Truth'))[T.Fine-tune]  0.074    0.033  2.226 0.026  0.009  0.139\n",
       "C(condition, Treatment('Ground Truth'))[T.MSE]       -0.162    0.031 -5.225 0.000 -0.222 -0.101\n",
       "C(condition, Treatment('Ground Truth'))[T.Pre-train] -0.144    0.045 -3.210 0.001 -0.233 -0.056\n",
       "group Var                                             0.000    0.004                           \n",
       "===============================================================================================\n",
       "\n",
       "\"\"\""
      ]
     },
     "execution_count": 109,
     "metadata": {},
     "output_type": "execute_result"
    }
   ],
   "source": [
    "model = smf.mixedlm(\"slope ~ C(condition, Treatment('Ground Truth')) \",\n",
    "                    all_groups,\n",
    "                    groups= \"group\").fit()\n",
    "\n",
    "model.summary()"
   ]
  },
  {
   "cell_type": "code",
   "execution_count": 110,
   "id": "08ccfbcd",
   "metadata": {
    "scrolled": false
   },
   "outputs": [
    {
     "name": "stderr",
     "output_type": "stream",
     "text": [
      "/home/shc079/miniconda3/envs/tf2.3gpu/lib/python3.7/site-packages/statsmodels/base/model.py:568: ConvergenceWarning: Maximum Likelihood optimization failed to converge. Check mle_retvals\n",
      "  ConvergenceWarning)\n",
      "/home/shc079/miniconda3/envs/tf2.3gpu/lib/python3.7/site-packages/statsmodels/regression/mixed_linear_model.py:2202: ConvergenceWarning: Retrying MixedLM optimization with lbfgs\n",
      "  ConvergenceWarning)\n",
      "/home/shc079/miniconda3/envs/tf2.3gpu/lib/python3.7/site-packages/statsmodels/base/model.py:568: ConvergenceWarning: Maximum Likelihood optimization failed to converge. Check mle_retvals\n",
      "  ConvergenceWarning)\n",
      "/home/shc079/miniconda3/envs/tf2.3gpu/lib/python3.7/site-packages/statsmodels/regression/mixed_linear_model.py:2202: ConvergenceWarning: Retrying MixedLM optimization with cg\n",
      "  ConvergenceWarning)\n",
      "/home/shc079/miniconda3/envs/tf2.3gpu/lib/python3.7/site-packages/statsmodels/base/model.py:568: ConvergenceWarning: Maximum Likelihood optimization failed to converge. Check mle_retvals\n",
      "  ConvergenceWarning)\n",
      "/home/shc079/miniconda3/envs/tf2.3gpu/lib/python3.7/site-packages/statsmodels/regression/mixed_linear_model.py:2206: ConvergenceWarning: MixedLM optimization failed, trying a different optimizer may help.\n",
      "  warnings.warn(msg, ConvergenceWarning)\n",
      "/home/shc079/miniconda3/envs/tf2.3gpu/lib/python3.7/site-packages/statsmodels/regression/mixed_linear_model.py:2218: ConvergenceWarning: Gradient optimization failed, |grad| = 0.030333\n",
      "  warnings.warn(msg, ConvergenceWarning)\n",
      "/home/shc079/miniconda3/envs/tf2.3gpu/lib/python3.7/site-packages/statsmodels/regression/mixed_linear_model.py:2237: ConvergenceWarning: The MLE may be on the boundary of the parameter space.\n",
      "  warnings.warn(msg, ConvergenceWarning)\n",
      "/home/shc079/miniconda3/envs/tf2.3gpu/lib/python3.7/site-packages/statsmodels/regression/mixed_linear_model.py:2261: ConvergenceWarning: The Hessian matrix at the estimated parameter values is not positive definite.\n",
      "  warnings.warn(msg, ConvergenceWarning)\n"
     ]
    },
    {
     "data": {
      "text/html": [
       "<table class=\"simpletable\">\n",
       "<tr>\n",
       "       <td>Model:</td>       <td>MixedLM</td> <td>Dependent Variable:</td> <td>inflection</td>\n",
       "</tr>\n",
       "<tr>\n",
       "  <td>No. Observations:</td>   <td>188</td>         <td>Method:</td>          <td>REML</td>   \n",
       "</tr>\n",
       "<tr>\n",
       "     <td>No. Groups:</td>       <td>4</td>          <td>Scale:</td>         <td>421.6514</td> \n",
       "</tr>\n",
       "<tr>\n",
       "  <td>Min. group size:</td>    <td>46</td>      <td>Log-Likelihood:</td>    <td>-824.7018</td>\n",
       "</tr>\n",
       "<tr>\n",
       "  <td>Max. group size:</td>    <td>48</td>        <td>Converged:</td>          <td>No</td>    \n",
       "</tr>\n",
       "<tr>\n",
       "  <td>Mean group size:</td>   <td>47.0</td>            <td></td>                <td></td>     \n",
       "</tr>\n",
       "</table>\n",
       "<table class=\"simpletable\">\n",
       "<tr>\n",
       "                            <td></td>                            <th>Coef.</th> <th>Std.Err.</th>    <th>z</th>   <th>P>|z|</th> <th>[0.025</th>  <th>0.975]</th>\n",
       "</tr>\n",
       "<tr>\n",
       "  <th>Intercept</th>                                            <td>64.139</td>   <td>2.909</td>  <td>22.051</td> <td>0.000</td> <td>58.438</td>  <td>69.840</td>\n",
       "</tr>\n",
       "<tr>\n",
       "  <th>C(condition, Treatment('Ground Truth'))[T.Fine-tune]</th> <td>-4.673</td>   <td>4.214</td>  <td>-1.109</td> <td>0.267</td> <td>-12.932</td>  <td>3.586</td>\n",
       "</tr>\n",
       "<tr>\n",
       "  <th>C(condition, Treatment('Ground Truth'))[T.MSE]</th>        <td>2.020</td>   <td>3.776</td>   <td>0.535</td> <td>0.593</td> <td>-5.380</td>   <td>9.421</td>\n",
       "</tr>\n",
       "<tr>\n",
       "  <th>C(condition, Treatment('Ground Truth'))[T.Pre-train]</th> <td>-0.838</td>   <td>4.683</td>  <td>-0.179</td> <td>0.858</td> <td>-10.016</td>  <td>8.340</td>\n",
       "</tr>\n",
       "<tr>\n",
       "  <th>group Var</th>                                             <td>0.000</td>     <td></td>        <td></td>      <td></td>       <td></td>        <td></td>   \n",
       "</tr>\n",
       "</table>"
      ],
      "text/plain": [
       "<class 'statsmodels.iolib.summary2.Summary'>\n",
       "\"\"\"\n",
       "                             Mixed Linear Model Regression Results\n",
       "================================================================================================\n",
       "Model:                          MixedLM              Dependent Variable:              inflection\n",
       "No. Observations:               188                  Method:                          REML      \n",
       "No. Groups:                     4                    Scale:                           421.6514  \n",
       "Min. group size:                46                   Log-Likelihood:                  -824.7018 \n",
       "Max. group size:                48                   Converged:                       No        \n",
       "Mean group size:                47.0                                                            \n",
       "------------------------------------------------------------------------------------------------\n",
       "                                                     Coef.  Std.Err.   z    P>|z|  [0.025 0.975]\n",
       "------------------------------------------------------------------------------------------------\n",
       "Intercept                                            64.139    2.909 22.051 0.000  58.438 69.840\n",
       "C(condition, Treatment('Ground Truth'))[T.Fine-tune] -4.673    4.214 -1.109 0.267 -12.932  3.586\n",
       "C(condition, Treatment('Ground Truth'))[T.MSE]        2.020    3.776  0.535 0.593  -5.380  9.421\n",
       "C(condition, Treatment('Ground Truth'))[T.Pre-train] -0.838    4.683 -0.179 0.858 -10.016  8.340\n",
       "group Var                                             0.000                                     \n",
       "================================================================================================\n",
       "\n",
       "\"\"\""
      ]
     },
     "execution_count": 110,
     "metadata": {},
     "output_type": "execute_result"
    }
   ],
   "source": [
    "model = smf.mixedlm(\"inflection ~  C(condition, Treatment('Ground Truth'))\",\n",
    "                    all_groups,\n",
    "                    groups= \"group\").fit()\n",
    "\n",
    "model.summary()"
   ]
  },
  {
   "cell_type": "code",
   "execution_count": 111,
   "id": "0a58c35f",
   "metadata": {},
   "outputs": [
    {
     "data": {
      "text/html": [
       "<div>\n",
       "<style scoped>\n",
       "    .dataframe tbody tr th:only-of-type {\n",
       "        vertical-align: middle;\n",
       "    }\n",
       "\n",
       "    .dataframe tbody tr th {\n",
       "        vertical-align: top;\n",
       "    }\n",
       "\n",
       "    .dataframe thead th {\n",
       "        text-align: right;\n",
       "    }\n",
       "</style>\n",
       "<table border=\"1\" class=\"dataframe\">\n",
       "  <thead>\n",
       "    <tr style=\"text-align: right;\">\n",
       "      <th></th>\n",
       "      <th>min_val</th>\n",
       "      <th>max_val</th>\n",
       "      <th>slope</th>\n",
       "      <th>inflection</th>\n",
       "      <th>group</th>\n",
       "      <th>metric</th>\n",
       "      <th>condition</th>\n",
       "      <th>metric_formal</th>\n",
       "      <th>stim</th>\n",
       "    </tr>\n",
       "  </thead>\n",
       "  <tbody>\n",
       "    <tr>\n",
       "      <th>0</th>\n",
       "      <td>1.000000e-16</td>\n",
       "      <td>1.000000</td>\n",
       "      <td>0.033214</td>\n",
       "      <td>75.202742</td>\n",
       "      <td>Group 1</td>\n",
       "      <td>rmse</td>\n",
       "      <td>MSE</td>\n",
       "      <td>MSE</td>\n",
       "      <td>ae</td>\n",
       "    </tr>\n",
       "    <tr>\n",
       "      <th>1</th>\n",
       "      <td>1.000000e-16</td>\n",
       "      <td>0.945304</td>\n",
       "      <td>0.032496</td>\n",
       "      <td>84.500302</td>\n",
       "      <td>Group 1</td>\n",
       "      <td>rmse</td>\n",
       "      <td>MSE</td>\n",
       "      <td>MSE</td>\n",
       "      <td>af</td>\n",
       "    </tr>\n",
       "    <tr>\n",
       "      <th>2</th>\n",
       "      <td>1.000000e-16</td>\n",
       "      <td>0.860692</td>\n",
       "      <td>0.037051</td>\n",
       "      <td>76.503340</td>\n",
       "      <td>Group 1</td>\n",
       "      <td>rmse</td>\n",
       "      <td>MSE</td>\n",
       "      <td>MSE</td>\n",
       "      <td>ag</td>\n",
       "    </tr>\n",
       "    <tr>\n",
       "      <th>3</th>\n",
       "      <td>1.000000e-16</td>\n",
       "      <td>0.616709</td>\n",
       "      <td>0.065078</td>\n",
       "      <td>56.980419</td>\n",
       "      <td>Group 1</td>\n",
       "      <td>rmse</td>\n",
       "      <td>MSE</td>\n",
       "      <td>MSE</td>\n",
       "      <td>ah</td>\n",
       "    </tr>\n",
       "    <tr>\n",
       "      <th>4</th>\n",
       "      <td>7.801580e-03</td>\n",
       "      <td>0.904488</td>\n",
       "      <td>0.054682</td>\n",
       "      <td>84.002627</td>\n",
       "      <td>Group 1</td>\n",
       "      <td>rmse</td>\n",
       "      <td>MSE</td>\n",
       "      <td>MSE</td>\n",
       "      <td>be</td>\n",
       "    </tr>\n",
       "    <tr>\n",
       "      <th>...</th>\n",
       "      <td>...</td>\n",
       "      <td>...</td>\n",
       "      <td>...</td>\n",
       "      <td>...</td>\n",
       "      <td>...</td>\n",
       "      <td>...</td>\n",
       "      <td>...</td>\n",
       "      <td>...</td>\n",
       "      <td>...</td>\n",
       "    </tr>\n",
       "    <tr>\n",
       "      <th>183</th>\n",
       "      <td>2.861325e-02</td>\n",
       "      <td>0.944226</td>\n",
       "      <td>0.179967</td>\n",
       "      <td>78.281169</td>\n",
       "      <td>Group 3</td>\n",
       "      <td>behav</td>\n",
       "      <td>Ground Truth</td>\n",
       "      <td>Ground Truth</td>\n",
       "      <td>eh</td>\n",
       "    </tr>\n",
       "    <tr>\n",
       "      <th>184</th>\n",
       "      <td>4.704466e-02</td>\n",
       "      <td>0.882328</td>\n",
       "      <td>0.261025</td>\n",
       "      <td>51.118444</td>\n",
       "      <td>Group 3</td>\n",
       "      <td>behav</td>\n",
       "      <td>Ground Truth</td>\n",
       "      <td>Ground Truth</td>\n",
       "      <td>cf</td>\n",
       "    </tr>\n",
       "    <tr>\n",
       "      <th>185</th>\n",
       "      <td>5.463681e-02</td>\n",
       "      <td>0.939378</td>\n",
       "      <td>0.143298</td>\n",
       "      <td>56.879763</td>\n",
       "      <td>Group 3</td>\n",
       "      <td>behav</td>\n",
       "      <td>Ground Truth</td>\n",
       "      <td>Ground Truth</td>\n",
       "      <td>df</td>\n",
       "    </tr>\n",
       "    <tr>\n",
       "      <th>186</th>\n",
       "      <td>7.939078e-02</td>\n",
       "      <td>0.928413</td>\n",
       "      <td>0.580742</td>\n",
       "      <td>78.445336</td>\n",
       "      <td>Group 3</td>\n",
       "      <td>behav</td>\n",
       "      <td>Ground Truth</td>\n",
       "      <td>Ground Truth</td>\n",
       "      <td>fg</td>\n",
       "    </tr>\n",
       "    <tr>\n",
       "      <th>187</th>\n",
       "      <td>6.313337e-02</td>\n",
       "      <td>0.932895</td>\n",
       "      <td>0.194440</td>\n",
       "      <td>68.749459</td>\n",
       "      <td>Group 3</td>\n",
       "      <td>behav</td>\n",
       "      <td>Ground Truth</td>\n",
       "      <td>Ground Truth</td>\n",
       "      <td>fh</td>\n",
       "    </tr>\n",
       "  </tbody>\n",
       "</table>\n",
       "<p>188 rows × 9 columns</p>\n",
       "</div>"
      ],
      "text/plain": [
       "          min_val   max_val     slope  inflection    group metric  \\\n",
       "0    1.000000e-16  1.000000  0.033214   75.202742  Group 1   rmse   \n",
       "1    1.000000e-16  0.945304  0.032496   84.500302  Group 1   rmse   \n",
       "2    1.000000e-16  0.860692  0.037051   76.503340  Group 1   rmse   \n",
       "3    1.000000e-16  0.616709  0.065078   56.980419  Group 1   rmse   \n",
       "4    7.801580e-03  0.904488  0.054682   84.002627  Group 1   rmse   \n",
       "..            ...       ...       ...         ...      ...    ...   \n",
       "183  2.861325e-02  0.944226  0.179967   78.281169  Group 3  behav   \n",
       "184  4.704466e-02  0.882328  0.261025   51.118444  Group 3  behav   \n",
       "185  5.463681e-02  0.939378  0.143298   56.879763  Group 3  behav   \n",
       "186  7.939078e-02  0.928413  0.580742   78.445336  Group 3  behav   \n",
       "187  6.313337e-02  0.932895  0.194440   68.749459  Group 3  behav   \n",
       "\n",
       "        condition metric_formal stim  \n",
       "0             MSE           MSE   ae  \n",
       "1             MSE           MSE   af  \n",
       "2             MSE           MSE   ag  \n",
       "3             MSE           MSE   ah  \n",
       "4             MSE           MSE   be  \n",
       "..            ...           ...  ...  \n",
       "183  Ground Truth  Ground Truth   eh  \n",
       "184  Ground Truth  Ground Truth   cf  \n",
       "185  Ground Truth  Ground Truth   df  \n",
       "186  Ground Truth  Ground Truth   fg  \n",
       "187  Ground Truth  Ground Truth   fh  \n",
       "\n",
       "[188 rows x 9 columns]"
      ]
     },
     "execution_count": 111,
     "metadata": {},
     "output_type": "execute_result"
    }
   ],
   "source": [
    "all_groups"
   ]
  },
  {
   "cell_type": "code",
   "execution_count": 112,
   "id": "5b2f567e",
   "metadata": {},
   "outputs": [],
   "source": [
    "def subtract_behav(group_behav, item):\n",
    "    def _subtract_behav(x):\n",
    "        try:\n",
    "            return x[item]-group_behav[x['stim']][item]\n",
    "        except:\n",
    "            return np.NaN\n",
    "    return _subtract_behav"
   ]
  },
  {
   "cell_type": "code",
   "execution_count": 113,
   "id": "3c4007a6",
   "metadata": {},
   "outputs": [
    {
     "data": {
      "text/plain": [
       "array(['Group 1', 'Group 2', 'Group 3', 'Pre-train'], dtype=object)"
      ]
     },
     "execution_count": 113,
     "metadata": {},
     "output_type": "execute_result"
    }
   ],
   "source": [
    "all_groups.group.unique()"
   ]
  },
  {
   "cell_type": "code",
   "execution_count": 114,
   "id": "d78e7f1c",
   "metadata": {},
   "outputs": [
    {
     "data": {
      "text/html": [
       "<div>\n",
       "<style scoped>\n",
       "    .dataframe tbody tr th:only-of-type {\n",
       "        vertical-align: middle;\n",
       "    }\n",
       "\n",
       "    .dataframe tbody tr th {\n",
       "        vertical-align: top;\n",
       "    }\n",
       "\n",
       "    .dataframe thead th {\n",
       "        text-align: right;\n",
       "    }\n",
       "</style>\n",
       "<table border=\"1\" class=\"dataframe\">\n",
       "  <thead>\n",
       "    <tr style=\"text-align: right;\">\n",
       "      <th></th>\n",
       "      <th>min_val</th>\n",
       "      <th>max_val</th>\n",
       "      <th>slope</th>\n",
       "      <th>inflection</th>\n",
       "      <th>group</th>\n",
       "      <th>metric</th>\n",
       "      <th>condition</th>\n",
       "      <th>metric_formal</th>\n",
       "      <th>stim</th>\n",
       "    </tr>\n",
       "  </thead>\n",
       "  <tbody>\n",
       "    <tr>\n",
       "      <th>0</th>\n",
       "      <td>1.000000e-16</td>\n",
       "      <td>0.546898</td>\n",
       "      <td>0.020997</td>\n",
       "      <td>82.679161</td>\n",
       "      <td>Pre-train</td>\n",
       "      <td>fcosine</td>\n",
       "      <td>Pre-train</td>\n",
       "      <td>Pre-train</td>\n",
       "      <td>ae</td>\n",
       "    </tr>\n",
       "    <tr>\n",
       "      <th>1</th>\n",
       "      <td>2.792371e-02</td>\n",
       "      <td>1.000000</td>\n",
       "      <td>0.010351</td>\n",
       "      <td>61.352500</td>\n",
       "      <td>Pre-train</td>\n",
       "      <td>fcosine</td>\n",
       "      <td>Pre-train</td>\n",
       "      <td>Pre-train</td>\n",
       "      <td>af</td>\n",
       "    </tr>\n",
       "    <tr>\n",
       "      <th>2</th>\n",
       "      <td>6.195373e-02</td>\n",
       "      <td>1.000000</td>\n",
       "      <td>0.027773</td>\n",
       "      <td>49.199347</td>\n",
       "      <td>Pre-train</td>\n",
       "      <td>fcosine</td>\n",
       "      <td>Pre-train</td>\n",
       "      <td>Pre-train</td>\n",
       "      <td>ag</td>\n",
       "    </tr>\n",
       "    <tr>\n",
       "      <th>3</th>\n",
       "      <td>3.114233e-01</td>\n",
       "      <td>0.641320</td>\n",
       "      <td>0.074730</td>\n",
       "      <td>72.793759</td>\n",
       "      <td>Pre-train</td>\n",
       "      <td>fcosine</td>\n",
       "      <td>Pre-train</td>\n",
       "      <td>Pre-train</td>\n",
       "      <td>ah</td>\n",
       "    </tr>\n",
       "    <tr>\n",
       "      <th>4</th>\n",
       "      <td>2.859399e-01</td>\n",
       "      <td>1.000000</td>\n",
       "      <td>0.088148</td>\n",
       "      <td>95.212692</td>\n",
       "      <td>Pre-train</td>\n",
       "      <td>fcosine</td>\n",
       "      <td>Pre-train</td>\n",
       "      <td>Pre-train</td>\n",
       "      <td>be</td>\n",
       "    </tr>\n",
       "  </tbody>\n",
       "</table>\n",
       "</div>"
      ],
      "text/plain": [
       "        min_val   max_val     slope  inflection      group   metric  \\\n",
       "0  1.000000e-16  0.546898  0.020997   82.679161  Pre-train  fcosine   \n",
       "1  2.792371e-02  1.000000  0.010351   61.352500  Pre-train  fcosine   \n",
       "2  6.195373e-02  1.000000  0.027773   49.199347  Pre-train  fcosine   \n",
       "3  3.114233e-01  0.641320  0.074730   72.793759  Pre-train  fcosine   \n",
       "4  2.859399e-01  1.000000  0.088148   95.212692  Pre-train  fcosine   \n",
       "\n",
       "   condition metric_formal stim  \n",
       "0  Pre-train     Pre-train   ae  \n",
       "1  Pre-train     Pre-train   af  \n",
       "2  Pre-train     Pre-train   ag  \n",
       "3  Pre-train     Pre-train   ah  \n",
       "4  Pre-train     Pre-train   be  "
      ]
     },
     "execution_count": 114,
     "metadata": {},
     "output_type": "execute_result"
    }
   ],
   "source": [
    "pretrain_df = all_groups[(all_groups.condition=='Pre-train')].reset_index(drop=True)\n",
    "pretrain_df.head()"
   ]
  },
  {
   "cell_type": "code",
   "execution_count": 115,
   "id": "bfe3bee9",
   "metadata": {},
   "outputs": [
    {
     "name": "stderr",
     "output_type": "stream",
     "text": [
      "/home/shc079/miniconda3/envs/tf2.3gpu/lib/python3.7/site-packages/pandas/core/frame.py:1554: FutureWarning: Using short name for 'orient' is deprecated. Only the options: ('dict', list, 'series', 'split', 'records', 'index') will be used in a future version. Use one of the above to silence this warning.\n",
      "  FutureWarning,\n"
     ]
    }
   ],
   "source": [
    "import copy\n",
    "normalized_df = pd.DataFrame()\n",
    "for group in ['Group 1', 'Group 2', 'Group 3']:\n",
    "    pretrain_df_group = copy.deepcopy(pretrain_df)\n",
    "    group_df = all_groups[all_groups.group==group].reset_index(drop=True)\n",
    "    group_behav = group_df[group_df.condition=='Ground Truth'][['stim', 'slope', 'inflection']].set_index('stim').T.to_dict('stim')\n",
    "    group_df['d_slope'] = group_df.apply(lambda x: subtract_behav(group_behav, 'slope')(x), axis=1)\n",
    "    group_df['d_inflection'] = group_df.apply(lambda x: subtract_behav(group_behav, 'inflection')(x), axis=1)\n",
    "    pretrain_df_group['d_slope'] = pretrain_df_group.apply(lambda x: subtract_behav(group_behav, 'slope')(x), axis=1)\n",
    "    pretrain_df_group['d_inflection'] = pretrain_df_group.apply(lambda x: subtract_behav(group_behav, 'inflection')(x), axis=1)\n",
    "    normalized_df = pd.concat([normalized_df, group_df, pretrain_df_group]).reset_index(drop=True)"
   ]
  },
  {
   "cell_type": "code",
   "execution_count": 116,
   "id": "13372388",
   "metadata": {},
   "outputs": [],
   "source": [
    "normalized_df = normalized_df.dropna()"
   ]
  },
  {
   "cell_type": "code",
   "execution_count": 117,
   "id": "675c7fc4",
   "metadata": {},
   "outputs": [
    {
     "data": {
      "text/html": [
       "<div>\n",
       "<style scoped>\n",
       "    .dataframe tbody tr th:only-of-type {\n",
       "        vertical-align: middle;\n",
       "    }\n",
       "\n",
       "    .dataframe tbody tr th {\n",
       "        vertical-align: top;\n",
       "    }\n",
       "\n",
       "    .dataframe thead th {\n",
       "        text-align: right;\n",
       "    }\n",
       "</style>\n",
       "<table border=\"1\" class=\"dataframe\">\n",
       "  <thead>\n",
       "    <tr style=\"text-align: right;\">\n",
       "      <th></th>\n",
       "      <th>min_val</th>\n",
       "      <th>max_val</th>\n",
       "      <th>slope</th>\n",
       "      <th>inflection</th>\n",
       "      <th>group</th>\n",
       "      <th>metric</th>\n",
       "      <th>condition</th>\n",
       "      <th>metric_formal</th>\n",
       "      <th>stim</th>\n",
       "      <th>d_slope</th>\n",
       "      <th>d_inflection</th>\n",
       "    </tr>\n",
       "  </thead>\n",
       "  <tbody>\n",
       "    <tr>\n",
       "      <th>0</th>\n",
       "      <td>1.000000e-16</td>\n",
       "      <td>1.000000</td>\n",
       "      <td>0.033214</td>\n",
       "      <td>75.202742</td>\n",
       "      <td>Group 1</td>\n",
       "      <td>rmse</td>\n",
       "      <td>MSE</td>\n",
       "      <td>MSE</td>\n",
       "      <td>ae</td>\n",
       "      <td>-0.088473</td>\n",
       "      <td>23.820172</td>\n",
       "    </tr>\n",
       "    <tr>\n",
       "      <th>1</th>\n",
       "      <td>1.000000e-16</td>\n",
       "      <td>0.945304</td>\n",
       "      <td>0.032496</td>\n",
       "      <td>84.500302</td>\n",
       "      <td>Group 1</td>\n",
       "      <td>rmse</td>\n",
       "      <td>MSE</td>\n",
       "      <td>MSE</td>\n",
       "      <td>af</td>\n",
       "      <td>-0.082862</td>\n",
       "      <td>28.164192</td>\n",
       "    </tr>\n",
       "    <tr>\n",
       "      <th>2</th>\n",
       "      <td>1.000000e-16</td>\n",
       "      <td>0.860692</td>\n",
       "      <td>0.037051</td>\n",
       "      <td>76.503340</td>\n",
       "      <td>Group 1</td>\n",
       "      <td>rmse</td>\n",
       "      <td>MSE</td>\n",
       "      <td>MSE</td>\n",
       "      <td>ag</td>\n",
       "      <td>-0.081716</td>\n",
       "      <td>28.600583</td>\n",
       "    </tr>\n",
       "    <tr>\n",
       "      <th>3</th>\n",
       "      <td>1.000000e-16</td>\n",
       "      <td>0.616709</td>\n",
       "      <td>0.065078</td>\n",
       "      <td>56.980419</td>\n",
       "      <td>Group 1</td>\n",
       "      <td>rmse</td>\n",
       "      <td>MSE</td>\n",
       "      <td>MSE</td>\n",
       "      <td>ah</td>\n",
       "      <td>-0.071602</td>\n",
       "      <td>-11.165764</td>\n",
       "    </tr>\n",
       "    <tr>\n",
       "      <th>4</th>\n",
       "      <td>7.801580e-03</td>\n",
       "      <td>0.904488</td>\n",
       "      <td>0.054682</td>\n",
       "      <td>84.002627</td>\n",
       "      <td>Group 1</td>\n",
       "      <td>rmse</td>\n",
       "      <td>MSE</td>\n",
       "      <td>MSE</td>\n",
       "      <td>be</td>\n",
       "      <td>-0.113781</td>\n",
       "      <td>18.117609</td>\n",
       "    </tr>\n",
       "    <tr>\n",
       "      <th>...</th>\n",
       "      <td>...</td>\n",
       "      <td>...</td>\n",
       "      <td>...</td>\n",
       "      <td>...</td>\n",
       "      <td>...</td>\n",
       "      <td>...</td>\n",
       "      <td>...</td>\n",
       "      <td>...</td>\n",
       "      <td>...</td>\n",
       "      <td>...</td>\n",
       "      <td>...</td>\n",
       "    </tr>\n",
       "    <tr>\n",
       "      <th>206</th>\n",
       "      <td>3.783296e-02</td>\n",
       "      <td>0.859264</td>\n",
       "      <td>0.098685</td>\n",
       "      <td>52.841649</td>\n",
       "      <td>Pre-train</td>\n",
       "      <td>fcosine</td>\n",
       "      <td>Pre-train</td>\n",
       "      <td>Pre-train</td>\n",
       "      <td>bc</td>\n",
       "      <td>-0.090398</td>\n",
       "      <td>-16.651672</td>\n",
       "    </tr>\n",
       "    <tr>\n",
       "      <th>207</th>\n",
       "      <td>9.230453e-02</td>\n",
       "      <td>1.000000</td>\n",
       "      <td>0.065240</td>\n",
       "      <td>101.637249</td>\n",
       "      <td>Pre-train</td>\n",
       "      <td>fcosine</td>\n",
       "      <td>Pre-train</td>\n",
       "      <td>Pre-train</td>\n",
       "      <td>bd</td>\n",
       "      <td>-0.053688</td>\n",
       "      <td>20.611946</td>\n",
       "    </tr>\n",
       "    <tr>\n",
       "      <th>208</th>\n",
       "      <td>1.000000e-16</td>\n",
       "      <td>0.882292</td>\n",
       "      <td>0.056272</td>\n",
       "      <td>30.104017</td>\n",
       "      <td>Pre-train</td>\n",
       "      <td>fcosine</td>\n",
       "      <td>Pre-train</td>\n",
       "      <td>Pre-train</td>\n",
       "      <td>eh</td>\n",
       "      <td>-0.123695</td>\n",
       "      <td>-48.177152</td>\n",
       "    </tr>\n",
       "    <tr>\n",
       "      <th>209</th>\n",
       "      <td>4.780699e-02</td>\n",
       "      <td>1.000000</td>\n",
       "      <td>0.021472</td>\n",
       "      <td>56.000070</td>\n",
       "      <td>Pre-train</td>\n",
       "      <td>fcosine</td>\n",
       "      <td>Pre-train</td>\n",
       "      <td>Pre-train</td>\n",
       "      <td>fg</td>\n",
       "      <td>-0.559270</td>\n",
       "      <td>-22.445266</td>\n",
       "    </tr>\n",
       "    <tr>\n",
       "      <th>210</th>\n",
       "      <td>9.621448e-03</td>\n",
       "      <td>0.790101</td>\n",
       "      <td>0.079525</td>\n",
       "      <td>50.314537</td>\n",
       "      <td>Pre-train</td>\n",
       "      <td>fcosine</td>\n",
       "      <td>Pre-train</td>\n",
       "      <td>Pre-train</td>\n",
       "      <td>fh</td>\n",
       "      <td>-0.114916</td>\n",
       "      <td>-18.434923</td>\n",
       "    </tr>\n",
       "  </tbody>\n",
       "</table>\n",
       "<p>188 rows × 11 columns</p>\n",
       "</div>"
      ],
      "text/plain": [
       "          min_val   max_val     slope  inflection      group   metric  \\\n",
       "0    1.000000e-16  1.000000  0.033214   75.202742    Group 1     rmse   \n",
       "1    1.000000e-16  0.945304  0.032496   84.500302    Group 1     rmse   \n",
       "2    1.000000e-16  0.860692  0.037051   76.503340    Group 1     rmse   \n",
       "3    1.000000e-16  0.616709  0.065078   56.980419    Group 1     rmse   \n",
       "4    7.801580e-03  0.904488  0.054682   84.002627    Group 1     rmse   \n",
       "..            ...       ...       ...         ...        ...      ...   \n",
       "206  3.783296e-02  0.859264  0.098685   52.841649  Pre-train  fcosine   \n",
       "207  9.230453e-02  1.000000  0.065240  101.637249  Pre-train  fcosine   \n",
       "208  1.000000e-16  0.882292  0.056272   30.104017  Pre-train  fcosine   \n",
       "209  4.780699e-02  1.000000  0.021472   56.000070  Pre-train  fcosine   \n",
       "210  9.621448e-03  0.790101  0.079525   50.314537  Pre-train  fcosine   \n",
       "\n",
       "     condition metric_formal stim   d_slope  d_inflection  \n",
       "0          MSE           MSE   ae -0.088473     23.820172  \n",
       "1          MSE           MSE   af -0.082862     28.164192  \n",
       "2          MSE           MSE   ag -0.081716     28.600583  \n",
       "3          MSE           MSE   ah -0.071602    -11.165764  \n",
       "4          MSE           MSE   be -0.113781     18.117609  \n",
       "..         ...           ...  ...       ...           ...  \n",
       "206  Pre-train     Pre-train   bc -0.090398    -16.651672  \n",
       "207  Pre-train     Pre-train   bd -0.053688     20.611946  \n",
       "208  Pre-train     Pre-train   eh -0.123695    -48.177152  \n",
       "209  Pre-train     Pre-train   fg -0.559270    -22.445266  \n",
       "210  Pre-train     Pre-train   fh -0.114916    -18.434923  \n",
       "\n",
       "[188 rows x 11 columns]"
      ]
     },
     "execution_count": 117,
     "metadata": {},
     "output_type": "execute_result"
    }
   ],
   "source": [
    "normalized_df"
   ]
  },
  {
   "cell_type": "code",
   "execution_count": 124,
   "id": "771bd39f",
   "metadata": {},
   "outputs": [],
   "source": [
    "normalized_df = normalized_df.drop(normalized_df[normalized_df.metric_formal=='Ground Truth'].index).reset_index(drop=True)"
   ]
  },
  {
   "cell_type": "code",
   "execution_count": 125,
   "id": "02449b40",
   "metadata": {},
   "outputs": [
    {
     "data": {
      "text/html": [
       "<div>\n",
       "<style scoped>\n",
       "    .dataframe tbody tr th:only-of-type {\n",
       "        vertical-align: middle;\n",
       "    }\n",
       "\n",
       "    .dataframe tbody tr th {\n",
       "        vertical-align: top;\n",
       "    }\n",
       "\n",
       "    .dataframe thead th {\n",
       "        text-align: right;\n",
       "    }\n",
       "</style>\n",
       "<table border=\"1\" class=\"dataframe\">\n",
       "  <thead>\n",
       "    <tr style=\"text-align: right;\">\n",
       "      <th></th>\n",
       "      <th>d_slope</th>\n",
       "      <th>d_inflection</th>\n",
       "    </tr>\n",
       "    <tr>\n",
       "      <th>metric_formal</th>\n",
       "      <th></th>\n",
       "      <th></th>\n",
       "    </tr>\n",
       "  </thead>\n",
       "  <tbody>\n",
       "    <tr>\n",
       "      <th>APD</th>\n",
       "      <td>0.010330</td>\n",
       "      <td>-2.792574</td>\n",
       "    </tr>\n",
       "    <tr>\n",
       "      <th>MSE</th>\n",
       "      <td>-0.137075</td>\n",
       "      <td>6.699365</td>\n",
       "    </tr>\n",
       "    <tr>\n",
       "      <th>Pre-train</th>\n",
       "      <td>-0.121730</td>\n",
       "      <td>0.204055</td>\n",
       "    </tr>\n",
       "  </tbody>\n",
       "</table>\n",
       "</div>"
      ],
      "text/plain": [
       "                d_slope  d_inflection\n",
       "metric_formal                        \n",
       "APD            0.010330     -2.792574\n",
       "MSE           -0.137075      6.699365\n",
       "Pre-train     -0.121730      0.204055"
      ]
     },
     "execution_count": 125,
     "metadata": {},
     "output_type": "execute_result"
    }
   ],
   "source": [
    "normalized_df.groupby('metric_formal')[['d_slope', 'd_inflection']].median()"
   ]
  },
  {
   "cell_type": "code",
   "execution_count": 127,
   "id": "eaa933d0",
   "metadata": {},
   "outputs": [
    {
     "data": {
      "image/png": "[encoded data removed]",
      "text/plain": [
       "<Figure size 432x288 with 1 Axes>"
      ]
     },
     "metadata": {
      "needs_background": "light"
     },
     "output_type": "display_data"
    }
   ],
   "source": [
    "ax = sns.boxplot(x='metric_formal', y='d_slope', data=normalized_df,\n",
    "                order = ['MSE', 'Pre-train','APD', ])"
   ]
  },
  {
   "cell_type": "code",
   "execution_count": 128,
   "id": "b95b6759",
   "metadata": {},
   "outputs": [
    {
     "data": {
      "image/png": "[encoded data removed]",
      "text/plain": [
       "<Figure size 432x288 with 1 Axes>"
      ]
     },
     "metadata": {
      "needs_background": "light"
     },
     "output_type": "display_data"
    }
   ],
   "source": [
    "ax = sns.boxplot(x='metric_formal', y='d_inflection', data=normalized_df,\n",
    "                order = ['MSE', 'Pre-train','APD', ])"
   ]
  },
  {
   "cell_type": "code",
   "execution_count": 131,
   "id": "49d2e2c9",
   "metadata": {},
   "outputs": [
    {
     "name": "stderr",
     "output_type": "stream",
     "text": [
      "/home/shc079/miniconda3/envs/tf2.3gpu/lib/python3.7/site-packages/statsmodels/base/model.py:568: ConvergenceWarning: Maximum Likelihood optimization failed to converge. Check mle_retvals\n",
      "  ConvergenceWarning)\n",
      "/home/shc079/miniconda3/envs/tf2.3gpu/lib/python3.7/site-packages/statsmodels/regression/mixed_linear_model.py:2202: ConvergenceWarning: Retrying MixedLM optimization with lbfgs\n",
      "  ConvergenceWarning)\n",
      "/home/shc079/miniconda3/envs/tf2.3gpu/lib/python3.7/site-packages/statsmodels/base/model.py:568: ConvergenceWarning: Maximum Likelihood optimization failed to converge. Check mle_retvals\n",
      "  ConvergenceWarning)\n",
      "/home/shc079/miniconda3/envs/tf2.3gpu/lib/python3.7/site-packages/statsmodels/regression/mixed_linear_model.py:2202: ConvergenceWarning: Retrying MixedLM optimization with cg\n",
      "  ConvergenceWarning)\n",
      "/home/shc079/miniconda3/envs/tf2.3gpu/lib/python3.7/site-packages/statsmodels/base/model.py:568: ConvergenceWarning: Maximum Likelihood optimization failed to converge. Check mle_retvals\n",
      "  ConvergenceWarning)\n",
      "/home/shc079/miniconda3/envs/tf2.3gpu/lib/python3.7/site-packages/statsmodels/regression/mixed_linear_model.py:2206: ConvergenceWarning: MixedLM optimization failed, trying a different optimizer may help.\n",
      "  warnings.warn(msg, ConvergenceWarning)\n",
      "/home/shc079/miniconda3/envs/tf2.3gpu/lib/python3.7/site-packages/statsmodels/regression/mixed_linear_model.py:2218: ConvergenceWarning: Gradient optimization failed, |grad| = 3.917173\n",
      "  warnings.warn(msg, ConvergenceWarning)\n",
      "/home/shc079/miniconda3/envs/tf2.3gpu/lib/python3.7/site-packages/statsmodels/regression/mixed_linear_model.py:2237: ConvergenceWarning: The MLE may be on the boundary of the parameter space.\n",
      "  warnings.warn(msg, ConvergenceWarning)\n"
     ]
    },
    {
     "data": {
      "text/html": [
       "<table class=\"simpletable\">\n",
       "<tr>\n",
       "       <td>Model:</td>       <td>MixedLM</td> <td>Dependent Variable:</td> <td>d_slope</td>\n",
       "</tr>\n",
       "<tr>\n",
       "  <td>No. Observations:</td>   <td>140</td>         <td>Method:</td>        <td>REML</td>  \n",
       "</tr>\n",
       "<tr>\n",
       "     <td>No. Groups:</td>      <td>24</td>          <td>Scale:</td>        <td>0.0417</td> \n",
       "</tr>\n",
       "<tr>\n",
       "  <td>Min. group size:</td>     <td>4</td>      <td>Log-Likelihood:</td>   <td>15.0324</td>\n",
       "</tr>\n",
       "<tr>\n",
       "  <td>Max. group size:</td>     <td>6</td>        <td>Converged:</td>        <td>No</td>   \n",
       "</tr>\n",
       "<tr>\n",
       "  <td>Mean group size:</td>    <td>5.8</td>            <td></td>              <td></td>    \n",
       "</tr>\n",
       "</table>\n",
       "<table class=\"simpletable\">\n",
       "<tr>\n",
       "                         <td></td>                          <th>Coef.</th> <th>Std.Err.</th>    <th>z</th>   <th>P>|z|</th> <th>[0.025</th> <th>0.975]</th>\n",
       "</tr>\n",
       "<tr>\n",
       "  <th>Intercept</th>                                        <td>0.076</td>   <td>0.031</td>   <td>2.443</td> <td>0.015</td>  <td>0.015</td>  <td>0.136</td>\n",
       "</tr>\n",
       "<tr>\n",
       "  <th>C(metric_formal, Treatment('APD'))[T.MSE]</th>       <td>-0.232</td>   <td>0.042</td>  <td>-5.509</td> <td>0.000</td> <td>-0.315</td> <td>-0.150</td>\n",
       "</tr>\n",
       "<tr>\n",
       "  <th>C(metric_formal, Treatment('APD'))[T.Pre-train]</th> <td>-0.222</td>   <td>0.042</td>  <td>-5.224</td> <td>0.000</td> <td>-0.305</td> <td>-0.139</td>\n",
       "</tr>\n",
       "<tr>\n",
       "  <th>stim Var</th>                                         <td>0.002</td>   <td>0.013</td>     <td></td>      <td></td>       <td></td>       <td></td>   \n",
       "</tr>\n",
       "</table>"
      ],
      "text/plain": [
       "<class 'statsmodels.iolib.summary2.Summary'>\n",
       "\"\"\"\n",
       "                          Mixed Linear Model Regression Results\n",
       "==========================================================================================\n",
       "Model:                         MixedLM             Dependent Variable:             d_slope\n",
       "No. Observations:              140                 Method:                         REML   \n",
       "No. Groups:                    24                  Scale:                          0.0417 \n",
       "Min. group size:               4                   Log-Likelihood:                 15.0324\n",
       "Max. group size:               6                   Converged:                      No     \n",
       "Mean group size:               5.8                                                        \n",
       "------------------------------------------------------------------------------------------\n",
       "                                                Coef.  Std.Err.   z    P>|z| [0.025 0.975]\n",
       "------------------------------------------------------------------------------------------\n",
       "Intercept                                        0.076    0.031  2.443 0.015  0.015  0.136\n",
       "C(metric_formal, Treatment('APD'))[T.MSE]       -0.232    0.042 -5.509 0.000 -0.315 -0.150\n",
       "C(metric_formal, Treatment('APD'))[T.Pre-train] -0.222    0.042 -5.224 0.000 -0.305 -0.139\n",
       "stim Var                                         0.002    0.013                           \n",
       "==========================================================================================\n",
       "\n",
       "\"\"\""
      ]
     },
     "execution_count": 131,
     "metadata": {},
     "output_type": "execute_result"
    }
   ],
   "source": [
    "model = smf.mixedlm(\"d_slope ~  C(metric_formal, Treatment('APD'))\",\n",
    "                    normalized_df,\n",
    "                    groups= \"stim\").fit()\n",
    "\n",
    "model.summary()"
   ]
  },
  {
   "cell_type": "code",
   "execution_count": 130,
   "id": "b3c39308",
   "metadata": {},
   "outputs": [
    {
     "data": {
      "text/html": [
       "<table class=\"simpletable\">\n",
       "<tr>\n",
       "       <td>Model:</td>       <td>MixedLM</td> <td>Dependent Variable:</td> <td>d_inflection</td>\n",
       "</tr>\n",
       "<tr>\n",
       "  <td>No. Observations:</td>   <td>140</td>         <td>Method:</td>           <td>REML</td>    \n",
       "</tr>\n",
       "<tr>\n",
       "     <td>No. Groups:</td>      <td>24</td>          <td>Scale:</td>          <td>404.1419</td>  \n",
       "</tr>\n",
       "<tr>\n",
       "  <td>Min. group size:</td>     <td>4</td>      <td>Log-Likelihood:</td>     <td>-628.8542</td> \n",
       "</tr>\n",
       "<tr>\n",
       "  <td>Max. group size:</td>     <td>6</td>        <td>Converged:</td>           <td>Yes</td>    \n",
       "</tr>\n",
       "<tr>\n",
       "  <td>Mean group size:</td>    <td>5.8</td>            <td></td>                 <td></td>      \n",
       "</tr>\n",
       "</table>\n",
       "<table class=\"simpletable\">\n",
       "<tr>\n",
       "                         <td></td>                          <th>Coef.</th>  <th>Std.Err.</th>    <th>z</th>   <th>P>|z|</th> <th>[0.025</th>  <th>0.975]</th>\n",
       "</tr>\n",
       "<tr>\n",
       "  <th>Intercept</th>                                       <td>-4.527</td>    <td>4.371</td>  <td>-1.036</td> <td>0.300</td> <td>-13.094</td>  <td>4.041</td>\n",
       "</tr>\n",
       "<tr>\n",
       "  <th>C(metric_formal, Treatment('APD'))[T.MSE]</th>        <td>8.199</td>    <td>4.147</td>   <td>1.977</td> <td>0.048</td>  <td>0.071</td>  <td>16.327</td>\n",
       "</tr>\n",
       "<tr>\n",
       "  <th>C(metric_formal, Treatment('APD'))[T.Pre-train]</th>  <td>3.465</td>    <td>4.191</td>   <td>0.827</td> <td>0.408</td> <td>-4.750</td>  <td>11.679</td>\n",
       "</tr>\n",
       "<tr>\n",
       "  <th>stim Var</th>                                        <td>251.392</td>   <td>5.189</td>     <td></td>      <td></td>       <td></td>        <td></td>   \n",
       "</tr>\n",
       "</table>"
      ],
      "text/plain": [
       "<class 'statsmodels.iolib.summary2.Summary'>\n",
       "\"\"\"\n",
       "                           Mixed Linear Model Regression Results\n",
       "============================================================================================\n",
       "Model:                        MixedLM            Dependent Variable:            d_inflection\n",
       "No. Observations:             140                Method:                        REML        \n",
       "No. Groups:                   24                 Scale:                         404.1419    \n",
       "Min. group size:              4                  Log-Likelihood:                -628.8542   \n",
       "Max. group size:              6                  Converged:                     Yes         \n",
       "Mean group size:              5.8                                                           \n",
       "--------------------------------------------------------------------------------------------\n",
       "                                                 Coef.  Std.Err.   z    P>|z|  [0.025 0.975]\n",
       "--------------------------------------------------------------------------------------------\n",
       "Intercept                                        -4.527    4.371 -1.036 0.300 -13.094  4.041\n",
       "C(metric_formal, Treatment('APD'))[T.MSE]         8.199    4.147  1.977 0.048   0.071 16.327\n",
       "C(metric_formal, Treatment('APD'))[T.Pre-train]   3.465    4.191  0.827 0.408  -4.750 11.679\n",
       "stim Var                                        251.392    5.189                            \n",
       "============================================================================================\n",
       "\n",
       "\"\"\""
      ]
     },
     "execution_count": 130,
     "metadata": {},
     "output_type": "execute_result"
    }
   ],
   "source": [
    "model = smf.mixedlm(\"d_inflection ~  C(metric_formal, Treatment('APD'))\",\n",
    "                    normalized_df,\n",
    "                    groups= \"stim\").fit()\n",
    "\n",
    "model.summary()"
   ]
  },
  {
   "cell_type": "code",
   "execution_count": null,
   "id": "d0217bd9",
   "metadata": {},
   "outputs": [],
   "source": []
  }
 ],
 "metadata": {
  "kernelspec": {
   "display_name": "Python 3",
   "language": "python",
   "name": "python3"
  },
  "language_info": {
   "codemirror_mode": {
    "name": "ipython",
    "version": 3
   },
   "file_extension": ".py",
   "mimetype": "text/x-python",
   "name": "python",
   "nbconvert_exporter": "python",
   "pygments_lexer": "ipython3",
   "version": "3.7.10"
  }
 },
 "nbformat": 4,
 "nbformat_minor": 5
}
