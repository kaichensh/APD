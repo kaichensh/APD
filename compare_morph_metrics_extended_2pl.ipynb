{
 "cells": [
  {
   "cell_type": "code",
   "execution_count": 1,
   "id": "e24fde53",
   "metadata": {},
   "outputs": [],
   "source": [
    "gpus = [1]\n",
    "import os\n",
    "os.environ['CUDA_VISIBLE_DEVICES']=','.join([str(i) for i in gpus])\n",
    "import tensorflow as tf\n",
    "# tf.enable_eager_execution()\n",
    "import pandas as pd\n",
    "import numpy as np\n",
    "import matplotlib.pyplot as plt\n",
    "import random\n",
    "from glob import glob\n",
    "import pickle\n",
    "from tensorflow.keras import layers, Sequential, datasets, models, losses, Model, Input\n",
    "from tensorflow.keras.callbacks import EarlyStopping, ModelCheckpoint\n",
    "from tensorflow.keras.optimizers import Adam\n",
    "from sklearn.model_selection import train_test_split\n",
    "import datetime\n",
    "import sys\n",
    "from tensorflow.keras.backend import clear_session\n",
    "from trainingfuncs import *\n",
    "from math_utils import *\n",
    "from utils import *\n",
    "from scipy.spatial import distance\n",
    "import seaborn as sns\n",
    "import umap"
   ]
  },
  {
   "cell_type": "code",
   "execution_count": 2,
   "id": "03630af6",
   "metadata": {},
   "outputs": [],
   "source": [
    "sys.path.append(\"..\") # Adds higher directory to python modules path.\n",
    "from helpers.dataset_vars import *\n",
    "from helpers.myclasses import *"
   ]
  },
  {
   "cell_type": "code",
   "execution_count": 3,
   "id": "657b13e2",
   "metadata": {},
   "outputs": [],
   "source": [
    "morph_folder = os.path.abspath('/mnt/cube/kai/repositories/morphs/data/stimuli')\n",
    "\n",
    "results_folder = os.path.abspath('/mnt/cube/kai/results/perceptual_loss/morph')\n",
    "spec_file = os.path.join(morph_folder, 'specs_star.p')"
   ]
  },
  {
   "cell_type": "markdown",
   "id": "310c7475",
   "metadata": {},
   "source": [
    "# load all dfs"
   ]
  },
  {
   "cell_type": "code",
   "execution_count": 16,
   "id": "d7836ce8",
   "metadata": {},
   "outputs": [],
   "source": [
    "all_pred = pickle.load(open(os.path.join(results_folder, 'extended', 'all_predicted_2pl.p'), 'rb'))\n",
    "group1_behav = pickle.load(open(os.path.join(results_folder, 'group1_behav.p'), 'rb'))\n",
    "group2_behav = pickle.load(open(os.path.join(results_folder, 'group2_behav.p'), 'rb'))\n",
    "group3_behav = pickle.load(open(os.path.join(results_folder, 'group3_behav.p'), 'rb'))"
   ]
  },
  {
   "cell_type": "code",
   "execution_count": 17,
   "id": "2f3dbc13",
   "metadata": {},
   "outputs": [],
   "source": [
    "all_groups = pd.concat([all_pred,\n",
    "                       group1_behav, group2_behav, group3_behav]).reset_index(drop=True)"
   ]
  },
  {
   "cell_type": "code",
   "execution_count": 18,
   "id": "15edd196",
   "metadata": {},
   "outputs": [
    {
     "data": {
      "text/html": [
       "<div>\n",
       "<style scoped>\n",
       "    .dataframe tbody tr th:only-of-type {\n",
       "        vertical-align: middle;\n",
       "    }\n",
       "\n",
       "    .dataframe tbody tr th {\n",
       "        vertical-align: top;\n",
       "    }\n",
       "\n",
       "    .dataframe thead th {\n",
       "        text-align: right;\n",
       "    }\n",
       "</style>\n",
       "<table border=\"1\" class=\"dataframe\">\n",
       "  <thead>\n",
       "    <tr style=\"text-align: right;\">\n",
       "      <th></th>\n",
       "      <th>index</th>\n",
       "      <th>slope</th>\n",
       "      <th>inflection</th>\n",
       "      <th>group</th>\n",
       "      <th>metric</th>\n",
       "      <th>min_val</th>\n",
       "      <th>max_val</th>\n",
       "      <th>subj</th>\n",
       "    </tr>\n",
       "  </thead>\n",
       "  <tbody>\n",
       "    <tr>\n",
       "      <th>0</th>\n",
       "      <td>ae</td>\n",
       "      <td>0.028449</td>\n",
       "      <td>86.998390</td>\n",
       "      <td>Group 1</td>\n",
       "      <td>rmse</td>\n",
       "      <td>NaN</td>\n",
       "      <td>NaN</td>\n",
       "      <td>NaN</td>\n",
       "    </tr>\n",
       "    <tr>\n",
       "      <th>1</th>\n",
       "      <td>af</td>\n",
       "      <td>0.021558</td>\n",
       "      <td>61.000512</td>\n",
       "      <td>Group 1</td>\n",
       "      <td>rmse</td>\n",
       "      <td>NaN</td>\n",
       "      <td>NaN</td>\n",
       "      <td>NaN</td>\n",
       "    </tr>\n",
       "    <tr>\n",
       "      <th>2</th>\n",
       "      <td>ag</td>\n",
       "      <td>0.029138</td>\n",
       "      <td>52.000103</td>\n",
       "      <td>Group 1</td>\n",
       "      <td>rmse</td>\n",
       "      <td>NaN</td>\n",
       "      <td>NaN</td>\n",
       "      <td>NaN</td>\n",
       "    </tr>\n",
       "    <tr>\n",
       "      <th>3</th>\n",
       "      <td>ah</td>\n",
       "      <td>0.032490</td>\n",
       "      <td>54.001817</td>\n",
       "      <td>Group 1</td>\n",
       "      <td>rmse</td>\n",
       "      <td>NaN</td>\n",
       "      <td>NaN</td>\n",
       "      <td>NaN</td>\n",
       "    </tr>\n",
       "    <tr>\n",
       "      <th>4</th>\n",
       "      <td>bf</td>\n",
       "      <td>0.042703</td>\n",
       "      <td>92.274811</td>\n",
       "      <td>Group 1</td>\n",
       "      <td>rmse</td>\n",
       "      <td>NaN</td>\n",
       "      <td>NaN</td>\n",
       "      <td>NaN</td>\n",
       "    </tr>\n",
       "  </tbody>\n",
       "</table>\n",
       "</div>"
      ],
      "text/plain": [
       "  index     slope  inflection    group metric  min_val  max_val subj\n",
       "0    ae  0.028449   86.998390  Group 1   rmse      NaN      NaN  NaN\n",
       "1    af  0.021558   61.000512  Group 1   rmse      NaN      NaN  NaN\n",
       "2    ag  0.029138   52.000103  Group 1   rmse      NaN      NaN  NaN\n",
       "3    ah  0.032490   54.001817  Group 1   rmse      NaN      NaN  NaN\n",
       "4    bf  0.042703   92.274811  Group 1   rmse      NaN      NaN  NaN"
      ]
     },
     "execution_count": 18,
     "metadata": {},
     "output_type": "execute_result"
    }
   ],
   "source": [
    "all_groups.head()"
   ]
  },
  {
   "cell_type": "code",
   "execution_count": 19,
   "id": "16b73830",
   "metadata": {},
   "outputs": [
    {
     "data": {
      "text/plain": [
       "(0.0, 1.0)"
      ]
     },
     "execution_count": 19,
     "metadata": {},
     "output_type": "execute_result"
    },
    {
     "data": {
      "image/png": "[encoded data removed]",
      "text/plain": [
       "<Figure size 432x288 with 1 Axes>"
      ]
     },
     "metadata": {
      "needs_background": "light"
     },
     "output_type": "display_data"
    }
   ],
   "source": [
    "ax = sns.boxplot(y='slope', x='metric',data=all_groups)\n",
    "ax.set_ylim([0,1])"
   ]
  },
  {
   "cell_type": "code",
   "execution_count": 20,
   "id": "07aad097",
   "metadata": {},
   "outputs": [
    {
     "data": {
      "image/png": "[encoded data removed]",
      "text/plain": [
       "<Figure size 432x288 with 1 Axes>"
      ]
     },
     "metadata": {
      "needs_background": "light"
     },
     "output_type": "display_data"
    }
   ],
   "source": [
    "ax = sns.boxplot(y='inflection', x='metric',data=all_groups)"
   ]
  },
  {
   "cell_type": "markdown",
   "id": "ef8cac29",
   "metadata": {},
   "source": [
    "# separate by group"
   ]
  },
  {
   "cell_type": "code",
   "execution_count": 21,
   "id": "debe356b",
   "metadata": {},
   "outputs": [],
   "source": [
    "groups = ['Group 1', 'Group 2', 'Group 3']"
   ]
  },
  {
   "cell_type": "code",
   "execution_count": 22,
   "id": "2c55fb5e",
   "metadata": {},
   "outputs": [
    {
     "data": {
      "image/png": "[encoded data removed]",
      "text/plain": [
       "<Figure size 576x864 with 3 Axes>"
      ]
     },
     "metadata": {
      "needs_background": "light"
     },
     "output_type": "display_data"
    }
   ],
   "source": [
    "fig, ax = plt.subplots(3, 1, figsize=(8, 12))\n",
    "for i, group in enumerate(groups):\n",
    "    sns.boxplot(y='slope', x='metric',data=all_groups[all_groups.group==group], ax=ax[i])\n",
    "    ax[i].set_ylim([0,1])"
   ]
  },
  {
   "cell_type": "code",
   "execution_count": 23,
   "id": "657604cc",
   "metadata": {},
   "outputs": [
    {
     "data": {
      "image/png": "[encoded data removed]",
      "text/plain": [
       "<Figure size 576x864 with 3 Axes>"
      ]
     },
     "metadata": {
      "needs_background": "light"
     },
     "output_type": "display_data"
    }
   ],
   "source": [
    "fig, ax = plt.subplots(3, 1, figsize=(8, 12))\n",
    "for i, group in enumerate(groups):\n",
    "    sns.boxplot(y='inflection', x='metric',data=all_groups[all_groups.group==group], ax=ax[i])"
   ]
  },
  {
   "cell_type": "code",
   "execution_count": 24,
   "id": "843dc074",
   "metadata": {},
   "outputs": [],
   "source": [
    "import statsmodels.formula.api as smf"
   ]
  },
  {
   "cell_type": "code",
   "execution_count": 25,
   "id": "7885e938",
   "metadata": {},
   "outputs": [
    {
     "data": {
      "text/html": [
       "<div>\n",
       "<style scoped>\n",
       "    .dataframe tbody tr th:only-of-type {\n",
       "        vertical-align: middle;\n",
       "    }\n",
       "\n",
       "    .dataframe tbody tr th {\n",
       "        vertical-align: top;\n",
       "    }\n",
       "\n",
       "    .dataframe thead th {\n",
       "        text-align: right;\n",
       "    }\n",
       "</style>\n",
       "<table border=\"1\" class=\"dataframe\">\n",
       "  <thead>\n",
       "    <tr style=\"text-align: right;\">\n",
       "      <th></th>\n",
       "      <th>index</th>\n",
       "      <th>slope</th>\n",
       "      <th>inflection</th>\n",
       "      <th>group</th>\n",
       "      <th>metric</th>\n",
       "      <th>min_val</th>\n",
       "      <th>max_val</th>\n",
       "      <th>subj</th>\n",
       "    </tr>\n",
       "  </thead>\n",
       "  <tbody>\n",
       "    <tr>\n",
       "      <th>0</th>\n",
       "      <td>ae</td>\n",
       "      <td>0.028449</td>\n",
       "      <td>86.998390</td>\n",
       "      <td>Group 1</td>\n",
       "      <td>rmse</td>\n",
       "      <td>NaN</td>\n",
       "      <td>NaN</td>\n",
       "      <td>NaN</td>\n",
       "    </tr>\n",
       "    <tr>\n",
       "      <th>1</th>\n",
       "      <td>af</td>\n",
       "      <td>0.021558</td>\n",
       "      <td>61.000512</td>\n",
       "      <td>Group 1</td>\n",
       "      <td>rmse</td>\n",
       "      <td>NaN</td>\n",
       "      <td>NaN</td>\n",
       "      <td>NaN</td>\n",
       "    </tr>\n",
       "    <tr>\n",
       "      <th>2</th>\n",
       "      <td>ag</td>\n",
       "      <td>0.029138</td>\n",
       "      <td>52.000103</td>\n",
       "      <td>Group 1</td>\n",
       "      <td>rmse</td>\n",
       "      <td>NaN</td>\n",
       "      <td>NaN</td>\n",
       "      <td>NaN</td>\n",
       "    </tr>\n",
       "    <tr>\n",
       "      <th>3</th>\n",
       "      <td>ah</td>\n",
       "      <td>0.032490</td>\n",
       "      <td>54.001817</td>\n",
       "      <td>Group 1</td>\n",
       "      <td>rmse</td>\n",
       "      <td>NaN</td>\n",
       "      <td>NaN</td>\n",
       "      <td>NaN</td>\n",
       "    </tr>\n",
       "    <tr>\n",
       "      <th>4</th>\n",
       "      <td>bf</td>\n",
       "      <td>0.042703</td>\n",
       "      <td>92.274811</td>\n",
       "      <td>Group 1</td>\n",
       "      <td>rmse</td>\n",
       "      <td>NaN</td>\n",
       "      <td>NaN</td>\n",
       "      <td>NaN</td>\n",
       "    </tr>\n",
       "  </tbody>\n",
       "</table>\n",
       "</div>"
      ],
      "text/plain": [
       "  index     slope  inflection    group metric  min_val  max_val subj\n",
       "0    ae  0.028449   86.998390  Group 1   rmse      NaN      NaN  NaN\n",
       "1    af  0.021558   61.000512  Group 1   rmse      NaN      NaN  NaN\n",
       "2    ag  0.029138   52.000103  Group 1   rmse      NaN      NaN  NaN\n",
       "3    ah  0.032490   54.001817  Group 1   rmse      NaN      NaN  NaN\n",
       "4    bf  0.042703   92.274811  Group 1   rmse      NaN      NaN  NaN"
      ]
     },
     "execution_count": 25,
     "metadata": {},
     "output_type": "execute_result"
    }
   ],
   "source": [
    "all_groups.head()"
   ]
  },
  {
   "cell_type": "code",
   "execution_count": 26,
   "id": "105505cf",
   "metadata": {},
   "outputs": [
    {
     "name": "stderr",
     "output_type": "stream",
     "text": [
      "/home/shc079/miniconda3/envs/tf2.3gpu/lib/python3.7/site-packages/statsmodels/regression/mixed_linear_model.py:2237: ConvergenceWarning: The MLE may be on the boundary of the parameter space.\n",
      "  warnings.warn(msg, ConvergenceWarning)\n"
     ]
    },
    {
     "data": {
      "text/html": [
       "<table class=\"simpletable\">\n",
       "<tr>\n",
       "       <td>Model:</td>       <td>MixedLM</td> <td>Dependent Variable:</td>   <td>slope</td> \n",
       "</tr>\n",
       "<tr>\n",
       "  <td>No. Observations:</td>   <td>266</td>         <td>Method:</td>         <td>REML</td>  \n",
       "</tr>\n",
       "<tr>\n",
       "     <td>No. Groups:</td>       <td>3</td>          <td>Scale:</td>         <td>0.0093</td> \n",
       "</tr>\n",
       "<tr>\n",
       "  <td>Min. group size:</td>    <td>80</td>      <td>Log-Likelihood:</td>   <td>232.0874</td>\n",
       "</tr>\n",
       "<tr>\n",
       "  <td>Max. group size:</td>    <td>106</td>       <td>Converged:</td>         <td>Yes</td>  \n",
       "</tr>\n",
       "<tr>\n",
       "  <td>Mean group size:</td>   <td>88.7</td>            <td></td>               <td></td>    \n",
       "</tr>\n",
       "</table>\n",
       "<table class=\"simpletable\">\n",
       "<tr>\n",
       "                      <td></td>                      <th>Coef.</th> <th>Std.Err.</th>    <th>z</th>    <th>P>|z|</th> <th>[0.025</th> <th>0.975]</th>\n",
       "</tr>\n",
       "<tr>\n",
       "  <th>Intercept</th>                                 <td>0.239</td>   <td>0.010</td>  <td>23.753</td>  <td>0.000</td>  <td>0.220</td>  <td>0.259</td>\n",
       "</tr>\n",
       "<tr>\n",
       "  <th>C(metric, Treatment('behav'))[T.fcosine]</th> <td>-0.071</td>   <td>0.017</td>  <td>-4.207</td>  <td>0.000</td> <td>-0.104</td> <td>-0.038</td>\n",
       "</tr>\n",
       "<tr>\n",
       "  <th>C(metric, Treatment('behav'))[T.frmse]</th>   <td>-0.093</td>   <td>0.017</td>  <td>-5.506</td>  <td>0.000</td> <td>-0.126</td> <td>-0.060</td>\n",
       "</tr>\n",
       "<tr>\n",
       "  <th>C(metric, Treatment('behav'))[T.rmse]</th>    <td>-0.202</td>   <td>0.017</td>  <td>-12.003</td> <td>0.000</td> <td>-0.235</td> <td>-0.169</td>\n",
       "</tr>\n",
       "<tr>\n",
       "  <th>group Var</th>                                 <td>0.000</td>   <td>0.002</td>     <td></td>       <td></td>       <td></td>       <td></td>   \n",
       "</tr>\n",
       "</table>"
      ],
      "text/plain": [
       "<class 'statsmodels.iolib.summary2.Summary'>\n",
       "\"\"\"\n",
       "                       Mixed Linear Model Regression Results\n",
       "====================================================================================\n",
       "Model:                      MixedLM           Dependent Variable:           slope   \n",
       "No. Observations:           266               Method:                       REML    \n",
       "No. Groups:                 3                 Scale:                        0.0093  \n",
       "Min. group size:            80                Log-Likelihood:               232.0874\n",
       "Max. group size:            106               Converged:                    Yes     \n",
       "Mean group size:            88.7                                                    \n",
       "------------------------------------------------------------------------------------\n",
       "                                         Coef.  Std.Err.    z    P>|z| [0.025 0.975]\n",
       "------------------------------------------------------------------------------------\n",
       "Intercept                                 0.239    0.010  23.753 0.000  0.220  0.259\n",
       "C(metric, Treatment('behav'))[T.fcosine] -0.071    0.017  -4.207 0.000 -0.104 -0.038\n",
       "C(metric, Treatment('behav'))[T.frmse]   -0.093    0.017  -5.506 0.000 -0.126 -0.060\n",
       "C(metric, Treatment('behav'))[T.rmse]    -0.202    0.017 -12.003 0.000 -0.235 -0.169\n",
       "group Var                                 0.000    0.002                            \n",
       "====================================================================================\n",
       "\n",
       "\"\"\""
      ]
     },
     "execution_count": 26,
     "metadata": {},
     "output_type": "execute_result"
    }
   ],
   "source": [
    "model = smf.mixedlm(\"slope ~ C(metric, Treatment('behav')) \",\n",
    "                    all_groups,\n",
    "                    groups= \"group\").fit()\n",
    "\n",
    "model.summary()"
   ]
  },
  {
   "cell_type": "code",
   "execution_count": 27,
   "id": "08ccfbcd",
   "metadata": {},
   "outputs": [
    {
     "name": "stderr",
     "output_type": "stream",
     "text": [
      "/home/shc079/miniconda3/envs/tf2.3gpu/lib/python3.7/site-packages/statsmodels/regression/mixed_linear_model.py:2237: ConvergenceWarning: The MLE may be on the boundary of the parameter space.\n",
      "  warnings.warn(msg, ConvergenceWarning)\n"
     ]
    },
    {
     "data": {
      "text/html": [
       "<table class=\"simpletable\">\n",
       "<tr>\n",
       "       <td>Model:</td>       <td>MixedLM</td> <td>Dependent Variable:</td> <td>inflection</td>\n",
       "</tr>\n",
       "<tr>\n",
       "  <td>No. Observations:</td>   <td>266</td>         <td>Method:</td>          <td>REML</td>   \n",
       "</tr>\n",
       "<tr>\n",
       "     <td>No. Groups:</td>       <td>3</td>          <td>Scale:</td>         <td>300.9880</td> \n",
       "</tr>\n",
       "<tr>\n",
       "  <td>Min. group size:</td>    <td>80</td>      <td>Log-Likelihood:</td>   <td>-1127.5571</td>\n",
       "</tr>\n",
       "<tr>\n",
       "  <td>Max. group size:</td>    <td>106</td>       <td>Converged:</td>          <td>Yes</td>   \n",
       "</tr>\n",
       "<tr>\n",
       "  <td>Mean group size:</td>   <td>88.7</td>            <td></td>                <td></td>     \n",
       "</tr>\n",
       "</table>\n",
       "<table class=\"simpletable\">\n",
       "<tr>\n",
       "                      <td></td>                      <th>Coef.</th> <th>Std.Err.</th>    <th>z</th>   <th>P>|z|</th> <th>[0.025</th>  <th>0.975]</th>\n",
       "</tr>\n",
       "<tr>\n",
       "  <th>Intercept</th>                                <td>63.735</td>   <td>1.565</td>  <td>40.717</td> <td>0.000</td> <td>60.667</td>  <td>66.803</td>\n",
       "</tr>\n",
       "<tr>\n",
       "  <th>C(metric, Treatment('behav'))[T.fcosine]</th> <td>-1.017</td>   <td>3.005</td>  <td>-0.338</td> <td>0.735</td> <td>-6.906</td>   <td>4.873</td>\n",
       "</tr>\n",
       "<tr>\n",
       "  <th>C(metric, Treatment('behav'))[T.frmse]</th>   <td>-6.162</td>   <td>3.005</td>  <td>-2.051</td> <td>0.040</td> <td>-12.052</td> <td>-0.272</td>\n",
       "</tr>\n",
       "<tr>\n",
       "  <th>C(metric, Treatment('behav'))[T.rmse]</th>    <td>-3.374</td>   <td>3.005</td>  <td>-1.123</td> <td>0.262</td> <td>-9.264</td>   <td>2.516</td>\n",
       "</tr>\n",
       "<tr>\n",
       "  <th>group Var</th>                                 <td>0.000</td>   <td>0.269</td>     <td></td>      <td></td>       <td></td>        <td></td>   \n",
       "</tr>\n",
       "</table>"
      ],
      "text/plain": [
       "<class 'statsmodels.iolib.summary2.Summary'>\n",
       "\"\"\"\n",
       "                       Mixed Linear Model Regression Results\n",
       "====================================================================================\n",
       "Model:                      MixedLM          Dependent Variable:          inflection\n",
       "No. Observations:           266              Method:                      REML      \n",
       "No. Groups:                 3                Scale:                       300.9880  \n",
       "Min. group size:            80               Log-Likelihood:              -1127.5571\n",
       "Max. group size:            106              Converged:                   Yes       \n",
       "Mean group size:            88.7                                                    \n",
       "------------------------------------------------------------------------------------\n",
       "                                         Coef.  Std.Err.   z    P>|z|  [0.025 0.975]\n",
       "------------------------------------------------------------------------------------\n",
       "Intercept                                63.735    1.565 40.717 0.000  60.667 66.803\n",
       "C(metric, Treatment('behav'))[T.fcosine] -1.017    3.005 -0.338 0.735  -6.906  4.873\n",
       "C(metric, Treatment('behav'))[T.frmse]   -6.162    3.005 -2.051 0.040 -12.052 -0.272\n",
       "C(metric, Treatment('behav'))[T.rmse]    -3.374    3.005 -1.123 0.262  -9.264  2.516\n",
       "group Var                                 0.000    0.269                            \n",
       "====================================================================================\n",
       "\n",
       "\"\"\""
      ]
     },
     "execution_count": 27,
     "metadata": {},
     "output_type": "execute_result"
    }
   ],
   "source": [
    "model = smf.mixedlm(\"inflection ~ C(metric, Treatment('behav')) \",\n",
    "                    all_groups,\n",
    "                    groups= \"group\").fit()\n",
    "\n",
    "model.summary()"
   ]
  },
  {
   "cell_type": "code",
   "execution_count": null,
   "id": "73b00b0a",
   "metadata": {},
   "outputs": [],
   "source": []
  }
 ],
 "metadata": {
  "kernelspec": {
   "display_name": "Python 3",
   "language": "python",
   "name": "python3"
  },
  "language_info": {
   "codemirror_mode": {
    "name": "ipython",
    "version": 3
   },
   "file_extension": ".py",
   "mimetype": "text/x-python",
   "name": "python",
   "nbconvert_exporter": "python",
   "pygments_lexer": "ipython3",
   "version": "3.7.10"
  }
 },
 "nbformat": 4,
 "nbformat_minor": 5
}
