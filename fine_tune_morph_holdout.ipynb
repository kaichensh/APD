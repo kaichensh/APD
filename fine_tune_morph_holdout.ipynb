{
 "cells": [
  {
   "cell_type": "markdown",
   "metadata": {},
   "source": [
    "# In this notebook we train a model for each stim dimension for each bird"
   ]
  },
  {
   "cell_type": "code",
   "execution_count": 1,
   "metadata": {},
   "outputs": [
    {
     "name": "stdout",
     "output_type": "stream",
     "text": [
      "Tue May 10 10:45:27 2022       \n",
      "+-----------------------------------------------------------------------------+\n",
      "| NVIDIA-SMI 470.103.01   Driver Version: 470.103.01   CUDA Version: 11.4     |\n",
      "|-------------------------------+----------------------+----------------------+\n",
      "| GPU  Name        Persistence-M| Bus-Id        Disp.A | Volatile Uncorr. ECC |\n",
      "| Fan  Temp  Perf  Pwr:Usage/Cap|         Memory-Usage | GPU-Util  Compute M. |\n",
      "|                               |                      |               MIG M. |\n",
      "|===============================+======================+======================|\n",
      "|   0  Tesla K40c          Off  | 00000000:02:00.0 Off |                    0 |\n",
      "| 23%   45C    P0    61W / 235W |      0MiB / 11441MiB |      0%      Default |\n",
      "|                               |                      |                  N/A |\n",
      "+-------------------------------+----------------------+----------------------+\n",
      "|   1  Tesla K40c          Off  | 00000000:03:00.0 Off |                    0 |\n",
      "| 24%   46C    P0    62W / 235W |      0MiB / 11441MiB |      0%      Default |\n",
      "|                               |                      |                  N/A |\n",
      "+-------------------------------+----------------------+----------------------+\n",
      "|   2  NVIDIA TITAN Xp     Off  | 00000000:84:00.0 Off |                  N/A |\n",
      "| 20%   38C    P0    60W / 250W |      0MiB / 12196MiB |      0%      Default |\n",
      "|                               |                      |                  N/A |\n",
      "+-------------------------------+----------------------+----------------------+\n",
      "|   3  NVIDIA TITAN Xp     Off  | 00000000:85:00.0 Off |                  N/A |\n",
      "| 26%   43C    P0    58W / 250W |      0MiB / 12196MiB |      1%      Default |\n",
      "|                               |                      |                  N/A |\n",
      "+-------------------------------+----------------------+----------------------+\n",
      "                                                                               \n",
      "+-----------------------------------------------------------------------------+\n",
      "| Processes:                                                                  |\n",
      "|  GPU   GI   CI        PID   Type   Process name                  GPU Memory |\n",
      "|        ID   ID                                                   Usage      |\n",
      "|=============================================================================|\n",
      "|  No running processes found                                                 |\n",
      "+-----------------------------------------------------------------------------+\n"
     ]
    }
   ],
   "source": [
    "!nvidia-smi"
   ]
  },
  {
   "cell_type": "code",
   "execution_count": 2,
   "metadata": {},
   "outputs": [],
   "source": [
    "gpus = [0]\n",
    "import os\n",
    "os.environ['CUDA_VISIBLE_DEVICES']=','.join([str(i) for i in gpus])"
   ]
  },
  {
   "cell_type": "code",
   "execution_count": 20,
   "metadata": {},
   "outputs": [],
   "source": [
    "import tensorflow as tf\n",
    "# tf.enable_eager_execution()\n",
    "import pandas as pd\n",
    "import numpy as np\n",
    "import matplotlib.pyplot as plt\n",
    "import random\n",
    "from glob import glob\n",
    "import pickle\n",
    "from tensorflow.keras import layers, Sequential, datasets, models, losses, Model, Input\n",
    "from tensorflow.keras.callbacks import EarlyStopping, ModelCheckpoint\n",
    "from tensorflow.keras.optimizers import Adam\n",
    "from sklearn.model_selection import train_test_split\n",
    "import datetime\n",
    "import sys\n",
    "from tensorflow.keras.backend import clear_session\n",
    "from trainingfuncs import *\n",
    "from math_utils import *\n",
    "from itertools import product"
   ]
  },
  {
   "cell_type": "code",
   "execution_count": 4,
   "metadata": {},
   "outputs": [],
   "source": [
    "tf.compat.v1.disable_eager_execution()"
   ]
  },
  {
   "cell_type": "markdown",
   "metadata": {},
   "source": [
    "# Load data"
   ]
  },
  {
   "cell_type": "code",
   "execution_count": 5,
   "metadata": {},
   "outputs": [],
   "source": [
    "sys.path.append(\"..\") # Adds higher directory to python modules path.\n",
    "from helpers.dataset_vars import *\n",
    "from helpers.myclasses import *"
   ]
  },
  {
   "cell_type": "code",
   "execution_count": 6,
   "metadata": {},
   "outputs": [],
   "source": [
    "dataset = Dataset('Starling')\n",
    "analysis = 'stable_length'"
   ]
  },
  {
   "cell_type": "code",
   "execution_count": 7,
   "metadata": {},
   "outputs": [],
   "source": [
    "species_folder = dataset.path_save\n",
    "analysis_folder = os.path.join(species_folder, analysis)\n",
    "log_folder = os.path.join(analysis_folder, 'log')\n",
    "behavior_folder = os.path.abspath('/mnt/cube/kai/results/perceptual_loss/morph')"
   ]
  },
  {
   "cell_type": "code",
   "execution_count": 8,
   "metadata": {},
   "outputs": [],
   "source": [
    "spec_file = os.path.abspath('/mnt/cube/kai/repositories/morphs/data/stimuli/spec_star_restricted.p')"
   ]
  },
  {
   "cell_type": "code",
   "execution_count": 9,
   "metadata": {},
   "outputs": [],
   "source": [
    "behav_file = os.path.join(behavior_folder, 'behavior.p')"
   ]
  },
  {
   "cell_type": "code",
   "execution_count": 10,
   "metadata": {},
   "outputs": [],
   "source": [
    "spec_df = pickle.load(open(spec_file, 'rb'))"
   ]
  },
  {
   "cell_type": "code",
   "execution_count": 11,
   "metadata": {},
   "outputs": [
    {
     "data": {
      "text/html": [
       "<div>\n",
       "<style scoped>\n",
       "    .dataframe tbody tr th:only-of-type {\n",
       "        vertical-align: middle;\n",
       "    }\n",
       "\n",
       "    .dataframe tbody tr th {\n",
       "        vertical-align: top;\n",
       "    }\n",
       "\n",
       "    .dataframe thead th {\n",
       "        text-align: right;\n",
       "    }\n",
       "</style>\n",
       "<table border=\"1\" class=\"dataframe\">\n",
       "  <thead>\n",
       "    <tr style=\"text-align: right;\">\n",
       "      <th></th>\n",
       "      <th>stim</th>\n",
       "      <th>id</th>\n",
       "      <th>wav</th>\n",
       "      <th>spec</th>\n",
       "    </tr>\n",
       "  </thead>\n",
       "  <tbody>\n",
       "    <tr>\n",
       "      <th>3067</th>\n",
       "      <td>fh</td>\n",
       "      <td>124</td>\n",
       "      <td>/mnt/cube/kai/repositories/morphs/data/stimuli...</td>\n",
       "      <td>[[-0.55682534, -0.6060915, -0.6800735, -0.5795...</td>\n",
       "    </tr>\n",
       "    <tr>\n",
       "      <th>3068</th>\n",
       "      <td>fh</td>\n",
       "      <td>125</td>\n",
       "      <td>/mnt/cube/kai/repositories/morphs/data/stimuli...</td>\n",
       "      <td>[[-0.5762845, -0.6195225, -0.5774481, -0.63291...</td>\n",
       "    </tr>\n",
       "    <tr>\n",
       "      <th>3069</th>\n",
       "      <td>fh</td>\n",
       "      <td>126</td>\n",
       "      <td>/mnt/cube/kai/repositories/morphs/data/stimuli...</td>\n",
       "      <td>[[-0.5653498, -0.58962816, -0.6303803, -0.6005...</td>\n",
       "    </tr>\n",
       "    <tr>\n",
       "      <th>3070</th>\n",
       "      <td>fh</td>\n",
       "      <td>127</td>\n",
       "      <td>/mnt/cube/kai/repositories/morphs/data/stimuli...</td>\n",
       "      <td>[[-0.4790637, -0.5114642, -0.62183285, -0.6796...</td>\n",
       "    </tr>\n",
       "    <tr>\n",
       "      <th>3071</th>\n",
       "      <td>fh</td>\n",
       "      <td>128</td>\n",
       "      <td>/mnt/cube/kai/repositories/morphs/data/stimuli...</td>\n",
       "      <td>[[-0.5208054, -0.5728106, -0.62339747, -0.6818...</td>\n",
       "    </tr>\n",
       "  </tbody>\n",
       "</table>\n",
       "</div>"
      ],
      "text/plain": [
       "     stim   id                                                wav  \\\n",
       "3067   fh  124  /mnt/cube/kai/repositories/morphs/data/stimuli...   \n",
       "3068   fh  125  /mnt/cube/kai/repositories/morphs/data/stimuli...   \n",
       "3069   fh  126  /mnt/cube/kai/repositories/morphs/data/stimuli...   \n",
       "3070   fh  127  /mnt/cube/kai/repositories/morphs/data/stimuli...   \n",
       "3071   fh  128  /mnt/cube/kai/repositories/morphs/data/stimuli...   \n",
       "\n",
       "                                                   spec  \n",
       "3067  [[-0.55682534, -0.6060915, -0.6800735, -0.5795...  \n",
       "3068  [[-0.5762845, -0.6195225, -0.5774481, -0.63291...  \n",
       "3069  [[-0.5653498, -0.58962816, -0.6303803, -0.6005...  \n",
       "3070  [[-0.4790637, -0.5114642, -0.62183285, -0.6796...  \n",
       "3071  [[-0.5208054, -0.5728106, -0.62339747, -0.6818...  "
      ]
     },
     "execution_count": 11,
     "metadata": {},
     "output_type": "execute_result"
    }
   ],
   "source": [
    "spec_df.tail()"
   ]
  },
  {
   "cell_type": "code",
   "execution_count": 12,
   "metadata": {},
   "outputs": [],
   "source": [
    "group1_behav = pickle.load(open(os.path.join(behavior_folder, 'group1_behav.p'), 'rb'))\n",
    "group2_behav = pickle.load(open(os.path.join(behavior_folder, 'group2_behav.p'), 'rb'))\n",
    "group3_behav = pickle.load(open(os.path.join(behavior_folder, 'group3_behav.p'), 'rb'))"
   ]
  },
  {
   "cell_type": "code",
   "execution_count": 13,
   "metadata": {},
   "outputs": [],
   "source": [
    "behav_df = pd.concat([group1_behav, group2_behav, group3_behav]).reset_index(drop=True)"
   ]
  },
  {
   "cell_type": "code",
   "execution_count": 14,
   "metadata": {},
   "outputs": [
    {
     "data": {
      "text/html": [
       "<div>\n",
       "<style scoped>\n",
       "    .dataframe tbody tr th:only-of-type {\n",
       "        vertical-align: middle;\n",
       "    }\n",
       "\n",
       "    .dataframe tbody tr th {\n",
       "        vertical-align: top;\n",
       "    }\n",
       "\n",
       "    .dataframe thead th {\n",
       "        text-align: right;\n",
       "    }\n",
       "</style>\n",
       "<table border=\"1\" class=\"dataframe\">\n",
       "  <thead>\n",
       "    <tr style=\"text-align: right;\">\n",
       "      <th></th>\n",
       "      <th>index</th>\n",
       "      <th>min_val</th>\n",
       "      <th>max_val</th>\n",
       "      <th>slope</th>\n",
       "      <th>inflection</th>\n",
       "      <th>subj</th>\n",
       "      <th>group</th>\n",
       "      <th>metric</th>\n",
       "    </tr>\n",
       "  </thead>\n",
       "  <tbody>\n",
       "    <tr>\n",
       "      <th>123</th>\n",
       "      <td>df</td>\n",
       "      <td>0.018225</td>\n",
       "      <td>0.951094</td>\n",
       "      <td>0.202028</td>\n",
       "      <td>48.683433</td>\n",
       "      <td>B1101</td>\n",
       "      <td>Group 3</td>\n",
       "      <td>behav</td>\n",
       "    </tr>\n",
       "    <tr>\n",
       "      <th>124</th>\n",
       "      <td>fg</td>\n",
       "      <td>0.086618</td>\n",
       "      <td>0.913664</td>\n",
       "      <td>1.151891</td>\n",
       "      <td>78.842110</td>\n",
       "      <td>B1222</td>\n",
       "      <td>Group 3</td>\n",
       "      <td>behav</td>\n",
       "    </tr>\n",
       "    <tr>\n",
       "      <th>125</th>\n",
       "      <td>fg</td>\n",
       "      <td>0.047706</td>\n",
       "      <td>0.976152</td>\n",
       "      <td>0.275545</td>\n",
       "      <td>76.420456</td>\n",
       "      <td>B1101</td>\n",
       "      <td>Group 3</td>\n",
       "      <td>behav</td>\n",
       "    </tr>\n",
       "    <tr>\n",
       "      <th>126</th>\n",
       "      <td>fh</td>\n",
       "      <td>0.066304</td>\n",
       "      <td>0.916032</td>\n",
       "      <td>0.231404</td>\n",
       "      <td>67.285280</td>\n",
       "      <td>B1222</td>\n",
       "      <td>Group 3</td>\n",
       "      <td>behav</td>\n",
       "    </tr>\n",
       "    <tr>\n",
       "      <th>127</th>\n",
       "      <td>fh</td>\n",
       "      <td>0.052882</td>\n",
       "      <td>0.980467</td>\n",
       "      <td>0.158747</td>\n",
       "      <td>74.250978</td>\n",
       "      <td>B1101</td>\n",
       "      <td>Group 3</td>\n",
       "      <td>behav</td>\n",
       "    </tr>\n",
       "  </tbody>\n",
       "</table>\n",
       "</div>"
      ],
      "text/plain": [
       "    index   min_val   max_val     slope  inflection   subj    group metric\n",
       "123    df  0.018225  0.951094  0.202028   48.683433  B1101  Group 3  behav\n",
       "124    fg  0.086618  0.913664  1.151891   78.842110  B1222  Group 3  behav\n",
       "125    fg  0.047706  0.976152  0.275545   76.420456  B1101  Group 3  behav\n",
       "126    fh  0.066304  0.916032  0.231404   67.285280  B1222  Group 3  behav\n",
       "127    fh  0.052882  0.980467  0.158747   74.250978  B1101  Group 3  behav"
      ]
     },
     "execution_count": 14,
     "metadata": {},
     "output_type": "execute_result"
    }
   ],
   "source": [
    "behav_df.tail()"
   ]
  },
  {
   "cell_type": "code",
   "execution_count": 15,
   "metadata": {},
   "outputs": [],
   "source": [
    "behav_subjs = sorted(behav_df.subj.unique())"
   ]
  },
  {
   "cell_type": "code",
   "execution_count": 16,
   "metadata": {},
   "outputs": [
    {
     "name": "stdout",
     "output_type": "stream",
     "text": [
      "186 76\n"
     ]
    }
   ],
   "source": [
    "spec_h, spec_w = spec_df.spec[0].shape\n",
    "print(spec_h, spec_w)"
   ]
  },
  {
   "cell_type": "code",
   "execution_count": 17,
   "metadata": {},
   "outputs": [],
   "source": [
    "spec_list = spec_df.spec.values.tolist()"
   ]
  },
  {
   "cell_type": "markdown",
   "metadata": {},
   "source": [
    "## we need to first aggregate behavior data to response accuracy each bird at each morph position"
   ]
  },
  {
   "cell_type": "code",
   "execution_count": 18,
   "metadata": {},
   "outputs": [],
   "source": [
    "def check_reverse(subj, morph_dim):\n",
    "    if subj in ['B1088', 'B1105']:\n",
    "        if morph_dim in [a+b for a, b in list(product('efcd', 'gh'))]:\n",
    "            return True\n",
    "        else:\n",
    "            return False\n",
    "    elif subj in ['B1101', 'B1222']:\n",
    "        if morph_dim in [a+b for a, b in list(product('cd', 'ef'))]:\n",
    "            return True\n",
    "        else:\n",
    "            return False\n",
    "    else:\n",
    "        return False"
   ]
  },
  {
   "cell_type": "code",
   "execution_count": 21,
   "metadata": {},
   "outputs": [],
   "source": [
    "behav_df_agg = pd.DataFrame()\n",
    "positions = np.arange(1, 129, 1, dtype=int)\n",
    "behav_subjs = behav_df.subj.unique()\n",
    "for subj in behav_subjs:\n",
    "    subj_morph_dims = behav_df[behav_df.subj==subj]['index'].unique()\n",
    "    for dim in subj_morph_dims:\n",
    "        dim_vals = behav_df[(behav_df.subj==subj) & (behav_df['index']==dim)].values.tolist()[0][1:5]\n",
    "        specs = spec_df[spec_df.stim==dim].spec.values.tolist()\n",
    "        dim_fits = four_param_logistic([0.001, 0.999]+dim_vals[2:])(positions)\n",
    "        if check_reverse(subj, dim):\n",
    "            dim_fits = [1 - fit_val for fit_val in dim_fits]\n",
    "        dim_df = pd.DataFrame({'id': positions,\n",
    "                               'fit': dim_fits,\n",
    "                               'spec': specs})\n",
    "        dim_df['subj'] = subj\n",
    "        dim_df['stim'] = dim\n",
    "        behav_df_agg = pd.concat([behav_df_agg, dim_df]).reset_index(drop=True)"
   ]
  },
  {
   "cell_type": "code",
   "execution_count": 22,
   "metadata": {},
   "outputs": [],
   "source": [
    "behav_df_agg['one_hot'] = behav_df_agg['fit'].apply(lambda x: [1-x, x])"
   ]
  },
  {
   "cell_type": "code",
   "execution_count": 23,
   "metadata": {},
   "outputs": [
    {
     "data": {
      "text/html": [
       "<div>\n",
       "<style scoped>\n",
       "    .dataframe tbody tr th:only-of-type {\n",
       "        vertical-align: middle;\n",
       "    }\n",
       "\n",
       "    .dataframe tbody tr th {\n",
       "        vertical-align: top;\n",
       "    }\n",
       "\n",
       "    .dataframe thead th {\n",
       "        text-align: right;\n",
       "    }\n",
       "</style>\n",
       "<table border=\"1\" class=\"dataframe\">\n",
       "  <thead>\n",
       "    <tr style=\"text-align: right;\">\n",
       "      <th></th>\n",
       "      <th>id</th>\n",
       "      <th>fit</th>\n",
       "      <th>spec</th>\n",
       "      <th>subj</th>\n",
       "      <th>stim</th>\n",
       "      <th>one_hot</th>\n",
       "    </tr>\n",
       "  </thead>\n",
       "  <tbody>\n",
       "    <tr>\n",
       "      <th>16379</th>\n",
       "      <td>124</td>\n",
       "      <td>0.998629</td>\n",
       "      <td>[[-0.55682534, -0.6060915, -0.6800735, -0.5795...</td>\n",
       "      <td>B1101</td>\n",
       "      <td>fh</td>\n",
       "      <td>[0.0013707920058949608, 0.998629207994105]</td>\n",
       "    </tr>\n",
       "    <tr>\n",
       "      <th>16380</th>\n",
       "      <td>125</td>\n",
       "      <td>0.998684</td>\n",
       "      <td>[[-0.5762845, -0.6195225, -0.5774481, -0.63291...</td>\n",
       "      <td>B1101</td>\n",
       "      <td>fh</td>\n",
       "      <td>[0.001316381594144156, 0.9986836184058558]</td>\n",
       "    </tr>\n",
       "    <tr>\n",
       "      <th>16381</th>\n",
       "      <td>126</td>\n",
       "      <td>0.998730</td>\n",
       "      <td>[[-0.5653498, -0.58962816, -0.6303803, -0.6005...</td>\n",
       "      <td>B1101</td>\n",
       "      <td>fh</td>\n",
       "      <td>[0.0012699532633602129, 0.9987300467366398]</td>\n",
       "    </tr>\n",
       "    <tr>\n",
       "      <th>16382</th>\n",
       "      <td>127</td>\n",
       "      <td>0.998770</td>\n",
       "      <td>[[-0.4790637, -0.5114642, -0.62183285, -0.6796...</td>\n",
       "      <td>B1101</td>\n",
       "      <td>fh</td>\n",
       "      <td>[0.0012303366190812293, 0.9987696633809188]</td>\n",
       "    </tr>\n",
       "    <tr>\n",
       "      <th>16383</th>\n",
       "      <td>128</td>\n",
       "      <td>0.998803</td>\n",
       "      <td>[[-0.5208054, -0.5728106, -0.62339747, -0.6818...</td>\n",
       "      <td>B1101</td>\n",
       "      <td>fh</td>\n",
       "      <td>[0.0011965327193077524, 0.9988034672806922]</td>\n",
       "    </tr>\n",
       "  </tbody>\n",
       "</table>\n",
       "</div>"
      ],
      "text/plain": [
       "        id       fit                                               spec  \\\n",
       "16379  124  0.998629  [[-0.55682534, -0.6060915, -0.6800735, -0.5795...   \n",
       "16380  125  0.998684  [[-0.5762845, -0.6195225, -0.5774481, -0.63291...   \n",
       "16381  126  0.998730  [[-0.5653498, -0.58962816, -0.6303803, -0.6005...   \n",
       "16382  127  0.998770  [[-0.4790637, -0.5114642, -0.62183285, -0.6796...   \n",
       "16383  128  0.998803  [[-0.5208054, -0.5728106, -0.62339747, -0.6818...   \n",
       "\n",
       "        subj stim                                      one_hot  \n",
       "16379  B1101   fh   [0.0013707920058949608, 0.998629207994105]  \n",
       "16380  B1101   fh   [0.001316381594144156, 0.9986836184058558]  \n",
       "16381  B1101   fh  [0.0012699532633602129, 0.9987300467366398]  \n",
       "16382  B1101   fh  [0.0012303366190812293, 0.9987696633809188]  \n",
       "16383  B1101   fh  [0.0011965327193077524, 0.9988034672806922]  "
      ]
     },
     "execution_count": 23,
     "metadata": {},
     "output_type": "execute_result"
    }
   ],
   "source": [
    "behav_df_agg.tail()"
   ]
  },
  {
   "cell_type": "code",
   "execution_count": 29,
   "metadata": {},
   "outputs": [
    {
     "name": "stdout",
     "output_type": "stream",
     "text": [
      "0.9989999631198078\n"
     ]
    },
    {
     "data": {
      "image/png": "[encoded data removed]",
      "text/plain": [
       "<Figure size 432x288 with 1 Axes>"
      ]
     },
     "metadata": {
      "needs_background": "light"
     },
     "output_type": "display_data"
    }
   ],
   "source": [
    "plt.imshow(behav_df_agg[(behav_df_agg.subj=='B1101') & (behav_df_agg.stim=='ce')].spec.tolist()[0])\n",
    "print(behav_df_agg[(behav_df_agg.subj=='B1101') & (behav_df_agg.stim=='ce')].fit.tolist()[0])"
   ]
  },
  {
   "cell_type": "code",
   "execution_count": 30,
   "metadata": {},
   "outputs": [
    {
     "name": "stdout",
     "output_type": "stream",
     "text": [
      "0.9989962781906084\n"
     ]
    },
    {
     "data": {
      "image/png": "[encoded data removed]",
      "text/plain": [
       "<Figure size 432x288 with 1 Axes>"
      ]
     },
     "metadata": {
      "needs_background": "light"
     },
     "output_type": "display_data"
    }
   ],
   "source": [
    "plt.imshow(behav_df_agg[(behav_df_agg.subj=='B1101') & (behav_df_agg.stim=='ac')].spec.tolist()[-1])\n",
    "print(behav_df_agg[(behav_df_agg.subj=='B1101') & (behav_df_agg.stim=='ac')].fit.tolist()[-1])"
   ]
  },
  {
   "cell_type": "markdown",
   "metadata": {},
   "source": [
    "## Define model"
   ]
  },
  {
   "cell_type": "code",
   "execution_count": 21,
   "metadata": {},
   "outputs": [],
   "source": [
    "clear_session()"
   ]
  },
  {
   "cell_type": "markdown",
   "metadata": {},
   "source": [
    "Groups:\n",
    "1. ABCD vs EFGH\n",
    "2. ABGH vs EFCD\n",
    "3. ABEF vs CDGH"
   ]
  },
  {
   "cell_type": "markdown",
   "metadata": {},
   "source": [
    "### First we make sure AE1 and AG1 are the same thing"
   ]
  },
  {
   "cell_type": "code",
   "execution_count": 31,
   "metadata": {},
   "outputs": [
    {
     "data": {
      "text/html": [
       "<div>\n",
       "<style scoped>\n",
       "    .dataframe tbody tr th:only-of-type {\n",
       "        vertical-align: middle;\n",
       "    }\n",
       "\n",
       "    .dataframe tbody tr th {\n",
       "        vertical-align: top;\n",
       "    }\n",
       "\n",
       "    .dataframe thead th {\n",
       "        text-align: right;\n",
       "    }\n",
       "</style>\n",
       "<table border=\"1\" class=\"dataframe\">\n",
       "  <thead>\n",
       "    <tr style=\"text-align: right;\">\n",
       "      <th></th>\n",
       "      <th>id</th>\n",
       "      <th>fit</th>\n",
       "      <th>spec</th>\n",
       "      <th>subj</th>\n",
       "      <th>stim</th>\n",
       "      <th>one_hot</th>\n",
       "    </tr>\n",
       "  </thead>\n",
       "  <tbody>\n",
       "    <tr>\n",
       "      <th>16379</th>\n",
       "      <td>124</td>\n",
       "      <td>0.998629</td>\n",
       "      <td>[[-0.55682534, -0.6060915, -0.6800735, -0.5795...</td>\n",
       "      <td>B1101</td>\n",
       "      <td>fh</td>\n",
       "      <td>[0.0013707920058949608, 0.998629207994105]</td>\n",
       "    </tr>\n",
       "    <tr>\n",
       "      <th>16380</th>\n",
       "      <td>125</td>\n",
       "      <td>0.998684</td>\n",
       "      <td>[[-0.5762845, -0.6195225, -0.5774481, -0.63291...</td>\n",
       "      <td>B1101</td>\n",
       "      <td>fh</td>\n",
       "      <td>[0.001316381594144156, 0.9986836184058558]</td>\n",
       "    </tr>\n",
       "    <tr>\n",
       "      <th>16381</th>\n",
       "      <td>126</td>\n",
       "      <td>0.998730</td>\n",
       "      <td>[[-0.5653498, -0.58962816, -0.6303803, -0.6005...</td>\n",
       "      <td>B1101</td>\n",
       "      <td>fh</td>\n",
       "      <td>[0.0012699532633602129, 0.9987300467366398]</td>\n",
       "    </tr>\n",
       "    <tr>\n",
       "      <th>16382</th>\n",
       "      <td>127</td>\n",
       "      <td>0.998770</td>\n",
       "      <td>[[-0.4790637, -0.5114642, -0.62183285, -0.6796...</td>\n",
       "      <td>B1101</td>\n",
       "      <td>fh</td>\n",
       "      <td>[0.0012303366190812293, 0.9987696633809188]</td>\n",
       "    </tr>\n",
       "    <tr>\n",
       "      <th>16383</th>\n",
       "      <td>128</td>\n",
       "      <td>0.998803</td>\n",
       "      <td>[[-0.5208054, -0.5728106, -0.62339747, -0.6818...</td>\n",
       "      <td>B1101</td>\n",
       "      <td>fh</td>\n",
       "      <td>[0.0011965327193077524, 0.9988034672806922]</td>\n",
       "    </tr>\n",
       "  </tbody>\n",
       "</table>\n",
       "</div>"
      ],
      "text/plain": [
       "        id       fit                                               spec  \\\n",
       "16379  124  0.998629  [[-0.55682534, -0.6060915, -0.6800735, -0.5795...   \n",
       "16380  125  0.998684  [[-0.5762845, -0.6195225, -0.5774481, -0.63291...   \n",
       "16381  126  0.998730  [[-0.5653498, -0.58962816, -0.6303803, -0.6005...   \n",
       "16382  127  0.998770  [[-0.4790637, -0.5114642, -0.62183285, -0.6796...   \n",
       "16383  128  0.998803  [[-0.5208054, -0.5728106, -0.62339747, -0.6818...   \n",
       "\n",
       "        subj stim                                      one_hot  \n",
       "16379  B1101   fh   [0.0013707920058949608, 0.998629207994105]  \n",
       "16380  B1101   fh   [0.001316381594144156, 0.9986836184058558]  \n",
       "16381  B1101   fh  [0.0012699532633602129, 0.9987300467366398]  \n",
       "16382  B1101   fh  [0.0012303366190812293, 0.9987696633809188]  \n",
       "16383  B1101   fh  [0.0011965327193077524, 0.9988034672806922]  "
      ]
     },
     "execution_count": 31,
     "metadata": {},
     "output_type": "execute_result"
    }
   ],
   "source": [
    "behav_df_agg.tail()"
   ]
  },
  {
   "cell_type": "code",
   "execution_count": 22,
   "metadata": {},
   "outputs": [],
   "source": [
    "AE1 = behav_df_agg[(behav_df_agg['stim']=='ae') & (behav_df_agg['id']==1)].spec.tolist()[0]"
   ]
  },
  {
   "cell_type": "code",
   "execution_count": 23,
   "metadata": {},
   "outputs": [],
   "source": [
    "AF1 = behav_df_agg[(behav_df_agg['stim']=='af') & (behav_df_agg['id']==1)].spec.tolist()[0]"
   ]
  },
  {
   "cell_type": "code",
   "execution_count": 24,
   "metadata": {},
   "outputs": [],
   "source": [
    "AC1 = behav_df_agg[(behav_df_agg['stim']=='ac') & (behav_df_agg['id']==1)].spec.tolist()[0]"
   ]
  },
  {
   "cell_type": "code",
   "execution_count": 25,
   "metadata": {},
   "outputs": [
    {
     "data": {
      "text/plain": [
       "<matplotlib.image.AxesImage at 0x7fc57705ae10>"
      ]
     },
     "execution_count": 25,
     "metadata": {},
     "output_type": "execute_result"
    },
    {
     "data": {
      "image/png": "[encoded data removed]",
      "text/plain": [
       "<Figure size 432x288 with 1 Axes>"
      ]
     },
     "metadata": {
      "needs_background": "light"
     },
     "output_type": "display_data"
    }
   ],
   "source": [
    "plt.imshow(AE1)"
   ]
  },
  {
   "cell_type": "code",
   "execution_count": 26,
   "metadata": {},
   "outputs": [
    {
     "data": {
      "text/plain": [
       "<matplotlib.image.AxesImage at 0x7fc566f11f10>"
      ]
     },
     "execution_count": 26,
     "metadata": {},
     "output_type": "execute_result"
    },
    {
     "data": {
      "image/png": "[encoded data removed]",
      "text/plain": [
       "<Figure size 432x288 with 1 Axes>"
      ]
     },
     "metadata": {
      "needs_background": "light"
     },
     "output_type": "display_data"
    }
   ],
   "source": [
    "plt.imshow(AF1)"
   ]
  },
  {
   "cell_type": "code",
   "execution_count": 27,
   "metadata": {},
   "outputs": [
    {
     "data": {
      "text/plain": [
       "<matplotlib.image.AxesImage at 0x7fc566e8d590>"
      ]
     },
     "execution_count": 27,
     "metadata": {},
     "output_type": "execute_result"
    },
    {
     "data": {
      "image/png": "[encoded data removed]",
      "text/plain": [
       "<Figure size 432x288 with 1 Axes>"
      ]
     },
     "metadata": {
      "needs_background": "light"
     },
     "output_type": "display_data"
    }
   ],
   "source": [
    "plt.imshow(AC1)"
   ]
  },
  {
   "cell_type": "markdown",
   "metadata": {},
   "source": [
    "## Now we iterate through all subjects and all their dimensions"
   ]
  },
  {
   "cell_type": "markdown",
   "metadata": {},
   "source": [
    "### define function to create and run model"
   ]
  },
  {
   "cell_type": "code",
   "execution_count": 21,
   "metadata": {},
   "outputs": [],
   "source": [
    "class perceptual_loss_model:\n",
    "    \n",
    "    def __init__(self,\n",
    "                 n_outputs,\n",
    "                 train_type,\n",
    "                 height,\n",
    "                 width,\n",
    "                 n_slices=None,\n",
    "                 load_weight_file=None,\n",
    "                 verbose=1):\n",
    "        \n",
    "        self.train_type=train_type\n",
    "        self.verbose=verbose\n",
    "        \n",
    "        if self.train_type=='pre-train':\n",
    "            assert n_slices, 'You must pass n_slices as an argument for pre-training!'\n",
    "        \n",
    "        self.set_paramters()\n",
    "        self.model = self.build(n_outputs,\n",
    "                                height, \n",
    "                                width, \n",
    "                                train_type=self.train_type, \n",
    "                                n_slices=n_slices, \n",
    "                                load_weight_file=load_weight_file,\n",
    "                                verbose=self.verbose)\n",
    "        \n",
    "    def set_paramters(self,\n",
    "                      patience=20, \n",
    "                      batch_size=10, \n",
    "                      epochs=1000, \n",
    "                      monitor='val_accuracy'):\n",
    "        self.patience = patience\n",
    "        self.batch_size = batch_size\n",
    "        self.epochs = epochs\n",
    "        self.monitor = monitor\n",
    "    \n",
    "    def build(self,\n",
    "              n_outputs,\n",
    "              height, \n",
    "              width, \n",
    "              train_type, \n",
    "              n_slices,\n",
    "              load_weight_file=None,\n",
    "              verbose=1):\n",
    "        if train_type=='pre-train':\n",
    "            \n",
    "            model=self_VGG()\n",
    "            model_inputs = []\n",
    "            for i in range(np.product(n_slices)):\n",
    "                model_inputs.append(Input(shape=(height, width, 3)))\n",
    "            encodings = []\n",
    "            for i in range(np.product(n_slices)):\n",
    "                resized = layers.experimental.preprocessing.Resizing(224, 224,\n",
    "                                                                     interpolation=\"bilinear\")(model_inputs[i])\n",
    "                encodings.append(model(resized))\n",
    "            concated = layers.Concatenate(axis=1)(encodings)\n",
    "            dense = layers.Dense(4096)(concated)\n",
    "            model_output = layers.Dense(np.product(n_slices))(dense) \n",
    "            classifier = Model(model_inputs, model_output)\n",
    "        \n",
    "        elif train_type=='fine-tune':\n",
    "            \n",
    "            model=self_VGG()\n",
    "\n",
    "            model_inputs = Input(shape=(height, width, 3))\n",
    "            resized = layers.experimental.preprocessing.Resizing(224, 224, interpolation=\"bilinear\")(model_inputs)\n",
    "            dense_1 = layers.Dense(2048, name='dense1', activation='relu')(model(resized))\n",
    "            dense_2 = layers.Dense(2048, name='dense2', activation='relu')(dense_1)\n",
    "            dense_3 = layers.Dense(1024, name='dense3', activation='relu')(dense_2)\n",
    "            model_output = layers.Dense(n_outputs, name='output', activation ='softmax')(dense_3) # this needs to be changed for both temporal and spectral slices\n",
    "            classifier = Model(model_inputs, model_output)\n",
    "        else:\n",
    "            raise ValueError('Training type can only be pre-train or fine-tune!')\n",
    "        \n",
    "        if verbose:\n",
    "            print('Model successfully built.')\n",
    "        \n",
    "        if self.train_type=='fine-tune':\n",
    "            assert load_weight_file, 'You must define the weight file to load for fine-tuning!'\n",
    "        if load_weight_file:\n",
    "            if verbose:\n",
    "                print('Training model from existing weight file:')\n",
    "                print(load_weight_file)\n",
    "            classifier.load_weights(os.path.join(load_weight_file), by_name=True)\n",
    "\n",
    "        return classifier\n",
    "    \n",
    "    def compile(self,\n",
    "               loss='categorical_crossentropy',\n",
    "               optimizer=Adam(0.00001),\n",
    "               **kwargs):\n",
    "        self.model.compile(loss=loss, optimizer=optimizer, **kwargs)\n",
    "        \n",
    "    def summary(self):\n",
    "        self.model.summary()\n",
    "        \n",
    "    def train(self,\n",
    "              input_data, \n",
    "              output_data, \n",
    "              run_folder, \n",
    "              log_message,\n",
    "             **kwargs):\n",
    "        \n",
    "        with open(os.path.join(run_folder, 'training.log'), 'w') as file:\n",
    "            file.write(log_message)\n",
    "\n",
    "        trained_weights_file = os.path.join(run_folder, 'weights-improvement.h5')\n",
    "        callbacks = [EarlyStopping(monitor=self.monitor, \n",
    "                                   patience=self.patience, \n",
    "                                   verbose=0),\n",
    "                    ModelCheckpoint(filepath=trained_weights_file, \n",
    "                                    monitor=self.monitor, \n",
    "                                    save_best_only=True, \n",
    "                                    verbose=0)]\n",
    "\n",
    "        self.model.fit(x = input_data, \n",
    "                       y = output_data, \n",
    "                       callbacks=callbacks, \n",
    "                       epochs=self.epochs, \n",
    "                       batch_size=self.batch_size, \n",
    "                       **kwargs)\n",
    "    def predict(self,\n",
    "                test_input,\n",
    "                **kwargs):\n",
    "        return self.model.predict(test_input)"
   ]
  },
  {
   "cell_type": "code",
   "execution_count": 32,
   "metadata": {},
   "outputs": [],
   "source": [
    "def parse_inputs_outputs_exclude(df, subj, exclude_morphs, output_type='one_hot', robust=True, ):\n",
    "    '''\n",
    "    parse inputs and outputs from df, exclude certain dim\n",
    "    df: behav_df_agg\n",
    "    subj: subj to use\n",
    "    exclude_morphs: morph dimension to exclude, can be one or more dimensions\n",
    "    '''\n",
    "    if isinstance(exclude_morphs, str):\n",
    "        exclude_morphs = [exclude_morphs]\n",
    "    subj_df = df[df.subj==subj]\n",
    "    included_morphs = subj_df.stim.unique().tolist()\n",
    "    for morph in exclude_morphs:\n",
    "        if morph not in included_morphs:\n",
    "            print(f'{morph} is not in this subject morphs')\n",
    "            continue\n",
    "        else:\n",
    "            included_morphs.remove(morph)\n",
    "    \n",
    "    \n",
    "    subj_df_filtered = subj_df[subj_df.stim.isin(included_morphs)].reset_index(drop=True)\n",
    "    \n",
    "    # if robust, ambiguious stims are not included in training\n",
    "    if robust:\n",
    "        subj_df_filtered = subj_df_filtered[subj_df_filtered.fit.apply(lambda x: True if (x>0.8) or (x<0.2) \n",
    "                                                                   else False)].reset_index(drop=True)\n",
    "    \n",
    "    subj_df_heldout = subj_df[subj_df.stim.isin(exclude_morphs)].reset_index(drop=True)\n",
    "    \n",
    "    inputs = subj_df_filtered.spec.values.tolist()\n",
    "    inputs_3d = [np.stack([spec, spec, spec], axis=2) for spec in inputs]\n",
    "    test_inputs = [np.stack([spec, spec, spec], axis=2) for spec in subj_df_heldout.spec.values.tolist()]\n",
    "    \n",
    "    if output_type=='one_hot':\n",
    "        outputs = [[np.round(fit), np.round(1-fit)] for fit in subj_df_filtered.fit.values.tolist()]\n",
    "        test_outputs = [[np.round(fit), np.round(1-fit)] for fit in subj_df_heldout.fit.values.tolist()]\n",
    "    elif output_type=='exact':\n",
    "        outputs = subj_df_filtered.fit.values.tolist()\n",
    "        test_outputs = subj_df_heldout.fit.values.tolist()\n",
    "    elif output_type=='exact_one_hot':\n",
    "        outputs = [[fit, 1-fit] for fit in subj_df_filtered.fit.values.tolist()]\n",
    "        test_outputs = [[fit, 1-fit] for fit in subj_df_heldout.fit.values.tolist()]\n",
    "    else:\n",
    "        outputs = [np.round(fit) for fit in subj_df_filtered.fit.values.tolist()]\n",
    "        test_outputs = [np.round(fit) for fit in subj_df_heldout.fit.values.tolist()]\n",
    "    \n",
    "    return np.array(inputs_3d), np.array(outputs), np.array(test_inputs), np.array(test_outputs)"
   ]
  },
  {
   "cell_type": "markdown",
   "metadata": {},
   "source": [
    "### example run, B1101, ad"
   ]
  },
  {
   "cell_type": "code",
   "execution_count": 30,
   "metadata": {},
   "outputs": [
    {
     "data": {
      "text/html": [
       "<div>\n",
       "<style scoped>\n",
       "    .dataframe tbody tr th:only-of-type {\n",
       "        vertical-align: middle;\n",
       "    }\n",
       "\n",
       "    .dataframe tbody tr th {\n",
       "        vertical-align: top;\n",
       "    }\n",
       "\n",
       "    .dataframe thead th {\n",
       "        text-align: right;\n",
       "    }\n",
       "</style>\n",
       "<table border=\"1\" class=\"dataframe\">\n",
       "  <thead>\n",
       "    <tr style=\"text-align: right;\">\n",
       "      <th></th>\n",
       "      <th>id</th>\n",
       "      <th>fit</th>\n",
       "      <th>spec</th>\n",
       "      <th>subj</th>\n",
       "      <th>stim</th>\n",
       "      <th>one_hot</th>\n",
       "    </tr>\n",
       "  </thead>\n",
       "  <tbody>\n",
       "    <tr>\n",
       "      <th>16379</th>\n",
       "      <td>124</td>\n",
       "      <td>0.998629</td>\n",
       "      <td>[[-0.55682534, -0.6060915, -0.6800735, -0.5795...</td>\n",
       "      <td>B1101</td>\n",
       "      <td>fh</td>\n",
       "      <td>[0.0013707920058949608, 0.998629207994105]</td>\n",
       "    </tr>\n",
       "    <tr>\n",
       "      <th>16380</th>\n",
       "      <td>125</td>\n",
       "      <td>0.998684</td>\n",
       "      <td>[[-0.5762845, -0.6195225, -0.5774481, -0.63291...</td>\n",
       "      <td>B1101</td>\n",
       "      <td>fh</td>\n",
       "      <td>[0.001316381594144156, 0.9986836184058558]</td>\n",
       "    </tr>\n",
       "    <tr>\n",
       "      <th>16381</th>\n",
       "      <td>126</td>\n",
       "      <td>0.998730</td>\n",
       "      <td>[[-0.5653498, -0.58962816, -0.6303803, -0.6005...</td>\n",
       "      <td>B1101</td>\n",
       "      <td>fh</td>\n",
       "      <td>[0.0012699532633602129, 0.9987300467366398]</td>\n",
       "    </tr>\n",
       "    <tr>\n",
       "      <th>16382</th>\n",
       "      <td>127</td>\n",
       "      <td>0.998770</td>\n",
       "      <td>[[-0.4790637, -0.5114642, -0.62183285, -0.6796...</td>\n",
       "      <td>B1101</td>\n",
       "      <td>fh</td>\n",
       "      <td>[0.0012303366190812293, 0.9987696633809188]</td>\n",
       "    </tr>\n",
       "    <tr>\n",
       "      <th>16383</th>\n",
       "      <td>128</td>\n",
       "      <td>0.998803</td>\n",
       "      <td>[[-0.5208054, -0.5728106, -0.62339747, -0.6818...</td>\n",
       "      <td>B1101</td>\n",
       "      <td>fh</td>\n",
       "      <td>[0.0011965327193077524, 0.9988034672806922]</td>\n",
       "    </tr>\n",
       "  </tbody>\n",
       "</table>\n",
       "</div>"
      ],
      "text/plain": [
       "        id       fit                                               spec  \\\n",
       "16379  124  0.998629  [[-0.55682534, -0.6060915, -0.6800735, -0.5795...   \n",
       "16380  125  0.998684  [[-0.5762845, -0.6195225, -0.5774481, -0.63291...   \n",
       "16381  126  0.998730  [[-0.5653498, -0.58962816, -0.6303803, -0.6005...   \n",
       "16382  127  0.998770  [[-0.4790637, -0.5114642, -0.62183285, -0.6796...   \n",
       "16383  128  0.998803  [[-0.5208054, -0.5728106, -0.62339747, -0.6818...   \n",
       "\n",
       "        subj stim                                      one_hot  \n",
       "16379  B1101   fh   [0.0013707920058949608, 0.998629207994105]  \n",
       "16380  B1101   fh   [0.001316381594144156, 0.9986836184058558]  \n",
       "16381  B1101   fh  [0.0012699532633602129, 0.9987300467366398]  \n",
       "16382  B1101   fh  [0.0012303366190812293, 0.9987696633809188]  \n",
       "16383  B1101   fh  [0.0011965327193077524, 0.9988034672806922]  "
      ]
     },
     "execution_count": 30,
     "metadata": {},
     "output_type": "execute_result"
    }
   ],
   "source": [
    "behav_df_agg.tail()"
   ]
  },
  {
   "cell_type": "code",
   "execution_count": 41,
   "metadata": {},
   "outputs": [
    {
     "name": "stdout",
     "output_type": "stream",
     "text": [
      "Train on 1728 samples, validate on 192 samples\n",
      "Epoch 1/1000\n",
      "1728/1728 [==============================] - 21s 12ms/sample - loss: 0.6882 - accuracy: 0.5590 - val_loss: 0.7061 - val_accuracy: 0.4479\n",
      "Epoch 2/1000\n",
      "1728/1728 [==============================] - 20s 12ms/sample - loss: 0.6155 - accuracy: 0.6383 - val_loss: 0.5871 - val_accuracy: 0.7448\n",
      "Epoch 3/1000\n",
      "1728/1728 [==============================] - 21s 12ms/sample - loss: 0.4181 - accuracy: 0.8264 - val_loss: 0.3049 - val_accuracy: 0.9479\n",
      "Epoch 4/1000\n",
      "1728/1728 [==============================] - 18s 11ms/sample - loss: 0.4003 - accuracy: 0.8339 - val_loss: 0.3553 - val_accuracy: 0.9115\n",
      "Epoch 5/1000\n",
      "1728/1728 [==============================] - 21s 12ms/sample - loss: 0.3470 - accuracy: 0.8663 - val_loss: 0.2580 - val_accuracy: 0.9531\n",
      "Epoch 6/1000\n",
      "1728/1728 [==============================] - 24s 14ms/sample - loss: 0.3109 - accuracy: 0.8906 - val_loss: 0.2353 - val_accuracy: 0.9635\n",
      "Epoch 7/1000\n",
      "1728/1728 [==============================] - 17s 10ms/sample - loss: 0.2723 - accuracy: 0.9097 - val_loss: 0.3478 - val_accuracy: 0.9062\n",
      "Epoch 8/1000\n",
      "1728/1728 [==============================] - 18s 10ms/sample - loss: 0.2597 - accuracy: 0.9149 - val_loss: 0.3630 - val_accuracy: 0.8802\n",
      "Epoch 9/1000\n",
      "1728/1728 [==============================] - 18s 11ms/sample - loss: 0.2372 - accuracy: 0.9334 - val_loss: 0.5561 - val_accuracy: 0.7760\n",
      "Epoch 10/1000\n",
      "1728/1728 [==============================] - 18s 10ms/sample - loss: 0.2371 - accuracy: 0.9271 - val_loss: 0.2999 - val_accuracy: 0.8958\n",
      "Epoch 11/1000\n",
      "1728/1728 [==============================] - 18s 10ms/sample - loss: 0.2553 - accuracy: 0.9207 - val_loss: 0.2882 - val_accuracy: 0.9167\n",
      "Epoch 12/1000\n",
      "1728/1728 [==============================] - 18s 10ms/sample - loss: 0.1944 - accuracy: 0.9514 - val_loss: 0.2426 - val_accuracy: 0.9531\n",
      "Epoch 13/1000\n",
      "1728/1728 [==============================] - 18s 10ms/sample - loss: 0.1828 - accuracy: 0.9618 - val_loss: 0.3370 - val_accuracy: 0.8854\n",
      "Epoch 14/1000\n",
      "1728/1728 [==============================] - 21s 12ms/sample - loss: 0.1923 - accuracy: 0.9560 - val_loss: 0.2351 - val_accuracy: 0.9792\n",
      "Epoch 15/1000\n",
      "1728/1728 [==============================] - 18s 10ms/sample - loss: 0.1797 - accuracy: 0.9635 - val_loss: 0.2300 - val_accuracy: 0.9740\n",
      "Epoch 16/1000\n",
      "1728/1728 [==============================] - 18s 10ms/sample - loss: 0.1654 - accuracy: 0.9682 - val_loss: 0.2401 - val_accuracy: 0.9792\n",
      "Epoch 17/1000\n",
      "1728/1728 [==============================] - 24s 14ms/sample - loss: 0.1654 - accuracy: 0.9705 - val_loss: 0.2340 - val_accuracy: 0.9844\n",
      "Epoch 18/1000\n",
      "1728/1728 [==============================] - 18s 10ms/sample - loss: 0.1692 - accuracy: 0.9728 - val_loss: 0.2411 - val_accuracy: 0.9688\n",
      "Epoch 19/1000\n",
      "1728/1728 [==============================] - 18s 10ms/sample - loss: 0.1606 - accuracy: 0.9774 - val_loss: 0.2792 - val_accuracy: 0.9323\n",
      "Epoch 20/1000\n",
      "1728/1728 [==============================] - 18s 10ms/sample - loss: 0.1600 - accuracy: 0.9734 - val_loss: 0.2949 - val_accuracy: 0.9323\n",
      "Epoch 21/1000\n",
      "1728/1728 [==============================] - 18s 11ms/sample - loss: 0.1533 - accuracy: 0.9757 - val_loss: 0.2638 - val_accuracy: 0.9375\n",
      "Epoch 22/1000\n",
      "1728/1728 [==============================] - 18s 10ms/sample - loss: 0.1483 - accuracy: 0.9809 - val_loss: 0.2887 - val_accuracy: 0.9323\n",
      "Epoch 23/1000\n",
      "1728/1728 [==============================] - 18s 11ms/sample - loss: 0.1506 - accuracy: 0.9751 - val_loss: 0.2485 - val_accuracy: 0.9688\n",
      "Epoch 24/1000\n",
      "1728/1728 [==============================] - 18s 10ms/sample - loss: 0.1530 - accuracy: 0.9763 - val_loss: 0.3124 - val_accuracy: 0.9375\n",
      "Epoch 25/1000\n",
      "1728/1728 [==============================] - 18s 10ms/sample - loss: 0.1481 - accuracy: 0.9803 - val_loss: 0.3721 - val_accuracy: 0.9010\n",
      "Epoch 26/1000\n",
      "1728/1728 [==============================] - 18s 10ms/sample - loss: 0.1557 - accuracy: 0.9734 - val_loss: 0.2494 - val_accuracy: 0.9688\n",
      "Epoch 27/1000\n",
      "1728/1728 [==============================] - 18s 10ms/sample - loss: 0.1517 - accuracy: 0.9774 - val_loss: 0.3044 - val_accuracy: 0.9323\n",
      "Epoch 28/1000\n",
      "1728/1728 [==============================] - 18s 10ms/sample - loss: 0.1422 - accuracy: 0.9855 - val_loss: 0.2573 - val_accuracy: 0.9635\n",
      "Epoch 29/1000\n",
      "1728/1728 [==============================] - 18s 10ms/sample - loss: 0.1456 - accuracy: 0.9745 - val_loss: 0.2242 - val_accuracy: 0.9635\n",
      "Epoch 30/1000\n",
      "1728/1728 [==============================] - 18s 10ms/sample - loss: 0.1386 - accuracy: 0.9861 - val_loss: 0.2331 - val_accuracy: 0.9740\n",
      "Epoch 31/1000\n",
      "1728/1728 [==============================] - 18s 10ms/sample - loss: 0.1428 - accuracy: 0.9861 - val_loss: 0.2386 - val_accuracy: 0.9635\n",
      "Epoch 32/1000\n",
      "1728/1728 [==============================] - 18s 11ms/sample - loss: 0.1344 - accuracy: 0.9850 - val_loss: 0.2410 - val_accuracy: 0.9635\n",
      "Epoch 33/1000\n",
      "1728/1728 [==============================] - 18s 10ms/sample - loss: 0.1349 - accuracy: 0.9896 - val_loss: 0.2381 - val_accuracy: 0.9635\n",
      "Epoch 34/1000\n",
      "1728/1728 [==============================] - 18s 10ms/sample - loss: 0.1502 - accuracy: 0.9740 - val_loss: 0.2848 - val_accuracy: 0.9375\n",
      "Epoch 35/1000\n",
      "1728/1728 [==============================] - 18s 10ms/sample - loss: 0.1416 - accuracy: 0.9769 - val_loss: 0.2181 - val_accuracy: 0.9844\n",
      "Epoch 36/1000\n",
      "1728/1728 [==============================] - 18s 10ms/sample - loss: 0.1373 - accuracy: 0.9826 - val_loss: 0.2331 - val_accuracy: 0.9792\n",
      "Epoch 37/1000\n",
      "1728/1728 [==============================] - 18s 10ms/sample - loss: 0.1326 - accuracy: 0.9896 - val_loss: 0.2434 - val_accuracy: 0.9635\n",
      "Done with B1101 ad\n"
     ]
    }
   ],
   "source": [
    "subj = 'B1101'\n",
    "morph = 'ad'\n",
    "clear_session()\n",
    "\n",
    "run_folder = extend_folder(results_folder, '2021_10_14_10_55_07', 'exclude_one_training', f'{subj}_{morph}')\n",
    "test_results_file = os.path.join(run_folder, 'test_results.p')\n",
    "\n",
    "\n",
    "inputs, outputs, test_inputs, test_outputs = parse_inputs_outputs_exclude(behav_df_agg, \n",
    "                                                                          subj, \n",
    "                                                                          morph, \n",
    "                                                                          output_type='exact_one_hot',\n",
    "                                                                          robust=False)\n",
    "model=self_VGG()\n",
    "model_inputs = Input(shape=(spec_h, spec_w, 3))\n",
    "resized = layers.experimental.preprocessing.Resizing(224, 224, interpolation=\"bilinear\")(model_inputs)\n",
    "dense_1 = layers.Dense(2048, name='dense1', activation='relu')(model(resized))\n",
    "dropout_1 = layers.Dropout(0.2)(dense_1)\n",
    "dense_2 = layers.Dense(2048, name='dense2', activation='relu')(dropout_1)\n",
    "dropout_2 = layers.Dropout(0.2)(dense_2)\n",
    "dense_3 = layers.Dense(1024, name='dense3', activation='relu')(dropout_2)\n",
    "dropout_3 = layers.Dropout(0.2)(dense_3)\n",
    "model_output = layers.Dense(2, name='output', activation ='softmax')(dropout_3) # this needs to be changed for both temporal and spectral slices\n",
    "classifier = Model(model_inputs, model_output)\n",
    "classifier.load_weights(os.path.abspath(pretrain_weight_file), by_name=True)\n",
    "\n",
    "classifier.compile(loss='categorical_crossentropy',\n",
    "                   optimizer=Adam(0.00001),\n",
    "                   metrics=['accuracy'])\n",
    "\n",
    "log_message = f'Fine-tuning on morph data, simulating {subj} \\\n",
    "training condition, with one morph label held out: {morph}'\n",
    "\n",
    "with open(os.path.join(run_folder, 'training.log'), 'w') as file:\n",
    "    file.write(log_message)\n",
    "\n",
    "trained_weights_file = os.path.join(run_folder, 'weights-improvement.h5')\n",
    "\n",
    "callbacks = [EarlyStopping(monitor='val_accuracy', \n",
    "                           patience=20, \n",
    "                           verbose=0),\n",
    "            ModelCheckpoint(filepath=trained_weights_file, \n",
    "                            monitor='val_accuracy', \n",
    "                            save_best_only=True, \n",
    "                            verbose=0)]\n",
    "\n",
    "classifier.fit(x = inputs, \n",
    "               y = outputs, \n",
    "               callbacks=callbacks, \n",
    "               epochs=1000, \n",
    "               batch_size=10, \n",
    "               validation_split=0.1)\n",
    "\n",
    "test_prediction = classifier.predict(test_inputs)\n",
    "pickle.dump([test_prediction[:,0], test_outputs[:,0]], open(os.path.join(run_folder, 'test_results.p'), 'wb'))\n",
    "print(f'Done with {subj} {morph}')\n",
    "del classifier"
   ]
  },
  {
   "cell_type": "code",
   "execution_count": 42,
   "metadata": {},
   "outputs": [
    {
     "data": {
      "text/plain": [
       "[<matplotlib.lines.Line2D at 0x7f19aff2f110>]"
      ]
     },
     "execution_count": 42,
     "metadata": {},
     "output_type": "execute_result"
    },
    {
     "data": {
      "image/png": "[encoded data removed]",
      "text/plain": [
       "<Figure size 432x288 with 1 Axes>"
      ]
     },
     "metadata": {
      "needs_background": "light"
     },
     "output_type": "display_data"
    }
   ],
   "source": [
    "plt.plot(test_prediction[:,0])"
   ]
  },
  {
   "cell_type": "code",
   "execution_count": 44,
   "metadata": {},
   "outputs": [
    {
     "data": {
      "text/plain": [
       "[<matplotlib.lines.Line2D at 0x7f17fae80d50>]"
      ]
     },
     "execution_count": 44,
     "metadata": {},
     "output_type": "execute_result"
    },
    {
     "data": {
      "image/png": "[encoded data removed]",
      "text/plain": [
       "<Figure size 432x288 with 1 Axes>"
      ]
     },
     "metadata": {
      "needs_background": "light"
     },
     "output_type": "display_data"
    }
   ],
   "source": [
    "plt.plot(test_outputs[:,0])"
   ]
  },
  {
   "cell_type": "markdown",
   "metadata": {},
   "source": [
    "# Now iterate"
   ]
  },
  {
   "cell_type": "code",
   "execution_count": 45,
   "metadata": {},
   "outputs": [],
   "source": [
    "all_morphs = behav_df_agg.stim.unique().tolist()"
   ]
  },
  {
   "cell_type": "code",
   "execution_count": 46,
   "metadata": {},
   "outputs": [],
   "source": [
    "select_morphs = ['fg']"
   ]
  },
  {
   "cell_type": "code",
   "execution_count": 47,
   "metadata": {},
   "outputs": [],
   "source": [
    "from itertools import product"
   ]
  },
  {
   "cell_type": "code",
   "execution_count": 48,
   "metadata": {},
   "outputs": [],
   "source": [
    "pretrain_weight_file = os.path.abspath('/mnt/cube/kai/results/perceptual_loss/2021_10_14_10_55_07/weights-improvement.h5')\n",
    "results_folder = os.path.abspath('/mnt/cube/kai/results/perceptual_loss')"
   ]
  },
  {
   "cell_type": "code",
   "execution_count": 49,
   "metadata": {},
   "outputs": [],
   "source": [
    "clear_session()"
   ]
  },
  {
   "cell_type": "code",
   "execution_count": 53,
   "metadata": {},
   "outputs": [
    {
     "name": "stdout",
     "output_type": "stream",
     "text": [
      "B979 ae already ran, skipping.....\n",
      "B979 af already ran, skipping.....\n",
      "B979 ag already ran, skipping.....\n",
      "B979 ah already ran, skipping.....\n",
      "Done with B979 be\n",
      "Done with B979 bf\n",
      "Done with B979 bg\n",
      "Done with B979 bh\n",
      "Done with B979 ce\n",
      "Done with B979 cf\n",
      "Done with B979 cg\n",
      "Done with B979 ch\n",
      "Done with B979 de\n",
      "Done with B979 df\n",
      "Done with B979 dg\n",
      "Done with B979 dh\n",
      "ac is not in this subject morphs\n",
      "B979 ac is not a valid combination, skipping...............\n",
      "ad is not in this subject morphs\n",
      "B979 ad is not a valid combination, skipping...............\n",
      "bc is not in this subject morphs\n",
      "B979 bc is not a valid combination, skipping...............\n",
      "bd is not in this subject morphs\n",
      "B979 bd is not a valid combination, skipping...............\n",
      "eg is not in this subject morphs\n",
      "B979 eg is not a valid combination, skipping...............\n",
      "fg is not in this subject morphs\n",
      "B979 fg is not a valid combination, skipping...............\n",
      "eh is not in this subject morphs\n",
      "B979 eh is not a valid combination, skipping...............\n",
      "fh is not in this subject morphs\n",
      "B979 fh is not a valid combination, skipping...............\n",
      "Done with B1107 ae\n",
      "Done with B1107 af\n",
      "Done with B1107 ag\n",
      "Done with B1107 ah\n",
      "Done with B1107 be\n",
      "Done with B1107 bf\n",
      "Done with B1107 bg\n",
      "Done with B1107 bh\n",
      "Done with B1107 ce\n",
      "Done with B1107 cf\n",
      "Done with B1107 cg\n",
      "Done with B1107 ch\n",
      "Done with B1107 de\n",
      "Done with B1107 df\n",
      "Done with B1107 dg\n",
      "Done with B1107 dh\n",
      "ac is not in this subject morphs\n",
      "B1107 ac is not a valid combination, skipping...............\n",
      "ad is not in this subject morphs\n",
      "B1107 ad is not a valid combination, skipping...............\n",
      "bc is not in this subject morphs\n",
      "B1107 bc is not a valid combination, skipping...............\n",
      "bd is not in this subject morphs\n",
      "B1107 bd is not a valid combination, skipping...............\n",
      "eg is not in this subject morphs\n",
      "B1107 eg is not a valid combination, skipping...............\n",
      "fg is not in this subject morphs\n",
      "B1107 fg is not a valid combination, skipping...............\n",
      "eh is not in this subject morphs\n",
      "B1107 eh is not a valid combination, skipping...............\n",
      "fh is not in this subject morphs\n",
      "B1107 fh is not a valid combination, skipping...............\n",
      "Done with B1082 ae\n",
      "Done with B1082 af\n",
      "Done with B1082 ag\n",
      "Done with B1082 ah\n",
      "Done with B1082 be\n",
      "Done with B1082 bf\n",
      "Done with B1082 bg\n",
      "Done with B1082 bh\n",
      "Done with B1082 ce\n",
      "Done with B1082 cf\n",
      "Done with B1082 cg\n",
      "Done with B1082 ch\n",
      "Done with B1082 de\n",
      "Done with B1082 df\n",
      "Done with B1082 dg\n",
      "Done with B1082 dh\n",
      "ac is not in this subject morphs\n",
      "B1082 ac is not a valid combination, skipping...............\n",
      "ad is not in this subject morphs\n",
      "B1082 ad is not a valid combination, skipping...............\n",
      "bc is not in this subject morphs\n",
      "B1082 bc is not a valid combination, skipping...............\n",
      "bd is not in this subject morphs\n",
      "B1082 bd is not a valid combination, skipping...............\n",
      "eg is not in this subject morphs\n",
      "B1082 eg is not a valid combination, skipping...............\n",
      "fg is not in this subject morphs\n",
      "B1082 fg is not a valid combination, skipping...............\n",
      "eh is not in this subject morphs\n",
      "B1082 eh is not a valid combination, skipping...............\n",
      "fh is not in this subject morphs\n",
      "B1082 fh is not a valid combination, skipping...............\n",
      "Done with B1218 ae\n",
      "Done with B1218 af\n",
      "Done with B1218 ag\n",
      "Done with B1218 ah\n",
      "Done with B1218 be\n",
      "Done with B1218 bf\n",
      "Done with B1218 bg\n",
      "Done with B1218 bh\n",
      "Done with B1218 ce\n",
      "Done with B1218 cf\n",
      "Done with B1218 cg\n",
      "Done with B1218 ch\n",
      "Done with B1218 de\n",
      "Done with B1218 df\n",
      "Done with B1218 dg\n",
      "Done with B1218 dh\n",
      "ac is not in this subject morphs\n",
      "B1218 ac is not a valid combination, skipping...............\n",
      "ad is not in this subject morphs\n",
      "B1218 ad is not a valid combination, skipping...............\n",
      "bc is not in this subject morphs\n",
      "B1218 bc is not a valid combination, skipping...............\n",
      "bd is not in this subject morphs\n",
      "B1218 bd is not a valid combination, skipping...............\n",
      "eg is not in this subject morphs\n",
      "B1218 eg is not a valid combination, skipping...............\n",
      "fg is not in this subject morphs\n",
      "B1218 fg is not a valid combination, skipping...............\n",
      "eh is not in this subject morphs\n",
      "B1218 eh is not a valid combination, skipping...............\n",
      "fh is not in this subject morphs\n",
      "B1218 fh is not a valid combination, skipping...............\n",
      "Done with B1088 ae\n",
      "Done with B1088 af\n",
      "ag is not in this subject morphs\n",
      "B1088 ag is not a valid combination, skipping...............\n",
      "ah is not in this subject morphs\n",
      "B1088 ah is not a valid combination, skipping...............\n",
      "Done with B1088 be\n",
      "Done with B1088 bf\n",
      "bg is not in this subject morphs\n",
      "B1088 bg is not a valid combination, skipping...............\n",
      "bh is not in this subject morphs\n",
      "B1088 bh is not a valid combination, skipping...............\n",
      "ce is not in this subject morphs\n",
      "B1088 ce is not a valid combination, skipping...............\n",
      "cf is not in this subject morphs\n",
      "B1088 cf is not a valid combination, skipping...............\n",
      "Done with B1088 cg\n",
      "Done with B1088 ch\n",
      "de is not in this subject morphs\n",
      "B1088 de is not a valid combination, skipping...............\n",
      "df is not in this subject morphs\n",
      "B1088 df is not a valid combination, skipping...............\n",
      "Done with B1088 dg\n",
      "Done with B1088 dh\n",
      "Done with B1088 ac\n",
      "Done with B1088 ad\n",
      "Done with B1088 bc\n",
      "Done with B1088 bd\n",
      "Done with B1088 eg\n",
      "B1088 fg already ran, skipping.....\n",
      "Done with B1088 eh\n",
      "Done with B1088 fh\n",
      "Done with B1105 ae\n",
      "Done with B1105 af\n",
      "ag is not in this subject morphs\n",
      "B1105 ag is not a valid combination, skipping...............\n",
      "ah is not in this subject morphs\n",
      "B1105 ah is not a valid combination, skipping...............\n",
      "Done with B1105 be\n",
      "Done with B1105 bf\n",
      "bg is not in this subject morphs\n",
      "B1105 bg is not a valid combination, skipping...............\n",
      "bh is not in this subject morphs\n",
      "B1105 bh is not a valid combination, skipping...............\n",
      "ce is not in this subject morphs\n",
      "B1105 ce is not a valid combination, skipping...............\n",
      "cf is not in this subject morphs\n",
      "B1105 cf is not a valid combination, skipping...............\n",
      "Done with B1105 cg\n",
      "Done with B1105 ch\n",
      "de is not in this subject morphs\n",
      "B1105 de is not a valid combination, skipping...............\n",
      "df is not in this subject morphs\n",
      "B1105 df is not a valid combination, skipping...............\n",
      "Done with B1105 dg\n",
      "Done with B1105 dh\n",
      "Done with B1105 ac\n",
      "Done with B1105 ad\n",
      "Done with B1105 bc\n",
      "Done with B1105 bd\n",
      "Done with B1105 eg\n",
      "B1105 fg already ran, skipping.....\n",
      "Done with B1105 eh\n",
      "Done with B1105 fh\n",
      "ae is not in this subject morphs\n",
      "B1222 ae is not a valid combination, skipping...............\n",
      "af is not in this subject morphs\n",
      "B1222 af is not a valid combination, skipping...............\n",
      "Done with B1222 ag\n",
      "Done with B1222 ah\n",
      "be is not in this subject morphs\n",
      "B1222 be is not a valid combination, skipping...............\n",
      "bf is not in this subject morphs\n",
      "B1222 bf is not a valid combination, skipping...............\n",
      "Done with B1222 bg\n",
      "Done with B1222 bh\n",
      "Done with B1222 ce\n",
      "Done with B1222 cf\n",
      "cg is not in this subject morphs\n",
      "B1222 cg is not a valid combination, skipping...............\n",
      "ch is not in this subject morphs\n",
      "B1222 ch is not a valid combination, skipping...............\n",
      "Done with B1222 de\n",
      "Done with B1222 df\n",
      "dg is not in this subject morphs\n",
      "B1222 dg is not a valid combination, skipping...............\n",
      "dh is not in this subject morphs\n",
      "B1222 dh is not a valid combination, skipping...............\n",
      "Done with B1222 ac\n",
      "Done with B1222 ad\n",
      "Done with B1222 bc\n",
      "Done with B1222 bd\n",
      "Done with B1222 eg\n",
      "B1222 fg already ran, skipping.....\n",
      "Done with B1222 eh\n",
      "Done with B1222 fh\n",
      "ae is not in this subject morphs\n",
      "B1101 ae is not a valid combination, skipping...............\n",
      "af is not in this subject morphs\n",
      "B1101 af is not a valid combination, skipping...............\n",
      "Done with B1101 ag\n",
      "Done with B1101 ah\n",
      "be is not in this subject morphs\n",
      "B1101 be is not a valid combination, skipping...............\n",
      "bf is not in this subject morphs\n",
      "B1101 bf is not a valid combination, skipping...............\n",
      "Done with B1101 bg\n",
      "Done with B1101 bh\n",
      "Done with B1101 ce\n",
      "Done with B1101 cf\n",
      "cg is not in this subject morphs\n",
      "B1101 cg is not a valid combination, skipping...............\n",
      "ch is not in this subject morphs\n",
      "B1101 ch is not a valid combination, skipping...............\n",
      "Done with B1101 de\n",
      "Done with B1101 df\n",
      "dg is not in this subject morphs\n"
     ]
    },
    {
     "name": "stdout",
     "output_type": "stream",
     "text": [
      "B1101 dg is not a valid combination, skipping...............\n",
      "dh is not in this subject morphs\n",
      "B1101 dh is not a valid combination, skipping...............\n",
      "Done with B1101 ac\n",
      "B1101 ad already ran, skipping.....\n",
      "Done with B1101 bc\n",
      "Done with B1101 bd\n",
      "Done with B1101 eg\n",
      "B1101 fg already ran, skipping.....\n",
      "Done with B1101 eh\n",
      "Done with B1101 fh\n"
     ]
    }
   ],
   "source": [
    "for subj, morph in product(behav_subjs, all_morphs):\n",
    "    \n",
    "    inputs, outputs, test_inputs, test_outputs = parse_inputs_outputs_exclude(behav_df_agg, \n",
    "                                                                              subj, \n",
    "                                                                              morph, \n",
    "                                                                              output_type='exact_one_hot',\n",
    "                                                                              robust=False)\n",
    "    if not len(test_inputs):\n",
    "        print(f'{subj} {morph} is not a valid combination, skipping...............')\n",
    "        continue\n",
    "    \n",
    "    clear_session()\n",
    "    if os.path.exists(os.path.join(results_folder, '2021_10_14_10_55_07', \n",
    "                                   'exclude_one_training', f'{subj}_{morph}', 'test_results.p')):\n",
    "        print(f'{subj} {morph} already ran, skipping.....')\n",
    "        continue\n",
    "        \n",
    "    run_folder = extend_folder(results_folder, '2021_10_14_10_55_07', 'exclude_one_training', f'{subj}_{morph}')\n",
    "    test_results_file = os.path.join(run_folder, 'test_results.p')\n",
    "    \n",
    "    \n",
    "    model=self_VGG()\n",
    "    model_inputs = Input(shape=(spec_h, spec_w, 3))\n",
    "    resized = layers.experimental.preprocessing.Resizing(224, 224, interpolation=\"bilinear\")(model_inputs)\n",
    "    dense_1 = layers.Dense(2048, name='dense1', activation='relu')(model(resized))\n",
    "    dropout_1 = layers.Dropout(0.2)(dense_1)\n",
    "    dense_2 = layers.Dense(2048, name='dense2', activation='relu')(dropout_1)\n",
    "    dropout_2 = layers.Dropout(0.2)(dense_2)\n",
    "    dense_3 = layers.Dense(1024, name='dense3', activation='relu')(dropout_2)\n",
    "    dropout_3 = layers.Dropout(0.2)(dense_3)\n",
    "    model_output = layers.Dense(2, name='output', activation ='softmax')(dropout_3) # this needs to be changed for both temporal and spectral slices\n",
    "    classifier = Model(model_inputs, model_output)\n",
    "    classifier.load_weights(os.path.abspath(pretrain_weight_file), by_name=True)\n",
    "    \n",
    "    classifier.compile(loss='categorical_crossentropy',\n",
    "                       optimizer=Adam(0.00001),\n",
    "                       metrics=['accuracy'])\n",
    "\n",
    "    log_message = f'Fine-tuning on morph data, simulating {subj} \\\n",
    "    training condition, with one morph label held out: {morph}'\n",
    "    \n",
    "    with open(os.path.join(run_folder, 'training.log'), 'w') as file:\n",
    "        file.write(log_message)\n",
    "\n",
    "    trained_weights_file = os.path.join(run_folder, 'weights-improvement.h5')\n",
    "    \n",
    "    callbacks = [EarlyStopping(monitor='val_accuracy', \n",
    "                               patience=20, \n",
    "                               verbose=0),\n",
    "                ModelCheckpoint(filepath=trained_weights_file, \n",
    "                                monitor='val_accuracy', \n",
    "                                save_best_only=True, \n",
    "                                verbose=0)]\n",
    "\n",
    "    history = classifier.fit(x = inputs, \n",
    "                           y = outputs, \n",
    "                           callbacks=callbacks, \n",
    "                           epochs=1000, \n",
    "                           batch_size=10, \n",
    "                           validation_split=0.1,\n",
    "                           verbose=0)\n",
    "\n",
    "    test_prediction = classifier.predict(test_inputs)\n",
    "    pickle.dump([test_prediction[:,0], test_outputs[:,0]], open(os.path.join(run_folder, 'test_results.p'), 'wb'))\n",
    "    try:\n",
    "        plt.figure()\n",
    "        plt.plot(history.history['val_accuracy'])\n",
    "        plt.plot(history.history['accuracy'])\n",
    "        plt.savefig(os.path.join(run_folder, 'test_results.png'))\n",
    "        plt.close()\n",
    "    except:\n",
    "        print('Plotting history failed.')\n",
    "    print(f'Done with {subj} {morph}')\n",
    "    del classifier"
   ]
  },
  {
   "cell_type": "code",
   "execution_count": null,
   "metadata": {},
   "outputs": [],
   "source": []
  }
 ],
 "metadata": {
  "kernelspec": {
   "display_name": "Python 3",
   "language": "python",
   "name": "python3"
  },
  "language_info": {
   "codemirror_mode": {
    "name": "ipython",
    "version": 3
   },
   "file_extension": ".py",
   "mimetype": "text/x-python",
   "name": "python",
   "nbconvert_exporter": "python",
   "pygments_lexer": "ipython3",
   "version": "3.7.10"
  }
 },
 "nbformat": 4,
 "nbformat_minor": 2
}
