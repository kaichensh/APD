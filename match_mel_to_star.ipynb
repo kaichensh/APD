{
 "cells": [
  {
   "cell_type": "code",
   "execution_count": 729,
   "id": "56f5b9e2",
   "metadata": {},
   "outputs": [],
   "source": [
    "import os\n",
    "import sys\n",
    "import numpy as np\n",
    "import matplotlib.pyplot as plt\n",
    "import pandas as pd\n",
    "import seaborn as sns\n",
    "import librosa"
   ]
  },
  {
   "cell_type": "code",
   "execution_count": 56,
   "id": "b4cafbec",
   "metadata": {},
   "outputs": [],
   "source": [
    "from math_utils import *"
   ]
  },
  {
   "cell_type": "code",
   "execution_count": 19,
   "id": "5fc23dcb",
   "metadata": {},
   "outputs": [],
   "source": [
    "human_dict = {200: 1., 400: 1., 600: 1.1, 800: 1.4,\n",
    "            1000: 1.9, 2000: 3.2, 4000: 15.9, 8000: 68.5}"
   ]
  },
  {
   "cell_type": "code",
   "execution_count": 20,
   "id": "f031db62",
   "metadata": {},
   "outputs": [],
   "source": [
    "human_df = pd.DataFrame.from_dict(human_dict, orient='index', columns = ['dF'])"
   ]
  },
  {
   "cell_type": "code",
   "execution_count": 21,
   "id": "3bb08493",
   "metadata": {},
   "outputs": [
    {
     "data": {
      "text/html": [
       "<div>\n",
       "<style scoped>\n",
       "    .dataframe tbody tr th:only-of-type {\n",
       "        vertical-align: middle;\n",
       "    }\n",
       "\n",
       "    .dataframe tbody tr th {\n",
       "        vertical-align: top;\n",
       "    }\n",
       "\n",
       "    .dataframe thead th {\n",
       "        text-align: right;\n",
       "    }\n",
       "</style>\n",
       "<table border=\"1\" class=\"dataframe\">\n",
       "  <thead>\n",
       "    <tr style=\"text-align: right;\">\n",
       "      <th></th>\n",
       "      <th>dF</th>\n",
       "    </tr>\n",
       "  </thead>\n",
       "  <tbody>\n",
       "    <tr>\n",
       "      <th>200</th>\n",
       "      <td>1.0</td>\n",
       "    </tr>\n",
       "    <tr>\n",
       "      <th>400</th>\n",
       "      <td>1.0</td>\n",
       "    </tr>\n",
       "    <tr>\n",
       "      <th>600</th>\n",
       "      <td>1.1</td>\n",
       "    </tr>\n",
       "    <tr>\n",
       "      <th>800</th>\n",
       "      <td>1.4</td>\n",
       "    </tr>\n",
       "    <tr>\n",
       "      <th>1000</th>\n",
       "      <td>1.9</td>\n",
       "    </tr>\n",
       "    <tr>\n",
       "      <th>2000</th>\n",
       "      <td>3.2</td>\n",
       "    </tr>\n",
       "    <tr>\n",
       "      <th>4000</th>\n",
       "      <td>15.9</td>\n",
       "    </tr>\n",
       "    <tr>\n",
       "      <th>8000</th>\n",
       "      <td>68.5</td>\n",
       "    </tr>\n",
       "  </tbody>\n",
       "</table>\n",
       "</div>"
      ],
      "text/plain": [
       "        dF\n",
       "200    1.0\n",
       "400    1.0\n",
       "600    1.1\n",
       "800    1.4\n",
       "1000   1.9\n",
       "2000   3.2\n",
       "4000  15.9\n",
       "8000  68.5"
      ]
     },
     "execution_count": 21,
     "metadata": {},
     "output_type": "execute_result"
    }
   ],
   "source": [
    "human_df"
   ]
  },
  {
   "cell_type": "code",
   "execution_count": 22,
   "id": "9d2c2309",
   "metadata": {},
   "outputs": [],
   "source": [
    "human_df['dF/F'] = human_df['dF']/human_df.index"
   ]
  },
  {
   "cell_type": "code",
   "execution_count": 23,
   "id": "98eeb651",
   "metadata": {},
   "outputs": [
    {
     "data": {
      "text/html": [
       "<div>\n",
       "<style scoped>\n",
       "    .dataframe tbody tr th:only-of-type {\n",
       "        vertical-align: middle;\n",
       "    }\n",
       "\n",
       "    .dataframe tbody tr th {\n",
       "        vertical-align: top;\n",
       "    }\n",
       "\n",
       "    .dataframe thead th {\n",
       "        text-align: right;\n",
       "    }\n",
       "</style>\n",
       "<table border=\"1\" class=\"dataframe\">\n",
       "  <thead>\n",
       "    <tr style=\"text-align: right;\">\n",
       "      <th></th>\n",
       "      <th>dF</th>\n",
       "      <th>dF/F</th>\n",
       "    </tr>\n",
       "  </thead>\n",
       "  <tbody>\n",
       "    <tr>\n",
       "      <th>200</th>\n",
       "      <td>1.0</td>\n",
       "      <td>0.005000</td>\n",
       "    </tr>\n",
       "    <tr>\n",
       "      <th>400</th>\n",
       "      <td>1.0</td>\n",
       "      <td>0.002500</td>\n",
       "    </tr>\n",
       "    <tr>\n",
       "      <th>600</th>\n",
       "      <td>1.1</td>\n",
       "      <td>0.001833</td>\n",
       "    </tr>\n",
       "    <tr>\n",
       "      <th>800</th>\n",
       "      <td>1.4</td>\n",
       "      <td>0.001750</td>\n",
       "    </tr>\n",
       "    <tr>\n",
       "      <th>1000</th>\n",
       "      <td>1.9</td>\n",
       "      <td>0.001900</td>\n",
       "    </tr>\n",
       "    <tr>\n",
       "      <th>2000</th>\n",
       "      <td>3.2</td>\n",
       "      <td>0.001600</td>\n",
       "    </tr>\n",
       "    <tr>\n",
       "      <th>4000</th>\n",
       "      <td>15.9</td>\n",
       "      <td>0.003975</td>\n",
       "    </tr>\n",
       "    <tr>\n",
       "      <th>8000</th>\n",
       "      <td>68.5</td>\n",
       "      <td>0.008563</td>\n",
       "    </tr>\n",
       "  </tbody>\n",
       "</table>\n",
       "</div>"
      ],
      "text/plain": [
       "        dF      dF/F\n",
       "200    1.0  0.005000\n",
       "400    1.0  0.002500\n",
       "600    1.1  0.001833\n",
       "800    1.4  0.001750\n",
       "1000   1.9  0.001900\n",
       "2000   3.2  0.001600\n",
       "4000  15.9  0.003975\n",
       "8000  68.5  0.008563"
      ]
     },
     "execution_count": 23,
     "metadata": {},
     "output_type": "execute_result"
    }
   ],
   "source": [
    "human_df"
   ]
  },
  {
   "cell_type": "code",
   "execution_count": 39,
   "id": "340cf03a",
   "metadata": {},
   "outputs": [
    {
     "data": {
      "image/png": "[encoded data removed]",
      "text/plain": [
       "<Figure size 360x360 with 1 Axes>"
      ]
     },
     "metadata": {
      "needs_background": "light"
     },
     "output_type": "display_data"
    }
   ],
   "source": [
    "sns.relplot(x=human_df.index, y=human_df['dF/F'], kind='line', marker='o')\n",
    "plt.ylim([0, 0.1])\n",
    "plt.xscale('log')"
   ]
  },
  {
   "cell_type": "code",
   "execution_count": 41,
   "id": "3c51caff",
   "metadata": {},
   "outputs": [],
   "source": [
    "starling_dict = {400:0.023, 800: 0.0125, 1200: 0.007, 1600: 0.006, 3200:0.006, 6400: 0.006, 12800: 0.018}"
   ]
  },
  {
   "cell_type": "code",
   "execution_count": 42,
   "id": "a542fd51",
   "metadata": {},
   "outputs": [],
   "source": [
    "starling_df = pd.DataFrame.from_dict(starling_dict, orient='index', columns = ['dF/F'])"
   ]
  },
  {
   "cell_type": "code",
   "execution_count": 46,
   "id": "950182c3",
   "metadata": {},
   "outputs": [],
   "source": [
    "combined_df = pd.DataFrame.from_dict(starling_dict, orient='index', columns = ['starling'])\n",
    "combined_df = pd.concat([combined_df, human_df['dF/F']], axis=1)"
   ]
  },
  {
   "cell_type": "code",
   "execution_count": 48,
   "id": "ea833311",
   "metadata": {},
   "outputs": [],
   "source": [
    "combined_df.columns = ['starling', 'human']"
   ]
  },
  {
   "cell_type": "code",
   "execution_count": 50,
   "id": "084dee1f",
   "metadata": {},
   "outputs": [],
   "source": [
    "combined_df = combined_df.reset_index()"
   ]
  },
  {
   "cell_type": "code",
   "execution_count": 54,
   "id": "8d7e1e6b",
   "metadata": {},
   "outputs": [],
   "source": [
    "combined_df.rename(columns={'index':'freq'}, inplace=True)"
   ]
  },
  {
   "cell_type": "code",
   "execution_count": 55,
   "id": "1ab0e86c",
   "metadata": {},
   "outputs": [
    {
     "data": {
      "text/html": [
       "<div>\n",
       "<style scoped>\n",
       "    .dataframe tbody tr th:only-of-type {\n",
       "        vertical-align: middle;\n",
       "    }\n",
       "\n",
       "    .dataframe tbody tr th {\n",
       "        vertical-align: top;\n",
       "    }\n",
       "\n",
       "    .dataframe thead th {\n",
       "        text-align: right;\n",
       "    }\n",
       "</style>\n",
       "<table border=\"1\" class=\"dataframe\">\n",
       "  <thead>\n",
       "    <tr style=\"text-align: right;\">\n",
       "      <th></th>\n",
       "      <th>freq</th>\n",
       "      <th>starling</th>\n",
       "      <th>human</th>\n",
       "    </tr>\n",
       "  </thead>\n",
       "  <tbody>\n",
       "    <tr>\n",
       "      <th>0</th>\n",
       "      <td>200</td>\n",
       "      <td>NaN</td>\n",
       "      <td>0.005000</td>\n",
       "    </tr>\n",
       "    <tr>\n",
       "      <th>1</th>\n",
       "      <td>400</td>\n",
       "      <td>0.0230</td>\n",
       "      <td>0.002500</td>\n",
       "    </tr>\n",
       "    <tr>\n",
       "      <th>2</th>\n",
       "      <td>600</td>\n",
       "      <td>NaN</td>\n",
       "      <td>0.001833</td>\n",
       "    </tr>\n",
       "    <tr>\n",
       "      <th>3</th>\n",
       "      <td>800</td>\n",
       "      <td>0.0125</td>\n",
       "      <td>0.001750</td>\n",
       "    </tr>\n",
       "    <tr>\n",
       "      <th>4</th>\n",
       "      <td>1000</td>\n",
       "      <td>NaN</td>\n",
       "      <td>0.001900</td>\n",
       "    </tr>\n",
       "    <tr>\n",
       "      <th>5</th>\n",
       "      <td>1200</td>\n",
       "      <td>0.0070</td>\n",
       "      <td>NaN</td>\n",
       "    </tr>\n",
       "    <tr>\n",
       "      <th>6</th>\n",
       "      <td>1600</td>\n",
       "      <td>0.0060</td>\n",
       "      <td>NaN</td>\n",
       "    </tr>\n",
       "    <tr>\n",
       "      <th>7</th>\n",
       "      <td>2000</td>\n",
       "      <td>NaN</td>\n",
       "      <td>0.001600</td>\n",
       "    </tr>\n",
       "    <tr>\n",
       "      <th>8</th>\n",
       "      <td>3200</td>\n",
       "      <td>0.0060</td>\n",
       "      <td>NaN</td>\n",
       "    </tr>\n",
       "    <tr>\n",
       "      <th>9</th>\n",
       "      <td>4000</td>\n",
       "      <td>NaN</td>\n",
       "      <td>0.003975</td>\n",
       "    </tr>\n",
       "    <tr>\n",
       "      <th>10</th>\n",
       "      <td>6400</td>\n",
       "      <td>0.0060</td>\n",
       "      <td>NaN</td>\n",
       "    </tr>\n",
       "    <tr>\n",
       "      <th>11</th>\n",
       "      <td>8000</td>\n",
       "      <td>NaN</td>\n",
       "      <td>0.008563</td>\n",
       "    </tr>\n",
       "    <tr>\n",
       "      <th>12</th>\n",
       "      <td>12800</td>\n",
       "      <td>0.0180</td>\n",
       "      <td>NaN</td>\n",
       "    </tr>\n",
       "  </tbody>\n",
       "</table>\n",
       "</div>"
      ],
      "text/plain": [
       "     freq  starling     human\n",
       "0     200       NaN  0.005000\n",
       "1     400    0.0230  0.002500\n",
       "2     600       NaN  0.001833\n",
       "3     800    0.0125  0.001750\n",
       "4    1000       NaN  0.001900\n",
       "5    1200    0.0070       NaN\n",
       "6    1600    0.0060       NaN\n",
       "7    2000       NaN  0.001600\n",
       "8    3200    0.0060       NaN\n",
       "9    4000       NaN  0.003975\n",
       "10   6400    0.0060       NaN\n",
       "11   8000       NaN  0.008563\n",
       "12  12800    0.0180       NaN"
      ]
     },
     "execution_count": 55,
     "metadata": {},
     "output_type": "execute_result"
    }
   ],
   "source": [
    "combined_df"
   ]
  },
  {
   "cell_type": "code",
   "execution_count": 57,
   "id": "38bca2bb",
   "metadata": {},
   "outputs": [],
   "source": [
    "combined_df['mel'] = combined_df['freq'].apply(hz2mel) "
   ]
  },
  {
   "cell_type": "code",
   "execution_count": 58,
   "id": "47459387",
   "metadata": {},
   "outputs": [
    {
     "data": {
      "text/html": [
       "<div>\n",
       "<style scoped>\n",
       "    .dataframe tbody tr th:only-of-type {\n",
       "        vertical-align: middle;\n",
       "    }\n",
       "\n",
       "    .dataframe tbody tr th {\n",
       "        vertical-align: top;\n",
       "    }\n",
       "\n",
       "    .dataframe thead th {\n",
       "        text-align: right;\n",
       "    }\n",
       "</style>\n",
       "<table border=\"1\" class=\"dataframe\">\n",
       "  <thead>\n",
       "    <tr style=\"text-align: right;\">\n",
       "      <th></th>\n",
       "      <th>freq</th>\n",
       "      <th>starling</th>\n",
       "      <th>human</th>\n",
       "      <th>mel</th>\n",
       "    </tr>\n",
       "  </thead>\n",
       "  <tbody>\n",
       "    <tr>\n",
       "      <th>0</th>\n",
       "      <td>200</td>\n",
       "      <td>NaN</td>\n",
       "      <td>0.005000</td>\n",
       "      <td>283.229898</td>\n",
       "    </tr>\n",
       "    <tr>\n",
       "      <th>1</th>\n",
       "      <td>400</td>\n",
       "      <td>0.0230</td>\n",
       "      <td>0.002500</td>\n",
       "      <td>509.384604</td>\n",
       "    </tr>\n",
       "    <tr>\n",
       "      <th>2</th>\n",
       "      <td>600</td>\n",
       "      <td>NaN</td>\n",
       "      <td>0.001833</td>\n",
       "      <td>697.653585</td>\n",
       "    </tr>\n",
       "    <tr>\n",
       "      <th>3</th>\n",
       "      <td>800</td>\n",
       "      <td>0.0125</td>\n",
       "      <td>0.001750</td>\n",
       "      <td>858.927403</td>\n",
       "    </tr>\n",
       "    <tr>\n",
       "      <th>4</th>\n",
       "      <td>1000</td>\n",
       "      <td>NaN</td>\n",
       "      <td>0.001900</td>\n",
       "      <td>999.985537</td>\n",
       "    </tr>\n",
       "    <tr>\n",
       "      <th>5</th>\n",
       "      <td>1200</td>\n",
       "      <td>0.0070</td>\n",
       "      <td>NaN</td>\n",
       "      <td>1125.336181</td>\n",
       "    </tr>\n",
       "    <tr>\n",
       "      <th>6</th>\n",
       "      <td>1600</td>\n",
       "      <td>0.0060</td>\n",
       "      <td>NaN</td>\n",
       "      <td>1340.654321</td>\n",
       "    </tr>\n",
       "    <tr>\n",
       "      <th>7</th>\n",
       "      <td>2000</td>\n",
       "      <td>NaN</td>\n",
       "      <td>0.001600</td>\n",
       "      <td>1521.359554</td>\n",
       "    </tr>\n",
       "    <tr>\n",
       "      <th>8</th>\n",
       "      <td>3200</td>\n",
       "      <td>0.0060</td>\n",
       "      <td>NaN</td>\n",
       "      <td>1935.783241</td>\n",
       "    </tr>\n",
       "    <tr>\n",
       "      <th>9</th>\n",
       "      <td>4000</td>\n",
       "      <td>NaN</td>\n",
       "      <td>0.003975</td>\n",
       "      <td>2146.064528</td>\n",
       "    </tr>\n",
       "    <tr>\n",
       "      <th>10</th>\n",
       "      <td>6400</td>\n",
       "      <td>0.0060</td>\n",
       "      <td>NaN</td>\n",
       "      <td>2610.986001</td>\n",
       "    </tr>\n",
       "    <tr>\n",
       "      <th>11</th>\n",
       "      <td>8000</td>\n",
       "      <td>NaN</td>\n",
       "      <td>0.008563</td>\n",
       "      <td>2840.023047</td>\n",
       "    </tr>\n",
       "    <tr>\n",
       "      <th>12</th>\n",
       "      <td>12800</td>\n",
       "      <td>0.0180</td>\n",
       "      <td>NaN</td>\n",
       "      <td>3335.186715</td>\n",
       "    </tr>\n",
       "  </tbody>\n",
       "</table>\n",
       "</div>"
      ],
      "text/plain": [
       "     freq  starling     human          mel\n",
       "0     200       NaN  0.005000   283.229898\n",
       "1     400    0.0230  0.002500   509.384604\n",
       "2     600       NaN  0.001833   697.653585\n",
       "3     800    0.0125  0.001750   858.927403\n",
       "4    1000       NaN  0.001900   999.985537\n",
       "5    1200    0.0070       NaN  1125.336181\n",
       "6    1600    0.0060       NaN  1340.654321\n",
       "7    2000       NaN  0.001600  1521.359554\n",
       "8    3200    0.0060       NaN  1935.783241\n",
       "9    4000       NaN  0.003975  2146.064528\n",
       "10   6400    0.0060       NaN  2610.986001\n",
       "11   8000       NaN  0.008563  2840.023047\n",
       "12  12800    0.0180       NaN  3335.186715"
      ]
     },
     "execution_count": 58,
     "metadata": {},
     "output_type": "execute_result"
    }
   ],
   "source": [
    "combined_df"
   ]
  },
  {
   "cell_type": "code",
   "execution_count": 65,
   "id": "5ba23c09",
   "metadata": {},
   "outputs": [],
   "source": [
    "combined_df = combined_df.melt(['freq', 'mel'], ['starling', 'human'], var_name='species', value_name='dF/F').dropna()"
   ]
  },
  {
   "cell_type": "code",
   "execution_count": 124,
   "id": "12a5c429",
   "metadata": {},
   "outputs": [],
   "source": [
    "combined_df = combined_df.reset_index(drop=True)"
   ]
  },
  {
   "cell_type": "code",
   "execution_count": 72,
   "id": "bcbc40f2",
   "metadata": {},
   "outputs": [],
   "source": [
    "combined_df['dF'] = combined_df['freq']*combined_df['dF/F']"
   ]
  },
  {
   "cell_type": "code",
   "execution_count": 85,
   "id": "e0a60d21",
   "metadata": {},
   "outputs": [
    {
     "data": {
      "text/html": [
       "<div>\n",
       "<style scoped>\n",
       "    .dataframe tbody tr th:only-of-type {\n",
       "        vertical-align: middle;\n",
       "    }\n",
       "\n",
       "    .dataframe tbody tr th {\n",
       "        vertical-align: top;\n",
       "    }\n",
       "\n",
       "    .dataframe thead th {\n",
       "        text-align: right;\n",
       "    }\n",
       "</style>\n",
       "<table border=\"1\" class=\"dataframe\">\n",
       "  <thead>\n",
       "    <tr style=\"text-align: right;\">\n",
       "      <th></th>\n",
       "      <th>freq</th>\n",
       "      <th>mel</th>\n",
       "      <th>species</th>\n",
       "      <th>dF/F</th>\n",
       "      <th>dF</th>\n",
       "    </tr>\n",
       "  </thead>\n",
       "  <tbody>\n",
       "    <tr>\n",
       "      <th>1</th>\n",
       "      <td>400</td>\n",
       "      <td>509.384604</td>\n",
       "      <td>starling</td>\n",
       "      <td>0.023000</td>\n",
       "      <td>9.2</td>\n",
       "    </tr>\n",
       "    <tr>\n",
       "      <th>3</th>\n",
       "      <td>800</td>\n",
       "      <td>858.927403</td>\n",
       "      <td>starling</td>\n",
       "      <td>0.012500</td>\n",
       "      <td>10.0</td>\n",
       "    </tr>\n",
       "    <tr>\n",
       "      <th>5</th>\n",
       "      <td>1200</td>\n",
       "      <td>1125.336181</td>\n",
       "      <td>starling</td>\n",
       "      <td>0.007000</td>\n",
       "      <td>8.4</td>\n",
       "    </tr>\n",
       "    <tr>\n",
       "      <th>6</th>\n",
       "      <td>1600</td>\n",
       "      <td>1340.654321</td>\n",
       "      <td>starling</td>\n",
       "      <td>0.006000</td>\n",
       "      <td>9.6</td>\n",
       "    </tr>\n",
       "    <tr>\n",
       "      <th>8</th>\n",
       "      <td>3200</td>\n",
       "      <td>1935.783241</td>\n",
       "      <td>starling</td>\n",
       "      <td>0.006000</td>\n",
       "      <td>19.2</td>\n",
       "    </tr>\n",
       "    <tr>\n",
       "      <th>10</th>\n",
       "      <td>6400</td>\n",
       "      <td>2610.986001</td>\n",
       "      <td>starling</td>\n",
       "      <td>0.006000</td>\n",
       "      <td>38.4</td>\n",
       "    </tr>\n",
       "    <tr>\n",
       "      <th>12</th>\n",
       "      <td>12800</td>\n",
       "      <td>3335.186715</td>\n",
       "      <td>starling</td>\n",
       "      <td>0.018000</td>\n",
       "      <td>230.4</td>\n",
       "    </tr>\n",
       "    <tr>\n",
       "      <th>13</th>\n",
       "      <td>200</td>\n",
       "      <td>283.229898</td>\n",
       "      <td>human</td>\n",
       "      <td>0.005000</td>\n",
       "      <td>1.0</td>\n",
       "    </tr>\n",
       "    <tr>\n",
       "      <th>14</th>\n",
       "      <td>400</td>\n",
       "      <td>509.384604</td>\n",
       "      <td>human</td>\n",
       "      <td>0.002500</td>\n",
       "      <td>1.0</td>\n",
       "    </tr>\n",
       "    <tr>\n",
       "      <th>15</th>\n",
       "      <td>600</td>\n",
       "      <td>697.653585</td>\n",
       "      <td>human</td>\n",
       "      <td>0.001833</td>\n",
       "      <td>1.1</td>\n",
       "    </tr>\n",
       "    <tr>\n",
       "      <th>16</th>\n",
       "      <td>800</td>\n",
       "      <td>858.927403</td>\n",
       "      <td>human</td>\n",
       "      <td>0.001750</td>\n",
       "      <td>1.4</td>\n",
       "    </tr>\n",
       "    <tr>\n",
       "      <th>17</th>\n",
       "      <td>1000</td>\n",
       "      <td>999.985537</td>\n",
       "      <td>human</td>\n",
       "      <td>0.001900</td>\n",
       "      <td>1.9</td>\n",
       "    </tr>\n",
       "    <tr>\n",
       "      <th>20</th>\n",
       "      <td>2000</td>\n",
       "      <td>1521.359554</td>\n",
       "      <td>human</td>\n",
       "      <td>0.001600</td>\n",
       "      <td>3.2</td>\n",
       "    </tr>\n",
       "    <tr>\n",
       "      <th>22</th>\n",
       "      <td>4000</td>\n",
       "      <td>2146.064528</td>\n",
       "      <td>human</td>\n",
       "      <td>0.003975</td>\n",
       "      <td>15.9</td>\n",
       "    </tr>\n",
       "    <tr>\n",
       "      <th>24</th>\n",
       "      <td>8000</td>\n",
       "      <td>2840.023047</td>\n",
       "      <td>human</td>\n",
       "      <td>0.008563</td>\n",
       "      <td>68.5</td>\n",
       "    </tr>\n",
       "  </tbody>\n",
       "</table>\n",
       "</div>"
      ],
      "text/plain": [
       "     freq          mel   species      dF/F     dF\n",
       "1     400   509.384604  starling  0.023000    9.2\n",
       "3     800   858.927403  starling  0.012500   10.0\n",
       "5    1200  1125.336181  starling  0.007000    8.4\n",
       "6    1600  1340.654321  starling  0.006000    9.6\n",
       "8    3200  1935.783241  starling  0.006000   19.2\n",
       "10   6400  2610.986001  starling  0.006000   38.4\n",
       "12  12800  3335.186715  starling  0.018000  230.4\n",
       "13    200   283.229898     human  0.005000    1.0\n",
       "14    400   509.384604     human  0.002500    1.0\n",
       "15    600   697.653585     human  0.001833    1.1\n",
       "16    800   858.927403     human  0.001750    1.4\n",
       "17   1000   999.985537     human  0.001900    1.9\n",
       "20   2000  1521.359554     human  0.001600    3.2\n",
       "22   4000  2146.064528     human  0.003975   15.9\n",
       "24   8000  2840.023047     human  0.008563   68.5"
      ]
     },
     "execution_count": 85,
     "metadata": {},
     "output_type": "execute_result"
    }
   ],
   "source": [
    "combined_df"
   ]
  },
  {
   "cell_type": "code",
   "execution_count": 89,
   "id": "bddc394d",
   "metadata": {},
   "outputs": [
    {
     "data": {
      "text/plain": [
       "array([ 9.38657107,  7.48836098,  4.97151899,  4.69418595,  5.5346664 ,\n",
       "        6.07886862, 19.07174745,  1.2515206 ,  1.02407475,  0.95320724,\n",
       "        1.05137067,  1.25887837,  1.33490591,  3.80616287,  8.83870934])"
      ]
     },
     "execution_count": 89,
     "metadata": {},
     "output_type": "execute_result"
    }
   ],
   "source": [
    "np.array([hz2mel(freq) for freq in (combined_df['freq']+combined_df['dF']).values]) - combined_df['mel'].values"
   ]
  },
  {
   "cell_type": "code",
   "execution_count": 92,
   "id": "3f03f7a2",
   "metadata": {},
   "outputs": [],
   "source": [
    "#dmel = hz2mel(df+f)-hz2mel(df)\n",
    "combined_df['dmel'] = np.array([hz2mel(freq) for freq in (combined_df['freq']+combined_df['dF']).values]) \\\n",
    "- combined_df['mel'].values"
   ]
  },
  {
   "cell_type": "code",
   "execution_count": 94,
   "id": "d6bb4166",
   "metadata": {},
   "outputs": [],
   "source": [
    "combined_df['dmel/mel'] = combined_df['dmel']/combined_df['mel']"
   ]
  },
  {
   "cell_type": "code",
   "execution_count": 125,
   "id": "645202ab",
   "metadata": {},
   "outputs": [
    {
     "data": {
      "text/html": [
       "<div>\n",
       "<style scoped>\n",
       "    .dataframe tbody tr th:only-of-type {\n",
       "        vertical-align: middle;\n",
       "    }\n",
       "\n",
       "    .dataframe tbody tr th {\n",
       "        vertical-align: top;\n",
       "    }\n",
       "\n",
       "    .dataframe thead th {\n",
       "        text-align: right;\n",
       "    }\n",
       "</style>\n",
       "<table border=\"1\" class=\"dataframe\">\n",
       "  <thead>\n",
       "    <tr style=\"text-align: right;\">\n",
       "      <th></th>\n",
       "      <th>freq</th>\n",
       "      <th>mel</th>\n",
       "      <th>species</th>\n",
       "      <th>dF/F</th>\n",
       "      <th>dF</th>\n",
       "      <th>dmel</th>\n",
       "      <th>dmel/mel</th>\n",
       "      <th>star</th>\n",
       "      <th>dstar</th>\n",
       "    </tr>\n",
       "  </thead>\n",
       "  <tbody>\n",
       "    <tr>\n",
       "      <th>0</th>\n",
       "      <td>400</td>\n",
       "      <td>509.384604</td>\n",
       "      <td>starling</td>\n",
       "      <td>0.023000</td>\n",
       "      <td>9.2</td>\n",
       "      <td>9.386571</td>\n",
       "      <td>0.018427</td>\n",
       "      <td>101.484332</td>\n",
       "      <td>1.870080</td>\n",
       "    </tr>\n",
       "    <tr>\n",
       "      <th>1</th>\n",
       "      <td>800</td>\n",
       "      <td>858.927403</td>\n",
       "      <td>starling</td>\n",
       "      <td>0.012500</td>\n",
       "      <td>10.0</td>\n",
       "      <td>7.488361</td>\n",
       "      <td>0.008718</td>\n",
       "      <td>171.123494</td>\n",
       "      <td>1.491901</td>\n",
       "    </tr>\n",
       "    <tr>\n",
       "      <th>2</th>\n",
       "      <td>1200</td>\n",
       "      <td>1125.336181</td>\n",
       "      <td>starling</td>\n",
       "      <td>0.007000</td>\n",
       "      <td>8.4</td>\n",
       "      <td>4.971519</td>\n",
       "      <td>0.004418</td>\n",
       "      <td>224.199925</td>\n",
       "      <td>0.990472</td>\n",
       "    </tr>\n",
       "    <tr>\n",
       "      <th>3</th>\n",
       "      <td>1600</td>\n",
       "      <td>1340.654321</td>\n",
       "      <td>starling</td>\n",
       "      <td>0.006000</td>\n",
       "      <td>9.6</td>\n",
       "      <td>4.694186</td>\n",
       "      <td>0.003501</td>\n",
       "      <td>267.097605</td>\n",
       "      <td>0.935219</td>\n",
       "    </tr>\n",
       "    <tr>\n",
       "      <th>4</th>\n",
       "      <td>3200</td>\n",
       "      <td>1935.783241</td>\n",
       "      <td>starling</td>\n",
       "      <td>0.006000</td>\n",
       "      <td>19.2</td>\n",
       "      <td>5.534666</td>\n",
       "      <td>0.002859</td>\n",
       "      <td>385.664715</td>\n",
       "      <td>1.102668</td>\n",
       "    </tr>\n",
       "    <tr>\n",
       "      <th>5</th>\n",
       "      <td>6400</td>\n",
       "      <td>2610.986001</td>\n",
       "      <td>starling</td>\n",
       "      <td>0.006000</td>\n",
       "      <td>38.4</td>\n",
       "      <td>6.078869</td>\n",
       "      <td>0.002328</td>\n",
       "      <td>520.184880</td>\n",
       "      <td>1.211089</td>\n",
       "    </tr>\n",
       "    <tr>\n",
       "      <th>6</th>\n",
       "      <td>12800</td>\n",
       "      <td>3335.186715</td>\n",
       "      <td>starling</td>\n",
       "      <td>0.018000</td>\n",
       "      <td>230.4</td>\n",
       "      <td>19.071747</td>\n",
       "      <td>0.005718</td>\n",
       "      <td>664.466872</td>\n",
       "      <td>3.799651</td>\n",
       "    </tr>\n",
       "    <tr>\n",
       "      <th>7</th>\n",
       "      <td>200</td>\n",
       "      <td>283.229898</td>\n",
       "      <td>human</td>\n",
       "      <td>0.005000</td>\n",
       "      <td>1.0</td>\n",
       "      <td>1.251521</td>\n",
       "      <td>0.004419</td>\n",
       "      <td>56.427691</td>\n",
       "      <td>0.249340</td>\n",
       "    </tr>\n",
       "    <tr>\n",
       "      <th>8</th>\n",
       "      <td>400</td>\n",
       "      <td>509.384604</td>\n",
       "      <td>human</td>\n",
       "      <td>0.002500</td>\n",
       "      <td>1.0</td>\n",
       "      <td>1.024075</td>\n",
       "      <td>0.002010</td>\n",
       "      <td>101.484332</td>\n",
       "      <td>0.204026</td>\n",
       "    </tr>\n",
       "    <tr>\n",
       "      <th>9</th>\n",
       "      <td>600</td>\n",
       "      <td>697.653585</td>\n",
       "      <td>human</td>\n",
       "      <td>0.001833</td>\n",
       "      <td>1.1</td>\n",
       "      <td>0.953207</td>\n",
       "      <td>0.001366</td>\n",
       "      <td>138.993026</td>\n",
       "      <td>0.189907</td>\n",
       "    </tr>\n",
       "    <tr>\n",
       "      <th>10</th>\n",
       "      <td>800</td>\n",
       "      <td>858.927403</td>\n",
       "      <td>human</td>\n",
       "      <td>0.001750</td>\n",
       "      <td>1.4</td>\n",
       "      <td>1.051371</td>\n",
       "      <td>0.001224</td>\n",
       "      <td>171.123494</td>\n",
       "      <td>0.209464</td>\n",
       "    </tr>\n",
       "    <tr>\n",
       "      <th>11</th>\n",
       "      <td>1000</td>\n",
       "      <td>999.985537</td>\n",
       "      <td>human</td>\n",
       "      <td>0.001900</td>\n",
       "      <td>1.9</td>\n",
       "      <td>1.258878</td>\n",
       "      <td>0.001259</td>\n",
       "      <td>199.226406</td>\n",
       "      <td>0.250805</td>\n",
       "    </tr>\n",
       "    <tr>\n",
       "      <th>12</th>\n",
       "      <td>2000</td>\n",
       "      <td>1521.359554</td>\n",
       "      <td>human</td>\n",
       "      <td>0.001600</td>\n",
       "      <td>3.2</td>\n",
       "      <td>1.334906</td>\n",
       "      <td>0.000877</td>\n",
       "      <td>303.099379</td>\n",
       "      <td>0.265952</td>\n",
       "    </tr>\n",
       "    <tr>\n",
       "      <th>13</th>\n",
       "      <td>4000</td>\n",
       "      <td>2146.064528</td>\n",
       "      <td>human</td>\n",
       "      <td>0.003975</td>\n",
       "      <td>15.9</td>\n",
       "      <td>3.806163</td>\n",
       "      <td>0.001774</td>\n",
       "      <td>427.558906</td>\n",
       "      <td>0.758299</td>\n",
       "    </tr>\n",
       "    <tr>\n",
       "      <th>14</th>\n",
       "      <td>8000</td>\n",
       "      <td>2840.023047</td>\n",
       "      <td>human</td>\n",
       "      <td>0.008563</td>\n",
       "      <td>68.5</td>\n",
       "      <td>8.838709</td>\n",
       "      <td>0.003112</td>\n",
       "      <td>565.815767</td>\n",
       "      <td>1.760930</td>\n",
       "    </tr>\n",
       "  </tbody>\n",
       "</table>\n",
       "</div>"
      ],
      "text/plain": [
       "     freq          mel   species      dF/F     dF       dmel  dmel/mel  \\\n",
       "0     400   509.384604  starling  0.023000    9.2   9.386571  0.018427   \n",
       "1     800   858.927403  starling  0.012500   10.0   7.488361  0.008718   \n",
       "2    1200  1125.336181  starling  0.007000    8.4   4.971519  0.004418   \n",
       "3    1600  1340.654321  starling  0.006000    9.6   4.694186  0.003501   \n",
       "4    3200  1935.783241  starling  0.006000   19.2   5.534666  0.002859   \n",
       "5    6400  2610.986001  starling  0.006000   38.4   6.078869  0.002328   \n",
       "6   12800  3335.186715  starling  0.018000  230.4  19.071747  0.005718   \n",
       "7     200   283.229898     human  0.005000    1.0   1.251521  0.004419   \n",
       "8     400   509.384604     human  0.002500    1.0   1.024075  0.002010   \n",
       "9     600   697.653585     human  0.001833    1.1   0.953207  0.001366   \n",
       "10    800   858.927403     human  0.001750    1.4   1.051371  0.001224   \n",
       "11   1000   999.985537     human  0.001900    1.9   1.258878  0.001259   \n",
       "12   2000  1521.359554     human  0.001600    3.2   1.334906  0.000877   \n",
       "13   4000  2146.064528     human  0.003975   15.9   3.806163  0.001774   \n",
       "14   8000  2840.023047     human  0.008563   68.5   8.838709  0.003112   \n",
       "\n",
       "          star     dstar  \n",
       "0   101.484332  1.870080  \n",
       "1   171.123494  1.491901  \n",
       "2   224.199925  0.990472  \n",
       "3   267.097605  0.935219  \n",
       "4   385.664715  1.102668  \n",
       "5   520.184880  1.211089  \n",
       "6   664.466872  3.799651  \n",
       "7    56.427691  0.249340  \n",
       "8   101.484332  0.204026  \n",
       "9   138.993026  0.189907  \n",
       "10  171.123494  0.209464  \n",
       "11  199.226406  0.250805  \n",
       "12  303.099379  0.265952  \n",
       "13  427.558906  0.758299  \n",
       "14  565.815767  1.760930  "
      ]
     },
     "execution_count": 125,
     "metadata": {},
     "output_type": "execute_result"
    }
   ],
   "source": [
    "combined_df"
   ]
  },
  {
   "cell_type": "code",
   "execution_count": 112,
   "id": "67741856",
   "metadata": {},
   "outputs": [
    {
     "data": {
      "text/plain": [
       "<seaborn.axisgrid.FacetGrid at 0x7ffa3d3cc650>"
      ]
     },
     "execution_count": 112,
     "metadata": {},
     "output_type": "execute_result"
    },
    {
     "data": {
      "image/png": "[encoded data removed]",
      "text/plain": [
       "<Figure size 433.875x360 with 1 Axes>"
      ]
     },
     "metadata": {
      "needs_background": "light"
     },
     "output_type": "display_data"
    }
   ],
   "source": [
    "sns.relplot(x='freq', y='dF/F', style='species', hue='species', data = combined_df, kind='line', markers=True)\n",
    "# plt.ylim([0, 0.1])\n",
    "# plt.yscale('log')"
   ]
  },
  {
   "cell_type": "code",
   "execution_count": 116,
   "id": "9698e92d",
   "metadata": {},
   "outputs": [
    {
     "data": {
      "image/png": "[encoded data removed]",
      "text/plain": [
       "<Figure size 433.875x360 with 1 Axes>"
      ]
     },
     "metadata": {
      "needs_background": "light"
     },
     "output_type": "display_data"
    }
   ],
   "source": [
    "sns.relplot(x='freq', y='dF', style='species', hue='species', data = combined_df, kind='line', markers=True)\n",
    "# plt.ylim([0, 0.1])\n",
    "# plt.xscale('log')\n",
    "plt.yscale('log')"
   ]
  },
  {
   "cell_type": "code",
   "execution_count": 114,
   "id": "be21c872",
   "metadata": {},
   "outputs": [
    {
     "data": {
      "text/plain": [
       "<seaborn.axisgrid.FacetGrid at 0x7ffa3ec3a510>"
      ]
     },
     "execution_count": 114,
     "metadata": {},
     "output_type": "execute_result"
    },
    {
     "data": {
      "image/png": "[encoded data removed]",
      "text/plain": [
       "<Figure size 433.875x360 with 1 Axes>"
      ]
     },
     "metadata": {
      "needs_background": "light"
     },
     "output_type": "display_data"
    }
   ],
   "source": [
    "sns.relplot(x='freq', y='dmel', style='species', hue='species', data = combined_df, kind='line', markers=True)\n",
    "# plt.ylim([0, 0.1])\n",
    "# plt.xscale('log')"
   ]
  },
  {
   "cell_type": "code",
   "execution_count": 101,
   "id": "576a4689",
   "metadata": {},
   "outputs": [
    {
     "data": {
      "image/png": "[encoded data removed]",
      "text/plain": [
       "<Figure size 433.875x360 with 1 Axes>"
      ]
     },
     "metadata": {
      "needs_background": "light"
     },
     "output_type": "display_data"
    }
   ],
   "source": [
    "sns.relplot(x='mel', y='dF/F', style='species', hue='species', data = combined_df, kind='line', markers=True)\n",
    "plt.xscale('log')"
   ]
  },
  {
   "cell_type": "code",
   "execution_count": 113,
   "id": "bf36ed7c",
   "metadata": {},
   "outputs": [
    {
     "data": {
      "text/plain": [
       "<seaborn.axisgrid.FacetGrid at 0x7ffa3ec5b810>"
      ]
     },
     "execution_count": 113,
     "metadata": {},
     "output_type": "execute_result"
    },
    {
     "data": {
      "image/png": "[encoded data removed]",
      "text/plain": [
       "<Figure size 433.875x360 with 1 Axes>"
      ]
     },
     "metadata": {
      "needs_background": "light"
     },
     "output_type": "display_data"
    }
   ],
   "source": [
    "sns.relplot(x='mel', y='dmel', style='species', hue='species', data = combined_df, kind='line', markers=True)\n",
    "# plt.xscale('log')"
   ]
  },
  {
   "cell_type": "code",
   "execution_count": 660,
   "id": "e1fb1012",
   "metadata": {},
   "outputs": [],
   "source": [
    "def hz2star(hz):\n",
    "    star = 519*np.log10(hz/700+1)\n",
    "    return star"
   ]
  },
  {
   "cell_type": "code",
   "execution_count": 661,
   "id": "e07b52e2",
   "metadata": {},
   "outputs": [
    {
     "data": {
      "text/plain": [
       "6.309573444801932"
      ]
     },
     "execution_count": 661,
     "metadata": {},
     "output_type": "execute_result"
    }
   ],
   "source": [
    "10/10**0.2"
   ]
  },
  {
   "cell_type": "code",
   "execution_count": 662,
   "id": "bd12df9f",
   "metadata": {},
   "outputs": [],
   "source": [
    "combined_df['star'] = combined_df['freq'].apply(hz2star) "
   ]
  },
  {
   "cell_type": "code",
   "execution_count": 663,
   "id": "9a79d227",
   "metadata": {},
   "outputs": [],
   "source": [
    "combined_df['dstar'] = np.array([hz2star(freq) for freq in (combined_df['freq']+combined_df['dF']).values]) \\\n",
    "- combined_df['star'].values"
   ]
  },
  {
   "cell_type": "code",
   "execution_count": 664,
   "id": "6c7252d1",
   "metadata": {},
   "outputs": [],
   "source": [
    "combined_df['d'] = combined_df['dstar'].values.tolist()[:7]+combined_df['dmel'].values.tolist()[7:]"
   ]
  },
  {
   "cell_type": "code",
   "execution_count": 665,
   "id": "c221a9cc",
   "metadata": {},
   "outputs": [],
   "source": [
    "combined_df['scale'] = combined_df['star'].values.tolist()[:7]+combined_df['mel'].values.tolist()[7:]"
   ]
  },
  {
   "cell_type": "code",
   "execution_count": 666,
   "id": "0359dce5",
   "metadata": {},
   "outputs": [
    {
     "data": {
      "text/html": [
       "<div>\n",
       "<style scoped>\n",
       "    .dataframe tbody tr th:only-of-type {\n",
       "        vertical-align: middle;\n",
       "    }\n",
       "\n",
       "    .dataframe tbody tr th {\n",
       "        vertical-align: top;\n",
       "    }\n",
       "\n",
       "    .dataframe thead th {\n",
       "        text-align: right;\n",
       "    }\n",
       "</style>\n",
       "<table border=\"1\" class=\"dataframe\">\n",
       "  <thead>\n",
       "    <tr style=\"text-align: right;\">\n",
       "      <th></th>\n",
       "      <th>freq</th>\n",
       "      <th>mel</th>\n",
       "      <th>species</th>\n",
       "      <th>dF/F</th>\n",
       "      <th>dF</th>\n",
       "      <th>dmel</th>\n",
       "      <th>dmel/mel</th>\n",
       "      <th>star</th>\n",
       "      <th>dstar</th>\n",
       "      <th>d</th>\n",
       "      <th>scale</th>\n",
       "    </tr>\n",
       "  </thead>\n",
       "  <tbody>\n",
       "    <tr>\n",
       "      <th>0</th>\n",
       "      <td>400</td>\n",
       "      <td>509.384604</td>\n",
       "      <td>starling</td>\n",
       "      <td>0.023000</td>\n",
       "      <td>9.2</td>\n",
       "      <td>9.386571</td>\n",
       "      <td>0.018427</td>\n",
       "      <td>101.876921</td>\n",
       "      <td>1.877314</td>\n",
       "      <td>1.877314</td>\n",
       "      <td>101.876921</td>\n",
       "    </tr>\n",
       "    <tr>\n",
       "      <th>1</th>\n",
       "      <td>800</td>\n",
       "      <td>858.927403</td>\n",
       "      <td>starling</td>\n",
       "      <td>0.012500</td>\n",
       "      <td>10.0</td>\n",
       "      <td>7.488361</td>\n",
       "      <td>0.008718</td>\n",
       "      <td>171.785481</td>\n",
       "      <td>1.497672</td>\n",
       "      <td>1.497672</td>\n",
       "      <td>171.785481</td>\n",
       "    </tr>\n",
       "    <tr>\n",
       "      <th>2</th>\n",
       "      <td>1200</td>\n",
       "      <td>1125.336181</td>\n",
       "      <td>starling</td>\n",
       "      <td>0.007000</td>\n",
       "      <td>8.4</td>\n",
       "      <td>4.971519</td>\n",
       "      <td>0.004418</td>\n",
       "      <td>225.067236</td>\n",
       "      <td>0.994304</td>\n",
       "      <td>0.994304</td>\n",
       "      <td>225.067236</td>\n",
       "    </tr>\n",
       "    <tr>\n",
       "      <th>3</th>\n",
       "      <td>1600</td>\n",
       "      <td>1340.654321</td>\n",
       "      <td>starling</td>\n",
       "      <td>0.006000</td>\n",
       "      <td>9.6</td>\n",
       "      <td>4.694186</td>\n",
       "      <td>0.003501</td>\n",
       "      <td>268.130864</td>\n",
       "      <td>0.938837</td>\n",
       "      <td>0.938837</td>\n",
       "      <td>268.130864</td>\n",
       "    </tr>\n",
       "    <tr>\n",
       "      <th>4</th>\n",
       "      <td>3200</td>\n",
       "      <td>1935.783241</td>\n",
       "      <td>starling</td>\n",
       "      <td>0.006000</td>\n",
       "      <td>19.2</td>\n",
       "      <td>5.534666</td>\n",
       "      <td>0.002859</td>\n",
       "      <td>387.156648</td>\n",
       "      <td>1.106933</td>\n",
       "      <td>1.106933</td>\n",
       "      <td>387.156648</td>\n",
       "    </tr>\n",
       "    <tr>\n",
       "      <th>5</th>\n",
       "      <td>6400</td>\n",
       "      <td>2610.986001</td>\n",
       "      <td>starling</td>\n",
       "      <td>0.006000</td>\n",
       "      <td>38.4</td>\n",
       "      <td>6.078869</td>\n",
       "      <td>0.002328</td>\n",
       "      <td>522.197200</td>\n",
       "      <td>1.215774</td>\n",
       "      <td>1.215774</td>\n",
       "      <td>522.197200</td>\n",
       "    </tr>\n",
       "    <tr>\n",
       "      <th>6</th>\n",
       "      <td>12800</td>\n",
       "      <td>3335.186715</td>\n",
       "      <td>starling</td>\n",
       "      <td>0.018000</td>\n",
       "      <td>230.4</td>\n",
       "      <td>19.071747</td>\n",
       "      <td>0.005718</td>\n",
       "      <td>667.037343</td>\n",
       "      <td>3.814349</td>\n",
       "      <td>3.814349</td>\n",
       "      <td>667.037343</td>\n",
       "    </tr>\n",
       "    <tr>\n",
       "      <th>7</th>\n",
       "      <td>200</td>\n",
       "      <td>283.229898</td>\n",
       "      <td>human</td>\n",
       "      <td>0.005000</td>\n",
       "      <td>1.0</td>\n",
       "      <td>1.251521</td>\n",
       "      <td>0.004419</td>\n",
       "      <td>56.645980</td>\n",
       "      <td>0.250304</td>\n",
       "      <td>1.251521</td>\n",
       "      <td>283.229898</td>\n",
       "    </tr>\n",
       "    <tr>\n",
       "      <th>8</th>\n",
       "      <td>400</td>\n",
       "      <td>509.384604</td>\n",
       "      <td>human</td>\n",
       "      <td>0.002500</td>\n",
       "      <td>1.0</td>\n",
       "      <td>1.024075</td>\n",
       "      <td>0.002010</td>\n",
       "      <td>101.876921</td>\n",
       "      <td>0.204815</td>\n",
       "      <td>1.024075</td>\n",
       "      <td>509.384604</td>\n",
       "    </tr>\n",
       "    <tr>\n",
       "      <th>9</th>\n",
       "      <td>600</td>\n",
       "      <td>697.653585</td>\n",
       "      <td>human</td>\n",
       "      <td>0.001833</td>\n",
       "      <td>1.1</td>\n",
       "      <td>0.953207</td>\n",
       "      <td>0.001366</td>\n",
       "      <td>139.530717</td>\n",
       "      <td>0.190641</td>\n",
       "      <td>0.953207</td>\n",
       "      <td>697.653585</td>\n",
       "    </tr>\n",
       "    <tr>\n",
       "      <th>10</th>\n",
       "      <td>800</td>\n",
       "      <td>858.927403</td>\n",
       "      <td>human</td>\n",
       "      <td>0.001750</td>\n",
       "      <td>1.4</td>\n",
       "      <td>1.051371</td>\n",
       "      <td>0.001224</td>\n",
       "      <td>171.785481</td>\n",
       "      <td>0.210274</td>\n",
       "      <td>1.051371</td>\n",
       "      <td>858.927403</td>\n",
       "    </tr>\n",
       "    <tr>\n",
       "      <th>11</th>\n",
       "      <td>1000</td>\n",
       "      <td>999.985537</td>\n",
       "      <td>human</td>\n",
       "      <td>0.001900</td>\n",
       "      <td>1.9</td>\n",
       "      <td>1.258878</td>\n",
       "      <td>0.001259</td>\n",
       "      <td>199.997107</td>\n",
       "      <td>0.251776</td>\n",
       "      <td>1.258878</td>\n",
       "      <td>999.985537</td>\n",
       "    </tr>\n",
       "    <tr>\n",
       "      <th>12</th>\n",
       "      <td>2000</td>\n",
       "      <td>1521.359554</td>\n",
       "      <td>human</td>\n",
       "      <td>0.001600</td>\n",
       "      <td>3.2</td>\n",
       "      <td>1.334906</td>\n",
       "      <td>0.000877</td>\n",
       "      <td>304.271911</td>\n",
       "      <td>0.266981</td>\n",
       "      <td>1.334906</td>\n",
       "      <td>1521.359554</td>\n",
       "    </tr>\n",
       "    <tr>\n",
       "      <th>13</th>\n",
       "      <td>4000</td>\n",
       "      <td>2146.064528</td>\n",
       "      <td>human</td>\n",
       "      <td>0.003975</td>\n",
       "      <td>15.9</td>\n",
       "      <td>3.806163</td>\n",
       "      <td>0.001774</td>\n",
       "      <td>429.212906</td>\n",
       "      <td>0.761233</td>\n",
       "      <td>3.806163</td>\n",
       "      <td>2146.064528</td>\n",
       "    </tr>\n",
       "    <tr>\n",
       "      <th>14</th>\n",
       "      <td>8000</td>\n",
       "      <td>2840.023047</td>\n",
       "      <td>human</td>\n",
       "      <td>0.008563</td>\n",
       "      <td>68.5</td>\n",
       "      <td>8.838709</td>\n",
       "      <td>0.003112</td>\n",
       "      <td>568.004609</td>\n",
       "      <td>1.767742</td>\n",
       "      <td>8.838709</td>\n",
       "      <td>2840.023047</td>\n",
       "    </tr>\n",
       "  </tbody>\n",
       "</table>\n",
       "</div>"
      ],
      "text/plain": [
       "     freq          mel   species      dF/F     dF       dmel  dmel/mel  \\\n",
       "0     400   509.384604  starling  0.023000    9.2   9.386571  0.018427   \n",
       "1     800   858.927403  starling  0.012500   10.0   7.488361  0.008718   \n",
       "2    1200  1125.336181  starling  0.007000    8.4   4.971519  0.004418   \n",
       "3    1600  1340.654321  starling  0.006000    9.6   4.694186  0.003501   \n",
       "4    3200  1935.783241  starling  0.006000   19.2   5.534666  0.002859   \n",
       "5    6400  2610.986001  starling  0.006000   38.4   6.078869  0.002328   \n",
       "6   12800  3335.186715  starling  0.018000  230.4  19.071747  0.005718   \n",
       "7     200   283.229898     human  0.005000    1.0   1.251521  0.004419   \n",
       "8     400   509.384604     human  0.002500    1.0   1.024075  0.002010   \n",
       "9     600   697.653585     human  0.001833    1.1   0.953207  0.001366   \n",
       "10    800   858.927403     human  0.001750    1.4   1.051371  0.001224   \n",
       "11   1000   999.985537     human  0.001900    1.9   1.258878  0.001259   \n",
       "12   2000  1521.359554     human  0.001600    3.2   1.334906  0.000877   \n",
       "13   4000  2146.064528     human  0.003975   15.9   3.806163  0.001774   \n",
       "14   8000  2840.023047     human  0.008563   68.5   8.838709  0.003112   \n",
       "\n",
       "          star     dstar         d        scale  \n",
       "0   101.876921  1.877314  1.877314   101.876921  \n",
       "1   171.785481  1.497672  1.497672   171.785481  \n",
       "2   225.067236  0.994304  0.994304   225.067236  \n",
       "3   268.130864  0.938837  0.938837   268.130864  \n",
       "4   387.156648  1.106933  1.106933   387.156648  \n",
       "5   522.197200  1.215774  1.215774   522.197200  \n",
       "6   667.037343  3.814349  3.814349   667.037343  \n",
       "7    56.645980  0.250304  1.251521   283.229898  \n",
       "8   101.876921  0.204815  1.024075   509.384604  \n",
       "9   139.530717  0.190641  0.953207   697.653585  \n",
       "10  171.785481  0.210274  1.051371   858.927403  \n",
       "11  199.997107  0.251776  1.258878   999.985537  \n",
       "12  304.271911  0.266981  1.334906  1521.359554  \n",
       "13  429.212906  0.761233  3.806163  2146.064528  \n",
       "14  568.004609  1.767742  8.838709  2840.023047  "
      ]
     },
     "execution_count": 666,
     "metadata": {},
     "output_type": "execute_result"
    }
   ],
   "source": [
    "combined_df"
   ]
  },
  {
   "cell_type": "code",
   "execution_count": 667,
   "id": "00e2a8bc",
   "metadata": {},
   "outputs": [
    {
     "data": {
      "text/plain": [
       "<seaborn.axisgrid.FacetGrid at 0x7ffa3ae7b290>"
      ]
     },
     "execution_count": 667,
     "metadata": {},
     "output_type": "execute_result"
    },
    {
     "data": {
      "image/png": "[encoded data removed]",
      "text/plain": [
       "<Figure size 433.875x360 with 1 Axes>"
      ]
     },
     "metadata": {
      "needs_background": "light"
     },
     "output_type": "display_data"
    }
   ],
   "source": [
    "sns.relplot(x='scale', y='d', style='species', hue='species', data = combined_df, kind='line', markers=True)"
   ]
  },
  {
   "cell_type": "markdown",
   "id": "aaec7556",
   "metadata": {},
   "source": [
    "## plot mel scale"
   ]
  },
  {
   "cell_type": "code",
   "execution_count": 73,
   "id": "1f0a1e87",
   "metadata": {},
   "outputs": [],
   "source": [
    "freqs = np.arange(0, 15000, 20)"
   ]
  },
  {
   "cell_type": "code",
   "execution_count": 75,
   "id": "46a2e4be",
   "metadata": {},
   "outputs": [],
   "source": [
    "mels = [hz2mel(freq) for freq in freqs]"
   ]
  },
  {
   "cell_type": "code",
   "execution_count": 668,
   "id": "4307ef1a",
   "metadata": {},
   "outputs": [],
   "source": [
    "stars = [hz2star(freq) for freq in freqs]"
   ]
  },
  {
   "cell_type": "code",
   "execution_count": 730,
   "id": "2cd00643",
   "metadata": {},
   "outputs": [],
   "source": [
    "mels_lib = [librosa.hz_to_mel(freq) for freq in freqs]"
   ]
  },
  {
   "cell_type": "code",
   "execution_count": 669,
   "id": "8a478556",
   "metadata": {},
   "outputs": [
    {
     "data": {
      "text/plain": [
       "Text(0, 0.5, 'mel')"
      ]
     },
     "execution_count": 669,
     "metadata": {},
     "output_type": "execute_result"
    },
    {
     "data": {
      "image/png": "[encoded data removed]",
      "text/plain": [
       "<Figure size 432x288 with 1 Axes>"
      ]
     },
     "metadata": {
      "needs_background": "light"
     },
     "output_type": "display_data"
    }
   ],
   "source": [
    "plt.plot(freqs, mels)\n",
    "plt.xlabel('Hz')\n",
    "plt.ylabel('mel')\n",
    "# plt.xscale('log')"
   ]
  },
  {
   "cell_type": "code",
   "execution_count": 670,
   "id": "af0693d0",
   "metadata": {},
   "outputs": [
    {
     "data": {
      "text/plain": [
       "Text(0, 0.5, 'star')"
      ]
     },
     "execution_count": 670,
     "metadata": {},
     "output_type": "execute_result"
    },
    {
     "data": {
      "image/png": "[encoded data removed]",
      "text/plain": [
       "<Figure size 432x288 with 1 Axes>"
      ]
     },
     "metadata": {
      "needs_background": "light"
     },
     "output_type": "display_data"
    }
   ],
   "source": [
    "plt.plot(freqs, stars)\n",
    "plt.xlabel('Hz')\n",
    "plt.ylabel('star')\n",
    "# plt.xscale('log')"
   ]
  },
  {
   "cell_type": "code",
   "execution_count": 731,
   "id": "64006610",
   "metadata": {},
   "outputs": [
    {
     "data": {
      "text/plain": [
       "Text(0, 0.5, 'mel')"
      ]
     },
     "execution_count": 731,
     "metadata": {},
     "output_type": "execute_result"
    },
    {
     "data": {
      "image/png": "[encoded data removed]",
      "text/plain": [
       "<Figure size 432x288 with 1 Axes>"
      ]
     },
     "metadata": {
      "needs_background": "light"
     },
     "output_type": "display_data"
    }
   ],
   "source": [
    "plt.plot(freqs, mels_lib)\n",
    "plt.xlabel('Hz')\n",
    "plt.ylabel('mel')"
   ]
  },
  {
   "cell_type": "code",
   "execution_count": null,
   "id": "d95ee775",
   "metadata": {},
   "outputs": [],
   "source": []
  }
 ],
 "metadata": {
  "kernelspec": {
   "display_name": "Python 3",
   "language": "python",
   "name": "python3"
  },
  "language_info": {
   "codemirror_mode": {
    "name": "ipython",
    "version": 3
   },
   "file_extension": ".py",
   "mimetype": "text/x-python",
   "name": "python",
   "nbconvert_exporter": "python",
   "pygments_lexer": "ipython3",
   "version": "3.7.10"
  }
 },
 "nbformat": 4,
 "nbformat_minor": 5
}
