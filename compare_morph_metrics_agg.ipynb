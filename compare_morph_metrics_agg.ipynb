{
 "cells": [
  {
   "cell_type": "code",
   "execution_count": 1,
   "id": "e24fde53",
   "metadata": {},
   "outputs": [],
   "source": [
    "import tensorflow as tf\n",
    "# tf.enable_eager_execution()\n",
    "import pandas as pd\n",
    "import numpy as np\n",
    "import matplotlib.pyplot as plt\n",
    "import random\n",
    "from glob import glob\n",
    "import pickle\n",
    "from tensorflow.keras import layers, Sequential, datasets, models, losses, Model, Input\n",
    "from tensorflow.keras.callbacks import EarlyStopping, ModelCheckpoint\n",
    "from tensorflow.keras.optimizers import Adam\n",
    "from sklearn.model_selection import train_test_split\n",
    "import datetime\n",
    "import sys\n",
    "from tensorflow.keras.backend import clear_session\n",
    "from trainingfuncs import *\n",
    "from math_utils import *\n",
    "from utils import *\n",
    "from scipy.spatial import distance\n",
    "import seaborn as sns\n",
    "import umap"
   ]
  },
  {
   "cell_type": "code",
   "execution_count": 2,
   "id": "03630af6",
   "metadata": {},
   "outputs": [],
   "source": [
    "sys.path.append(\"..\") # Adds higher directory to python modules path.\n",
    "from helpers.dataset_vars import *\n",
    "from helpers.myclasses import *"
   ]
  },
  {
   "cell_type": "code",
   "execution_count": 3,
   "id": "657b13e2",
   "metadata": {},
   "outputs": [],
   "source": [
    "morph_folder = os.path.abspath('/mnt/cube/kai/repositories/morphs/data/stimuli')\n",
    "\n",
    "results_folder = os.path.abspath('/mnt/cube/kai/results/perceptual_loss/morph')\n",
    "spec_file = os.path.join(morph_folder, 'specs_star.p')"
   ]
  },
  {
   "cell_type": "markdown",
   "id": "310c7475",
   "metadata": {},
   "source": [
    "# load all dfs"
   ]
  },
  {
   "cell_type": "code",
   "execution_count": 123,
   "id": "d7836ce8",
   "metadata": {},
   "outputs": [],
   "source": [
    "group1_pred = pickle.load(open(os.path.join(results_folder, 'group1_predicted.p'), 'rb'))\n",
    "group2_pred = pickle.load(open(os.path.join(results_folder, 'group2_predicted.p'), 'rb'))\n",
    "group3_pred = pickle.load(open(os.path.join(results_folder, 'group3_predicted.p'), 'rb'))\n",
    "group1_behav = pickle.load(open(os.path.join(results_folder, 'group1_behav_agg.p'), 'rb'))\n",
    "group2_behav = pickle.load(open(os.path.join(results_folder, 'group2_behav_agg.p'), 'rb'))\n",
    "group3_behav = pickle.load(open(os.path.join(results_folder, 'group3_behav_agg.p'), 'rb'))"
   ]
  },
  {
   "cell_type": "code",
   "execution_count": 127,
   "id": "97762385",
   "metadata": {},
   "outputs": [
    {
     "data": {
      "text/html": [
       "<div>\n",
       "<style scoped>\n",
       "    .dataframe tbody tr th:only-of-type {\n",
       "        vertical-align: middle;\n",
       "    }\n",
       "\n",
       "    .dataframe tbody tr th {\n",
       "        vertical-align: top;\n",
       "    }\n",
       "\n",
       "    .dataframe thead th {\n",
       "        text-align: right;\n",
       "    }\n",
       "</style>\n",
       "<table border=\"1\" class=\"dataframe\">\n",
       "  <thead>\n",
       "    <tr style=\"text-align: right;\">\n",
       "      <th></th>\n",
       "      <th>index</th>\n",
       "      <th>min_val</th>\n",
       "      <th>max_val</th>\n",
       "      <th>slope</th>\n",
       "      <th>inflection</th>\n",
       "      <th>group</th>\n",
       "      <th>metric</th>\n",
       "      <th>subj</th>\n",
       "    </tr>\n",
       "  </thead>\n",
       "  <tbody>\n",
       "    <tr>\n",
       "      <th>42</th>\n",
       "      <td>ch</td>\n",
       "      <td>1.068966e-01</td>\n",
       "      <td>0.921299</td>\n",
       "      <td>0.473474</td>\n",
       "      <td>52.398018</td>\n",
       "      <td>Group 1</td>\n",
       "      <td>fcosine</td>\n",
       "      <td>NaN</td>\n",
       "    </tr>\n",
       "    <tr>\n",
       "      <th>43</th>\n",
       "      <td>de</td>\n",
       "      <td>3.112033e-03</td>\n",
       "      <td>0.998988</td>\n",
       "      <td>1.826562</td>\n",
       "      <td>56.232209</td>\n",
       "      <td>Group 1</td>\n",
       "      <td>fcosine</td>\n",
       "      <td>NaN</td>\n",
       "    </tr>\n",
       "    <tr>\n",
       "      <th>44</th>\n",
       "      <td>df</td>\n",
       "      <td>1.331266e-03</td>\n",
       "      <td>0.999785</td>\n",
       "      <td>0.618558</td>\n",
       "      <td>57.762664</td>\n",
       "      <td>Group 1</td>\n",
       "      <td>fcosine</td>\n",
       "      <td>NaN</td>\n",
       "    </tr>\n",
       "    <tr>\n",
       "      <th>45</th>\n",
       "      <td>dg</td>\n",
       "      <td>1.000000e-16</td>\n",
       "      <td>0.998902</td>\n",
       "      <td>0.168912</td>\n",
       "      <td>62.735145</td>\n",
       "      <td>Group 1</td>\n",
       "      <td>fcosine</td>\n",
       "      <td>NaN</td>\n",
       "    </tr>\n",
       "    <tr>\n",
       "      <th>46</th>\n",
       "      <td>dh</td>\n",
       "      <td>3.117956e-03</td>\n",
       "      <td>0.640119</td>\n",
       "      <td>0.085617</td>\n",
       "      <td>94.926209</td>\n",
       "      <td>Group 1</td>\n",
       "      <td>fcosine</td>\n",
       "      <td>NaN</td>\n",
       "    </tr>\n",
       "  </tbody>\n",
       "</table>\n",
       "</div>"
      ],
      "text/plain": [
       "   index       min_val   max_val     slope  inflection    group   metric subj\n",
       "42    ch  1.068966e-01  0.921299  0.473474   52.398018  Group 1  fcosine  NaN\n",
       "43    de  3.112033e-03  0.998988  1.826562   56.232209  Group 1  fcosine  NaN\n",
       "44    df  1.331266e-03  0.999785  0.618558   57.762664  Group 1  fcosine  NaN\n",
       "45    dg  1.000000e-16  0.998902  0.168912   62.735145  Group 1  fcosine  NaN\n",
       "46    dh  3.117956e-03  0.640119  0.085617   94.926209  Group 1  fcosine  NaN"
      ]
     },
     "execution_count": 127,
     "metadata": {},
     "output_type": "execute_result"
    }
   ],
   "source": [
    "group1_pred.tail()"
   ]
  },
  {
   "cell_type": "code",
   "execution_count": 28,
   "id": "2f3dbc13",
   "metadata": {},
   "outputs": [],
   "source": [
    "all_groups = pd.concat([group1_pred, group2_pred, group3_pred,\n",
    "                       group1_behav, group2_behav, group3_behav]).reset_index(drop=True)"
   ]
  },
  {
   "cell_type": "code",
   "execution_count": 29,
   "id": "15edd196",
   "metadata": {},
   "outputs": [],
   "source": [
    "all_groups = all_groups.drop(columns=['subj'])"
   ]
  },
  {
   "cell_type": "code",
   "execution_count": 10,
   "id": "16b73830",
   "metadata": {},
   "outputs": [
    {
     "data": {
      "text/plain": [
       "(0.0, 1.0)"
      ]
     },
     "execution_count": 10,
     "metadata": {},
     "output_type": "execute_result"
    },
    {
     "data": {
      "image/png": "[encoded data removed]",
      "text/plain": [
       "<Figure size 432x288 with 1 Axes>"
      ]
     },
     "metadata": {
      "needs_background": "light"
     },
     "output_type": "display_data"
    }
   ],
   "source": [
    "ax = sns.boxplot(y='slope', x='metric',data=all_groups)\n",
    "ax.set_ylim([0,1])"
   ]
  },
  {
   "cell_type": "code",
   "execution_count": 11,
   "id": "07aad097",
   "metadata": {},
   "outputs": [
    {
     "data": {
      "image/png": "[encoded data removed]",
      "text/plain": [
       "<Figure size 432x288 with 1 Axes>"
      ]
     },
     "metadata": {
      "needs_background": "light"
     },
     "output_type": "display_data"
    }
   ],
   "source": [
    "ax = sns.boxplot(y='inflection', x='metric',data=all_groups)"
   ]
  },
  {
   "cell_type": "markdown",
   "id": "ef8cac29",
   "metadata": {},
   "source": [
    "# separate by group"
   ]
  },
  {
   "cell_type": "code",
   "execution_count": 30,
   "id": "debe356b",
   "metadata": {},
   "outputs": [],
   "source": [
    "groups = ['Group 1', 'Group 2', 'Group 3']"
   ]
  },
  {
   "cell_type": "code",
   "execution_count": 13,
   "id": "2c55fb5e",
   "metadata": {},
   "outputs": [
    {
     "data": {
      "image/png": "[encoded data removed]",
      "text/plain": [
       "<Figure size 576x864 with 3 Axes>"
      ]
     },
     "metadata": {
      "needs_background": "light"
     },
     "output_type": "display_data"
    }
   ],
   "source": [
    "fig, ax = plt.subplots(3, 1, figsize=(8, 12))\n",
    "for i, group in enumerate(groups):\n",
    "    sns.boxplot(y='slope', x='metric',data=all_groups[all_groups.group==group], ax=ax[i])\n",
    "    ax[i].set_ylim([0,1])"
   ]
  },
  {
   "cell_type": "code",
   "execution_count": 17,
   "id": "657604cc",
   "metadata": {},
   "outputs": [
    {
     "data": {
      "image/png": "[encoded data removed]",
      "text/plain": [
       "<Figure size 576x864 with 3 Axes>"
      ]
     },
     "metadata": {
      "needs_background": "light"
     },
     "output_type": "display_data"
    }
   ],
   "source": [
    "fig, ax = plt.subplots(3, 1, figsize=(8, 12))\n",
    "for i, group in enumerate(groups):\n",
    "    sns.boxplot(y='inflection', x='metric',data=all_groups[all_groups.group==group], ax=ax[i])"
   ]
  },
  {
   "cell_type": "code",
   "execution_count": 14,
   "id": "843dc074",
   "metadata": {},
   "outputs": [],
   "source": [
    "import statsmodels.formula.api as smf"
   ]
  },
  {
   "cell_type": "code",
   "execution_count": 21,
   "id": "475bb652",
   "metadata": {},
   "outputs": [],
   "source": [
    "all_groups['stim'] = all_groups['index']"
   ]
  },
  {
   "cell_type": "code",
   "execution_count": 22,
   "id": "7885e938",
   "metadata": {},
   "outputs": [
    {
     "data": {
      "text/html": [
       "<div>\n",
       "<style scoped>\n",
       "    .dataframe tbody tr th:only-of-type {\n",
       "        vertical-align: middle;\n",
       "    }\n",
       "\n",
       "    .dataframe tbody tr th {\n",
       "        vertical-align: top;\n",
       "    }\n",
       "\n",
       "    .dataframe thead th {\n",
       "        text-align: right;\n",
       "    }\n",
       "</style>\n",
       "<table border=\"1\" class=\"dataframe\">\n",
       "  <thead>\n",
       "    <tr style=\"text-align: right;\">\n",
       "      <th></th>\n",
       "      <th>index</th>\n",
       "      <th>min_val</th>\n",
       "      <th>max_val</th>\n",
       "      <th>slope</th>\n",
       "      <th>inflection</th>\n",
       "      <th>group</th>\n",
       "      <th>metric</th>\n",
       "      <th>stim</th>\n",
       "    </tr>\n",
       "  </thead>\n",
       "  <tbody>\n",
       "    <tr>\n",
       "      <th>0</th>\n",
       "      <td>ae</td>\n",
       "      <td>1.000000e-16</td>\n",
       "      <td>1.000000</td>\n",
       "      <td>0.029308</td>\n",
       "      <td>76.226299</td>\n",
       "      <td>Group 1</td>\n",
       "      <td>rmse</td>\n",
       "      <td>ae</td>\n",
       "    </tr>\n",
       "    <tr>\n",
       "      <th>1</th>\n",
       "      <td>af</td>\n",
       "      <td>1.000000e-16</td>\n",
       "      <td>0.925953</td>\n",
       "      <td>0.021387</td>\n",
       "      <td>58.667611</td>\n",
       "      <td>Group 1</td>\n",
       "      <td>rmse</td>\n",
       "      <td>af</td>\n",
       "    </tr>\n",
       "    <tr>\n",
       "      <th>2</th>\n",
       "      <td>ag</td>\n",
       "      <td>1.000000e-16</td>\n",
       "      <td>0.977344</td>\n",
       "      <td>0.030870</td>\n",
       "      <td>52.000076</td>\n",
       "      <td>Group 1</td>\n",
       "      <td>rmse</td>\n",
       "      <td>ag</td>\n",
       "    </tr>\n",
       "    <tr>\n",
       "      <th>3</th>\n",
       "      <td>ah</td>\n",
       "      <td>1.000000e-16</td>\n",
       "      <td>0.795719</td>\n",
       "      <td>0.026042</td>\n",
       "      <td>35.582889</td>\n",
       "      <td>Group 1</td>\n",
       "      <td>rmse</td>\n",
       "      <td>ah</td>\n",
       "    </tr>\n",
       "    <tr>\n",
       "      <th>4</th>\n",
       "      <td>be</td>\n",
       "      <td>1.402487e-01</td>\n",
       "      <td>1.000000</td>\n",
       "      <td>0.045282</td>\n",
       "      <td>86.134743</td>\n",
       "      <td>Group 1</td>\n",
       "      <td>rmse</td>\n",
       "      <td>be</td>\n",
       "    </tr>\n",
       "  </tbody>\n",
       "</table>\n",
       "</div>"
      ],
      "text/plain": [
       "  index       min_val   max_val     slope  inflection    group metric stim\n",
       "0    ae  1.000000e-16  1.000000  0.029308   76.226299  Group 1   rmse   ae\n",
       "1    af  1.000000e-16  0.925953  0.021387   58.667611  Group 1   rmse   af\n",
       "2    ag  1.000000e-16  0.977344  0.030870   52.000076  Group 1   rmse   ag\n",
       "3    ah  1.000000e-16  0.795719  0.026042   35.582889  Group 1   rmse   ah\n",
       "4    be  1.402487e-01  1.000000  0.045282   86.134743  Group 1   rmse   be"
      ]
     },
     "execution_count": 22,
     "metadata": {},
     "output_type": "execute_result"
    }
   ],
   "source": [
    "all_groups.head()"
   ]
  },
  {
   "cell_type": "code",
   "execution_count": 23,
   "id": "1a9b947b",
   "metadata": {},
   "outputs": [],
   "source": [
    "all_groups = all_groups.drop(columns=['index'])"
   ]
  },
  {
   "cell_type": "code",
   "execution_count": 68,
   "id": "105505cf",
   "metadata": {},
   "outputs": [
    {
     "data": {
      "text/html": [
       "<table class=\"simpletable\">\n",
       "<tr>\n",
       "       <td>Model:</td>       <td>MixedLM</td> <td>Dependent Variable:</td>   <td>slope</td>  \n",
       "</tr>\n",
       "<tr>\n",
       "  <td>No. Observations:</td>   <td>170</td>         <td>Method:</td>         <td>REML</td>   \n",
       "</tr>\n",
       "<tr>\n",
       "     <td>No. Groups:</td>       <td>3</td>          <td>Scale:</td>         <td>3.9823</td>  \n",
       "</tr>\n",
       "<tr>\n",
       "  <td>Min. group size:</td>    <td>52</td>      <td>Log-Likelihood:</td>   <td>-349.2194</td>\n",
       "</tr>\n",
       "<tr>\n",
       "  <td>Max. group size:</td>    <td>63</td>        <td>Converged:</td>         <td>Yes</td>   \n",
       "</tr>\n",
       "<tr>\n",
       "  <td>Mean group size:</td>   <td>56.7</td>            <td></td>               <td></td>     \n",
       "</tr>\n",
       "</table>\n",
       "<table class=\"simpletable\">\n",
       "<tr>\n",
       "                               <td></td>                               <th>Coef.</th>   <th>Std.Err.</th>       <th>z</th>   <th>P>|z|</th> <th>[0.025</th> <th>0.975]</th>\n",
       "</tr>\n",
       "<tr>\n",
       "  <th>Intercept</th>                                                   <td>0.171</td>     <td>2.057</td>      <td>0.083</td> <td>0.934</td> <td>-3.861</td>  <td>4.202</td>\n",
       "</tr>\n",
       "<tr>\n",
       "  <th>C(metric, Treatment('behav'))[T.fcosine]</th>                    <td>1.919</td>     <td>0.717</td>      <td>2.675</td> <td>0.007</td>  <td>0.513</td>  <td>3.324</td>\n",
       "</tr>\n",
       "<tr>\n",
       "  <th>C(metric, Treatment('behav'))[T.frmse]</th>                      <td>0.040</td>     <td>0.706</td>      <td>0.057</td> <td>0.955</td> <td>-1.343</td>  <td>1.423</td>\n",
       "</tr>\n",
       "<tr>\n",
       "  <th>C(metric, Treatment('behav'))[T.rmse]</th>                      <td>-0.135</td>     <td>0.706</td>     <td>-0.192</td> <td>0.848</td> <td>-1.518</td>  <td>1.248</td>\n",
       "</tr>\n",
       "<tr>\n",
       "  <th>C(group)[T.Group 2]:C(metric, Treatment('behav'))[behav]</th>    <td>0.078</td>     <td>2.909</td>      <td>0.027</td> <td>0.978</td> <td>-5.623</td>  <td>5.780</td>\n",
       "</tr>\n",
       "<tr>\n",
       "  <th>C(group)[T.Group 3]:C(metric, Treatment('behav'))[behav]</th>    <td>0.035</td>     <td>2.909</td>      <td>0.012</td> <td>0.990</td> <td>-5.667</td>  <td>5.736</td>\n",
       "</tr>\n",
       "<tr>\n",
       "  <th>C(group)[T.Group 2]:C(metric, Treatment('behav'))[fcosine]</th> <td>-1.857</td>     <td>2.926</td>     <td>-0.635</td> <td>0.526</td> <td>-7.592</td>  <td>3.878</td>\n",
       "</tr>\n",
       "<tr>\n",
       "  <th>C(group)[T.Group 3]:C(metric, Treatment('behav'))[fcosine]</th> <td>-0.179</td>     <td>2.922</td>     <td>-0.061</td> <td>0.951</td> <td>-5.906</td>  <td>5.547</td>\n",
       "</tr>\n",
       "<tr>\n",
       "  <th>C(group)[T.Group 2]:C(metric, Treatment('behav'))[frmse]</th>   <td>-0.111</td>     <td>2.923</td>     <td>-0.038</td> <td>0.970</td> <td>-5.841</td>  <td>5.618</td>\n",
       "</tr>\n",
       "<tr>\n",
       "  <th>C(group)[T.Group 3]:C(metric, Treatment('behav'))[frmse]</th>    <td>0.059</td>     <td>2.919</td>      <td>0.020</td> <td>0.984</td> <td>-5.661</td>  <td>5.780</td>\n",
       "</tr>\n",
       "<tr>\n",
       "  <th>C(group)[T.Group 2]:C(metric, Treatment('behav'))[rmse]</th>    <td>-0.002</td>     <td>2.923</td>     <td>-0.001</td> <td>0.999</td> <td>-5.732</td>  <td>5.727</td>\n",
       "</tr>\n",
       "<tr>\n",
       "  <th>C(group)[T.Group 3]:C(metric, Treatment('behav'))[rmse]</th>     <td>0.005</td>     <td>2.919</td>      <td>0.002</td> <td>0.999</td> <td>-5.716</td>  <td>5.726</td>\n",
       "</tr>\n",
       "<tr>\n",
       "  <th>group Var</th>                                                   <td>3.982</td> <td>133920342.589</td>    <td></td>      <td></td>       <td></td>       <td></td>   \n",
       "</tr>\n",
       "</table>"
      ],
      "text/plain": [
       "<class 'statsmodels.iolib.summary2.Summary'>\n",
       "\"\"\"\n",
       "                                  Mixed Linear Model Regression Results\n",
       "==========================================================================================================\n",
       "Model:                             MixedLM                  Dependent Variable:                  slope    \n",
       "No. Observations:                  170                      Method:                              REML     \n",
       "No. Groups:                        3                        Scale:                               3.9823   \n",
       "Min. group size:                   52                       Log-Likelihood:                      -349.2194\n",
       "Max. group size:                   63                       Converged:                           Yes      \n",
       "Mean group size:                   56.7                                                                   \n",
       "----------------------------------------------------------------------------------------------------------\n",
       "                                                           Coef.     Std.Err.     z    P>|z| [0.025 0.975]\n",
       "----------------------------------------------------------------------------------------------------------\n",
       "Intercept                                                   0.171         2.057  0.083 0.934 -3.861  4.202\n",
       "C(metric, Treatment('behav'))[T.fcosine]                    1.919         0.717  2.675 0.007  0.513  3.324\n",
       "C(metric, Treatment('behav'))[T.frmse]                      0.040         0.706  0.057 0.955 -1.343  1.423\n",
       "C(metric, Treatment('behav'))[T.rmse]                      -0.135         0.706 -0.192 0.848 -1.518  1.248\n",
       "C(group)[T.Group 2]:C(metric, Treatment('behav'))[behav]    0.078         2.909  0.027 0.978 -5.623  5.780\n",
       "C(group)[T.Group 3]:C(metric, Treatment('behav'))[behav]    0.035         2.909  0.012 0.990 -5.667  5.736\n",
       "C(group)[T.Group 2]:C(metric, Treatment('behav'))[fcosine] -1.857         2.926 -0.635 0.526 -7.592  3.878\n",
       "C(group)[T.Group 3]:C(metric, Treatment('behav'))[fcosine] -0.179         2.922 -0.061 0.951 -5.906  5.547\n",
       "C(group)[T.Group 2]:C(metric, Treatment('behav'))[frmse]   -0.111         2.923 -0.038 0.970 -5.841  5.618\n",
       "C(group)[T.Group 3]:C(metric, Treatment('behav'))[frmse]    0.059         2.919  0.020 0.984 -5.661  5.780\n",
       "C(group)[T.Group 2]:C(metric, Treatment('behav'))[rmse]    -0.002         2.923 -0.001 0.999 -5.732  5.727\n",
       "C(group)[T.Group 3]:C(metric, Treatment('behav'))[rmse]     0.005         2.919  0.002 0.999 -5.716  5.726\n",
       "group Var                                                   3.982 133920342.589                           \n",
       "==========================================================================================================\n",
       "\n",
       "\"\"\""
      ]
     },
     "execution_count": 68,
     "metadata": {},
     "output_type": "execute_result"
    }
   ],
   "source": [
    "model = smf.mixedlm(\"slope ~ C(group):C(metric, Treatment('behav'))  \",\n",
    "                    all_groups,\n",
    "                    groups= \"group\").fit()\n",
    "\n",
    "model.summary()"
   ]
  },
  {
   "cell_type": "code",
   "execution_count": 71,
   "id": "08ccfbcd",
   "metadata": {},
   "outputs": [
    {
     "name": "stderr",
     "output_type": "stream",
     "text": [
      "/home/shc079/miniconda3/envs/tf2.3gpu/lib/python3.7/site-packages/statsmodels/regression/mixed_linear_model.py:2237: ConvergenceWarning: The MLE may be on the boundary of the parameter space.\n",
      "  warnings.warn(msg, ConvergenceWarning)\n"
     ]
    },
    {
     "data": {
      "text/html": [
       "<table class=\"simpletable\">\n",
       "<tr>\n",
       "       <td>Model:</td>       <td>MixedLM</td> <td>Dependent Variable:</td> <td>inflection</td>\n",
       "</tr>\n",
       "<tr>\n",
       "  <td>No. Observations:</td>   <td>170</td>         <td>Method:</td>          <td>REML</td>   \n",
       "</tr>\n",
       "<tr>\n",
       "     <td>No. Groups:</td>       <td>3</td>          <td>Scale:</td>         <td>303.9880</td> \n",
       "</tr>\n",
       "<tr>\n",
       "  <td>Min. group size:</td>    <td>52</td>      <td>Log-Likelihood:</td>    <td>-717.5474</td>\n",
       "</tr>\n",
       "<tr>\n",
       "  <td>Max. group size:</td>    <td>63</td>        <td>Converged:</td>          <td>Yes</td>   \n",
       "</tr>\n",
       "<tr>\n",
       "  <td>Mean group size:</td>   <td>56.7</td>            <td></td>                <td></td>     \n",
       "</tr>\n",
       "</table>\n",
       "<table class=\"simpletable\">\n",
       "<tr>\n",
       "            <td></td>            <th>Coef.</th>  <th>Std.Err.</th>    <th>z</th>   <th>P>|z|</th> <th>[0.025</th>  <th>0.975]</th>\n",
       "</tr>\n",
       "<tr>\n",
       "  <th>Intercept</th>            <td>64.139</td>    <td>2.517</td>  <td>25.487</td> <td>0.000</td> <td>59.207</td>  <td>69.071</td>\n",
       "</tr>\n",
       "<tr>\n",
       "  <th>C(metric)[T.fcosine]</th> <td>-8.800</td>    <td>3.737</td>  <td>-2.355</td> <td>0.019</td> <td>-16.124</td> <td>-1.475</td>\n",
       "</tr>\n",
       "<tr>\n",
       "  <th>C(metric)[T.frmse]</th>   <td>-10.732</td>   <td>3.715</td>  <td>-2.889</td> <td>0.004</td> <td>-18.013</td> <td>-3.451</td>\n",
       "</tr>\n",
       "<tr>\n",
       "  <th>C(metric)[T.rmse]</th>    <td>-2.567</td>    <td>3.715</td>  <td>-0.691</td> <td>0.490</td> <td>-9.848</td>   <td>4.714</td>\n",
       "</tr>\n",
       "<tr>\n",
       "  <th>group Var</th>             <td>0.000</td>    <td>0.415</td>     <td></td>      <td></td>       <td></td>        <td></td>   \n",
       "</tr>\n",
       "</table>"
      ],
      "text/plain": [
       "<class 'statsmodels.iolib.summary2.Summary'>\n",
       "\"\"\"\n",
       "              Mixed Linear Model Regression Results\n",
       "=================================================================\n",
       "Model:               MixedLM    Dependent Variable:    inflection\n",
       "No. Observations:    170        Method:                REML      \n",
       "No. Groups:          3          Scale:                 303.9880  \n",
       "Min. group size:     52         Log-Likelihood:        -717.5474 \n",
       "Max. group size:     63         Converged:             Yes       \n",
       "Mean group size:     56.7                                        \n",
       "-----------------------------------------------------------------\n",
       "                      Coef.  Std.Err.   z    P>|z|  [0.025 0.975]\n",
       "-----------------------------------------------------------------\n",
       "Intercept             64.139    2.517 25.487 0.000  59.207 69.071\n",
       "C(metric)[T.fcosine]  -8.800    3.737 -2.355 0.019 -16.124 -1.475\n",
       "C(metric)[T.frmse]   -10.732    3.715 -2.889 0.004 -18.013 -3.451\n",
       "C(metric)[T.rmse]     -2.567    3.715 -0.691 0.490  -9.848  4.714\n",
       "group Var              0.000    0.415                            \n",
       "=================================================================\n",
       "\n",
       "\"\"\""
      ]
     },
     "execution_count": 71,
     "metadata": {},
     "output_type": "execute_result"
    }
   ],
   "source": [
    "model = smf.mixedlm(\"inflection ~ C(metric)\",\n",
    "                    all_groups,\n",
    "                    groups= \"group\").fit()\n",
    "\n",
    "model.summary()"
   ]
  },
  {
   "cell_type": "markdown",
   "id": "d338ab27",
   "metadata": {},
   "source": [
    "# paired t test"
   ]
  },
  {
   "cell_type": "code",
   "execution_count": 35,
   "id": "bc9a0d15",
   "metadata": {},
   "outputs": [],
   "source": [
    "from scipy.stats import ttest_rel"
   ]
  },
  {
   "cell_type": "code",
   "execution_count": 31,
   "id": "d3307514",
   "metadata": {},
   "outputs": [],
   "source": [
    "group3_df = all_groups[all_groups.group=='Group 3'].reset_index(drop=True)\n",
    "slope_df = group3_df.pivot(index='index',columns='metric',values='slope')"
   ]
  },
  {
   "cell_type": "code",
   "execution_count": 32,
   "id": "650c1623",
   "metadata": {},
   "outputs": [
    {
     "data": {
      "text/html": [
       "<div>\n",
       "<style scoped>\n",
       "    .dataframe tbody tr th:only-of-type {\n",
       "        vertical-align: middle;\n",
       "    }\n",
       "\n",
       "    .dataframe tbody tr th {\n",
       "        vertical-align: top;\n",
       "    }\n",
       "\n",
       "    .dataframe thead th {\n",
       "        text-align: right;\n",
       "    }\n",
       "</style>\n",
       "<table border=\"1\" class=\"dataframe\">\n",
       "  <thead>\n",
       "    <tr style=\"text-align: right;\">\n",
       "      <th>metric</th>\n",
       "      <th>behav</th>\n",
       "      <th>fcosine</th>\n",
       "      <th>frmse</th>\n",
       "      <th>rmse</th>\n",
       "    </tr>\n",
       "    <tr>\n",
       "      <th>index</th>\n",
       "      <th></th>\n",
       "      <th></th>\n",
       "      <th></th>\n",
       "      <th></th>\n",
       "    </tr>\n",
       "  </thead>\n",
       "  <tbody>\n",
       "    <tr>\n",
       "      <th>ac</th>\n",
       "      <td>0.188148</td>\n",
       "      <td>0.247081</td>\n",
       "      <td>0.174662</td>\n",
       "      <td>0.049462</td>\n",
       "    </tr>\n",
       "    <tr>\n",
       "      <th>ad</th>\n",
       "      <td>0.166949</td>\n",
       "      <td>0.278257</td>\n",
       "      <td>0.268822</td>\n",
       "      <td>0.035117</td>\n",
       "    </tr>\n",
       "    <tr>\n",
       "      <th>ag</th>\n",
       "      <td>0.274256</td>\n",
       "      <td>0.103799</td>\n",
       "      <td>0.072723</td>\n",
       "      <td>0.030870</td>\n",
       "    </tr>\n",
       "    <tr>\n",
       "      <th>ah</th>\n",
       "      <td>0.201704</td>\n",
       "      <td>NaN</td>\n",
       "      <td>NaN</td>\n",
       "      <td>NaN</td>\n",
       "    </tr>\n",
       "    <tr>\n",
       "      <th>bc</th>\n",
       "      <td>0.189083</td>\n",
       "      <td>0.231519</td>\n",
       "      <td>0.064951</td>\n",
       "      <td>0.038250</td>\n",
       "    </tr>\n",
       "    <tr>\n",
       "      <th>bd</th>\n",
       "      <td>0.118929</td>\n",
       "      <td>0.087136</td>\n",
       "      <td>0.034440</td>\n",
       "      <td>0.024342</td>\n",
       "    </tr>\n",
       "    <tr>\n",
       "      <th>bg</th>\n",
       "      <td>0.231595</td>\n",
       "      <td>0.476172</td>\n",
       "      <td>0.220171</td>\n",
       "      <td>0.103552</td>\n",
       "    </tr>\n",
       "    <tr>\n",
       "      <th>bh</th>\n",
       "      <td>0.112464</td>\n",
       "      <td>NaN</td>\n",
       "      <td>NaN</td>\n",
       "      <td>NaN</td>\n",
       "    </tr>\n",
       "    <tr>\n",
       "      <th>ce</th>\n",
       "      <td>0.189457</td>\n",
       "      <td>0.032729</td>\n",
       "      <td>0.020262</td>\n",
       "      <td>0.028130</td>\n",
       "    </tr>\n",
       "    <tr>\n",
       "      <th>cf</th>\n",
       "      <td>0.261025</td>\n",
       "      <td>NaN</td>\n",
       "      <td>NaN</td>\n",
       "      <td>NaN</td>\n",
       "    </tr>\n",
       "    <tr>\n",
       "      <th>de</th>\n",
       "      <td>0.131609</td>\n",
       "      <td>0.305766</td>\n",
       "      <td>0.122810</td>\n",
       "      <td>0.047254</td>\n",
       "    </tr>\n",
       "    <tr>\n",
       "      <th>df</th>\n",
       "      <td>0.143298</td>\n",
       "      <td>0.146983</td>\n",
       "      <td>0.085749</td>\n",
       "      <td>0.042349</td>\n",
       "    </tr>\n",
       "    <tr>\n",
       "      <th>eg</th>\n",
       "      <td>0.125694</td>\n",
       "      <td>2.056351</td>\n",
       "      <td>0.214583</td>\n",
       "      <td>0.018487</td>\n",
       "    </tr>\n",
       "    <tr>\n",
       "      <th>eh</th>\n",
       "      <td>0.179967</td>\n",
       "      <td>1.449403</td>\n",
       "      <td>2.845343</td>\n",
       "      <td>0.046438</td>\n",
       "    </tr>\n",
       "    <tr>\n",
       "      <th>fg</th>\n",
       "      <td>0.580742</td>\n",
       "      <td>19.382953</td>\n",
       "      <td>-0.637762</td>\n",
       "      <td>0.016530</td>\n",
       "    </tr>\n",
       "    <tr>\n",
       "      <th>fh</th>\n",
       "      <td>0.194440</td>\n",
       "      <td>0.034185</td>\n",
       "      <td>0.026509</td>\n",
       "      <td>0.047419</td>\n",
       "    </tr>\n",
       "  </tbody>\n",
       "</table>\n",
       "</div>"
      ],
      "text/plain": [
       "metric     behav    fcosine     frmse      rmse\n",
       "index                                          \n",
       "ac      0.188148   0.247081  0.174662  0.049462\n",
       "ad      0.166949   0.278257  0.268822  0.035117\n",
       "ag      0.274256   0.103799  0.072723  0.030870\n",
       "ah      0.201704        NaN       NaN       NaN\n",
       "bc      0.189083   0.231519  0.064951  0.038250\n",
       "bd      0.118929   0.087136  0.034440  0.024342\n",
       "bg      0.231595   0.476172  0.220171  0.103552\n",
       "bh      0.112464        NaN       NaN       NaN\n",
       "ce      0.189457   0.032729  0.020262  0.028130\n",
       "cf      0.261025        NaN       NaN       NaN\n",
       "de      0.131609   0.305766  0.122810  0.047254\n",
       "df      0.143298   0.146983  0.085749  0.042349\n",
       "eg      0.125694   2.056351  0.214583  0.018487\n",
       "eh      0.179967   1.449403  2.845343  0.046438\n",
       "fg      0.580742  19.382953 -0.637762  0.016530\n",
       "fh      0.194440   0.034185  0.026509  0.047419"
      ]
     },
     "execution_count": 32,
     "metadata": {},
     "output_type": "execute_result"
    }
   ],
   "source": [
    "slope_df"
   ]
  },
  {
   "cell_type": "code",
   "execution_count": 33,
   "id": "5ec3819f",
   "metadata": {},
   "outputs": [],
   "source": [
    "slope_df.dropna(inplace=True)"
   ]
  },
  {
   "cell_type": "code",
   "execution_count": 36,
   "id": "469dbf81",
   "metadata": {},
   "outputs": [
    {
     "name": "stdout",
     "output_type": "stream",
     "text": [
      "Ttest_relResult(statistic=4.831251614064484, pvalue=0.0004111099190639395)\n"
     ]
    }
   ],
   "source": [
    "print(ttest_rel(slope_df['behav'], slope_df['rmse']))"
   ]
  },
  {
   "cell_type": "code",
   "execution_count": 37,
   "id": "cd5107f4",
   "metadata": {},
   "outputs": [
    {
     "name": "stdout",
     "output_type": "stream",
     "text": [
      "Ttest_relResult(statistic=-0.260563031687244, pvalue=0.7988469663123305)\n"
     ]
    }
   ],
   "source": [
    "print(ttest_rel(slope_df['behav'], slope_df['frmse']))"
   ]
  },
  {
   "cell_type": "code",
   "execution_count": 38,
   "id": "8997fee6",
   "metadata": {},
   "outputs": [
    {
     "name": "stdout",
     "output_type": "stream",
     "text": [
      "Ttest_relResult(statistic=-1.1853122622048364, pvalue=0.2588363370850402)\n"
     ]
    }
   ],
   "source": [
    "print(ttest_rel(slope_df['behav'], slope_df['fcosine']))"
   ]
  },
  {
   "cell_type": "code",
   "execution_count": 39,
   "id": "691f1d7f",
   "metadata": {},
   "outputs": [],
   "source": [
    "inflection_df = group3_df.pivot(index='index',columns='metric',values='inflection')"
   ]
  },
  {
   "cell_type": "code",
   "execution_count": 40,
   "id": "e180996a",
   "metadata": {},
   "outputs": [],
   "source": [
    "inflection_df.dropna(inplace=True)"
   ]
  },
  {
   "cell_type": "code",
   "execution_count": 41,
   "id": "76c9fa3e",
   "metadata": {},
   "outputs": [
    {
     "name": "stdout",
     "output_type": "stream",
     "text": [
      "Ttest_relResult(statistic=2.2733531777146454, pvalue=0.04218178630697167)\n",
      "Ttest_relResult(statistic=2.815997856081066, pvalue=0.01557515269731837)\n",
      "Ttest_relResult(statistic=3.061983268377995, pvalue=0.009862629389995967)\n"
     ]
    }
   ],
   "source": [
    "print(ttest_rel(inflection_df['behav'], inflection_df['rmse']))\n",
    "\n",
    "print(ttest_rel(inflection_df['behav'], inflection_df['frmse']))\n",
    "\n",
    "print(ttest_rel(inflection_df['behav'], inflection_df['fcosine']))"
   ]
  },
  {
   "cell_type": "code",
   "execution_count": 44,
   "id": "2c5bb2dc",
   "metadata": {},
   "outputs": [
    {
     "name": "stdout",
     "output_type": "stream",
     "text": [
      "Ttest_relResult(statistic=11.384131306692675, pvalue=1.9954763256238628e-07)\n",
      "Ttest_relResult(statistic=3.720310029357906, pvalue=0.0033799550158480113)\n",
      "Ttest_relResult(statistic=0.09617267891929973, pvalue=0.9251132048664094)\n",
      "Ttest_relResult(statistic=1.130743736948125, pvalue=0.28221427790863085)\n",
      "Ttest_relResult(statistic=1.1234472548238663, pvalue=0.28516829340098515)\n",
      "Ttest_relResult(statistic=0.17527863461225762, pvalue=0.8640454733666992)\n"
     ]
    }
   ],
   "source": [
    "group2_df = all_groups[all_groups.group=='Group 2'].reset_index(drop=True)\n",
    "slope_df = group2_df.pivot(index='index',columns='metric',values='slope')\n",
    "slope_df.dropna(inplace=True)\n",
    "\n",
    "print(ttest_rel(slope_df['behav'], slope_df['rmse']))\n",
    "print(ttest_rel(slope_df['behav'], slope_df['frmse']))\n",
    "print(ttest_rel(slope_df['behav'], slope_df['fcosine']))\n",
    "\n",
    "inflection_df = group2_df.pivot(index='index',columns='metric',values='inflection')\n",
    "inflection_df.dropna(inplace=True)\n",
    "\n",
    "print(ttest_rel(inflection_df['behav'], inflection_df['rmse']))\n",
    "print(ttest_rel(inflection_df['behav'], inflection_df['frmse']))\n",
    "print(ttest_rel(inflection_df['behav'], inflection_df['fcosine']))"
   ]
  },
  {
   "cell_type": "code",
   "execution_count": 45,
   "id": "50a3af29",
   "metadata": {},
   "outputs": [
    {
     "name": "stdout",
     "output_type": "stream",
     "text": [
      "Ttest_relResult(statistic=14.068432233948732, pvalue=1.1850805357850964e-09)\n",
      "Ttest_relResult(statistic=-0.48957263791284444, pvalue=0.6320181876546632)\n",
      "Ttest_relResult(statistic=-1.6534966420496688, pvalue=0.12046919793521799)\n",
      "Ttest_relResult(statistic=-2.2632084721507897, pvalue=0.040043293230398846)\n",
      "Ttest_relResult(statistic=2.0368136803000008, pvalue=0.06103865178268757)\n",
      "Ttest_relResult(statistic=1.6711257672201865, pvalue=0.11689071256620445)\n"
     ]
    }
   ],
   "source": [
    "group1_df = all_groups[all_groups.group=='Group 1'].reset_index(drop=True)\n",
    "slope_df = group1_df.pivot(index='index',columns='metric',values='slope')\n",
    "slope_df.dropna(inplace=True)\n",
    "\n",
    "print(ttest_rel(slope_df['behav'], slope_df['rmse']))\n",
    "print(ttest_rel(slope_df['behav'], slope_df['frmse']))\n",
    "print(ttest_rel(slope_df['behav'], slope_df['fcosine']))\n",
    "\n",
    "inflection_df = group1_df.pivot(index='index',columns='metric',values='inflection')\n",
    "inflection_df.dropna(inplace=True)\n",
    "\n",
    "print(ttest_rel(inflection_df['behav'], inflection_df['rmse']))\n",
    "print(ttest_rel(inflection_df['behav'], inflection_df['frmse']))\n",
    "print(ttest_rel(inflection_df['behav'], inflection_df['fcosine']))"
   ]
  },
  {
   "cell_type": "markdown",
   "id": "a1915397",
   "metadata": {},
   "source": [
    "# absolute difference"
   ]
  },
  {
   "cell_type": "code",
   "execution_count": 57,
   "id": "0e5a6581",
   "metadata": {},
   "outputs": [
    {
     "data": {
      "text/html": [
       "<div>\n",
       "<style scoped>\n",
       "    .dataframe tbody tr th:only-of-type {\n",
       "        vertical-align: middle;\n",
       "    }\n",
       "\n",
       "    .dataframe tbody tr th {\n",
       "        vertical-align: top;\n",
       "    }\n",
       "\n",
       "    .dataframe thead th {\n",
       "        text-align: right;\n",
       "    }\n",
       "</style>\n",
       "<table border=\"1\" class=\"dataframe\">\n",
       "  <thead>\n",
       "    <tr style=\"text-align: right;\">\n",
       "      <th></th>\n",
       "      <th>index</th>\n",
       "      <th>min_val</th>\n",
       "      <th>max_val</th>\n",
       "      <th>slope</th>\n",
       "      <th>inflection</th>\n",
       "      <th>group</th>\n",
       "      <th>metric</th>\n",
       "    </tr>\n",
       "  </thead>\n",
       "  <tbody>\n",
       "    <tr>\n",
       "      <th>165</th>\n",
       "      <td>eh</td>\n",
       "      <td>0.028613</td>\n",
       "      <td>0.944226</td>\n",
       "      <td>0.179967</td>\n",
       "      <td>78.281169</td>\n",
       "      <td>Group 3</td>\n",
       "      <td>behav</td>\n",
       "    </tr>\n",
       "    <tr>\n",
       "      <th>166</th>\n",
       "      <td>cf</td>\n",
       "      <td>0.047045</td>\n",
       "      <td>0.882328</td>\n",
       "      <td>0.261025</td>\n",
       "      <td>51.118444</td>\n",
       "      <td>Group 3</td>\n",
       "      <td>behav</td>\n",
       "    </tr>\n",
       "    <tr>\n",
       "      <th>167</th>\n",
       "      <td>df</td>\n",
       "      <td>0.054637</td>\n",
       "      <td>0.939378</td>\n",
       "      <td>0.143298</td>\n",
       "      <td>56.879763</td>\n",
       "      <td>Group 3</td>\n",
       "      <td>behav</td>\n",
       "    </tr>\n",
       "    <tr>\n",
       "      <th>168</th>\n",
       "      <td>fg</td>\n",
       "      <td>0.079391</td>\n",
       "      <td>0.928413</td>\n",
       "      <td>0.580742</td>\n",
       "      <td>78.445336</td>\n",
       "      <td>Group 3</td>\n",
       "      <td>behav</td>\n",
       "    </tr>\n",
       "    <tr>\n",
       "      <th>169</th>\n",
       "      <td>fh</td>\n",
       "      <td>0.063133</td>\n",
       "      <td>0.932895</td>\n",
       "      <td>0.194440</td>\n",
       "      <td>68.749459</td>\n",
       "      <td>Group 3</td>\n",
       "      <td>behav</td>\n",
       "    </tr>\n",
       "  </tbody>\n",
       "</table>\n",
       "</div>"
      ],
      "text/plain": [
       "    index   min_val   max_val     slope  inflection    group metric\n",
       "165    eh  0.028613  0.944226  0.179967   78.281169  Group 3  behav\n",
       "166    cf  0.047045  0.882328  0.261025   51.118444  Group 3  behav\n",
       "167    df  0.054637  0.939378  0.143298   56.879763  Group 3  behav\n",
       "168    fg  0.079391  0.928413  0.580742   78.445336  Group 3  behav\n",
       "169    fh  0.063133  0.932895  0.194440   68.749459  Group 3  behav"
      ]
     },
     "execution_count": 57,
     "metadata": {},
     "output_type": "execute_result"
    }
   ],
   "source": [
    "all_groups.tail()"
   ]
  },
  {
   "cell_type": "code",
   "execution_count": 59,
   "id": "cdf753e8",
   "metadata": {},
   "outputs": [
    {
     "data": {
      "text/html": [
       "<div>\n",
       "<style scoped>\n",
       "    .dataframe tbody tr th:only-of-type {\n",
       "        vertical-align: middle;\n",
       "    }\n",
       "\n",
       "    .dataframe tbody tr th {\n",
       "        vertical-align: top;\n",
       "    }\n",
       "\n",
       "    .dataframe thead th {\n",
       "        text-align: right;\n",
       "    }\n",
       "</style>\n",
       "<table border=\"1\" class=\"dataframe\">\n",
       "  <thead>\n",
       "    <tr style=\"text-align: right;\">\n",
       "      <th>metric</th>\n",
       "      <th>behav</th>\n",
       "      <th>fcosine</th>\n",
       "      <th>frmse</th>\n",
       "      <th>rmse</th>\n",
       "    </tr>\n",
       "    <tr>\n",
       "      <th>index</th>\n",
       "      <th></th>\n",
       "      <th></th>\n",
       "      <th></th>\n",
       "      <th></th>\n",
       "    </tr>\n",
       "  </thead>\n",
       "  <tbody>\n",
       "    <tr>\n",
       "      <th>ae</th>\n",
       "      <td>0.121687</td>\n",
       "      <td>0.049504</td>\n",
       "      <td>0.031813</td>\n",
       "      <td>0.029308</td>\n",
       "    </tr>\n",
       "    <tr>\n",
       "      <th>af</th>\n",
       "      <td>0.115358</td>\n",
       "      <td>11.095610</td>\n",
       "      <td>1.546712</td>\n",
       "      <td>0.021387</td>\n",
       "    </tr>\n",
       "    <tr>\n",
       "      <th>ag</th>\n",
       "      <td>0.118767</td>\n",
       "      <td>0.532019</td>\n",
       "      <td>0.356684</td>\n",
       "      <td>0.030870</td>\n",
       "    </tr>\n",
       "    <tr>\n",
       "      <th>ah</th>\n",
       "      <td>0.136680</td>\n",
       "      <td>-0.025626</td>\n",
       "      <td>0.008536</td>\n",
       "      <td>0.026042</td>\n",
       "    </tr>\n",
       "    <tr>\n",
       "      <th>be</th>\n",
       "      <td>0.168463</td>\n",
       "      <td>0.253521</td>\n",
       "      <td>0.165417</td>\n",
       "      <td>0.045282</td>\n",
       "    </tr>\n",
       "    <tr>\n",
       "      <th>bf</th>\n",
       "      <td>0.224722</td>\n",
       "      <td>0.290621</td>\n",
       "      <td>0.192460</td>\n",
       "      <td>0.034618</td>\n",
       "    </tr>\n",
       "    <tr>\n",
       "      <th>bg</th>\n",
       "      <td>0.219891</td>\n",
       "      <td>0.362274</td>\n",
       "      <td>0.240056</td>\n",
       "      <td>0.103552</td>\n",
       "    </tr>\n",
       "    <tr>\n",
       "      <th>ce</th>\n",
       "      <td>0.196252</td>\n",
       "      <td>0.451656</td>\n",
       "      <td>0.148787</td>\n",
       "      <td>0.028130</td>\n",
       "    </tr>\n",
       "    <tr>\n",
       "      <th>cf</th>\n",
       "      <td>0.173505</td>\n",
       "      <td>14.820482</td>\n",
       "      <td>0.022436</td>\n",
       "      <td>0.016415</td>\n",
       "    </tr>\n",
       "    <tr>\n",
       "      <th>cg</th>\n",
       "      <td>0.205637</td>\n",
       "      <td>0.340281</td>\n",
       "      <td>0.015167</td>\n",
       "      <td>0.018782</td>\n",
       "    </tr>\n",
       "    <tr>\n",
       "      <th>ch</th>\n",
       "      <td>0.219057</td>\n",
       "      <td>0.473474</td>\n",
       "      <td>0.049025</td>\n",
       "      <td>0.034597</td>\n",
       "    </tr>\n",
       "    <tr>\n",
       "      <th>de</th>\n",
       "      <td>0.204305</td>\n",
       "      <td>1.826562</td>\n",
       "      <td>0.168044</td>\n",
       "      <td>0.047254</td>\n",
       "    </tr>\n",
       "    <tr>\n",
       "      <th>df</th>\n",
       "      <td>0.150104</td>\n",
       "      <td>0.618558</td>\n",
       "      <td>0.162936</td>\n",
       "      <td>0.042349</td>\n",
       "    </tr>\n",
       "    <tr>\n",
       "      <th>dg</th>\n",
       "      <td>0.163827</td>\n",
       "      <td>0.168912</td>\n",
       "      <td>0.108596</td>\n",
       "      <td>0.052883</td>\n",
       "    </tr>\n",
       "    <tr>\n",
       "      <th>dh</th>\n",
       "      <td>0.129884</td>\n",
       "      <td>0.085617</td>\n",
       "      <td>0.081564</td>\n",
       "      <td>0.017765</td>\n",
       "    </tr>\n",
       "  </tbody>\n",
       "</table>\n",
       "</div>"
      ],
      "text/plain": [
       "metric     behav    fcosine     frmse      rmse\n",
       "index                                          \n",
       "ae      0.121687   0.049504  0.031813  0.029308\n",
       "af      0.115358  11.095610  1.546712  0.021387\n",
       "ag      0.118767   0.532019  0.356684  0.030870\n",
       "ah      0.136680  -0.025626  0.008536  0.026042\n",
       "be      0.168463   0.253521  0.165417  0.045282\n",
       "bf      0.224722   0.290621  0.192460  0.034618\n",
       "bg      0.219891   0.362274  0.240056  0.103552\n",
       "ce      0.196252   0.451656  0.148787  0.028130\n",
       "cf      0.173505  14.820482  0.022436  0.016415\n",
       "cg      0.205637   0.340281  0.015167  0.018782\n",
       "ch      0.219057   0.473474  0.049025  0.034597\n",
       "de      0.204305   1.826562  0.168044  0.047254\n",
       "df      0.150104   0.618558  0.162936  0.042349\n",
       "dg      0.163827   0.168912  0.108596  0.052883\n",
       "dh      0.129884   0.085617  0.081564  0.017765"
      ]
     },
     "execution_count": 59,
     "metadata": {},
     "output_type": "execute_result"
    }
   ],
   "source": [
    "slope_df"
   ]
  },
  {
   "cell_type": "code",
   "execution_count": 72,
   "id": "05431103",
   "metadata": {},
   "outputs": [],
   "source": [
    "from statsmodels.stats.multicomp import pairwise_tukeyhsd"
   ]
  },
  {
   "cell_type": "code",
   "execution_count": 73,
   "id": "b38a10b9",
   "metadata": {},
   "outputs": [
    {
     "data": {
      "text/html": [
       "<div>\n",
       "<style scoped>\n",
       "    .dataframe tbody tr th:only-of-type {\n",
       "        vertical-align: middle;\n",
       "    }\n",
       "\n",
       "    .dataframe tbody tr th {\n",
       "        vertical-align: top;\n",
       "    }\n",
       "\n",
       "    .dataframe thead th {\n",
       "        text-align: right;\n",
       "    }\n",
       "</style>\n",
       "<table border=\"1\" class=\"dataframe\">\n",
       "  <thead>\n",
       "    <tr style=\"text-align: right;\">\n",
       "      <th></th>\n",
       "      <th>index</th>\n",
       "      <th>min_val</th>\n",
       "      <th>max_val</th>\n",
       "      <th>slope</th>\n",
       "      <th>inflection</th>\n",
       "      <th>group</th>\n",
       "      <th>metric</th>\n",
       "    </tr>\n",
       "  </thead>\n",
       "  <tbody>\n",
       "    <tr>\n",
       "      <th>165</th>\n",
       "      <td>eh</td>\n",
       "      <td>0.028613</td>\n",
       "      <td>0.944226</td>\n",
       "      <td>0.179967</td>\n",
       "      <td>78.281169</td>\n",
       "      <td>Group 3</td>\n",
       "      <td>behav</td>\n",
       "    </tr>\n",
       "    <tr>\n",
       "      <th>166</th>\n",
       "      <td>cf</td>\n",
       "      <td>0.047045</td>\n",
       "      <td>0.882328</td>\n",
       "      <td>0.261025</td>\n",
       "      <td>51.118444</td>\n",
       "      <td>Group 3</td>\n",
       "      <td>behav</td>\n",
       "    </tr>\n",
       "    <tr>\n",
       "      <th>167</th>\n",
       "      <td>df</td>\n",
       "      <td>0.054637</td>\n",
       "      <td>0.939378</td>\n",
       "      <td>0.143298</td>\n",
       "      <td>56.879763</td>\n",
       "      <td>Group 3</td>\n",
       "      <td>behav</td>\n",
       "    </tr>\n",
       "    <tr>\n",
       "      <th>168</th>\n",
       "      <td>fg</td>\n",
       "      <td>0.079391</td>\n",
       "      <td>0.928413</td>\n",
       "      <td>0.580742</td>\n",
       "      <td>78.445336</td>\n",
       "      <td>Group 3</td>\n",
       "      <td>behav</td>\n",
       "    </tr>\n",
       "    <tr>\n",
       "      <th>169</th>\n",
       "      <td>fh</td>\n",
       "      <td>0.063133</td>\n",
       "      <td>0.932895</td>\n",
       "      <td>0.194440</td>\n",
       "      <td>68.749459</td>\n",
       "      <td>Group 3</td>\n",
       "      <td>behav</td>\n",
       "    </tr>\n",
       "  </tbody>\n",
       "</table>\n",
       "</div>"
      ],
      "text/plain": [
       "    index   min_val   max_val     slope  inflection    group metric\n",
       "165    eh  0.028613  0.944226  0.179967   78.281169  Group 3  behav\n",
       "166    cf  0.047045  0.882328  0.261025   51.118444  Group 3  behav\n",
       "167    df  0.054637  0.939378  0.143298   56.879763  Group 3  behav\n",
       "168    fg  0.079391  0.928413  0.580742   78.445336  Group 3  behav\n",
       "169    fh  0.063133  0.932895  0.194440   68.749459  Group 3  behav"
      ]
     },
     "execution_count": 73,
     "metadata": {},
     "output_type": "execute_result"
    }
   ],
   "source": [
    "all_groups.tail()"
   ]
  },
  {
   "cell_type": "code",
   "execution_count": 76,
   "id": "fae8878e",
   "metadata": {},
   "outputs": [],
   "source": [
    "tukey = pairwise_tukeyhsd(endog=all_groups['slope'],\n",
    "                          groups=all_groups['metric'],\n",
    "                          alpha=0.05)"
   ]
  },
  {
   "cell_type": "code",
   "execution_count": 77,
   "id": "75ac0c03",
   "metadata": {},
   "outputs": [
    {
     "name": "stdout",
     "output_type": "stream",
     "text": [
      " Multiple Comparison of Means - Tukey HSD, FWER=0.05  \n",
      "======================================================\n",
      " group1  group2 meandiff p-adj   lower   upper  reject\n",
      "------------------------------------------------------\n",
      "  behav fcosine   1.2656 0.0176  0.1609  2.3702   True\n",
      "  behav   frmse  -0.0115    0.9 -1.1087  1.0858  False\n",
      "  behav    rmse  -0.1721    0.9 -1.2693  0.9252  False\n",
      "fcosine   frmse   -1.277 0.0224 -2.4237 -0.1303   True\n",
      "fcosine    rmse  -1.4376 0.0075 -2.5843 -0.2909   True\n",
      "  frmse    rmse  -0.1606    0.9 -1.3002   0.979  False\n",
      "------------------------------------------------------\n"
     ]
    }
   ],
   "source": [
    "print(tukey)"
   ]
  },
  {
   "cell_type": "code",
   "execution_count": 78,
   "id": "28cec249",
   "metadata": {},
   "outputs": [],
   "source": [
    "from statsmodels.stats.multicomp import pairwise_tukeyhsd\n",
    "tukey = pairwise_tukeyhsd(endog=all_groups['inflection'],\n",
    "                          groups=all_groups['metric'],\n",
    "                          alpha=0.05)"
   ]
  },
  {
   "cell_type": "code",
   "execution_count": 79,
   "id": "76e451ea",
   "metadata": {},
   "outputs": [
    {
     "name": "stdout",
     "output_type": "stream",
     "text": [
      "  Multiple Comparison of Means - Tukey HSD, FWER=0.05  \n",
      "=======================================================\n",
      " group1  group2 meandiff p-adj   lower    upper  reject\n",
      "-------------------------------------------------------\n",
      "  behav fcosine  -8.7995 0.0894 -18.4873  0.8882  False\n",
      "  behav   frmse -10.7322 0.0222 -20.3553 -1.1091   True\n",
      "  behav    rmse  -2.5669 0.8967   -12.19  7.0562  False\n",
      "fcosine   frmse  -1.9327    0.9 -11.9893   8.124  False\n",
      "fcosine    rmse   6.2327 0.3776   -3.824 16.2893  False\n",
      "  frmse    rmse   8.1654 0.1509   -1.829 18.1597  False\n",
      "-------------------------------------------------------\n"
     ]
    }
   ],
   "source": [
    "print(tukey)"
   ]
  },
  {
   "cell_type": "markdown",
   "id": "430181e1",
   "metadata": {},
   "source": [
    "# compare mean"
   ]
  },
  {
   "cell_type": "code",
   "execution_count": 104,
   "id": "39fcb8ef",
   "metadata": {},
   "outputs": [],
   "source": [
    "def subtract_behav(group_behav, item):\n",
    "    def _subtract_behav(x):\n",
    "        try:\n",
    "            return x[item]-group_behav[item][x['index']]\n",
    "        except:\n",
    "            return NaN\n",
    "    return _subtract_behav"
   ]
  },
  {
   "cell_type": "code",
   "execution_count": 105,
   "id": "7c1ced61",
   "metadata": {},
   "outputs": [],
   "source": [
    "normalized_df = pd.DataFrame()\n",
    "for group in ['Group 1', 'Group 2', 'Group 3']:\n",
    "    group_df = all_groups[all_groups.group==group].reset_index(drop=True)\n",
    "    group_behav = group_df[group_df.metric=='behav'][['index', 'slope', 'inflection']].set_index('index').T.to_dict('index')\n",
    "    group_df['d_slope'] = group_df.apply(lambda x: subtract_behav(group_behav, 'slope')(x), axis=1)\n",
    "    group_df['d_inflection'] = group_df.apply(lambda x: subtract_behav(group_behav, 'inflection')(x), axis=1)\n",
    "    normalized_df = pd.concat([normalized_df, group_df]).reset_index(drop=True)"
   ]
  },
  {
   "cell_type": "code",
   "execution_count": 106,
   "id": "c87c2ec1",
   "metadata": {},
   "outputs": [
    {
     "data": {
      "text/html": [
       "<div>\n",
       "<style scoped>\n",
       "    .dataframe tbody tr th:only-of-type {\n",
       "        vertical-align: middle;\n",
       "    }\n",
       "\n",
       "    .dataframe tbody tr th {\n",
       "        vertical-align: top;\n",
       "    }\n",
       "\n",
       "    .dataframe thead th {\n",
       "        text-align: right;\n",
       "    }\n",
       "</style>\n",
       "<table border=\"1\" class=\"dataframe\">\n",
       "  <thead>\n",
       "    <tr style=\"text-align: right;\">\n",
       "      <th></th>\n",
       "      <th>index</th>\n",
       "      <th>min_val</th>\n",
       "      <th>max_val</th>\n",
       "      <th>slope</th>\n",
       "      <th>inflection</th>\n",
       "      <th>group</th>\n",
       "      <th>metric</th>\n",
       "      <th>d_slope</th>\n",
       "      <th>d_inflection</th>\n",
       "    </tr>\n",
       "  </thead>\n",
       "  <tbody>\n",
       "    <tr>\n",
       "      <th>0</th>\n",
       "      <td>ae</td>\n",
       "      <td>1.000000e-16</td>\n",
       "      <td>1.000000</td>\n",
       "      <td>0.029308</td>\n",
       "      <td>76.226299</td>\n",
       "      <td>Group 1</td>\n",
       "      <td>rmse</td>\n",
       "      <td>-0.092379</td>\n",
       "      <td>24.843729</td>\n",
       "    </tr>\n",
       "    <tr>\n",
       "      <th>1</th>\n",
       "      <td>af</td>\n",
       "      <td>1.000000e-16</td>\n",
       "      <td>0.925953</td>\n",
       "      <td>0.021387</td>\n",
       "      <td>58.667611</td>\n",
       "      <td>Group 1</td>\n",
       "      <td>rmse</td>\n",
       "      <td>-0.093971</td>\n",
       "      <td>2.331502</td>\n",
       "    </tr>\n",
       "    <tr>\n",
       "      <th>2</th>\n",
       "      <td>ag</td>\n",
       "      <td>1.000000e-16</td>\n",
       "      <td>0.977344</td>\n",
       "      <td>0.030870</td>\n",
       "      <td>52.000076</td>\n",
       "      <td>Group 1</td>\n",
       "      <td>rmse</td>\n",
       "      <td>-0.087898</td>\n",
       "      <td>4.097319</td>\n",
       "    </tr>\n",
       "    <tr>\n",
       "      <th>3</th>\n",
       "      <td>ah</td>\n",
       "      <td>1.000000e-16</td>\n",
       "      <td>0.795719</td>\n",
       "      <td>0.026042</td>\n",
       "      <td>35.582889</td>\n",
       "      <td>Group 1</td>\n",
       "      <td>rmse</td>\n",
       "      <td>-0.110638</td>\n",
       "      <td>-32.563294</td>\n",
       "    </tr>\n",
       "    <tr>\n",
       "      <th>4</th>\n",
       "      <td>be</td>\n",
       "      <td>1.402487e-01</td>\n",
       "      <td>1.000000</td>\n",
       "      <td>0.045282</td>\n",
       "      <td>86.134743</td>\n",
       "      <td>Group 1</td>\n",
       "      <td>rmse</td>\n",
       "      <td>-0.123181</td>\n",
       "      <td>20.249726</td>\n",
       "    </tr>\n",
       "    <tr>\n",
       "      <th>...</th>\n",
       "      <td>...</td>\n",
       "      <td>...</td>\n",
       "      <td>...</td>\n",
       "      <td>...</td>\n",
       "      <td>...</td>\n",
       "      <td>...</td>\n",
       "      <td>...</td>\n",
       "      <td>...</td>\n",
       "      <td>...</td>\n",
       "    </tr>\n",
       "    <tr>\n",
       "      <th>165</th>\n",
       "      <td>eh</td>\n",
       "      <td>2.861325e-02</td>\n",
       "      <td>0.944226</td>\n",
       "      <td>0.179967</td>\n",
       "      <td>78.281169</td>\n",
       "      <td>Group 3</td>\n",
       "      <td>behav</td>\n",
       "      <td>0.000000</td>\n",
       "      <td>0.000000</td>\n",
       "    </tr>\n",
       "    <tr>\n",
       "      <th>166</th>\n",
       "      <td>cf</td>\n",
       "      <td>4.704466e-02</td>\n",
       "      <td>0.882328</td>\n",
       "      <td>0.261025</td>\n",
       "      <td>51.118444</td>\n",
       "      <td>Group 3</td>\n",
       "      <td>behav</td>\n",
       "      <td>0.000000</td>\n",
       "      <td>0.000000</td>\n",
       "    </tr>\n",
       "    <tr>\n",
       "      <th>167</th>\n",
       "      <td>df</td>\n",
       "      <td>5.463681e-02</td>\n",
       "      <td>0.939378</td>\n",
       "      <td>0.143298</td>\n",
       "      <td>56.879763</td>\n",
       "      <td>Group 3</td>\n",
       "      <td>behav</td>\n",
       "      <td>0.000000</td>\n",
       "      <td>0.000000</td>\n",
       "    </tr>\n",
       "    <tr>\n",
       "      <th>168</th>\n",
       "      <td>fg</td>\n",
       "      <td>7.939078e-02</td>\n",
       "      <td>0.928413</td>\n",
       "      <td>0.580742</td>\n",
       "      <td>78.445336</td>\n",
       "      <td>Group 3</td>\n",
       "      <td>behav</td>\n",
       "      <td>0.000000</td>\n",
       "      <td>0.000000</td>\n",
       "    </tr>\n",
       "    <tr>\n",
       "      <th>169</th>\n",
       "      <td>fh</td>\n",
       "      <td>6.313337e-02</td>\n",
       "      <td>0.932895</td>\n",
       "      <td>0.194440</td>\n",
       "      <td>68.749459</td>\n",
       "      <td>Group 3</td>\n",
       "      <td>behav</td>\n",
       "      <td>0.000000</td>\n",
       "      <td>0.000000</td>\n",
       "    </tr>\n",
       "  </tbody>\n",
       "</table>\n",
       "<p>170 rows × 9 columns</p>\n",
       "</div>"
      ],
      "text/plain": [
       "    index       min_val   max_val     slope  inflection    group metric  \\\n",
       "0      ae  1.000000e-16  1.000000  0.029308   76.226299  Group 1   rmse   \n",
       "1      af  1.000000e-16  0.925953  0.021387   58.667611  Group 1   rmse   \n",
       "2      ag  1.000000e-16  0.977344  0.030870   52.000076  Group 1   rmse   \n",
       "3      ah  1.000000e-16  0.795719  0.026042   35.582889  Group 1   rmse   \n",
       "4      be  1.402487e-01  1.000000  0.045282   86.134743  Group 1   rmse   \n",
       "..    ...           ...       ...       ...         ...      ...    ...   \n",
       "165    eh  2.861325e-02  0.944226  0.179967   78.281169  Group 3  behav   \n",
       "166    cf  4.704466e-02  0.882328  0.261025   51.118444  Group 3  behav   \n",
       "167    df  5.463681e-02  0.939378  0.143298   56.879763  Group 3  behav   \n",
       "168    fg  7.939078e-02  0.928413  0.580742   78.445336  Group 3  behav   \n",
       "169    fh  6.313337e-02  0.932895  0.194440   68.749459  Group 3  behav   \n",
       "\n",
       "      d_slope  d_inflection  \n",
       "0   -0.092379     24.843729  \n",
       "1   -0.093971      2.331502  \n",
       "2   -0.087898      4.097319  \n",
       "3   -0.110638    -32.563294  \n",
       "4   -0.123181     20.249726  \n",
       "..        ...           ...  \n",
       "165  0.000000      0.000000  \n",
       "166  0.000000      0.000000  \n",
       "167  0.000000      0.000000  \n",
       "168  0.000000      0.000000  \n",
       "169  0.000000      0.000000  \n",
       "\n",
       "[170 rows x 9 columns]"
      ]
     },
     "execution_count": 106,
     "metadata": {},
     "output_type": "execute_result"
    }
   ],
   "source": [
    "normalized_df"
   ]
  },
  {
   "cell_type": "code",
   "execution_count": 111,
   "id": "57287348",
   "metadata": {},
   "outputs": [],
   "source": [
    "normalized_df.drop(normalized_df[normalized_df['d_slope'] < -1].index, inplace = True)\n",
    "normalized_df.drop(normalized_df[normalized_df['d_slope'] > 1].index, inplace = True)\n",
    "normalized_df.drop(normalized_df[normalized_df['d_inflection'] < -60].index, inplace = True)\n",
    "normalized_df.drop(normalized_df[normalized_df['d_inflection'] > 60].index, inplace = True)"
   ]
  },
  {
   "cell_type": "code",
   "execution_count": 115,
   "id": "20e78c2b",
   "metadata": {},
   "outputs": [
    {
     "data": {
      "text/html": [
       "<div>\n",
       "<style scoped>\n",
       "    .dataframe tbody tr th:only-of-type {\n",
       "        vertical-align: middle;\n",
       "    }\n",
       "\n",
       "    .dataframe tbody tr th {\n",
       "        vertical-align: top;\n",
       "    }\n",
       "\n",
       "    .dataframe thead tr th {\n",
       "        text-align: left;\n",
       "    }\n",
       "\n",
       "    .dataframe thead tr:last-of-type th {\n",
       "        text-align: right;\n",
       "    }\n",
       "</style>\n",
       "<table border=\"1\" class=\"dataframe\">\n",
       "  <thead>\n",
       "    <tr>\n",
       "      <th></th>\n",
       "      <th colspan=\"8\" halign=\"left\">d_slope</th>\n",
       "      <th colspan=\"8\" halign=\"left\">d_inflection</th>\n",
       "    </tr>\n",
       "    <tr>\n",
       "      <th></th>\n",
       "      <th>count</th>\n",
       "      <th>mean</th>\n",
       "      <th>std</th>\n",
       "      <th>min</th>\n",
       "      <th>25%</th>\n",
       "      <th>50%</th>\n",
       "      <th>75%</th>\n",
       "      <th>max</th>\n",
       "      <th>count</th>\n",
       "      <th>mean</th>\n",
       "      <th>std</th>\n",
       "      <th>min</th>\n",
       "      <th>25%</th>\n",
       "      <th>50%</th>\n",
       "      <th>75%</th>\n",
       "      <th>max</th>\n",
       "    </tr>\n",
       "    <tr>\n",
       "      <th>metric</th>\n",
       "      <th></th>\n",
       "      <th></th>\n",
       "      <th></th>\n",
       "      <th></th>\n",
       "      <th></th>\n",
       "      <th></th>\n",
       "      <th></th>\n",
       "      <th></th>\n",
       "      <th></th>\n",
       "      <th></th>\n",
       "      <th></th>\n",
       "      <th></th>\n",
       "      <th></th>\n",
       "      <th></th>\n",
       "      <th></th>\n",
       "      <th></th>\n",
       "    </tr>\n",
       "  </thead>\n",
       "  <tbody>\n",
       "    <tr>\n",
       "      <th>behav</th>\n",
       "      <td>48.0</td>\n",
       "      <td>0.000000</td>\n",
       "      <td>0.000000</td>\n",
       "      <td>0.000000</td>\n",
       "      <td>0.000000</td>\n",
       "      <td>0.000000</td>\n",
       "      <td>0.000000</td>\n",
       "      <td>0.000000</td>\n",
       "      <td>48.0</td>\n",
       "      <td>0.000000</td>\n",
       "      <td>0.000000</td>\n",
       "      <td>0.000000</td>\n",
       "      <td>0.000000</td>\n",
       "      <td>0.000000</td>\n",
       "      <td>0.000000</td>\n",
       "      <td>0.000000</td>\n",
       "    </tr>\n",
       "    <tr>\n",
       "      <th>fcosine</th>\n",
       "      <td>33.0</td>\n",
       "      <td>0.012064</td>\n",
       "      <td>0.187902</td>\n",
       "      <td>-0.391448</td>\n",
       "      <td>-0.154911</td>\n",
       "      <td>0.003686</td>\n",
       "      <td>0.134644</td>\n",
       "      <td>0.468455</td>\n",
       "      <td>33.0</td>\n",
       "      <td>-8.327535</td>\n",
       "      <td>22.044864</td>\n",
       "      <td>-49.823310</td>\n",
       "      <td>-24.719996</td>\n",
       "      <td>-2.533616</td>\n",
       "      <td>5.249040</td>\n",
       "      <td>39.740921</td>\n",
       "    </tr>\n",
       "    <tr>\n",
       "      <th>frmse</th>\n",
       "      <td>37.0</td>\n",
       "      <td>-0.087868</td>\n",
       "      <td>0.115935</td>\n",
       "      <td>-0.356393</td>\n",
       "      <td>-0.169195</td>\n",
       "      <td>-0.089874</td>\n",
       "      <td>-0.013486</td>\n",
       "      <td>0.237917</td>\n",
       "      <td>37.0</td>\n",
       "      <td>-8.643757</td>\n",
       "      <td>17.253139</td>\n",
       "      <td>-49.473732</td>\n",
       "      <td>-18.001708</td>\n",
       "      <td>-9.763987</td>\n",
       "      <td>5.051197</td>\n",
       "      <td>26.640204</td>\n",
       "    </tr>\n",
       "    <tr>\n",
       "      <th>rmse</th>\n",
       "      <td>41.0</td>\n",
       "      <td>-0.167512</td>\n",
       "      <td>0.085402</td>\n",
       "      <td>-0.564211</td>\n",
       "      <td>-0.190104</td>\n",
       "      <td>-0.150833</td>\n",
       "      <td>-0.112119</td>\n",
       "      <td>-0.084355</td>\n",
       "      <td>41.0</td>\n",
       "      <td>-2.787064</td>\n",
       "      <td>20.039111</td>\n",
       "      <td>-38.778430</td>\n",
       "      <td>-20.930432</td>\n",
       "      <td>2.331502</td>\n",
       "      <td>12.127094</td>\n",
       "      <td>29.101226</td>\n",
       "    </tr>\n",
       "  </tbody>\n",
       "</table>\n",
       "</div>"
      ],
      "text/plain": [
       "        d_slope                                                              \\\n",
       "          count      mean       std       min       25%       50%       75%   \n",
       "metric                                                                        \n",
       "behav      48.0  0.000000  0.000000  0.000000  0.000000  0.000000  0.000000   \n",
       "fcosine    33.0  0.012064  0.187902 -0.391448 -0.154911  0.003686  0.134644   \n",
       "frmse      37.0 -0.087868  0.115935 -0.356393 -0.169195 -0.089874 -0.013486   \n",
       "rmse       41.0 -0.167512  0.085402 -0.564211 -0.190104 -0.150833 -0.112119   \n",
       "\n",
       "                  d_inflection                                             \\\n",
       "              max        count      mean        std        min        25%   \n",
       "metric                                                                      \n",
       "behav    0.000000         48.0  0.000000   0.000000   0.000000   0.000000   \n",
       "fcosine  0.468455         33.0 -8.327535  22.044864 -49.823310 -24.719996   \n",
       "frmse    0.237917         37.0 -8.643757  17.253139 -49.473732 -18.001708   \n",
       "rmse    -0.084355         41.0 -2.787064  20.039111 -38.778430 -20.930432   \n",
       "\n",
       "                                         \n",
       "              50%        75%        max  \n",
       "metric                                   \n",
       "behav    0.000000   0.000000   0.000000  \n",
       "fcosine -2.533616   5.249040  39.740921  \n",
       "frmse   -9.763987   5.051197  26.640204  \n",
       "rmse     2.331502  12.127094  29.101226  "
      ]
     },
     "execution_count": 115,
     "metadata": {},
     "output_type": "execute_result"
    }
   ],
   "source": [
    "normalized_df.groupby('metric')[['d_slope', 'd_inflection']].describe()"
   ]
  },
  {
   "cell_type": "code",
   "execution_count": 116,
   "id": "e5e6d2ac",
   "metadata": {},
   "outputs": [
    {
     "data": {
      "text/html": [
       "<div>\n",
       "<style scoped>\n",
       "    .dataframe tbody tr th:only-of-type {\n",
       "        vertical-align: middle;\n",
       "    }\n",
       "\n",
       "    .dataframe tbody tr th {\n",
       "        vertical-align: top;\n",
       "    }\n",
       "\n",
       "    .dataframe thead th {\n",
       "        text-align: right;\n",
       "    }\n",
       "</style>\n",
       "<table border=\"1\" class=\"dataframe\">\n",
       "  <thead>\n",
       "    <tr style=\"text-align: right;\">\n",
       "      <th></th>\n",
       "      <th>d_slope</th>\n",
       "      <th>d_inflection</th>\n",
       "    </tr>\n",
       "    <tr>\n",
       "      <th>metric</th>\n",
       "      <th></th>\n",
       "      <th></th>\n",
       "    </tr>\n",
       "  </thead>\n",
       "  <tbody>\n",
       "    <tr>\n",
       "      <th>behav</th>\n",
       "      <td>0.000000</td>\n",
       "      <td>0.000000</td>\n",
       "    </tr>\n",
       "    <tr>\n",
       "      <th>fcosine</th>\n",
       "      <td>0.003686</td>\n",
       "      <td>-2.533616</td>\n",
       "    </tr>\n",
       "    <tr>\n",
       "      <th>frmse</th>\n",
       "      <td>-0.089874</td>\n",
       "      <td>-9.763987</td>\n",
       "    </tr>\n",
       "    <tr>\n",
       "      <th>rmse</th>\n",
       "      <td>-0.150833</td>\n",
       "      <td>2.331502</td>\n",
       "    </tr>\n",
       "  </tbody>\n",
       "</table>\n",
       "</div>"
      ],
      "text/plain": [
       "          d_slope  d_inflection\n",
       "metric                         \n",
       "behav    0.000000      0.000000\n",
       "fcosine  0.003686     -2.533616\n",
       "frmse   -0.089874     -9.763987\n",
       "rmse    -0.150833      2.331502"
      ]
     },
     "execution_count": 116,
     "metadata": {},
     "output_type": "execute_result"
    }
   ],
   "source": [
    "normalized_df.groupby('metric')[['d_slope', 'd_inflection']].median()"
   ]
  },
  {
   "cell_type": "code",
   "execution_count": 108,
   "id": "580ac528",
   "metadata": {},
   "outputs": [
    {
     "data": {
      "text/plain": [
       "(-0.5, 1.5)"
      ]
     },
     "execution_count": 108,
     "metadata": {},
     "output_type": "execute_result"
    },
    {
     "data": {
      "image/png": "[encoded data removed]",
      "text/plain": [
       "<Figure size 432x288 with 1 Axes>"
      ]
     },
     "metadata": {
      "needs_background": "light"
     },
     "output_type": "display_data"
    }
   ],
   "source": [
    "sns.boxplot(x='metric', y='d_slope', data=normalized_df)\n",
    "plt.ylim([-.5, 1.5])"
   ]
  },
  {
   "cell_type": "code",
   "execution_count": 85,
   "id": "5a50f006",
   "metadata": {},
   "outputs": [
    {
     "data": {
      "text/plain": [
       "<AxesSubplot:xlabel='metric', ylabel='d_inflection'>"
      ]
     },
     "execution_count": 85,
     "metadata": {},
     "output_type": "execute_result"
    },
    {
     "data": {
      "image/png": "[encoded data removed]",
      "text/plain": [
       "<Figure size 432x288 with 1 Axes>"
      ]
     },
     "metadata": {
      "needs_background": "light"
     },
     "output_type": "display_data"
    }
   ],
   "source": [
    "sns.boxplot(x='metric', y='d_inflection', data=normalized_df)\n",
    "# plt.ylim([-.5, 1.5])"
   ]
  },
  {
   "cell_type": "code",
   "execution_count": 120,
   "id": "263e8967",
   "metadata": {},
   "outputs": [
    {
     "name": "stderr",
     "output_type": "stream",
     "text": [
      "/home/shc079/miniconda3/envs/tf2.3gpu/lib/python3.7/site-packages/statsmodels/regression/mixed_linear_model.py:2237: ConvergenceWarning: The MLE may be on the boundary of the parameter space.\n",
      "  warnings.warn(msg, ConvergenceWarning)\n"
     ]
    },
    {
     "data": {
      "text/html": [
       "<table class=\"simpletable\">\n",
       "<tr>\n",
       "       <td>Model:</td>       <td>MixedLM</td> <td>Dependent Variable:</td>  <td>d_slope</td>\n",
       "</tr>\n",
       "<tr>\n",
       "  <td>No. Observations:</td>   <td>159</td>         <td>Method:</td>         <td>REML</td>  \n",
       "</tr>\n",
       "<tr>\n",
       "     <td>No. Groups:</td>       <td>3</td>          <td>Scale:</td>         <td>0.0109</td> \n",
       "</tr>\n",
       "<tr>\n",
       "  <td>Min. group size:</td>    <td>49</td>      <td>Log-Likelihood:</td>   <td>120.3230</td>\n",
       "</tr>\n",
       "<tr>\n",
       "  <td>Max. group size:</td>    <td>59</td>        <td>Converged:</td>         <td>Yes</td>  \n",
       "</tr>\n",
       "<tr>\n",
       "  <td>Mean group size:</td>   <td>53.0</td>            <td></td>               <td></td>    \n",
       "</tr>\n",
       "</table>\n",
       "<table class=\"simpletable\">\n",
       "<tr>\n",
       "                      <td></td>                      <th>Coef.</th> <th>Std.Err.</th>    <th>z</th>   <th>P>|z|</th> <th>[0.025</th> <th>0.975]</th>\n",
       "</tr>\n",
       "<tr>\n",
       "  <th>Intercept</th>                                <td>-0.000</td>   <td>0.030</td>  <td>-0.000</td> <td>1.000</td> <td>-0.058</td>  <td>0.058</td>\n",
       "</tr>\n",
       "<tr>\n",
       "  <th>C(metric, Treatment('behav'))[T.fcosine]</th>  <td>0.011</td>   <td>0.024</td>   <td>0.464</td> <td>0.642</td> <td>-0.035</td>  <td>0.057</td>\n",
       "</tr>\n",
       "<tr>\n",
       "  <th>C(metric, Treatment('behav'))[T.frmse]</th>   <td>-0.091</td>   <td>0.023</td>  <td>-3.964</td> <td>0.000</td> <td>-0.136</td> <td>-0.046</td>\n",
       "</tr>\n",
       "<tr>\n",
       "  <th>C(metric, Treatment('behav'))[T.rmse]</th>    <td>-0.171</td>   <td>0.022</td>  <td>-7.701</td> <td>0.000</td> <td>-0.215</td> <td>-0.128</td>\n",
       "</tr>\n",
       "<tr>\n",
       "  <th>group Var</th>                                 <td>0.002</td>   <td>0.021</td>     <td></td>      <td></td>       <td></td>       <td></td>   \n",
       "</tr>\n",
       "</table>"
      ],
      "text/plain": [
       "<class 'statsmodels.iolib.summary2.Summary'>\n",
       "\"\"\"\n",
       "                       Mixed Linear Model Regression Results\n",
       "===================================================================================\n",
       "Model:                       MixedLM          Dependent Variable:          d_slope \n",
       "No. Observations:            159              Method:                      REML    \n",
       "No. Groups:                  3                Scale:                       0.0109  \n",
       "Min. group size:             49               Log-Likelihood:              120.3230\n",
       "Max. group size:             59               Converged:                   Yes     \n",
       "Mean group size:             53.0                                                  \n",
       "-----------------------------------------------------------------------------------\n",
       "                                         Coef.  Std.Err.   z    P>|z| [0.025 0.975]\n",
       "-----------------------------------------------------------------------------------\n",
       "Intercept                                -0.000    0.030 -0.000 1.000 -0.058  0.058\n",
       "C(metric, Treatment('behav'))[T.fcosine]  0.011    0.024  0.464 0.642 -0.035  0.057\n",
       "C(metric, Treatment('behav'))[T.frmse]   -0.091    0.023 -3.964 0.000 -0.136 -0.046\n",
       "C(metric, Treatment('behav'))[T.rmse]    -0.171    0.022 -7.701 0.000 -0.215 -0.128\n",
       "group Var                                 0.002    0.021                           \n",
       "===================================================================================\n",
       "\n",
       "\"\"\""
      ]
     },
     "execution_count": 120,
     "metadata": {},
     "output_type": "execute_result"
    }
   ],
   "source": [
    "model = smf.mixedlm(\"d_slope ~ C(metric, Treatment('behav'))\",\n",
    "                    normalized_df,\n",
    "                    groups= \"group\").fit()\n",
    "\n",
    "model.summary()"
   ]
  },
  {
   "cell_type": "code",
   "execution_count": 121,
   "id": "6cc1ce15",
   "metadata": {},
   "outputs": [
    {
     "data": {
      "text/html": [
       "<table class=\"simpletable\">\n",
       "<tr>\n",
       "       <td>Model:</td>       <td>MixedLM</td> <td>Dependent Variable:</td> <td>d_inflection</td>\n",
       "</tr>\n",
       "<tr>\n",
       "  <td>No. Observations:</td>   <td>159</td>         <td>Method:</td>           <td>REML</td>    \n",
       "</tr>\n",
       "<tr>\n",
       "     <td>No. Groups:</td>       <td>3</td>          <td>Scale:</td>          <td>261.7021</td>  \n",
       "</tr>\n",
       "<tr>\n",
       "  <td>Min. group size:</td>    <td>49</td>      <td>Log-Likelihood:</td>     <td>-660.2101</td> \n",
       "</tr>\n",
       "<tr>\n",
       "  <td>Max. group size:</td>    <td>59</td>        <td>Converged:</td>           <td>Yes</td>    \n",
       "</tr>\n",
       "<tr>\n",
       "  <td>Mean group size:</td>   <td>53.0</td>            <td></td>                 <td></td>      \n",
       "</tr>\n",
       "</table>\n",
       "<table class=\"simpletable\">\n",
       "<tr>\n",
       "                      <td></td>                      <th>Coef.</th> <th>Std.Err.</th>    <th>z</th>   <th>P>|z|</th> <th>[0.025</th>  <th>0.975]</th>\n",
       "</tr>\n",
       "<tr>\n",
       "  <th>Intercept</th>                                 <td>0.000</td>   <td>3.317</td>   <td>0.000</td> <td>1.000</td> <td>-6.501</td>   <td>6.501</td>\n",
       "</tr>\n",
       "<tr>\n",
       "  <th>C(metric, Treatment('behav'))[T.fcosine]</th> <td>-8.544</td>   <td>3.660</td>  <td>-2.335</td> <td>0.020</td> <td>-15.717</td> <td>-1.371</td>\n",
       "</tr>\n",
       "<tr>\n",
       "  <th>C(metric, Treatment('behav'))[T.frmse]</th>   <td>-9.123</td>   <td>3.547</td>  <td>-2.572</td> <td>0.010</td> <td>-16.075</td> <td>-2.172</td>\n",
       "</tr>\n",
       "<tr>\n",
       "  <th>C(metric, Treatment('behav'))[T.rmse]</th>    <td>-3.033</td>   <td>3.444</td>  <td>-0.881</td> <td>0.378</td> <td>-9.783</td>   <td>3.716</td>\n",
       "</tr>\n",
       "<tr>\n",
       "  <th>group Var</th>                                <td>16.652</td>   <td>1.343</td>     <td></td>      <td></td>       <td></td>        <td></td>   \n",
       "</tr>\n",
       "</table>"
      ],
      "text/plain": [
       "<class 'statsmodels.iolib.summary2.Summary'>\n",
       "\"\"\"\n",
       "                       Mixed Linear Model Regression Results\n",
       "====================================================================================\n",
       "Model:                      MixedLM         Dependent Variable:         d_inflection\n",
       "No. Observations:           159             Method:                     REML        \n",
       "No. Groups:                 3               Scale:                      261.7021    \n",
       "Min. group size:            49              Log-Likelihood:             -660.2101   \n",
       "Max. group size:            59              Converged:                  Yes         \n",
       "Mean group size:            53.0                                                    \n",
       "------------------------------------------------------------------------------------\n",
       "                                         Coef.  Std.Err.   z    P>|z|  [0.025 0.975]\n",
       "------------------------------------------------------------------------------------\n",
       "Intercept                                 0.000    3.317  0.000 1.000  -6.501  6.501\n",
       "C(metric, Treatment('behav'))[T.fcosine] -8.544    3.660 -2.335 0.020 -15.717 -1.371\n",
       "C(metric, Treatment('behav'))[T.frmse]   -9.123    3.547 -2.572 0.010 -16.075 -2.172\n",
       "C(metric, Treatment('behav'))[T.rmse]    -3.033    3.444 -0.881 0.378  -9.783  3.716\n",
       "group Var                                16.652    1.343                            \n",
       "====================================================================================\n",
       "\n",
       "\"\"\""
      ]
     },
     "execution_count": 121,
     "metadata": {},
     "output_type": "execute_result"
    }
   ],
   "source": [
    "model = smf.mixedlm(\"d_inflection ~ C(metric, Treatment('behav'))\",\n",
    "                    normalized_df,\n",
    "                    groups= \"group\").fit()\n",
    "\n",
    "model.summary()"
   ]
  },
  {
   "cell_type": "code",
   "execution_count": null,
   "id": "82e35f3f",
   "metadata": {},
   "outputs": [],
   "source": []
  }
 ],
 "metadata": {
  "kernelspec": {
   "display_name": "Python 3",
   "language": "python",
   "name": "python3"
  },
  "language_info": {
   "codemirror_mode": {
    "name": "ipython",
    "version": 3
   },
   "file_extension": ".py",
   "mimetype": "text/x-python",
   "name": "python",
   "nbconvert_exporter": "python",
   "pygments_lexer": "ipython3",
   "version": "3.7.10"
  }
 },
 "nbformat": 4,
 "nbformat_minor": 5
}
