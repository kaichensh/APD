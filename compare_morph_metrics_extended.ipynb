{
 "cells": [
  {
   "cell_type": "code",
   "execution_count": 1,
   "id": "e24fde53",
   "metadata": {},
   "outputs": [],
   "source": [
    "gpus = [1]\n",
    "import os\n",
    "os.environ['CUDA_VISIBLE_DEVICES']=','.join([str(i) for i in gpus])\n",
    "import tensorflow as tf\n",
    "# tf.enable_eager_execution()\n",
    "import pandas as pd\n",
    "import numpy as np\n",
    "import matplotlib.pyplot as plt\n",
    "import random\n",
    "from glob import glob\n",
    "import pickle\n",
    "from tensorflow.keras import layers, Sequential, datasets, models, losses, Model, Input\n",
    "from tensorflow.keras.callbacks import EarlyStopping, ModelCheckpoint\n",
    "from tensorflow.keras.optimizers import Adam\n",
    "from sklearn.model_selection import train_test_split\n",
    "import datetime\n",
    "import sys\n",
    "from tensorflow.keras.backend import clear_session\n",
    "from trainingfuncs import *\n",
    "from math_utils import *\n",
    "from utils import *\n",
    "from scipy.spatial import distance\n",
    "import seaborn as sns\n",
    "import umap"
   ]
  },
  {
   "cell_type": "code",
   "execution_count": 2,
   "id": "03630af6",
   "metadata": {},
   "outputs": [],
   "source": [
    "sys.path.append(\"..\") # Adds higher directory to python modules path.\n",
    "from helpers.dataset_vars import *\n",
    "from helpers.myclasses import *"
   ]
  },
  {
   "cell_type": "code",
   "execution_count": 4,
   "id": "657b13e2",
   "metadata": {},
   "outputs": [],
   "source": [
    "morph_folder = os.path.abspath('/mnt/cube/kai/repositories/morphs/data/stimuli')\n",
    "\n",
    "results_folder = os.path.abspath('/mnt/cube/kai/results/perceptual_loss/morph')\n",
    "spec_file = os.path.join(morph_folder, 'specs_star.p')"
   ]
  },
  {
   "cell_type": "markdown",
   "id": "310c7475",
   "metadata": {},
   "source": [
    "# load all dfs"
   ]
  },
  {
   "cell_type": "code",
   "execution_count": 88,
   "id": "d7836ce8",
   "metadata": {},
   "outputs": [],
   "source": [
    "all_pred = pickle.load(open(os.path.join(results_folder, 'extended', 'all_predicted.p'), 'rb'))\n",
    "group1_behav = pickle.load(open(os.path.join(results_folder, 'group1_behav_agg.p'), 'rb'))\n",
    "group2_behav = pickle.load(open(os.path.join(results_folder, 'group2_behav_agg.p'), 'rb'))\n",
    "group3_behav = pickle.load(open(os.path.join(results_folder, 'group3_behav_agg.p'), 'rb'))"
   ]
  },
  {
   "cell_type": "code",
   "execution_count": 89,
   "id": "2f3dbc13",
   "metadata": {},
   "outputs": [],
   "source": [
    "all_groups = pd.concat([all_pred,\n",
    "                       group1_behav, group2_behav, group3_behav]).reset_index(drop=True)"
   ]
  },
  {
   "cell_type": "code",
   "execution_count": 90,
   "id": "15edd196",
   "metadata": {},
   "outputs": [
    {
     "data": {
      "text/html": [
       "<div>\n",
       "<style scoped>\n",
       "    .dataframe tbody tr th:only-of-type {\n",
       "        vertical-align: middle;\n",
       "    }\n",
       "\n",
       "    .dataframe tbody tr th {\n",
       "        vertical-align: top;\n",
       "    }\n",
       "\n",
       "    .dataframe thead th {\n",
       "        text-align: right;\n",
       "    }\n",
       "</style>\n",
       "<table border=\"1\" class=\"dataframe\">\n",
       "  <thead>\n",
       "    <tr style=\"text-align: right;\">\n",
       "      <th></th>\n",
       "      <th>index</th>\n",
       "      <th>min_val</th>\n",
       "      <th>max_val</th>\n",
       "      <th>slope</th>\n",
       "      <th>inflection</th>\n",
       "      <th>group</th>\n",
       "      <th>metric</th>\n",
       "    </tr>\n",
       "  </thead>\n",
       "  <tbody>\n",
       "    <tr>\n",
       "      <th>0</th>\n",
       "      <td>af</td>\n",
       "      <td>1.000000e-16</td>\n",
       "      <td>0.958480</td>\n",
       "      <td>0.021558</td>\n",
       "      <td>61.000512</td>\n",
       "      <td>Group 1</td>\n",
       "      <td>rmse</td>\n",
       "    </tr>\n",
       "    <tr>\n",
       "      <th>1</th>\n",
       "      <td>ag</td>\n",
       "      <td>1.000000e-16</td>\n",
       "      <td>0.976493</td>\n",
       "      <td>0.029138</td>\n",
       "      <td>52.000103</td>\n",
       "      <td>Group 1</td>\n",
       "      <td>rmse</td>\n",
       "    </tr>\n",
       "    <tr>\n",
       "      <th>2</th>\n",
       "      <td>ah</td>\n",
       "      <td>1.500527e-01</td>\n",
       "      <td>0.802789</td>\n",
       "      <td>0.032490</td>\n",
       "      <td>54.001817</td>\n",
       "      <td>Group 1</td>\n",
       "      <td>rmse</td>\n",
       "    </tr>\n",
       "    <tr>\n",
       "      <th>3</th>\n",
       "      <td>be</td>\n",
       "      <td>1.535884e-01</td>\n",
       "      <td>1.000000</td>\n",
       "      <td>0.046353</td>\n",
       "      <td>87.584029</td>\n",
       "      <td>Group 1</td>\n",
       "      <td>rmse</td>\n",
       "    </tr>\n",
       "    <tr>\n",
       "      <th>4</th>\n",
       "      <td>bf</td>\n",
       "      <td>1.958787e-01</td>\n",
       "      <td>0.981050</td>\n",
       "      <td>0.042703</td>\n",
       "      <td>92.274811</td>\n",
       "      <td>Group 1</td>\n",
       "      <td>rmse</td>\n",
       "    </tr>\n",
       "  </tbody>\n",
       "</table>\n",
       "</div>"
      ],
      "text/plain": [
       "  index       min_val   max_val     slope  inflection    group metric\n",
       "0    af  1.000000e-16  0.958480  0.021558   61.000512  Group 1   rmse\n",
       "1    ag  1.000000e-16  0.976493  0.029138   52.000103  Group 1   rmse\n",
       "2    ah  1.500527e-01  0.802789  0.032490   54.001817  Group 1   rmse\n",
       "3    be  1.535884e-01  1.000000  0.046353   87.584029  Group 1   rmse\n",
       "4    bf  1.958787e-01  0.981050  0.042703   92.274811  Group 1   rmse"
      ]
     },
     "execution_count": 90,
     "metadata": {},
     "output_type": "execute_result"
    }
   ],
   "source": [
    "all_groups.head()"
   ]
  },
  {
   "cell_type": "code",
   "execution_count": 91,
   "id": "16b73830",
   "metadata": {},
   "outputs": [
    {
     "data": {
      "text/plain": [
       "(0.0, 1.0)"
      ]
     },
     "execution_count": 91,
     "metadata": {},
     "output_type": "execute_result"
    },
    {
     "data": {
      "image/png": "[encoded data removed]",
      "text/plain": [
       "<Figure size 432x288 with 1 Axes>"
      ]
     },
     "metadata": {
      "needs_background": "light"
     },
     "output_type": "display_data"
    }
   ],
   "source": [
    "ax = sns.boxplot(y='slope', x='metric',data=all_groups)\n",
    "ax.set_ylim([0,1])"
   ]
  },
  {
   "cell_type": "code",
   "execution_count": 92,
   "id": "07aad097",
   "metadata": {},
   "outputs": [
    {
     "data": {
      "image/png": "[encoded data removed]",
      "text/plain": [
       "<Figure size 432x288 with 1 Axes>"
      ]
     },
     "metadata": {
      "needs_background": "light"
     },
     "output_type": "display_data"
    }
   ],
   "source": [
    "ax = sns.boxplot(y='inflection', x='metric',data=all_groups)"
   ]
  },
  {
   "cell_type": "markdown",
   "id": "ef8cac29",
   "metadata": {},
   "source": [
    "# separate by group"
   ]
  },
  {
   "cell_type": "code",
   "execution_count": 93,
   "id": "debe356b",
   "metadata": {},
   "outputs": [],
   "source": [
    "groups = ['Group 1', 'Group 2', 'Group 3']"
   ]
  },
  {
   "cell_type": "code",
   "execution_count": 94,
   "id": "2c55fb5e",
   "metadata": {},
   "outputs": [
    {
     "data": {
      "image/png": "[encoded data removed]",
      "text/plain": [
       "<Figure size 576x864 with 3 Axes>"
      ]
     },
     "metadata": {
      "needs_background": "light"
     },
     "output_type": "display_data"
    }
   ],
   "source": [
    "fig, ax = plt.subplots(3, 1, figsize=(8, 12))\n",
    "for i, group in enumerate(groups):\n",
    "    sns.boxplot(y='slope', x='metric',data=all_groups[all_groups.group==group], ax=ax[i])\n",
    "    ax[i].set_ylim([0,1])"
   ]
  },
  {
   "cell_type": "code",
   "execution_count": 95,
   "id": "657604cc",
   "metadata": {},
   "outputs": [
    {
     "data": {
      "image/png": "[encoded data removed]",
      "text/plain": [
       "<Figure size 576x864 with 3 Axes>"
      ]
     },
     "metadata": {
      "needs_background": "light"
     },
     "output_type": "display_data"
    }
   ],
   "source": [
    "fig, ax = plt.subplots(3, 1, figsize=(8, 12))\n",
    "for i, group in enumerate(groups):\n",
    "    sns.boxplot(y='inflection', x='metric',data=all_groups[all_groups.group==group], ax=ax[i])"
   ]
  },
  {
   "cell_type": "code",
   "execution_count": 96,
   "id": "843dc074",
   "metadata": {},
   "outputs": [],
   "source": [
    "import statsmodels.formula.api as smf"
   ]
  },
  {
   "cell_type": "code",
   "execution_count": 97,
   "id": "7885e938",
   "metadata": {},
   "outputs": [
    {
     "data": {
      "text/html": [
       "<div>\n",
       "<style scoped>\n",
       "    .dataframe tbody tr th:only-of-type {\n",
       "        vertical-align: middle;\n",
       "    }\n",
       "\n",
       "    .dataframe tbody tr th {\n",
       "        vertical-align: top;\n",
       "    }\n",
       "\n",
       "    .dataframe thead th {\n",
       "        text-align: right;\n",
       "    }\n",
       "</style>\n",
       "<table border=\"1\" class=\"dataframe\">\n",
       "  <thead>\n",
       "    <tr style=\"text-align: right;\">\n",
       "      <th></th>\n",
       "      <th>index</th>\n",
       "      <th>min_val</th>\n",
       "      <th>max_val</th>\n",
       "      <th>slope</th>\n",
       "      <th>inflection</th>\n",
       "      <th>group</th>\n",
       "      <th>metric</th>\n",
       "    </tr>\n",
       "  </thead>\n",
       "  <tbody>\n",
       "    <tr>\n",
       "      <th>0</th>\n",
       "      <td>af</td>\n",
       "      <td>1.000000e-16</td>\n",
       "      <td>0.958480</td>\n",
       "      <td>0.021558</td>\n",
       "      <td>61.000512</td>\n",
       "      <td>Group 1</td>\n",
       "      <td>rmse</td>\n",
       "    </tr>\n",
       "    <tr>\n",
       "      <th>1</th>\n",
       "      <td>ag</td>\n",
       "      <td>1.000000e-16</td>\n",
       "      <td>0.976493</td>\n",
       "      <td>0.029138</td>\n",
       "      <td>52.000103</td>\n",
       "      <td>Group 1</td>\n",
       "      <td>rmse</td>\n",
       "    </tr>\n",
       "    <tr>\n",
       "      <th>2</th>\n",
       "      <td>ah</td>\n",
       "      <td>1.500527e-01</td>\n",
       "      <td>0.802789</td>\n",
       "      <td>0.032490</td>\n",
       "      <td>54.001817</td>\n",
       "      <td>Group 1</td>\n",
       "      <td>rmse</td>\n",
       "    </tr>\n",
       "    <tr>\n",
       "      <th>3</th>\n",
       "      <td>be</td>\n",
       "      <td>1.535884e-01</td>\n",
       "      <td>1.000000</td>\n",
       "      <td>0.046353</td>\n",
       "      <td>87.584029</td>\n",
       "      <td>Group 1</td>\n",
       "      <td>rmse</td>\n",
       "    </tr>\n",
       "    <tr>\n",
       "      <th>4</th>\n",
       "      <td>bf</td>\n",
       "      <td>1.958787e-01</td>\n",
       "      <td>0.981050</td>\n",
       "      <td>0.042703</td>\n",
       "      <td>92.274811</td>\n",
       "      <td>Group 1</td>\n",
       "      <td>rmse</td>\n",
       "    </tr>\n",
       "  </tbody>\n",
       "</table>\n",
       "</div>"
      ],
      "text/plain": [
       "  index       min_val   max_val     slope  inflection    group metric\n",
       "0    af  1.000000e-16  0.958480  0.021558   61.000512  Group 1   rmse\n",
       "1    ag  1.000000e-16  0.976493  0.029138   52.000103  Group 1   rmse\n",
       "2    ah  1.500527e-01  0.802789  0.032490   54.001817  Group 1   rmse\n",
       "3    be  1.535884e-01  1.000000  0.046353   87.584029  Group 1   rmse\n",
       "4    bf  1.958787e-01  0.981050  0.042703   92.274811  Group 1   rmse"
      ]
     },
     "execution_count": 97,
     "metadata": {},
     "output_type": "execute_result"
    }
   ],
   "source": [
    "all_groups.head()"
   ]
  },
  {
   "cell_type": "code",
   "execution_count": 98,
   "id": "105505cf",
   "metadata": {},
   "outputs": [
    {
     "name": "stderr",
     "output_type": "stream",
     "text": [
      "/home/shc079/miniconda3/envs/tf2.3gpu/lib/python3.7/site-packages/statsmodels/regression/mixed_linear_model.py:2237: ConvergenceWarning: The MLE may be on the boundary of the parameter space.\n",
      "  warnings.warn(msg, ConvergenceWarning)\n"
     ]
    },
    {
     "data": {
      "text/html": [
       "<table class=\"simpletable\">\n",
       "<tr>\n",
       "       <td>Model:</td>       <td>MixedLM</td> <td>Dependent Variable:</td>   <td>slope</td>  \n",
       "</tr>\n",
       "<tr>\n",
       "  <td>No. Observations:</td>   <td>186</td>         <td>Method:</td>         <td>REML</td>   \n",
       "</tr>\n",
       "<tr>\n",
       "     <td>No. Groups:</td>       <td>3</td>          <td>Scale:</td>         <td>2.5437</td>  \n",
       "</tr>\n",
       "<tr>\n",
       "  <td>Min. group size:</td>    <td>61</td>      <td>Log-Likelihood:</td>   <td>-350.9542</td>\n",
       "</tr>\n",
       "<tr>\n",
       "  <td>Max. group size:</td>    <td>64</td>        <td>Converged:</td>         <td>Yes</td>   \n",
       "</tr>\n",
       "<tr>\n",
       "  <td>Mean group size:</td>   <td>62.0</td>            <td></td>               <td></td>     \n",
       "</tr>\n",
       "</table>\n",
       "<table class=\"simpletable\">\n",
       "<tr>\n",
       "                      <td></td>                      <th>Coef.</th> <th>Std.Err.</th>    <th>z</th>   <th>P>|z|</th> <th>[0.025</th> <th>0.975]</th>\n",
       "</tr>\n",
       "<tr>\n",
       "  <th>Intercept</th>                                 <td>0.209</td>   <td>0.232</td>   <td>0.898</td> <td>0.369</td> <td>-0.247</td>  <td>0.664</td>\n",
       "</tr>\n",
       "<tr>\n",
       "  <th>C(metric, Treatment('behav'))[T.fcosine]</th>  <td>0.657</td>   <td>0.329</td>   <td>1.996</td> <td>0.046</td>  <td>0.012</td>  <td>1.302</td>\n",
       "</tr>\n",
       "<tr>\n",
       "  <th>C(metric, Treatment('behav'))[T.frmse]</th>   <td>-0.121</td>   <td>0.329</td>  <td>-0.368</td> <td>0.713</td> <td>-0.766</td>  <td>0.524</td>\n",
       "</tr>\n",
       "<tr>\n",
       "  <th>C(metric, Treatment('behav'))[T.rmse]</th>    <td>-0.171</td>   <td>0.329</td>  <td>-0.519</td> <td>0.604</td> <td>-0.816</td>  <td>0.474</td>\n",
       "</tr>\n",
       "<tr>\n",
       "  <th>group Var</th>                                 <td>0.003</td>   <td>0.028</td>     <td></td>      <td></td>       <td></td>       <td></td>   \n",
       "</tr>\n",
       "</table>"
      ],
      "text/plain": [
       "<class 'statsmodels.iolib.summary2.Summary'>\n",
       "\"\"\"\n",
       "                       Mixed Linear Model Regression Results\n",
       "===================================================================================\n",
       "Model:                      MixedLM          Dependent Variable:          slope    \n",
       "No. Observations:           186              Method:                      REML     \n",
       "No. Groups:                 3                Scale:                       2.5437   \n",
       "Min. group size:            61               Log-Likelihood:              -350.9542\n",
       "Max. group size:            64               Converged:                   Yes      \n",
       "Mean group size:            62.0                                                   \n",
       "-----------------------------------------------------------------------------------\n",
       "                                         Coef.  Std.Err.   z    P>|z| [0.025 0.975]\n",
       "-----------------------------------------------------------------------------------\n",
       "Intercept                                 0.209    0.232  0.898 0.369 -0.247  0.664\n",
       "C(metric, Treatment('behav'))[T.fcosine]  0.657    0.329  1.996 0.046  0.012  1.302\n",
       "C(metric, Treatment('behav'))[T.frmse]   -0.121    0.329 -0.368 0.713 -0.766  0.524\n",
       "C(metric, Treatment('behav'))[T.rmse]    -0.171    0.329 -0.519 0.604 -0.816  0.474\n",
       "group Var                                 0.003    0.028                           \n",
       "===================================================================================\n",
       "\n",
       "\"\"\""
      ]
     },
     "execution_count": 98,
     "metadata": {},
     "output_type": "execute_result"
    }
   ],
   "source": [
    "model = smf.mixedlm(\"slope ~ C(metric, Treatment('behav')) \",\n",
    "                    all_groups,\n",
    "                    groups= \"group\").fit()\n",
    "\n",
    "model.summary()"
   ]
  },
  {
   "cell_type": "code",
   "execution_count": 99,
   "id": "08ccfbcd",
   "metadata": {},
   "outputs": [
    {
     "data": {
      "text/html": [
       "<table class=\"simpletable\">\n",
       "<tr>\n",
       "       <td>Model:</td>       <td>MixedLM</td> <td>Dependent Variable:</td> <td>inflection</td>\n",
       "</tr>\n",
       "<tr>\n",
       "  <td>No. Observations:</td>   <td>186</td>         <td>Method:</td>          <td>REML</td>   \n",
       "</tr>\n",
       "<tr>\n",
       "     <td>No. Groups:</td>       <td>3</td>          <td>Scale:</td>         <td>383.0198</td> \n",
       "</tr>\n",
       "<tr>\n",
       "  <td>Min. group size:</td>    <td>61</td>      <td>Log-Likelihood:</td>    <td>-808.1688</td>\n",
       "</tr>\n",
       "<tr>\n",
       "  <td>Max. group size:</td>    <td>64</td>        <td>Converged:</td>          <td>Yes</td>   \n",
       "</tr>\n",
       "<tr>\n",
       "  <td>Mean group size:</td>   <td>62.0</td>            <td></td>                <td></td>     \n",
       "</tr>\n",
       "</table>\n",
       "<table class=\"simpletable\">\n",
       "<tr>\n",
       "                      <td></td>                      <th>Coef.</th> <th>Std.Err.</th>    <th>z</th>   <th>P>|z|</th> <th>[0.025</th>  <th>0.975]</th>\n",
       "</tr>\n",
       "<tr>\n",
       "  <th>Intercept</th>                                <td>64.139</td>   <td>3.368</td>  <td>19.046</td> <td>0.000</td> <td>57.539</td>  <td>70.739</td>\n",
       "</tr>\n",
       "<tr>\n",
       "  <th>C(metric, Treatment('behav'))[T.fcosine]</th> <td>-6.549</td>   <td>4.038</td>  <td>-1.622</td> <td>0.105</td> <td>-14.464</td>  <td>1.366</td>\n",
       "</tr>\n",
       "<tr>\n",
       "  <th>C(metric, Treatment('behav'))[T.frmse]</th>   <td>-8.944</td>   <td>4.038</td>  <td>-2.215</td> <td>0.027</td> <td>-16.859</td> <td>-1.029</td>\n",
       "</tr>\n",
       "<tr>\n",
       "  <th>C(metric, Treatment('behav'))[T.rmse]</th>    <td>-2.960</td>   <td>4.038</td>  <td>-0.733</td> <td>0.464</td> <td>-10.875</td>  <td>4.955</td>\n",
       "</tr>\n",
       "<tr>\n",
       "  <th>group Var</th>                                <td>10.083</td>   <td>0.836</td>     <td></td>      <td></td>       <td></td>        <td></td>   \n",
       "</tr>\n",
       "</table>"
      ],
      "text/plain": [
       "<class 'statsmodels.iolib.summary2.Summary'>\n",
       "\"\"\"\n",
       "                       Mixed Linear Model Regression Results\n",
       "====================================================================================\n",
       "Model:                      MixedLM          Dependent Variable:          inflection\n",
       "No. Observations:           186              Method:                      REML      \n",
       "No. Groups:                 3                Scale:                       383.0198  \n",
       "Min. group size:            61               Log-Likelihood:              -808.1688 \n",
       "Max. group size:            64               Converged:                   Yes       \n",
       "Mean group size:            62.0                                                    \n",
       "------------------------------------------------------------------------------------\n",
       "                                         Coef.  Std.Err.   z    P>|z|  [0.025 0.975]\n",
       "------------------------------------------------------------------------------------\n",
       "Intercept                                64.139    3.368 19.046 0.000  57.539 70.739\n",
       "C(metric, Treatment('behav'))[T.fcosine] -6.549    4.038 -1.622 0.105 -14.464  1.366\n",
       "C(metric, Treatment('behav'))[T.frmse]   -8.944    4.038 -2.215 0.027 -16.859 -1.029\n",
       "C(metric, Treatment('behav'))[T.rmse]    -2.960    4.038 -0.733 0.464 -10.875  4.955\n",
       "group Var                                10.083    0.836                            \n",
       "====================================================================================\n",
       "\n",
       "\"\"\""
      ]
     },
     "execution_count": 99,
     "metadata": {},
     "output_type": "execute_result"
    }
   ],
   "source": [
    "model = smf.mixedlm(\"inflection ~ C(metric, Treatment('behav')) \",\n",
    "                    all_groups,\n",
    "                    groups= \"group\").fit()\n",
    "\n",
    "model.summary()"
   ]
  },
  {
   "cell_type": "code",
   "execution_count": 100,
   "id": "0ba94154",
   "metadata": {},
   "outputs": [
    {
     "data": {
      "text/html": [
       "<div>\n",
       "<style scoped>\n",
       "    .dataframe tbody tr th:only-of-type {\n",
       "        vertical-align: middle;\n",
       "    }\n",
       "\n",
       "    .dataframe tbody tr th {\n",
       "        vertical-align: top;\n",
       "    }\n",
       "\n",
       "    .dataframe thead th {\n",
       "        text-align: right;\n",
       "    }\n",
       "</style>\n",
       "<table border=\"1\" class=\"dataframe\">\n",
       "  <thead>\n",
       "    <tr style=\"text-align: right;\">\n",
       "      <th></th>\n",
       "      <th>index</th>\n",
       "      <th>min_val</th>\n",
       "      <th>max_val</th>\n",
       "      <th>slope</th>\n",
       "      <th>inflection</th>\n",
       "      <th>group</th>\n",
       "      <th>metric</th>\n",
       "    </tr>\n",
       "  </thead>\n",
       "  <tbody>\n",
       "    <tr>\n",
       "      <th>181</th>\n",
       "      <td>eh</td>\n",
       "      <td>0.028613</td>\n",
       "      <td>0.944226</td>\n",
       "      <td>0.179967</td>\n",
       "      <td>78.281169</td>\n",
       "      <td>Group 3</td>\n",
       "      <td>behav</td>\n",
       "    </tr>\n",
       "    <tr>\n",
       "      <th>182</th>\n",
       "      <td>cf</td>\n",
       "      <td>0.047045</td>\n",
       "      <td>0.882328</td>\n",
       "      <td>0.261025</td>\n",
       "      <td>51.118444</td>\n",
       "      <td>Group 3</td>\n",
       "      <td>behav</td>\n",
       "    </tr>\n",
       "    <tr>\n",
       "      <th>183</th>\n",
       "      <td>df</td>\n",
       "      <td>0.054637</td>\n",
       "      <td>0.939378</td>\n",
       "      <td>0.143298</td>\n",
       "      <td>56.879763</td>\n",
       "      <td>Group 3</td>\n",
       "      <td>behav</td>\n",
       "    </tr>\n",
       "    <tr>\n",
       "      <th>184</th>\n",
       "      <td>fg</td>\n",
       "      <td>0.079391</td>\n",
       "      <td>0.928413</td>\n",
       "      <td>0.580742</td>\n",
       "      <td>78.445336</td>\n",
       "      <td>Group 3</td>\n",
       "      <td>behav</td>\n",
       "    </tr>\n",
       "    <tr>\n",
       "      <th>185</th>\n",
       "      <td>fh</td>\n",
       "      <td>0.063133</td>\n",
       "      <td>0.932895</td>\n",
       "      <td>0.194440</td>\n",
       "      <td>68.749459</td>\n",
       "      <td>Group 3</td>\n",
       "      <td>behav</td>\n",
       "    </tr>\n",
       "  </tbody>\n",
       "</table>\n",
       "</div>"
      ],
      "text/plain": [
       "    index   min_val   max_val     slope  inflection    group metric\n",
       "181    eh  0.028613  0.944226  0.179967   78.281169  Group 3  behav\n",
       "182    cf  0.047045  0.882328  0.261025   51.118444  Group 3  behav\n",
       "183    df  0.054637  0.939378  0.143298   56.879763  Group 3  behav\n",
       "184    fg  0.079391  0.928413  0.580742   78.445336  Group 3  behav\n",
       "185    fh  0.063133  0.932895  0.194440   68.749459  Group 3  behav"
      ]
     },
     "execution_count": 100,
     "metadata": {},
     "output_type": "execute_result"
    }
   ],
   "source": [
    "all_groups.tail()"
   ]
  },
  {
   "cell_type": "markdown",
   "id": "ca304f8a",
   "metadata": {},
   "source": [
    "# compare mean"
   ]
  },
  {
   "cell_type": "code",
   "execution_count": 101,
   "id": "922763f1",
   "metadata": {},
   "outputs": [],
   "source": [
    "def subtract_behav(group_behav, item):\n",
    "    def _subtract_behav(x):\n",
    "        try:\n",
    "            return x[item]-group_behav[item][x['index']]\n",
    "        except:\n",
    "            return NaN\n",
    "    return _subtract_behav"
   ]
  },
  {
   "cell_type": "code",
   "execution_count": 102,
   "id": "60b4cf27",
   "metadata": {},
   "outputs": [],
   "source": [
    "normalized_df = pd.DataFrame()\n",
    "for group in ['Group 1', 'Group 2', 'Group 3']:\n",
    "    group_df = all_groups[all_groups.group==group].reset_index(drop=True)\n",
    "    group_behav = group_df[group_df.metric=='behav'][['index', 'slope', 'inflection']].set_index('index').T.to_dict('index')\n",
    "    group_df['d_slope'] = group_df.apply(lambda x: subtract_behav(group_behav, 'slope')(x), axis=1)\n",
    "    group_df['d_inflection'] = group_df.apply(lambda x: subtract_behav(group_behav, 'inflection')(x), axis=1)\n",
    "    normalized_df = pd.concat([normalized_df, group_df]).reset_index(drop=True)"
   ]
  },
  {
   "cell_type": "code",
   "execution_count": 103,
   "id": "1f729564",
   "metadata": {},
   "outputs": [
    {
     "data": {
      "text/html": [
       "<div>\n",
       "<style scoped>\n",
       "    .dataframe tbody tr th:only-of-type {\n",
       "        vertical-align: middle;\n",
       "    }\n",
       "\n",
       "    .dataframe tbody tr th {\n",
       "        vertical-align: top;\n",
       "    }\n",
       "\n",
       "    .dataframe thead th {\n",
       "        text-align: right;\n",
       "    }\n",
       "</style>\n",
       "<table border=\"1\" class=\"dataframe\">\n",
       "  <thead>\n",
       "    <tr style=\"text-align: right;\">\n",
       "      <th></th>\n",
       "      <th>index</th>\n",
       "      <th>min_val</th>\n",
       "      <th>max_val</th>\n",
       "      <th>slope</th>\n",
       "      <th>inflection</th>\n",
       "      <th>group</th>\n",
       "      <th>metric</th>\n",
       "      <th>d_slope</th>\n",
       "      <th>d_inflection</th>\n",
       "    </tr>\n",
       "  </thead>\n",
       "  <tbody>\n",
       "    <tr>\n",
       "      <th>0</th>\n",
       "      <td>af</td>\n",
       "      <td>1.000000e-16</td>\n",
       "      <td>0.958480</td>\n",
       "      <td>0.021558</td>\n",
       "      <td>61.000512</td>\n",
       "      <td>Group 1</td>\n",
       "      <td>rmse</td>\n",
       "      <td>-0.093799</td>\n",
       "      <td>4.664402</td>\n",
       "    </tr>\n",
       "    <tr>\n",
       "      <th>1</th>\n",
       "      <td>ag</td>\n",
       "      <td>1.000000e-16</td>\n",
       "      <td>0.976493</td>\n",
       "      <td>0.029138</td>\n",
       "      <td>52.000103</td>\n",
       "      <td>Group 1</td>\n",
       "      <td>rmse</td>\n",
       "      <td>-0.089629</td>\n",
       "      <td>4.097347</td>\n",
       "    </tr>\n",
       "    <tr>\n",
       "      <th>2</th>\n",
       "      <td>ah</td>\n",
       "      <td>1.500527e-01</td>\n",
       "      <td>0.802789</td>\n",
       "      <td>0.032490</td>\n",
       "      <td>54.001817</td>\n",
       "      <td>Group 1</td>\n",
       "      <td>rmse</td>\n",
       "      <td>-0.104190</td>\n",
       "      <td>-14.144366</td>\n",
       "    </tr>\n",
       "    <tr>\n",
       "      <th>3</th>\n",
       "      <td>be</td>\n",
       "      <td>1.535884e-01</td>\n",
       "      <td>1.000000</td>\n",
       "      <td>0.046353</td>\n",
       "      <td>87.584029</td>\n",
       "      <td>Group 1</td>\n",
       "      <td>rmse</td>\n",
       "      <td>-0.122110</td>\n",
       "      <td>21.699011</td>\n",
       "    </tr>\n",
       "    <tr>\n",
       "      <th>4</th>\n",
       "      <td>bf</td>\n",
       "      <td>1.958787e-01</td>\n",
       "      <td>0.981050</td>\n",
       "      <td>0.042703</td>\n",
       "      <td>92.274811</td>\n",
       "      <td>Group 1</td>\n",
       "      <td>rmse</td>\n",
       "      <td>-0.182019</td>\n",
       "      <td>21.071079</td>\n",
       "    </tr>\n",
       "    <tr>\n",
       "      <th>...</th>\n",
       "      <td>...</td>\n",
       "      <td>...</td>\n",
       "      <td>...</td>\n",
       "      <td>...</td>\n",
       "      <td>...</td>\n",
       "      <td>...</td>\n",
       "      <td>...</td>\n",
       "      <td>...</td>\n",
       "      <td>...</td>\n",
       "    </tr>\n",
       "    <tr>\n",
       "      <th>181</th>\n",
       "      <td>eh</td>\n",
       "      <td>2.861325e-02</td>\n",
       "      <td>0.944226</td>\n",
       "      <td>0.179967</td>\n",
       "      <td>78.281169</td>\n",
       "      <td>Group 3</td>\n",
       "      <td>behav</td>\n",
       "      <td>0.000000</td>\n",
       "      <td>0.000000</td>\n",
       "    </tr>\n",
       "    <tr>\n",
       "      <th>182</th>\n",
       "      <td>cf</td>\n",
       "      <td>4.704466e-02</td>\n",
       "      <td>0.882328</td>\n",
       "      <td>0.261025</td>\n",
       "      <td>51.118444</td>\n",
       "      <td>Group 3</td>\n",
       "      <td>behav</td>\n",
       "      <td>0.000000</td>\n",
       "      <td>0.000000</td>\n",
       "    </tr>\n",
       "    <tr>\n",
       "      <th>183</th>\n",
       "      <td>df</td>\n",
       "      <td>5.463681e-02</td>\n",
       "      <td>0.939378</td>\n",
       "      <td>0.143298</td>\n",
       "      <td>56.879763</td>\n",
       "      <td>Group 3</td>\n",
       "      <td>behav</td>\n",
       "      <td>0.000000</td>\n",
       "      <td>0.000000</td>\n",
       "    </tr>\n",
       "    <tr>\n",
       "      <th>184</th>\n",
       "      <td>fg</td>\n",
       "      <td>7.939078e-02</td>\n",
       "      <td>0.928413</td>\n",
       "      <td>0.580742</td>\n",
       "      <td>78.445336</td>\n",
       "      <td>Group 3</td>\n",
       "      <td>behav</td>\n",
       "      <td>0.000000</td>\n",
       "      <td>0.000000</td>\n",
       "    </tr>\n",
       "    <tr>\n",
       "      <th>185</th>\n",
       "      <td>fh</td>\n",
       "      <td>6.313337e-02</td>\n",
       "      <td>0.932895</td>\n",
       "      <td>0.194440</td>\n",
       "      <td>68.749459</td>\n",
       "      <td>Group 3</td>\n",
       "      <td>behav</td>\n",
       "      <td>0.000000</td>\n",
       "      <td>0.000000</td>\n",
       "    </tr>\n",
       "  </tbody>\n",
       "</table>\n",
       "<p>186 rows × 9 columns</p>\n",
       "</div>"
      ],
      "text/plain": [
       "    index       min_val   max_val     slope  inflection    group metric  \\\n",
       "0      af  1.000000e-16  0.958480  0.021558   61.000512  Group 1   rmse   \n",
       "1      ag  1.000000e-16  0.976493  0.029138   52.000103  Group 1   rmse   \n",
       "2      ah  1.500527e-01  0.802789  0.032490   54.001817  Group 1   rmse   \n",
       "3      be  1.535884e-01  1.000000  0.046353   87.584029  Group 1   rmse   \n",
       "4      bf  1.958787e-01  0.981050  0.042703   92.274811  Group 1   rmse   \n",
       "..    ...           ...       ...       ...         ...      ...    ...   \n",
       "181    eh  2.861325e-02  0.944226  0.179967   78.281169  Group 3  behav   \n",
       "182    cf  4.704466e-02  0.882328  0.261025   51.118444  Group 3  behav   \n",
       "183    df  5.463681e-02  0.939378  0.143298   56.879763  Group 3  behav   \n",
       "184    fg  7.939078e-02  0.928413  0.580742   78.445336  Group 3  behav   \n",
       "185    fh  6.313337e-02  0.932895  0.194440   68.749459  Group 3  behav   \n",
       "\n",
       "      d_slope  d_inflection  \n",
       "0   -0.093799      4.664402  \n",
       "1   -0.089629      4.097347  \n",
       "2   -0.104190    -14.144366  \n",
       "3   -0.122110     21.699011  \n",
       "4   -0.182019     21.071079  \n",
       "..        ...           ...  \n",
       "181  0.000000      0.000000  \n",
       "182  0.000000      0.000000  \n",
       "183  0.000000      0.000000  \n",
       "184  0.000000      0.000000  \n",
       "185  0.000000      0.000000  \n",
       "\n",
       "[186 rows x 9 columns]"
      ]
     },
     "execution_count": 103,
     "metadata": {},
     "output_type": "execute_result"
    }
   ],
   "source": [
    "normalized_df"
   ]
  },
  {
   "cell_type": "code",
   "execution_count": 104,
   "id": "8ec3cb26",
   "metadata": {},
   "outputs": [
    {
     "data": {
      "text/html": [
       "<div>\n",
       "<style scoped>\n",
       "    .dataframe tbody tr th:only-of-type {\n",
       "        vertical-align: middle;\n",
       "    }\n",
       "\n",
       "    .dataframe tbody tr th {\n",
       "        vertical-align: top;\n",
       "    }\n",
       "\n",
       "    .dataframe thead tr th {\n",
       "        text-align: left;\n",
       "    }\n",
       "\n",
       "    .dataframe thead tr:last-of-type th {\n",
       "        text-align: right;\n",
       "    }\n",
       "</style>\n",
       "<table border=\"1\" class=\"dataframe\">\n",
       "  <thead>\n",
       "    <tr>\n",
       "      <th></th>\n",
       "      <th colspan=\"8\" halign=\"left\">d_slope</th>\n",
       "      <th colspan=\"8\" halign=\"left\">d_inflection</th>\n",
       "    </tr>\n",
       "    <tr>\n",
       "      <th></th>\n",
       "      <th>count</th>\n",
       "      <th>mean</th>\n",
       "      <th>std</th>\n",
       "      <th>min</th>\n",
       "      <th>25%</th>\n",
       "      <th>50%</th>\n",
       "      <th>75%</th>\n",
       "      <th>max</th>\n",
       "      <th>count</th>\n",
       "      <th>mean</th>\n",
       "      <th>std</th>\n",
       "      <th>min</th>\n",
       "      <th>25%</th>\n",
       "      <th>50%</th>\n",
       "      <th>75%</th>\n",
       "      <th>max</th>\n",
       "    </tr>\n",
       "    <tr>\n",
       "      <th>metric</th>\n",
       "      <th></th>\n",
       "      <th></th>\n",
       "      <th></th>\n",
       "      <th></th>\n",
       "      <th></th>\n",
       "      <th></th>\n",
       "      <th></th>\n",
       "      <th></th>\n",
       "      <th></th>\n",
       "      <th></th>\n",
       "      <th></th>\n",
       "      <th></th>\n",
       "      <th></th>\n",
       "      <th></th>\n",
       "      <th></th>\n",
       "      <th></th>\n",
       "    </tr>\n",
       "  </thead>\n",
       "  <tbody>\n",
       "    <tr>\n",
       "      <th>behav</th>\n",
       "      <td>48.0</td>\n",
       "      <td>0.000000</td>\n",
       "      <td>0.000000</td>\n",
       "      <td>0.000000</td>\n",
       "      <td>0.000000</td>\n",
       "      <td>0.000000</td>\n",
       "      <td>0.000000</td>\n",
       "      <td>0.000000</td>\n",
       "      <td>48.0</td>\n",
       "      <td>0.000000</td>\n",
       "      <td>0.000000</td>\n",
       "      <td>0.000000</td>\n",
       "      <td>0.000000</td>\n",
       "      <td>0.000000</td>\n",
       "      <td>0.000000</td>\n",
       "      <td>0.000000</td>\n",
       "    </tr>\n",
       "    <tr>\n",
       "      <th>fcosine</th>\n",
       "      <td>46.0</td>\n",
       "      <td>0.654041</td>\n",
       "      <td>3.224084</td>\n",
       "      <td>-0.471011</td>\n",
       "      <td>-0.127835</td>\n",
       "      <td>-0.035611</td>\n",
       "      <td>0.075388</td>\n",
       "      <td>21.237161</td>\n",
       "      <td>46.0</td>\n",
       "      <td>-6.563925</td>\n",
       "      <td>29.548740</td>\n",
       "      <td>-66.353937</td>\n",
       "      <td>-17.539283</td>\n",
       "      <td>-8.167044</td>\n",
       "      <td>8.773143</td>\n",
       "      <td>59.987386</td>\n",
       "    </tr>\n",
       "    <tr>\n",
       "      <th>frmse</th>\n",
       "      <td>46.0</td>\n",
       "      <td>-0.123712</td>\n",
       "      <td>0.121359</td>\n",
       "      <td>-0.568291</td>\n",
       "      <td>-0.155191</td>\n",
       "      <td>-0.113867</td>\n",
       "      <td>-0.059305</td>\n",
       "      <td>0.099317</td>\n",
       "      <td>46.0</td>\n",
       "      <td>-8.959324</td>\n",
       "      <td>24.816060</td>\n",
       "      <td>-61.212040</td>\n",
       "      <td>-25.058020</td>\n",
       "      <td>-8.998849</td>\n",
       "      <td>2.513698</td>\n",
       "      <td>74.733077</td>\n",
       "    </tr>\n",
       "    <tr>\n",
       "      <th>rmse</th>\n",
       "      <td>46.0</td>\n",
       "      <td>-0.173324</td>\n",
       "      <td>0.099422</td>\n",
       "      <td>-0.564686</td>\n",
       "      <td>-0.189350</td>\n",
       "      <td>-0.154109</td>\n",
       "      <td>-0.112129</td>\n",
       "      <td>-0.061195</td>\n",
       "      <td>46.0</td>\n",
       "      <td>-2.975106</td>\n",
       "      <td>20.208153</td>\n",
       "      <td>-77.227357</td>\n",
       "      <td>-13.988419</td>\n",
       "      <td>0.241855</td>\n",
       "      <td>7.182253</td>\n",
       "      <td>46.937914</td>\n",
       "    </tr>\n",
       "  </tbody>\n",
       "</table>\n",
       "</div>"
      ],
      "text/plain": [
       "        d_slope                                                              \\\n",
       "          count      mean       std       min       25%       50%       75%   \n",
       "metric                                                                        \n",
       "behav      48.0  0.000000  0.000000  0.000000  0.000000  0.000000  0.000000   \n",
       "fcosine    46.0  0.654041  3.224084 -0.471011 -0.127835 -0.035611  0.075388   \n",
       "frmse      46.0 -0.123712  0.121359 -0.568291 -0.155191 -0.113867 -0.059305   \n",
       "rmse       46.0 -0.173324  0.099422 -0.564686 -0.189350 -0.154109 -0.112129   \n",
       "\n",
       "                   d_inflection                                             \\\n",
       "               max        count      mean        std        min        25%   \n",
       "metric                                                                       \n",
       "behav     0.000000         48.0  0.000000   0.000000   0.000000   0.000000   \n",
       "fcosine  21.237161         46.0 -6.563925  29.548740 -66.353937 -17.539283   \n",
       "frmse     0.099317         46.0 -8.959324  24.816060 -61.212040 -25.058020   \n",
       "rmse     -0.061195         46.0 -2.975106  20.208153 -77.227357 -13.988419   \n",
       "\n",
       "                                        \n",
       "              50%       75%        max  \n",
       "metric                                  \n",
       "behav    0.000000  0.000000   0.000000  \n",
       "fcosine -8.167044  8.773143  59.987386  \n",
       "frmse   -8.998849  2.513698  74.733077  \n",
       "rmse     0.241855  7.182253  46.937914  "
      ]
     },
     "execution_count": 104,
     "metadata": {},
     "output_type": "execute_result"
    }
   ],
   "source": [
    "normalized_df.groupby('metric')[['d_slope', 'd_inflection']].describe()"
   ]
  },
  {
   "cell_type": "code",
   "execution_count": 106,
   "id": "34c78ac2",
   "metadata": {},
   "outputs": [
    {
     "data": {
      "text/plain": [
       "(-0.5, 1.5)"
      ]
     },
     "execution_count": 106,
     "metadata": {},
     "output_type": "execute_result"
    },
    {
     "data": {
      "image/png": "[encoded data removed]",
      "text/plain": [
       "<Figure size 432x288 with 1 Axes>"
      ]
     },
     "metadata": {
      "needs_background": "light"
     },
     "output_type": "display_data"
    }
   ],
   "source": [
    "sns.boxplot(x='metric', y='d_slope', data=normalized_df)\n",
    "plt.ylim([-.5, 1.5])"
   ]
  },
  {
   "cell_type": "code",
   "execution_count": 108,
   "id": "f035701d",
   "metadata": {},
   "outputs": [
    {
     "data": {
      "text/plain": [
       "<AxesSubplot:xlabel='metric', ylabel='d_inflection'>"
      ]
     },
     "execution_count": 108,
     "metadata": {},
     "output_type": "execute_result"
    },
    {
     "data": {
      "image/png": "[encoded data removed]",
      "text/plain": [
       "<Figure size 432x288 with 1 Axes>"
      ]
     },
     "metadata": {
      "needs_background": "light"
     },
     "output_type": "display_data"
    }
   ],
   "source": [
    "sns.boxplot(x='metric', y='d_inflection', data=normalized_df)\n",
    "# plt.ylim([-.5, 1.5])"
   ]
  },
  {
   "cell_type": "code",
   "execution_count": null,
   "id": "1d8595d9",
   "metadata": {},
   "outputs": [],
   "source": []
  }
 ],
 "metadata": {
  "kernelspec": {
   "display_name": "Python 3",
   "language": "python",
   "name": "python3"
  },
  "language_info": {
   "codemirror_mode": {
    "name": "ipython",
    "version": 3
   },
   "file_extension": ".py",
   "mimetype": "text/x-python",
   "name": "python",
   "nbconvert_exporter": "python",
   "pygments_lexer": "ipython3",
   "version": "3.7.10"
  }
 },
 "nbformat": 4,
 "nbformat_minor": 5
}
