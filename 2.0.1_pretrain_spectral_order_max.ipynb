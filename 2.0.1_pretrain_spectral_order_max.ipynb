{
 "cells": [
  {
   "cell_type": "code",
   "execution_count": 1,
   "metadata": {},
   "outputs": [],
   "source": [
    "gpus = [1]\n",
    "import os\n",
    "os.environ['CUDA_VISIBLE_DEVICES']=','.join([str(i) for i in gpus])"
   ]
  },
  {
   "cell_type": "code",
   "execution_count": 2,
   "metadata": {},
   "outputs": [],
   "source": [
    "import tensorflow as tf\n",
    "# tf.enable_eager_execution()\n",
    "import pandas as pd\n",
    "import numpy as np\n",
    "import matplotlib.pyplot as plt\n",
    "import random\n",
    "from glob import glob\n",
    "import pickle\n",
    "from tensorflow.keras import layers, Sequential, datasets, models, losses, Model, Input\n",
    "from tensorflow.keras.callbacks import EarlyStopping, ModelCheckpoint\n",
    "from tensorflow.keras.optimizers import Adam\n",
    "from sklearn.model_selection import train_test_split\n",
    "import datetime\n",
    "import sys\n",
    "from tensorflow.keras.backend import clear_session\n",
    "from trainingfuncs import *\n",
    "from math_utils import *"
   ]
  },
  {
   "cell_type": "code",
   "execution_count": 3,
   "metadata": {},
   "outputs": [],
   "source": [
    "tf.compat.v1.disable_eager_execution()"
   ]
  },
  {
   "cell_type": "markdown",
   "metadata": {},
   "source": [
    "# Load data"
   ]
  },
  {
   "cell_type": "code",
   "execution_count": 4,
   "metadata": {},
   "outputs": [],
   "source": [
    "sys.path.append(\"..\") # Adds higher directory to python modules path.\n",
    "from helpers.dataset_vars import *\n",
    "from helpers.myclasses import *"
   ]
  },
  {
   "cell_type": "code",
   "execution_count": 5,
   "metadata": {},
   "outputs": [],
   "source": [
    "dataset = Dataset('Starling')\n",
    "analysis = 'stable_length'"
   ]
  },
  {
   "cell_type": "code",
   "execution_count": 6,
   "metadata": {},
   "outputs": [],
   "source": [
    "results_folder = os.path.abspath('/mnt/cube/kai/results/sound_texture/classifier')\n",
    "species_folder = dataset.path_save\n",
    "analysis_folder = os.path.join(species_folder, analysis)\n",
    "log_folder = os.path.join(analysis_folder, 'log')"
   ]
  },
  {
   "cell_type": "code",
   "execution_count": 7,
   "metadata": {},
   "outputs": [],
   "source": [
    "spec_file = sorted(glob(os.path.join(log_folder, 'all_specs_star.p')))[-1]"
   ]
  },
  {
   "cell_type": "code",
   "execution_count": 8,
   "metadata": {},
   "outputs": [],
   "source": [
    "spec_df = pickle.load(open(spec_file, 'rb'))"
   ]
  },
  {
   "cell_type": "code",
   "execution_count": 9,
   "metadata": {},
   "outputs": [
    {
     "data": {
      "text/html": [
       "<div>\n",
       "<style scoped>\n",
       "    .dataframe tbody tr th:only-of-type {\n",
       "        vertical-align: middle;\n",
       "    }\n",
       "\n",
       "    .dataframe tbody tr th {\n",
       "        vertical-align: top;\n",
       "    }\n",
       "\n",
       "    .dataframe thead th {\n",
       "        text-align: right;\n",
       "    }\n",
       "</style>\n",
       "<table border=\"1\" class=\"dataframe\">\n",
       "  <thead>\n",
       "    <tr style=\"text-align: right;\">\n",
       "      <th></th>\n",
       "      <th>name</th>\n",
       "      <th>wav</th>\n",
       "      <th>spec</th>\n",
       "    </tr>\n",
       "  </thead>\n",
       "  <tbody>\n",
       "    <tr>\n",
       "      <th>6995</th>\n",
       "      <td>b1160</td>\n",
       "      <td>/mnt/cube/kai/data_processed/datasets/Starling...</td>\n",
       "      <td>[[-0.8473503, -0.74000514, -0.6745358, -0.6307...</td>\n",
       "    </tr>\n",
       "    <tr>\n",
       "      <th>6996</th>\n",
       "      <td>b1160</td>\n",
       "      <td>/mnt/cube/kai/data_processed/datasets/Starling...</td>\n",
       "      <td>[[-0.618756, -0.6190624, -0.6269182, -0.641789...</td>\n",
       "    </tr>\n",
       "    <tr>\n",
       "      <th>6997</th>\n",
       "      <td>b1160</td>\n",
       "      <td>/mnt/cube/kai/data_processed/datasets/Starling...</td>\n",
       "      <td>[[-0.39242423, -0.3716945, -0.35015196, -0.346...</td>\n",
       "    </tr>\n",
       "    <tr>\n",
       "      <th>6998</th>\n",
       "      <td>b1160</td>\n",
       "      <td>/mnt/cube/kai/data_processed/datasets/Starling...</td>\n",
       "      <td>[[-0.71081, -0.7151853, -0.5816425, -0.5211242...</td>\n",
       "    </tr>\n",
       "    <tr>\n",
       "      <th>6999</th>\n",
       "      <td>b1160</td>\n",
       "      <td>/mnt/cube/kai/data_processed/datasets/Starling...</td>\n",
       "      <td>[[-0.63244075, -0.59842235, -0.56845856, -0.55...</td>\n",
       "    </tr>\n",
       "  </tbody>\n",
       "</table>\n",
       "</div>"
      ],
      "text/plain": [
       "       name                                                wav  \\\n",
       "6995  b1160  /mnt/cube/kai/data_processed/datasets/Starling...   \n",
       "6996  b1160  /mnt/cube/kai/data_processed/datasets/Starling...   \n",
       "6997  b1160  /mnt/cube/kai/data_processed/datasets/Starling...   \n",
       "6998  b1160  /mnt/cube/kai/data_processed/datasets/Starling...   \n",
       "6999  b1160  /mnt/cube/kai/data_processed/datasets/Starling...   \n",
       "\n",
       "                                                   spec  \n",
       "6995  [[-0.8473503, -0.74000514, -0.6745358, -0.6307...  \n",
       "6996  [[-0.618756, -0.6190624, -0.6269182, -0.641789...  \n",
       "6997  [[-0.39242423, -0.3716945, -0.35015196, -0.346...  \n",
       "6998  [[-0.71081, -0.7151853, -0.5816425, -0.5211242...  \n",
       "6999  [[-0.63244075, -0.59842235, -0.56845856, -0.55...  "
      ]
     },
     "execution_count": 9,
     "metadata": {},
     "output_type": "execute_result"
    }
   ],
   "source": [
    "spec_df.tail()"
   ]
  },
  {
   "cell_type": "code",
   "execution_count": 10,
   "metadata": {},
   "outputs": [],
   "source": [
    "subjs = sorted(spec_df.name.value_counts().keys().tolist())"
   ]
  },
  {
   "cell_type": "code",
   "execution_count": 11,
   "metadata": {},
   "outputs": [
    {
     "name": "stdout",
     "output_type": "stream",
     "text": [
      "291 707\n"
     ]
    }
   ],
   "source": [
    "spec_h, spec_w = spec_df.spec[0].shape\n",
    "print(spec_h, spec_w)"
   ]
  },
  {
   "cell_type": "code",
   "execution_count": 12,
   "metadata": {},
   "outputs": [],
   "source": [
    "spec_list = spec_df.spec.values.tolist()"
   ]
  },
  {
   "cell_type": "code",
   "execution_count": 13,
   "metadata": {},
   "outputs": [
    {
     "data": {
      "text/plain": [
       "<matplotlib.image.AxesImage at 0x7f8bea96fb10>"
      ]
     },
     "execution_count": 13,
     "metadata": {},
     "output_type": "execute_result"
    },
    {
     "data": {
      "image/png": "[encoded data removed]",
      "text/plain": [
       "<Figure size 432x288 with 1 Axes>"
      ]
     },
     "metadata": {
      "needs_background": "light"
     },
     "output_type": "display_data"
    }
   ],
   "source": [
    "plt.imshow(spec_list[0], origin='lower')"
   ]
  },
  {
   "cell_type": "code",
   "execution_count": 14,
   "metadata": {},
   "outputs": [],
   "source": [
    "subj_list = spec_df.name.values.tolist()"
   ]
  },
  {
   "cell_type": "code",
   "execution_count": 15,
   "metadata": {},
   "outputs": [],
   "source": [
    "n_slices = (8, 1)"
   ]
  },
  {
   "cell_type": "markdown",
   "metadata": {},
   "source": [
    "# This notebook is on only horizontal slices (spectral slices)"
   ]
  },
  {
   "cell_type": "markdown",
   "metadata": {},
   "source": [
    "## Define model"
   ]
  },
  {
   "cell_type": "code",
   "execution_count": 37,
   "metadata": {},
   "outputs": [],
   "source": [
    "clear_session()"
   ]
  },
  {
   "cell_type": "code",
   "execution_count": 16,
   "metadata": {},
   "outputs": [],
   "source": [
    "def self_VGG(weights=None, trainable=True):\n",
    "    if weights!='imagenet' and weights is not None:\n",
    "        raise ValueError('Non-imagenet weights not supported yet.')\n",
    "        \n",
    "    img_model = tf.keras.applications.VGG19(include_top=False, weights=weights, \n",
    "                                        input_shape=(224, 224, 3), pooling='avg')\n",
    "    \n",
    "    if not trainable:\n",
    "        img_model.trainable=False\n",
    "        \n",
    "    return img_model"
   ]
  },
  {
   "cell_type": "markdown",
   "metadata": {},
   "source": [
    "## parse inputs and outputs"
   ]
  },
  {
   "cell_type": "code",
   "execution_count": 17,
   "metadata": {},
   "outputs": [],
   "source": [
    "divided_w = spec_w//3\n",
    "divided_h = spec_h//8"
   ]
  },
  {
   "cell_type": "code",
   "execution_count": 18,
   "metadata": {},
   "outputs": [],
   "source": [
    "input_list = []\n",
    "output_list = []\n",
    "\n",
    "for spec in spec_list:\n",
    "    for i in range(3):\n",
    "        slice_list, index_list = slice_matrix(spec[:, divided_w*i:divided_w*(i+1)], \n",
    "                                              n_slices=n_slices, slice_shape=(divided_h, 224))\n",
    "        input_list.append(slice_list)\n",
    "        output_list.append(index_list)"
   ]
  },
  {
   "cell_type": "code",
   "execution_count": 19,
   "metadata": {},
   "outputs": [],
   "source": [
    "input_data = np.array(input_list)"
   ]
  },
  {
   "cell_type": "code",
   "execution_count": 20,
   "metadata": {},
   "outputs": [],
   "source": [
    "input_data = np.transpose(input_data, (1, 0, 2, 3, 4))"
   ]
  },
  {
   "cell_type": "code",
   "execution_count": 21,
   "metadata": {},
   "outputs": [],
   "source": [
    "input_data = list(input_data)"
   ]
  },
  {
   "cell_type": "code",
   "execution_count": 22,
   "metadata": {},
   "outputs": [],
   "source": [
    "output_data = np.array(output_list)"
   ]
  },
  {
   "cell_type": "code",
   "execution_count": 23,
   "metadata": {},
   "outputs": [
    {
     "data": {
      "text/plain": [
       "(21000, 8)"
      ]
     },
     "execution_count": 23,
     "metadata": {},
     "output_type": "execute_result"
    }
   ],
   "source": [
    "output_data.shape"
   ]
  },
  {
   "cell_type": "code",
   "execution_count": 24,
   "metadata": {},
   "outputs": [],
   "source": [
    "input_train, input_test, output_train, output_test = train_test_split(input_list, output_list, test_size = 0.1, \n",
    "                                                                      random_state=20)"
   ]
  },
  {
   "cell_type": "code",
   "execution_count": 25,
   "metadata": {},
   "outputs": [],
   "source": [
    "n_train, _, h, w, _ = np.array(input_train).shape"
   ]
  },
  {
   "cell_type": "code",
   "execution_count": 26,
   "metadata": {},
   "outputs": [
    {
     "name": "stdout",
     "output_type": "stream",
     "text": [
      "18900 36 224\n"
     ]
    }
   ],
   "source": [
    "print(n_train, h, w)"
   ]
  },
  {
   "cell_type": "code",
   "execution_count": 38,
   "metadata": {
    "scrolled": false
   },
   "outputs": [],
   "source": [
    "model=self_VGG()"
   ]
  },
  {
   "cell_type": "markdown",
   "metadata": {},
   "source": [
    "## connect dense layers and input/output"
   ]
  },
  {
   "cell_type": "code",
   "execution_count": 39,
   "metadata": {},
   "outputs": [],
   "source": [
    "model_inputs = []\n",
    "for i in range(np.product(n_slices)):\n",
    "    model_inputs.append(Input(shape=(h, w, 3)))"
   ]
  },
  {
   "cell_type": "code",
   "execution_count": 40,
   "metadata": {},
   "outputs": [],
   "source": [
    "encodings = []\n",
    "for i in range(np.product(n_slices)):\n",
    "    resized = layers.experimental.preprocessing.Resizing(224, 224, interpolation=\"bilinear\")(model_inputs[i])\n",
    "    encodings.append(model(resized))\n",
    "concated = layers.Concatenate(axis=1)(encodings)\n",
    "dense = layers.Dense(4096)(concated)\n",
    "model_output = layers.Dense(np.product(n_slices))(dense) # this needs to be changed for both temporal and spectral slices\n",
    "cfn = Model(model_inputs, model_output)"
   ]
  },
  {
   "cell_type": "code",
   "execution_count": 41,
   "metadata": {},
   "outputs": [
    {
     "name": "stdout",
     "output_type": "stream",
     "text": [
      "Model: \"functional_1\"\n",
      "__________________________________________________________________________________________________\n",
      "Layer (type)                    Output Shape         Param #     Connected to                     \n",
      "==================================================================================================\n",
      "input_2 (InputLayer)            [(None, 36, 224, 3)] 0                                            \n",
      "__________________________________________________________________________________________________\n",
      "input_3 (InputLayer)            [(None, 36, 224, 3)] 0                                            \n",
      "__________________________________________________________________________________________________\n",
      "input_4 (InputLayer)            [(None, 36, 224, 3)] 0                                            \n",
      "__________________________________________________________________________________________________\n",
      "input_5 (InputLayer)            [(None, 36, 224, 3)] 0                                            \n",
      "__________________________________________________________________________________________________\n",
      "input_6 (InputLayer)            [(None, 36, 224, 3)] 0                                            \n",
      "__________________________________________________________________________________________________\n",
      "input_7 (InputLayer)            [(None, 36, 224, 3)] 0                                            \n",
      "__________________________________________________________________________________________________\n",
      "input_8 (InputLayer)            [(None, 36, 224, 3)] 0                                            \n",
      "__________________________________________________________________________________________________\n",
      "input_9 (InputLayer)            [(None, 36, 224, 3)] 0                                            \n",
      "__________________________________________________________________________________________________\n",
      "resizing (Resizing)             (None, 224, 224, 3)  0           input_2[0][0]                    \n",
      "__________________________________________________________________________________________________\n",
      "resizing_1 (Resizing)           (None, 224, 224, 3)  0           input_3[0][0]                    \n",
      "__________________________________________________________________________________________________\n",
      "resizing_2 (Resizing)           (None, 224, 224, 3)  0           input_4[0][0]                    \n",
      "__________________________________________________________________________________________________\n",
      "resizing_3 (Resizing)           (None, 224, 224, 3)  0           input_5[0][0]                    \n",
      "__________________________________________________________________________________________________\n",
      "resizing_4 (Resizing)           (None, 224, 224, 3)  0           input_6[0][0]                    \n",
      "__________________________________________________________________________________________________\n",
      "resizing_5 (Resizing)           (None, 224, 224, 3)  0           input_7[0][0]                    \n",
      "__________________________________________________________________________________________________\n",
      "resizing_6 (Resizing)           (None, 224, 224, 3)  0           input_8[0][0]                    \n",
      "__________________________________________________________________________________________________\n",
      "resizing_7 (Resizing)           (None, 224, 224, 3)  0           input_9[0][0]                    \n",
      "__________________________________________________________________________________________________\n",
      "vgg19 (Functional)              (None, 512)          20024384    resizing[0][0]                   \n",
      "                                                                 resizing_1[0][0]                 \n",
      "                                                                 resizing_2[0][0]                 \n",
      "                                                                 resizing_3[0][0]                 \n",
      "                                                                 resizing_4[0][0]                 \n",
      "                                                                 resizing_5[0][0]                 \n",
      "                                                                 resizing_6[0][0]                 \n",
      "                                                                 resizing_7[0][0]                 \n",
      "__________________________________________________________________________________________________\n",
      "concatenate (Concatenate)       (None, 4096)         0           vgg19[0][0]                      \n",
      "                                                                 vgg19[1][0]                      \n",
      "                                                                 vgg19[2][0]                      \n",
      "                                                                 vgg19[3][0]                      \n",
      "                                                                 vgg19[4][0]                      \n",
      "                                                                 vgg19[5][0]                      \n",
      "                                                                 vgg19[6][0]                      \n",
      "                                                                 vgg19[7][0]                      \n",
      "__________________________________________________________________________________________________\n",
      "dense (Dense)                   (None, 4096)         16781312    concatenate[0][0]                \n",
      "__________________________________________________________________________________________________\n",
      "dense_1 (Dense)                 (None, 8)            32776       dense[0][0]                      \n",
      "==================================================================================================\n",
      "Total params: 36,838,472\n",
      "Trainable params: 36,838,472\n",
      "Non-trainable params: 0\n",
      "__________________________________________________________________________________________________\n"
     ]
    }
   ],
   "source": [
    "cfn.summary()"
   ]
  },
  {
   "cell_type": "code",
   "execution_count": 42,
   "metadata": {},
   "outputs": [],
   "source": [
    "cfn.compile(loss='mse', optimizer = Adam(0.0001)) # need to figure out how to implement FY loss"
   ]
  },
  {
   "cell_type": "markdown",
   "metadata": {},
   "source": [
    "## train the model"
   ]
  },
  {
   "cell_type": "code",
   "execution_count": 43,
   "metadata": {},
   "outputs": [],
   "source": [
    "results_folder = os.path.abspath('/mnt/cube/kai/results/perceptual_loss')\n",
    "run_folder = extend_folder(results_folder, '{:%Y_%m_%d_%H_%M_%S}'.format(datetime.datetime.now()))\n",
    "with open(os.path.join(run_folder, 'training.log'), 'w') as file:\n",
    "    file.write('This is a model trained on spectral slicing of Starling songs in star scale, 8 slices')"
   ]
  },
  {
   "cell_type": "code",
   "execution_count": 44,
   "metadata": {},
   "outputs": [],
   "source": [
    "patience = 20\n",
    "batch_size = 16\n",
    "epochs = 1000"
   ]
  },
  {
   "cell_type": "code",
   "execution_count": null,
   "metadata": {
    "scrolled": false
   },
   "outputs": [
    {
     "name": "stdout",
     "output_type": "stream",
     "text": [
      "Train on 18900 samples, validate on 2100 samples\n",
      "Epoch 1/1000\n",
      "18900/18900 [==============================] - ETA: 0s - loss: 1.9387WARNING:tensorflow:From /home/shc079/miniconda3/envs/tf2.3gpu/lib/python3.7/site-packages/tensorflow/python/keras/engine/training_v1.py:2048: Model.state_updates (from tensorflow.python.keras.engine.training) is deprecated and will be removed in a future version.\n",
      "Instructions for updating:\n",
      "This property should not be used in TensorFlow 2.0, as updates are applied automatically.\n",
      "18900/18900 [==============================] - 1163s 62ms/sample - loss: 1.9387 - val_loss: 0.2813\n",
      "Epoch 2/1000\n",
      "18900/18900 [==============================] - 1165s 62ms/sample - loss: 0.1370 - val_loss: 0.0850\n",
      "Epoch 3/1000\n",
      "18900/18900 [==============================] - 1161s 61ms/sample - loss: 0.0764 - val_loss: 0.1324\n",
      "Epoch 4/1000\n",
      "18900/18900 [==============================] - 1166s 62ms/sample - loss: 0.0559 - val_loss: 0.0504\n",
      "Epoch 5/1000\n",
      "18900/18900 [==============================] - 1167s 62ms/sample - loss: 0.0364 - val_loss: 0.0381\n",
      "Epoch 6/1000\n",
      "18900/18900 [==============================] - 1165s 62ms/sample - loss: 0.0281 - val_loss: 0.0301\n",
      "Epoch 7/1000\n",
      "18900/18900 [==============================] - 1153s 61ms/sample - loss: 1.0458 - val_loss: 0.3033\n",
      "Epoch 8/1000\n",
      "18900/18900 [==============================] - 1141s 60ms/sample - loss: 0.1562 - val_loss: 0.1309\n",
      "Epoch 9/1000\n",
      "18900/18900 [==============================] - 1143s 60ms/sample - loss: 0.0908 - val_loss: 0.0781\n",
      "Epoch 10/1000\n",
      "18900/18900 [==============================] - 1146s 61ms/sample - loss: 0.0685 - val_loss: 0.0451\n",
      "Epoch 11/1000\n",
      "10240/18900 [===============>..............] - ETA: 8:27 - loss: 0.0624"
     ]
    }
   ],
   "source": [
    "model_file = os.path.join(run_folder, 'weights-improvement.h5')\n",
    "callbacks = [EarlyStopping(monitor='val_loss', patience=patience, verbose=1),\n",
    "            ModelCheckpoint(filepath=model_file, monitor='val_loss', save_best_only=True, verbose=0)]\n",
    "\n",
    "cfn.fit(x = input_data, y = output_data, callbacks=callbacks, epochs=epochs, \n",
    "          batch_size=batch_size,validation_split=0.1)"
   ]
  },
  {
   "cell_type": "code",
   "execution_count": null,
   "metadata": {},
   "outputs": [],
   "source": [
    "pickle.dump([input_data, output_data], open(os.path.join(run_folder, 'train_data.p'), 'wb'))"
   ]
  },
  {
   "cell_type": "code",
   "execution_count": 46,
   "metadata": {},
   "outputs": [],
   "source": [
    "cfn.load_weights(model_file)"
   ]
  },
  {
   "cell_type": "code",
   "execution_count": 47,
   "metadata": {},
   "outputs": [],
   "source": [
    "input_test = np.array(input_test)"
   ]
  },
  {
   "cell_type": "code",
   "execution_count": 40,
   "metadata": {},
   "outputs": [
    {
     "name": "stdout",
     "output_type": "stream",
     "text": [
      "(2100, 4, 55, 224, 3)\n"
     ]
    }
   ],
   "source": [
    "print(input_test.shape)"
   ]
  },
  {
   "cell_type": "code",
   "execution_count": 48,
   "metadata": {},
   "outputs": [],
   "source": [
    "input_test = list(input_test.transpose((1,0,2,3,4)))"
   ]
  },
  {
   "cell_type": "code",
   "execution_count": 49,
   "metadata": {},
   "outputs": [],
   "source": [
    "prediction_test = cfn.predict(input_test)"
   ]
  },
  {
   "cell_type": "code",
   "execution_count": 50,
   "metadata": {},
   "outputs": [
    {
     "data": {
      "text/plain": [
       "array([2.0058460e+00, 4.0046234e+00, 2.9978430e+00, 5.9969621e+00,\n",
       "       1.0027782e+00, 4.9934673e+00, 1.5761554e-03, 7.0002360e+00],\n",
       "      dtype=float32)"
      ]
     },
     "execution_count": 50,
     "metadata": {},
     "output_type": "execute_result"
    }
   ],
   "source": [
    "prediction_test[0]"
   ]
  },
  {
   "cell_type": "markdown",
   "metadata": {},
   "source": [
    "## prediction error (rmse)"
   ]
  },
  {
   "cell_type": "code",
   "execution_count": 51,
   "metadata": {},
   "outputs": [
    {
     "name": "stdout",
     "output_type": "stream",
     "text": [
      "0.011951869013919958\n"
     ]
    }
   ],
   "source": [
    "print(np.sqrt(np.mean(np.square(prediction_test-output_test))))"
   ]
  },
  {
   "cell_type": "code",
   "execution_count": 55,
   "metadata": {},
   "outputs": [],
   "source": [
    "del cfn"
   ]
  },
  {
   "cell_type": "code",
   "execution_count": 52,
   "metadata": {},
   "outputs": [],
   "source": [
    "prediction_test_int = np.round(prediction_test)"
   ]
  },
  {
   "cell_type": "code",
   "execution_count": 53,
   "metadata": {},
   "outputs": [
    {
     "name": "stdout",
     "output_type": "stream",
     "text": [
      "[5. 3. 7. 4. 6. 1. 2. 0.]\n"
     ]
    }
   ],
   "source": [
    "print(prediction_test_int[1])"
   ]
  },
  {
   "cell_type": "code",
   "execution_count": 54,
   "metadata": {},
   "outputs": [
    {
     "name": "stdout",
     "output_type": "stream",
     "text": [
      "0.9999404761904762\n"
     ]
    }
   ],
   "source": [
    "print(np.mean(prediction_test_int==output_test))"
   ]
  },
  {
   "cell_type": "markdown",
   "metadata": {},
   "source": [
    "# fine tune on subject classification"
   ]
  },
  {
   "cell_type": "markdown",
   "metadata": {},
   "source": [
    "## first use the original architecture (divide each spectrogram into smaller pieces and extract features from that) and untrainable on pretrained weights"
   ]
  },
  {
   "cell_type": "markdown",
   "metadata": {},
   "source": [
    "### make inputs and outputs"
   ]
  },
  {
   "cell_type": "code",
   "execution_count": 14,
   "metadata": {},
   "outputs": [
    {
     "data": {
      "text/html": [
       "<div>\n",
       "<style scoped>\n",
       "    .dataframe tbody tr th:only-of-type {\n",
       "        vertical-align: middle;\n",
       "    }\n",
       "\n",
       "    .dataframe tbody tr th {\n",
       "        vertical-align: top;\n",
       "    }\n",
       "\n",
       "    .dataframe thead th {\n",
       "        text-align: right;\n",
       "    }\n",
       "</style>\n",
       "<table border=\"1\" class=\"dataframe\">\n",
       "  <thead>\n",
       "    <tr style=\"text-align: right;\">\n",
       "      <th></th>\n",
       "      <th>name</th>\n",
       "      <th>wav</th>\n",
       "      <th>spec</th>\n",
       "    </tr>\n",
       "  </thead>\n",
       "  <tbody>\n",
       "    <tr>\n",
       "      <th>6995</th>\n",
       "      <td>b1160</td>\n",
       "      <td>/mnt/cube/kai/data_processed/datasets/Starling...</td>\n",
       "      <td>[[-0.8108079, -0.8187467, -0.73811615, -0.7100...</td>\n",
       "    </tr>\n",
       "    <tr>\n",
       "      <th>6996</th>\n",
       "      <td>b1160</td>\n",
       "      <td>/mnt/cube/kai/data_processed/datasets/Starling...</td>\n",
       "      <td>[[-0.6495938, -0.6665916, -0.8675173, -0.65407...</td>\n",
       "    </tr>\n",
       "    <tr>\n",
       "      <th>6997</th>\n",
       "      <td>b1160</td>\n",
       "      <td>/mnt/cube/kai/data_processed/datasets/Starling...</td>\n",
       "      <td>[[-0.41882968, -0.3836928, -0.4552099, -0.3786...</td>\n",
       "    </tr>\n",
       "    <tr>\n",
       "      <th>6998</th>\n",
       "      <td>b1160</td>\n",
       "      <td>/mnt/cube/kai/data_processed/datasets/Starling...</td>\n",
       "      <td>[[-0.6679513, -0.7912686, -0.68081516, -0.5816...</td>\n",
       "    </tr>\n",
       "    <tr>\n",
       "      <th>6999</th>\n",
       "      <td>b1160</td>\n",
       "      <td>/mnt/cube/kai/data_processed/datasets/Starling...</td>\n",
       "      <td>[[-0.7382618, -0.682344, -0.6230346, -0.532324...</td>\n",
       "    </tr>\n",
       "  </tbody>\n",
       "</table>\n",
       "</div>"
      ],
      "text/plain": [
       "       name                                                wav  \\\n",
       "6995  b1160  /mnt/cube/kai/data_processed/datasets/Starling...   \n",
       "6996  b1160  /mnt/cube/kai/data_processed/datasets/Starling...   \n",
       "6997  b1160  /mnt/cube/kai/data_processed/datasets/Starling...   \n",
       "6998  b1160  /mnt/cube/kai/data_processed/datasets/Starling...   \n",
       "6999  b1160  /mnt/cube/kai/data_processed/datasets/Starling...   \n",
       "\n",
       "                                                   spec  \n",
       "6995  [[-0.8108079, -0.8187467, -0.73811615, -0.7100...  \n",
       "6996  [[-0.6495938, -0.6665916, -0.8675173, -0.65407...  \n",
       "6997  [[-0.41882968, -0.3836928, -0.4552099, -0.3786...  \n",
       "6998  [[-0.6679513, -0.7912686, -0.68081516, -0.5816...  \n",
       "6999  [[-0.7382618, -0.682344, -0.6230346, -0.532324...  "
      ]
     },
     "execution_count": 14,
     "metadata": {},
     "output_type": "execute_result"
    }
   ],
   "source": [
    "spec_df.tail()"
   ]
  },
  {
   "cell_type": "code",
   "execution_count": 48,
   "metadata": {},
   "outputs": [],
   "source": [
    "subj_list = spec_df.name.values.tolist()"
   ]
  },
  {
   "cell_type": "code",
   "execution_count": 51,
   "metadata": {},
   "outputs": [],
   "source": [
    "from sklearn.preprocessing import OneHotEncoder\n",
    "\n",
    "enc = OneHotEncoder(handle_unknown='ignore')\n",
    "output_data = enc.fit_transform(np.array(subj_list).reshape((len(subj_list), 1))).toarray()"
   ]
  },
  {
   "cell_type": "code",
   "execution_count": 52,
   "metadata": {},
   "outputs": [],
   "source": [
    "import itertools\n",
    "output_data = np.array(list(itertools.chain.from_iterable(itertools.repeat(x, 3) for x in output_data)))"
   ]
  },
  {
   "cell_type": "code",
   "execution_count": 53,
   "metadata": {},
   "outputs": [
    {
     "data": {
      "text/plain": [
       "(array([[0., 0., 0., 0., 0., 0., 0., 0., 0., 0., 0., 0., 0., 1.],\n",
       "        [0., 0., 0., 0., 0., 0., 0., 0., 0., 0., 0., 0., 1., 0.],\n",
       "        [0., 0., 0., 0., 0., 0., 0., 0., 0., 0., 0., 1., 0., 0.],\n",
       "        [0., 0., 0., 0., 0., 0., 0., 0., 0., 0., 1., 0., 0., 0.],\n",
       "        [0., 0., 0., 0., 0., 0., 0., 0., 0., 1., 0., 0., 0., 0.],\n",
       "        [0., 0., 0., 0., 0., 0., 0., 0., 1., 0., 0., 0., 0., 0.],\n",
       "        [0., 0., 0., 0., 0., 0., 0., 1., 0., 0., 0., 0., 0., 0.],\n",
       "        [0., 0., 0., 0., 0., 0., 1., 0., 0., 0., 0., 0., 0., 0.],\n",
       "        [0., 0., 0., 0., 0., 1., 0., 0., 0., 0., 0., 0., 0., 0.],\n",
       "        [0., 0., 0., 0., 1., 0., 0., 0., 0., 0., 0., 0., 0., 0.],\n",
       "        [0., 0., 0., 1., 0., 0., 0., 0., 0., 0., 0., 0., 0., 0.],\n",
       "        [0., 0., 1., 0., 0., 0., 0., 0., 0., 0., 0., 0., 0., 0.],\n",
       "        [0., 1., 0., 0., 0., 0., 0., 0., 0., 0., 0., 0., 0., 0.],\n",
       "        [1., 0., 0., 0., 0., 0., 0., 0., 0., 0., 0., 0., 0., 0.]]),\n",
       " array([1500, 1500, 1500, 1500, 1500, 1500, 1500, 1500, 1500, 1500, 1500,\n",
       "        1500, 1500, 1500]))"
      ]
     },
     "execution_count": 53,
     "metadata": {},
     "output_type": "execute_result"
    }
   ],
   "source": [
    "np.unique(outputs, return_counts=True, axis=0)"
   ]
  },
  {
   "cell_type": "code",
   "execution_count": 19,
   "metadata": {},
   "outputs": [],
   "source": [
    "input_list = []\n",
    "output_list = []\n",
    "\n",
    "for spec in spec_list:\n",
    "    spec_h, spec_w = spec.shape\n",
    "    divided_w = spec_w//3\n",
    "    for i in range(3):\n",
    "        slice_list, index_list = slice_matrix(spec[:, divided_w*i:divided_w*(i+1)], \n",
    "                                              n_slices=n_slices, \n",
    "                                              slice_shape=(spec_h//n_slices[0], divided_w//n_slices[1]), \n",
    "                                              permute=False)\n",
    "        input_list.append(slice_list)"
   ]
  },
  {
   "cell_type": "code",
   "execution_count": 20,
   "metadata": {},
   "outputs": [
    {
     "name": "stdout",
     "output_type": "stream",
     "text": [
      "21000 14 57 235\n"
     ]
    }
   ],
   "source": [
    "n_samples, n_outputs=outputs.shape\n",
    "h, w = input_list[0][0].shape[:2]\n",
    "print(n_samples, n_outputs, h, w)"
   ]
  },
  {
   "cell_type": "code",
   "execution_count": 21,
   "metadata": {},
   "outputs": [],
   "source": [
    "input_train, input_test, output_train, output_test = train_test_split(input_list, outputs, test_size = 0.2, \n",
    "                                                                      random_state=20, stratify=outputs)"
   ]
  },
  {
   "cell_type": "code",
   "execution_count": 22,
   "metadata": {},
   "outputs": [],
   "source": [
    "input_train = list(np.array(input_train).transpose((1, 0, 2, 3, 4)))"
   ]
  },
  {
   "cell_type": "code",
   "execution_count": 23,
   "metadata": {},
   "outputs": [
    {
     "data": {
      "text/plain": [
       "(16800, 57, 235, 3)"
      ]
     },
     "execution_count": 23,
     "metadata": {},
     "output_type": "execute_result"
    }
   ],
   "source": [
    "input_train[0].shape"
   ]
  },
  {
   "cell_type": "code",
   "execution_count": 24,
   "metadata": {},
   "outputs": [],
   "source": [
    "input_test = list(np.array(input_test).transpose((1, 0, 2, 3, 4)))\n",
    "output_train = np.array(output_train)\n",
    "output_test = np.array(output_test)"
   ]
  },
  {
   "cell_type": "markdown",
   "metadata": {},
   "source": [
    "### make model"
   ]
  },
  {
   "cell_type": "code",
   "execution_count": null,
   "metadata": {},
   "outputs": [],
   "source": [
    "clear_session()"
   ]
  },
  {
   "cell_type": "code",
   "execution_count": 25,
   "metadata": {},
   "outputs": [
    {
     "name": "stdout",
     "output_type": "stream",
     "text": [
      "Model: \"sequential\"\n",
      "_________________________________________________________________\n",
      "Layer (type)                 Output Shape              Param #   \n",
      "=================================================================\n",
      "resizing (Resizing)          (None, 128, 128, 3)       0         \n",
      "_________________________________________________________________\n",
      "conv2d (Conv2D)              (None, 59, 59, 96)        34944     \n",
      "_________________________________________________________________\n",
      "max_pooling2d (MaxPooling2D) (None, 29, 29, 96)        0         \n",
      "_________________________________________________________________\n",
      "conv2d_1 (Conv2D)            (None, 25, 25, 256)       614656    \n",
      "_________________________________________________________________\n",
      "max_pooling2d_1 (MaxPooling2 (None, 12, 12, 256)       0         \n",
      "_________________________________________________________________\n",
      "conv2d_2 (Conv2D)            (None, 12, 12, 384)       885120    \n",
      "_________________________________________________________________\n",
      "conv2d_3 (Conv2D)            (None, 12, 12, 384)       1327488   \n",
      "_________________________________________________________________\n",
      "conv2d_4 (Conv2D)            (None, 12, 12, 256)       884992    \n",
      "_________________________________________________________________\n",
      "flatten (Flatten)            (None, 36864)             0         \n",
      "_________________________________________________________________\n",
      "dense (Dense)                (None, 512)               18874880  \n",
      "=================================================================\n",
      "Total params: 22,622,080\n",
      "Trainable params: 0\n",
      "Non-trainable params: 22,622,080\n",
      "_________________________________________________________________\n"
     ]
    }
   ],
   "source": [
    "model=alexnet((h, w, 3), trainable=False)\n",
    "model_inputs = []\n",
    "for i in range(np.product(n_slices)):\n",
    "    model_inputs.append(Input(shape=(h, w, 3)))"
   ]
  },
  {
   "cell_type": "code",
   "execution_count": 26,
   "metadata": {},
   "outputs": [],
   "source": [
    "encodings = []\n",
    "for i in range(np.product(n_slices)):\n",
    "    encodings.append(model(model_inputs[i]))\n",
    "concated = layers.Concatenate(axis=1)(encodings)\n",
    "dense_1 = layers.Dense(2048, name='dense1', activation='relu')(concated)\n",
    "dropout_1 = layers.Dropout(0.2)(dense_1)\n",
    "dense_2 = layers.Dense(2048, name='dense2', activation='relu')(dropout_1)\n",
    "dropout_2 = layers.Dropout(0.2)(dense_2)\n",
    "dense_3 = layers.Dense(1024, name='dense3', activation='relu')(dropout_2)\n",
    "dropout_3 = layers.Dropout(0.2)(dense_3)\n",
    "output = layers.Dense(n_outputs, name='output', activation ='softmax')(dropout_3) # this needs to be changed for both temporal and spectral slices\n",
    "classifier = Model(model_inputs, output)"
   ]
  },
  {
   "cell_type": "code",
   "execution_count": 27,
   "metadata": {},
   "outputs": [],
   "source": [
    "classifier.load_weights(os.path.join('/mnt/cube/kai/results/self_supervision/2021_05_18_20_00_28/weights-improvement.h5'),\n",
    "                       by_name=True)"
   ]
  },
  {
   "cell_type": "code",
   "execution_count": 28,
   "metadata": {},
   "outputs": [],
   "source": [
    "classifier.compile(loss='categorical_crossentropy', optimizer = Adam(0.000001), metrics=['accuracy'])"
   ]
  },
  {
   "cell_type": "code",
   "execution_count": 29,
   "metadata": {},
   "outputs": [],
   "source": [
    "results_folder = os.path.abspath('/mnt/cube/kai/results/self_supervision')\n",
    "run_folder = extend_folder(results_folder, '2021_05_18_20_00_28', 'subj_classification', 'segmented')\n",
    "with open(os.path.join(run_folder, 'training.log'), 'w') as file:\n",
    "    file.write('This is a model pretrained on spectral slicing of Starling songs, fine tuned on subject classification (Starling)')"
   ]
  },
  {
   "cell_type": "code",
   "execution_count": 30,
   "metadata": {},
   "outputs": [],
   "source": [
    "patience = 20\n",
    "batch_size = 32\n",
    "epochs = 1000"
   ]
  },
  {
   "cell_type": "code",
   "execution_count": 31,
   "metadata": {},
   "outputs": [
    {
     "name": "stdout",
     "output_type": "stream",
     "text": [
      "Train on 15120 samples, validate on 1680 samples\n",
      "Epoch 1/1000\n",
      "15120/15120 [==============================] - ETA: 0s - loss: 2.6419 - accuracy: 0.0867WARNING:tensorflow:From /home/shc079/miniconda3/envs/tf2.3gpu/lib/python3.7/site-packages/tensorflow/python/keras/engine/training_v1.py:2048: Model.state_updates (from tensorflow.python.keras.engine.training) is deprecated and will be removed in a future version.\n",
      "Instructions for updating:\n",
      "This property should not be used in TensorFlow 2.0, as updates are applied automatically.\n",
      "15120/15120 [==============================] - 61s 4ms/sample - loss: 2.6419 - accuracy: 0.0867 - val_loss: 2.6018 - val_accuracy: 0.1411\n",
      "Epoch 2/1000\n",
      "15120/15120 [==============================] - 62s 4ms/sample - loss: 2.5988 - accuracy: 0.1262 - val_loss: 2.5627 - val_accuracy: 0.1720\n",
      "Epoch 3/1000\n",
      "15120/15120 [==============================] - 61s 4ms/sample - loss: 2.5600 - accuracy: 0.1487 - val_loss: 2.5243 - val_accuracy: 0.1869\n",
      "Epoch 4/1000\n",
      "15120/15120 [==============================] - 61s 4ms/sample - loss: 2.5275 - accuracy: 0.1736 - val_loss: 2.4850 - val_accuracy: 0.2054\n",
      "Epoch 5/1000\n",
      "15120/15120 [==============================] - 62s 4ms/sample - loss: 2.4914 - accuracy: 0.1963 - val_loss: 2.4457 - val_accuracy: 0.2339\n",
      "Epoch 6/1000\n",
      "15120/15120 [==============================] - 61s 4ms/sample - loss: 2.4574 - accuracy: 0.2064 - val_loss: 2.4049 - val_accuracy: 0.2464\n",
      "Epoch 7/1000\n",
      "15120/15120 [==============================] - 61s 4ms/sample - loss: 2.4193 - accuracy: 0.2210 - val_loss: 2.3625 - val_accuracy: 0.2530\n",
      "Epoch 8/1000\n",
      "15120/15120 [==============================] - 61s 4ms/sample - loss: 2.3807 - accuracy: 0.2421 - val_loss: 2.3197 - val_accuracy: 0.2744\n",
      "Epoch 9/1000\n",
      "15120/15120 [==============================] - 54s 4ms/sample - loss: 2.3439 - accuracy: 0.2507 - val_loss: 2.2742 - val_accuracy: 0.2899\n",
      "Epoch 10/1000\n",
      "15120/15120 [==============================] - 52s 3ms/sample - loss: 2.3023 - accuracy: 0.2665 - val_loss: 2.2302 - val_accuracy: 0.3060\n",
      "Epoch 11/1000\n",
      "15120/15120 [==============================] - 47s 3ms/sample - loss: 2.2687 - accuracy: 0.2731 - val_loss: 2.1912 - val_accuracy: 0.3024\n",
      "Epoch 12/1000\n",
      "15120/15120 [==============================] - 51s 3ms/sample - loss: 2.2294 - accuracy: 0.2825 - val_loss: 2.1468 - val_accuracy: 0.3155\n",
      "Epoch 13/1000\n",
      "15120/15120 [==============================] - 52s 3ms/sample - loss: 2.1926 - accuracy: 0.2976 - val_loss: 2.1088 - val_accuracy: 0.3351\n",
      "Epoch 14/1000\n",
      "15120/15120 [==============================] - 48s 3ms/sample - loss: 2.1555 - accuracy: 0.3091 - val_loss: 2.0698 - val_accuracy: 0.3321\n",
      "Epoch 15/1000\n",
      "15120/15120 [==============================] - 51s 3ms/sample - loss: 2.1199 - accuracy: 0.3236 - val_loss: 2.0332 - val_accuracy: 0.3500\n",
      "Epoch 16/1000\n",
      "15120/15120 [==============================] - 51s 3ms/sample - loss: 2.0870 - accuracy: 0.3254 - val_loss: 2.0011 - val_accuracy: 0.3536\n",
      "Epoch 17/1000\n",
      "15120/15120 [==============================] - 51s 3ms/sample - loss: 2.0546 - accuracy: 0.3338 - val_loss: 1.9686 - val_accuracy: 0.3643\n",
      "Epoch 18/1000\n",
      "15120/15120 [==============================] - 51s 3ms/sample - loss: 2.0270 - accuracy: 0.3442 - val_loss: 1.9372 - val_accuracy: 0.3673\n",
      "Epoch 19/1000\n",
      "15120/15120 [==============================] - 51s 3ms/sample - loss: 1.9934 - accuracy: 0.3532 - val_loss: 1.9055 - val_accuracy: 0.3833\n",
      "Epoch 20/1000\n",
      "15120/15120 [==============================] - 47s 3ms/sample - loss: 1.9680 - accuracy: 0.3636 - val_loss: 1.8840 - val_accuracy: 0.3768\n",
      "Epoch 21/1000\n",
      "15120/15120 [==============================] - 50s 3ms/sample - loss: 1.9433 - accuracy: 0.3640 - val_loss: 1.8521 - val_accuracy: 0.3952\n",
      "Epoch 22/1000\n",
      "15120/15120 [==============================] - 50s 3ms/sample - loss: 1.9149 - accuracy: 0.3748 - val_loss: 1.8301 - val_accuracy: 0.3994\n",
      "Epoch 23/1000\n",
      "15120/15120 [==============================] - 50s 3ms/sample - loss: 1.8931 - accuracy: 0.3829 - val_loss: 1.8021 - val_accuracy: 0.4101\n",
      "Epoch 24/1000\n",
      "15120/15120 [==============================] - 51s 3ms/sample - loss: 1.8670 - accuracy: 0.3913 - val_loss: 1.7811 - val_accuracy: 0.4190\n",
      "Epoch 25/1000\n",
      "15120/15120 [==============================] - 50s 3ms/sample - loss: 1.8457 - accuracy: 0.3966 - val_loss: 1.7595 - val_accuracy: 0.4262\n",
      "Epoch 26/1000\n",
      "15120/15120 [==============================] - 50s 3ms/sample - loss: 1.8237 - accuracy: 0.3996 - val_loss: 1.7376 - val_accuracy: 0.4435\n",
      "Epoch 27/1000\n",
      "15120/15120 [==============================] - 47s 3ms/sample - loss: 1.7989 - accuracy: 0.4119 - val_loss: 1.7177 - val_accuracy: 0.4411\n",
      "Epoch 28/1000\n",
      "15120/15120 [==============================] - 48s 3ms/sample - loss: 1.7767 - accuracy: 0.4187 - val_loss: 1.6973 - val_accuracy: 0.4429\n",
      "Epoch 29/1000\n",
      "15120/15120 [==============================] - 50s 3ms/sample - loss: 1.7616 - accuracy: 0.4185 - val_loss: 1.6776 - val_accuracy: 0.4565\n",
      "Epoch 30/1000\n",
      "15120/15120 [==============================] - 50s 3ms/sample - loss: 1.7388 - accuracy: 0.4285 - val_loss: 1.6585 - val_accuracy: 0.4637\n",
      "Epoch 31/1000\n",
      "15120/15120 [==============================] - 47s 3ms/sample - loss: 1.7159 - accuracy: 0.4300 - val_loss: 1.6430 - val_accuracy: 0.4583\n",
      "Epoch 32/1000\n",
      "15120/15120 [==============================] - 50s 3ms/sample - loss: 1.6975 - accuracy: 0.4396 - val_loss: 1.6227 - val_accuracy: 0.4738\n",
      "Epoch 33/1000\n",
      "15120/15120 [==============================] - 51s 3ms/sample - loss: 1.6877 - accuracy: 0.4412 - val_loss: 1.6043 - val_accuracy: 0.4786\n",
      "Epoch 34/1000\n",
      "15120/15120 [==============================] - 50s 3ms/sample - loss: 1.6680 - accuracy: 0.4474 - val_loss: 1.5890 - val_accuracy: 0.4827\n",
      "Epoch 35/1000\n",
      "15120/15120 [==============================] - 47s 3ms/sample - loss: 1.6428 - accuracy: 0.4538 - val_loss: 1.5741 - val_accuracy: 0.4821\n",
      "Epoch 36/1000\n",
      "15120/15120 [==============================] - 50s 3ms/sample - loss: 1.6316 - accuracy: 0.4586 - val_loss: 1.5599 - val_accuracy: 0.4905\n",
      "Epoch 37/1000\n",
      "15120/15120 [==============================] - 50s 3ms/sample - loss: 1.6108 - accuracy: 0.4681 - val_loss: 1.5436 - val_accuracy: 0.4964\n",
      "Epoch 38/1000\n",
      "15120/15120 [==============================] - 50s 3ms/sample - loss: 1.5969 - accuracy: 0.4703 - val_loss: 1.5304 - val_accuracy: 0.4982\n",
      "Epoch 39/1000\n",
      "15120/15120 [==============================] - 50s 3ms/sample - loss: 1.5836 - accuracy: 0.4726 - val_loss: 1.5118 - val_accuracy: 0.5042\n",
      "Epoch 40/1000\n",
      "15120/15120 [==============================] - 47s 3ms/sample - loss: 1.5652 - accuracy: 0.4749 - val_loss: 1.5001 - val_accuracy: 0.5018\n",
      "Epoch 41/1000\n",
      "15120/15120 [==============================] - 47s 3ms/sample - loss: 1.5506 - accuracy: 0.4833 - val_loss: 1.4910 - val_accuracy: 0.5030\n",
      "Epoch 42/1000\n",
      "15120/15120 [==============================] - 50s 3ms/sample - loss: 1.5425 - accuracy: 0.4798 - val_loss: 1.4707 - val_accuracy: 0.5185\n",
      "Epoch 43/1000\n",
      "15120/15120 [==============================] - 47s 3ms/sample - loss: 1.5200 - accuracy: 0.4907 - val_loss: 1.4590 - val_accuracy: 0.5143\n",
      "Epoch 44/1000\n",
      "15120/15120 [==============================] - 50s 3ms/sample - loss: 1.5100 - accuracy: 0.4911 - val_loss: 1.4470 - val_accuracy: 0.5238\n",
      "Epoch 45/1000\n",
      "15120/15120 [==============================] - 47s 3ms/sample - loss: 1.4935 - accuracy: 0.4991 - val_loss: 1.4321 - val_accuracy: 0.5155\n",
      "Epoch 46/1000\n",
      "15120/15120 [==============================] - 47s 3ms/sample - loss: 1.4856 - accuracy: 0.4938 - val_loss: 1.4193 - val_accuracy: 0.5232\n",
      "Epoch 47/1000\n",
      "15120/15120 [==============================] - 47s 3ms/sample - loss: 1.4708 - accuracy: 0.5019 - val_loss: 1.4097 - val_accuracy: 0.5238\n",
      "Epoch 48/1000\n",
      "15120/15120 [==============================] - 50s 3ms/sample - loss: 1.4553 - accuracy: 0.5114 - val_loss: 1.3967 - val_accuracy: 0.5274\n",
      "Epoch 49/1000\n",
      "15120/15120 [==============================] - 51s 3ms/sample - loss: 1.4424 - accuracy: 0.5122 - val_loss: 1.3841 - val_accuracy: 0.5304\n",
      "Epoch 50/1000\n",
      "15120/15120 [==============================] - 51s 3ms/sample - loss: 1.4284 - accuracy: 0.5195 - val_loss: 1.3767 - val_accuracy: 0.5339\n",
      "Epoch 51/1000\n",
      "15120/15120 [==============================] - 51s 3ms/sample - loss: 1.4157 - accuracy: 0.5199 - val_loss: 1.3607 - val_accuracy: 0.5393\n",
      "Epoch 52/1000\n",
      "15120/15120 [==============================] - 47s 3ms/sample - loss: 1.4050 - accuracy: 0.5250 - val_loss: 1.3519 - val_accuracy: 0.5369\n",
      "Epoch 53/1000\n",
      "15120/15120 [==============================] - 51s 3ms/sample - loss: 1.3887 - accuracy: 0.5319 - val_loss: 1.3423 - val_accuracy: 0.5423\n",
      "Epoch 54/1000\n",
      "15120/15120 [==============================] - 50s 3ms/sample - loss: 1.3822 - accuracy: 0.5310 - val_loss: 1.3300 - val_accuracy: 0.5446\n",
      "Epoch 55/1000\n",
      "15120/15120 [==============================] - 50s 3ms/sample - loss: 1.3725 - accuracy: 0.5375 - val_loss: 1.3216 - val_accuracy: 0.5554\n",
      "Epoch 56/1000\n",
      "15120/15120 [==============================] - 47s 3ms/sample - loss: 1.3537 - accuracy: 0.5396 - val_loss: 1.3095 - val_accuracy: 0.5476\n",
      "Epoch 57/1000\n",
      "15120/15120 [==============================] - 47s 3ms/sample - loss: 1.3493 - accuracy: 0.5383 - val_loss: 1.3048 - val_accuracy: 0.5506\n",
      "Epoch 58/1000\n",
      "15120/15120 [==============================] - 47s 3ms/sample - loss: 1.3330 - accuracy: 0.5511 - val_loss: 1.2907 - val_accuracy: 0.5518\n",
      "Epoch 59/1000\n",
      "15120/15120 [==============================] - 47s 3ms/sample - loss: 1.3288 - accuracy: 0.5478 - val_loss: 1.2814 - val_accuracy: 0.5500\n",
      "Epoch 60/1000\n",
      "15120/15120 [==============================] - 53s 3ms/sample - loss: 1.3175 - accuracy: 0.5509 - val_loss: 1.2731 - val_accuracy: 0.5595\n",
      "Epoch 61/1000\n",
      "15120/15120 [==============================] - 47s 3ms/sample - loss: 1.3048 - accuracy: 0.5555 - val_loss: 1.2635 - val_accuracy: 0.5589\n",
      "Epoch 62/1000\n",
      "15120/15120 [==============================] - 47s 3ms/sample - loss: 1.2935 - accuracy: 0.5627 - val_loss: 1.2551 - val_accuracy: 0.5571\n",
      "Epoch 63/1000\n",
      "15120/15120 [==============================] - 51s 3ms/sample - loss: 1.2818 - accuracy: 0.5620 - val_loss: 1.2443 - val_accuracy: 0.5613\n",
      "Epoch 64/1000\n",
      "15120/15120 [==============================] - 51s 3ms/sample - loss: 1.2727 - accuracy: 0.5714 - val_loss: 1.2361 - val_accuracy: 0.5732\n",
      "Epoch 65/1000\n",
      "15120/15120 [==============================] - 47s 3ms/sample - loss: 1.2610 - accuracy: 0.5676 - val_loss: 1.2264 - val_accuracy: 0.5720\n",
      "Epoch 66/1000\n",
      "15120/15120 [==============================] - 47s 3ms/sample - loss: 1.2562 - accuracy: 0.5734 - val_loss: 1.2198 - val_accuracy: 0.5673\n",
      "Epoch 67/1000\n",
      "15120/15120 [==============================] - 50s 3ms/sample - loss: 1.2451 - accuracy: 0.5724 - val_loss: 1.2128 - val_accuracy: 0.5756\n",
      "Epoch 68/1000\n",
      "15120/15120 [==============================] - 47s 3ms/sample - loss: 1.2399 - accuracy: 0.5745 - val_loss: 1.2035 - val_accuracy: 0.5756\n",
      "Epoch 69/1000\n",
      "15120/15120 [==============================] - 50s 3ms/sample - loss: 1.2312 - accuracy: 0.5796 - val_loss: 1.2001 - val_accuracy: 0.5815\n",
      "Epoch 70/1000\n",
      "15120/15120 [==============================] - 50s 3ms/sample - loss: 1.2207 - accuracy: 0.5790 - val_loss: 1.1902 - val_accuracy: 0.5857\n",
      "Epoch 71/1000\n",
      "15120/15120 [==============================] - 47s 3ms/sample - loss: 1.2134 - accuracy: 0.5858 - val_loss: 1.1822 - val_accuracy: 0.5857\n",
      "Epoch 72/1000\n",
      "15120/15120 [==============================] - 47s 3ms/sample - loss: 1.2044 - accuracy: 0.5868 - val_loss: 1.1758 - val_accuracy: 0.5798\n",
      "Epoch 73/1000\n",
      "15120/15120 [==============================] - 50s 3ms/sample - loss: 1.1969 - accuracy: 0.5882 - val_loss: 1.1665 - val_accuracy: 0.5911\n",
      "Epoch 74/1000\n",
      "15120/15120 [==============================] - 47s 3ms/sample - loss: 1.1877 - accuracy: 0.5917 - val_loss: 1.1586 - val_accuracy: 0.5887\n",
      "Epoch 75/1000\n",
      "15120/15120 [==============================] - 50s 3ms/sample - loss: 1.1762 - accuracy: 0.5914 - val_loss: 1.1542 - val_accuracy: 0.5946\n",
      "Epoch 76/1000\n",
      "15120/15120 [==============================] - 50s 3ms/sample - loss: 1.1698 - accuracy: 0.5989 - val_loss: 1.1466 - val_accuracy: 0.6006\n",
      "Epoch 77/1000\n",
      "15120/15120 [==============================] - 47s 3ms/sample - loss: 1.1606 - accuracy: 0.5975 - val_loss: 1.1421 - val_accuracy: 0.5976\n",
      "Epoch 78/1000\n",
      "15120/15120 [==============================] - 50s 3ms/sample - loss: 1.1556 - accuracy: 0.6044 - val_loss: 1.1321 - val_accuracy: 0.6018\n",
      "Epoch 79/1000\n",
      "15120/15120 [==============================] - 50s 3ms/sample - loss: 1.1478 - accuracy: 0.6038 - val_loss: 1.1278 - val_accuracy: 0.6036\n",
      "Epoch 80/1000\n",
      "15120/15120 [==============================] - 50s 3ms/sample - loss: 1.1406 - accuracy: 0.6022 - val_loss: 1.1199 - val_accuracy: 0.6089\n",
      "Epoch 81/1000\n",
      "15120/15120 [==============================] - 47s 3ms/sample - loss: 1.1287 - accuracy: 0.6081 - val_loss: 1.1155 - val_accuracy: 0.6024\n",
      "Epoch 82/1000\n",
      "15120/15120 [==============================] - 50s 3ms/sample - loss: 1.1269 - accuracy: 0.6103 - val_loss: 1.1118 - val_accuracy: 0.6155\n",
      "Epoch 83/1000\n",
      "15120/15120 [==============================] - 47s 3ms/sample - loss: 1.1244 - accuracy: 0.6110 - val_loss: 1.1031 - val_accuracy: 0.6048\n",
      "Epoch 84/1000\n",
      "15120/15120 [==============================] - 48s 3ms/sample - loss: 1.1128 - accuracy: 0.6145 - val_loss: 1.0982 - val_accuracy: 0.6065\n",
      "Epoch 85/1000\n",
      "15120/15120 [==============================] - 48s 3ms/sample - loss: 1.1035 - accuracy: 0.6172 - val_loss: 1.0897 - val_accuracy: 0.6083\n",
      "Epoch 86/1000\n",
      "15120/15120 [==============================] - 50s 3ms/sample - loss: 1.0902 - accuracy: 0.6232 - val_loss: 1.0862 - val_accuracy: 0.6167\n",
      "Epoch 87/1000\n",
      "15120/15120 [==============================] - 47s 3ms/sample - loss: 1.0910 - accuracy: 0.6190 - val_loss: 1.0806 - val_accuracy: 0.6125\n",
      "Epoch 88/1000\n",
      "15120/15120 [==============================] - 50s 3ms/sample - loss: 1.0807 - accuracy: 0.6277 - val_loss: 1.0784 - val_accuracy: 0.6208\n",
      "Epoch 89/1000\n",
      "15120/15120 [==============================] - 47s 3ms/sample - loss: 1.0804 - accuracy: 0.6235 - val_loss: 1.0705 - val_accuracy: 0.6173\n",
      "Epoch 90/1000\n",
      "15120/15120 [==============================] - 47s 3ms/sample - loss: 1.0731 - accuracy: 0.6291 - val_loss: 1.0652 - val_accuracy: 0.6196\n",
      "Epoch 91/1000\n",
      "15120/15120 [==============================] - 47s 3ms/sample - loss: 1.0691 - accuracy: 0.6271 - val_loss: 1.0606 - val_accuracy: 0.6185\n",
      "Epoch 92/1000\n",
      "15120/15120 [==============================] - 50s 3ms/sample - loss: 1.0625 - accuracy: 0.6284 - val_loss: 1.0569 - val_accuracy: 0.6226\n",
      "Epoch 93/1000\n",
      "15120/15120 [==============================] - 50s 3ms/sample - loss: 1.0543 - accuracy: 0.6312 - val_loss: 1.0499 - val_accuracy: 0.6262\n",
      "Epoch 94/1000\n",
      "15120/15120 [==============================] - 47s 3ms/sample - loss: 1.0503 - accuracy: 0.6346 - val_loss: 1.0456 - val_accuracy: 0.6220\n",
      "Epoch 95/1000\n",
      "15120/15120 [==============================] - 50s 3ms/sample - loss: 1.0384 - accuracy: 0.6377 - val_loss: 1.0381 - val_accuracy: 0.6268\n",
      "Epoch 96/1000\n",
      "15120/15120 [==============================] - 50s 3ms/sample - loss: 1.0360 - accuracy: 0.6374 - val_loss: 1.0335 - val_accuracy: 0.6292\n",
      "Epoch 97/1000\n",
      "15120/15120 [==============================] - 48s 3ms/sample - loss: 1.0273 - accuracy: 0.6436 - val_loss: 1.0294 - val_accuracy: 0.6226\n",
      "Epoch 98/1000\n",
      "15120/15120 [==============================] - 51s 3ms/sample - loss: 1.0256 - accuracy: 0.6423 - val_loss: 1.0253 - val_accuracy: 0.6298\n",
      "Epoch 99/1000\n",
      "15120/15120 [==============================] - 50s 3ms/sample - loss: 1.0181 - accuracy: 0.6453 - val_loss: 1.0214 - val_accuracy: 0.6333\n",
      "Epoch 100/1000\n",
      "15120/15120 [==============================] - 50s 3ms/sample - loss: 1.0130 - accuracy: 0.6482 - val_loss: 1.0174 - val_accuracy: 0.6345\n",
      "Epoch 101/1000\n",
      "15120/15120 [==============================] - 50s 3ms/sample - loss: 1.0080 - accuracy: 0.6464 - val_loss: 1.0100 - val_accuracy: 0.6357\n",
      "Epoch 102/1000\n",
      "15120/15120 [==============================] - 47s 3ms/sample - loss: 0.9960 - accuracy: 0.6522 - val_loss: 1.0056 - val_accuracy: 0.6280\n",
      "Epoch 103/1000\n",
      "15120/15120 [==============================] - 50s 3ms/sample - loss: 0.9960 - accuracy: 0.6491 - val_loss: 1.0025 - val_accuracy: 0.6393\n",
      "Epoch 104/1000\n",
      "15120/15120 [==============================] - 47s 3ms/sample - loss: 0.9876 - accuracy: 0.6557 - val_loss: 0.9986 - val_accuracy: 0.6369\n"
     ]
    },
    {
     "name": "stdout",
     "output_type": "stream",
     "text": [
      "Epoch 105/1000\n",
      "15120/15120 [==============================] - 50s 3ms/sample - loss: 0.9868 - accuracy: 0.6536 - val_loss: 0.9948 - val_accuracy: 0.6435\n",
      "Epoch 106/1000\n",
      "15120/15120 [==============================] - 47s 3ms/sample - loss: 0.9822 - accuracy: 0.6538 - val_loss: 0.9893 - val_accuracy: 0.6429\n",
      "Epoch 107/1000\n",
      "15120/15120 [==============================] - 50s 3ms/sample - loss: 0.9763 - accuracy: 0.6563 - val_loss: 0.9830 - val_accuracy: 0.6440\n",
      "Epoch 108/1000\n",
      "15120/15120 [==============================] - 47s 3ms/sample - loss: 0.9721 - accuracy: 0.6568 - val_loss: 0.9807 - val_accuracy: 0.6435\n",
      "Epoch 109/1000\n",
      "15120/15120 [==============================] - 51s 3ms/sample - loss: 0.9618 - accuracy: 0.6600 - val_loss: 0.9769 - val_accuracy: 0.6446\n",
      "Epoch 110/1000\n",
      "15120/15120 [==============================] - 47s 3ms/sample - loss: 0.9605 - accuracy: 0.6610 - val_loss: 0.9722 - val_accuracy: 0.6446\n",
      "Epoch 111/1000\n",
      "15120/15120 [==============================] - 47s 3ms/sample - loss: 0.9609 - accuracy: 0.6599 - val_loss: 0.9698 - val_accuracy: 0.6411\n",
      "Epoch 112/1000\n",
      "15120/15120 [==============================] - 47s 3ms/sample - loss: 0.9559 - accuracy: 0.6622 - val_loss: 0.9648 - val_accuracy: 0.6446\n",
      "Epoch 113/1000\n",
      "15120/15120 [==============================] - 48s 3ms/sample - loss: 0.9464 - accuracy: 0.6644 - val_loss: 0.9617 - val_accuracy: 0.6405\n",
      "Epoch 114/1000\n",
      "15120/15120 [==============================] - 51s 3ms/sample - loss: 0.9473 - accuracy: 0.6657 - val_loss: 0.9560 - val_accuracy: 0.6470\n",
      "Epoch 115/1000\n",
      "15120/15120 [==============================] - 47s 3ms/sample - loss: 0.9348 - accuracy: 0.6696 - val_loss: 0.9555 - val_accuracy: 0.6435\n",
      "Epoch 116/1000\n",
      "15120/15120 [==============================] - 51s 3ms/sample - loss: 0.9325 - accuracy: 0.6722 - val_loss: 0.9518 - val_accuracy: 0.6548\n",
      "Epoch 117/1000\n",
      "15120/15120 [==============================] - 48s 3ms/sample - loss: 0.9254 - accuracy: 0.6724 - val_loss: 0.9488 - val_accuracy: 0.6482\n",
      "Epoch 118/1000\n",
      "15120/15120 [==============================] - 47s 3ms/sample - loss: 0.9233 - accuracy: 0.6757 - val_loss: 0.9445 - val_accuracy: 0.6524\n",
      "Epoch 119/1000\n",
      "15120/15120 [==============================] - 47s 3ms/sample - loss: 0.9178 - accuracy: 0.6751 - val_loss: 0.9385 - val_accuracy: 0.6464\n",
      "Epoch 120/1000\n",
      "15120/15120 [==============================] - 47s 3ms/sample - loss: 0.9112 - accuracy: 0.6770 - val_loss: 0.9374 - val_accuracy: 0.6512\n",
      "Epoch 121/1000\n",
      "15120/15120 [==============================] - 47s 3ms/sample - loss: 0.9102 - accuracy: 0.6786 - val_loss: 0.9348 - val_accuracy: 0.6524\n",
      "Epoch 122/1000\n",
      "15120/15120 [==============================] - 47s 3ms/sample - loss: 0.9029 - accuracy: 0.6847 - val_loss: 0.9271 - val_accuracy: 0.6548\n",
      "Epoch 123/1000\n",
      "15120/15120 [==============================] - 50s 3ms/sample - loss: 0.9014 - accuracy: 0.6815 - val_loss: 0.9270 - val_accuracy: 0.6577\n",
      "Epoch 124/1000\n",
      "15120/15120 [==============================] - 47s 3ms/sample - loss: 0.8951 - accuracy: 0.6823 - val_loss: 0.9231 - val_accuracy: 0.6530\n",
      "Epoch 125/1000\n",
      "15120/15120 [==============================] - 47s 3ms/sample - loss: 0.8894 - accuracy: 0.6880 - val_loss: 0.9212 - val_accuracy: 0.6518\n",
      "Epoch 126/1000\n",
      "15120/15120 [==============================] - 47s 3ms/sample - loss: 0.8865 - accuracy: 0.6854 - val_loss: 0.9146 - val_accuracy: 0.6560\n",
      "Epoch 127/1000\n",
      "15120/15120 [==============================] - 50s 3ms/sample - loss: 0.8817 - accuracy: 0.6888 - val_loss: 0.9125 - val_accuracy: 0.6619\n",
      "Epoch 128/1000\n",
      "15120/15120 [==============================] - 48s 3ms/sample - loss: 0.8776 - accuracy: 0.6864 - val_loss: 0.9080 - val_accuracy: 0.6571\n",
      "Epoch 129/1000\n",
      "15120/15120 [==============================] - 47s 3ms/sample - loss: 0.8779 - accuracy: 0.6882 - val_loss: 0.9044 - val_accuracy: 0.6577\n",
      "Epoch 130/1000\n",
      "15120/15120 [==============================] - 47s 3ms/sample - loss: 0.8684 - accuracy: 0.6919 - val_loss: 0.9026 - val_accuracy: 0.6613\n",
      "Epoch 131/1000\n",
      "15120/15120 [==============================] - 47s 3ms/sample - loss: 0.8724 - accuracy: 0.6882 - val_loss: 0.9000 - val_accuracy: 0.6601\n",
      "Epoch 132/1000\n",
      "15120/15120 [==============================] - 51s 3ms/sample - loss: 0.8621 - accuracy: 0.6921 - val_loss: 0.8953 - val_accuracy: 0.6631\n",
      "Epoch 133/1000\n",
      "15120/15120 [==============================] - 51s 3ms/sample - loss: 0.8577 - accuracy: 0.6939 - val_loss: 0.8947 - val_accuracy: 0.6625\n",
      "Epoch 134/1000\n",
      "15120/15120 [==============================] - 55s 4ms/sample - loss: 0.8549 - accuracy: 0.6956 - val_loss: 0.8920 - val_accuracy: 0.6649\n",
      "Epoch 135/1000\n",
      "15120/15120 [==============================] - 50s 3ms/sample - loss: 0.8589 - accuracy: 0.6943 - val_loss: 0.8906 - val_accuracy: 0.6601\n",
      "Epoch 136/1000\n",
      "15120/15120 [==============================] - 51s 3ms/sample - loss: 0.8517 - accuracy: 0.6923 - val_loss: 0.8854 - val_accuracy: 0.6685\n",
      "Epoch 137/1000\n",
      "15120/15120 [==============================] - 48s 3ms/sample - loss: 0.8443 - accuracy: 0.7015 - val_loss: 0.8842 - val_accuracy: 0.6679\n",
      "Epoch 138/1000\n",
      "15120/15120 [==============================] - 47s 3ms/sample - loss: 0.8433 - accuracy: 0.6981 - val_loss: 0.8796 - val_accuracy: 0.6673\n",
      "Epoch 139/1000\n",
      "15120/15120 [==============================] - 51s 3ms/sample - loss: 0.8404 - accuracy: 0.6981 - val_loss: 0.8765 - val_accuracy: 0.6720\n",
      "Epoch 140/1000\n",
      "15120/15120 [==============================] - 48s 3ms/sample - loss: 0.8290 - accuracy: 0.7013 - val_loss: 0.8740 - val_accuracy: 0.6720\n",
      "Epoch 141/1000\n",
      "15120/15120 [==============================] - 48s 3ms/sample - loss: 0.8329 - accuracy: 0.7008 - val_loss: 0.8725 - val_accuracy: 0.6714\n",
      "Epoch 142/1000\n",
      "15120/15120 [==============================] - 51s 3ms/sample - loss: 0.8256 - accuracy: 0.7052 - val_loss: 0.8675 - val_accuracy: 0.6798\n",
      "Epoch 143/1000\n",
      "15120/15120 [==============================] - 47s 3ms/sample - loss: 0.8243 - accuracy: 0.7019 - val_loss: 0.8672 - val_accuracy: 0.6708\n",
      "Epoch 144/1000\n",
      "15120/15120 [==============================] - 48s 3ms/sample - loss: 0.8155 - accuracy: 0.7078 - val_loss: 0.8641 - val_accuracy: 0.6744\n",
      "Epoch 145/1000\n",
      "15120/15120 [==============================] - 48s 3ms/sample - loss: 0.8159 - accuracy: 0.7078 - val_loss: 0.8586 - val_accuracy: 0.6750\n",
      "Epoch 146/1000\n",
      "15120/15120 [==============================] - 47s 3ms/sample - loss: 0.8118 - accuracy: 0.7087 - val_loss: 0.8569 - val_accuracy: 0.6768\n",
      "Epoch 147/1000\n",
      "15120/15120 [==============================] - 47s 3ms/sample - loss: 0.8093 - accuracy: 0.7074 - val_loss: 0.8570 - val_accuracy: 0.6792\n",
      "Epoch 148/1000\n",
      "15120/15120 [==============================] - 47s 3ms/sample - loss: 0.8068 - accuracy: 0.7087 - val_loss: 0.8565 - val_accuracy: 0.6738\n",
      "Epoch 149/1000\n",
      "15120/15120 [==============================] - 47s 3ms/sample - loss: 0.7992 - accuracy: 0.7106 - val_loss: 0.8506 - val_accuracy: 0.6786\n",
      "Epoch 150/1000\n",
      "15120/15120 [==============================] - 47s 3ms/sample - loss: 0.7971 - accuracy: 0.7140 - val_loss: 0.8523 - val_accuracy: 0.6750\n",
      "Epoch 151/1000\n",
      "15120/15120 [==============================] - 51s 3ms/sample - loss: 0.7957 - accuracy: 0.7130 - val_loss: 0.8431 - val_accuracy: 0.6857\n",
      "Epoch 152/1000\n",
      "15120/15120 [==============================] - 47s 3ms/sample - loss: 0.7905 - accuracy: 0.7147 - val_loss: 0.8453 - val_accuracy: 0.6720\n",
      "Epoch 153/1000\n",
      "15120/15120 [==============================] - 47s 3ms/sample - loss: 0.7890 - accuracy: 0.7159 - val_loss: 0.8408 - val_accuracy: 0.6756\n",
      "Epoch 154/1000\n",
      "15120/15120 [==============================] - 47s 3ms/sample - loss: 0.7851 - accuracy: 0.7140 - val_loss: 0.8375 - val_accuracy: 0.6768\n",
      "Epoch 155/1000\n",
      "15120/15120 [==============================] - 50s 3ms/sample - loss: 0.7806 - accuracy: 0.7160 - val_loss: 0.8372 - val_accuracy: 0.6875\n",
      "Epoch 156/1000\n",
      "15120/15120 [==============================] - 47s 3ms/sample - loss: 0.7812 - accuracy: 0.7175 - val_loss: 0.8328 - val_accuracy: 0.6821\n",
      "Epoch 157/1000\n",
      "15120/15120 [==============================] - 48s 3ms/sample - loss: 0.7794 - accuracy: 0.7167 - val_loss: 0.8321 - val_accuracy: 0.6821\n",
      "Epoch 158/1000\n",
      "15120/15120 [==============================] - 47s 3ms/sample - loss: 0.7709 - accuracy: 0.7218 - val_loss: 0.8308 - val_accuracy: 0.6786\n",
      "Epoch 159/1000\n",
      "15120/15120 [==============================] - 50s 3ms/sample - loss: 0.7713 - accuracy: 0.7214 - val_loss: 0.8265 - val_accuracy: 0.6887\n",
      "Epoch 160/1000\n",
      "15120/15120 [==============================] - 50s 3ms/sample - loss: 0.7601 - accuracy: 0.7251 - val_loss: 0.8218 - val_accuracy: 0.6893\n",
      "Epoch 161/1000\n",
      "15120/15120 [==============================] - 47s 3ms/sample - loss: 0.7606 - accuracy: 0.7271 - val_loss: 0.8263 - val_accuracy: 0.6798\n",
      "Epoch 162/1000\n",
      "15120/15120 [==============================] - 47s 3ms/sample - loss: 0.7576 - accuracy: 0.7217 - val_loss: 0.8188 - val_accuracy: 0.6857\n",
      "Epoch 163/1000\n",
      "15120/15120 [==============================] - 47s 3ms/sample - loss: 0.7578 - accuracy: 0.7227 - val_loss: 0.8211 - val_accuracy: 0.6798\n",
      "Epoch 164/1000\n",
      "15120/15120 [==============================] - 47s 3ms/sample - loss: 0.7586 - accuracy: 0.7239 - val_loss: 0.8159 - val_accuracy: 0.6845\n",
      "Epoch 165/1000\n",
      "15120/15120 [==============================] - 49s 3ms/sample - loss: 0.7483 - accuracy: 0.7261 - val_loss: 0.8150 - val_accuracy: 0.6887\n",
      "Epoch 166/1000\n",
      "15120/15120 [==============================] - 47s 3ms/sample - loss: 0.7478 - accuracy: 0.7283 - val_loss: 0.8154 - val_accuracy: 0.6798\n",
      "Epoch 167/1000\n",
      "15120/15120 [==============================] - 47s 3ms/sample - loss: 0.7445 - accuracy: 0.7315 - val_loss: 0.8095 - val_accuracy: 0.6833\n",
      "Epoch 168/1000\n",
      "15120/15120 [==============================] - 47s 3ms/sample - loss: 0.7417 - accuracy: 0.7294 - val_loss: 0.8097 - val_accuracy: 0.6857\n",
      "Epoch 169/1000\n",
      "15120/15120 [==============================] - 47s 3ms/sample - loss: 0.7362 - accuracy: 0.7329 - val_loss: 0.8044 - val_accuracy: 0.6869\n",
      "Epoch 170/1000\n",
      "15120/15120 [==============================] - 47s 3ms/sample - loss: 0.7388 - accuracy: 0.7315 - val_loss: 0.8063 - val_accuracy: 0.6845\n",
      "Epoch 171/1000\n",
      "15120/15120 [==============================] - 51s 3ms/sample - loss: 0.7314 - accuracy: 0.7332 - val_loss: 0.8028 - val_accuracy: 0.6905\n",
      "Epoch 172/1000\n",
      "15120/15120 [==============================] - 47s 3ms/sample - loss: 0.7345 - accuracy: 0.7335 - val_loss: 0.8032 - val_accuracy: 0.6875\n",
      "Epoch 173/1000\n",
      "15120/15120 [==============================] - 47s 3ms/sample - loss: 0.7274 - accuracy: 0.7349 - val_loss: 0.8008 - val_accuracy: 0.6899\n",
      "Epoch 174/1000\n",
      "15120/15120 [==============================] - 47s 3ms/sample - loss: 0.7235 - accuracy: 0.7354 - val_loss: 0.7987 - val_accuracy: 0.6857\n",
      "Epoch 175/1000\n",
      "15120/15120 [==============================] - 50s 3ms/sample - loss: 0.7202 - accuracy: 0.7370 - val_loss: 0.7936 - val_accuracy: 0.6917\n",
      "Epoch 176/1000\n",
      "15120/15120 [==============================] - 51s 3ms/sample - loss: 0.7193 - accuracy: 0.7370 - val_loss: 0.7938 - val_accuracy: 0.6964\n",
      "Epoch 177/1000\n",
      "15120/15120 [==============================] - 48s 3ms/sample - loss: 0.7123 - accuracy: 0.7394 - val_loss: 0.7928 - val_accuracy: 0.6917\n",
      "Epoch 178/1000\n",
      "15120/15120 [==============================] - 47s 3ms/sample - loss: 0.7137 - accuracy: 0.7372 - val_loss: 0.7886 - val_accuracy: 0.6905\n",
      "Epoch 179/1000\n",
      "15120/15120 [==============================] - 50s 3ms/sample - loss: 0.7100 - accuracy: 0.7411 - val_loss: 0.7883 - val_accuracy: 0.6982\n",
      "Epoch 180/1000\n",
      "15120/15120 [==============================] - 47s 3ms/sample - loss: 0.7104 - accuracy: 0.7389 - val_loss: 0.7877 - val_accuracy: 0.6893\n",
      "Epoch 181/1000\n",
      "15120/15120 [==============================] - 46s 3ms/sample - loss: 0.7062 - accuracy: 0.7403 - val_loss: 0.7855 - val_accuracy: 0.6923\n",
      "Epoch 182/1000\n",
      "15120/15120 [==============================] - 46s 3ms/sample - loss: 0.7016 - accuracy: 0.7407 - val_loss: 0.7831 - val_accuracy: 0.6923\n",
      "Epoch 183/1000\n",
      "15120/15120 [==============================] - 46s 3ms/sample - loss: 0.7055 - accuracy: 0.7388 - val_loss: 0.7819 - val_accuracy: 0.6923\n",
      "Epoch 184/1000\n",
      "15120/15120 [==============================] - 47s 3ms/sample - loss: 0.6998 - accuracy: 0.7440 - val_loss: 0.7790 - val_accuracy: 0.6964\n",
      "Epoch 185/1000\n",
      "15120/15120 [==============================] - 52s 3ms/sample - loss: 0.6900 - accuracy: 0.7485 - val_loss: 0.7770 - val_accuracy: 0.6970\n",
      "Epoch 186/1000\n",
      "15120/15120 [==============================] - 49s 3ms/sample - loss: 0.6947 - accuracy: 0.7441 - val_loss: 0.7749 - val_accuracy: 0.6964\n",
      "Epoch 187/1000\n",
      "15120/15120 [==============================] - 47s 3ms/sample - loss: 0.6895 - accuracy: 0.7451 - val_loss: 0.7716 - val_accuracy: 0.6976\n",
      "Epoch 188/1000\n",
      "15120/15120 [==============================] - 50s 3ms/sample - loss: 0.6834 - accuracy: 0.7495 - val_loss: 0.7717 - val_accuracy: 0.6988\n",
      "Epoch 189/1000\n",
      "15120/15120 [==============================] - 49s 3ms/sample - loss: 0.6852 - accuracy: 0.7466 - val_loss: 0.7695 - val_accuracy: 0.6994\n",
      "Epoch 190/1000\n",
      "15120/15120 [==============================] - 53s 4ms/sample - loss: 0.6831 - accuracy: 0.7490 - val_loss: 0.7693 - val_accuracy: 0.6940\n",
      "Epoch 191/1000\n",
      "15120/15120 [==============================] - 51s 3ms/sample - loss: 0.6735 - accuracy: 0.7524 - val_loss: 0.7679 - val_accuracy: 0.6911\n",
      "Epoch 192/1000\n",
      "15120/15120 [==============================] - 49s 3ms/sample - loss: 0.6809 - accuracy: 0.7475 - val_loss: 0.7685 - val_accuracy: 0.6952\n",
      "Epoch 193/1000\n",
      "15120/15120 [==============================] - 53s 4ms/sample - loss: 0.6739 - accuracy: 0.7550 - val_loss: 0.7655 - val_accuracy: 0.7012\n",
      "Epoch 194/1000\n",
      "15120/15120 [==============================] - 53s 3ms/sample - loss: 0.6746 - accuracy: 0.7513 - val_loss: 0.7675 - val_accuracy: 0.6935\n",
      "Epoch 195/1000\n",
      "15120/15120 [==============================] - 52s 3ms/sample - loss: 0.6665 - accuracy: 0.7538 - val_loss: 0.7628 - val_accuracy: 0.7018\n",
      "Epoch 196/1000\n",
      "15120/15120 [==============================] - 48s 3ms/sample - loss: 0.6700 - accuracy: 0.7495 - val_loss: 0.7568 - val_accuracy: 0.6988\n",
      "Epoch 197/1000\n",
      "15120/15120 [==============================] - 48s 3ms/sample - loss: 0.6644 - accuracy: 0.7532 - val_loss: 0.7584 - val_accuracy: 0.6929\n",
      "Epoch 198/1000\n",
      "15120/15120 [==============================] - 47s 3ms/sample - loss: 0.6622 - accuracy: 0.7558 - val_loss: 0.7591 - val_accuracy: 0.6970\n",
      "Epoch 199/1000\n",
      "15120/15120 [==============================] - 47s 3ms/sample - loss: 0.6638 - accuracy: 0.7536 - val_loss: 0.7543 - val_accuracy: 0.7000\n",
      "Epoch 200/1000\n",
      "15120/15120 [==============================] - 49s 3ms/sample - loss: 0.6612 - accuracy: 0.7535 - val_loss: 0.7516 - val_accuracy: 0.6988\n",
      "Epoch 201/1000\n",
      "15120/15120 [==============================] - 54s 4ms/sample - loss: 0.6573 - accuracy: 0.7562 - val_loss: 0.7538 - val_accuracy: 0.7054\n",
      "Epoch 202/1000\n",
      "15120/15120 [==============================] - 51s 3ms/sample - loss: 0.6557 - accuracy: 0.7566 - val_loss: 0.7490 - val_accuracy: 0.7030\n",
      "Epoch 203/1000\n",
      "15120/15120 [==============================] - 51s 3ms/sample - loss: 0.6501 - accuracy: 0.7591 - val_loss: 0.7504 - val_accuracy: 0.6952\n",
      "Epoch 204/1000\n",
      "15120/15120 [==============================] - 54s 4ms/sample - loss: 0.6504 - accuracy: 0.7579 - val_loss: 0.7462 - val_accuracy: 0.7060\n",
      "Epoch 205/1000\n",
      "15120/15120 [==============================] - 51s 3ms/sample - loss: 0.6475 - accuracy: 0.7597 - val_loss: 0.7519 - val_accuracy: 0.6970\n",
      "Epoch 206/1000\n",
      "15120/15120 [==============================] - 50s 3ms/sample - loss: 0.6497 - accuracy: 0.7607 - val_loss: 0.7455 - val_accuracy: 0.7030\n",
      "Epoch 207/1000\n",
      "15120/15120 [==============================] - 49s 3ms/sample - loss: 0.6462 - accuracy: 0.7608 - val_loss: 0.7433 - val_accuracy: 0.7006\n",
      "Epoch 208/1000\n",
      "15120/15120 [==============================] - 53s 3ms/sample - loss: 0.6436 - accuracy: 0.7634 - val_loss: 0.7400 - val_accuracy: 0.7071\n",
      "Epoch 209/1000\n",
      "15120/15120 [==============================] - 52s 3ms/sample - loss: 0.6397 - accuracy: 0.7635 - val_loss: 0.7427 - val_accuracy: 0.6994\n",
      "Epoch 210/1000\n",
      "15120/15120 [==============================] - 51s 3ms/sample - loss: 0.6402 - accuracy: 0.7599 - val_loss: 0.7430 - val_accuracy: 0.7036\n",
      "Epoch 211/1000\n"
     ]
    },
    {
     "name": "stdout",
     "output_type": "stream",
     "text": [
      "15120/15120 [==============================] - 49s 3ms/sample - loss: 0.6369 - accuracy: 0.7610 - val_loss: 0.7375 - val_accuracy: 0.7048\n",
      "Epoch 212/1000\n",
      "15120/15120 [==============================] - 49s 3ms/sample - loss: 0.6319 - accuracy: 0.7653 - val_loss: 0.7370 - val_accuracy: 0.7000\n",
      "Epoch 213/1000\n",
      "15120/15120 [==============================] - 49s 3ms/sample - loss: 0.6305 - accuracy: 0.7651 - val_loss: 0.7356 - val_accuracy: 0.7042\n",
      "Epoch 214/1000\n",
      "15120/15120 [==============================] - 49s 3ms/sample - loss: 0.6250 - accuracy: 0.7672 - val_loss: 0.7356 - val_accuracy: 0.7030\n",
      "Epoch 215/1000\n",
      "15120/15120 [==============================] - 48s 3ms/sample - loss: 0.6257 - accuracy: 0.7655 - val_loss: 0.7359 - val_accuracy: 0.6982\n",
      "Epoch 216/1000\n",
      "15120/15120 [==============================] - 49s 3ms/sample - loss: 0.6230 - accuracy: 0.7663 - val_loss: 0.7324 - val_accuracy: 0.7012\n",
      "Epoch 217/1000\n",
      "15120/15120 [==============================] - 48s 3ms/sample - loss: 0.6248 - accuracy: 0.7680 - val_loss: 0.7303 - val_accuracy: 0.7065\n",
      "Epoch 218/1000\n",
      "15120/15120 [==============================] - 51s 3ms/sample - loss: 0.6194 - accuracy: 0.7710 - val_loss: 0.7295 - val_accuracy: 0.7089\n",
      "Epoch 219/1000\n",
      "15120/15120 [==============================] - 48s 3ms/sample - loss: 0.6142 - accuracy: 0.7704 - val_loss: 0.7268 - val_accuracy: 0.7060\n",
      "Epoch 220/1000\n",
      "15120/15120 [==============================] - 49s 3ms/sample - loss: 0.6131 - accuracy: 0.7716 - val_loss: 0.7291 - val_accuracy: 0.7012\n",
      "Epoch 221/1000\n",
      "15120/15120 [==============================] - 49s 3ms/sample - loss: 0.6122 - accuracy: 0.7712 - val_loss: 0.7265 - val_accuracy: 0.7060\n",
      "Epoch 222/1000\n",
      "15120/15120 [==============================] - 47s 3ms/sample - loss: 0.6101 - accuracy: 0.7725 - val_loss: 0.7245 - val_accuracy: 0.7083\n",
      "Epoch 223/1000\n",
      "15120/15120 [==============================] - 48s 3ms/sample - loss: 0.6143 - accuracy: 0.7692 - val_loss: 0.7255 - val_accuracy: 0.7006\n",
      "Epoch 224/1000\n",
      "15120/15120 [==============================] - 49s 3ms/sample - loss: 0.6082 - accuracy: 0.7729 - val_loss: 0.7232 - val_accuracy: 0.7077\n",
      "Epoch 225/1000\n",
      "15120/15120 [==============================] - 51s 3ms/sample - loss: 0.6044 - accuracy: 0.7722 - val_loss: 0.7230 - val_accuracy: 0.7095\n",
      "Epoch 226/1000\n",
      "15120/15120 [==============================] - 49s 3ms/sample - loss: 0.6048 - accuracy: 0.7757 - val_loss: 0.7205 - val_accuracy: 0.7030\n",
      "Epoch 227/1000\n",
      "15120/15120 [==============================] - 48s 3ms/sample - loss: 0.6044 - accuracy: 0.7740 - val_loss: 0.7213 - val_accuracy: 0.7071\n",
      "Epoch 228/1000\n",
      "15120/15120 [==============================] - 51s 3ms/sample - loss: 0.5999 - accuracy: 0.7780 - val_loss: 0.7174 - val_accuracy: 0.7107\n",
      "Epoch 229/1000\n",
      "15120/15120 [==============================] - 49s 3ms/sample - loss: 0.5967 - accuracy: 0.7743 - val_loss: 0.7153 - val_accuracy: 0.7065\n",
      "Epoch 230/1000\n",
      "15120/15120 [==============================] - 48s 3ms/sample - loss: 0.5961 - accuracy: 0.7768 - val_loss: 0.7196 - val_accuracy: 0.7054\n",
      "Epoch 231/1000\n",
      "15120/15120 [==============================] - 48s 3ms/sample - loss: 0.5978 - accuracy: 0.7751 - val_loss: 0.7138 - val_accuracy: 0.7071\n",
      "Epoch 232/1000\n",
      "15120/15120 [==============================] - 51s 3ms/sample - loss: 0.5920 - accuracy: 0.7770 - val_loss: 0.7120 - val_accuracy: 0.7119\n",
      "Epoch 233/1000\n",
      "15120/15120 [==============================] - 49s 3ms/sample - loss: 0.5932 - accuracy: 0.7772 - val_loss: 0.7127 - val_accuracy: 0.7071\n",
      "Epoch 234/1000\n",
      "15120/15120 [==============================] - 49s 3ms/sample - loss: 0.5878 - accuracy: 0.7795 - val_loss: 0.7148 - val_accuracy: 0.7089\n",
      "Epoch 235/1000\n",
      "15120/15120 [==============================] - 52s 3ms/sample - loss: 0.5904 - accuracy: 0.7740 - val_loss: 0.7094 - val_accuracy: 0.7131\n",
      "Epoch 236/1000\n",
      "15120/15120 [==============================] - 48s 3ms/sample - loss: 0.5848 - accuracy: 0.7800 - val_loss: 0.7088 - val_accuracy: 0.7131\n",
      "Epoch 237/1000\n",
      "15120/15120 [==============================] - 52s 3ms/sample - loss: 0.5859 - accuracy: 0.7813 - val_loss: 0.7072 - val_accuracy: 0.7155\n",
      "Epoch 238/1000\n",
      "15120/15120 [==============================] - 52s 3ms/sample - loss: 0.5811 - accuracy: 0.7819 - val_loss: 0.7086 - val_accuracy: 0.7161\n",
      "Epoch 239/1000\n",
      "15120/15120 [==============================] - 48s 3ms/sample - loss: 0.5771 - accuracy: 0.7839 - val_loss: 0.7058 - val_accuracy: 0.7125\n",
      "Epoch 240/1000\n",
      "15120/15120 [==============================] - 48s 3ms/sample - loss: 0.5821 - accuracy: 0.7829 - val_loss: 0.7065 - val_accuracy: 0.7149\n",
      "Epoch 241/1000\n",
      "15120/15120 [==============================] - 49s 3ms/sample - loss: 0.5761 - accuracy: 0.7838 - val_loss: 0.7028 - val_accuracy: 0.7071\n",
      "Epoch 242/1000\n",
      "15120/15120 [==============================] - 49s 3ms/sample - loss: 0.5735 - accuracy: 0.7823 - val_loss: 0.7028 - val_accuracy: 0.7071\n",
      "Epoch 243/1000\n",
      "15120/15120 [==============================] - 48s 3ms/sample - loss: 0.5739 - accuracy: 0.7850 - val_loss: 0.7023 - val_accuracy: 0.7101\n",
      "Epoch 244/1000\n",
      "15120/15120 [==============================] - 51s 3ms/sample - loss: 0.5732 - accuracy: 0.7839 - val_loss: 0.7001 - val_accuracy: 0.7173\n",
      "Epoch 245/1000\n",
      "15120/15120 [==============================] - 49s 3ms/sample - loss: 0.5729 - accuracy: 0.7819 - val_loss: 0.7015 - val_accuracy: 0.7113\n",
      "Epoch 246/1000\n",
      "15120/15120 [==============================] - 49s 3ms/sample - loss: 0.5702 - accuracy: 0.7848 - val_loss: 0.7011 - val_accuracy: 0.7113\n",
      "Epoch 247/1000\n",
      "15120/15120 [==============================] - 53s 4ms/sample - loss: 0.5665 - accuracy: 0.7854 - val_loss: 0.6983 - val_accuracy: 0.7179\n",
      "Epoch 248/1000\n",
      "15120/15120 [==============================] - 50s 3ms/sample - loss: 0.5651 - accuracy: 0.7874 - val_loss: 0.6952 - val_accuracy: 0.7149\n",
      "Epoch 249/1000\n",
      "15120/15120 [==============================] - 50s 3ms/sample - loss: 0.5655 - accuracy: 0.7848 - val_loss: 0.6974 - val_accuracy: 0.7083\n",
      "Epoch 250/1000\n",
      "15120/15120 [==============================] - 50s 3ms/sample - loss: 0.5598 - accuracy: 0.7897 - val_loss: 0.6978 - val_accuracy: 0.7048\n",
      "Epoch 251/1000\n",
      "15120/15120 [==============================] - 50s 3ms/sample - loss: 0.5603 - accuracy: 0.7897 - val_loss: 0.6930 - val_accuracy: 0.7179\n",
      "Epoch 252/1000\n",
      "15120/15120 [==============================] - 51s 3ms/sample - loss: 0.5576 - accuracy: 0.7904 - val_loss: 0.6938 - val_accuracy: 0.7143\n",
      "Epoch 253/1000\n",
      "15120/15120 [==============================] - 50s 3ms/sample - loss: 0.5572 - accuracy: 0.7925 - val_loss: 0.6954 - val_accuracy: 0.7143\n",
      "Epoch 254/1000\n",
      "15120/15120 [==============================] - 50s 3ms/sample - loss: 0.5558 - accuracy: 0.7867 - val_loss: 0.6909 - val_accuracy: 0.7143\n",
      "Epoch 255/1000\n",
      "15120/15120 [==============================] - 50s 3ms/sample - loss: 0.5515 - accuracy: 0.7928 - val_loss: 0.6889 - val_accuracy: 0.7155\n",
      "Epoch 256/1000\n",
      "15120/15120 [==============================] - 51s 3ms/sample - loss: 0.5528 - accuracy: 0.7890 - val_loss: 0.6935 - val_accuracy: 0.7089\n",
      "Epoch 257/1000\n",
      "15120/15120 [==============================] - 53s 4ms/sample - loss: 0.5459 - accuracy: 0.7952 - val_loss: 0.6880 - val_accuracy: 0.7185\n",
      "Epoch 258/1000\n",
      "15120/15120 [==============================] - 50s 3ms/sample - loss: 0.5439 - accuracy: 0.7959 - val_loss: 0.6873 - val_accuracy: 0.7125\n",
      "Epoch 259/1000\n",
      "15120/15120 [==============================] - 50s 3ms/sample - loss: 0.5458 - accuracy: 0.7909 - val_loss: 0.6881 - val_accuracy: 0.7161\n",
      "Epoch 260/1000\n",
      "15120/15120 [==============================] - 50s 3ms/sample - loss: 0.5465 - accuracy: 0.7951 - val_loss: 0.6854 - val_accuracy: 0.7137\n",
      "Epoch 261/1000\n",
      "15120/15120 [==============================] - 55s 4ms/sample - loss: 0.5444 - accuracy: 0.7950 - val_loss: 0.6854 - val_accuracy: 0.7161\n",
      "Epoch 262/1000\n",
      "15120/15120 [==============================] - 54s 4ms/sample - loss: 0.5411 - accuracy: 0.7938 - val_loss: 0.6868 - val_accuracy: 0.7119\n",
      "Epoch 263/1000\n",
      "15120/15120 [==============================] - 54s 4ms/sample - loss: 0.5374 - accuracy: 0.7962 - val_loss: 0.6834 - val_accuracy: 0.7173\n",
      "Epoch 264/1000\n",
      "15120/15120 [==============================] - 54s 4ms/sample - loss: 0.5388 - accuracy: 0.7923 - val_loss: 0.6839 - val_accuracy: 0.7143\n",
      "Epoch 265/1000\n",
      "15120/15120 [==============================] - 54s 4ms/sample - loss: 0.5387 - accuracy: 0.7987 - val_loss: 0.6832 - val_accuracy: 0.7167\n",
      "Epoch 266/1000\n",
      "15120/15120 [==============================] - 55s 4ms/sample - loss: 0.5370 - accuracy: 0.7928 - val_loss: 0.6832 - val_accuracy: 0.7173\n",
      "Epoch 267/1000\n",
      "15120/15120 [==============================] - 55s 4ms/sample - loss: 0.5339 - accuracy: 0.7956 - val_loss: 0.6805 - val_accuracy: 0.7161\n",
      "Epoch 268/1000\n",
      "15120/15120 [==============================] - 57s 4ms/sample - loss: 0.5310 - accuracy: 0.8013 - val_loss: 0.6814 - val_accuracy: 0.7190\n",
      "Epoch 269/1000\n",
      "15120/15120 [==============================] - 54s 4ms/sample - loss: 0.5295 - accuracy: 0.7972 - val_loss: 0.6807 - val_accuracy: 0.7149\n",
      "Epoch 270/1000\n",
      "15120/15120 [==============================] - 55s 4ms/sample - loss: 0.5294 - accuracy: 0.7978 - val_loss: 0.6776 - val_accuracy: 0.7137\n",
      "Epoch 271/1000\n",
      "15120/15120 [==============================] - 54s 4ms/sample - loss: 0.5297 - accuracy: 0.8005 - val_loss: 0.6788 - val_accuracy: 0.7173\n",
      "Epoch 272/1000\n",
      "15120/15120 [==============================] - 54s 4ms/sample - loss: 0.5271 - accuracy: 0.7991 - val_loss: 0.6805 - val_accuracy: 0.7161\n",
      "Epoch 273/1000\n",
      "15120/15120 [==============================] - 57s 4ms/sample - loss: 0.5261 - accuracy: 0.7981 - val_loss: 0.6819 - val_accuracy: 0.7208\n",
      "Epoch 274/1000\n",
      "15120/15120 [==============================] - 54s 4ms/sample - loss: 0.5275 - accuracy: 0.8011 - val_loss: 0.6774 - val_accuracy: 0.7131\n",
      "Epoch 275/1000\n",
      "15120/15120 [==============================] - 54s 4ms/sample - loss: 0.5224 - accuracy: 0.8021 - val_loss: 0.6737 - val_accuracy: 0.7196\n",
      "Epoch 276/1000\n",
      "15120/15120 [==============================] - 54s 4ms/sample - loss: 0.5198 - accuracy: 0.7993 - val_loss: 0.6742 - val_accuracy: 0.7190\n",
      "Epoch 277/1000\n",
      "15120/15120 [==============================] - 54s 4ms/sample - loss: 0.5153 - accuracy: 0.8058 - val_loss: 0.6800 - val_accuracy: 0.7113\n",
      "Epoch 278/1000\n",
      "15120/15120 [==============================] - 57s 4ms/sample - loss: 0.5178 - accuracy: 0.8036 - val_loss: 0.6734 - val_accuracy: 0.7268\n",
      "Epoch 279/1000\n",
      "15120/15120 [==============================] - 54s 4ms/sample - loss: 0.5170 - accuracy: 0.8052 - val_loss: 0.6710 - val_accuracy: 0.7179\n",
      "Epoch 280/1000\n",
      "15120/15120 [==============================] - 55s 4ms/sample - loss: 0.5132 - accuracy: 0.8075 - val_loss: 0.6737 - val_accuracy: 0.7202\n",
      "Epoch 281/1000\n",
      "15120/15120 [==============================] - 54s 4ms/sample - loss: 0.5151 - accuracy: 0.7993 - val_loss: 0.6730 - val_accuracy: 0.7179\n",
      "Epoch 282/1000\n",
      "15120/15120 [==============================] - 54s 4ms/sample - loss: 0.5126 - accuracy: 0.8023 - val_loss: 0.6696 - val_accuracy: 0.7202\n",
      "Epoch 283/1000\n",
      "15120/15120 [==============================] - 54s 4ms/sample - loss: 0.5119 - accuracy: 0.8030 - val_loss: 0.6726 - val_accuracy: 0.7155\n",
      "Epoch 284/1000\n",
      "15120/15120 [==============================] - 55s 4ms/sample - loss: 0.5093 - accuracy: 0.8022 - val_loss: 0.6690 - val_accuracy: 0.7173\n",
      "Epoch 285/1000\n",
      "15120/15120 [==============================] - 54s 4ms/sample - loss: 0.5076 - accuracy: 0.8028 - val_loss: 0.6708 - val_accuracy: 0.7256\n",
      "Epoch 286/1000\n",
      "15120/15120 [==============================] - 54s 4ms/sample - loss: 0.5055 - accuracy: 0.8089 - val_loss: 0.6674 - val_accuracy: 0.7179\n",
      "Epoch 287/1000\n",
      "15120/15120 [==============================] - 54s 4ms/sample - loss: 0.5036 - accuracy: 0.8058 - val_loss: 0.6658 - val_accuracy: 0.7226\n",
      "Epoch 288/1000\n",
      "15120/15120 [==============================] - 55s 4ms/sample - loss: 0.5064 - accuracy: 0.8046 - val_loss: 0.6652 - val_accuracy: 0.7232\n",
      "Epoch 289/1000\n",
      "15120/15120 [==============================] - 55s 4ms/sample - loss: 0.5062 - accuracy: 0.8062 - val_loss: 0.6657 - val_accuracy: 0.7256\n",
      "Epoch 290/1000\n",
      "15120/15120 [==============================] - 57s 4ms/sample - loss: 0.5022 - accuracy: 0.8070 - val_loss: 0.6672 - val_accuracy: 0.7274\n",
      "Epoch 291/1000\n",
      "15120/15120 [==============================] - 54s 4ms/sample - loss: 0.4974 - accuracy: 0.8081 - val_loss: 0.6665 - val_accuracy: 0.7190\n",
      "Epoch 292/1000\n",
      "15120/15120 [==============================] - 54s 4ms/sample - loss: 0.4969 - accuracy: 0.8104 - val_loss: 0.6658 - val_accuracy: 0.7161\n",
      "Epoch 293/1000\n",
      "15120/15120 [==============================] - 54s 4ms/sample - loss: 0.4947 - accuracy: 0.8103 - val_loss: 0.6627 - val_accuracy: 0.7220\n",
      "Epoch 294/1000\n",
      "15120/15120 [==============================] - 54s 4ms/sample - loss: 0.4970 - accuracy: 0.8077 - val_loss: 0.6669 - val_accuracy: 0.7214\n",
      "Epoch 295/1000\n",
      "15120/15120 [==============================] - 55s 4ms/sample - loss: 0.4917 - accuracy: 0.8093 - val_loss: 0.6639 - val_accuracy: 0.7214\n",
      "Epoch 296/1000\n",
      "15120/15120 [==============================] - 54s 4ms/sample - loss: 0.4930 - accuracy: 0.8093 - val_loss: 0.6616 - val_accuracy: 0.7226\n",
      "Epoch 297/1000\n",
      "15120/15120 [==============================] - 54s 4ms/sample - loss: 0.4934 - accuracy: 0.8123 - val_loss: 0.6602 - val_accuracy: 0.7250\n",
      "Epoch 298/1000\n",
      "15120/15120 [==============================] - 54s 4ms/sample - loss: 0.4890 - accuracy: 0.8112 - val_loss: 0.6619 - val_accuracy: 0.7220\n",
      "Epoch 299/1000\n",
      "15120/15120 [==============================] - 55s 4ms/sample - loss: 0.4913 - accuracy: 0.8123 - val_loss: 0.6602 - val_accuracy: 0.7250\n",
      "Epoch 300/1000\n",
      "15120/15120 [==============================] - 54s 4ms/sample - loss: 0.4901 - accuracy: 0.8101 - val_loss: 0.6607 - val_accuracy: 0.7238\n",
      "Epoch 301/1000\n",
      "15120/15120 [==============================] - 54s 4ms/sample - loss: 0.4903 - accuracy: 0.8128 - val_loss: 0.6615 - val_accuracy: 0.7244\n",
      "Epoch 302/1000\n",
      "15120/15120 [==============================] - 54s 4ms/sample - loss: 0.4929 - accuracy: 0.8075 - val_loss: 0.6564 - val_accuracy: 0.7238\n",
      "Epoch 303/1000\n",
      "15120/15120 [==============================] - 54s 4ms/sample - loss: 0.4856 - accuracy: 0.8107 - val_loss: 0.6585 - val_accuracy: 0.7250\n",
      "Epoch 304/1000\n",
      "15120/15120 [==============================] - 54s 4ms/sample - loss: 0.4860 - accuracy: 0.8100 - val_loss: 0.6588 - val_accuracy: 0.7238\n",
      "Epoch 305/1000\n",
      "15120/15120 [==============================] - 57s 4ms/sample - loss: 0.4814 - accuracy: 0.8151 - val_loss: 0.6574 - val_accuracy: 0.7292\n",
      "Epoch 306/1000\n",
      "15120/15120 [==============================] - 54s 4ms/sample - loss: 0.4819 - accuracy: 0.8108 - val_loss: 0.6567 - val_accuracy: 0.7232\n",
      "Epoch 307/1000\n",
      "15120/15120 [==============================] - 54s 4ms/sample - loss: 0.4824 - accuracy: 0.8096 - val_loss: 0.6539 - val_accuracy: 0.7280\n",
      "Epoch 308/1000\n",
      "15120/15120 [==============================] - 55s 4ms/sample - loss: 0.4747 - accuracy: 0.8182 - val_loss: 0.6535 - val_accuracy: 0.7262\n",
      "Epoch 309/1000\n",
      "15120/15120 [==============================] - 57s 4ms/sample - loss: 0.4754 - accuracy: 0.8163 - val_loss: 0.6524 - val_accuracy: 0.7315\n",
      "Epoch 310/1000\n",
      "15120/15120 [==============================] - 54s 4ms/sample - loss: 0.4749 - accuracy: 0.8187 - val_loss: 0.6562 - val_accuracy: 0.7280\n",
      "Epoch 311/1000\n",
      "15120/15120 [==============================] - 55s 4ms/sample - loss: 0.4706 - accuracy: 0.8210 - val_loss: 0.6539 - val_accuracy: 0.7298\n",
      "Epoch 312/1000\n",
      "15120/15120 [==============================] - 54s 4ms/sample - loss: 0.4712 - accuracy: 0.8190 - val_loss: 0.6561 - val_accuracy: 0.7292\n",
      "Epoch 313/1000\n",
      "15120/15120 [==============================] - 54s 4ms/sample - loss: 0.4746 - accuracy: 0.8155 - val_loss: 0.6516 - val_accuracy: 0.7292\n",
      "Epoch 314/1000\n",
      "15120/15120 [==============================] - 57s 4ms/sample - loss: 0.4741 - accuracy: 0.8150 - val_loss: 0.6522 - val_accuracy: 0.7333\n",
      "Epoch 315/1000\n",
      "15120/15120 [==============================] - 54s 4ms/sample - loss: 0.4672 - accuracy: 0.8196 - val_loss: 0.6534 - val_accuracy: 0.7298\n",
      "Epoch 316/1000\n",
      "15120/15120 [==============================] - 55s 4ms/sample - loss: 0.4706 - accuracy: 0.8204 - val_loss: 0.6510 - val_accuracy: 0.7250\n",
      "Epoch 317/1000\n"
     ]
    },
    {
     "name": "stdout",
     "output_type": "stream",
     "text": [
      "15120/15120 [==============================] - 54s 4ms/sample - loss: 0.4657 - accuracy: 0.8210 - val_loss: 0.6500 - val_accuracy: 0.7274\n",
      "Epoch 318/1000\n",
      "15120/15120 [==============================] - 54s 4ms/sample - loss: 0.4643 - accuracy: 0.8220 - val_loss: 0.6494 - val_accuracy: 0.7238\n",
      "Epoch 319/1000\n",
      "15120/15120 [==============================] - 55s 4ms/sample - loss: 0.4656 - accuracy: 0.8194 - val_loss: 0.6513 - val_accuracy: 0.7274\n",
      "Epoch 320/1000\n",
      "15120/15120 [==============================] - 54s 4ms/sample - loss: 0.4628 - accuracy: 0.8193 - val_loss: 0.6510 - val_accuracy: 0.7304\n",
      "Epoch 321/1000\n",
      "15120/15120 [==============================] - 54s 4ms/sample - loss: 0.4627 - accuracy: 0.8212 - val_loss: 0.6505 - val_accuracy: 0.7321\n",
      "Epoch 322/1000\n",
      "15120/15120 [==============================] - 54s 4ms/sample - loss: 0.4605 - accuracy: 0.8213 - val_loss: 0.6506 - val_accuracy: 0.7268\n",
      "Epoch 323/1000\n",
      "15120/15120 [==============================] - 54s 4ms/sample - loss: 0.4585 - accuracy: 0.8220 - val_loss: 0.6492 - val_accuracy: 0.7286\n",
      "Epoch 324/1000\n",
      "15120/15120 [==============================] - 54s 4ms/sample - loss: 0.4614 - accuracy: 0.8214 - val_loss: 0.6470 - val_accuracy: 0.7292\n",
      "Epoch 325/1000\n",
      "15120/15120 [==============================] - 54s 4ms/sample - loss: 0.4570 - accuracy: 0.8232 - val_loss: 0.6535 - val_accuracy: 0.7226\n",
      "Epoch 326/1000\n",
      "15120/15120 [==============================] - 54s 4ms/sample - loss: 0.4586 - accuracy: 0.8232 - val_loss: 0.6483 - val_accuracy: 0.7298\n",
      "Epoch 327/1000\n",
      "15120/15120 [==============================] - 55s 4ms/sample - loss: 0.4543 - accuracy: 0.8227 - val_loss: 0.6457 - val_accuracy: 0.7286\n",
      "Epoch 328/1000\n",
      "15120/15120 [==============================] - 54s 4ms/sample - loss: 0.4558 - accuracy: 0.8224 - val_loss: 0.6442 - val_accuracy: 0.7274\n",
      "Epoch 329/1000\n",
      "15120/15120 [==============================] - 54s 4ms/sample - loss: 0.4502 - accuracy: 0.8250 - val_loss: 0.6469 - val_accuracy: 0.7250\n",
      "Epoch 330/1000\n",
      "15120/15120 [==============================] - 54s 4ms/sample - loss: 0.4507 - accuracy: 0.8253 - val_loss: 0.6448 - val_accuracy: 0.7274\n",
      "Epoch 331/1000\n",
      "15120/15120 [==============================] - 54s 4ms/sample - loss: 0.4481 - accuracy: 0.8264 - val_loss: 0.6435 - val_accuracy: 0.7327\n",
      "Epoch 332/1000\n",
      "15120/15120 [==============================] - 54s 4ms/sample - loss: 0.4472 - accuracy: 0.8240 - val_loss: 0.6436 - val_accuracy: 0.7298\n",
      "Epoch 333/1000\n",
      "15120/15120 [==============================] - 54s 4ms/sample - loss: 0.4479 - accuracy: 0.8252 - val_loss: 0.6455 - val_accuracy: 0.7280\n",
      "Epoch 334/1000\n",
      "15120/15120 [==============================] - 57s 4ms/sample - loss: 0.4467 - accuracy: 0.8239 - val_loss: 0.6418 - val_accuracy: 0.7339\n",
      "Epoch 335/1000\n",
      "15120/15120 [==============================] - 54s 4ms/sample - loss: 0.4442 - accuracy: 0.8259 - val_loss: 0.6437 - val_accuracy: 0.7298\n",
      "Epoch 336/1000\n",
      "15120/15120 [==============================] - 54s 4ms/sample - loss: 0.4472 - accuracy: 0.8282 - val_loss: 0.6450 - val_accuracy: 0.7244\n",
      "Epoch 337/1000\n",
      "15120/15120 [==============================] - 55s 4ms/sample - loss: 0.4430 - accuracy: 0.8277 - val_loss: 0.6427 - val_accuracy: 0.7327\n",
      "Epoch 338/1000\n",
      "15120/15120 [==============================] - 55s 4ms/sample - loss: 0.4427 - accuracy: 0.8286 - val_loss: 0.6425 - val_accuracy: 0.7333\n",
      "Epoch 339/1000\n",
      "15120/15120 [==============================] - 54s 4ms/sample - loss: 0.4395 - accuracy: 0.8288 - val_loss: 0.6449 - val_accuracy: 0.7298\n",
      "Epoch 340/1000\n",
      "15120/15120 [==============================] - 54s 4ms/sample - loss: 0.4409 - accuracy: 0.8290 - val_loss: 0.6451 - val_accuracy: 0.7310\n",
      "Epoch 341/1000\n",
      "15120/15120 [==============================] - 55s 4ms/sample - loss: 0.4413 - accuracy: 0.8265 - val_loss: 0.6435 - val_accuracy: 0.7304\n",
      "Epoch 342/1000\n",
      "15120/15120 [==============================] - 54s 4ms/sample - loss: 0.4374 - accuracy: 0.8286 - val_loss: 0.6403 - val_accuracy: 0.7292\n",
      "Epoch 343/1000\n",
      "15120/15120 [==============================] - 54s 4ms/sample - loss: 0.4353 - accuracy: 0.8329 - val_loss: 0.6411 - val_accuracy: 0.7333\n",
      "Epoch 344/1000\n",
      "15120/15120 [==============================] - 54s 4ms/sample - loss: 0.4338 - accuracy: 0.8322 - val_loss: 0.6408 - val_accuracy: 0.7304\n",
      "Epoch 345/1000\n",
      "15120/15120 [==============================] - 54s 4ms/sample - loss: 0.4417 - accuracy: 0.8282 - val_loss: 0.6396 - val_accuracy: 0.7292\n",
      "Epoch 346/1000\n",
      "15120/15120 [==============================] - 54s 4ms/sample - loss: 0.4333 - accuracy: 0.8311 - val_loss: 0.6396 - val_accuracy: 0.7315\n",
      "Epoch 347/1000\n",
      "15120/15120 [==============================] - 55s 4ms/sample - loss: 0.4351 - accuracy: 0.8294 - val_loss: 0.6384 - val_accuracy: 0.7304\n",
      "Epoch 348/1000\n",
      "15120/15120 [==============================] - 57s 4ms/sample - loss: 0.4319 - accuracy: 0.8318 - val_loss: 0.6386 - val_accuracy: 0.7351\n",
      "Epoch 349/1000\n",
      "15120/15120 [==============================] - 54s 4ms/sample - loss: 0.4309 - accuracy: 0.8331 - val_loss: 0.6400 - val_accuracy: 0.7298\n",
      "Epoch 350/1000\n",
      "15120/15120 [==============================] - 55s 4ms/sample - loss: 0.4294 - accuracy: 0.8350 - val_loss: 0.6389 - val_accuracy: 0.7339\n",
      "Epoch 351/1000\n",
      "15120/15120 [==============================] - 55s 4ms/sample - loss: 0.4277 - accuracy: 0.8342 - val_loss: 0.6391 - val_accuracy: 0.7321\n",
      "Epoch 352/1000\n",
      "15120/15120 [==============================] - 54s 4ms/sample - loss: 0.4327 - accuracy: 0.8321 - val_loss: 0.6368 - val_accuracy: 0.7298\n",
      "Epoch 353/1000\n",
      "15120/15120 [==============================] - 54s 4ms/sample - loss: 0.4301 - accuracy: 0.8313 - val_loss: 0.6356 - val_accuracy: 0.7327\n",
      "Epoch 354/1000\n",
      "15120/15120 [==============================] - 54s 4ms/sample - loss: 0.4303 - accuracy: 0.8322 - val_loss: 0.6374 - val_accuracy: 0.7286\n",
      "Epoch 355/1000\n",
      "15120/15120 [==============================] - 55s 4ms/sample - loss: 0.4286 - accuracy: 0.8319 - val_loss: 0.6372 - val_accuracy: 0.7345\n",
      "Epoch 356/1000\n",
      "15120/15120 [==============================] - 54s 4ms/sample - loss: 0.4250 - accuracy: 0.8356 - val_loss: 0.6389 - val_accuracy: 0.7286\n",
      "Epoch 357/1000\n",
      "15120/15120 [==============================] - 54s 4ms/sample - loss: 0.4226 - accuracy: 0.8360 - val_loss: 0.6388 - val_accuracy: 0.7304\n",
      "Epoch 358/1000\n",
      "15120/15120 [==============================] - 55s 4ms/sample - loss: 0.4212 - accuracy: 0.8345 - val_loss: 0.6364 - val_accuracy: 0.7310\n",
      "Epoch 359/1000\n",
      "15120/15120 [==============================] - 54s 4ms/sample - loss: 0.4212 - accuracy: 0.8353 - val_loss: 0.6348 - val_accuracy: 0.7310\n",
      "Epoch 360/1000\n",
      "15120/15120 [==============================] - 54s 4ms/sample - loss: 0.4187 - accuracy: 0.8406 - val_loss: 0.6371 - val_accuracy: 0.7351\n",
      "Epoch 361/1000\n",
      "15120/15120 [==============================] - 57s 4ms/sample - loss: 0.4212 - accuracy: 0.8377 - val_loss: 0.6344 - val_accuracy: 0.7369\n",
      "Epoch 362/1000\n",
      "15120/15120 [==============================] - 54s 4ms/sample - loss: 0.4202 - accuracy: 0.8386 - val_loss: 0.6334 - val_accuracy: 0.7310\n",
      "Epoch 363/1000\n",
      "15120/15120 [==============================] - 54s 4ms/sample - loss: 0.4173 - accuracy: 0.8378 - val_loss: 0.6338 - val_accuracy: 0.7315\n",
      "Epoch 364/1000\n",
      "15120/15120 [==============================] - 54s 4ms/sample - loss: 0.4179 - accuracy: 0.8368 - val_loss: 0.6324 - val_accuracy: 0.7357\n",
      "Epoch 365/1000\n",
      "15120/15120 [==============================] - 54s 4ms/sample - loss: 0.4156 - accuracy: 0.8390 - val_loss: 0.6335 - val_accuracy: 0.7351\n",
      "Epoch 366/1000\n",
      "15120/15120 [==============================] - 54s 4ms/sample - loss: 0.4140 - accuracy: 0.8372 - val_loss: 0.6325 - val_accuracy: 0.7333\n",
      "Epoch 367/1000\n",
      "15120/15120 [==============================] - 54s 4ms/sample - loss: 0.4130 - accuracy: 0.8382 - val_loss: 0.6357 - val_accuracy: 0.7321\n",
      "Epoch 368/1000\n",
      "15120/15120 [==============================] - 55s 4ms/sample - loss: 0.4119 - accuracy: 0.8398 - val_loss: 0.6343 - val_accuracy: 0.7286\n",
      "Epoch 369/1000\n",
      "15120/15120 [==============================] - 55s 4ms/sample - loss: 0.4129 - accuracy: 0.8392 - val_loss: 0.6325 - val_accuracy: 0.7304\n",
      "Epoch 370/1000\n",
      "15120/15120 [==============================] - 54s 4ms/sample - loss: 0.4064 - accuracy: 0.8407 - val_loss: 0.6312 - val_accuracy: 0.7315\n",
      "Epoch 371/1000\n",
      "15120/15120 [==============================] - 54s 4ms/sample - loss: 0.4101 - accuracy: 0.8399 - val_loss: 0.6334 - val_accuracy: 0.7339\n",
      "Epoch 372/1000\n",
      "15120/15120 [==============================] - 54s 4ms/sample - loss: 0.4074 - accuracy: 0.8428 - val_loss: 0.6343 - val_accuracy: 0.7315\n",
      "Epoch 373/1000\n",
      "15120/15120 [==============================] - 57s 4ms/sample - loss: 0.4078 - accuracy: 0.8429 - val_loss: 0.6299 - val_accuracy: 0.7405\n",
      "Epoch 374/1000\n",
      "15120/15120 [==============================] - 54s 4ms/sample - loss: 0.4048 - accuracy: 0.8426 - val_loss: 0.6307 - val_accuracy: 0.7315\n",
      "Epoch 375/1000\n",
      "15120/15120 [==============================] - 54s 4ms/sample - loss: 0.4065 - accuracy: 0.8389 - val_loss: 0.6288 - val_accuracy: 0.7363\n",
      "Epoch 376/1000\n",
      "15120/15120 [==============================] - 54s 4ms/sample - loss: 0.4060 - accuracy: 0.8413 - val_loss: 0.6311 - val_accuracy: 0.7333\n",
      "Epoch 377/1000\n",
      "15120/15120 [==============================] - 54s 4ms/sample - loss: 0.4020 - accuracy: 0.8439 - val_loss: 0.6294 - val_accuracy: 0.7327\n",
      "Epoch 378/1000\n",
      "15120/15120 [==============================] - 54s 4ms/sample - loss: 0.4001 - accuracy: 0.8463 - val_loss: 0.6342 - val_accuracy: 0.7262\n",
      "Epoch 379/1000\n",
      "15120/15120 [==============================] - 54s 4ms/sample - loss: 0.4009 - accuracy: 0.8429 - val_loss: 0.6345 - val_accuracy: 0.7292\n",
      "Epoch 380/1000\n",
      "15120/15120 [==============================] - 54s 4ms/sample - loss: 0.3969 - accuracy: 0.8433 - val_loss: 0.6297 - val_accuracy: 0.7304\n",
      "Epoch 381/1000\n",
      "15120/15120 [==============================] - 54s 4ms/sample - loss: 0.3976 - accuracy: 0.8440 - val_loss: 0.6313 - val_accuracy: 0.7387\n",
      "Epoch 382/1000\n",
      "15120/15120 [==============================] - 54s 4ms/sample - loss: 0.3984 - accuracy: 0.8459 - val_loss: 0.6344 - val_accuracy: 0.7315\n",
      "Epoch 383/1000\n",
      "15120/15120 [==============================] - 52s 3ms/sample - loss: 0.4011 - accuracy: 0.8435 - val_loss: 0.6295 - val_accuracy: 0.7333\n",
      "Epoch 384/1000\n",
      "15120/15120 [==============================] - 54s 4ms/sample - loss: 0.3964 - accuracy: 0.8443 - val_loss: 0.6299 - val_accuracy: 0.7327\n",
      "Epoch 385/1000\n",
      "15120/15120 [==============================] - 54s 4ms/sample - loss: 0.3977 - accuracy: 0.8464 - val_loss: 0.6294 - val_accuracy: 0.7393\n",
      "Epoch 386/1000\n",
      "15120/15120 [==============================] - 53s 4ms/sample - loss: 0.3941 - accuracy: 0.8446 - val_loss: 0.6296 - val_accuracy: 0.7333\n",
      "Epoch 387/1000\n",
      "15120/15120 [==============================] - 56s 4ms/sample - loss: 0.3926 - accuracy: 0.8475 - val_loss: 0.6292 - val_accuracy: 0.7417\n",
      "Epoch 388/1000\n",
      "15120/15120 [==============================] - 55s 4ms/sample - loss: 0.3945 - accuracy: 0.8452 - val_loss: 0.6269 - val_accuracy: 0.7333\n",
      "Epoch 389/1000\n",
      "15120/15120 [==============================] - 55s 4ms/sample - loss: 0.3938 - accuracy: 0.8444 - val_loss: 0.6258 - val_accuracy: 0.7351\n",
      "Epoch 390/1000\n",
      "15120/15120 [==============================] - 54s 4ms/sample - loss: 0.3882 - accuracy: 0.8504 - val_loss: 0.6284 - val_accuracy: 0.7351\n",
      "Epoch 391/1000\n",
      "15120/15120 [==============================] - 54s 4ms/sample - loss: 0.3913 - accuracy: 0.8466 - val_loss: 0.6273 - val_accuracy: 0.7321\n",
      "Epoch 392/1000\n",
      "15120/15120 [==============================] - 55s 4ms/sample - loss: 0.3866 - accuracy: 0.8485 - val_loss: 0.6274 - val_accuracy: 0.7351\n",
      "Epoch 393/1000\n",
      "15120/15120 [==============================] - 55s 4ms/sample - loss: 0.3880 - accuracy: 0.8479 - val_loss: 0.6299 - val_accuracy: 0.7304\n",
      "Epoch 394/1000\n",
      "15120/15120 [==============================] - 54s 4ms/sample - loss: 0.3851 - accuracy: 0.8501 - val_loss: 0.6282 - val_accuracy: 0.7387\n",
      "Epoch 395/1000\n",
      "15120/15120 [==============================] - 55s 4ms/sample - loss: 0.3825 - accuracy: 0.8515 - val_loss: 0.6304 - val_accuracy: 0.7315\n",
      "Epoch 396/1000\n",
      "15120/15120 [==============================] - 54s 4ms/sample - loss: 0.3874 - accuracy: 0.8507 - val_loss: 0.6261 - val_accuracy: 0.7375\n",
      "Epoch 397/1000\n",
      "15120/15120 [==============================] - 54s 4ms/sample - loss: 0.3866 - accuracy: 0.8509 - val_loss: 0.6287 - val_accuracy: 0.7357\n",
      "Epoch 398/1000\n",
      "15120/15120 [==============================] - 55s 4ms/sample - loss: 0.3803 - accuracy: 0.8541 - val_loss: 0.6261 - val_accuracy: 0.7321\n",
      "Epoch 399/1000\n",
      "15120/15120 [==============================] - 54s 4ms/sample - loss: 0.3825 - accuracy: 0.8512 - val_loss: 0.6259 - val_accuracy: 0.7339\n",
      "Epoch 400/1000\n",
      "15120/15120 [==============================] - 55s 4ms/sample - loss: 0.3832 - accuracy: 0.8507 - val_loss: 0.6265 - val_accuracy: 0.7351\n",
      "Epoch 401/1000\n",
      "15120/15120 [==============================] - 54s 4ms/sample - loss: 0.3788 - accuracy: 0.8524 - val_loss: 0.6292 - val_accuracy: 0.7333\n",
      "Epoch 402/1000\n",
      "15120/15120 [==============================] - 55s 4ms/sample - loss: 0.3799 - accuracy: 0.8515 - val_loss: 0.6285 - val_accuracy: 0.7304\n",
      "Epoch 403/1000\n",
      "15120/15120 [==============================] - 54s 4ms/sample - loss: 0.3786 - accuracy: 0.8532 - val_loss: 0.6299 - val_accuracy: 0.7345\n",
      "Epoch 404/1000\n",
      "15120/15120 [==============================] - 54s 4ms/sample - loss: 0.3804 - accuracy: 0.8477 - val_loss: 0.6287 - val_accuracy: 0.7345\n",
      "Epoch 405/1000\n",
      "15120/15120 [==============================] - 54s 4ms/sample - loss: 0.3791 - accuracy: 0.8518 - val_loss: 0.6290 - val_accuracy: 0.7357\n",
      "Epoch 406/1000\n",
      "15120/15120 [==============================] - 54s 4ms/sample - loss: 0.3769 - accuracy: 0.8517 - val_loss: 0.6269 - val_accuracy: 0.7351\n",
      "Epoch 407/1000\n",
      "15120/15120 [==============================] - 55s 4ms/sample - loss: 0.3757 - accuracy: 0.8519 - val_loss: 0.6265 - val_accuracy: 0.7357\n",
      "Epoch 00407: early stopping\n"
     ]
    },
    {
     "data": {
      "text/plain": [
       "<tensorflow.python.keras.callbacks.History at 0x7f3d041e9290>"
      ]
     },
     "execution_count": 31,
     "metadata": {},
     "output_type": "execute_result"
    }
   ],
   "source": [
    "model_file = os.path.join(run_folder, 'weights-improvement.h5')\n",
    "callbacks = [EarlyStopping(monitor='val_accuracy', patience=patience, verbose=1),\n",
    "            ModelCheckpoint(filepath=model_file, monitor='val_accuracy', save_best_only=True, verbose=0)]\n",
    "\n",
    "classifier.fit(x = input_train, y = output_train, callbacks=callbacks, epochs=epochs, \n",
    "          batch_size=batch_size,validation_split=0.1)"
   ]
  },
  {
   "cell_type": "code",
   "execution_count": 32,
   "metadata": {},
   "outputs": [],
   "source": [
    "classifier.load_weights(model_file)\n",
    "prediction_test = classifier.predict(input_test)"
   ]
  },
  {
   "cell_type": "code",
   "execution_count": 33,
   "metadata": {},
   "outputs": [],
   "source": [
    "prediction_logits = np.argmax(prediction_test, axis=1)"
   ]
  },
  {
   "cell_type": "code",
   "execution_count": 34,
   "metadata": {},
   "outputs": [],
   "source": [
    "output_logits = np.argmax(output_test, axis=1)"
   ]
  },
  {
   "cell_type": "markdown",
   "metadata": {},
   "source": [
    "### subj classification accuracy"
   ]
  },
  {
   "cell_type": "code",
   "execution_count": 35,
   "metadata": {},
   "outputs": [
    {
     "data": {
      "text/plain": [
       "0.7571428571428571"
      ]
     },
     "execution_count": 35,
     "metadata": {},
     "output_type": "execute_result"
    }
   ],
   "source": [
    "np.mean(prediction_logits==output_logits)"
   ]
  },
  {
   "cell_type": "markdown",
   "metadata": {},
   "source": [
    "## now spectrograms as a whole"
   ]
  },
  {
   "cell_type": "code",
   "execution_count": 56,
   "metadata": {},
   "outputs": [],
   "source": [
    "subj_list = spec_df.name.values.tolist()"
   ]
  },
  {
   "cell_type": "code",
   "execution_count": 15,
   "metadata": {},
   "outputs": [],
   "source": [
    "from sklearn.preprocessing import OneHotEncoder\n",
    "\n",
    "enc = OneHotEncoder(handle_unknown='ignore')\n",
    "output_data = enc.fit_transform(np.array(subj_list).reshape((len(subj_list), 1))).toarray()"
   ]
  },
  {
   "cell_type": "code",
   "execution_count": 16,
   "metadata": {},
   "outputs": [],
   "source": [
    "import itertools\n",
    "output_data = np.array(list(itertools.chain.from_iterable(itertools.repeat(x, 3) for x in output_data)))"
   ]
  },
  {
   "cell_type": "code",
   "execution_count": 17,
   "metadata": {},
   "outputs": [
    {
     "data": {
      "text/plain": [
       "(array([[0., 0., 0., 0., 0., 0., 0., 0., 0., 0., 0., 0., 0., 1.],\n",
       "        [0., 0., 0., 0., 0., 0., 0., 0., 0., 0., 0., 0., 1., 0.],\n",
       "        [0., 0., 0., 0., 0., 0., 0., 0., 0., 0., 0., 1., 0., 0.],\n",
       "        [0., 0., 0., 0., 0., 0., 0., 0., 0., 0., 1., 0., 0., 0.],\n",
       "        [0., 0., 0., 0., 0., 0., 0., 0., 0., 1., 0., 0., 0., 0.],\n",
       "        [0., 0., 0., 0., 0., 0., 0., 0., 1., 0., 0., 0., 0., 0.],\n",
       "        [0., 0., 0., 0., 0., 0., 0., 1., 0., 0., 0., 0., 0., 0.],\n",
       "        [0., 0., 0., 0., 0., 0., 1., 0., 0., 0., 0., 0., 0., 0.],\n",
       "        [0., 0., 0., 0., 0., 1., 0., 0., 0., 0., 0., 0., 0., 0.],\n",
       "        [0., 0., 0., 0., 1., 0., 0., 0., 0., 0., 0., 0., 0., 0.],\n",
       "        [0., 0., 0., 1., 0., 0., 0., 0., 0., 0., 0., 0., 0., 0.],\n",
       "        [0., 0., 1., 0., 0., 0., 0., 0., 0., 0., 0., 0., 0., 0.],\n",
       "        [0., 1., 0., 0., 0., 0., 0., 0., 0., 0., 0., 0., 0., 0.],\n",
       "        [1., 0., 0., 0., 0., 0., 0., 0., 0., 0., 0., 0., 0., 0.]]),\n",
       " array([1500, 1500, 1500, 1500, 1500, 1500, 1500, 1500, 1500, 1500, 1500,\n",
       "        1500, 1500, 1500]))"
      ]
     },
     "execution_count": 17,
     "metadata": {},
     "output_type": "execute_result"
    }
   ],
   "source": [
    "np.unique(output_data, return_counts=True, axis=0)"
   ]
  },
  {
   "cell_type": "code",
   "execution_count": 18,
   "metadata": {},
   "outputs": [],
   "source": [
    "input_list = []\n",
    "for spec in spec_list:\n",
    "    spec_h, spec_w = spec.shape\n",
    "    divided_w = spec_w//3\n",
    "    for i in range(3):\n",
    "        s = spec[:, divided_w*i:divided_w*(i+1)]\n",
    "        input_list.append(np.stack([s, s, s], axis = 2))"
   ]
  },
  {
   "cell_type": "code",
   "execution_count": 19,
   "metadata": {},
   "outputs": [],
   "source": [
    "input_list = np.array(input_list)"
   ]
  },
  {
   "cell_type": "code",
   "execution_count": 20,
   "metadata": {},
   "outputs": [
    {
     "data": {
      "text/plain": [
       "(21000, 291, 235, 3)"
      ]
     },
     "execution_count": 20,
     "metadata": {},
     "output_type": "execute_result"
    }
   ],
   "source": [
    "input_list.shape"
   ]
  },
  {
   "cell_type": "code",
   "execution_count": 21,
   "metadata": {},
   "outputs": [
    {
     "name": "stdout",
     "output_type": "stream",
     "text": [
      "21000 14 291 235\n"
     ]
    }
   ],
   "source": [
    "n_samples, n_outputs=output_data.shape\n",
    "h, w = input_list[0].shape[:2]\n",
    "print(n_samples, n_outputs, h, w)"
   ]
  },
  {
   "cell_type": "code",
   "execution_count": 22,
   "metadata": {},
   "outputs": [],
   "source": [
    "input_train, input_test, output_train, output_test = train_test_split(input_list, output_data, test_size = 0.2, \n",
    "                                                                      random_state=20, stratify=output_data)"
   ]
  },
  {
   "cell_type": "code",
   "execution_count": 23,
   "metadata": {},
   "outputs": [],
   "source": [
    "input_train = np.array(input_train)\n",
    "input_test = np.array(input_test)\n",
    "output_train = np.array(output_train)\n",
    "output_test = np.array(output_test)"
   ]
  },
  {
   "cell_type": "markdown",
   "metadata": {},
   "source": [
    "### make model"
   ]
  },
  {
   "cell_type": "code",
   "execution_count": 24,
   "metadata": {},
   "outputs": [],
   "source": [
    "clear_session()"
   ]
  },
  {
   "cell_type": "code",
   "execution_count": 25,
   "metadata": {
    "scrolled": false
   },
   "outputs": [],
   "source": [
    "model=self_VGG()"
   ]
  },
  {
   "cell_type": "code",
   "execution_count": 26,
   "metadata": {},
   "outputs": [],
   "source": [
    "model_inputs = Input(shape=(h, w, 3))\n",
    "resized = layers.experimental.preprocessing.Resizing(224, 224, interpolation=\"bilinear\")(model_inputs)\n",
    "dense_1 = layers.Dense(2048, name='dense1', activation='relu')(model(resized))\n",
    "dropout_1 = layers.Dropout(0.2)(dense_1)\n",
    "dense_2 = layers.Dense(2048, name='dense2', activation='relu')(dropout_1)\n",
    "dropout_2 = layers.Dropout(0.2)(dense_2)\n",
    "dense_3 = layers.Dense(1024, name='dense3', activation='relu')(dropout_2)\n",
    "dropout_3 = layers.Dropout(0.2)(dense_3)\n",
    "model_output = layers.Dense(n_outputs, name='output', activation ='softmax')(dropout_3) # this needs to be changed for both temporal and spectral slices\n",
    "classifier = Model(model_inputs, model_output)"
   ]
  },
  {
   "cell_type": "code",
   "execution_count": 27,
   "metadata": {},
   "outputs": [
    {
     "name": "stdout",
     "output_type": "stream",
     "text": [
      "Model: \"functional_1\"\n",
      "_________________________________________________________________\n",
      "Layer (type)                 Output Shape              Param #   \n",
      "=================================================================\n",
      "input_2 (InputLayer)         [(None, 291, 235, 3)]     0         \n",
      "_________________________________________________________________\n",
      "resizing (Resizing)          (None, 224, 224, 3)       0         \n",
      "_________________________________________________________________\n",
      "vgg19 (Functional)           (None, 512)               20024384  \n",
      "_________________________________________________________________\n",
      "dense1 (Dense)               (None, 2048)              1050624   \n",
      "_________________________________________________________________\n",
      "dropout (Dropout)            (None, 2048)              0         \n",
      "_________________________________________________________________\n",
      "dense2 (Dense)               (None, 2048)              4196352   \n",
      "_________________________________________________________________\n",
      "dropout_1 (Dropout)          (None, 2048)              0         \n",
      "_________________________________________________________________\n",
      "dense3 (Dense)               (None, 1024)              2098176   \n",
      "_________________________________________________________________\n",
      "dropout_2 (Dropout)          (None, 1024)              0         \n",
      "_________________________________________________________________\n",
      "output (Dense)               (None, 14)                14350     \n",
      "=================================================================\n",
      "Total params: 27,383,886\n",
      "Trainable params: 27,383,886\n",
      "Non-trainable params: 0\n",
      "_________________________________________________________________\n"
     ]
    }
   ],
   "source": [
    "classifier.summary()"
   ]
  },
  {
   "cell_type": "code",
   "execution_count": 28,
   "metadata": {},
   "outputs": [],
   "source": [
    "classifier.load_weights(os.path.join('/mnt/cube/kai/results/perceptual_loss/2021_07_19_16_56_50/weights-improvement.h5'),\n",
    "                       by_name=True)"
   ]
  },
  {
   "cell_type": "code",
   "execution_count": 29,
   "metadata": {},
   "outputs": [],
   "source": [
    "classifier.compile(loss='categorical_crossentropy', optimizer = Adam(0.00001), metrics=['accuracy'])"
   ]
  },
  {
   "cell_type": "code",
   "execution_count": 30,
   "metadata": {},
   "outputs": [],
   "source": [
    "results_folder = os.path.abspath('/mnt/cube/kai/results/perceptual_loss')\n",
    "run_folder = extend_folder(results_folder, '2021_07_19_16_56_50', 'subj_classification', 'unsegmented_trainable')\n",
    "with open(os.path.join(run_folder, 'training.log'), 'w') as file:\n",
    "    file.write('This is a model pretrained on whole Starling songs in star scale without slicing, \\\n",
    "               fine tuned on subject classification (Starling), pretrained weights are trainable')"
   ]
  },
  {
   "cell_type": "code",
   "execution_count": 31,
   "metadata": {},
   "outputs": [],
   "source": [
    "patience = 20\n",
    "batch_size = 32\n",
    "epochs = 1000"
   ]
  },
  {
   "cell_type": "code",
   "execution_count": null,
   "metadata": {
    "scrolled": false
   },
   "outputs": [
    {
     "name": "stdout",
     "output_type": "stream",
     "text": [
      "Train on 15120 samples, validate on 1680 samples\n",
      "Epoch 1/1000\n",
      " 3680/15120 [======>.......................] - ETA: 1:28 - loss: 2.6388 - accuracy: 0.0780"
     ]
    }
   ],
   "source": [
    "weights_file = os.path.join(run_folder, 'weights-improvement.h5')\n",
    "callbacks = [EarlyStopping(monitor='val_accuracy', patience=patience, verbose=1),\n",
    "            ModelCheckpoint(filepath=weights_file, monitor='val_accuracy', save_best_only=True, verbose=0)]\n",
    "\n",
    "classifier.fit(x = input_train, y = output_train, callbacks=callbacks, epochs=epochs, \n",
    "          batch_size=batch_size,validation_split=0.1)"
   ]
  },
  {
   "cell_type": "code",
   "execution_count": 33,
   "metadata": {},
   "outputs": [],
   "source": [
    "classifier.load_weights(weights_file)\n",
    "prediction_test = classifier.predict(input_test)"
   ]
  },
  {
   "cell_type": "code",
   "execution_count": 34,
   "metadata": {},
   "outputs": [],
   "source": [
    "prediction_logits = np.argmax(prediction_test, axis=1)"
   ]
  },
  {
   "cell_type": "code",
   "execution_count": 35,
   "metadata": {},
   "outputs": [],
   "source": [
    "output_logits = np.argmax(output_test, axis=1)"
   ]
  },
  {
   "cell_type": "markdown",
   "metadata": {},
   "source": [
    "### subj classification accuracy"
   ]
  },
  {
   "cell_type": "code",
   "execution_count": 36,
   "metadata": {},
   "outputs": [
    {
     "data": {
      "text/plain": [
       "0.8095238095238095"
      ]
     },
     "execution_count": 36,
     "metadata": {},
     "output_type": "execute_result"
    }
   ],
   "source": [
    "np.mean(prediction_logits==output_logits)"
   ]
  },
  {
   "cell_type": "code",
   "execution_count": null,
   "metadata": {},
   "outputs": [],
   "source": []
  }
 ],
 "metadata": {
  "kernelspec": {
   "display_name": "Python 3",
   "language": "python",
   "name": "python3"
  },
  "language_info": {
   "codemirror_mode": {
    "name": "ipython",
    "version": 3
   },
   "file_extension": ".py",
   "mimetype": "text/x-python",
   "name": "python",
   "nbconvert_exporter": "python",
   "pygments_lexer": "ipython3",
   "version": "3.7.10"
  }
 },
 "nbformat": 4,
 "nbformat_minor": 2
}
