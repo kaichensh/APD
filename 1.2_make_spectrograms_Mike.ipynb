{
 "cells": [
  {
   "cell_type": "code",
   "execution_count": 1,
   "id": "beaa282b",
   "metadata": {},
   "outputs": [],
   "source": [
    "%matplotlib inline\n",
    "import numpy as np\n",
    "import matplotlib.pyplot as plt\n",
    "import copy\n",
    "import socket\n",
    "import os\n",
    "import sys\n",
    "import pandas as pd\n",
    "import scipy.io as sio\n",
    "import matplotlib\n",
    "import scipy.signal as sg\n",
    "from scipy.io import wavfile\n",
    "import math\n",
    "import scipy as sp\n",
    "import pylab\n",
    "import h5py\n",
    "import pickle\n",
    "import seaborn as sns\n",
    "import random\n",
    "import collections\n",
    "import logging\n",
    "import datetime\n",
    "import itertools\n",
    "import tensorflow as tf\n",
    "import tensorflow.keras as keras\n",
    "import sklearn\n",
    "import gc\n",
    "import importlib\n",
    "import librosa\n",
    "import librosa.display\n",
    "from glob import glob\n",
    "from sklearn.preprocessing import MinMaxScaler, StandardScaler\n",
    "from sklearn.metrics import mean_squared_error\n",
    "from sklearn.decomposition import PCA\n",
    "from sklearn.model_selection import train_test_split\n",
    "\n",
    "from tensorflow.keras.models import Sequential, load_model\n",
    "from tensorflow.keras.layers import Activation\n",
    "from tensorflow.keras.optimizers import SGD\n",
    "from tensorflow.keras.layers import Dense, Dropout\n",
    "from tensorflow.keras.callbacks import EarlyStopping, ModelCheckpoint\n",
    "matplotlib.rcParams['pdf.fonttype'] = 42\n",
    "matplotlib.rcParams['ps.fonttype'] = 42\n",
    "\n",
    "sys.path.append(\"..\") # Adds higher directory to python modules path.\n",
    "from helpers.dataset_vars import *\n",
    "from helpers.myclasses import *"
   ]
  },
  {
   "cell_type": "code",
   "execution_count": 2,
   "id": "2eec50f6",
   "metadata": {},
   "outputs": [],
   "source": [
    "from math_utils import *"
   ]
  },
  {
   "cell_type": "markdown",
   "id": "6f2d1610",
   "metadata": {},
   "source": [
    "# location of wavs"
   ]
  },
  {
   "cell_type": "code",
   "execution_count": 6,
   "id": "e1cf003a",
   "metadata": {},
   "outputs": [],
   "source": [
    "data_folder = os.path.abspath('/mnt/cube/mturvz/normed_motifs/all_motifs')"
   ]
  },
  {
   "cell_type": "code",
   "execution_count": 7,
   "id": "4916203b",
   "metadata": {},
   "outputs": [],
   "source": [
    "all_wavs = sorted(glob(os.path.join(data_folder, '*.wav')))"
   ]
  },
  {
   "cell_type": "code",
   "execution_count": 8,
   "id": "15ccdb27",
   "metadata": {},
   "outputs": [
    {
     "name": "stdout",
     "output_type": "stream",
     "text": [
      "/mnt/cube/mturvz/normed_motifs/all_motifs/A2-1_165_s_03_@1.wav\n"
     ]
    }
   ],
   "source": [
    "print(all_wavs[0])"
   ]
  },
  {
   "cell_type": "code",
   "execution_count": 10,
   "id": "de385f81",
   "metadata": {},
   "outputs": [],
   "source": [
    "y, sr = librosa.load(all_wavs[0], sr=None)"
   ]
  },
  {
   "cell_type": "code",
   "execution_count": 11,
   "id": "894fa5e4",
   "metadata": {},
   "outputs": [],
   "source": [
    "spec_pars = {'fft_size': 2048, \n",
    "             'step_size': 256,\n",
    "             'n_stars':int(hz2star(sr/2)),\n",
    "             'fmin': 20}"
   ]
  },
  {
   "cell_type": "markdown",
   "id": "7c5c6585",
   "metadata": {},
   "source": [
    "# compile all"
   ]
  },
  {
   "cell_type": "code",
   "execution_count": 12,
   "id": "0bd996b3",
   "metadata": {},
   "outputs": [],
   "source": [
    "spec_file = os.path.join('/mnt/cube/kai/data_processed/others', 'Mike_stims_specs_star.p')\n",
    "if os.path.exists(spec_file):\n",
    "    paragraph_print(f'Skipping', separation = '>')\n",
    "else:\n",
    "    all_specs = list()\n",
    "    all_indeces = list()\n",
    "    all_names = list()\n",
    "    for wav in all_wavs:\n",
    "        wav_name=wav.split('/')[-1].split('.')[0]\n",
    "        y, sr = librosa.load(wav, sr=None)\n",
    "        S_star = star_spectrogram(y=y, sr=sr, n_stars=spec_pars['n_stars'], n_fft=spec_pars['fft_size'], \n",
    "                                      hop_length=spec_pars['step_size'], win_length=spec_pars['fft_size'], \n",
    "                                      window='hann')\n",
    "        S_norm = librosa.util.normalize(librosa.power_to_db(S_star, ref=np.max))\n",
    "        all_specs.append(S_norm)\n",
    "        all_names.append(wav)\n",
    "    morph_df = pd.DataFrame()\n",
    "    morph_df['wav'] = all_names\n",
    "    morph_df['spec'] = all_specs"
   ]
  },
  {
   "cell_type": "code",
   "execution_count": 13,
   "id": "1b3f4d9a",
   "metadata": {},
   "outputs": [
    {
     "data": {
      "text/html": [
       "<div>\n",
       "<style scoped>\n",
       "    .dataframe tbody tr th:only-of-type {\n",
       "        vertical-align: middle;\n",
       "    }\n",
       "\n",
       "    .dataframe tbody tr th {\n",
       "        vertical-align: top;\n",
       "    }\n",
       "\n",
       "    .dataframe thead th {\n",
       "        text-align: right;\n",
       "    }\n",
       "</style>\n",
       "<table border=\"1\" class=\"dataframe\">\n",
       "  <thead>\n",
       "    <tr style=\"text-align: right;\">\n",
       "      <th></th>\n",
       "      <th>wav</th>\n",
       "      <th>spec</th>\n",
       "    </tr>\n",
       "  </thead>\n",
       "  <tbody>\n",
       "    <tr>\n",
       "      <th>0</th>\n",
       "      <td>/mnt/cube/mturvz/normed_motifs/all_motifs/A2-1...</td>\n",
       "      <td>[[-0.89071786, -0.9061238, -0.94669884, -0.995...</td>\n",
       "    </tr>\n",
       "    <tr>\n",
       "      <th>1</th>\n",
       "      <td>/mnt/cube/mturvz/normed_motifs/all_motifs/A3_+...</td>\n",
       "      <td>[[-0.8159339, -0.8329322, -0.8805124, -0.95064...</td>\n",
       "    </tr>\n",
       "    <tr>\n",
       "      <th>2</th>\n",
       "      <td>/mnt/cube/mturvz/normed_motifs/all_motifs/A62_...</td>\n",
       "      <td>[[-0.7634527, -0.77958375, -0.8326478, -0.9381...</td>\n",
       "    </tr>\n",
       "    <tr>\n",
       "      <th>3</th>\n",
       "      <td>/mnt/cube/mturvz/normed_motifs/all_motifs/B11_...</td>\n",
       "      <td>[[-0.9130305, -0.9239519, -0.95564747, -1.0, -...</td>\n",
       "    </tr>\n",
       "    <tr>\n",
       "      <th>4</th>\n",
       "      <td>/mnt/cube/mturvz/normed_motifs/all_motifs/B12_...</td>\n",
       "      <td>[[-0.8242189, -0.84699905, -0.93398845, -1.0, ...</td>\n",
       "    </tr>\n",
       "  </tbody>\n",
       "</table>\n",
       "</div>"
      ],
      "text/plain": [
       "                                                 wav  \\\n",
       "0  /mnt/cube/mturvz/normed_motifs/all_motifs/A2-1...   \n",
       "1  /mnt/cube/mturvz/normed_motifs/all_motifs/A3_+...   \n",
       "2  /mnt/cube/mturvz/normed_motifs/all_motifs/A62_...   \n",
       "3  /mnt/cube/mturvz/normed_motifs/all_motifs/B11_...   \n",
       "4  /mnt/cube/mturvz/normed_motifs/all_motifs/B12_...   \n",
       "\n",
       "                                                spec  \n",
       "0  [[-0.89071786, -0.9061238, -0.94669884, -0.995...  \n",
       "1  [[-0.8159339, -0.8329322, -0.8805124, -0.95064...  \n",
       "2  [[-0.7634527, -0.77958375, -0.8326478, -0.9381...  \n",
       "3  [[-0.9130305, -0.9239519, -0.95564747, -1.0, -...  \n",
       "4  [[-0.8242189, -0.84699905, -0.93398845, -1.0, ...  "
      ]
     },
     "execution_count": 13,
     "metadata": {},
     "output_type": "execute_result"
    }
   ],
   "source": [
    "morph_df.head()"
   ]
  },
  {
   "cell_type": "code",
   "execution_count": 14,
   "id": "3b9d844c",
   "metadata": {},
   "outputs": [],
   "source": [
    "morph_df.to_pickle(spec_file)\n",
    "del morph_df"
   ]
  },
  {
   "cell_type": "code",
   "execution_count": null,
   "id": "3619909b",
   "metadata": {},
   "outputs": [],
   "source": []
  }
 ],
 "metadata": {
  "kernelspec": {
   "display_name": "Python 3",
   "language": "python",
   "name": "python3"
  },
  "language_info": {
   "codemirror_mode": {
    "name": "ipython",
    "version": 3
   },
   "file_extension": ".py",
   "mimetype": "text/x-python",
   "name": "python",
   "nbconvert_exporter": "python",
   "pygments_lexer": "ipython3",
   "version": "3.7.10"
  }
 },
 "nbformat": 4,
 "nbformat_minor": 5
}
