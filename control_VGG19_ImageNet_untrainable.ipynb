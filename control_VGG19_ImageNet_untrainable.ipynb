{
 "cells": [
  {
   "cell_type": "markdown",
   "id": "614e7bf3",
   "metadata": {},
   "source": [
    "# We want to know if pretraining on spectral ordering is better than just downloading ImageNet weights"
   ]
  },
  {
   "cell_type": "code",
   "execution_count": 1,
   "id": "3f881697",
   "metadata": {},
   "outputs": [],
   "source": [
    "gpus = [1]\n",
    "import os\n",
    "os.environ['CUDA_VISIBLE_DEVICES']=','.join([str(i) for i in gpus])"
   ]
  },
  {
   "cell_type": "code",
   "execution_count": 2,
   "id": "e11e2c2e",
   "metadata": {},
   "outputs": [],
   "source": [
    "import tensorflow as tf\n",
    "# tf.enable_eager_execution()\n",
    "import pandas as pd\n",
    "import numpy as np\n",
    "import matplotlib.pyplot as plt\n",
    "import random\n",
    "from glob import glob\n",
    "import pickle\n",
    "from tensorflow.keras import layers, Sequential, datasets, models, losses, Model, Input\n",
    "from tensorflow.keras.callbacks import EarlyStopping, ModelCheckpoint\n",
    "from tensorflow.keras.optimizers import Adam\n",
    "from sklearn.model_selection import train_test_split\n",
    "import datetime\n",
    "import sys\n",
    "from tensorflow.keras.backend import clear_session\n",
    "from trainingfuncs import *\n",
    "from math_utils import *"
   ]
  },
  {
   "cell_type": "code",
   "execution_count": 3,
   "id": "bd5be495",
   "metadata": {},
   "outputs": [],
   "source": [
    "tf.compat.v1.disable_eager_execution()"
   ]
  },
  {
   "cell_type": "markdown",
   "id": "e5b4c73c",
   "metadata": {},
   "source": [
    "# Load data"
   ]
  },
  {
   "cell_type": "code",
   "execution_count": 4,
   "id": "8f96c936",
   "metadata": {},
   "outputs": [],
   "source": [
    "sys.path.append(\"..\") # Adds higher directory to python modules path.\n",
    "from helpers.dataset_vars import *\n",
    "from helpers.myclasses import *"
   ]
  },
  {
   "cell_type": "code",
   "execution_count": 5,
   "id": "7aa9cd64",
   "metadata": {},
   "outputs": [],
   "source": [
    "dataset = Dataset('Starling')\n",
    "analysis = 'stable_length'"
   ]
  },
  {
   "cell_type": "code",
   "execution_count": 6,
   "id": "58b84b4d",
   "metadata": {},
   "outputs": [],
   "source": [
    "results_folder = os.path.abspath('/mnt/cube/kai/results/sound_texture/classifier')\n",
    "species_folder = dataset.path_save\n",
    "analysis_folder = os.path.join(species_folder, analysis)\n",
    "log_folder = os.path.join(analysis_folder, 'log')"
   ]
  },
  {
   "cell_type": "code",
   "execution_count": 7,
   "id": "d3fbd7eb",
   "metadata": {},
   "outputs": [],
   "source": [
    "spec_file = sorted(glob(os.path.join(log_folder, 'all_specs_star.p')))[-1]"
   ]
  },
  {
   "cell_type": "code",
   "execution_count": 8,
   "id": "7e89fd2b",
   "metadata": {},
   "outputs": [],
   "source": [
    "spec_df = pickle.load(open(spec_file, 'rb'))"
   ]
  },
  {
   "cell_type": "code",
   "execution_count": 9,
   "id": "b7a37d29",
   "metadata": {},
   "outputs": [
    {
     "data": {
      "text/html": [
       "<div>\n",
       "<style scoped>\n",
       "    .dataframe tbody tr th:only-of-type {\n",
       "        vertical-align: middle;\n",
       "    }\n",
       "\n",
       "    .dataframe tbody tr th {\n",
       "        vertical-align: top;\n",
       "    }\n",
       "\n",
       "    .dataframe thead th {\n",
       "        text-align: right;\n",
       "    }\n",
       "</style>\n",
       "<table border=\"1\" class=\"dataframe\">\n",
       "  <thead>\n",
       "    <tr style=\"text-align: right;\">\n",
       "      <th></th>\n",
       "      <th>name</th>\n",
       "      <th>wav</th>\n",
       "      <th>spec</th>\n",
       "    </tr>\n",
       "  </thead>\n",
       "  <tbody>\n",
       "    <tr>\n",
       "      <th>6995</th>\n",
       "      <td>b1160</td>\n",
       "      <td>/mnt/cube/kai/data_processed/datasets/Starling...</td>\n",
       "      <td>[[-0.8473503, -0.74000514, -0.6745358, -0.6307...</td>\n",
       "    </tr>\n",
       "    <tr>\n",
       "      <th>6996</th>\n",
       "      <td>b1160</td>\n",
       "      <td>/mnt/cube/kai/data_processed/datasets/Starling...</td>\n",
       "      <td>[[-0.618756, -0.6190624, -0.6269182, -0.641789...</td>\n",
       "    </tr>\n",
       "    <tr>\n",
       "      <th>6997</th>\n",
       "      <td>b1160</td>\n",
       "      <td>/mnt/cube/kai/data_processed/datasets/Starling...</td>\n",
       "      <td>[[-0.39242423, -0.3716945, -0.35015196, -0.346...</td>\n",
       "    </tr>\n",
       "    <tr>\n",
       "      <th>6998</th>\n",
       "      <td>b1160</td>\n",
       "      <td>/mnt/cube/kai/data_processed/datasets/Starling...</td>\n",
       "      <td>[[-0.71081, -0.7151853, -0.5816425, -0.5211242...</td>\n",
       "    </tr>\n",
       "    <tr>\n",
       "      <th>6999</th>\n",
       "      <td>b1160</td>\n",
       "      <td>/mnt/cube/kai/data_processed/datasets/Starling...</td>\n",
       "      <td>[[-0.63244075, -0.59842235, -0.56845856, -0.55...</td>\n",
       "    </tr>\n",
       "  </tbody>\n",
       "</table>\n",
       "</div>"
      ],
      "text/plain": [
       "       name                                                wav  \\\n",
       "6995  b1160  /mnt/cube/kai/data_processed/datasets/Starling...   \n",
       "6996  b1160  /mnt/cube/kai/data_processed/datasets/Starling...   \n",
       "6997  b1160  /mnt/cube/kai/data_processed/datasets/Starling...   \n",
       "6998  b1160  /mnt/cube/kai/data_processed/datasets/Starling...   \n",
       "6999  b1160  /mnt/cube/kai/data_processed/datasets/Starling...   \n",
       "\n",
       "                                                   spec  \n",
       "6995  [[-0.8473503, -0.74000514, -0.6745358, -0.6307...  \n",
       "6996  [[-0.618756, -0.6190624, -0.6269182, -0.641789...  \n",
       "6997  [[-0.39242423, -0.3716945, -0.35015196, -0.346...  \n",
       "6998  [[-0.71081, -0.7151853, -0.5816425, -0.5211242...  \n",
       "6999  [[-0.63244075, -0.59842235, -0.56845856, -0.55...  "
      ]
     },
     "execution_count": 9,
     "metadata": {},
     "output_type": "execute_result"
    }
   ],
   "source": [
    "spec_df.tail()"
   ]
  },
  {
   "cell_type": "code",
   "execution_count": 10,
   "id": "d93fdf96",
   "metadata": {},
   "outputs": [],
   "source": [
    "subjs = sorted(spec_df.name.value_counts().keys().tolist())"
   ]
  },
  {
   "cell_type": "code",
   "execution_count": 11,
   "id": "025a7526",
   "metadata": {},
   "outputs": [
    {
     "name": "stdout",
     "output_type": "stream",
     "text": [
      "291 707\n"
     ]
    }
   ],
   "source": [
    "spec_h, spec_w = spec_df.spec[0].shape\n",
    "print(spec_h, spec_w)"
   ]
  },
  {
   "cell_type": "code",
   "execution_count": 12,
   "id": "7e5e1639",
   "metadata": {},
   "outputs": [],
   "source": [
    "spec_list = spec_df.spec.values.tolist()"
   ]
  },
  {
   "cell_type": "code",
   "execution_count": 13,
   "id": "70d5bda6",
   "metadata": {},
   "outputs": [
    {
     "data": {
      "text/plain": [
       "<matplotlib.image.AxesImage at 0x7fbfd6a30dd0>"
      ]
     },
     "execution_count": 13,
     "metadata": {},
     "output_type": "execute_result"
    },
    {
     "data": {
      "image/png": "[encoded data removed]",
      "text/plain": [
       "<Figure size 432x288 with 1 Axes>"
      ]
     },
     "metadata": {
      "needs_background": "light"
     },
     "output_type": "display_data"
    }
   ],
   "source": [
    "plt.imshow(spec_list[0][:120,:], origin='lower')"
   ]
  },
  {
   "cell_type": "code",
   "execution_count": 14,
   "id": "d1e8b3dc",
   "metadata": {},
   "outputs": [],
   "source": [
    "subj_list = spec_df.name.values.tolist()"
   ]
  },
  {
   "cell_type": "code",
   "execution_count": 15,
   "id": "92efb4b6",
   "metadata": {},
   "outputs": [],
   "source": [
    "from sklearn.preprocessing import OneHotEncoder\n",
    "\n",
    "enc = OneHotEncoder(handle_unknown='ignore')\n",
    "output_data = enc.fit_transform(np.array(subj_list).reshape((len(subj_list), 1))).toarray()"
   ]
  },
  {
   "cell_type": "code",
   "execution_count": 16,
   "id": "d5f7e723",
   "metadata": {},
   "outputs": [],
   "source": [
    "import itertools\n",
    "output_data = np.array(list(itertools.chain.from_iterable(itertools.repeat(x, 3) for x in output_data)))"
   ]
  },
  {
   "cell_type": "code",
   "execution_count": 17,
   "id": "33c27e38",
   "metadata": {},
   "outputs": [
    {
     "data": {
      "text/plain": [
       "(array([[0., 0., 0., 0., 0., 0., 0., 0., 0., 0., 0., 0., 0., 1.],\n",
       "        [0., 0., 0., 0., 0., 0., 0., 0., 0., 0., 0., 0., 1., 0.],\n",
       "        [0., 0., 0., 0., 0., 0., 0., 0., 0., 0., 0., 1., 0., 0.],\n",
       "        [0., 0., 0., 0., 0., 0., 0., 0., 0., 0., 1., 0., 0., 0.],\n",
       "        [0., 0., 0., 0., 0., 0., 0., 0., 0., 1., 0., 0., 0., 0.],\n",
       "        [0., 0., 0., 0., 0., 0., 0., 0., 1., 0., 0., 0., 0., 0.],\n",
       "        [0., 0., 0., 0., 0., 0., 0., 1., 0., 0., 0., 0., 0., 0.],\n",
       "        [0., 0., 0., 0., 0., 0., 1., 0., 0., 0., 0., 0., 0., 0.],\n",
       "        [0., 0., 0., 0., 0., 1., 0., 0., 0., 0., 0., 0., 0., 0.],\n",
       "        [0., 0., 0., 0., 1., 0., 0., 0., 0., 0., 0., 0., 0., 0.],\n",
       "        [0., 0., 0., 1., 0., 0., 0., 0., 0., 0., 0., 0., 0., 0.],\n",
       "        [0., 0., 1., 0., 0., 0., 0., 0., 0., 0., 0., 0., 0., 0.],\n",
       "        [0., 1., 0., 0., 0., 0., 0., 0., 0., 0., 0., 0., 0., 0.],\n",
       "        [1., 0., 0., 0., 0., 0., 0., 0., 0., 0., 0., 0., 0., 0.]]),\n",
       " array([1500, 1500, 1500, 1500, 1500, 1500, 1500, 1500, 1500, 1500, 1500,\n",
       "        1500, 1500, 1500]))"
      ]
     },
     "execution_count": 17,
     "metadata": {},
     "output_type": "execute_result"
    }
   ],
   "source": [
    "np.unique(output_data, return_counts=True, axis=0)"
   ]
  },
  {
   "cell_type": "code",
   "execution_count": 18,
   "id": "8eb96713",
   "metadata": {},
   "outputs": [],
   "source": [
    "input_list = []\n",
    "for spec in spec_list:\n",
    "    spec_h, spec_w = spec.shape\n",
    "    divided_w = spec_w//3\n",
    "    for i in range(3):\n",
    "        s = spec[:, divided_w*i:divided_w*(i+1)]\n",
    "        input_list.append(np.stack([s, s, s], axis = 2))"
   ]
  },
  {
   "cell_type": "code",
   "execution_count": 19,
   "id": "87acc1fd",
   "metadata": {},
   "outputs": [],
   "source": [
    "input_list = np.array(input_list)"
   ]
  },
  {
   "cell_type": "code",
   "execution_count": 20,
   "id": "60a7e6e2",
   "metadata": {},
   "outputs": [
    {
     "data": {
      "text/plain": [
       "(21000, 291, 235, 3)"
      ]
     },
     "execution_count": 20,
     "metadata": {},
     "output_type": "execute_result"
    }
   ],
   "source": [
    "input_list.shape"
   ]
  },
  {
   "cell_type": "code",
   "execution_count": 21,
   "id": "fd38df7f",
   "metadata": {},
   "outputs": [
    {
     "name": "stdout",
     "output_type": "stream",
     "text": [
      "21000 14 291 235\n"
     ]
    }
   ],
   "source": [
    "n_samples, n_outputs=output_data.shape\n",
    "h, w = input_list[0].shape[:2]\n",
    "print(n_samples, n_outputs, h, w)"
   ]
  },
  {
   "cell_type": "code",
   "execution_count": 22,
   "id": "18f37184",
   "metadata": {},
   "outputs": [],
   "source": [
    "input_train, input_test, output_train, output_test = train_test_split(input_list, output_data, test_size = 0.2, \n",
    "                                                                      random_state=20, stratify=output_data)"
   ]
  },
  {
   "cell_type": "code",
   "execution_count": 23,
   "id": "5a5ed039",
   "metadata": {},
   "outputs": [],
   "source": [
    "input_train = np.array(input_train)\n",
    "input_test = np.array(input_test)\n",
    "output_train = np.array(output_train)\n",
    "output_test = np.array(output_test)"
   ]
  },
  {
   "cell_type": "markdown",
   "id": "bb27ed97",
   "metadata": {},
   "source": [
    "## make model"
   ]
  },
  {
   "cell_type": "code",
   "execution_count": 24,
   "id": "2fed0dc8",
   "metadata": {},
   "outputs": [],
   "source": [
    "clear_session()"
   ]
  },
  {
   "cell_type": "code",
   "execution_count": 25,
   "id": "c1dc730e",
   "metadata": {
    "scrolled": false
   },
   "outputs": [],
   "source": [
    "model=self_VGG(weights='imagenet', trainable=False)"
   ]
  },
  {
   "cell_type": "code",
   "execution_count": 26,
   "id": "46d0999c",
   "metadata": {},
   "outputs": [],
   "source": [
    "model_inputs = Input(shape=(h, w, 3))\n",
    "resized = layers.experimental.preprocessing.Resizing(224, 224, interpolation=\"bilinear\")(model_inputs)\n",
    "dense_1 = layers.Dense(2048, name='dense1', activation='relu')(model(resized))\n",
    "dropout_1 = layers.Dropout(0.2)(dense_1)\n",
    "dense_2 = layers.Dense(2048, name='dense2', activation='relu')(dropout_1)\n",
    "dropout_2 = layers.Dropout(0.2)(dense_2)\n",
    "dense_3 = layers.Dense(1024, name='dense3', activation='relu')(dropout_2)\n",
    "dropout_3 = layers.Dropout(0.2)(dense_3)\n",
    "model_output = layers.Dense(n_outputs, name='output', activation ='softmax')(dropout_3) # this needs to be changed for both temporal and spectral slices\n",
    "classifier = Model(model_inputs, model_output)"
   ]
  },
  {
   "cell_type": "code",
   "execution_count": 27,
   "id": "153d9898",
   "metadata": {},
   "outputs": [
    {
     "name": "stdout",
     "output_type": "stream",
     "text": [
      "Model: \"functional_1\"\n",
      "_________________________________________________________________\n",
      "Layer (type)                 Output Shape              Param #   \n",
      "=================================================================\n",
      "input_2 (InputLayer)         [(None, 291, 235, 3)]     0         \n",
      "_________________________________________________________________\n",
      "resizing (Resizing)          (None, 224, 224, 3)       0         \n",
      "_________________________________________________________________\n",
      "vgg19 (Functional)           (None, 512)               20024384  \n",
      "_________________________________________________________________\n",
      "dense1 (Dense)               (None, 2048)              1050624   \n",
      "_________________________________________________________________\n",
      "dropout (Dropout)            (None, 2048)              0         \n",
      "_________________________________________________________________\n",
      "dense2 (Dense)               (None, 2048)              4196352   \n",
      "_________________________________________________________________\n",
      "dropout_1 (Dropout)          (None, 2048)              0         \n",
      "_________________________________________________________________\n",
      "dense3 (Dense)               (None, 1024)              2098176   \n",
      "_________________________________________________________________\n",
      "dropout_2 (Dropout)          (None, 1024)              0         \n",
      "_________________________________________________________________\n",
      "output (Dense)               (None, 14)                14350     \n",
      "=================================================================\n",
      "Total params: 27,383,886\n",
      "Trainable params: 7,359,502\n",
      "Non-trainable params: 20,024,384\n",
      "_________________________________________________________________\n"
     ]
    }
   ],
   "source": [
    "classifier.summary()"
   ]
  },
  {
   "cell_type": "code",
   "execution_count": 28,
   "id": "a5d9a27a",
   "metadata": {},
   "outputs": [],
   "source": [
    "classifier.compile(loss='categorical_crossentropy', optimizer = Adam(0.00001), metrics=['accuracy'])"
   ]
  },
  {
   "cell_type": "code",
   "execution_count": 30,
   "id": "8aa47358",
   "metadata": {},
   "outputs": [],
   "source": [
    "results_folder = os.path.abspath('/mnt/cube/kai/results/perceptual_loss')\n",
    "run_folder = extend_folder(results_folder, '2021_07_14_21_46_52', 'subj_classification', 'imagenet_untrainable')\n",
    "with open(os.path.join(run_folder, 'training.log'), 'w') as file:\n",
    "    file.write('This is a model pretrained on imagenet labels, \\n \\\n",
    "               fine tuned on subject classification (Starling), pretrained weights (ImageNet) are untrainable')"
   ]
  },
  {
   "cell_type": "markdown",
   "id": "71194ee4",
   "metadata": {},
   "source": [
    "## Fit"
   ]
  },
  {
   "cell_type": "code",
   "execution_count": 31,
   "id": "b0016772",
   "metadata": {},
   "outputs": [],
   "source": [
    "patience = 20\n",
    "batch_size = 32\n",
    "epochs = 1000"
   ]
  },
  {
   "cell_type": "code",
   "execution_count": 32,
   "id": "3c4ccd6b",
   "metadata": {
    "scrolled": false
   },
   "outputs": [
    {
     "name": "stdout",
     "output_type": "stream",
     "text": [
      "Train on 15120 samples, validate on 1680 samples\n",
      "Epoch 1/1000\n",
      "15120/15120 [==============================] - ETA: 0s - loss: 2.6433 - accuracy: 0.0822WARNING:tensorflow:From /home/shc079/miniconda3/envs/tf2.3gpu/lib/python3.7/site-packages/tensorflow/python/keras/engine/training_v1.py:2048: Model.state_updates (from tensorflow.python.keras.engine.training) is deprecated and will be removed in a future version.\n",
      "Instructions for updating:\n",
      "This property should not be used in TensorFlow 2.0, as updates are applied automatically.\n",
      "15120/15120 [==============================] - 49s 3ms/sample - loss: 2.6433 - accuracy: 0.0822 - val_loss: 2.6070 - val_accuracy: 0.1536\n",
      "Epoch 2/1000\n",
      "15120/15120 [==============================] - 48s 3ms/sample - loss: 2.6029 - accuracy: 0.1087 - val_loss: 2.5544 - val_accuracy: 0.1667\n",
      "Epoch 3/1000\n",
      "15120/15120 [==============================] - 47s 3ms/sample - loss: 2.5491 - accuracy: 0.1407 - val_loss: 2.4927 - val_accuracy: 0.1565\n",
      "Epoch 4/1000\n",
      "15120/15120 [==============================] - 49s 3ms/sample - loss: 2.4836 - accuracy: 0.1626 - val_loss: 2.4102 - val_accuracy: 0.1929\n",
      "Epoch 5/1000\n",
      "15120/15120 [==============================] - 49s 3ms/sample - loss: 2.4104 - accuracy: 0.1839 - val_loss: 2.3413 - val_accuracy: 0.2089\n",
      "Epoch 6/1000\n",
      "15120/15120 [==============================] - 49s 3ms/sample - loss: 2.3388 - accuracy: 0.2078 - val_loss: 2.2709 - val_accuracy: 0.2304\n",
      "Epoch 7/1000\n",
      "15120/15120 [==============================] - 50s 3ms/sample - loss: 2.2805 - accuracy: 0.2203 - val_loss: 2.2194 - val_accuracy: 0.2458\n",
      "Epoch 8/1000\n",
      "15120/15120 [==============================] - 50s 3ms/sample - loss: 2.2222 - accuracy: 0.2398 - val_loss: 2.1628 - val_accuracy: 0.2667\n",
      "Epoch 9/1000\n",
      "15120/15120 [==============================] - 49s 3ms/sample - loss: 2.1690 - accuracy: 0.2532 - val_loss: 2.1149 - val_accuracy: 0.2774\n",
      "Epoch 10/1000\n",
      "15120/15120 [==============================] - 48s 3ms/sample - loss: 2.1178 - accuracy: 0.2687 - val_loss: 2.0879 - val_accuracy: 0.2685\n",
      "Epoch 11/1000\n",
      "15120/15120 [==============================] - 49s 3ms/sample - loss: 2.0784 - accuracy: 0.2784 - val_loss: 2.0343 - val_accuracy: 0.2935\n",
      "Epoch 12/1000\n",
      "15120/15120 [==============================] - 49s 3ms/sample - loss: 2.0358 - accuracy: 0.2940 - val_loss: 1.9835 - val_accuracy: 0.3149\n",
      "Epoch 13/1000\n",
      "15120/15120 [==============================] - 50s 3ms/sample - loss: 1.9923 - accuracy: 0.3020 - val_loss: 1.9602 - val_accuracy: 0.3208\n",
      "Epoch 14/1000\n",
      "15120/15120 [==============================] - 50s 3ms/sample - loss: 1.9511 - accuracy: 0.3163 - val_loss: 1.9168 - val_accuracy: 0.3286\n",
      "Epoch 15/1000\n",
      "15120/15120 [==============================] - 51s 3ms/sample - loss: 1.9184 - accuracy: 0.3257 - val_loss: 1.8936 - val_accuracy: 0.3333\n",
      "Epoch 16/1000\n",
      "15120/15120 [==============================] - 52s 3ms/sample - loss: 1.8826 - accuracy: 0.3316 - val_loss: 1.8550 - val_accuracy: 0.3482\n",
      "Epoch 17/1000\n",
      "15120/15120 [==============================] - 52s 3ms/sample - loss: 1.8473 - accuracy: 0.3524 - val_loss: 1.8308 - val_accuracy: 0.3536\n",
      "Epoch 18/1000\n",
      "15120/15120 [==============================] - 51s 3ms/sample - loss: 1.8219 - accuracy: 0.3548 - val_loss: 1.8018 - val_accuracy: 0.3577\n",
      "Epoch 19/1000\n",
      "15120/15120 [==============================] - 51s 3ms/sample - loss: 1.7912 - accuracy: 0.3667 - val_loss: 1.7846 - val_accuracy: 0.3685\n",
      "Epoch 20/1000\n",
      "15120/15120 [==============================] - 52s 3ms/sample - loss: 1.7584 - accuracy: 0.3793 - val_loss: 1.7581 - val_accuracy: 0.3726\n",
      "Epoch 21/1000\n",
      "15120/15120 [==============================] - 51s 3ms/sample - loss: 1.7318 - accuracy: 0.3887 - val_loss: 1.7242 - val_accuracy: 0.3881\n",
      "Epoch 22/1000\n",
      "15120/15120 [==============================] - 53s 4ms/sample - loss: 1.7054 - accuracy: 0.3979 - val_loss: 1.7005 - val_accuracy: 0.3988\n",
      "Epoch 23/1000\n",
      "15120/15120 [==============================] - 52s 3ms/sample - loss: 1.6773 - accuracy: 0.4054 - val_loss: 1.6750 - val_accuracy: 0.4048\n",
      "Epoch 24/1000\n",
      "15120/15120 [==============================] - 52s 3ms/sample - loss: 1.6508 - accuracy: 0.4151 - val_loss: 1.6504 - val_accuracy: 0.4089\n",
      "Epoch 25/1000\n",
      "15120/15120 [==============================] - 50s 3ms/sample - loss: 1.6340 - accuracy: 0.4196 - val_loss: 1.6282 - val_accuracy: 0.4161\n",
      "Epoch 26/1000\n",
      "15120/15120 [==============================] - 52s 3ms/sample - loss: 1.6017 - accuracy: 0.4338 - val_loss: 1.5998 - val_accuracy: 0.4292\n",
      "Epoch 27/1000\n",
      "15120/15120 [==============================] - 51s 3ms/sample - loss: 1.5784 - accuracy: 0.4394 - val_loss: 1.5819 - val_accuracy: 0.4333\n",
      "Epoch 28/1000\n",
      "15120/15120 [==============================] - 49s 3ms/sample - loss: 1.5545 - accuracy: 0.4474 - val_loss: 1.5672 - val_accuracy: 0.4304\n",
      "Epoch 29/1000\n",
      "15120/15120 [==============================] - 52s 3ms/sample - loss: 1.5268 - accuracy: 0.4532 - val_loss: 1.5396 - val_accuracy: 0.4512\n",
      "Epoch 30/1000\n",
      "15120/15120 [==============================] - 52s 3ms/sample - loss: 1.5063 - accuracy: 0.4611 - val_loss: 1.5259 - val_accuracy: 0.4488\n",
      "Epoch 31/1000\n",
      "15120/15120 [==============================] - 56s 4ms/sample - loss: 1.4860 - accuracy: 0.4731 - val_loss: 1.4941 - val_accuracy: 0.4571\n",
      "Epoch 32/1000\n",
      "15120/15120 [==============================] - 66s 4ms/sample - loss: 1.4655 - accuracy: 0.4712 - val_loss: 1.4769 - val_accuracy: 0.4679\n",
      "Epoch 33/1000\n",
      "15120/15120 [==============================] - 54s 4ms/sample - loss: 1.4469 - accuracy: 0.4782 - val_loss: 1.4586 - val_accuracy: 0.4762\n",
      "Epoch 34/1000\n",
      "15120/15120 [==============================] - 51s 3ms/sample - loss: 1.4238 - accuracy: 0.4874 - val_loss: 1.4447 - val_accuracy: 0.4804\n",
      "Epoch 35/1000\n",
      "15120/15120 [==============================] - 52s 3ms/sample - loss: 1.4044 - accuracy: 0.4967 - val_loss: 1.4196 - val_accuracy: 0.4946\n",
      "Epoch 36/1000\n",
      "15120/15120 [==============================] - 51s 3ms/sample - loss: 1.3880 - accuracy: 0.5015 - val_loss: 1.3989 - val_accuracy: 0.4929\n",
      "Epoch 37/1000\n",
      "15120/15120 [==============================] - 49s 3ms/sample - loss: 1.3684 - accuracy: 0.5046 - val_loss: 1.3795 - val_accuracy: 0.4899\n",
      "Epoch 38/1000\n",
      "15120/15120 [==============================] - 53s 4ms/sample - loss: 1.3548 - accuracy: 0.5156 - val_loss: 1.3685 - val_accuracy: 0.5030\n",
      "Epoch 39/1000\n",
      "15120/15120 [==============================] - 50s 3ms/sample - loss: 1.3360 - accuracy: 0.5169 - val_loss: 1.3478 - val_accuracy: 0.5137\n",
      "Epoch 40/1000\n",
      "15120/15120 [==============================] - 51s 3ms/sample - loss: 1.3153 - accuracy: 0.5253 - val_loss: 1.3291 - val_accuracy: 0.5089\n",
      "Epoch 41/1000\n",
      "15120/15120 [==============================] - 51s 3ms/sample - loss: 1.3006 - accuracy: 0.5270 - val_loss: 1.3098 - val_accuracy: 0.5280\n",
      "Epoch 42/1000\n",
      "15120/15120 [==============================] - 51s 3ms/sample - loss: 1.2812 - accuracy: 0.5335 - val_loss: 1.2952 - val_accuracy: 0.5131\n",
      "Epoch 43/1000\n",
      "15120/15120 [==============================] - 51s 3ms/sample - loss: 1.2703 - accuracy: 0.5347 - val_loss: 1.2789 - val_accuracy: 0.5256\n",
      "Epoch 44/1000\n",
      "15120/15120 [==============================] - 49s 3ms/sample - loss: 1.2580 - accuracy: 0.5411 - val_loss: 1.2682 - val_accuracy: 0.5274\n",
      "Epoch 45/1000\n",
      "15120/15120 [==============================] - 55s 4ms/sample - loss: 1.2363 - accuracy: 0.5514 - val_loss: 1.2501 - val_accuracy: 0.5387\n",
      "Epoch 46/1000\n",
      "15120/15120 [==============================] - 50s 3ms/sample - loss: 1.2224 - accuracy: 0.5561 - val_loss: 1.2368 - val_accuracy: 0.5399\n",
      "Epoch 47/1000\n",
      "15120/15120 [==============================] - 52s 3ms/sample - loss: 1.2097 - accuracy: 0.5583 - val_loss: 1.2195 - val_accuracy: 0.5542\n",
      "Epoch 48/1000\n",
      "15120/15120 [==============================] - 51s 3ms/sample - loss: 1.1942 - accuracy: 0.5646 - val_loss: 1.2083 - val_accuracy: 0.5476\n",
      "Epoch 49/1000\n",
      "15120/15120 [==============================] - 48s 3ms/sample - loss: 1.1795 - accuracy: 0.5722 - val_loss: 1.1952 - val_accuracy: 0.5512\n",
      "Epoch 50/1000\n",
      "15120/15120 [==============================] - 53s 4ms/sample - loss: 1.1657 - accuracy: 0.5747 - val_loss: 1.1798 - val_accuracy: 0.5708\n",
      "Epoch 51/1000\n"
     ]
    },
    {
     "name": "stdout",
     "output_type": "stream",
     "text": [
      "15120/15120 [==============================] - 53s 3ms/sample - loss: 1.1524 - accuracy: 0.5763 - val_loss: 1.1701 - val_accuracy: 0.5786\n",
      "Epoch 52/1000\n",
      "15120/15120 [==============================] - 52s 3ms/sample - loss: 1.1404 - accuracy: 0.5783 - val_loss: 1.1679 - val_accuracy: 0.5637\n",
      "Epoch 53/1000\n",
      "15120/15120 [==============================] - 52s 3ms/sample - loss: 1.1256 - accuracy: 0.5827 - val_loss: 1.1417 - val_accuracy: 0.5827\n",
      "Epoch 54/1000\n",
      "15120/15120 [==============================] - 50s 3ms/sample - loss: 1.1195 - accuracy: 0.5894 - val_loss: 1.1397 - val_accuracy: 0.5792\n",
      "Epoch 55/1000\n",
      "15120/15120 [==============================] - 54s 4ms/sample - loss: 1.1053 - accuracy: 0.5909 - val_loss: 1.1228 - val_accuracy: 0.5911\n",
      "Epoch 56/1000\n",
      "15120/15120 [==============================] - 50s 3ms/sample - loss: 1.0936 - accuracy: 0.5987 - val_loss: 1.1146 - val_accuracy: 0.5798\n",
      "Epoch 57/1000\n",
      "15120/15120 [==============================] - 53s 3ms/sample - loss: 1.0784 - accuracy: 0.6040 - val_loss: 1.1076 - val_accuracy: 0.5857\n",
      "Epoch 58/1000\n",
      "15120/15120 [==============================] - 51s 3ms/sample - loss: 1.0735 - accuracy: 0.6052 - val_loss: 1.0905 - val_accuracy: 0.5881\n",
      "Epoch 59/1000\n",
      "15120/15120 [==============================] - 52s 3ms/sample - loss: 1.0554 - accuracy: 0.6107 - val_loss: 1.0847 - val_accuracy: 0.5917\n",
      "Epoch 60/1000\n",
      "15120/15120 [==============================] - 55s 4ms/sample - loss: 1.0476 - accuracy: 0.6115 - val_loss: 1.0677 - val_accuracy: 0.5935\n",
      "Epoch 61/1000\n",
      "15120/15120 [==============================] - 52s 3ms/sample - loss: 1.0367 - accuracy: 0.6159 - val_loss: 1.0644 - val_accuracy: 0.5988\n",
      "Epoch 62/1000\n",
      "15120/15120 [==============================] - 52s 3ms/sample - loss: 1.0284 - accuracy: 0.6196 - val_loss: 1.0504 - val_accuracy: 0.6101\n",
      "Epoch 63/1000\n",
      "15120/15120 [==============================] - 52s 3ms/sample - loss: 1.0110 - accuracy: 0.6289 - val_loss: 1.0599 - val_accuracy: 0.5952\n",
      "Epoch 64/1000\n",
      "15120/15120 [==============================] - 54s 4ms/sample - loss: 1.0058 - accuracy: 0.6241 - val_loss: 1.0366 - val_accuracy: 0.6119\n",
      "Epoch 65/1000\n",
      "15120/15120 [==============================] - 52s 3ms/sample - loss: 1.0001 - accuracy: 0.6285 - val_loss: 1.0266 - val_accuracy: 0.6208\n",
      "Epoch 66/1000\n",
      "15120/15120 [==============================] - 52s 3ms/sample - loss: 0.9925 - accuracy: 0.6304 - val_loss: 1.0293 - val_accuracy: 0.6125\n",
      "Epoch 67/1000\n",
      "15120/15120 [==============================] - 51s 3ms/sample - loss: 0.9763 - accuracy: 0.6365 - val_loss: 1.0163 - val_accuracy: 0.6131\n",
      "Epoch 68/1000\n",
      "15120/15120 [==============================] - 50s 3ms/sample - loss: 0.9755 - accuracy: 0.6359 - val_loss: 1.0056 - val_accuracy: 0.6125\n",
      "Epoch 69/1000\n",
      "15120/15120 [==============================] - 55s 4ms/sample - loss: 0.9626 - accuracy: 0.6384 - val_loss: 0.9983 - val_accuracy: 0.6292\n",
      "Epoch 70/1000\n",
      "15120/15120 [==============================] - 52s 3ms/sample - loss: 0.9543 - accuracy: 0.6426 - val_loss: 0.9901 - val_accuracy: 0.6220\n",
      "Epoch 71/1000\n",
      "15120/15120 [==============================] - 55s 4ms/sample - loss: 0.9467 - accuracy: 0.6448 - val_loss: 0.9801 - val_accuracy: 0.6339\n",
      "Epoch 72/1000\n",
      "15120/15120 [==============================] - 57s 4ms/sample - loss: 0.9349 - accuracy: 0.6458 - val_loss: 0.9662 - val_accuracy: 0.6369\n",
      "Epoch 73/1000\n",
      "15120/15120 [==============================] - 53s 4ms/sample - loss: 0.9265 - accuracy: 0.6515 - val_loss: 0.9684 - val_accuracy: 0.6417\n",
      "Epoch 74/1000\n",
      "15120/15120 [==============================] - 53s 4ms/sample - loss: 0.9191 - accuracy: 0.6560 - val_loss: 0.9579 - val_accuracy: 0.6369\n",
      "Epoch 75/1000\n",
      "15120/15120 [==============================] - 55s 4ms/sample - loss: 0.9138 - accuracy: 0.6574 - val_loss: 0.9446 - val_accuracy: 0.6446\n",
      "Epoch 76/1000\n",
      "15120/15120 [==============================] - 52s 3ms/sample - loss: 0.9004 - accuracy: 0.6575 - val_loss: 0.9411 - val_accuracy: 0.6470\n",
      "Epoch 77/1000\n",
      "15120/15120 [==============================] - 51s 3ms/sample - loss: 0.8978 - accuracy: 0.6597 - val_loss: 0.9494 - val_accuracy: 0.6435\n",
      "Epoch 78/1000\n",
      "15120/15120 [==============================] - 53s 4ms/sample - loss: 0.8895 - accuracy: 0.6636 - val_loss: 0.9354 - val_accuracy: 0.6470\n",
      "Epoch 79/1000\n",
      "15120/15120 [==============================] - 53s 3ms/sample - loss: 0.8839 - accuracy: 0.6685 - val_loss: 0.9249 - val_accuracy: 0.6506\n",
      "Epoch 80/1000\n",
      "15120/15120 [==============================] - 50s 3ms/sample - loss: 0.8699 - accuracy: 0.6744 - val_loss: 0.9150 - val_accuracy: 0.6476\n",
      "Epoch 81/1000\n",
      "15120/15120 [==============================] - 53s 3ms/sample - loss: 0.8697 - accuracy: 0.6667 - val_loss: 0.9069 - val_accuracy: 0.6524\n",
      "Epoch 82/1000\n",
      "15120/15120 [==============================] - 52s 3ms/sample - loss: 0.8559 - accuracy: 0.6776 - val_loss: 0.9133 - val_accuracy: 0.6405\n",
      "Epoch 83/1000\n",
      "15120/15120 [==============================] - 52s 3ms/sample - loss: 0.8532 - accuracy: 0.6778 - val_loss: 0.9205 - val_accuracy: 0.6524\n",
      "Epoch 84/1000\n",
      "15120/15120 [==============================] - 52s 3ms/sample - loss: 0.8498 - accuracy: 0.6761 - val_loss: 0.9081 - val_accuracy: 0.6560\n",
      "Epoch 85/1000\n",
      "15120/15120 [==============================] - 51s 3ms/sample - loss: 0.8406 - accuracy: 0.6801 - val_loss: 0.9062 - val_accuracy: 0.6536\n",
      "Epoch 86/1000\n",
      "15120/15120 [==============================] - 53s 3ms/sample - loss: 0.8309 - accuracy: 0.6833 - val_loss: 0.9054 - val_accuracy: 0.6530\n",
      "Epoch 87/1000\n",
      "15120/15120 [==============================] - 51s 3ms/sample - loss: 0.8292 - accuracy: 0.6814 - val_loss: 0.9024 - val_accuracy: 0.6542\n",
      "Epoch 88/1000\n",
      "15120/15120 [==============================] - 50s 3ms/sample - loss: 0.8221 - accuracy: 0.6868 - val_loss: 0.8916 - val_accuracy: 0.6536\n",
      "Epoch 89/1000\n",
      "15120/15120 [==============================] - 52s 3ms/sample - loss: 0.8081 - accuracy: 0.6931 - val_loss: 0.8795 - val_accuracy: 0.6560\n",
      "Epoch 90/1000\n",
      "15120/15120 [==============================] - 53s 3ms/sample - loss: 0.8073 - accuracy: 0.6904 - val_loss: 0.8896 - val_accuracy: 0.6554\n",
      "Epoch 91/1000\n",
      "15120/15120 [==============================] - 53s 3ms/sample - loss: 0.8014 - accuracy: 0.6929 - val_loss: 0.8595 - val_accuracy: 0.6732\n",
      "Epoch 92/1000\n",
      "15120/15120 [==============================] - 50s 3ms/sample - loss: 0.7955 - accuracy: 0.6962 - val_loss: 0.8598 - val_accuracy: 0.6696\n",
      "Epoch 93/1000\n",
      "15120/15120 [==============================] - 51s 3ms/sample - loss: 0.7887 - accuracy: 0.6971 - val_loss: 0.8566 - val_accuracy: 0.6702\n",
      "Epoch 94/1000\n",
      "15120/15120 [==============================] - 52s 3ms/sample - loss: 0.7853 - accuracy: 0.6974 - val_loss: 0.8484 - val_accuracy: 0.6696\n",
      "Epoch 95/1000\n",
      "15120/15120 [==============================] - 53s 3ms/sample - loss: 0.7789 - accuracy: 0.7009 - val_loss: 0.8418 - val_accuracy: 0.6690\n",
      "Epoch 96/1000\n",
      "15120/15120 [==============================] - 52s 3ms/sample - loss: 0.7758 - accuracy: 0.7001 - val_loss: 0.8464 - val_accuracy: 0.6780\n",
      "Epoch 97/1000\n",
      "15120/15120 [==============================] - 52s 3ms/sample - loss: 0.7728 - accuracy: 0.7028 - val_loss: 0.8314 - val_accuracy: 0.6798\n",
      "Epoch 98/1000\n",
      "15120/15120 [==============================] - 53s 3ms/sample - loss: 0.7602 - accuracy: 0.7119 - val_loss: 0.8272 - val_accuracy: 0.6839\n",
      "Epoch 99/1000\n",
      "15120/15120 [==============================] - 52s 3ms/sample - loss: 0.7554 - accuracy: 0.7113 - val_loss: 0.8269 - val_accuracy: 0.6780\n",
      "Epoch 100/1000\n",
      "15120/15120 [==============================] - 52s 3ms/sample - loss: 0.7475 - accuracy: 0.7100 - val_loss: 0.8389 - val_accuracy: 0.6631\n",
      "Epoch 101/1000\n",
      "15120/15120 [==============================] - 51s 3ms/sample - loss: 0.7479 - accuracy: 0.7134 - val_loss: 0.8255 - val_accuracy: 0.6780\n",
      "Epoch 102/1000\n",
      "15120/15120 [==============================] - 51s 3ms/sample - loss: 0.7388 - accuracy: 0.7162 - val_loss: 0.8261 - val_accuracy: 0.6756\n",
      "Epoch 103/1000\n",
      "15120/15120 [==============================] - 51s 3ms/sample - loss: 0.7393 - accuracy: 0.7150 - val_loss: 0.8183 - val_accuracy: 0.6720\n",
      "Epoch 104/1000\n",
      "15120/15120 [==============================] - 53s 3ms/sample - loss: 0.7274 - accuracy: 0.7188 - val_loss: 0.8225 - val_accuracy: 0.6744\n"
     ]
    },
    {
     "name": "stdout",
     "output_type": "stream",
     "text": [
      "Epoch 105/1000\n",
      "15120/15120 [==============================] - 51s 3ms/sample - loss: 0.7266 - accuracy: 0.7170 - val_loss: 0.8048 - val_accuracy: 0.6786\n",
      "Epoch 106/1000\n",
      "15120/15120 [==============================] - 50s 3ms/sample - loss: 0.7168 - accuracy: 0.7201 - val_loss: 0.8166 - val_accuracy: 0.6720\n",
      "Epoch 107/1000\n",
      "15120/15120 [==============================] - 50s 3ms/sample - loss: 0.7168 - accuracy: 0.7231 - val_loss: 0.8052 - val_accuracy: 0.6792\n",
      "Epoch 108/1000\n",
      "15120/15120 [==============================] - 53s 4ms/sample - loss: 0.7105 - accuracy: 0.7240 - val_loss: 0.8014 - val_accuracy: 0.6857\n",
      "Epoch 109/1000\n",
      "15120/15120 [==============================] - 54s 4ms/sample - loss: 0.7106 - accuracy: 0.7230 - val_loss: 0.7880 - val_accuracy: 0.6887\n",
      "Epoch 110/1000\n",
      "15120/15120 [==============================] - 51s 3ms/sample - loss: 0.6952 - accuracy: 0.7290 - val_loss: 0.7915 - val_accuracy: 0.6833\n",
      "Epoch 111/1000\n",
      "15120/15120 [==============================] - 50s 3ms/sample - loss: 0.6966 - accuracy: 0.7269 - val_loss: 0.7924 - val_accuracy: 0.6821\n",
      "Epoch 112/1000\n",
      "15120/15120 [==============================] - 50s 3ms/sample - loss: 0.6937 - accuracy: 0.7282 - val_loss: 0.7890 - val_accuracy: 0.6857\n",
      "Epoch 113/1000\n",
      "15120/15120 [==============================] - 54s 4ms/sample - loss: 0.6959 - accuracy: 0.7301 - val_loss: 0.7884 - val_accuracy: 0.6893\n",
      "Epoch 114/1000\n",
      "15120/15120 [==============================] - 54s 4ms/sample - loss: 0.6836 - accuracy: 0.7318 - val_loss: 0.7831 - val_accuracy: 0.6929\n",
      "Epoch 115/1000\n",
      "15120/15120 [==============================] - 50s 3ms/sample - loss: 0.6818 - accuracy: 0.7337 - val_loss: 0.7844 - val_accuracy: 0.6845\n",
      "Epoch 116/1000\n",
      "15120/15120 [==============================] - 53s 4ms/sample - loss: 0.6760 - accuracy: 0.7331 - val_loss: 0.7688 - val_accuracy: 0.6964\n",
      "Epoch 117/1000\n",
      "15120/15120 [==============================] - 52s 3ms/sample - loss: 0.6764 - accuracy: 0.7315 - val_loss: 0.7716 - val_accuracy: 0.6964\n",
      "Epoch 118/1000\n",
      "15120/15120 [==============================] - 52s 3ms/sample - loss: 0.6693 - accuracy: 0.7343 - val_loss: 0.7671 - val_accuracy: 0.6881\n",
      "Epoch 119/1000\n",
      "15120/15120 [==============================] - 52s 3ms/sample - loss: 0.6633 - accuracy: 0.7405 - val_loss: 0.7641 - val_accuracy: 0.6988\n",
      "Epoch 120/1000\n",
      "15120/15120 [==============================] - 50s 3ms/sample - loss: 0.6605 - accuracy: 0.7408 - val_loss: 0.7689 - val_accuracy: 0.6899\n",
      "Epoch 121/1000\n",
      "15120/15120 [==============================] - 51s 3ms/sample - loss: 0.6604 - accuracy: 0.7392 - val_loss: 0.7727 - val_accuracy: 0.6899\n",
      "Epoch 122/1000\n",
      "15120/15120 [==============================] - 52s 3ms/sample - loss: 0.6521 - accuracy: 0.7431 - val_loss: 0.7757 - val_accuracy: 0.6875\n",
      "Epoch 123/1000\n",
      "15120/15120 [==============================] - 54s 4ms/sample - loss: 0.6534 - accuracy: 0.7387 - val_loss: 0.7539 - val_accuracy: 0.6994\n",
      "Epoch 124/1000\n",
      "15120/15120 [==============================] - 50s 3ms/sample - loss: 0.6466 - accuracy: 0.7462 - val_loss: 0.7646 - val_accuracy: 0.6815\n",
      "Epoch 125/1000\n",
      "15120/15120 [==============================] - 50s 3ms/sample - loss: 0.6379 - accuracy: 0.7477 - val_loss: 0.7542 - val_accuracy: 0.6899\n",
      "Epoch 126/1000\n",
      "15120/15120 [==============================] - 51s 3ms/sample - loss: 0.6400 - accuracy: 0.7466 - val_loss: 0.7498 - val_accuracy: 0.6976\n",
      "Epoch 127/1000\n",
      "15120/15120 [==============================] - 53s 4ms/sample - loss: 0.6319 - accuracy: 0.7488 - val_loss: 0.7458 - val_accuracy: 0.7012\n",
      "Epoch 128/1000\n",
      "15120/15120 [==============================] - 52s 3ms/sample - loss: 0.6246 - accuracy: 0.7536 - val_loss: 0.7477 - val_accuracy: 0.6881\n",
      "Epoch 129/1000\n",
      "15120/15120 [==============================] - 50s 3ms/sample - loss: 0.6296 - accuracy: 0.7495 - val_loss: 0.7348 - val_accuracy: 0.7012\n",
      "Epoch 130/1000\n",
      "15120/15120 [==============================] - 50s 3ms/sample - loss: 0.6227 - accuracy: 0.7530 - val_loss: 0.7422 - val_accuracy: 0.6994\n",
      "Epoch 131/1000\n",
      "15120/15120 [==============================] - 51s 3ms/sample - loss: 0.6212 - accuracy: 0.7517 - val_loss: 0.7420 - val_accuracy: 0.6869\n",
      "Epoch 132/1000\n",
      "15120/15120 [==============================] - 52s 3ms/sample - loss: 0.6156 - accuracy: 0.7530 - val_loss: 0.7344 - val_accuracy: 0.7012\n",
      "Epoch 133/1000\n",
      "15120/15120 [==============================] - 52s 3ms/sample - loss: 0.6134 - accuracy: 0.7552 - val_loss: 0.7376 - val_accuracy: 0.6976\n",
      "Epoch 134/1000\n",
      "15120/15120 [==============================] - 52s 3ms/sample - loss: 0.6130 - accuracy: 0.7539 - val_loss: 0.7275 - val_accuracy: 0.7083\n",
      "Epoch 135/1000\n",
      "15120/15120 [==============================] - 50s 3ms/sample - loss: 0.6079 - accuracy: 0.7574 - val_loss: 0.7346 - val_accuracy: 0.6988\n",
      "Epoch 136/1000\n",
      "15120/15120 [==============================] - 51s 3ms/sample - loss: 0.6067 - accuracy: 0.7563 - val_loss: 0.7362 - val_accuracy: 0.6935\n",
      "Epoch 137/1000\n",
      "15120/15120 [==============================] - 53s 3ms/sample - loss: 0.6015 - accuracy: 0.7569 - val_loss: 0.7325 - val_accuracy: 0.6940\n",
      "Epoch 138/1000\n",
      "15120/15120 [==============================] - 51s 3ms/sample - loss: 0.6024 - accuracy: 0.7577 - val_loss: 0.7215 - val_accuracy: 0.7054\n",
      "Epoch 139/1000\n",
      "15120/15120 [==============================] - 52s 3ms/sample - loss: 0.5948 - accuracy: 0.7610 - val_loss: 0.7190 - val_accuracy: 0.7101\n",
      "Epoch 140/1000\n",
      "15120/15120 [==============================] - 51s 3ms/sample - loss: 0.5907 - accuracy: 0.7630 - val_loss: 0.7152 - val_accuracy: 0.7060\n",
      "Epoch 141/1000\n",
      "15120/15120 [==============================] - 53s 3ms/sample - loss: 0.5937 - accuracy: 0.7632 - val_loss: 0.7132 - val_accuracy: 0.7095\n",
      "Epoch 142/1000\n",
      "15120/15120 [==============================] - 51s 3ms/sample - loss: 0.5881 - accuracy: 0.7670 - val_loss: 0.7095 - val_accuracy: 0.7065\n",
      "Epoch 143/1000\n",
      "15120/15120 [==============================] - 50s 3ms/sample - loss: 0.5847 - accuracy: 0.7649 - val_loss: 0.7096 - val_accuracy: 0.7048\n",
      "Epoch 144/1000\n",
      "15120/15120 [==============================] - 50s 3ms/sample - loss: 0.5817 - accuracy: 0.7670 - val_loss: 0.7107 - val_accuracy: 0.7018\n",
      "Epoch 145/1000\n",
      "15120/15120 [==============================] - 52s 3ms/sample - loss: 0.5733 - accuracy: 0.7674 - val_loss: 0.7130 - val_accuracy: 0.7065\n",
      "Epoch 146/1000\n",
      "15120/15120 [==============================] - 51s 3ms/sample - loss: 0.5756 - accuracy: 0.7707 - val_loss: 0.7070 - val_accuracy: 0.7065\n",
      "Epoch 147/1000\n",
      "15120/15120 [==============================] - 52s 3ms/sample - loss: 0.5701 - accuracy: 0.7703 - val_loss: 0.7104 - val_accuracy: 0.7030\n",
      "Epoch 148/1000\n",
      "15120/15120 [==============================] - 54s 4ms/sample - loss: 0.5685 - accuracy: 0.7737 - val_loss: 0.7084 - val_accuracy: 0.7107\n",
      "Epoch 149/1000\n",
      "15120/15120 [==============================] - 50s 3ms/sample - loss: 0.5645 - accuracy: 0.7698 - val_loss: 0.7145 - val_accuracy: 0.7048\n",
      "Epoch 150/1000\n",
      "15120/15120 [==============================] - 51s 3ms/sample - loss: 0.5625 - accuracy: 0.7740 - val_loss: 0.7110 - val_accuracy: 0.7042\n",
      "Epoch 151/1000\n",
      "15120/15120 [==============================] - 52s 3ms/sample - loss: 0.5574 - accuracy: 0.7738 - val_loss: 0.7088 - val_accuracy: 0.7042\n",
      "Epoch 152/1000\n",
      "15120/15120 [==============================] - 52s 3ms/sample - loss: 0.5636 - accuracy: 0.7692 - val_loss: 0.6984 - val_accuracy: 0.7101\n",
      "Epoch 153/1000\n",
      "15120/15120 [==============================] - 50s 3ms/sample - loss: 0.5523 - accuracy: 0.7764 - val_loss: 0.7144 - val_accuracy: 0.6994\n",
      "Epoch 154/1000\n",
      "15120/15120 [==============================] - 52s 3ms/sample - loss: 0.5515 - accuracy: 0.7792 - val_loss: 0.6974 - val_accuracy: 0.7149\n",
      "Epoch 155/1000\n",
      "15120/15120 [==============================] - 50s 3ms/sample - loss: 0.5544 - accuracy: 0.7784 - val_loss: 0.6970 - val_accuracy: 0.7143\n",
      "Epoch 156/1000\n",
      "15120/15120 [==============================] - 52s 3ms/sample - loss: 0.5446 - accuracy: 0.7813 - val_loss: 0.6888 - val_accuracy: 0.7119\n",
      "Epoch 157/1000\n",
      "15120/15120 [==============================] - 52s 3ms/sample - loss: 0.5529 - accuracy: 0.7767 - val_loss: 0.6922 - val_accuracy: 0.7083\n",
      "Epoch 158/1000\n"
     ]
    },
    {
     "name": "stdout",
     "output_type": "stream",
     "text": [
      "15120/15120 [==============================] - 52s 3ms/sample - loss: 0.5434 - accuracy: 0.7831 - val_loss: 0.6947 - val_accuracy: 0.7101\n",
      "Epoch 159/1000\n",
      "15120/15120 [==============================] - 52s 3ms/sample - loss: 0.5384 - accuracy: 0.7856 - val_loss: 0.7016 - val_accuracy: 0.7220\n",
      "Epoch 160/1000\n",
      "15120/15120 [==============================] - 50s 3ms/sample - loss: 0.5368 - accuracy: 0.7830 - val_loss: 0.6854 - val_accuracy: 0.7161\n",
      "Epoch 161/1000\n",
      "15120/15120 [==============================] - 51s 3ms/sample - loss: 0.5325 - accuracy: 0.7868 - val_loss: 0.6908 - val_accuracy: 0.7125\n",
      "Epoch 162/1000\n",
      "15120/15120 [==============================] - 52s 3ms/sample - loss: 0.5325 - accuracy: 0.7831 - val_loss: 0.6962 - val_accuracy: 0.7054\n",
      "Epoch 163/1000\n",
      "15120/15120 [==============================] - 52s 3ms/sample - loss: 0.5262 - accuracy: 0.7873 - val_loss: 0.6845 - val_accuracy: 0.7054\n",
      "Epoch 164/1000\n",
      "15120/15120 [==============================] - 51s 3ms/sample - loss: 0.5265 - accuracy: 0.7876 - val_loss: 0.6906 - val_accuracy: 0.7179\n",
      "Epoch 165/1000\n",
      "15120/15120 [==============================] - 51s 3ms/sample - loss: 0.5265 - accuracy: 0.7863 - val_loss: 0.6952 - val_accuracy: 0.7119\n",
      "Epoch 166/1000\n",
      "15120/15120 [==============================] - 50s 3ms/sample - loss: 0.5246 - accuracy: 0.7845 - val_loss: 0.6804 - val_accuracy: 0.7113\n",
      "Epoch 167/1000\n",
      "15120/15120 [==============================] - 52s 3ms/sample - loss: 0.5238 - accuracy: 0.7882 - val_loss: 0.6933 - val_accuracy: 0.7036\n",
      "Epoch 168/1000\n",
      "15120/15120 [==============================] - 52s 3ms/sample - loss: 0.5187 - accuracy: 0.7883 - val_loss: 0.6977 - val_accuracy: 0.7083\n",
      "Epoch 169/1000\n",
      "15120/15120 [==============================] - 52s 3ms/sample - loss: 0.5188 - accuracy: 0.7888 - val_loss: 0.6838 - val_accuracy: 0.7149\n",
      "Epoch 170/1000\n",
      "15120/15120 [==============================] - 50s 3ms/sample - loss: 0.5100 - accuracy: 0.7926 - val_loss: 0.6785 - val_accuracy: 0.7119\n",
      "Epoch 171/1000\n",
      "15120/15120 [==============================] - 50s 3ms/sample - loss: 0.5114 - accuracy: 0.7917 - val_loss: 0.6870 - val_accuracy: 0.7167\n",
      "Epoch 172/1000\n",
      "15120/15120 [==============================] - 53s 3ms/sample - loss: 0.5118 - accuracy: 0.7901 - val_loss: 0.6685 - val_accuracy: 0.7244\n",
      "Epoch 173/1000\n",
      "15120/15120 [==============================] - 52s 3ms/sample - loss: 0.5054 - accuracy: 0.7959 - val_loss: 0.6757 - val_accuracy: 0.7149\n",
      "Epoch 174/1000\n",
      "15120/15120 [==============================] - 52s 3ms/sample - loss: 0.5040 - accuracy: 0.7958 - val_loss: 0.6717 - val_accuracy: 0.7149\n",
      "Epoch 175/1000\n",
      "15120/15120 [==============================] - 51s 3ms/sample - loss: 0.5029 - accuracy: 0.7964 - val_loss: 0.6671 - val_accuracy: 0.7214\n",
      "Epoch 176/1000\n",
      "15120/15120 [==============================] - 50s 3ms/sample - loss: 0.4983 - accuracy: 0.7977 - val_loss: 0.6769 - val_accuracy: 0.7149\n",
      "Epoch 177/1000\n",
      "15120/15120 [==============================] - 51s 3ms/sample - loss: 0.5008 - accuracy: 0.7947 - val_loss: 0.6738 - val_accuracy: 0.7131\n",
      "Epoch 178/1000\n",
      "15120/15120 [==============================] - 52s 3ms/sample - loss: 0.5023 - accuracy: 0.7917 - val_loss: 0.6757 - val_accuracy: 0.7119\n",
      "Epoch 179/1000\n",
      "15120/15120 [==============================] - 53s 3ms/sample - loss: 0.4989 - accuracy: 0.7950 - val_loss: 0.6788 - val_accuracy: 0.7196\n",
      "Epoch 180/1000\n",
      "15120/15120 [==============================] - 51s 3ms/sample - loss: 0.4912 - accuracy: 0.8036 - val_loss: 0.6777 - val_accuracy: 0.7137\n",
      "Epoch 181/1000\n",
      "15120/15120 [==============================] - 50s 3ms/sample - loss: 0.4907 - accuracy: 0.7993 - val_loss: 0.6707 - val_accuracy: 0.7113\n",
      "Epoch 182/1000\n",
      "15120/15120 [==============================] - 50s 3ms/sample - loss: 0.4851 - accuracy: 0.8028 - val_loss: 0.6625 - val_accuracy: 0.7196\n",
      "Epoch 183/1000\n",
      "15120/15120 [==============================] - 50s 3ms/sample - loss: 0.4825 - accuracy: 0.8028 - val_loss: 0.6864 - val_accuracy: 0.7107\n",
      "Epoch 184/1000\n",
      "15120/15120 [==============================] - 52s 3ms/sample - loss: 0.4853 - accuracy: 0.8015 - val_loss: 0.6703 - val_accuracy: 0.7232\n",
      "Epoch 185/1000\n",
      "15120/15120 [==============================] - 52s 3ms/sample - loss: 0.4879 - accuracy: 0.7995 - val_loss: 0.6646 - val_accuracy: 0.7196\n",
      "Epoch 186/1000\n",
      "15120/15120 [==============================] - 50s 3ms/sample - loss: 0.4811 - accuracy: 0.8065 - val_loss: 0.6681 - val_accuracy: 0.7161\n",
      "Epoch 187/1000\n",
      "15120/15120 [==============================] - 52s 3ms/sample - loss: 0.4798 - accuracy: 0.8038 - val_loss: 0.6662 - val_accuracy: 0.7262\n",
      "Epoch 188/1000\n",
      "15120/15120 [==============================] - 52s 3ms/sample - loss: 0.4779 - accuracy: 0.8074 - val_loss: 0.6650 - val_accuracy: 0.7286\n",
      "Epoch 189/1000\n",
      "15120/15120 [==============================] - 51s 3ms/sample - loss: 0.4742 - accuracy: 0.8054 - val_loss: 0.6609 - val_accuracy: 0.7226\n",
      "Epoch 190/1000\n",
      "15120/15120 [==============================] - 52s 3ms/sample - loss: 0.4710 - accuracy: 0.8069 - val_loss: 0.6660 - val_accuracy: 0.7208\n",
      "Epoch 191/1000\n",
      "15120/15120 [==============================] - 51s 3ms/sample - loss: 0.4707 - accuracy: 0.8083 - val_loss: 0.6648 - val_accuracy: 0.7214\n",
      "Epoch 192/1000\n",
      "15120/15120 [==============================] - 51s 3ms/sample - loss: 0.4679 - accuracy: 0.8093 - val_loss: 0.6645 - val_accuracy: 0.7220\n",
      "Epoch 193/1000\n",
      "15120/15120 [==============================] - 51s 3ms/sample - loss: 0.4660 - accuracy: 0.8071 - val_loss: 0.6582 - val_accuracy: 0.7220\n",
      "Epoch 194/1000\n",
      "15120/15120 [==============================] - 51s 3ms/sample - loss: 0.4666 - accuracy: 0.8096 - val_loss: 0.6567 - val_accuracy: 0.7226\n",
      "Epoch 195/1000\n",
      "15120/15120 [==============================] - 52s 3ms/sample - loss: 0.4661 - accuracy: 0.8125 - val_loss: 0.6559 - val_accuracy: 0.7226\n",
      "Epoch 196/1000\n",
      "15120/15120 [==============================] - 52s 3ms/sample - loss: 0.4614 - accuracy: 0.8106 - val_loss: 0.6747 - val_accuracy: 0.7208\n",
      "Epoch 197/1000\n",
      "15120/15120 [==============================] - 52s 3ms/sample - loss: 0.4561 - accuracy: 0.8171 - val_loss: 0.6624 - val_accuracy: 0.7292\n",
      "Epoch 198/1000\n",
      "15120/15120 [==============================] - 50s 3ms/sample - loss: 0.4576 - accuracy: 0.8128 - val_loss: 0.6523 - val_accuracy: 0.7256\n",
      "Epoch 199/1000\n",
      "15120/15120 [==============================] - 50s 3ms/sample - loss: 0.4563 - accuracy: 0.8139 - val_loss: 0.6610 - val_accuracy: 0.7202\n",
      "Epoch 200/1000\n",
      "15120/15120 [==============================] - 52s 3ms/sample - loss: 0.4576 - accuracy: 0.8129 - val_loss: 0.6653 - val_accuracy: 0.7250\n",
      "Epoch 201/1000\n",
      "15120/15120 [==============================] - 52s 3ms/sample - loss: 0.4505 - accuracy: 0.8178 - val_loss: 0.6549 - val_accuracy: 0.7214\n",
      "Epoch 202/1000\n",
      "15120/15120 [==============================] - 52s 3ms/sample - loss: 0.4499 - accuracy: 0.8145 - val_loss: 0.6718 - val_accuracy: 0.7095\n",
      "Epoch 203/1000\n",
      "15120/15120 [==============================] - 50s 3ms/sample - loss: 0.4493 - accuracy: 0.8121 - val_loss: 0.6621 - val_accuracy: 0.7155\n",
      "Epoch 204/1000\n",
      "15120/15120 [==============================] - 50s 3ms/sample - loss: 0.4457 - accuracy: 0.8167 - val_loss: 0.6623 - val_accuracy: 0.7161\n",
      "Epoch 205/1000\n",
      "15120/15120 [==============================] - 50s 3ms/sample - loss: 0.4452 - accuracy: 0.8169 - val_loss: 0.6605 - val_accuracy: 0.7220\n",
      "Epoch 206/1000\n",
      "15120/15120 [==============================] - 52s 3ms/sample - loss: 0.4490 - accuracy: 0.8187 - val_loss: 0.6597 - val_accuracy: 0.7185\n",
      "Epoch 207/1000\n",
      "15120/15120 [==============================] - 52s 3ms/sample - loss: 0.4414 - accuracy: 0.8231 - val_loss: 0.6661 - val_accuracy: 0.7268\n",
      "Epoch 208/1000\n",
      "15120/15120 [==============================] - 53s 3ms/sample - loss: 0.4391 - accuracy: 0.8204 - val_loss: 0.6433 - val_accuracy: 0.7321\n",
      "Epoch 209/1000\n",
      "15120/15120 [==============================] - 50s 3ms/sample - loss: 0.4334 - accuracy: 0.8202 - val_loss: 0.6506 - val_accuracy: 0.7298\n",
      "Epoch 210/1000\n",
      "15120/15120 [==============================] - 50s 3ms/sample - loss: 0.4403 - accuracy: 0.8155 - val_loss: 0.6473 - val_accuracy: 0.7274\n",
      "Epoch 211/1000\n"
     ]
    },
    {
     "name": "stdout",
     "output_type": "stream",
     "text": [
      "15120/15120 [==============================] - 51s 3ms/sample - loss: 0.4352 - accuracy: 0.8210 - val_loss: 0.6538 - val_accuracy: 0.7238\n",
      "Epoch 212/1000\n",
      "15120/15120 [==============================] - 52s 3ms/sample - loss: 0.4326 - accuracy: 0.8224 - val_loss: 0.6552 - val_accuracy: 0.7274\n",
      "Epoch 213/1000\n",
      "15120/15120 [==============================] - 52s 3ms/sample - loss: 0.4339 - accuracy: 0.8219 - val_loss: 0.6526 - val_accuracy: 0.7286\n",
      "Epoch 214/1000\n",
      "15120/15120 [==============================] - 51s 3ms/sample - loss: 0.4315 - accuracy: 0.8245 - val_loss: 0.6493 - val_accuracy: 0.7232\n",
      "Epoch 215/1000\n",
      "15120/15120 [==============================] - 50s 3ms/sample - loss: 0.4281 - accuracy: 0.8216 - val_loss: 0.6543 - val_accuracy: 0.7250\n",
      "Epoch 216/1000\n",
      "15120/15120 [==============================] - 50s 3ms/sample - loss: 0.4272 - accuracy: 0.8257 - val_loss: 0.6541 - val_accuracy: 0.7232\n",
      "Epoch 217/1000\n",
      "15120/15120 [==============================] - 50s 3ms/sample - loss: 0.4276 - accuracy: 0.8247 - val_loss: 0.6484 - val_accuracy: 0.7208\n",
      "Epoch 218/1000\n",
      "15120/15120 [==============================] - 51s 3ms/sample - loss: 0.4225 - accuracy: 0.8294 - val_loss: 0.6621 - val_accuracy: 0.7274\n",
      "Epoch 219/1000\n",
      "15120/15120 [==============================] - 52s 3ms/sample - loss: 0.4258 - accuracy: 0.8286 - val_loss: 0.6665 - val_accuracy: 0.7250\n",
      "Epoch 220/1000\n",
      "15120/15120 [==============================] - 50s 3ms/sample - loss: 0.4228 - accuracy: 0.8278 - val_loss: 0.6509 - val_accuracy: 0.7244\n",
      "Epoch 221/1000\n",
      "15120/15120 [==============================] - 50s 3ms/sample - loss: 0.4200 - accuracy: 0.8293 - val_loss: 0.6505 - val_accuracy: 0.7274\n",
      "Epoch 222/1000\n",
      "15120/15120 [==============================] - 50s 3ms/sample - loss: 0.4200 - accuracy: 0.8274 - val_loss: 0.6526 - val_accuracy: 0.7256\n",
      "Epoch 223/1000\n",
      "15120/15120 [==============================] - 51s 3ms/sample - loss: 0.4131 - accuracy: 0.8288 - val_loss: 0.6546 - val_accuracy: 0.7220\n",
      "Epoch 224/1000\n",
      "15120/15120 [==============================] - 52s 3ms/sample - loss: 0.4200 - accuracy: 0.8293 - val_loss: 0.6541 - val_accuracy: 0.7304\n",
      "Epoch 225/1000\n",
      "15120/15120 [==============================] - 52s 3ms/sample - loss: 0.4123 - accuracy: 0.8335 - val_loss: 0.6496 - val_accuracy: 0.7292\n",
      "Epoch 226/1000\n",
      "15120/15120 [==============================] - 50s 3ms/sample - loss: 0.4113 - accuracy: 0.8337 - val_loss: 0.6481 - val_accuracy: 0.7298\n",
      "Epoch 227/1000\n",
      "15120/15120 [==============================] - 52s 3ms/sample - loss: 0.4114 - accuracy: 0.8321 - val_loss: 0.6559 - val_accuracy: 0.7327\n",
      "Epoch 228/1000\n",
      "15120/15120 [==============================] - 50s 3ms/sample - loss: 0.4097 - accuracy: 0.8329 - val_loss: 0.6516 - val_accuracy: 0.7310\n",
      "Epoch 229/1000\n",
      "15120/15120 [==============================] - 51s 3ms/sample - loss: 0.4065 - accuracy: 0.8337 - val_loss: 0.6637 - val_accuracy: 0.7262\n",
      "Epoch 230/1000\n",
      "15120/15120 [==============================] - 52s 3ms/sample - loss: 0.4034 - accuracy: 0.8347 - val_loss: 0.6518 - val_accuracy: 0.7298\n",
      "Epoch 231/1000\n",
      "15120/15120 [==============================] - 51s 3ms/sample - loss: 0.4048 - accuracy: 0.8351 - val_loss: 0.6475 - val_accuracy: 0.7310\n",
      "Epoch 232/1000\n",
      "15120/15120 [==============================] - 50s 3ms/sample - loss: 0.4010 - accuracy: 0.8374 - val_loss: 0.6455 - val_accuracy: 0.7238\n",
      "Epoch 233/1000\n",
      "15120/15120 [==============================] - 50s 3ms/sample - loss: 0.4061 - accuracy: 0.8333 - val_loss: 0.6498 - val_accuracy: 0.7304\n",
      "Epoch 234/1000\n",
      "15120/15120 [==============================] - 51s 3ms/sample - loss: 0.3990 - accuracy: 0.8382 - val_loss: 0.6441 - val_accuracy: 0.7280\n",
      "Epoch 235/1000\n",
      "15120/15120 [==============================] - 52s 3ms/sample - loss: 0.4012 - accuracy: 0.8362 - val_loss: 0.6499 - val_accuracy: 0.7274\n",
      "Epoch 236/1000\n",
      "15120/15120 [==============================] - 52s 3ms/sample - loss: 0.3960 - accuracy: 0.8390 - val_loss: 0.6451 - val_accuracy: 0.7298\n",
      "Epoch 237/1000\n",
      "15120/15120 [==============================] - 50s 3ms/sample - loss: 0.3994 - accuracy: 0.8335 - val_loss: 0.6677 - val_accuracy: 0.7244\n",
      "Epoch 238/1000\n",
      "15120/15120 [==============================] - 50s 3ms/sample - loss: 0.3943 - accuracy: 0.8426 - val_loss: 0.6499 - val_accuracy: 0.7226\n",
      "Epoch 239/1000\n",
      "15120/15120 [==============================] - 51s 3ms/sample - loss: 0.3898 - accuracy: 0.8427 - val_loss: 0.6531 - val_accuracy: 0.7321\n",
      "Epoch 240/1000\n",
      "15120/15120 [==============================] - 52s 3ms/sample - loss: 0.3911 - accuracy: 0.8420 - val_loss: 0.6511 - val_accuracy: 0.7292\n",
      "Epoch 241/1000\n",
      "15120/15120 [==============================] - 52s 3ms/sample - loss: 0.3874 - accuracy: 0.8396 - val_loss: 0.6468 - val_accuracy: 0.7315\n",
      "Epoch 242/1000\n",
      "15120/15120 [==============================] - 51s 3ms/sample - loss: 0.3868 - accuracy: 0.8426 - val_loss: 0.6494 - val_accuracy: 0.7298\n",
      "Epoch 243/1000\n",
      "15120/15120 [==============================] - 52s 3ms/sample - loss: 0.3854 - accuracy: 0.8432 - val_loss: 0.6430 - val_accuracy: 0.7333\n",
      "Epoch 244/1000\n",
      "15120/15120 [==============================] - 50s 3ms/sample - loss: 0.3828 - accuracy: 0.8448 - val_loss: 0.6506 - val_accuracy: 0.7292\n",
      "Epoch 245/1000\n",
      "15120/15120 [==============================] - 52s 3ms/sample - loss: 0.3841 - accuracy: 0.8453 - val_loss: 0.6430 - val_accuracy: 0.7363\n",
      "Epoch 246/1000\n",
      "15120/15120 [==============================] - 52s 3ms/sample - loss: 0.3834 - accuracy: 0.8437 - val_loss: 0.6568 - val_accuracy: 0.7226\n",
      "Epoch 247/1000\n",
      "15120/15120 [==============================] - 52s 3ms/sample - loss: 0.3858 - accuracy: 0.8442 - val_loss: 0.6456 - val_accuracy: 0.7310\n",
      "Epoch 248/1000\n",
      "15120/15120 [==============================] - 50s 3ms/sample - loss: 0.3808 - accuracy: 0.8448 - val_loss: 0.6460 - val_accuracy: 0.7274\n",
      "Epoch 249/1000\n",
      "15120/15120 [==============================] - 52s 3ms/sample - loss: 0.3810 - accuracy: 0.8457 - val_loss: 0.6447 - val_accuracy: 0.7387\n",
      "Epoch 250/1000\n",
      "15120/15120 [==============================] - 50s 3ms/sample - loss: 0.3755 - accuracy: 0.8493 - val_loss: 0.6407 - val_accuracy: 0.7315\n",
      "Epoch 251/1000\n",
      "15120/15120 [==============================] - 51s 3ms/sample - loss: 0.3777 - accuracy: 0.8442 - val_loss: 0.6415 - val_accuracy: 0.7333\n",
      "Epoch 252/1000\n",
      "15120/15120 [==============================] - 51s 3ms/sample - loss: 0.3781 - accuracy: 0.8458 - val_loss: 0.6604 - val_accuracy: 0.7304\n",
      "Epoch 253/1000\n",
      "15120/15120 [==============================] - 52s 3ms/sample - loss: 0.3705 - accuracy: 0.8525 - val_loss: 0.6499 - val_accuracy: 0.7351\n",
      "Epoch 254/1000\n",
      "15120/15120 [==============================] - 51s 3ms/sample - loss: 0.3777 - accuracy: 0.8464 - val_loss: 0.6429 - val_accuracy: 0.7399\n",
      "Epoch 255/1000\n",
      "15120/15120 [==============================] - 50s 3ms/sample - loss: 0.3693 - accuracy: 0.8477 - val_loss: 0.6430 - val_accuracy: 0.7339\n",
      "Epoch 256/1000\n",
      "15120/15120 [==============================] - 50s 3ms/sample - loss: 0.3699 - accuracy: 0.8493 - val_loss: 0.6447 - val_accuracy: 0.7339\n",
      "Epoch 257/1000\n",
      "15120/15120 [==============================] - 51s 3ms/sample - loss: 0.3642 - accuracy: 0.8522 - val_loss: 0.6517 - val_accuracy: 0.7298\n",
      "Epoch 258/1000\n",
      "15120/15120 [==============================] - 52s 3ms/sample - loss: 0.3699 - accuracy: 0.8511 - val_loss: 0.6417 - val_accuracy: 0.7357\n",
      "Epoch 259/1000\n",
      "15120/15120 [==============================] - 51s 3ms/sample - loss: 0.3629 - accuracy: 0.8528 - val_loss: 0.6431 - val_accuracy: 0.7298\n",
      "Epoch 260/1000\n",
      "15120/15120 [==============================] - 50s 3ms/sample - loss: 0.3670 - accuracy: 0.8546 - val_loss: 0.6473 - val_accuracy: 0.7351\n",
      "Epoch 261/1000\n",
      "15120/15120 [==============================] - 50s 3ms/sample - loss: 0.3650 - accuracy: 0.8511 - val_loss: 0.6589 - val_accuracy: 0.7310\n",
      "Epoch 262/1000\n",
      "15120/15120 [==============================] - 51s 3ms/sample - loss: 0.3634 - accuracy: 0.8544 - val_loss: 0.6479 - val_accuracy: 0.7333\n",
      "Epoch 263/1000\n",
      "15120/15120 [==============================] - 52s 3ms/sample - loss: 0.3587 - accuracy: 0.8556 - val_loss: 0.6794 - val_accuracy: 0.7244\n",
      "Epoch 264/1000\n"
     ]
    },
    {
     "name": "stdout",
     "output_type": "stream",
     "text": [
      "15120/15120 [==============================] - 52s 3ms/sample - loss: 0.3569 - accuracy: 0.8565 - val_loss: 0.6499 - val_accuracy: 0.7327\n",
      "Epoch 265/1000\n",
      "15120/15120 [==============================] - 50s 3ms/sample - loss: 0.3606 - accuracy: 0.8551 - val_loss: 0.6438 - val_accuracy: 0.7304\n",
      "Epoch 266/1000\n",
      "15120/15120 [==============================] - 50s 3ms/sample - loss: 0.3575 - accuracy: 0.8554 - val_loss: 0.6564 - val_accuracy: 0.7262\n",
      "Epoch 267/1000\n",
      "15120/15120 [==============================] - 50s 3ms/sample - loss: 0.3507 - accuracy: 0.8599 - val_loss: 0.6502 - val_accuracy: 0.7369\n",
      "Epoch 268/1000\n",
      "15120/15120 [==============================] - 51s 3ms/sample - loss: 0.3518 - accuracy: 0.8577 - val_loss: 0.6713 - val_accuracy: 0.7244\n",
      "Epoch 269/1000\n",
      "15120/15120 [==============================] - 51s 3ms/sample - loss: 0.3517 - accuracy: 0.8584 - val_loss: 0.6760 - val_accuracy: 0.7262\n",
      "Epoch 270/1000\n",
      "15120/15120 [==============================] - 52s 3ms/sample - loss: 0.3521 - accuracy: 0.8571 - val_loss: 0.6498 - val_accuracy: 0.7321\n",
      "Epoch 271/1000\n",
      "15120/15120 [==============================] - 50s 3ms/sample - loss: 0.3516 - accuracy: 0.8590 - val_loss: 0.6533 - val_accuracy: 0.7375\n",
      "Epoch 272/1000\n",
      "15120/15120 [==============================] - 50s 3ms/sample - loss: 0.3516 - accuracy: 0.8591 - val_loss: 0.6481 - val_accuracy: 0.7387\n",
      "Epoch 273/1000\n",
      "15120/15120 [==============================] - 50s 3ms/sample - loss: 0.3485 - accuracy: 0.8610 - val_loss: 0.6500 - val_accuracy: 0.7369\n",
      "Epoch 274/1000\n",
      "15120/15120 [==============================] - 52s 3ms/sample - loss: 0.3451 - accuracy: 0.8640 - val_loss: 0.6736 - val_accuracy: 0.7190\n",
      "Epoch 00274: early stopping\n"
     ]
    },
    {
     "data": {
      "text/plain": [
       "<tensorflow.python.keras.callbacks.History at 0x7fbfd499be10>"
      ]
     },
     "execution_count": 32,
     "metadata": {},
     "output_type": "execute_result"
    }
   ],
   "source": [
    "weights_file = os.path.join(run_folder, 'weights-improvement.h5')\n",
    "callbacks = [EarlyStopping(monitor='val_accuracy', patience=patience, verbose=1),\n",
    "            ModelCheckpoint(filepath=weights_file, monitor='val_accuracy', save_best_only=True, verbose=0)]\n",
    "\n",
    "classifier.fit(x = input_train, y = output_train, callbacks=callbacks, epochs=epochs, \n",
    "          batch_size=batch_size,validation_split=0.1)"
   ]
  },
  {
   "cell_type": "code",
   "execution_count": 33,
   "id": "9ad2a427",
   "metadata": {},
   "outputs": [],
   "source": [
    "classifier.load_weights(weights_file)\n",
    "prediction_test = classifier.predict(input_test)"
   ]
  },
  {
   "cell_type": "code",
   "execution_count": 34,
   "id": "e39fb3d3",
   "metadata": {},
   "outputs": [],
   "source": [
    "prediction_logits = np.argmax(prediction_test, axis=1)"
   ]
  },
  {
   "cell_type": "code",
   "execution_count": 35,
   "id": "5fe65f83",
   "metadata": {},
   "outputs": [],
   "source": [
    "output_logits = np.argmax(output_test, axis=1)"
   ]
  },
  {
   "cell_type": "markdown",
   "id": "763120f8",
   "metadata": {},
   "source": [
    "### subj classification accuracy"
   ]
  },
  {
   "cell_type": "code",
   "execution_count": 36,
   "id": "8446e2fb",
   "metadata": {},
   "outputs": [
    {
     "data": {
      "text/plain": [
       "0.7385714285714285"
      ]
     },
     "execution_count": 36,
     "metadata": {},
     "output_type": "execute_result"
    }
   ],
   "source": [
    "np.mean(prediction_logits==output_logits)"
   ]
  },
  {
   "cell_type": "code",
   "execution_count": null,
   "id": "440a1ff5",
   "metadata": {},
   "outputs": [],
   "source": []
  }
 ],
 "metadata": {
  "kernelspec": {
   "display_name": "Python 3",
   "language": "python",
   "name": "python3"
  },
  "language_info": {
   "codemirror_mode": {
    "name": "ipython",
    "version": 3
   },
   "file_extension": ".py",
   "mimetype": "text/x-python",
   "name": "python",
   "nbconvert_exporter": "python",
   "pygments_lexer": "ipython3",
   "version": "3.7.10"
  }
 },
 "nbformat": 4,
 "nbformat_minor": 5
}
