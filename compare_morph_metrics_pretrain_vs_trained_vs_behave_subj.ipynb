{
 "cells": [
  {
   "cell_type": "code",
   "execution_count": 1,
   "id": "e24fde53",
   "metadata": {},
   "outputs": [],
   "source": [
    "import tensorflow as tf\n",
    "# tf.enable_eager_execution()\n",
    "import pandas as pd\n",
    "import numpy as np\n",
    "import matplotlib.pyplot as plt\n",
    "import random\n",
    "from glob import glob\n",
    "import pickle\n",
    "from tensorflow.keras import layers, Sequential, datasets, models, losses, Model, Input\n",
    "from tensorflow.keras.callbacks import EarlyStopping, ModelCheckpoint\n",
    "from tensorflow.keras.optimizers import Adam\n",
    "from sklearn.model_selection import train_test_split\n",
    "import datetime\n",
    "import sys\n",
    "from tensorflow.keras.backend import clear_session\n",
    "from trainingfuncs import *\n",
    "from math_utils import *\n",
    "from utils import *\n",
    "from scipy.spatial import distance\n",
    "import seaborn as sns\n",
    "import umap"
   ]
  },
  {
   "cell_type": "code",
   "execution_count": 2,
   "id": "03630af6",
   "metadata": {},
   "outputs": [],
   "source": [
    "sys.path.append(\"..\") # Adds higher directory to python modules path.\n",
    "from helpers.dataset_vars import *\n",
    "from helpers.myclasses import *"
   ]
  },
  {
   "cell_type": "code",
   "execution_count": 3,
   "id": "657b13e2",
   "metadata": {},
   "outputs": [],
   "source": [
    "morph_folder = os.path.abspath('/mnt/cube/kai/repositories/morphs/data/stimuli')\n",
    "\n",
    "results_folder = os.path.abspath('/mnt/cube/kai/results/perceptual_loss/morph')"
   ]
  },
  {
   "cell_type": "markdown",
   "id": "310c7475",
   "metadata": {},
   "source": [
    "# load all dfs"
   ]
  },
  {
   "cell_type": "code",
   "execution_count": 4,
   "id": "d7836ce8",
   "metadata": {},
   "outputs": [],
   "source": [
    "finetune_pred = pickle.load(open(os.path.join(results_folder, 'norm_robust', 'all_predicted.p'), 'rb'))\n",
    "pretrain_pred = pickle.load(open(os.path.join(results_folder, 'pretrained', 'pretrained_predicted.p'), 'rb'))\n",
    "group1_behav = pickle.load(open(os.path.join(results_folder, 'group1_behav.p'), 'rb'))\n",
    "group2_behav = pickle.load(open(os.path.join(results_folder, 'group2_behav.p'), 'rb'))\n",
    "group3_behav = pickle.load(open(os.path.join(results_folder, 'group3_behav.p'), 'rb'))"
   ]
  },
  {
   "cell_type": "code",
   "execution_count": 14,
   "id": "2f3dbc13",
   "metadata": {},
   "outputs": [],
   "source": [
    "all_groups = pd.concat([finetune_pred, pretrain_pred,\n",
    "                       group1_behav, group2_behav, group3_behav]).reset_index(drop=True)"
   ]
  },
  {
   "cell_type": "code",
   "execution_count": 15,
   "id": "068c9c70",
   "metadata": {},
   "outputs": [
    {
     "data": {
      "text/html": [
       "<div>\n",
       "<style scoped>\n",
       "    .dataframe tbody tr th:only-of-type {\n",
       "        vertical-align: middle;\n",
       "    }\n",
       "\n",
       "    .dataframe tbody tr th {\n",
       "        vertical-align: top;\n",
       "    }\n",
       "\n",
       "    .dataframe thead th {\n",
       "        text-align: right;\n",
       "    }\n",
       "</style>\n",
       "<table border=\"1\" class=\"dataframe\">\n",
       "  <thead>\n",
       "    <tr style=\"text-align: right;\">\n",
       "      <th></th>\n",
       "      <th>index</th>\n",
       "      <th>min_val</th>\n",
       "      <th>max_val</th>\n",
       "      <th>slope</th>\n",
       "      <th>inflection</th>\n",
       "      <th>group</th>\n",
       "      <th>metric</th>\n",
       "      <th>subj</th>\n",
       "    </tr>\n",
       "  </thead>\n",
       "  <tbody>\n",
       "    <tr>\n",
       "      <th>0</th>\n",
       "      <td>ae</td>\n",
       "      <td>1.000000e-16</td>\n",
       "      <td>1.000000</td>\n",
       "      <td>0.033214</td>\n",
       "      <td>75.202742</td>\n",
       "      <td>Group 1</td>\n",
       "      <td>rmse</td>\n",
       "      <td>NaN</td>\n",
       "    </tr>\n",
       "    <tr>\n",
       "      <th>1</th>\n",
       "      <td>af</td>\n",
       "      <td>1.000000e-16</td>\n",
       "      <td>0.945304</td>\n",
       "      <td>0.032496</td>\n",
       "      <td>84.500302</td>\n",
       "      <td>Group 1</td>\n",
       "      <td>rmse</td>\n",
       "      <td>NaN</td>\n",
       "    </tr>\n",
       "    <tr>\n",
       "      <th>2</th>\n",
       "      <td>ag</td>\n",
       "      <td>1.000000e-16</td>\n",
       "      <td>0.860692</td>\n",
       "      <td>0.037051</td>\n",
       "      <td>76.503340</td>\n",
       "      <td>Group 1</td>\n",
       "      <td>rmse</td>\n",
       "      <td>NaN</td>\n",
       "    </tr>\n",
       "    <tr>\n",
       "      <th>3</th>\n",
       "      <td>ah</td>\n",
       "      <td>1.000000e-16</td>\n",
       "      <td>0.616709</td>\n",
       "      <td>0.065078</td>\n",
       "      <td>56.980419</td>\n",
       "      <td>Group 1</td>\n",
       "      <td>rmse</td>\n",
       "      <td>NaN</td>\n",
       "    </tr>\n",
       "    <tr>\n",
       "      <th>4</th>\n",
       "      <td>be</td>\n",
       "      <td>7.801580e-03</td>\n",
       "      <td>0.904488</td>\n",
       "      <td>0.054682</td>\n",
       "      <td>84.002627</td>\n",
       "      <td>Group 1</td>\n",
       "      <td>rmse</td>\n",
       "      <td>NaN</td>\n",
       "    </tr>\n",
       "    <tr>\n",
       "      <th>...</th>\n",
       "      <td>...</td>\n",
       "      <td>...</td>\n",
       "      <td>...</td>\n",
       "      <td>...</td>\n",
       "      <td>...</td>\n",
       "      <td>...</td>\n",
       "      <td>...</td>\n",
       "      <td>...</td>\n",
       "    </tr>\n",
       "    <tr>\n",
       "      <th>333</th>\n",
       "      <td>df</td>\n",
       "      <td>1.822476e-02</td>\n",
       "      <td>0.951094</td>\n",
       "      <td>0.202028</td>\n",
       "      <td>48.683433</td>\n",
       "      <td>Group 3</td>\n",
       "      <td>behav</td>\n",
       "      <td>B1101</td>\n",
       "    </tr>\n",
       "    <tr>\n",
       "      <th>334</th>\n",
       "      <td>fg</td>\n",
       "      <td>8.661837e-02</td>\n",
       "      <td>0.913664</td>\n",
       "      <td>1.151891</td>\n",
       "      <td>78.842110</td>\n",
       "      <td>Group 3</td>\n",
       "      <td>behav</td>\n",
       "      <td>B1222</td>\n",
       "    </tr>\n",
       "    <tr>\n",
       "      <th>335</th>\n",
       "      <td>fg</td>\n",
       "      <td>4.770582e-02</td>\n",
       "      <td>0.976152</td>\n",
       "      <td>0.275545</td>\n",
       "      <td>76.420456</td>\n",
       "      <td>Group 3</td>\n",
       "      <td>behav</td>\n",
       "      <td>B1101</td>\n",
       "    </tr>\n",
       "    <tr>\n",
       "      <th>336</th>\n",
       "      <td>fh</td>\n",
       "      <td>6.630351e-02</td>\n",
       "      <td>0.916032</td>\n",
       "      <td>0.231404</td>\n",
       "      <td>67.285280</td>\n",
       "      <td>Group 3</td>\n",
       "      <td>behav</td>\n",
       "      <td>B1222</td>\n",
       "    </tr>\n",
       "    <tr>\n",
       "      <th>337</th>\n",
       "      <td>fh</td>\n",
       "      <td>5.288231e-02</td>\n",
       "      <td>0.980467</td>\n",
       "      <td>0.158747</td>\n",
       "      <td>74.250978</td>\n",
       "      <td>Group 3</td>\n",
       "      <td>behav</td>\n",
       "      <td>B1101</td>\n",
       "    </tr>\n",
       "  </tbody>\n",
       "</table>\n",
       "<p>338 rows × 8 columns</p>\n",
       "</div>"
      ],
      "text/plain": [
       "    index       min_val   max_val     slope  inflection    group metric   subj\n",
       "0      ae  1.000000e-16  1.000000  0.033214   75.202742  Group 1   rmse    NaN\n",
       "1      af  1.000000e-16  0.945304  0.032496   84.500302  Group 1   rmse    NaN\n",
       "2      ag  1.000000e-16  0.860692  0.037051   76.503340  Group 1   rmse    NaN\n",
       "3      ah  1.000000e-16  0.616709  0.065078   56.980419  Group 1   rmse    NaN\n",
       "4      be  7.801580e-03  0.904488  0.054682   84.002627  Group 1   rmse    NaN\n",
       "..    ...           ...       ...       ...         ...      ...    ...    ...\n",
       "333    df  1.822476e-02  0.951094  0.202028   48.683433  Group 3  behav  B1101\n",
       "334    fg  8.661837e-02  0.913664  1.151891   78.842110  Group 3  behav  B1222\n",
       "335    fg  4.770582e-02  0.976152  0.275545   76.420456  Group 3  behav  B1101\n",
       "336    fh  6.630351e-02  0.916032  0.231404   67.285280  Group 3  behav  B1222\n",
       "337    fh  5.288231e-02  0.980467  0.158747   74.250978  Group 3  behav  B1101\n",
       "\n",
       "[338 rows x 8 columns]"
      ]
     },
     "execution_count": 15,
     "metadata": {},
     "output_type": "execute_result"
    }
   ],
   "source": [
    "all_groups"
   ]
  },
  {
   "cell_type": "code",
   "execution_count": 16,
   "id": "752029bc",
   "metadata": {},
   "outputs": [],
   "source": [
    "all_groups= all_groups.drop(all_groups[all_groups.metric=='frmse'].index).reset_index(drop=True)"
   ]
  },
  {
   "cell_type": "code",
   "execution_count": 17,
   "id": "8f603663",
   "metadata": {},
   "outputs": [
    {
     "data": {
      "text/plain": [
       "array(['Group 1', 'Group 2', 'Group 3', nan], dtype=object)"
      ]
     },
     "execution_count": 17,
     "metadata": {},
     "output_type": "execute_result"
    }
   ],
   "source": [
    "all_groups.group.unique()"
   ]
  },
  {
   "cell_type": "code",
   "execution_count": 18,
   "id": "f65a89d3",
   "metadata": {},
   "outputs": [
    {
     "data": {
      "text/plain": [
       "array(['rmse', 'fcosine', 'behav'], dtype=object)"
      ]
     },
     "execution_count": 18,
     "metadata": {},
     "output_type": "execute_result"
    }
   ],
   "source": [
    "all_groups.metric.unique()"
   ]
  },
  {
   "cell_type": "code",
   "execution_count": 19,
   "id": "c70e298e",
   "metadata": {},
   "outputs": [],
   "source": [
    "def get_formal_metric(x):\n",
    "    if x['metric'] == 'rmse':\n",
    "        return 'MSE'\n",
    "    elif x['metric'] == 'behav':\n",
    "        return 'Ground Truth'\n",
    "    else:\n",
    "        if x['group'] == 'Pre-train':\n",
    "            return 'Pre-train'\n",
    "        else:\n",
    "            return 'APD'"
   ]
  },
  {
   "cell_type": "code",
   "execution_count": 20,
   "id": "b6d2b307",
   "metadata": {},
   "outputs": [],
   "source": [
    "def get_training_condition(x):\n",
    "    if x['metric'] == 'rmse':\n",
    "        return 'MSE'\n",
    "    elif x['metric'] == 'behav':\n",
    "        return 'Ground Truth'\n",
    "    else:\n",
    "        if x['group'] == 'Pre-train':\n",
    "            return 'Pre-train'\n",
    "        else:\n",
    "            return 'Fine-tune'"
   ]
  },
  {
   "cell_type": "code",
   "execution_count": 21,
   "id": "89e14bb5",
   "metadata": {},
   "outputs": [],
   "source": [
    "all_groups.group.fillna('Pre-train', inplace=True)"
   ]
  },
  {
   "cell_type": "code",
   "execution_count": 24,
   "id": "3cd0f103",
   "metadata": {},
   "outputs": [],
   "source": [
    "all_groups['condition'] = all_groups.apply(get_training_condition, axis=1)"
   ]
  },
  {
   "cell_type": "code",
   "execution_count": 25,
   "id": "d8ea921b",
   "metadata": {},
   "outputs": [],
   "source": [
    "all_groups['metric_formal'] = all_groups.apply(get_formal_metric, axis=1)"
   ]
  },
  {
   "cell_type": "code",
   "execution_count": 26,
   "id": "67c79eff",
   "metadata": {},
   "outputs": [],
   "source": [
    "all_groups.subj.fillna(all_groups.metric_formal, inplace=True)"
   ]
  },
  {
   "cell_type": "markdown",
   "id": "5d1c84b0",
   "metadata": {},
   "source": [
    "# MSE vs APD vs Ground Truth"
   ]
  },
  {
   "cell_type": "code",
   "execution_count": 66,
   "id": "9adb2d33",
   "metadata": {},
   "outputs": [
    {
     "data": {
      "image/png": "[encoded data removed]",
      "text/plain": [
       "<Figure size 288x288 with 2 Axes>"
      ]
     },
     "metadata": {
      "needs_background": "light"
     },
     "output_type": "display_data"
    }
   ],
   "source": [
    "fig, ax = plt.subplots(2, 1, figsize=(4, 4), sharex=True)\n",
    "for i, metric in enumerate(['slope', 'inflection']):\n",
    "    sns.boxplot(y=metric, x='metric_formal',data=all_groups[all_groups.metric_formal.isin(['MSE', 'APD', 'Ground Truth'])],\n",
    "                    order = ['MSE', 'APD', 'Ground Truth'], ax=ax[i])\n",
    "    if metric=='slope':\n",
    "        ax[i].set_ylim([0,0.8])\n",
    "        ax[i].set_ylabel('Hill Coefficient')\n",
    "    else:\n",
    "        ax[i].set_ylabel('Inflection Point')\n",
    "ax[0].set_xlabel('')\n",
    "ax[1].set_xlabel('Distance Metric')\n",
    "plt.tight_layout()"
   ]
  },
  {
   "cell_type": "code",
   "execution_count": 34,
   "id": "14d8f3f2",
   "metadata": {},
   "outputs": [
    {
     "data": {
      "text/plain": [
       "(0.0, 1.0)"
      ]
     },
     "execution_count": 34,
     "metadata": {},
     "output_type": "execute_result"
    },
    {
     "data": {
      "image/png": "[encoded data removed]",
      "text/plain": [
       "<Figure size 432x288 with 1 Axes>"
      ]
     },
     "metadata": {
      "needs_background": "light"
     },
     "output_type": "display_data"
    }
   ],
   "source": [
    "ax = sns.boxplot(y='slope', x='metric_formal',data=all_groups[all_groups.metric_formal.isin(['MSE', 'APD', 'Ground Truth'])],\n",
    "                order = ['MSE', 'APD', 'Ground Truth'])\n",
    "ax.set_ylim([0,1])"
   ]
  },
  {
   "cell_type": "code",
   "execution_count": 28,
   "id": "d0188deb",
   "metadata": {},
   "outputs": [],
   "source": [
    "all_groups['stim'] = all_groups['index']\n",
    "all_groups = all_groups.drop(columns=['index'])"
   ]
  },
  {
   "cell_type": "code",
   "execution_count": 29,
   "id": "1d299bcd",
   "metadata": {},
   "outputs": [],
   "source": [
    "import statsmodels.formula.api as smf"
   ]
  },
  {
   "cell_type": "code",
   "execution_count": 30,
   "id": "2b58772f",
   "metadata": {},
   "outputs": [
    {
     "data": {
      "text/plain": [
       "array(['MSE', 'APD', 'Pre-train', 'Ground Truth'], dtype=object)"
      ]
     },
     "execution_count": 30,
     "metadata": {},
     "output_type": "execute_result"
    }
   ],
   "source": [
    "all_groups.metric_formal.unique()"
   ]
  },
  {
   "cell_type": "code",
   "execution_count": 38,
   "id": "f9d77405",
   "metadata": {},
   "outputs": [
    {
     "name": "stderr",
     "output_type": "stream",
     "text": [
      "/home/shc079/miniconda3/envs/tf2.3gpu/lib/python3.7/site-packages/statsmodels/base/model.py:568: ConvergenceWarning: Maximum Likelihood optimization failed to converge. Check mle_retvals\n",
      "  ConvergenceWarning)\n",
      "/home/shc079/miniconda3/envs/tf2.3gpu/lib/python3.7/site-packages/statsmodels/regression/mixed_linear_model.py:2202: ConvergenceWarning: Retrying MixedLM optimization with lbfgs\n",
      "  ConvergenceWarning)\n",
      "/home/shc079/miniconda3/envs/tf2.3gpu/lib/python3.7/site-packages/statsmodels/regression/mixed_linear_model.py:2237: ConvergenceWarning: The MLE may be on the boundary of the parameter space.\n",
      "  warnings.warn(msg, ConvergenceWarning)\n"
     ]
    },
    {
     "data": {
      "text/html": [
       "<table class=\"simpletable\">\n",
       "<tr>\n",
       "       <td>Model:</td>       <td>MixedLM</td> <td>Dependent Variable:</td>  <td>slope</td> \n",
       "</tr>\n",
       "<tr>\n",
       "  <td>No. Observations:</td>   <td>245</td>         <td>Method:</td>        <td>REML</td>  \n",
       "</tr>\n",
       "<tr>\n",
       "     <td>No. Groups:</td>       <td>4</td>          <td>Scale:</td>        <td>0.0265</td> \n",
       "</tr>\n",
       "<tr>\n",
       "  <td>Min. group size:</td>    <td>23</td>      <td>Log-Likelihood:</td>   <td>89.3325</td>\n",
       "</tr>\n",
       "<tr>\n",
       "  <td>Max. group size:</td>    <td>96</td>        <td>Converged:</td>        <td>Yes</td>  \n",
       "</tr>\n",
       "<tr>\n",
       "  <td>Mean group size:</td>   <td>61.2</td>            <td></td>              <td></td>    \n",
       "</tr>\n",
       "</table>\n",
       "<table class=\"simpletable\">\n",
       "<tr>\n",
       "                           <td></td>                           <th>Coef.</th> <th>Std.Err.</th>    <th>z</th>   <th>P>|z|</th> <th>[0.025</th> <th>0.975]</th>\n",
       "</tr>\n",
       "<tr>\n",
       "  <th>Intercept</th>                                           <td>0.238</td>   <td>0.014</td>  <td>16.503</td> <td>0.000</td>  <td>0.210</td>  <td>0.266</td>\n",
       "</tr>\n",
       "<tr>\n",
       "  <th>C(metric_formal, Treatment('Ground Truth'))[T.APD]</th>  <td>0.045</td>   <td>0.028</td>   <td>1.616</td> <td>0.106</td> <td>-0.010</td>  <td>0.100</td>\n",
       "</tr>\n",
       "<tr>\n",
       "  <th>C(metric_formal, Treatment('Ground Truth'))[T.MSE]</th> <td>-0.192</td>   <td>0.024</td>  <td>-7.913</td> <td>0.000</td> <td>-0.239</td> <td>-0.144</td>\n",
       "</tr>\n",
       "<tr>\n",
       "  <th>group Var</th>                                           <td>0.000</td>   <td>0.003</td>     <td></td>      <td></td>       <td></td>       <td></td>   \n",
       "</tr>\n",
       "</table>"
      ],
      "text/plain": [
       "<class 'statsmodels.iolib.summary2.Summary'>\n",
       "\"\"\"\n",
       "                            Mixed Linear Model Regression Results\n",
       "=============================================================================================\n",
       "Model:                          MixedLM              Dependent Variable:              slope  \n",
       "No. Observations:               245                  Method:                          REML   \n",
       "No. Groups:                     4                    Scale:                           0.0265 \n",
       "Min. group size:                23                   Log-Likelihood:                  89.3325\n",
       "Max. group size:                96                   Converged:                       Yes    \n",
       "Mean group size:                61.2                                                         \n",
       "---------------------------------------------------------------------------------------------\n",
       "                                                   Coef.  Std.Err.   z    P>|z| [0.025 0.975]\n",
       "---------------------------------------------------------------------------------------------\n",
       "Intercept                                           0.238    0.014 16.503 0.000  0.210  0.266\n",
       "C(metric_formal, Treatment('Ground Truth'))[T.APD]  0.045    0.028  1.616 0.106 -0.010  0.100\n",
       "C(metric_formal, Treatment('Ground Truth'))[T.MSE] -0.192    0.024 -7.913 0.000 -0.239 -0.144\n",
       "group Var                                           0.000    0.003                           \n",
       "=============================================================================================\n",
       "\n",
       "\"\"\""
      ]
     },
     "execution_count": 38,
     "metadata": {},
     "output_type": "execute_result"
    }
   ],
   "source": [
    "model = smf.mixedlm(\"slope ~ C(metric_formal, Treatment('Ground Truth')) \",\n",
    "                    all_groups[all_groups.metric_formal.isin(['MSE', 'APD', 'Ground Truth'])],\n",
    "                    groups= \"group\").fit()\n",
    "\n",
    "model.summary()"
   ]
  },
  {
   "cell_type": "code",
   "execution_count": 39,
   "id": "cf455aaa",
   "metadata": {},
   "outputs": [
    {
     "name": "stderr",
     "output_type": "stream",
     "text": [
      "/home/shc079/miniconda3/envs/tf2.3gpu/lib/python3.7/site-packages/statsmodels/regression/mixed_linear_model.py:2237: ConvergenceWarning: The MLE may be on the boundary of the parameter space.\n",
      "  warnings.warn(msg, ConvergenceWarning)\n"
     ]
    },
    {
     "data": {
      "text/html": [
       "<table class=\"simpletable\">\n",
       "<tr>\n",
       "       <td>Model:</td>       <td>MixedLM</td> <td>Dependent Variable:</td>  <td>slope</td> \n",
       "</tr>\n",
       "<tr>\n",
       "  <td>No. Observations:</td>   <td>245</td>         <td>Method:</td>        <td>REML</td>  \n",
       "</tr>\n",
       "<tr>\n",
       "     <td>No. Groups:</td>      <td>24</td>          <td>Scale:</td>        <td>0.0255</td> \n",
       "</tr>\n",
       "<tr>\n",
       "  <td>Min. group size:</td>     <td>8</td>      <td>Log-Likelihood:</td>   <td>89.9795</td>\n",
       "</tr>\n",
       "<tr>\n",
       "  <td>Max. group size:</td>    <td>11</td>        <td>Converged:</td>        <td>Yes</td>  \n",
       "</tr>\n",
       "<tr>\n",
       "  <td>Mean group size:</td>   <td>10.2</td>            <td></td>              <td></td>    \n",
       "</tr>\n",
       "</table>\n",
       "<table class=\"simpletable\">\n",
       "<tr>\n",
       "                           <td></td>                           <th>Coef.</th> <th>Std.Err.</th>    <th>z</th>   <th>P>|z|</th> <th>[0.025</th> <th>0.975]</th>\n",
       "</tr>\n",
       "<tr>\n",
       "  <th>Intercept</th>                                           <td>0.238</td>   <td>0.016</td>  <td>15.188</td> <td>0.000</td>  <td>0.207</td>  <td>0.269</td>\n",
       "</tr>\n",
       "<tr>\n",
       "  <th>C(metric_formal, Treatment('Ground Truth'))[T.APD]</th>  <td>0.045</td>   <td>0.027</td>   <td>1.650</td> <td>0.099</td> <td>-0.008</td>  <td>0.098</td>\n",
       "</tr>\n",
       "<tr>\n",
       "  <th>C(metric_formal, Treatment('Ground Truth'))[T.MSE]</th> <td>-0.191</td>   <td>0.024</td>  <td>-8.038</td> <td>0.000</td> <td>-0.238</td> <td>-0.144</td>\n",
       "</tr>\n",
       "<tr>\n",
       "  <th>stim Var</th>                                            <td>0.001</td>   <td>0.007</td>     <td></td>      <td></td>       <td></td>       <td></td>   \n",
       "</tr>\n",
       "</table>"
      ],
      "text/plain": [
       "<class 'statsmodels.iolib.summary2.Summary'>\n",
       "\"\"\"\n",
       "                            Mixed Linear Model Regression Results\n",
       "=============================================================================================\n",
       "Model:                          MixedLM              Dependent Variable:              slope  \n",
       "No. Observations:               245                  Method:                          REML   \n",
       "No. Groups:                     24                   Scale:                           0.0255 \n",
       "Min. group size:                8                    Log-Likelihood:                  89.9795\n",
       "Max. group size:                11                   Converged:                       Yes    \n",
       "Mean group size:                10.2                                                         \n",
       "---------------------------------------------------------------------------------------------\n",
       "                                                   Coef.  Std.Err.   z    P>|z| [0.025 0.975]\n",
       "---------------------------------------------------------------------------------------------\n",
       "Intercept                                           0.238    0.016 15.188 0.000  0.207  0.269\n",
       "C(metric_formal, Treatment('Ground Truth'))[T.APD]  0.045    0.027  1.650 0.099 -0.008  0.098\n",
       "C(metric_formal, Treatment('Ground Truth'))[T.MSE] -0.191    0.024 -8.038 0.000 -0.238 -0.144\n",
       "stim Var                                            0.001    0.007                           \n",
       "=============================================================================================\n",
       "\n",
       "\"\"\""
      ]
     },
     "execution_count": 39,
     "metadata": {},
     "output_type": "execute_result"
    }
   ],
   "source": [
    "model = smf.mixedlm(\"slope ~ C(metric_formal, Treatment('Ground Truth')) \",\n",
    "                    all_groups[all_groups.metric_formal.isin(['MSE', 'APD', 'Ground Truth'])],\n",
    "                    groups= \"stim\").fit()\n",
    "\n",
    "model.summary()"
   ]
  },
  {
   "cell_type": "code",
   "execution_count": 33,
   "id": "07aad097",
   "metadata": {},
   "outputs": [
    {
     "data": {
      "image/png": "[encoded data removed]",
      "text/plain": [
       "<Figure size 432x288 with 1 Axes>"
      ]
     },
     "metadata": {
      "needs_background": "light"
     },
     "output_type": "display_data"
    }
   ],
   "source": [
    "ax = sns.boxplot(y='inflection', x='metric_formal',data=all_groups[all_groups.metric_formal.isin(['MSE', 'APD', 'Ground Truth'])],\n",
    "                order = ['MSE', 'APD', 'Ground Truth'])"
   ]
  },
  {
   "cell_type": "code",
   "execution_count": 40,
   "id": "df144aac",
   "metadata": {},
   "outputs": [
    {
     "name": "stderr",
     "output_type": "stream",
     "text": [
      "/home/shc079/miniconda3/envs/tf2.3gpu/lib/python3.7/site-packages/statsmodels/regression/mixed_linear_model.py:1634: UserWarning: Random effects covariance is singular\n",
      "  warnings.warn(msg)\n",
      "/home/shc079/miniconda3/envs/tf2.3gpu/lib/python3.7/site-packages/statsmodels/regression/mixed_linear_model.py:2237: ConvergenceWarning: The MLE may be on the boundary of the parameter space.\n",
      "  warnings.warn(msg, ConvergenceWarning)\n",
      "/home/shc079/miniconda3/envs/tf2.3gpu/lib/python3.7/site-packages/statsmodels/regression/mixed_linear_model.py:2261: ConvergenceWarning: The Hessian matrix at the estimated parameter values is not positive definite.\n",
      "  warnings.warn(msg, ConvergenceWarning)\n"
     ]
    },
    {
     "data": {
      "text/html": [
       "<table class=\"simpletable\">\n",
       "<tr>\n",
       "       <td>Model:</td>       <td>MixedLM</td> <td>Dependent Variable:</td> <td>inflection</td>\n",
       "</tr>\n",
       "<tr>\n",
       "  <td>No. Observations:</td>   <td>245</td>         <td>Method:</td>          <td>REML</td>   \n",
       "</tr>\n",
       "<tr>\n",
       "     <td>No. Groups:</td>       <td>4</td>          <td>Scale:</td>         <td>339.5914</td> \n",
       "</tr>\n",
       "<tr>\n",
       "  <td>Min. group size:</td>    <td>23</td>      <td>Log-Likelihood:</td>   <td>-1055.0154</td>\n",
       "</tr>\n",
       "<tr>\n",
       "  <td>Max. group size:</td>    <td>96</td>        <td>Converged:</td>          <td>Yes</td>   \n",
       "</tr>\n",
       "<tr>\n",
       "  <td>Mean group size:</td>   <td>61.2</td>            <td></td>                <td></td>     \n",
       "</tr>\n",
       "</table>\n",
       "<table class=\"simpletable\">\n",
       "<tr>\n",
       "                           <td></td>                           <th>Coef.</th> <th>Std.Err.</th>    <th>z</th>   <th>P>|z|</th> <th>[0.025</th>  <th>0.975]</th>\n",
       "</tr>\n",
       "<tr>\n",
       "  <th>Intercept</th>                                          <td>63.735</td>   <td>1.629</td>  <td>39.136</td> <td>0.000</td> <td>60.543</td>  <td>66.927</td>\n",
       "</tr>\n",
       "<tr>\n",
       "  <th>C(metric_formal, Treatment('Ground Truth'))[T.APD]</th> <td>-4.269</td>   <td>3.084</td>  <td>-1.384</td> <td>0.166</td> <td>-10.314</td>  <td>1.775</td>\n",
       "</tr>\n",
       "<tr>\n",
       "  <th>C(metric_formal, Treatment('Ground Truth'))[T.MSE]</th>  <td>2.424</td>   <td>2.733</td>   <td>0.887</td> <td>0.375</td> <td>-2.933</td>   <td>7.781</td>\n",
       "</tr>\n",
       "<tr>\n",
       "  <th>group Var</th>                                           <td>0.000</td>     <td></td>        <td></td>      <td></td>       <td></td>        <td></td>   \n",
       "</tr>\n",
       "</table>"
      ],
      "text/plain": [
       "<class 'statsmodels.iolib.summary2.Summary'>\n",
       "\"\"\"\n",
       "                            Mixed Linear Model Regression Results\n",
       "==============================================================================================\n",
       "Model:                          MixedLM             Dependent Variable:             inflection\n",
       "No. Observations:               245                 Method:                         REML      \n",
       "No. Groups:                     4                   Scale:                          339.5914  \n",
       "Min. group size:                23                  Log-Likelihood:                 -1055.0154\n",
       "Max. group size:                96                  Converged:                      Yes       \n",
       "Mean group size:                61.2                                                          \n",
       "----------------------------------------------------------------------------------------------\n",
       "                                                   Coef.  Std.Err.   z    P>|z|  [0.025 0.975]\n",
       "----------------------------------------------------------------------------------------------\n",
       "Intercept                                          63.735    1.629 39.136 0.000  60.543 66.927\n",
       "C(metric_formal, Treatment('Ground Truth'))[T.APD] -4.269    3.084 -1.384 0.166 -10.314  1.775\n",
       "C(metric_formal, Treatment('Ground Truth'))[T.MSE]  2.424    2.733  0.887 0.375  -2.933  7.781\n",
       "group Var                                           0.000                                     \n",
       "==============================================================================================\n",
       "\n",
       "\"\"\""
      ]
     },
     "execution_count": 40,
     "metadata": {},
     "output_type": "execute_result"
    }
   ],
   "source": [
    "model = smf.mixedlm(\"inflection ~ C(metric_formal, Treatment('Ground Truth')) \",\n",
    "                    all_groups[all_groups.metric_formal.isin(['MSE', 'APD', 'Ground Truth'])],\n",
    "                    groups= \"group\").fit()\n",
    "\n",
    "model.summary()"
   ]
  },
  {
   "cell_type": "code",
   "execution_count": 41,
   "id": "88277842",
   "metadata": {},
   "outputs": [
    {
     "data": {
      "text/html": [
       "<table class=\"simpletable\">\n",
       "<tr>\n",
       "       <td>Model:</td>       <td>MixedLM</td> <td>Dependent Variable:</td> <td>inflection</td>\n",
       "</tr>\n",
       "<tr>\n",
       "  <td>No. Observations:</td>   <td>245</td>         <td>Method:</td>          <td>REML</td>   \n",
       "</tr>\n",
       "<tr>\n",
       "     <td>No. Groups:</td>      <td>24</td>          <td>Scale:</td>         <td>251.9951</td> \n",
       "</tr>\n",
       "<tr>\n",
       "  <td>Min. group size:</td>     <td>8</td>      <td>Log-Likelihood:</td>   <td>-1036.4860</td>\n",
       "</tr>\n",
       "<tr>\n",
       "  <td>Max. group size:</td>    <td>11</td>        <td>Converged:</td>          <td>Yes</td>   \n",
       "</tr>\n",
       "<tr>\n",
       "  <td>Mean group size:</td>   <td>10.2</td>            <td></td>                <td></td>     \n",
       "</tr>\n",
       "</table>\n",
       "<table class=\"simpletable\">\n",
       "<tr>\n",
       "                           <td></td>                           <th>Coef.</th> <th>Std.Err.</th>    <th>z</th>   <th>P>|z|</th> <th>[0.025</th> <th>0.975]</th>\n",
       "</tr>\n",
       "<tr>\n",
       "  <th>Intercept</th>                                          <td>63.407</td>   <td>2.393</td>  <td>26.498</td> <td>0.000</td> <td>58.717</td> <td>68.097</td>\n",
       "</tr>\n",
       "<tr>\n",
       "  <th>C(metric_formal, Treatment('Ground Truth'))[T.APD]</th> <td>-4.164</td>   <td>2.715</td>  <td>-1.534</td> <td>0.125</td> <td>-9.486</td>  <td>1.157</td>\n",
       "</tr>\n",
       "<tr>\n",
       "  <th>C(metric_formal, Treatment('Ground Truth'))[T.MSE]</th>  <td>2.598</td>   <td>2.367</td>   <td>1.098</td> <td>0.272</td> <td>-2.041</td>  <td>7.236</td>\n",
       "</tr>\n",
       "<tr>\n",
       "  <th>stim Var</th>                                           <td>89.506</td>   <td>2.226</td>     <td></td>      <td></td>       <td></td>       <td></td>   \n",
       "</tr>\n",
       "</table>"
      ],
      "text/plain": [
       "<class 'statsmodels.iolib.summary2.Summary'>\n",
       "\"\"\"\n",
       "                            Mixed Linear Model Regression Results\n",
       "=============================================================================================\n",
       "Model:                         MixedLM             Dependent Variable:             inflection\n",
       "No. Observations:              245                 Method:                         REML      \n",
       "No. Groups:                    24                  Scale:                          251.9951  \n",
       "Min. group size:               8                   Log-Likelihood:                 -1036.4860\n",
       "Max. group size:               11                  Converged:                      Yes       \n",
       "Mean group size:               10.2                                                          \n",
       "---------------------------------------------------------------------------------------------\n",
       "                                                   Coef.  Std.Err.   z    P>|z| [0.025 0.975]\n",
       "---------------------------------------------------------------------------------------------\n",
       "Intercept                                          63.407    2.393 26.498 0.000 58.717 68.097\n",
       "C(metric_formal, Treatment('Ground Truth'))[T.APD] -4.164    2.715 -1.534 0.125 -9.486  1.157\n",
       "C(metric_formal, Treatment('Ground Truth'))[T.MSE]  2.598    2.367  1.098 0.272 -2.041  7.236\n",
       "stim Var                                           89.506    2.226                           \n",
       "=============================================================================================\n",
       "\n",
       "\"\"\""
      ]
     },
     "execution_count": 41,
     "metadata": {},
     "output_type": "execute_result"
    }
   ],
   "source": [
    "model = smf.mixedlm(\"inflection ~ C(metric_formal, Treatment('Ground Truth')) \",\n",
    "                    all_groups[all_groups.metric_formal.isin(['MSE', 'APD', 'Ground Truth'])],\n",
    "                    groups= \"stim\").fit()\n",
    "\n",
    "model.summary()"
   ]
  },
  {
   "cell_type": "markdown",
   "id": "5616fc93",
   "metadata": {},
   "source": [
    "# Pre-train vs Fine-tune vs Ground Truth"
   ]
  },
  {
   "cell_type": "code",
   "execution_count": 68,
   "id": "74bd7aae",
   "metadata": {},
   "outputs": [
    {
     "data": {
      "image/png": "[encoded data removed]",
      "text/plain": [
       "<Figure size 288x288 with 2 Axes>"
      ]
     },
     "metadata": {
      "needs_background": "light"
     },
     "output_type": "display_data"
    }
   ],
   "source": [
    "fig, ax = plt.subplots(2, 1, figsize=(4, 4), sharex=True)\n",
    "for i, metric in enumerate(['slope', 'inflection']):\n",
    "    sns.boxplot(y=metric, x='condition',data=all_groups[all_groups.condition.isin(['Pre-train', 'Fine-tune', 'Ground Truth'])],\n",
    "                    order = ['Pre-train', 'Fine-tune', 'Ground Truth'], ax=ax[i])\n",
    "    if metric=='slope':\n",
    "        ax[i].set_ylim([0,0.8])\n",
    "        ax[i].set_ylabel('Hill Coefficient')\n",
    "    else:\n",
    "        ax[i].set_ylabel('Inflection Point')\n",
    "ax[0].set_xlabel('')\n",
    "ax[1].set_xlabel('APD Training Condition')\n",
    "plt.tight_layout()"
   ]
  },
  {
   "cell_type": "code",
   "execution_count": 42,
   "id": "560b0b86",
   "metadata": {},
   "outputs": [
    {
     "name": "stderr",
     "output_type": "stream",
     "text": [
      "/home/shc079/miniconda3/envs/tf2.3gpu/lib/python3.7/site-packages/statsmodels/base/model.py:568: ConvergenceWarning: Maximum Likelihood optimization failed to converge. Check mle_retvals\n",
      "  ConvergenceWarning)\n",
      "/home/shc079/miniconda3/envs/tf2.3gpu/lib/python3.7/site-packages/statsmodels/regression/mixed_linear_model.py:2202: ConvergenceWarning: Retrying MixedLM optimization with lbfgs\n",
      "  ConvergenceWarning)\n",
      "/home/shc079/miniconda3/envs/tf2.3gpu/lib/python3.7/site-packages/statsmodels/base/model.py:568: ConvergenceWarning: Maximum Likelihood optimization failed to converge. Check mle_retvals\n",
      "  ConvergenceWarning)\n",
      "/home/shc079/miniconda3/envs/tf2.3gpu/lib/python3.7/site-packages/statsmodels/regression/mixed_linear_model.py:2202: ConvergenceWarning: Retrying MixedLM optimization with cg\n",
      "  ConvergenceWarning)\n",
      "/home/shc079/miniconda3/envs/tf2.3gpu/lib/python3.7/site-packages/statsmodels/base/model.py:568: ConvergenceWarning: Maximum Likelihood optimization failed to converge. Check mle_retvals\n",
      "  ConvergenceWarning)\n",
      "/home/shc079/miniconda3/envs/tf2.3gpu/lib/python3.7/site-packages/statsmodels/regression/mixed_linear_model.py:2206: ConvergenceWarning: MixedLM optimization failed, trying a different optimizer may help.\n",
      "  warnings.warn(msg, ConvergenceWarning)\n",
      "/home/shc079/miniconda3/envs/tf2.3gpu/lib/python3.7/site-packages/statsmodels/regression/mixed_linear_model.py:2218: ConvergenceWarning: Gradient optimization failed, |grad| = 5.090284\n",
      "  warnings.warn(msg, ConvergenceWarning)\n",
      "/home/shc079/miniconda3/envs/tf2.3gpu/lib/python3.7/site-packages/statsmodels/regression/mixed_linear_model.py:2237: ConvergenceWarning: The MLE may be on the boundary of the parameter space.\n",
      "  warnings.warn(msg, ConvergenceWarning)\n"
     ]
    },
    {
     "data": {
      "text/html": [
       "<table class=\"simpletable\">\n",
       "<tr>\n",
       "       <td>Model:</td>       <td>MixedLM</td> <td>Dependent Variable:</td>  <td>slope</td> \n",
       "</tr>\n",
       "<tr>\n",
       "  <td>No. Observations:</td>   <td>198</td>         <td>Method:</td>        <td>REML</td>  \n",
       "</tr>\n",
       "<tr>\n",
       "     <td>No. Groups:</td>      <td>24</td>          <td>Scale:</td>        <td>0.0309</td> \n",
       "</tr>\n",
       "<tr>\n",
       "  <td>Min. group size:</td>     <td>6</td>      <td>Log-Likelihood:</td>   <td>50.1904</td>\n",
       "</tr>\n",
       "<tr>\n",
       "  <td>Max. group size:</td>     <td>9</td>        <td>Converged:</td>        <td>No</td>   \n",
       "</tr>\n",
       "<tr>\n",
       "  <td>Mean group size:</td>    <td>8.2</td>            <td></td>              <td></td>    \n",
       "</tr>\n",
       "</table>\n",
       "<table class=\"simpletable\">\n",
       "<tr>\n",
       "                            <td></td>                            <th>Coef.</th> <th>Std.Err.</th>    <th>z</th>   <th>P>|z|</th> <th>[0.025</th> <th>0.975]</th>\n",
       "</tr>\n",
       "<tr>\n",
       "  <th>Intercept</th>                                             <td>0.238</td>   <td>0.019</td>  <td>12.602</td> <td>0.000</td>  <td>0.201</td>  <td>0.275</td>\n",
       "</tr>\n",
       "<tr>\n",
       "  <th>C(condition, Treatment('Ground Truth'))[T.Fine-tune]</th>  <td>0.045</td>   <td>0.030</td>   <td>1.496</td> <td>0.135</td> <td>-0.014</td>  <td>0.104</td>\n",
       "</tr>\n",
       "<tr>\n",
       "  <th>C(condition, Treatment('Ground Truth'))[T.Pre-train]</th> <td>-0.173</td>   <td>0.040</td>  <td>-4.325</td> <td>0.000</td> <td>-0.251</td> <td>-0.094</td>\n",
       "</tr>\n",
       "<tr>\n",
       "  <th>stim Var</th>                                              <td>0.003</td>   <td>0.016</td>     <td></td>      <td></td>       <td></td>       <td></td>   \n",
       "</tr>\n",
       "</table>"
      ],
      "text/plain": [
       "<class 'statsmodels.iolib.summary2.Summary'>\n",
       "\"\"\"\n",
       "                             Mixed Linear Model Regression Results\n",
       "===============================================================================================\n",
       "Model:                          MixedLM               Dependent Variable:               slope  \n",
       "No. Observations:               198                   Method:                           REML   \n",
       "No. Groups:                     24                    Scale:                            0.0309 \n",
       "Min. group size:                6                     Log-Likelihood:                   50.1904\n",
       "Max. group size:                9                     Converged:                        No     \n",
       "Mean group size:                8.2                                                            \n",
       "-----------------------------------------------------------------------------------------------\n",
       "                                                     Coef.  Std.Err.   z    P>|z| [0.025 0.975]\n",
       "-----------------------------------------------------------------------------------------------\n",
       "Intercept                                             0.238    0.019 12.602 0.000  0.201  0.275\n",
       "C(condition, Treatment('Ground Truth'))[T.Fine-tune]  0.045    0.030  1.496 0.135 -0.014  0.104\n",
       "C(condition, Treatment('Ground Truth'))[T.Pre-train] -0.173    0.040 -4.325 0.000 -0.251 -0.094\n",
       "stim Var                                              0.003    0.016                           \n",
       "===============================================================================================\n",
       "\n",
       "\"\"\""
      ]
     },
     "execution_count": 42,
     "metadata": {},
     "output_type": "execute_result"
    }
   ],
   "source": [
    "model = smf.mixedlm(\"slope ~ C(condition, Treatment('Ground Truth')) \",\n",
    "                    all_groups[all_groups.condition.isin(['Pre-train', 'Fine-tune', 'Ground Truth'])],\n",
    "                    groups= \"stim\").fit()\n",
    "\n",
    "model.summary()"
   ]
  },
  {
   "cell_type": "code",
   "execution_count": 43,
   "id": "3a25fe8d",
   "metadata": {},
   "outputs": [
    {
     "name": "stderr",
     "output_type": "stream",
     "text": [
      "/home/shc079/miniconda3/envs/tf2.3gpu/lib/python3.7/site-packages/statsmodels/regression/mixed_linear_model.py:2237: ConvergenceWarning: The MLE may be on the boundary of the parameter space.\n",
      "  warnings.warn(msg, ConvergenceWarning)\n"
     ]
    },
    {
     "data": {
      "text/html": [
       "<table class=\"simpletable\">\n",
       "<tr>\n",
       "       <td>Model:</td>       <td>MixedLM</td> <td>Dependent Variable:</td>  <td>slope</td> \n",
       "</tr>\n",
       "<tr>\n",
       "  <td>No. Observations:</td>   <td>198</td>         <td>Method:</td>        <td>REML</td>  \n",
       "</tr>\n",
       "<tr>\n",
       "     <td>No. Groups:</td>       <td>4</td>          <td>Scale:</td>        <td>0.0330</td> \n",
       "</tr>\n",
       "<tr>\n",
       "  <td>Min. group size:</td>    <td>23</td>      <td>Log-Likelihood:</td>   <td>49.9523</td>\n",
       "</tr>\n",
       "<tr>\n",
       "  <td>Max. group size:</td>    <td>80</td>        <td>Converged:</td>        <td>Yes</td>  \n",
       "</tr>\n",
       "<tr>\n",
       "  <td>Mean group size:</td>   <td>49.5</td>            <td></td>              <td></td>    \n",
       "</tr>\n",
       "</table>\n",
       "<table class=\"simpletable\">\n",
       "<tr>\n",
       "                            <td></td>                            <th>Coef.</th> <th>Std.Err.</th>    <th>z</th>   <th>P>|z|</th> <th>[0.025</th> <th>0.975]</th>\n",
       "</tr>\n",
       "<tr>\n",
       "  <th>Intercept</th>                                             <td>0.238</td>   <td>0.017</td>  <td>13.894</td> <td>0.000</td>  <td>0.205</td>  <td>0.272</td>\n",
       "</tr>\n",
       "<tr>\n",
       "  <th>C(condition, Treatment('Ground Truth'))[T.Fine-tune]</th>  <td>0.045</td>   <td>0.031</td>   <td>1.437</td> <td>0.151</td> <td>-0.016</td>  <td>0.106</td>\n",
       "</tr>\n",
       "<tr>\n",
       "  <th>C(condition, Treatment('Ground Truth'))[T.Pre-train]</th> <td>-0.176</td>   <td>0.043</td>  <td>-4.141</td> <td>0.000</td> <td>-0.260</td> <td>-0.093</td>\n",
       "</tr>\n",
       "<tr>\n",
       "  <th>group Var</th>                                             <td>0.000</td>   <td>0.004</td>     <td></td>      <td></td>       <td></td>       <td></td>   \n",
       "</tr>\n",
       "</table>"
      ],
      "text/plain": [
       "<class 'statsmodels.iolib.summary2.Summary'>\n",
       "\"\"\"\n",
       "                             Mixed Linear Model Regression Results\n",
       "===============================================================================================\n",
       "Model:                          MixedLM               Dependent Variable:               slope  \n",
       "No. Observations:               198                   Method:                           REML   \n",
       "No. Groups:                     4                     Scale:                            0.0330 \n",
       "Min. group size:                23                    Log-Likelihood:                   49.9523\n",
       "Max. group size:                80                    Converged:                        Yes    \n",
       "Mean group size:                49.5                                                           \n",
       "-----------------------------------------------------------------------------------------------\n",
       "                                                     Coef.  Std.Err.   z    P>|z| [0.025 0.975]\n",
       "-----------------------------------------------------------------------------------------------\n",
       "Intercept                                             0.238    0.017 13.894 0.000  0.205  0.272\n",
       "C(condition, Treatment('Ground Truth'))[T.Fine-tune]  0.045    0.031  1.437 0.151 -0.016  0.106\n",
       "C(condition, Treatment('Ground Truth'))[T.Pre-train] -0.176    0.043 -4.141 0.000 -0.260 -0.093\n",
       "group Var                                             0.000    0.004                           \n",
       "===============================================================================================\n",
       "\n",
       "\"\"\""
      ]
     },
     "execution_count": 43,
     "metadata": {},
     "output_type": "execute_result"
    }
   ],
   "source": [
    "model = smf.mixedlm(\"slope ~ C(condition, Treatment('Ground Truth')) \",\n",
    "                    all_groups[all_groups.condition.isin(['Pre-train', 'Fine-tune', 'Ground Truth'])],\n",
    "                    groups= \"group\").fit()\n",
    "\n",
    "model.summary()"
   ]
  },
  {
   "cell_type": "code",
   "execution_count": 44,
   "id": "e1fa5235",
   "metadata": {},
   "outputs": [
    {
     "data": {
      "image/png": "[encoded data removed]",
      "text/plain": [
       "<Figure size 432x288 with 1 Axes>"
      ]
     },
     "metadata": {
      "needs_background": "light"
     },
     "output_type": "display_data"
    }
   ],
   "source": [
    "ax = sns.boxplot(y='inflection', x='condition',data=all_groups[all_groups.condition.isin(['Pre-train', 'Fine-tune', 'Ground Truth'])],\n",
    "                order = ['Pre-train', 'Fine-tune', 'Ground Truth'])"
   ]
  },
  {
   "cell_type": "code",
   "execution_count": 69,
   "id": "4c1864e1",
   "metadata": {},
   "outputs": [
    {
     "name": "stderr",
     "output_type": "stream",
     "text": [
      "/home/shc079/miniconda3/envs/tf2.3gpu/lib/python3.7/site-packages/statsmodels/regression/mixed_linear_model.py:1634: UserWarning: Random effects covariance is singular\n",
      "  warnings.warn(msg)\n",
      "/home/shc079/miniconda3/envs/tf2.3gpu/lib/python3.7/site-packages/statsmodels/regression/mixed_linear_model.py:1634: UserWarning: Random effects covariance is singular\n",
      "  warnings.warn(msg)\n",
      "/home/shc079/miniconda3/envs/tf2.3gpu/lib/python3.7/site-packages/statsmodels/regression/mixed_linear_model.py:2237: ConvergenceWarning: The MLE may be on the boundary of the parameter space.\n",
      "  warnings.warn(msg, ConvergenceWarning)\n",
      "/home/shc079/miniconda3/envs/tf2.3gpu/lib/python3.7/site-packages/statsmodels/regression/mixed_linear_model.py:2261: ConvergenceWarning: The Hessian matrix at the estimated parameter values is not positive definite.\n",
      "  warnings.warn(msg, ConvergenceWarning)\n"
     ]
    },
    {
     "data": {
      "text/html": [
       "<table class=\"simpletable\">\n",
       "<tr>\n",
       "       <td>Model:</td>       <td>MixedLM</td> <td>Dependent Variable:</td> <td>inflection</td>\n",
       "</tr>\n",
       "<tr>\n",
       "  <td>No. Observations:</td>   <td>268</td>         <td>Method:</td>          <td>REML</td>   \n",
       "</tr>\n",
       "<tr>\n",
       "     <td>No. Groups:</td>       <td>4</td>          <td>Scale:</td>         <td>350.8260</td> \n",
       "</tr>\n",
       "<tr>\n",
       "  <td>Min. group size:</td>    <td>46</td>      <td>Log-Likelihood:</td>   <td>-1156.2012</td>\n",
       "</tr>\n",
       "<tr>\n",
       "  <td>Max. group size:</td>    <td>96</td>        <td>Converged:</td>          <td>Yes</td>   \n",
       "</tr>\n",
       "<tr>\n",
       "  <td>Mean group size:</td>   <td>67.0</td>            <td></td>                <td></td>     \n",
       "</tr>\n",
       "</table>\n",
       "<table class=\"simpletable\">\n",
       "<tr>\n",
       "                            <td></td>                            <th>Coef.</th> <th>Std.Err.</th>    <th>z</th>   <th>P>|z|</th> <th>[0.025</th>  <th>0.975]</th>\n",
       "</tr>\n",
       "<tr>\n",
       "  <th>Intercept</th>                                            <td>63.735</td>   <td>1.655</td>  <td>38.504</td> <td>0.000</td> <td>60.491</td>  <td>66.980</td>\n",
       "</tr>\n",
       "<tr>\n",
       "  <th>C(condition, Treatment('Ground Truth'))[T.Fine-tune]</th> <td>-4.269</td>   <td>3.141</td>  <td>-1.359</td> <td>0.174</td> <td>-10.426</td>  <td>1.887</td>\n",
       "</tr>\n",
       "<tr>\n",
       "  <th>C(condition, Treatment('Ground Truth'))[T.MSE]</th>        <td>2.424</td>   <td>2.779</td>   <td>0.872</td> <td>0.383</td> <td>-3.022</td>   <td>7.870</td>\n",
       "</tr>\n",
       "<tr>\n",
       "  <th>C(condition, Treatment('Ground Truth'))[T.Pre-train]</th> <td>-0.435</td>   <td>3.872</td>  <td>-0.112</td> <td>0.911</td> <td>-8.024</td>   <td>7.155</td>\n",
       "</tr>\n",
       "<tr>\n",
       "  <th>group Var</th>                                             <td>0.000</td>     <td></td>        <td></td>      <td></td>       <td></td>        <td></td>   \n",
       "</tr>\n",
       "</table>"
      ],
      "text/plain": [
       "<class 'statsmodels.iolib.summary2.Summary'>\n",
       "\"\"\"\n",
       "                             Mixed Linear Model Regression Results\n",
       "================================================================================================\n",
       "Model:                          MixedLM              Dependent Variable:              inflection\n",
       "No. Observations:               268                  Method:                          REML      \n",
       "No. Groups:                     4                    Scale:                           350.8260  \n",
       "Min. group size:                46                   Log-Likelihood:                  -1156.2012\n",
       "Max. group size:                96                   Converged:                       Yes       \n",
       "Mean group size:                67.0                                                            \n",
       "------------------------------------------------------------------------------------------------\n",
       "                                                     Coef.  Std.Err.   z    P>|z|  [0.025 0.975]\n",
       "------------------------------------------------------------------------------------------------\n",
       "Intercept                                            63.735    1.655 38.504 0.000  60.491 66.980\n",
       "C(condition, Treatment('Ground Truth'))[T.Fine-tune] -4.269    3.141 -1.359 0.174 -10.426  1.887\n",
       "C(condition, Treatment('Ground Truth'))[T.MSE]        2.424    2.779  0.872 0.383  -3.022  7.870\n",
       "C(condition, Treatment('Ground Truth'))[T.Pre-train] -0.435    3.872 -0.112 0.911  -8.024  7.155\n",
       "group Var                                             0.000                                     \n",
       "================================================================================================\n",
       "\n",
       "\"\"\""
      ]
     },
     "execution_count": 69,
     "metadata": {},
     "output_type": "execute_result"
    }
   ],
   "source": [
    "model = smf.mixedlm(\"inflection ~ C(condition, Treatment('Ground Truth')) \",\n",
    "                    all_groups,\n",
    "                    groups= \"group\").fit()\n",
    "\n",
    "model.summary()"
   ]
  },
  {
   "cell_type": "code",
   "execution_count": 45,
   "id": "fc36be5b",
   "metadata": {},
   "outputs": [
    {
     "name": "stderr",
     "output_type": "stream",
     "text": [
      "/home/shc079/miniconda3/envs/tf2.3gpu/lib/python3.7/site-packages/statsmodels/base/model.py:568: ConvergenceWarning: Maximum Likelihood optimization failed to converge. Check mle_retvals\n",
      "  ConvergenceWarning)\n",
      "/home/shc079/miniconda3/envs/tf2.3gpu/lib/python3.7/site-packages/statsmodels/regression/mixed_linear_model.py:2202: ConvergenceWarning: Retrying MixedLM optimization with lbfgs\n",
      "  ConvergenceWarning)\n"
     ]
    },
    {
     "data": {
      "text/html": [
       "<table class=\"simpletable\">\n",
       "<tr>\n",
       "       <td>Model:</td>       <td>MixedLM</td> <td>Dependent Variable:</td> <td>inflection</td>\n",
       "</tr>\n",
       "<tr>\n",
       "  <td>No. Observations:</td>   <td>198</td>         <td>Method:</td>          <td>REML</td>   \n",
       "</tr>\n",
       "<tr>\n",
       "     <td>No. Groups:</td>       <td>4</td>          <td>Scale:</td>         <td>337.9633</td> \n",
       "</tr>\n",
       "<tr>\n",
       "  <td>Min. group size:</td>    <td>23</td>      <td>Log-Likelihood:</td>    <td>-851.0917</td>\n",
       "</tr>\n",
       "<tr>\n",
       "  <td>Max. group size:</td>    <td>80</td>        <td>Converged:</td>          <td>Yes</td>   \n",
       "</tr>\n",
       "<tr>\n",
       "  <td>Mean group size:</td>   <td>49.5</td>            <td></td>                <td></td>     \n",
       "</tr>\n",
       "</table>\n",
       "<table class=\"simpletable\">\n",
       "<tr>\n",
       "                            <td></td>                            <th>Coef.</th> <th>Std.Err.</th>    <th>z</th>   <th>P>|z|</th> <th>[0.025</th>  <th>0.975]</th>\n",
       "</tr>\n",
       "<tr>\n",
       "  <th>Intercept</th>                                            <td>64.251</td>   <td>2.283</td>  <td>28.145</td> <td>0.000</td> <td>59.776</td>  <td>68.725</td>\n",
       "</tr>\n",
       "<tr>\n",
       "  <th>C(condition, Treatment('Ground Truth'))[T.Fine-tune]</th> <td>-4.760</td>   <td>3.182</td>  <td>-1.496</td> <td>0.135</td> <td>-10.997</td>  <td>1.477</td>\n",
       "</tr>\n",
       "<tr>\n",
       "  <th>C(condition, Treatment('Ground Truth'))[T.Pre-train]</th> <td>-0.950</td>   <td>5.162</td>  <td>-0.184</td> <td>0.854</td> <td>-11.066</td>  <td>9.167</td>\n",
       "</tr>\n",
       "<tr>\n",
       "  <th>group Var</th>                                             <td>6.737</td>   <td>0.726</td>     <td></td>      <td></td>       <td></td>        <td></td>   \n",
       "</tr>\n",
       "</table>"
      ],
      "text/plain": [
       "<class 'statsmodels.iolib.summary2.Summary'>\n",
       "\"\"\"\n",
       "                             Mixed Linear Model Regression Results\n",
       "================================================================================================\n",
       "Model:                          MixedLM              Dependent Variable:              inflection\n",
       "No. Observations:               198                  Method:                          REML      \n",
       "No. Groups:                     4                    Scale:                           337.9633  \n",
       "Min. group size:                23                   Log-Likelihood:                  -851.0917 \n",
       "Max. group size:                80                   Converged:                       Yes       \n",
       "Mean group size:                49.5                                                            \n",
       "------------------------------------------------------------------------------------------------\n",
       "                                                     Coef.  Std.Err.   z    P>|z|  [0.025 0.975]\n",
       "------------------------------------------------------------------------------------------------\n",
       "Intercept                                            64.251    2.283 28.145 0.000  59.776 68.725\n",
       "C(condition, Treatment('Ground Truth'))[T.Fine-tune] -4.760    3.182 -1.496 0.135 -10.997  1.477\n",
       "C(condition, Treatment('Ground Truth'))[T.Pre-train] -0.950    5.162 -0.184 0.854 -11.066  9.167\n",
       "group Var                                             6.737    0.726                            \n",
       "================================================================================================\n",
       "\n",
       "\"\"\""
      ]
     },
     "execution_count": 45,
     "metadata": {},
     "output_type": "execute_result"
    }
   ],
   "source": [
    "model = smf.mixedlm(\"inflection ~ C(condition, Treatment('Ground Truth')) \",\n",
    "                    all_groups[all_groups.condition.isin(['Pre-train', 'Fine-tune', 'Ground Truth'])],\n",
    "                    groups= \"group\").fit()\n",
    "\n",
    "model.summary()"
   ]
  },
  {
   "cell_type": "code",
   "execution_count": 46,
   "id": "0f034156",
   "metadata": {},
   "outputs": [
    {
     "data": {
      "text/html": [
       "<table class=\"simpletable\">\n",
       "<tr>\n",
       "       <td>Model:</td>       <td>MixedLM</td> <td>Dependent Variable:</td> <td>inflection</td>\n",
       "</tr>\n",
       "<tr>\n",
       "  <td>No. Observations:</td>   <td>198</td>         <td>Method:</td>          <td>REML</td>   \n",
       "</tr>\n",
       "<tr>\n",
       "     <td>No. Groups:</td>      <td>24</td>          <td>Scale:</td>         <td>277.9219</td> \n",
       "</tr>\n",
       "<tr>\n",
       "  <td>Min. group size:</td>     <td>6</td>      <td>Log-Likelihood:</td>    <td>-843.5888</td>\n",
       "</tr>\n",
       "<tr>\n",
       "  <td>Max. group size:</td>     <td>9</td>        <td>Converged:</td>          <td>Yes</td>   \n",
       "</tr>\n",
       "<tr>\n",
       "  <td>Mean group size:</td>    <td>8.2</td>            <td></td>                <td></td>     \n",
       "</tr>\n",
       "</table>\n",
       "<table class=\"simpletable\">\n",
       "<tr>\n",
       "                            <td></td>                            <th>Coef.</th> <th>Std.Err.</th>    <th>z</th>   <th>P>|z|</th> <th>[0.025</th>  <th>0.975]</th>\n",
       "</tr>\n",
       "<tr>\n",
       "  <th>Intercept</th>                                            <td>63.750</td>   <td>2.216</td>  <td>28.770</td> <td>0.000</td> <td>59.407</td>  <td>68.093</td>\n",
       "</tr>\n",
       "<tr>\n",
       "  <th>C(condition, Treatment('Ground Truth'))[T.Fine-tune]</th> <td>-4.447</td>   <td>2.852</td>  <td>-1.560</td> <td>0.119</td> <td>-10.036</td>  <td>1.142</td>\n",
       "</tr>\n",
       "<tr>\n",
       "  <th>C(condition, Treatment('Ground Truth'))[T.Pre-train]</th> <td>-0.123</td>   <td>3.783</td>  <td>-0.033</td> <td>0.974</td> <td>-7.539</td>   <td>7.292</td>\n",
       "</tr>\n",
       "<tr>\n",
       "  <th>stim Var</th>                                             <td>64.983</td>   <td>1.853</td>     <td></td>      <td></td>       <td></td>        <td></td>   \n",
       "</tr>\n",
       "</table>"
      ],
      "text/plain": [
       "<class 'statsmodels.iolib.summary2.Summary'>\n",
       "\"\"\"\n",
       "                             Mixed Linear Model Regression Results\n",
       "================================================================================================\n",
       "Model:                          MixedLM              Dependent Variable:              inflection\n",
       "No. Observations:               198                  Method:                          REML      \n",
       "No. Groups:                     24                   Scale:                           277.9219  \n",
       "Min. group size:                6                    Log-Likelihood:                  -843.5888 \n",
       "Max. group size:                9                    Converged:                       Yes       \n",
       "Mean group size:                8.2                                                             \n",
       "------------------------------------------------------------------------------------------------\n",
       "                                                     Coef.  Std.Err.   z    P>|z|  [0.025 0.975]\n",
       "------------------------------------------------------------------------------------------------\n",
       "Intercept                                            63.750    2.216 28.770 0.000  59.407 68.093\n",
       "C(condition, Treatment('Ground Truth'))[T.Fine-tune] -4.447    2.852 -1.560 0.119 -10.036  1.142\n",
       "C(condition, Treatment('Ground Truth'))[T.Pre-train] -0.123    3.783 -0.033 0.974  -7.539  7.292\n",
       "stim Var                                             64.983    1.853                            \n",
       "================================================================================================\n",
       "\n",
       "\"\"\""
      ]
     },
     "execution_count": 46,
     "metadata": {},
     "output_type": "execute_result"
    }
   ],
   "source": [
    "model = smf.mixedlm(\"inflection ~ C(condition, Treatment('Ground Truth')) \",\n",
    "                    all_groups[all_groups.condition.isin(['Pre-train', 'Fine-tune', 'Ground Truth'])],\n",
    "                    groups= \"stim\").fit()\n",
    "\n",
    "model.summary()"
   ]
  },
  {
   "cell_type": "markdown",
   "id": "b17b4baf",
   "metadata": {},
   "source": [
    "# normalize"
   ]
  },
  {
   "cell_type": "code",
   "execution_count": 47,
   "id": "5b2f567e",
   "metadata": {},
   "outputs": [],
   "source": [
    "def subtract_behav(group_behav, item):\n",
    "    def _subtract_behav(x):\n",
    "        try:\n",
    "            return x[item]-group_behav[x['stim']][item]\n",
    "        except:\n",
    "            return np.NaN\n",
    "    return _subtract_behav"
   ]
  },
  {
   "cell_type": "code",
   "execution_count": 48,
   "id": "3c4007a6",
   "metadata": {},
   "outputs": [
    {
     "data": {
      "text/plain": [
       "array(['Group 1', 'Group 2', 'Group 3', 'Pre-train'], dtype=object)"
      ]
     },
     "execution_count": 48,
     "metadata": {},
     "output_type": "execute_result"
    }
   ],
   "source": [
    "all_groups.group.unique()"
   ]
  },
  {
   "cell_type": "code",
   "execution_count": 49,
   "id": "d78e7f1c",
   "metadata": {},
   "outputs": [
    {
     "data": {
      "text/html": [
       "<div>\n",
       "<style scoped>\n",
       "    .dataframe tbody tr th:only-of-type {\n",
       "        vertical-align: middle;\n",
       "    }\n",
       "\n",
       "    .dataframe tbody tr th {\n",
       "        vertical-align: top;\n",
       "    }\n",
       "\n",
       "    .dataframe thead th {\n",
       "        text-align: right;\n",
       "    }\n",
       "</style>\n",
       "<table border=\"1\" class=\"dataframe\">\n",
       "  <thead>\n",
       "    <tr style=\"text-align: right;\">\n",
       "      <th></th>\n",
       "      <th>min_val</th>\n",
       "      <th>max_val</th>\n",
       "      <th>slope</th>\n",
       "      <th>inflection</th>\n",
       "      <th>group</th>\n",
       "      <th>metric</th>\n",
       "      <th>subj</th>\n",
       "      <th>condition</th>\n",
       "      <th>metric_formal</th>\n",
       "      <th>stim</th>\n",
       "    </tr>\n",
       "  </thead>\n",
       "  <tbody>\n",
       "    <tr>\n",
       "      <th>0</th>\n",
       "      <td>1.000000e-16</td>\n",
       "      <td>0.546898</td>\n",
       "      <td>0.020997</td>\n",
       "      <td>82.679161</td>\n",
       "      <td>Pre-train</td>\n",
       "      <td>fcosine</td>\n",
       "      <td>Pre-train</td>\n",
       "      <td>Pre-train</td>\n",
       "      <td>Pre-train</td>\n",
       "      <td>ae</td>\n",
       "    </tr>\n",
       "    <tr>\n",
       "      <th>1</th>\n",
       "      <td>2.792371e-02</td>\n",
       "      <td>1.000000</td>\n",
       "      <td>0.010351</td>\n",
       "      <td>61.352500</td>\n",
       "      <td>Pre-train</td>\n",
       "      <td>fcosine</td>\n",
       "      <td>Pre-train</td>\n",
       "      <td>Pre-train</td>\n",
       "      <td>Pre-train</td>\n",
       "      <td>af</td>\n",
       "    </tr>\n",
       "    <tr>\n",
       "      <th>2</th>\n",
       "      <td>6.195373e-02</td>\n",
       "      <td>1.000000</td>\n",
       "      <td>0.027773</td>\n",
       "      <td>49.199347</td>\n",
       "      <td>Pre-train</td>\n",
       "      <td>fcosine</td>\n",
       "      <td>Pre-train</td>\n",
       "      <td>Pre-train</td>\n",
       "      <td>Pre-train</td>\n",
       "      <td>ag</td>\n",
       "    </tr>\n",
       "    <tr>\n",
       "      <th>3</th>\n",
       "      <td>3.114233e-01</td>\n",
       "      <td>0.641320</td>\n",
       "      <td>0.074730</td>\n",
       "      <td>72.793759</td>\n",
       "      <td>Pre-train</td>\n",
       "      <td>fcosine</td>\n",
       "      <td>Pre-train</td>\n",
       "      <td>Pre-train</td>\n",
       "      <td>Pre-train</td>\n",
       "      <td>ah</td>\n",
       "    </tr>\n",
       "    <tr>\n",
       "      <th>4</th>\n",
       "      <td>2.859399e-01</td>\n",
       "      <td>1.000000</td>\n",
       "      <td>0.088148</td>\n",
       "      <td>95.212692</td>\n",
       "      <td>Pre-train</td>\n",
       "      <td>fcosine</td>\n",
       "      <td>Pre-train</td>\n",
       "      <td>Pre-train</td>\n",
       "      <td>Pre-train</td>\n",
       "      <td>be</td>\n",
       "    </tr>\n",
       "  </tbody>\n",
       "</table>\n",
       "</div>"
      ],
      "text/plain": [
       "        min_val   max_val     slope  inflection      group   metric  \\\n",
       "0  1.000000e-16  0.546898  0.020997   82.679161  Pre-train  fcosine   \n",
       "1  2.792371e-02  1.000000  0.010351   61.352500  Pre-train  fcosine   \n",
       "2  6.195373e-02  1.000000  0.027773   49.199347  Pre-train  fcosine   \n",
       "3  3.114233e-01  0.641320  0.074730   72.793759  Pre-train  fcosine   \n",
       "4  2.859399e-01  1.000000  0.088148   95.212692  Pre-train  fcosine   \n",
       "\n",
       "        subj  condition metric_formal stim  \n",
       "0  Pre-train  Pre-train     Pre-train   ae  \n",
       "1  Pre-train  Pre-train     Pre-train   af  \n",
       "2  Pre-train  Pre-train     Pre-train   ag  \n",
       "3  Pre-train  Pre-train     Pre-train   ah  \n",
       "4  Pre-train  Pre-train     Pre-train   be  "
      ]
     },
     "execution_count": 49,
     "metadata": {},
     "output_type": "execute_result"
    }
   ],
   "source": [
    "pretrain_df = all_groups[(all_groups.condition=='Pre-train')].reset_index(drop=True)\n",
    "pretrain_df.head()"
   ]
  },
  {
   "cell_type": "code",
   "execution_count": 115,
   "id": "bfe3bee9",
   "metadata": {},
   "outputs": [
    {
     "name": "stderr",
     "output_type": "stream",
     "text": [
      "/home/shc079/miniconda3/envs/tf2.3gpu/lib/python3.7/site-packages/pandas/core/frame.py:1554: FutureWarning: Using short name for 'orient' is deprecated. Only the options: ('dict', list, 'series', 'split', 'records', 'index') will be used in a future version. Use one of the above to silence this warning.\n",
      "  FutureWarning,\n"
     ]
    }
   ],
   "source": [
    "import copy\n",
    "normalized_df = pd.DataFrame()\n",
    "for group in ['Group 1', 'Group 2', 'Group 3']:\n",
    "    pretrain_df_group = copy.deepcopy(pretrain_df)\n",
    "    group_df = all_groups[all_groups.group==group].reset_index(drop=True)\n",
    "    group_behav = group_df[group_df.condition=='Ground Truth'][['stim', 'slope', 'inflection']].set_index('stim').T.to_dict('stim')\n",
    "    group_df['d_slope'] = group_df.apply(lambda x: subtract_behav(group_behav, 'slope')(x), axis=1)\n",
    "    group_df['d_inflection'] = group_df.apply(lambda x: subtract_behav(group_behav, 'inflection')(x), axis=1)\n",
    "    pretrain_df_group['d_slope'] = pretrain_df_group.apply(lambda x: subtract_behav(group_behav, 'slope')(x), axis=1)\n",
    "    pretrain_df_group['d_inflection'] = pretrain_df_group.apply(lambda x: subtract_behav(group_behav, 'inflection')(x), axis=1)\n",
    "    normalized_df = pd.concat([normalized_df, group_df, pretrain_df_group]).reset_index(drop=True)"
   ]
  },
  {
   "cell_type": "code",
   "execution_count": 116,
   "id": "13372388",
   "metadata": {},
   "outputs": [],
   "source": [
    "normalized_df = normalized_df.dropna()"
   ]
  },
  {
   "cell_type": "code",
   "execution_count": 117,
   "id": "675c7fc4",
   "metadata": {},
   "outputs": [
    {
     "data": {
      "text/html": [
       "<div>\n",
       "<style scoped>\n",
       "    .dataframe tbody tr th:only-of-type {\n",
       "        vertical-align: middle;\n",
       "    }\n",
       "\n",
       "    .dataframe tbody tr th {\n",
       "        vertical-align: top;\n",
       "    }\n",
       "\n",
       "    .dataframe thead th {\n",
       "        text-align: right;\n",
       "    }\n",
       "</style>\n",
       "<table border=\"1\" class=\"dataframe\">\n",
       "  <thead>\n",
       "    <tr style=\"text-align: right;\">\n",
       "      <th></th>\n",
       "      <th>min_val</th>\n",
       "      <th>max_val</th>\n",
       "      <th>slope</th>\n",
       "      <th>inflection</th>\n",
       "      <th>group</th>\n",
       "      <th>metric</th>\n",
       "      <th>condition</th>\n",
       "      <th>metric_formal</th>\n",
       "      <th>stim</th>\n",
       "      <th>d_slope</th>\n",
       "      <th>d_inflection</th>\n",
       "    </tr>\n",
       "  </thead>\n",
       "  <tbody>\n",
       "    <tr>\n",
       "      <th>0</th>\n",
       "      <td>1.000000e-16</td>\n",
       "      <td>1.000000</td>\n",
       "      <td>0.033214</td>\n",
       "      <td>75.202742</td>\n",
       "      <td>Group 1</td>\n",
       "      <td>rmse</td>\n",
       "      <td>MSE</td>\n",
       "      <td>MSE</td>\n",
       "      <td>ae</td>\n",
       "      <td>-0.088473</td>\n",
       "      <td>23.820172</td>\n",
       "    </tr>\n",
       "    <tr>\n",
       "      <th>1</th>\n",
       "      <td>1.000000e-16</td>\n",
       "      <td>0.945304</td>\n",
       "      <td>0.032496</td>\n",
       "      <td>84.500302</td>\n",
       "      <td>Group 1</td>\n",
       "      <td>rmse</td>\n",
       "      <td>MSE</td>\n",
       "      <td>MSE</td>\n",
       "      <td>af</td>\n",
       "      <td>-0.082862</td>\n",
       "      <td>28.164192</td>\n",
       "    </tr>\n",
       "    <tr>\n",
       "      <th>2</th>\n",
       "      <td>1.000000e-16</td>\n",
       "      <td>0.860692</td>\n",
       "      <td>0.037051</td>\n",
       "      <td>76.503340</td>\n",
       "      <td>Group 1</td>\n",
       "      <td>rmse</td>\n",
       "      <td>MSE</td>\n",
       "      <td>MSE</td>\n",
       "      <td>ag</td>\n",
       "      <td>-0.081716</td>\n",
       "      <td>28.600583</td>\n",
       "    </tr>\n",
       "    <tr>\n",
       "      <th>3</th>\n",
       "      <td>1.000000e-16</td>\n",
       "      <td>0.616709</td>\n",
       "      <td>0.065078</td>\n",
       "      <td>56.980419</td>\n",
       "      <td>Group 1</td>\n",
       "      <td>rmse</td>\n",
       "      <td>MSE</td>\n",
       "      <td>MSE</td>\n",
       "      <td>ah</td>\n",
       "      <td>-0.071602</td>\n",
       "      <td>-11.165764</td>\n",
       "    </tr>\n",
       "    <tr>\n",
       "      <th>4</th>\n",
       "      <td>7.801580e-03</td>\n",
       "      <td>0.904488</td>\n",
       "      <td>0.054682</td>\n",
       "      <td>84.002627</td>\n",
       "      <td>Group 1</td>\n",
       "      <td>rmse</td>\n",
       "      <td>MSE</td>\n",
       "      <td>MSE</td>\n",
       "      <td>be</td>\n",
       "      <td>-0.113781</td>\n",
       "      <td>18.117609</td>\n",
       "    </tr>\n",
       "    <tr>\n",
       "      <th>...</th>\n",
       "      <td>...</td>\n",
       "      <td>...</td>\n",
       "      <td>...</td>\n",
       "      <td>...</td>\n",
       "      <td>...</td>\n",
       "      <td>...</td>\n",
       "      <td>...</td>\n",
       "      <td>...</td>\n",
       "      <td>...</td>\n",
       "      <td>...</td>\n",
       "      <td>...</td>\n",
       "    </tr>\n",
       "    <tr>\n",
       "      <th>206</th>\n",
       "      <td>3.783296e-02</td>\n",
       "      <td>0.859264</td>\n",
       "      <td>0.098685</td>\n",
       "      <td>52.841649</td>\n",
       "      <td>Pre-train</td>\n",
       "      <td>fcosine</td>\n",
       "      <td>Pre-train</td>\n",
       "      <td>Pre-train</td>\n",
       "      <td>bc</td>\n",
       "      <td>-0.090398</td>\n",
       "      <td>-16.651672</td>\n",
       "    </tr>\n",
       "    <tr>\n",
       "      <th>207</th>\n",
       "      <td>9.230453e-02</td>\n",
       "      <td>1.000000</td>\n",
       "      <td>0.065240</td>\n",
       "      <td>101.637249</td>\n",
       "      <td>Pre-train</td>\n",
       "      <td>fcosine</td>\n",
       "      <td>Pre-train</td>\n",
       "      <td>Pre-train</td>\n",
       "      <td>bd</td>\n",
       "      <td>-0.053688</td>\n",
       "      <td>20.611946</td>\n",
       "    </tr>\n",
       "    <tr>\n",
       "      <th>208</th>\n",
       "      <td>1.000000e-16</td>\n",
       "      <td>0.882292</td>\n",
       "      <td>0.056272</td>\n",
       "      <td>30.104017</td>\n",
       "      <td>Pre-train</td>\n",
       "      <td>fcosine</td>\n",
       "      <td>Pre-train</td>\n",
       "      <td>Pre-train</td>\n",
       "      <td>eh</td>\n",
       "      <td>-0.123695</td>\n",
       "      <td>-48.177152</td>\n",
       "    </tr>\n",
       "    <tr>\n",
       "      <th>209</th>\n",
       "      <td>4.780699e-02</td>\n",
       "      <td>1.000000</td>\n",
       "      <td>0.021472</td>\n",
       "      <td>56.000070</td>\n",
       "      <td>Pre-train</td>\n",
       "      <td>fcosine</td>\n",
       "      <td>Pre-train</td>\n",
       "      <td>Pre-train</td>\n",
       "      <td>fg</td>\n",
       "      <td>-0.559270</td>\n",
       "      <td>-22.445266</td>\n",
       "    </tr>\n",
       "    <tr>\n",
       "      <th>210</th>\n",
       "      <td>9.621448e-03</td>\n",
       "      <td>0.790101</td>\n",
       "      <td>0.079525</td>\n",
       "      <td>50.314537</td>\n",
       "      <td>Pre-train</td>\n",
       "      <td>fcosine</td>\n",
       "      <td>Pre-train</td>\n",
       "      <td>Pre-train</td>\n",
       "      <td>fh</td>\n",
       "      <td>-0.114916</td>\n",
       "      <td>-18.434923</td>\n",
       "    </tr>\n",
       "  </tbody>\n",
       "</table>\n",
       "<p>188 rows × 11 columns</p>\n",
       "</div>"
      ],
      "text/plain": [
       "          min_val   max_val     slope  inflection      group   metric  \\\n",
       "0    1.000000e-16  1.000000  0.033214   75.202742    Group 1     rmse   \n",
       "1    1.000000e-16  0.945304  0.032496   84.500302    Group 1     rmse   \n",
       "2    1.000000e-16  0.860692  0.037051   76.503340    Group 1     rmse   \n",
       "3    1.000000e-16  0.616709  0.065078   56.980419    Group 1     rmse   \n",
       "4    7.801580e-03  0.904488  0.054682   84.002627    Group 1     rmse   \n",
       "..            ...       ...       ...         ...        ...      ...   \n",
       "206  3.783296e-02  0.859264  0.098685   52.841649  Pre-train  fcosine   \n",
       "207  9.230453e-02  1.000000  0.065240  101.637249  Pre-train  fcosine   \n",
       "208  1.000000e-16  0.882292  0.056272   30.104017  Pre-train  fcosine   \n",
       "209  4.780699e-02  1.000000  0.021472   56.000070  Pre-train  fcosine   \n",
       "210  9.621448e-03  0.790101  0.079525   50.314537  Pre-train  fcosine   \n",
       "\n",
       "     condition metric_formal stim   d_slope  d_inflection  \n",
       "0          MSE           MSE   ae -0.088473     23.820172  \n",
       "1          MSE           MSE   af -0.082862     28.164192  \n",
       "2          MSE           MSE   ag -0.081716     28.600583  \n",
       "3          MSE           MSE   ah -0.071602    -11.165764  \n",
       "4          MSE           MSE   be -0.113781     18.117609  \n",
       "..         ...           ...  ...       ...           ...  \n",
       "206  Pre-train     Pre-train   bc -0.090398    -16.651672  \n",
       "207  Pre-train     Pre-train   bd -0.053688     20.611946  \n",
       "208  Pre-train     Pre-train   eh -0.123695    -48.177152  \n",
       "209  Pre-train     Pre-train   fg -0.559270    -22.445266  \n",
       "210  Pre-train     Pre-train   fh -0.114916    -18.434923  \n",
       "\n",
       "[188 rows x 11 columns]"
      ]
     },
     "execution_count": 117,
     "metadata": {},
     "output_type": "execute_result"
    }
   ],
   "source": [
    "normalized_df"
   ]
  },
  {
   "cell_type": "code",
   "execution_count": 124,
   "id": "771bd39f",
   "metadata": {},
   "outputs": [],
   "source": [
    "normalized_df = normalized_df.drop(normalized_df[normalized_df.metric_formal=='Ground Truth'].index).reset_index(drop=True)"
   ]
  },
  {
   "cell_type": "code",
   "execution_count": 125,
   "id": "02449b40",
   "metadata": {},
   "outputs": [
    {
     "data": {
      "text/html": [
       "<div>\n",
       "<style scoped>\n",
       "    .dataframe tbody tr th:only-of-type {\n",
       "        vertical-align: middle;\n",
       "    }\n",
       "\n",
       "    .dataframe tbody tr th {\n",
       "        vertical-align: top;\n",
       "    }\n",
       "\n",
       "    .dataframe thead th {\n",
       "        text-align: right;\n",
       "    }\n",
       "</style>\n",
       "<table border=\"1\" class=\"dataframe\">\n",
       "  <thead>\n",
       "    <tr style=\"text-align: right;\">\n",
       "      <th></th>\n",
       "      <th>d_slope</th>\n",
       "      <th>d_inflection</th>\n",
       "    </tr>\n",
       "    <tr>\n",
       "      <th>metric_formal</th>\n",
       "      <th></th>\n",
       "      <th></th>\n",
       "    </tr>\n",
       "  </thead>\n",
       "  <tbody>\n",
       "    <tr>\n",
       "      <th>APD</th>\n",
       "      <td>0.010330</td>\n",
       "      <td>-2.792574</td>\n",
       "    </tr>\n",
       "    <tr>\n",
       "      <th>MSE</th>\n",
       "      <td>-0.137075</td>\n",
       "      <td>6.699365</td>\n",
       "    </tr>\n",
       "    <tr>\n",
       "      <th>Pre-train</th>\n",
       "      <td>-0.121730</td>\n",
       "      <td>0.204055</td>\n",
       "    </tr>\n",
       "  </tbody>\n",
       "</table>\n",
       "</div>"
      ],
      "text/plain": [
       "                d_slope  d_inflection\n",
       "metric_formal                        \n",
       "APD            0.010330     -2.792574\n",
       "MSE           -0.137075      6.699365\n",
       "Pre-train     -0.121730      0.204055"
      ]
     },
     "execution_count": 125,
     "metadata": {},
     "output_type": "execute_result"
    }
   ],
   "source": [
    "normalized_df.groupby('metric_formal')[['d_slope', 'd_inflection']].median()"
   ]
  },
  {
   "cell_type": "code",
   "execution_count": 127,
   "id": "eaa933d0",
   "metadata": {},
   "outputs": [
    {
     "data": {
      "image/png": "[encoded data removed]",
      "text/plain": [
       "<Figure size 432x288 with 1 Axes>"
      ]
     },
     "metadata": {
      "needs_background": "light"
     },
     "output_type": "display_data"
    }
   ],
   "source": [
    "ax = sns.boxplot(x='metric_formal', y='d_slope', data=normalized_df,\n",
    "                order = ['MSE', 'Pre-train','APD', ])"
   ]
  },
  {
   "cell_type": "code",
   "execution_count": 128,
   "id": "b95b6759",
   "metadata": {},
   "outputs": [
    {
     "data": {
      "image/png": "[encoded data removed]",
      "text/plain": [
       "<Figure size 432x288 with 1 Axes>"
      ]
     },
     "metadata": {
      "needs_background": "light"
     },
     "output_type": "display_data"
    }
   ],
   "source": [
    "ax = sns.boxplot(x='metric_formal', y='d_inflection', data=normalized_df,\n",
    "                order = ['MSE', 'Pre-train','APD', ])"
   ]
  },
  {
   "cell_type": "code",
   "execution_count": 131,
   "id": "49d2e2c9",
   "metadata": {},
   "outputs": [
    {
     "name": "stderr",
     "output_type": "stream",
     "text": [
      "/home/shc079/miniconda3/envs/tf2.3gpu/lib/python3.7/site-packages/statsmodels/base/model.py:568: ConvergenceWarning: Maximum Likelihood optimization failed to converge. Check mle_retvals\n",
      "  ConvergenceWarning)\n",
      "/home/shc079/miniconda3/envs/tf2.3gpu/lib/python3.7/site-packages/statsmodels/regression/mixed_linear_model.py:2202: ConvergenceWarning: Retrying MixedLM optimization with lbfgs\n",
      "  ConvergenceWarning)\n",
      "/home/shc079/miniconda3/envs/tf2.3gpu/lib/python3.7/site-packages/statsmodels/base/model.py:568: ConvergenceWarning: Maximum Likelihood optimization failed to converge. Check mle_retvals\n",
      "  ConvergenceWarning)\n",
      "/home/shc079/miniconda3/envs/tf2.3gpu/lib/python3.7/site-packages/statsmodels/regression/mixed_linear_model.py:2202: ConvergenceWarning: Retrying MixedLM optimization with cg\n",
      "  ConvergenceWarning)\n",
      "/home/shc079/miniconda3/envs/tf2.3gpu/lib/python3.7/site-packages/statsmodels/base/model.py:568: ConvergenceWarning: Maximum Likelihood optimization failed to converge. Check mle_retvals\n",
      "  ConvergenceWarning)\n",
      "/home/shc079/miniconda3/envs/tf2.3gpu/lib/python3.7/site-packages/statsmodels/regression/mixed_linear_model.py:2206: ConvergenceWarning: MixedLM optimization failed, trying a different optimizer may help.\n",
      "  warnings.warn(msg, ConvergenceWarning)\n",
      "/home/shc079/miniconda3/envs/tf2.3gpu/lib/python3.7/site-packages/statsmodels/regression/mixed_linear_model.py:2218: ConvergenceWarning: Gradient optimization failed, |grad| = 3.917173\n",
      "  warnings.warn(msg, ConvergenceWarning)\n",
      "/home/shc079/miniconda3/envs/tf2.3gpu/lib/python3.7/site-packages/statsmodels/regression/mixed_linear_model.py:2237: ConvergenceWarning: The MLE may be on the boundary of the parameter space.\n",
      "  warnings.warn(msg, ConvergenceWarning)\n"
     ]
    },
    {
     "data": {
      "text/html": [
       "<table class=\"simpletable\">\n",
       "<tr>\n",
       "       <td>Model:</td>       <td>MixedLM</td> <td>Dependent Variable:</td> <td>d_slope</td>\n",
       "</tr>\n",
       "<tr>\n",
       "  <td>No. Observations:</td>   <td>140</td>         <td>Method:</td>        <td>REML</td>  \n",
       "</tr>\n",
       "<tr>\n",
       "     <td>No. Groups:</td>      <td>24</td>          <td>Scale:</td>        <td>0.0417</td> \n",
       "</tr>\n",
       "<tr>\n",
       "  <td>Min. group size:</td>     <td>4</td>      <td>Log-Likelihood:</td>   <td>15.0324</td>\n",
       "</tr>\n",
       "<tr>\n",
       "  <td>Max. group size:</td>     <td>6</td>        <td>Converged:</td>        <td>No</td>   \n",
       "</tr>\n",
       "<tr>\n",
       "  <td>Mean group size:</td>    <td>5.8</td>            <td></td>              <td></td>    \n",
       "</tr>\n",
       "</table>\n",
       "<table class=\"simpletable\">\n",
       "<tr>\n",
       "                         <td></td>                          <th>Coef.</th> <th>Std.Err.</th>    <th>z</th>   <th>P>|z|</th> <th>[0.025</th> <th>0.975]</th>\n",
       "</tr>\n",
       "<tr>\n",
       "  <th>Intercept</th>                                        <td>0.076</td>   <td>0.031</td>   <td>2.443</td> <td>0.015</td>  <td>0.015</td>  <td>0.136</td>\n",
       "</tr>\n",
       "<tr>\n",
       "  <th>C(metric_formal, Treatment('APD'))[T.MSE]</th>       <td>-0.232</td>   <td>0.042</td>  <td>-5.509</td> <td>0.000</td> <td>-0.315</td> <td>-0.150</td>\n",
       "</tr>\n",
       "<tr>\n",
       "  <th>C(metric_formal, Treatment('APD'))[T.Pre-train]</th> <td>-0.222</td>   <td>0.042</td>  <td>-5.224</td> <td>0.000</td> <td>-0.305</td> <td>-0.139</td>\n",
       "</tr>\n",
       "<tr>\n",
       "  <th>stim Var</th>                                         <td>0.002</td>   <td>0.013</td>     <td></td>      <td></td>       <td></td>       <td></td>   \n",
       "</tr>\n",
       "</table>"
      ],
      "text/plain": [
       "<class 'statsmodels.iolib.summary2.Summary'>\n",
       "\"\"\"\n",
       "                          Mixed Linear Model Regression Results\n",
       "==========================================================================================\n",
       "Model:                         MixedLM             Dependent Variable:             d_slope\n",
       "No. Observations:              140                 Method:                         REML   \n",
       "No. Groups:                    24                  Scale:                          0.0417 \n",
       "Min. group size:               4                   Log-Likelihood:                 15.0324\n",
       "Max. group size:               6                   Converged:                      No     \n",
       "Mean group size:               5.8                                                        \n",
       "------------------------------------------------------------------------------------------\n",
       "                                                Coef.  Std.Err.   z    P>|z| [0.025 0.975]\n",
       "------------------------------------------------------------------------------------------\n",
       "Intercept                                        0.076    0.031  2.443 0.015  0.015  0.136\n",
       "C(metric_formal, Treatment('APD'))[T.MSE]       -0.232    0.042 -5.509 0.000 -0.315 -0.150\n",
       "C(metric_formal, Treatment('APD'))[T.Pre-train] -0.222    0.042 -5.224 0.000 -0.305 -0.139\n",
       "stim Var                                         0.002    0.013                           \n",
       "==========================================================================================\n",
       "\n",
       "\"\"\""
      ]
     },
     "execution_count": 131,
     "metadata": {},
     "output_type": "execute_result"
    }
   ],
   "source": [
    "model = smf.mixedlm(\"d_slope ~  C(metric_formal, Treatment('APD'))\",\n",
    "                    normalized_df,\n",
    "                    groups= \"stim\").fit()\n",
    "\n",
    "model.summary()"
   ]
  },
  {
   "cell_type": "code",
   "execution_count": 130,
   "id": "b3c39308",
   "metadata": {},
   "outputs": [
    {
     "data": {
      "text/html": [
       "<table class=\"simpletable\">\n",
       "<tr>\n",
       "       <td>Model:</td>       <td>MixedLM</td> <td>Dependent Variable:</td> <td>d_inflection</td>\n",
       "</tr>\n",
       "<tr>\n",
       "  <td>No. Observations:</td>   <td>140</td>         <td>Method:</td>           <td>REML</td>    \n",
       "</tr>\n",
       "<tr>\n",
       "     <td>No. Groups:</td>      <td>24</td>          <td>Scale:</td>          <td>404.1419</td>  \n",
       "</tr>\n",
       "<tr>\n",
       "  <td>Min. group size:</td>     <td>4</td>      <td>Log-Likelihood:</td>     <td>-628.8542</td> \n",
       "</tr>\n",
       "<tr>\n",
       "  <td>Max. group size:</td>     <td>6</td>        <td>Converged:</td>           <td>Yes</td>    \n",
       "</tr>\n",
       "<tr>\n",
       "  <td>Mean group size:</td>    <td>5.8</td>            <td></td>                 <td></td>      \n",
       "</tr>\n",
       "</table>\n",
       "<table class=\"simpletable\">\n",
       "<tr>\n",
       "                         <td></td>                          <th>Coef.</th>  <th>Std.Err.</th>    <th>z</th>   <th>P>|z|</th> <th>[0.025</th>  <th>0.975]</th>\n",
       "</tr>\n",
       "<tr>\n",
       "  <th>Intercept</th>                                       <td>-4.527</td>    <td>4.371</td>  <td>-1.036</td> <td>0.300</td> <td>-13.094</td>  <td>4.041</td>\n",
       "</tr>\n",
       "<tr>\n",
       "  <th>C(metric_formal, Treatment('APD'))[T.MSE]</th>        <td>8.199</td>    <td>4.147</td>   <td>1.977</td> <td>0.048</td>  <td>0.071</td>  <td>16.327</td>\n",
       "</tr>\n",
       "<tr>\n",
       "  <th>C(metric_formal, Treatment('APD'))[T.Pre-train]</th>  <td>3.465</td>    <td>4.191</td>   <td>0.827</td> <td>0.408</td> <td>-4.750</td>  <td>11.679</td>\n",
       "</tr>\n",
       "<tr>\n",
       "  <th>stim Var</th>                                        <td>251.392</td>   <td>5.189</td>     <td></td>      <td></td>       <td></td>        <td></td>   \n",
       "</tr>\n",
       "</table>"
      ],
      "text/plain": [
       "<class 'statsmodels.iolib.summary2.Summary'>\n",
       "\"\"\"\n",
       "                           Mixed Linear Model Regression Results\n",
       "============================================================================================\n",
       "Model:                        MixedLM            Dependent Variable:            d_inflection\n",
       "No. Observations:             140                Method:                        REML        \n",
       "No. Groups:                   24                 Scale:                         404.1419    \n",
       "Min. group size:              4                  Log-Likelihood:                -628.8542   \n",
       "Max. group size:              6                  Converged:                     Yes         \n",
       "Mean group size:              5.8                                                           \n",
       "--------------------------------------------------------------------------------------------\n",
       "                                                 Coef.  Std.Err.   z    P>|z|  [0.025 0.975]\n",
       "--------------------------------------------------------------------------------------------\n",
       "Intercept                                        -4.527    4.371 -1.036 0.300 -13.094  4.041\n",
       "C(metric_formal, Treatment('APD'))[T.MSE]         8.199    4.147  1.977 0.048   0.071 16.327\n",
       "C(metric_formal, Treatment('APD'))[T.Pre-train]   3.465    4.191  0.827 0.408  -4.750 11.679\n",
       "stim Var                                        251.392    5.189                            \n",
       "============================================================================================\n",
       "\n",
       "\"\"\""
      ]
     },
     "execution_count": 130,
     "metadata": {},
     "output_type": "execute_result"
    }
   ],
   "source": [
    "model = smf.mixedlm(\"d_inflection ~  C(metric_formal, Treatment('APD'))\",\n",
    "                    normalized_df,\n",
    "                    groups= \"stim\").fit()\n",
    "\n",
    "model.summary()"
   ]
  },
  {
   "cell_type": "code",
   "execution_count": null,
   "id": "d0217bd9",
   "metadata": {},
   "outputs": [],
   "source": []
  }
 ],
 "metadata": {
  "kernelspec": {
   "display_name": "Python 3",
   "language": "python",
   "name": "python3"
  },
  "language_info": {
   "codemirror_mode": {
    "name": "ipython",
    "version": 3
   },
   "file_extension": ".py",
   "mimetype": "text/x-python",
   "name": "python",
   "nbconvert_exporter": "python",
   "pygments_lexer": "ipython3",
   "version": "3.7.10"
  }
 },
 "nbformat": 4,
 "nbformat_minor": 5
}
